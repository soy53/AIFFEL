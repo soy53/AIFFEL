{
 "cells": [
  {
   "cell_type": "markdown",
   "id": "480a9bab",
   "metadata": {},
   "source": [
    "# Chapter 3. 조건문\n",
    "## 03-1. 불 자료형과 if 조건문"
   ]
  },
  {
   "cell_type": "markdown",
   "id": "8ab5e177",
   "metadata": {},
   "source": [
    "### if 조건문 사용"
   ]
  },
  {
   "cell_type": "code",
   "execution_count": 1,
   "id": "dd1837a0",
   "metadata": {},
   "outputs": [
    {
     "name": "stdout",
     "output_type": "stream",
     "text": [
      "정수 입력>273\n",
      "양수입니다\n"
     ]
    }
   ],
   "source": [
    "number = input(\"정수 입력>\")\n",
    "number = int(number)\n",
    "\n",
    "if number > 0:\n",
    "    print(\"양수입니다\")\n",
    "    \n",
    "if number < 0:\n",
    "    print(\"음수입니다\")\n",
    "    \n",
    "if number == 0:\n",
    "    print(\"0입니다\")"
   ]
  },
  {
   "cell_type": "markdown",
   "id": "d18aff4d",
   "metadata": {},
   "source": [
    "### 날짜/시간 활용하기"
   ]
  },
  {
   "cell_type": "code",
   "execution_count": 2,
   "id": "39bda2d6",
   "metadata": {},
   "outputs": [
    {
     "name": "stdout",
     "output_type": "stream",
     "text": [
      "2022 년\n",
      "12 월\n",
      "14 일\n",
      "8 시\n",
      "40 분\n",
      "34 초\n"
     ]
    }
   ],
   "source": [
    "import datetime # 날짜/시간 관련된 기능\n",
    "\n",
    "now = datetime.datetime.now() # 현재 날짜/시간\n",
    "\n",
    "print(now.year, \"년\")\n",
    "print(now.month, \"월\")\n",
    "print(now.day, \"일\")\n",
    "print(now.hour, \"시\")\n",
    "print(now.minute, \"분\")\n",
    "print(now.second, \"초\")"
   ]
  },
  {
   "cell_type": "code",
   "execution_count": 5,
   "id": "18f8073c",
   "metadata": {},
   "outputs": [
    {
     "name": "stdout",
     "output_type": "stream",
     "text": [
      "2022년 12월 14일 8시 45분 10초\n"
     ]
    }
   ],
   "source": [
    "# 날짜/시간 한 줄로 출력하기\n",
    "now = datetime.datetime.now()\n",
    "\n",
    "print(\"{}년 {}월 {}일 {}시 {}분 {}초\".format(\n",
    "    now.year,\n",
    "    now.month,\n",
    "    now.day,\n",
    "    now.hour,\n",
    "    now.minute,\n",
    "    now.second\n",
    "))"
   ]
  },
  {
   "cell_type": "code",
   "execution_count": 6,
   "id": "21dc5813",
   "metadata": {},
   "outputs": [
    {
     "name": "stdout",
     "output_type": "stream",
     "text": [
      "현재 시각은 8시 47분으로 오전입니다!\n"
     ]
    }
   ],
   "source": [
    "# 오전/오후를 구분\n",
    "now = datetime.datetime.now()\n",
    "\n",
    "if now.hour < 12:\n",
    "    print(\"현재 시각은 {}시 {}분으로 오전입니다!\".format(now.hour, now.minute))\n",
    "    \n",
    "if now.hour > 12:\n",
    "    print(\"현재 시각은 {}시 {}분으로 오후입니다!\".format(now.hour, now.minute))"
   ]
  },
  {
   "cell_type": "code",
   "execution_count": 7,
   "id": "018a1df7",
   "metadata": {},
   "outputs": [
    {
     "name": "stdout",
     "output_type": "stream",
     "text": [
      "이번 달은 12월로 겨울입니다!\n"
     ]
    }
   ],
   "source": [
    "# 계절 구분\n",
    "now = datetime.datetime.now()\n",
    "\n",
    "if 3 <= now.month <= 5:\n",
    "    print(\"이번 달은 {}월로 봄입니다!\".format(now.month))\n",
    "    \n",
    "if 6 <= now.month <= 8:\n",
    "    print(\"이번 달은 {}월로 여름입니다!\".format(now.month))\n",
    "\n",
    "if 9 <= now.month <= 11:\n",
    "    print(\"이번 달은 {}월로 가을입니다!\".format(now.month))\n",
    "    \n",
    "if 1 <= now.month <= 2 or now.month == 12:\n",
    "    print(\"이번 달은 {}월로 겨울입니다!\".format(now.month))"
   ]
  },
  {
   "cell_type": "markdown",
   "id": "67591530",
   "metadata": {},
   "source": [
    "### 짝수와 홀수 구분하기"
   ]
  },
  {
   "cell_type": "code",
   "execution_count": 9,
   "id": "151ee752",
   "metadata": {},
   "outputs": [
    {
     "name": "stdout",
     "output_type": "stream",
     "text": [
      "정수입력> 273\n",
      "홀수입니다\n"
     ]
    }
   ],
   "source": [
    "# 짝수/홀수 구분 1\n",
    "number = input(\"정수입력> \")\n",
    "\n",
    "last_character = number[-1]\n",
    "\n",
    "last_number = int(last_character) # 정수로 변환\n",
    "\n",
    "if last_number == 0 \\\n",
    "    or last_number == 2 \\\n",
    "    or last_number == 4 \\\n",
    "    or last_number == 6 \\\n",
    "    or last_number == 8:\n",
    "    print(\"짝수입니다\")\n",
    "    \n",
    "if last_number == 1 \\\n",
    "    or last_number == 3 \\\n",
    "    or last_number == 5 \\\n",
    "    or last_number == 7 \\\n",
    "    or last_number == 9:\n",
    "    print(\"홀수입니다\")"
   ]
  },
  {
   "cell_type": "code",
   "execution_count": 11,
   "id": "56d91462",
   "metadata": {},
   "outputs": [
    {
     "name": "stdout",
     "output_type": "stream",
     "text": [
      "정수입력> 273\n",
      "짝수입니다\n"
     ]
    }
   ],
   "source": [
    "# 주의\n",
    "number = input(\"정수입력> \")\n",
    "\n",
    "last_character = number[-1]\n",
    "\n",
    "last_number = int(last_character) # 정수로 변환\n",
    "\n",
    "if last_number == 0 or 2 or 4 or 6 or 8:\n",
    "    print(\"짝수입니다\")"
   ]
  },
  {
   "cell_type": "markdown",
   "id": "3939fef0",
   "metadata": {},
   "source": [
    "- if last_number == 0 or 2 or 4 or 6 or 8: 이렇게 작성할 경우 0을 제외한 모든 숫자를 True로 변환한 후에 or 연산이 이루어지므로 전체 연산 결과 True가 나오기 때문에 홀수를 입력해도 결과값이 True여서 \"짝수입니다\"가 출력된다."
   ]
  },
  {
   "cell_type": "code",
   "execution_count": 12,
   "id": "40e59553",
   "metadata": {},
   "outputs": [
    {
     "name": "stdout",
     "output_type": "stream",
     "text": [
      "정수 입력> 52\n",
      "짝수입니다\n"
     ]
    }
   ],
   "source": [
    "# 짝수/홀수 구분 2(in 문자열 연산자 활용)\n",
    "number = input(\"정수 입력> \")\n",
    "last_character = number[-1]\n",
    "\n",
    "if last_character in \"02468\":\n",
    "    print(\"짝수입니다\")\n",
    "    \n",
    "if last_character in \"13579\":\n",
    "    print(\"홀수입니다\")"
   ]
  },
  {
   "cell_type": "code",
   "execution_count": 13,
   "id": "13067dd7",
   "metadata": {},
   "outputs": [
    {
     "name": "stdout",
     "output_type": "stream",
     "text": [
      "정수 입력> 52\n",
      "짝수입니다\n"
     ]
    }
   ],
   "source": [
    "# 짝수/홀수 구분 3(나머지 연산자 활용)\n",
    "number = input(\"정수 입력> \")\n",
    "number = int(number)\n",
    "\n",
    "if number % 2 == 0:\n",
    "    print(\"짝수입니다\")\n",
    "    \n",
    "if number % 2 == 1:\n",
    "    print(\"홀수입니다\")"
   ]
  },
  {
   "cell_type": "markdown",
   "id": "116cadb8",
   "metadata": {},
   "source": [
    "## 03-2. if~else와 elif 구문\n",
    "### else 조건문 활용"
   ]
  },
  {
   "cell_type": "code",
   "execution_count": 14,
   "id": "4f47f498",
   "metadata": {},
   "outputs": [
    {
     "name": "stdout",
     "output_type": "stream",
     "text": [
      "정수입력> 13\n",
      "홀수입니다\n"
     ]
    }
   ],
   "source": [
    "number = input(\"정수입력> \")\n",
    "number = int(number)\n",
    "\n",
    "if number % 2 == 0:\n",
    "    print(\"짝수입니다\")\n",
    "    \n",
    "else:\n",
    "    print(\"홀수입니다\")"
   ]
  },
  {
   "cell_type": "markdown",
   "id": "bd131de4",
   "metadata": {},
   "source": [
    "### elif 구문"
   ]
  },
  {
   "cell_type": "code",
   "execution_count": 16,
   "id": "a3e498ad",
   "metadata": {},
   "outputs": [
    {
     "name": "stdout",
     "output_type": "stream",
     "text": [
      "현재는 겨울입니다\n"
     ]
    }
   ],
   "source": [
    "# 계절 구분\n",
    "now = datetime.datetime.now()\n",
    "\n",
    "if 3 <= now.month <= 5:\n",
    "    print(\"현재는 봄입니다\")\n",
    "    \n",
    "elif 6 <= now.month <= 8:\n",
    "    print(\"현재는 여름입니다\")\n",
    "\n",
    "elif 9 <= now.month <= 11:\n",
    "    print(\"현재는 가을입니다\")\n",
    "    \n",
    "else:\n",
    "    print(\"현재는 겨울입니다\")"
   ]
  },
  {
   "cell_type": "markdown",
   "id": "28ae124d",
   "metadata": {},
   "source": [
    "### if 조건문을 효율적으로 사용하기"
   ]
  },
  {
   "cell_type": "markdown",
   "id": "738a770e",
   "metadata": {},
   "source": [
    "- 예제 : 학점과 학점에 대한 학생 평가  \n",
    "4.5 : 신 / 4.5 ~ 4.2 : 교수님의 사랑 / 4.2 ~ 3.5 : 현 체제의 수호자 / 3.5 ~ 2.8 : 일반인 / 2.8 ~ 2.3 : 일탈을 꿈꾸는 소시민 / 2.3 ~ 1.75 : 오락문화의 선구자 / 1.75 ~ 1.0 : 불가촉천민 / 1.0 ~ 0.5 : 자벌레 / 0.5 ~ 0 : 플랑크톤 / 0 : 시대를 앞서가는 혁명의 씨앗"
   ]
  },
  {
   "cell_type": "code",
   "execution_count": 17,
   "id": "e66c733a",
   "metadata": {},
   "outputs": [
    {
     "name": "stdout",
     "output_type": "stream",
     "text": [
      "학점 입력> 3.4\n",
      "일반인\n"
     ]
    }
   ],
   "source": [
    "score = float(input(\"학점 입력> \"))\n",
    "\n",
    "if score == 4.5:\n",
    "    print(\"신\")\n",
    "    \n",
    "elif 4.2 <= score < 4.5:\n",
    "    print(\"교수님의 사랑\")\n",
    "    \n",
    "elif 3.5 <= score < 4.2:\n",
    "    print(\"현 체제의 수호자\")\n",
    "    \n",
    "elif 2.8 <= score < 3.5:\n",
    "    print(\"일반인\")\n",
    "\n",
    "elif 2.3 <= score < 2.8:\n",
    "    print(\"일탈을 꿈꾸는 소시민\")\n",
    "    \n",
    "elif 1.75 <= score < 2.3:\n",
    "    print(\"오락문화의 선구자\")\n",
    "    \n",
    "elif 1.0 <= score < 1.75:\n",
    "    print(\"불가촉천민\")\n",
    "    \n",
    "elif 0.5 <= score < 1.0:\n",
    "    print(\"자벌레\")\n",
    "    \n",
    "elif 0 < score < 0.5:\n",
    "    print(\"플랑크톤\")\n",
    "    \n",
    "else:\n",
    "    print(\"시대를 앞서가는 혁명의 씨앗\")"
   ]
  },
  {
   "cell_type": "code",
   "execution_count": 18,
   "id": "a3432e44",
   "metadata": {},
   "outputs": [
    {
     "name": "stdout",
     "output_type": "stream",
     "text": [
      "학점 입력> 3.4\n",
      "일반인\n"
     ]
    }
   ],
   "source": [
    "score = float(input(\"학점 입력> \"))\n",
    "\n",
    "if score == 4.5:\n",
    "    print(\"신\")\n",
    "    \n",
    "elif 4.2 <= score:\n",
    "    print(\"교수님의 사랑\")\n",
    "    \n",
    "elif 3.5 <= score:\n",
    "    print(\"현 체제의 수호자\")\n",
    "    \n",
    "elif 2.8 <= score:\n",
    "    print(\"일반인\")\n",
    "\n",
    "elif 2.3 <= score:\n",
    "    print(\"일탈을 꿈꾸는 소시민\")\n",
    "    \n",
    "elif 1.75 <= score:\n",
    "    print(\"오락문화의 선구자\")\n",
    "    \n",
    "elif 1.0 <= score:\n",
    "    print(\"불가촉천민\")\n",
    "    \n",
    "elif 0.5 <= score:\n",
    "    print(\"자벌레\")\n",
    "    \n",
    "elif 0 < score:\n",
    "    print(\"플랑크톤\")\n",
    "    \n",
    "else:\n",
    "    print(\"시대를 앞서가는 혁명의 씨앗\")"
   ]
  },
  {
   "cell_type": "markdown",
   "id": "08c8d205",
   "metadata": {},
   "source": [
    "- if 조건문은 위에서 아래로 흐르며, else 구문과 elif 구문은 이전 조건이 맞지 않을 때 넘어오기 때문에 이미 제외된 조건을 한 번 더 검사할 필요 없다."
   ]
  },
  {
   "cell_type": "markdown",
   "id": "af93f192",
   "metadata": {},
   "source": [
    "### False로 변환되는 값"
   ]
  },
  {
   "cell_type": "code",
   "execution_count": 21,
   "id": "4b885f77",
   "metadata": {},
   "outputs": [
    {
     "name": "stdout",
     "output_type": "stream",
     "text": [
      "# if 조건문에 0 넣기\n",
      "0은 False로 변환됩니다\n",
      "\n",
      "# if 조건문에 빈 문자열 넣기\n",
      "빈 문자열은 False로 변환됩니다\n"
     ]
    }
   ],
   "source": [
    "print(\"# if 조건문에 0 넣기\")\n",
    "if 0:\n",
    "    print(\"0은 True로 변환됩니다\")\n",
    "    \n",
    "else:\n",
    "    print(\"0은 False로 변환됩니다\")\n",
    "    print() # 칸 띄우기\n",
    "\n",
    "  \n",
    "print(\"# if 조건문에 빈 문자열 넣기\")\n",
    "if \"\":\n",
    "    print(\"빈 문자열은 True로 변환됩니다\")\n",
    "    \n",
    "else:\n",
    "    print(\"빈 문자열은 False로 변환됩니다\")"
   ]
  },
  {
   "cell_type": "markdown",
   "id": "5b80f26b",
   "metadata": {},
   "source": [
    "### pass 키워드"
   ]
  },
  {
   "cell_type": "code",
   "execution_count": 21,
   "id": "390d5daa",
   "metadata": {},
   "outputs": [
    {
     "name": "stdout",
     "output_type": "stream",
     "text": [
      "정수 입력>3\n"
     ]
    }
   ],
   "source": [
    "number = int(input(\"정수 입력>\"))\n",
    "\n",
    "if number > 0:\n",
    "    pass # 양수일 때, 아직 미구현\n",
    "\n",
    "else:\n",
    "    pass # 음수일 때, 아직 미구현"
   ]
  },
  {
   "cell_type": "code",
   "execution_count": 22,
   "id": "4f03e93e",
   "metadata": {},
   "outputs": [
    {
     "name": "stdout",
     "output_type": "stream",
     "text": [
      "정수 입력>3\n"
     ]
    },
    {
     "ename": "NotImplementedError",
     "evalue": "",
     "output_type": "error",
     "traceback": [
      "\u001b[0;31m---------------------------------------------------------------------------\u001b[0m",
      "\u001b[0;31mNotImplementedError\u001b[0m                       Traceback (most recent call last)",
      "Cell \u001b[0;32mIn[22], line 4\u001b[0m\n\u001b[1;32m      1\u001b[0m number \u001b[38;5;241m=\u001b[39m \u001b[38;5;28mint\u001b[39m(\u001b[38;5;28minput\u001b[39m(\u001b[38;5;124m\"\u001b[39m\u001b[38;5;124m정수 입력>\u001b[39m\u001b[38;5;124m\"\u001b[39m))\n\u001b[1;32m      3\u001b[0m \u001b[38;5;28;01mif\u001b[39;00m number \u001b[38;5;241m>\u001b[39m \u001b[38;5;241m0\u001b[39m:\n\u001b[0;32m----> 4\u001b[0m     \u001b[38;5;28;01mraise\u001b[39;00m \u001b[38;5;167;01mNotImplementedError\u001b[39;00m \u001b[38;5;66;03m# 양수일 때, 아직 미구현\u001b[39;00m\n\u001b[1;32m      6\u001b[0m \u001b[38;5;28;01melse\u001b[39;00m:\n\u001b[1;32m      7\u001b[0m     \u001b[38;5;28;01mraise\u001b[39;00m \u001b[38;5;167;01mNotImplementedError\u001b[39;00m \u001b[38;5;66;03m# 음수일 때, 아직 미구현\u001b[39;00m\n",
      "\u001b[0;31mNotImplementedError\u001b[0m: "
     ]
    }
   ],
   "source": [
    "number = int(input(\"정수 입력>\"))\n",
    "\n",
    "if number > 0:\n",
    "    raise NotImplementedError # 양수일 때, 아직 미구현\n",
    "\n",
    "else:\n",
    "    raise NotImplementedError # 음수일 때, 아직 미구현"
   ]
  },
  {
   "cell_type": "markdown",
   "id": "9f6abea6",
   "metadata": {},
   "source": [
    "## 도전문제"
   ]
  },
  {
   "cell_type": "code",
   "execution_count": 10,
   "id": "d1a06c20",
   "metadata": {},
   "outputs": [
    {
     "name": "stdout",
     "output_type": "stream",
     "text": [
      "입력: 지금 몇 시야?\n",
      "지금은 18시입니다.\n"
     ]
    }
   ],
   "source": [
    "word = input(\"입력: \")\n",
    "\n",
    "import datetime # 날짜/시간 관련된 기능\n",
    "\n",
    "now = datetime.datetime.now() # 현재 날짜/시간\n",
    "\n",
    "if word[:2] in \"안녕\":\n",
    "    print(\"안녕하세요.\")\n",
    "    \n",
    "elif word[:6] in \"지금 몇 시\":\n",
    "    print(\"지금은 {}시입니다.\".format(now.hour))\n",
    "    \n",
    "else:\n",
    "    print(\"{}\".format(word))"
   ]
  },
  {
   "cell_type": "code",
   "execution_count": 16,
   "id": "02aeffa5",
   "metadata": {},
   "outputs": [
    {
     "name": "stdout",
     "output_type": "stream",
     "text": [
      "정수를 입력해주세요: 273\n",
      "273은 2로 나누어 떨어지는 숫자가 아닙니다.\n",
      "273은 3로 나누어 떨어지는 숫자입니다.\n",
      "273은 4로 나누어 떨어지는 숫자가 아닙니다.\n",
      "273은 5로 나누어 떨어지는 숫자가 아닙니다.\n"
     ]
    }
   ],
   "source": [
    "number = int(input(\"정수를 입력해주세요: \"))\n",
    "\n",
    "for i in range(2,6):\n",
    "    if number % i == 0:\n",
    "        print(\"{}은 \".format(number), i, \"로 나누어 떨어지는 숫자입니다.\", sep=\"\")\n",
    "    else:\n",
    "        print(\"{}은 \".format(number), i, \"로 나누어 떨어지는 숫자가 아닙니다.\", sep=\"\")"
   ]
  },
  {
   "cell_type": "markdown",
   "id": "f93e3d8b",
   "metadata": {},
   "source": [
    "------"
   ]
  },
  {
   "cell_type": "markdown",
   "id": "5bb92fac",
   "metadata": {},
   "source": [
    "## 1. 시험 점수를 입력받아 90 ~ 100점은 A, 80 ~ 89점은 B, 70 ~ 79점은 C, 60 ~ 69점은 D, 나머지 점수는 F를 출력하는 프로그램을 작성하시오."
   ]
  },
  {
   "cell_type": "code",
   "execution_count": 25,
   "id": "af41cfb8",
   "metadata": {},
   "outputs": [
    {
     "name": "stdout",
     "output_type": "stream",
     "text": [
      "시험 점수를 입력하세요: 100\n",
      "A\n"
     ]
    }
   ],
   "source": [
    "score = int(input(\"시험 점수를 입력하세요: \"))\n",
    "0 <= score <=100\n",
    "            \n",
    "if 90 <= score <= 100:\n",
    "    print(\"A\")\n",
    "    \n",
    "elif 80 <= score:\n",
    "    print(\"B\")\n",
    "\n",
    "elif 70 <= score:\n",
    "    print(\"C\")\n",
    "            \n",
    "elif 60 <= score:\n",
    "    print(\"D\")\n",
    "            \n",
    "else:\n",
    "    print(\"F\")"
   ]
  },
  {
   "cell_type": "markdown",
   "id": "1015d27f",
   "metadata": {},
   "source": [
    "## 2. x 좌표 (x, y)를 차례대로 담은 정수 배열 dot이 매개변수로 주어집니다. 좌표 dot이 사분면 중 어디에 속하는지 1, 2, 3, 4 중 하나를 return 하도록 solution 함수를 완성해주세요."
   ]
  },
  {
   "cell_type": "code",
   "execution_count": 30,
   "id": "1c80af3a",
   "metadata": {},
   "outputs": [
    {
     "ename": "NameError",
     "evalue": "name 'dot' is not defined",
     "output_type": "error",
     "traceback": [
      "\u001b[0;31m---------------------------------------------------------------------------\u001b[0m",
      "\u001b[0;31mNameError\u001b[0m                                 Traceback (most recent call last)",
      "Cell \u001b[0;32mIn[30], line 18\u001b[0m\n\u001b[1;32m     15\u001b[0m         \u001b[38;5;28mprint\u001b[39m(\u001b[38;5;124m\"\u001b[39m\u001b[38;5;124m4\u001b[39m\u001b[38;5;124m\"\u001b[39m)\n\u001b[1;32m     16\u001b[0m     \u001b[38;5;28;01mreturn\u001b[39;00m answer\n\u001b[0;32m---> 18\u001b[0m solution(\u001b[43mdot\u001b[49m[\u001b[38;5;241m2\u001b[39m,\u001b[38;5;241m2\u001b[39m])\n",
      "\u001b[0;31mNameError\u001b[0m: name 'dot' is not defined"
     ]
    }
   ],
   "source": [
    "def solution(dot):\n",
    "    len(dot) <= 2\n",
    "    \n",
    "    \n",
    "    if dot[0] > 0 and dot[1] > 0:\n",
    "        print(\"1\")\n",
    "        \n",
    "    elif dot[0] < 0 and dot[1] > 0:\n",
    "        print(\"2\")\n",
    "        \n",
    "    elif dot[0] < 0 and dot[1] < 0:\n",
    "        print(\"3\")\n",
    "        \n",
    "    else:\n",
    "        print(\"4\")\n",
    "    return answer\n",
    "\n",
    "solution(dot[2,2])\n",
    "\n",
    "# 비교 연산자(is, is not, ==, !=, <, >, <=, >=)를 먼저 판단하고 논리 연산자(not, and, or)를 판단하게 됩니다"
   ]
  },
  {
   "cell_type": "code",
   "execution_count": null,
   "id": "04b995f3",
   "metadata": {},
   "outputs": [],
   "source": []
  }
 ],
 "metadata": {
  "kernelspec": {
   "display_name": "Python 3 (ipykernel)",
   "language": "python",
   "name": "python3"
  },
  "language_info": {
   "codemirror_mode": {
    "name": "ipython",
    "version": 3
   },
   "file_extension": ".py",
   "mimetype": "text/x-python",
   "name": "python",
   "nbconvert_exporter": "python",
   "pygments_lexer": "ipython3",
   "version": "3.10.8"
  }
 },
 "nbformat": 4,
 "nbformat_minor": 5
}
