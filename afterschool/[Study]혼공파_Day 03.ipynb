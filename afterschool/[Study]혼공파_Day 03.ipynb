{
 "cells": [
  {
   "cell_type": "markdown",
   "id": "4024b583",
   "metadata": {},
   "source": [
    "## 알고리즘 문제풀이\n",
    "- [백준_입출력과 사칙연산](https://www.acmicpc.net/step/1)"
   ]
  },
  {
   "cell_type": "code",
   "execution_count": 1,
   "id": "201d8c51",
   "metadata": {},
   "outputs": [
    {
     "name": "stdout",
     "output_type": "stream",
     "text": [
      "Hello World!\n"
     ]
    }
   ],
   "source": [
    "# 1\n",
    "print(\"Hello World!\")"
   ]
  },
  {
   "cell_type": "code",
   "execution_count": 2,
   "id": "e80c75f4",
   "metadata": {},
   "outputs": [
    {
     "name": "stdout",
     "output_type": "stream",
     "text": [
      "첫 번째 숫자를 입력하세요: 1\n",
      "두 번쨰 숫자를 입력하세요: 2\n",
      "3\n"
     ]
    }
   ],
   "source": [
    "# 2\n",
    "A = int(input(\"첫 번째 숫자를 입력하세요: \"))\n",
    "B = int(input(\"두 번쨰 숫자를 입력하세요: \"))\n",
    "\n",
    "print(A + B)"
   ]
  },
  {
   "cell_type": "code",
   "execution_count": 3,
   "id": "3ea1c5ea",
   "metadata": {},
   "outputs": [
    {
     "name": "stdout",
     "output_type": "stream",
     "text": [
      "첫 번째 숫자를 입력하세요: 3\n",
      "두 번쨰 숫자를 입력하세요: 2\n",
      "1\n"
     ]
    }
   ],
   "source": [
    "# 3\n",
    "A = int(input(\"첫 번째 숫자를 입력하세요: \"))\n",
    "B = int(input(\"두 번쨰 숫자를 입력하세요: \"))\n",
    "\n",
    "print(A - B)"
   ]
  },
  {
   "cell_type": "code",
   "execution_count": 4,
   "id": "82a3a9f2",
   "metadata": {},
   "outputs": [
    {
     "name": "stdout",
     "output_type": "stream",
     "text": [
      "첫 번째 숫자를 입력하세요: 3\n",
      "두 번쨰 숫자를 입력하세요: 4\n",
      "12\n"
     ]
    }
   ],
   "source": [
    "# 4\n",
    "A = int(input(\"첫 번째 숫자를 입력하세요: \"))\n",
    "B = int(input(\"두 번쨰 숫자를 입력하세요: \"))\n",
    "\n",
    "print(A * B)"
   ]
  },
  {
   "cell_type": "code",
   "execution_count": 5,
   "id": "13f87ab7",
   "metadata": {},
   "outputs": [
    {
     "name": "stdout",
     "output_type": "stream",
     "text": [
      "첫 번째 숫자를 입력하세요: 1\n",
      "두 번쨰 숫자를 입력하세요: 3\n",
      "0.3333333333333333\n"
     ]
    }
   ],
   "source": [
    "# 5\n",
    "A = int(input(\"첫 번째 숫자를 입력하세요: \"))\n",
    "B = int(input(\"두 번쨰 숫자를 입력하세요: \"))\n",
    "\n",
    "print(A / B)"
   ]
  },
  {
   "cell_type": "code",
   "execution_count": 6,
   "id": "ef2339a7",
   "metadata": {},
   "outputs": [
    {
     "name": "stdout",
     "output_type": "stream",
     "text": [
      "첫 번째 숫자를 입력하세요: 7\n",
      "두 번쨰 숫자를 입력하세요: 3\n",
      "10\n",
      "4\n",
      "21\n",
      "2\n",
      "1\n"
     ]
    }
   ],
   "source": [
    "# 6\n",
    "A = int(input(\"첫 번째 숫자를 입력하세요: \"))\n",
    "B = int(input(\"두 번쨰 숫자를 입력하세요: \"))\n",
    "\n",
    "print(A + B)\n",
    "print(A - B)\n",
    "print(A * B)\n",
    "print(int(A / B)) # 몫\n",
    "print(A % B) # 나머지"
   ]
  },
  {
   "cell_type": "code",
   "execution_count": 7,
   "id": "38299c7b",
   "metadata": {},
   "outputs": [
    {
     "name": "stdout",
     "output_type": "stream",
     "text": [
      "ID를 입력하세요: joonas\n",
      "joonas??!\n"
     ]
    }
   ],
   "source": [
    "# 7\n",
    "id = input(\"ID를 입력하세요: \")\n",
    "\n",
    "print(id+\"??!\")"
   ]
  },
  {
   "cell_type": "code",
   "execution_count": 9,
   "id": "e149fa5b",
   "metadata": {},
   "outputs": [
    {
     "name": "stdout",
     "output_type": "stream",
     "text": [
      "불기 연도를 입력하세요: 2541\n",
      "서기 연도: 1998\n"
     ]
    }
   ],
   "source": [
    "# 8\n",
    "year = int(input(\"불기 연도를 입력하세요: \"))\n",
    "\n",
    "print(\"서기 연도:\", year - 543)"
   ]
  },
  {
   "cell_type": "code",
   "execution_count": 16,
   "id": "672778f3",
   "metadata": {},
   "outputs": [
    {
     "name": "stdout",
     "output_type": "stream",
     "text": [
      "입력: 012227\n",
      "1 0 0 0 0 1\n"
     ]
    }
   ],
   "source": [
    "# 9\n",
    "chess = input(\"입력: \")\n",
    "count = list(chess)\n",
    "\n",
    "print(1-int(count[0]), 1-int(count[1]), 2-int(count[2]), 2-int(count[3]), 2-int(count[4]), 8-int(count[5]))"
   ]
  },
  {
   "cell_type": "code",
   "execution_count": 18,
   "id": "75c727c8",
   "metadata": {},
   "outputs": [
    {
     "name": "stdout",
     "output_type": "stream",
     "text": [
      "입력: 584\n",
      "1\n",
      "1\n",
      "0\n",
      "0\n"
     ]
    }
   ],
   "source": [
    "# 10\n",
    "number = input(\"입력: \")\n",
    "number = list(number)\n",
    "A = int(number[0])\n",
    "B = int(number[1])\n",
    "C = int(number[2])\n",
    "\n",
    "print((A+B)%C)\n",
    "print(((A%C) + (B%C))%C)\n",
    "print((A*B)%C)\n",
    "print(((A%C) * (B%C))%C)"
   ]
  },
  {
   "cell_type": "code",
   "execution_count": 22,
   "id": "ea07e3a9",
   "metadata": {},
   "outputs": [
    {
     "name": "stdout",
     "output_type": "stream",
     "text": [
      "첫 번째 숫자를 입력하세요: 472\n",
      "두 번째 숫자를 입력하세요: 385\n"
     ]
    },
    {
     "ename": "TypeError",
     "evalue": "'int' object is not iterable",
     "output_type": "error",
     "traceback": [
      "\u001b[0;31m---------------------------------------------------------------------------\u001b[0m",
      "\u001b[0;31mTypeError\u001b[0m                                 Traceback (most recent call last)",
      "\u001b[0;32m/tmp/ipykernel_384/3689819993.py\u001b[0m in \u001b[0;36m<module>\u001b[0;34m\u001b[0m\n\u001b[1;32m      3\u001b[0m \u001b[0mnumber_2\u001b[0m \u001b[0;34m=\u001b[0m \u001b[0mint\u001b[0m\u001b[0;34m(\u001b[0m\u001b[0minput\u001b[0m\u001b[0;34m(\u001b[0m\u001b[0;34m\"두 번째 숫자를 입력하세요: \"\u001b[0m\u001b[0;34m)\u001b[0m\u001b[0;34m)\u001b[0m\u001b[0;34m\u001b[0m\u001b[0;34m\u001b[0m\u001b[0m\n\u001b[1;32m      4\u001b[0m \u001b[0;34m\u001b[0m\u001b[0m\n\u001b[0;32m----> 5\u001b[0;31m \u001b[0mnumber_1\u001b[0m \u001b[0;34m=\u001b[0m \u001b[0mlist\u001b[0m\u001b[0;34m(\u001b[0m\u001b[0mnumber_1\u001b[0m\u001b[0;34m)\u001b[0m\u001b[0;34m\u001b[0m\u001b[0;34m\u001b[0m\u001b[0m\n\u001b[0m\u001b[1;32m      6\u001b[0m \u001b[0mA\u001b[0m \u001b[0;34m=\u001b[0m \u001b[0mint\u001b[0m\u001b[0;34m(\u001b[0m\u001b[0mnumber_1\u001b[0m\u001b[0;34m[\u001b[0m\u001b[0;36m0\u001b[0m\u001b[0;34m]\u001b[0m\u001b[0;34m)\u001b[0m\u001b[0;34m\u001b[0m\u001b[0;34m\u001b[0m\u001b[0m\n\u001b[1;32m      7\u001b[0m \u001b[0mB\u001b[0m \u001b[0;34m=\u001b[0m \u001b[0mint\u001b[0m\u001b[0;34m(\u001b[0m\u001b[0mnumber_1\u001b[0m\u001b[0;34m[\u001b[0m\u001b[0;36m1\u001b[0m\u001b[0;34m]\u001b[0m\u001b[0;34m)\u001b[0m\u001b[0;34m\u001b[0m\u001b[0;34m\u001b[0m\u001b[0m\n",
      "\u001b[0;31mTypeError\u001b[0m: 'int' object is not iterable"
     ]
    }
   ],
   "source": [
    "# 11\n",
    "number_1 = int(input(\"첫 번째 숫자를 입력하세요: \"))\n",
    "number_2 = int(input(\"두 번째 숫자를 입력하세요: \"))\n",
    "\n",
    "number_1 = list(number_1)\n",
    "A = int(number_1[0])\n",
    "B = int(number_1[1])\n",
    "C = int(number_1[2])\n",
    "\n",
    "print(\"(3)번 위치:\", number_2 * C)\n",
    "print(\"(4)번 위치:\", number_2 * B)\n",
    "print(\"(5)번 위치:\", number_2 * A)\n",
    "print(\"(6)번 위치:\", number_1 * number_2)"
   ]
  },
  {
   "cell_type": "code",
   "execution_count": null,
   "id": "88e104de",
   "metadata": {},
   "outputs": [],
   "source": []
  },
  {
   "cell_type": "code",
   "execution_count": null,
   "id": "a6bdbec5",
   "metadata": {},
   "outputs": [],
   "source": []
  },
  {
   "cell_type": "code",
   "execution_count": null,
   "id": "24c86119",
   "metadata": {},
   "outputs": [],
   "source": []
  }
 ],
 "metadata": {
  "kernelspec": {
   "display_name": "Python 3 (ipykernel)",
   "language": "python",
   "name": "python3"
  },
  "language_info": {
   "codemirror_mode": {
    "name": "ipython",
    "version": 3
   },
   "file_extension": ".py",
   "mimetype": "text/x-python",
   "name": "python",
   "nbconvert_exporter": "python",
   "pygments_lexer": "ipython3",
   "version": "3.9.7"
  }
 },
 "nbformat": 4,
 "nbformat_minor": 5
}
