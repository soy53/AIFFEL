{
 "cells": [
  {
   "cell_type": "code",
   "execution_count": 1,
   "id": "a8b0925f",
   "metadata": {},
   "outputs": [],
   "source": [
    "# 201\n",
    "def print_coin():\n",
    "    print(\"비트코인\")"
   ]
  },
  {
   "cell_type": "code",
   "execution_count": 2,
   "id": "75405ac5",
   "metadata": {},
   "outputs": [
    {
     "name": "stdout",
     "output_type": "stream",
     "text": [
      "비트코인\n"
     ]
    }
   ],
   "source": [
    "# 202\n",
    "print_coin()"
   ]
  },
  {
   "cell_type": "code",
   "execution_count": 4,
   "id": "9a2d7a22",
   "metadata": {},
   "outputs": [
    {
     "name": "stdout",
     "output_type": "stream",
     "text": [
      "비트코인\n",
      "비트코인\n",
      "비트코인\n",
      "비트코인\n",
      "비트코인\n",
      "비트코인\n",
      "비트코인\n",
      "비트코인\n",
      "비트코인\n",
      "비트코인\n",
      "비트코인\n",
      "비트코인\n",
      "비트코인\n",
      "비트코인\n",
      "비트코인\n",
      "비트코인\n",
      "비트코인\n",
      "비트코인\n",
      "비트코인\n",
      "비트코인\n",
      "비트코인\n",
      "비트코인\n",
      "비트코인\n",
      "비트코인\n",
      "비트코인\n",
      "비트코인\n",
      "비트코인\n",
      "비트코인\n",
      "비트코인\n",
      "비트코인\n",
      "비트코인\n",
      "비트코인\n",
      "비트코인\n",
      "비트코인\n",
      "비트코인\n",
      "비트코인\n",
      "비트코인\n",
      "비트코인\n",
      "비트코인\n",
      "비트코인\n",
      "비트코인\n",
      "비트코인\n",
      "비트코인\n",
      "비트코인\n",
      "비트코인\n",
      "비트코인\n",
      "비트코인\n",
      "비트코인\n",
      "비트코인\n",
      "비트코인\n",
      "비트코인\n",
      "비트코인\n",
      "비트코인\n",
      "비트코인\n",
      "비트코인\n",
      "비트코인\n",
      "비트코인\n",
      "비트코인\n",
      "비트코인\n",
      "비트코인\n",
      "비트코인\n",
      "비트코인\n",
      "비트코인\n",
      "비트코인\n",
      "비트코인\n",
      "비트코인\n",
      "비트코인\n",
      "비트코인\n",
      "비트코인\n",
      "비트코인\n",
      "비트코인\n",
      "비트코인\n",
      "비트코인\n",
      "비트코인\n",
      "비트코인\n",
      "비트코인\n",
      "비트코인\n",
      "비트코인\n",
      "비트코인\n",
      "비트코인\n",
      "비트코인\n",
      "비트코인\n",
      "비트코인\n",
      "비트코인\n",
      "비트코인\n",
      "비트코인\n",
      "비트코인\n",
      "비트코인\n",
      "비트코인\n",
      "비트코인\n",
      "비트코인\n",
      "비트코인\n",
      "비트코인\n",
      "비트코인\n",
      "비트코인\n",
      "비트코인\n",
      "비트코인\n",
      "비트코인\n",
      "비트코인\n",
      "비트코인\n"
     ]
    }
   ],
   "source": [
    "# 203 - 다시\n",
    "for i in range(100):\n",
    "    print_coin()"
   ]
  },
  {
   "cell_type": "code",
   "execution_count": 5,
   "id": "690860fc",
   "metadata": {},
   "outputs": [],
   "source": [
    "# 204\n",
    "def print_coins():\n",
    "    for i in range(100):\n",
    "        print(\"비트코인\")"
   ]
  },
  {
   "cell_type": "code",
   "execution_count": 6,
   "id": "61908f12",
   "metadata": {},
   "outputs": [
    {
     "ename": "NameError",
     "evalue": "name 'hello' is not defined",
     "output_type": "error",
     "traceback": [
      "\u001b[0;31m---------------------------------------------------------------------------\u001b[0m",
      "\u001b[0;31mNameError\u001b[0m                                 Traceback (most recent call last)",
      "Cell \u001b[0;32mIn[6], line 2\u001b[0m\n\u001b[1;32m      1\u001b[0m \u001b[38;5;66;03m# 205\u001b[39;00m\n\u001b[0;32m----> 2\u001b[0m \u001b[43mhello\u001b[49m()\n\u001b[1;32m      3\u001b[0m \u001b[38;5;28;01mdef\u001b[39;00m \u001b[38;5;21mhello\u001b[39m():\n\u001b[1;32m      4\u001b[0m     \u001b[38;5;28mprint\u001b[39m(\u001b[38;5;124m\"\u001b[39m\u001b[38;5;124mHi\u001b[39m\u001b[38;5;124m\"\u001b[39m)\n",
      "\u001b[0;31mNameError\u001b[0m: name 'hello' is not defined"
     ]
    }
   ],
   "source": [
    "# 205\n",
    "hello()\n",
    "def hello():\n",
    "    print(\"Hi\")\n",
    "# 정답 : hello함수를 만들기 전에 hello() 호출했기 때문이다."
   ]
  },
  {
   "cell_type": "code",
   "execution_count": 7,
   "id": "0bd989cf",
   "metadata": {},
   "outputs": [
    {
     "name": "stdout",
     "output_type": "stream",
     "text": [
      "A\n",
      "B\n",
      "C\n",
      "A\n",
      "B\n"
     ]
    }
   ],
   "source": [
    "# 206\n",
    "def message() :\n",
    "    print(\"A\")\n",
    "    print(\"B\")\n",
    "\n",
    "message() # A B\n",
    "print(\"C\") # C\n",
    "message() # A B"
   ]
  },
  {
   "cell_type": "code",
   "execution_count": 8,
   "id": "f3b44902",
   "metadata": {},
   "outputs": [
    {
     "name": "stdout",
     "output_type": "stream",
     "text": [
      "A\n",
      "C\n",
      "B\n"
     ]
    }
   ],
   "source": [
    "# 207\n",
    "print(\"A\") \n",
    "\n",
    "def message() :\n",
    "    print(\"B\")\n",
    "\n",
    "print(\"C\")\n",
    "message()\n",
    "# A\\n C\\n B"
   ]
  },
  {
   "cell_type": "code",
   "execution_count": 9,
   "id": "8eb63c5e",
   "metadata": {},
   "outputs": [
    {
     "name": "stdout",
     "output_type": "stream",
     "text": [
      "A\n",
      "C\n",
      "B\n",
      "E\n",
      "D\n"
     ]
    }
   ],
   "source": [
    "# 208\n",
    "print(\"A\")\n",
    "def message1() :\n",
    "    print(\"B\")\n",
    "print(\"C\")\n",
    "def message2() :\n",
    "    print(\"D\")\n",
    "message1()\n",
    "print(\"E\")\n",
    "message2()\n",
    "# A\\n C\\n B\\n E\\n D"
   ]
  },
  {
   "cell_type": "code",
   "execution_count": 10,
   "id": "52a812d0",
   "metadata": {},
   "outputs": [
    {
     "name": "stdout",
     "output_type": "stream",
     "text": [
      "B\n",
      "A\n"
     ]
    }
   ],
   "source": [
    "# 209\n",
    "def message1():\n",
    "    print(\"A\")\n",
    "\n",
    "def message2():\n",
    "    print(\"B\")\n",
    "    message1()\n",
    "\n",
    "message2()\n",
    "# B\\n A"
   ]
  },
  {
   "cell_type": "code",
   "execution_count": 11,
   "id": "a5bb1d66",
   "metadata": {},
   "outputs": [
    {
     "name": "stdout",
     "output_type": "stream",
     "text": [
      "B\n",
      "C\n",
      "B\n",
      "C\n",
      "B\n",
      "C\n",
      "A\n"
     ]
    }
   ],
   "source": [
    "# 210\n",
    "def message1():\n",
    "    print(\"A\")\n",
    "\n",
    "def message2():\n",
    "    print(\"B\")\n",
    "\n",
    "def message3():\n",
    "    for i in range (3) :\n",
    "        message2()\n",
    "        print(\"C\")\n",
    "    message1()\n",
    "\n",
    "message3()\n",
    "# B\\n C\\n B\\n C\\n B\\n C\\n A"
   ]
  },
  {
   "cell_type": "code",
   "execution_count": 12,
   "id": "b7fa77b9",
   "metadata": {},
   "outputs": [
    {
     "name": "stdout",
     "output_type": "stream",
     "text": [
      "안녕\n",
      "Hi\n"
     ]
    }
   ],
   "source": [
    "# 211\n",
    "def 함수(문자열) :\n",
    "    print(문자열)\n",
    "\n",
    "함수(\"안녕\")\n",
    "함수(\"Hi\")\n",
    "# 안녕\\n Hi"
   ]
  },
  {
   "cell_type": "code",
   "execution_count": 13,
   "id": "06b110eb",
   "metadata": {},
   "outputs": [
    {
     "name": "stdout",
     "output_type": "stream",
     "text": [
      "7\n",
      "15\n"
     ]
    }
   ],
   "source": [
    "# 212\n",
    "def 함수(a, b) :\n",
    "    print(a + b)\n",
    "\n",
    "함수(3, 4)\n",
    "함수(7, 8)\n",
    "# 7\\n 15"
   ]
  },
  {
   "cell_type": "code",
   "execution_count": 14,
   "id": "535ba57c",
   "metadata": {},
   "outputs": [
    {
     "ename": "TypeError",
     "evalue": "함수() missing 1 required positional argument: '문자열'",
     "output_type": "error",
     "traceback": [
      "\u001b[0;31m---------------------------------------------------------------------------\u001b[0m",
      "\u001b[0;31mTypeError\u001b[0m                                 Traceback (most recent call last)",
      "Cell \u001b[0;32mIn[14], line 5\u001b[0m\n\u001b[1;32m      2\u001b[0m \u001b[38;5;28;01mdef\u001b[39;00m \u001b[38;5;21m함수\u001b[39m(문자열) :\n\u001b[1;32m      3\u001b[0m     \u001b[38;5;28mprint\u001b[39m(문자열)\n\u001b[0;32m----> 5\u001b[0m \u001b[43m함수\u001b[49m\u001b[43m(\u001b[49m\u001b[43m)\u001b[49m\n\u001b[1;32m      6\u001b[0m \u001b[38;5;66;03m# 함수() 안에 문자열을 넣어주어야 하는데 아무 것도 넣어주지 않았기 때문에 에러가 발생한다.\u001b[39;00m\n",
      "\u001b[0;31mTypeError\u001b[0m: 함수() missing 1 required positional argument: '문자열'"
     ]
    }
   ],
   "source": [
    "# 213\n",
    "def 함수(문자열) :\n",
    "    print(문자열)\n",
    "    \n",
    "함수()\n",
    "# 함수() 안에 문자열을 넣어주어야 하는데 아무 것도 넣어주지 않았기 때문에(함수를 호출할 때 하나의 파라미터를 입력해야 한다.) 에러가 발생한다."
   ]
  },
  {
   "cell_type": "code",
   "execution_count": 15,
   "id": "e58e5daf",
   "metadata": {},
   "outputs": [
    {
     "ename": "TypeError",
     "evalue": "can only concatenate str (not \"int\") to str",
     "output_type": "error",
     "traceback": [
      "\u001b[0;31m---------------------------------------------------------------------------\u001b[0m",
      "\u001b[0;31mTypeError\u001b[0m                                 Traceback (most recent call last)",
      "Cell \u001b[0;32mIn[15], line 5\u001b[0m\n\u001b[1;32m      2\u001b[0m \u001b[38;5;28;01mdef\u001b[39;00m \u001b[38;5;21m함수\u001b[39m(a, b) :\n\u001b[1;32m      3\u001b[0m     \u001b[38;5;28mprint\u001b[39m(a \u001b[38;5;241m+\u001b[39m b)\n\u001b[0;32m----> 5\u001b[0m \u001b[43m함수\u001b[49m\u001b[43m(\u001b[49m\u001b[38;5;124;43m\"\u001b[39;49m\u001b[38;5;124;43m안녕\u001b[39;49m\u001b[38;5;124;43m\"\u001b[39;49m\u001b[43m,\u001b[49m\u001b[43m \u001b[49m\u001b[38;5;241;43m3\u001b[39;49m\u001b[43m)\u001b[49m\n",
      "Cell \u001b[0;32mIn[15], line 3\u001b[0m, in \u001b[0;36m함수\u001b[0;34m(a, b)\u001b[0m\n\u001b[1;32m      2\u001b[0m \u001b[38;5;28;01mdef\u001b[39;00m \u001b[38;5;21m함수\u001b[39m(a, b) :\n\u001b[0;32m----> 3\u001b[0m     \u001b[38;5;28mprint\u001b[39m(\u001b[43ma\u001b[49m\u001b[43m \u001b[49m\u001b[38;5;241;43m+\u001b[39;49m\u001b[43m \u001b[49m\u001b[43mb\u001b[49m)\n",
      "\u001b[0;31mTypeError\u001b[0m: can only concatenate str (not \"int\") to str"
     ]
    }
   ],
   "source": [
    "# 214\n",
    "def 함수(a, b) :\n",
    "    print(a + b)\n",
    "\n",
    "함수(\"안녕\", 3)\n",
    "# a, b는 같은 타입의 값을 입력받아야 하는데 문자열과 숫자를 입력해 더할 수 없기 때문에 에러가 발생한다."
   ]
  },
  {
   "cell_type": "code",
   "execution_count": 18,
   "id": "ac06dad3",
   "metadata": {},
   "outputs": [],
   "source": [
    "# 215\n",
    "def print_with_smile(문자열):\n",
    "    print(문자열, \":D\") # , 대신에 + 써주어도 됨"
   ]
  },
  {
   "cell_type": "code",
   "execution_count": 19,
   "id": "304af50d",
   "metadata": {},
   "outputs": [
    {
     "name": "stdout",
     "output_type": "stream",
     "text": [
      "안녕하세요 :D\n"
     ]
    }
   ],
   "source": [
    "# 216\n",
    "print_with_smile(\"안녕하세요\")"
   ]
  },
  {
   "cell_type": "code",
   "execution_count": 20,
   "id": "5c48bd6c",
   "metadata": {},
   "outputs": [],
   "source": [
    "# 217\n",
    "def print_upper_price(price):\n",
    "    print(print * 1.3)"
   ]
  },
  {
   "cell_type": "code",
   "execution_count": 21,
   "id": "834b8b57",
   "metadata": {},
   "outputs": [],
   "source": [
    "# 218\n",
    "def print_sum(a, b):\n",
    "    print(a + b)"
   ]
  },
  {
   "cell_type": "code",
   "execution_count": 24,
   "id": "999eab6f",
   "metadata": {},
   "outputs": [],
   "source": [
    "# 219\n",
    "def print_arithmetic_operation(a, b):\n",
    "    print(\"{} + {}\".format(a, b), \"=\", a + b)\n",
    "    print(\"{} - {}\".format(a, b), \"=\", a - b)\n",
    "    print(\"{} * {}\".format(a, b), \"=\", a * b)\n",
    "    print(\"{} / {}\".format(a, b), \"=\", a / b)"
   ]
  },
  {
   "cell_type": "code",
   "execution_count": 25,
   "id": "0e8da954",
   "metadata": {},
   "outputs": [
    {
     "name": "stdout",
     "output_type": "stream",
     "text": [
      "3 + 4 = 7\n",
      "3 - 4 = -1\n",
      "3 * 4 = 12\n",
      "3 / 4 = 0.75\n"
     ]
    }
   ],
   "source": [
    "print_arithmetic_operation(3, 4)"
   ]
  },
  {
   "cell_type": "code",
   "execution_count": 26,
   "id": "2c18ff30",
   "metadata": {},
   "outputs": [],
   "source": [
    "# 220\n",
    "def print_max(a, b, c):\n",
    "    if a > b and a > c:\n",
    "        print(a)\n",
    "    elif b > a and b > c:\n",
    "        print(b)\n",
    "    elif c > a and c > b:\n",
    "        print(c)"
   ]
  },
  {
   "cell_type": "code",
   "execution_count": 27,
   "id": "cf971771",
   "metadata": {},
   "outputs": [
    {
     "name": "stdout",
     "output_type": "stream",
     "text": [
      "nohtyp\n"
     ]
    }
   ],
   "source": [
    "# 221\n",
    "def print_reverse(str):\n",
    "    print(str[::-1])\n",
    "    \n",
    "print_reverse(\"python\")"
   ]
  },
  {
   "cell_type": "code",
   "execution_count": 29,
   "id": "bb6c9ac3",
   "metadata": {},
   "outputs": [
    {
     "name": "stdout",
     "output_type": "stream",
     "text": [
      "2.0\n"
     ]
    }
   ],
   "source": [
    "# 222 - 다시\n",
    "def print_score(a, b, c):\n",
    "    print((a+b+c)/3)\n",
    "    \n",
    "print_score(1, 2, 3)"
   ]
  },
  {
   "cell_type": "code",
   "execution_count": 30,
   "id": "debbc810",
   "metadata": {},
   "outputs": [
    {
     "name": "stdout",
     "output_type": "stream",
     "text": [
      "2.0\n"
     ]
    }
   ],
   "source": [
    "def print_score(score_list):\n",
    "    print(sum(score_list)/len(score_list))\n",
    "    \n",
    "print_score([1, 2, 3])"
   ]
  },
  {
   "cell_type": "code",
   "execution_count": 39,
   "id": "382edc7b",
   "metadata": {},
   "outputs": [
    {
     "name": "stdout",
     "output_type": "stream",
     "text": [
      "2\n",
      "10\n",
      "12\n"
     ]
    }
   ],
   "source": [
    "# 223 - 다시\n",
    "def print_even(number_list):\n",
    "    for i in number_list:\n",
    "        if i % 2 == 0:\n",
    "            print(i)\n",
    "    \n",
    "print_even ([1, 3, 2, 10, 12, 11, 15])"
   ]
  },
  {
   "cell_type": "code",
   "execution_count": 44,
   "id": "17db2f2a",
   "metadata": {},
   "outputs": [
    {
     "name": "stdout",
     "output_type": "stream",
     "text": [
      "이름\n",
      "나이\n",
      "성별\n"
     ]
    }
   ],
   "source": [
    "# 224\n",
    "def print_keys(dic):\n",
    "    for i in dic.keys():\n",
    "        print(i)\n",
    "        \n",
    "print_keys ({\"이름\":\"김말똥\", \"나이\":30, \"성별\":0})"
   ]
  },
  {
   "cell_type": "code",
   "execution_count": 45,
   "id": "004c45d1",
   "metadata": {},
   "outputs": [
    {
     "name": "stdout",
     "output_type": "stream",
     "text": [
      "[100, 130, 100, 100]\n"
     ]
    }
   ],
   "source": [
    "# 225 - 다시\n",
    "my_dict = {\"10/26\" : [100, 130, 100, 100],\n",
    "           \"10/27\" : [10, 12, 10, 11]}\n",
    "\n",
    "def print_value_by_key(my_dict, key):\n",
    "    print(my_dict[key])\n",
    "        \n",
    "print_value_by_key(my_dict, \"10/26\")"
   ]
  },
  {
   "cell_type": "code",
   "execution_count": 53,
   "id": "0f1300d8",
   "metadata": {},
   "outputs": [
    {
     "name": "stdout",
     "output_type": "stream",
     "text": [
      "아이엠어보\n",
      "이유알어걸\n",
      "\n"
     ]
    }
   ],
   "source": [
    "# 226 - 다시\n",
    "def print_5xn(string):\n",
    "    length = int(len(string) / 5)\n",
    "    for i in range(length + 1):\n",
    "        print(string[i * 5: i * 5 + 5])\n",
    "        \n",
    "print_5xn(\"아이엠어보이유알어걸\")"
   ]
  },
  {
   "cell_type": "code",
   "execution_count": 54,
   "id": "b302885d",
   "metadata": {},
   "outputs": [
    {
     "name": "stdout",
     "output_type": "stream",
     "text": [
      "아이엠\n",
      "어보이\n",
      "유알어\n",
      "걸\n"
     ]
    }
   ],
   "source": [
    "# 227 - 다시\n",
    "def print_mxn(string, k):\n",
    "    length = int(len(string) / k)\n",
    "    for i in range(length + 1):\n",
    "        print(string[i * k: i * k + k])\n",
    "        \n",
    "print_mxn(\"아이엠어보이유알어걸\", 3)"
   ]
  },
  {
   "cell_type": "code",
   "execution_count": 50,
   "id": "e2351bf9",
   "metadata": {},
   "outputs": [
    {
     "name": "stdout",
     "output_type": "stream",
     "text": [
      "1000000\n"
     ]
    }
   ],
   "source": [
    "# 228\n",
    "def calc_monthly_salary(annual_salary):\n",
    "    print(int(annual_salary / 12))\n",
    "    \n",
    "calc_monthly_salary(12000000)"
   ]
  },
  {
   "cell_type": "code",
   "execution_count": 51,
   "id": "1299893b",
   "metadata": {},
   "outputs": [
    {
     "name": "stdout",
     "output_type": "stream",
     "text": [
      "왼쪽: 100\n",
      "오른쪽: 200\n"
     ]
    }
   ],
   "source": [
    "# 229\n",
    "def my_print (a, b) :\n",
    "    print(\"왼쪽:\", a)\n",
    "    print(\"오른쪽:\", b)\n",
    "\n",
    "my_print(a=100, b=200)\n",
    "# 정답 : 왼쪽: 100\\n 오른쪽: 200"
   ]
  },
  {
   "cell_type": "code",
   "execution_count": 52,
   "id": "a092bf07",
   "metadata": {},
   "outputs": [
    {
     "name": "stdout",
     "output_type": "stream",
     "text": [
      "왼쪽: 200\n",
      "오른쪽: 100\n"
     ]
    }
   ],
   "source": [
    "# 230\n",
    "def my_print (a, b) :\n",
    "    print(\"왼쪽:\", a)\n",
    "    print(\"오른쪽:\", b)\n",
    "\n",
    "my_print(b=100, a=200)\n",
    "# 정답 : 왼쪽: 200\\n 오른쪽: 100"
   ]
  },
  {
   "cell_type": "code",
   "execution_count": 55,
   "id": "f24b0e2a",
   "metadata": {},
   "outputs": [
    {
     "ename": "NameError",
     "evalue": "name 'result' is not defined",
     "output_type": "error",
     "traceback": [
      "\u001b[0;31m---------------------------------------------------------------------------\u001b[0m",
      "\u001b[0;31mNameError\u001b[0m                                 Traceback (most recent call last)",
      "Cell \u001b[0;32mIn[55], line 6\u001b[0m\n\u001b[1;32m      3\u001b[0m     result \u001b[38;5;241m=\u001b[39m n \u001b[38;5;241m+\u001b[39m \u001b[38;5;241m1\u001b[39m\n\u001b[1;32m      5\u001b[0m n_plus_1(\u001b[38;5;241m3\u001b[39m)\n\u001b[0;32m----> 6\u001b[0m \u001b[38;5;28mprint\u001b[39m (\u001b[43mresult\u001b[49m)\n\u001b[1;32m      7\u001b[0m \u001b[38;5;66;03m# 정답 : 4\u001b[39;00m\n",
      "\u001b[0;31mNameError\u001b[0m: name 'result' is not defined"
     ]
    }
   ],
   "source": [
    "# 231\n",
    "def n_plus_1 (n) :\n",
    "    result = n + 1\n",
    "\n",
    "n_plus_1(3)\n",
    "print (result)\n",
    "# 정답 : 에러가 난다. return이 없기 때문. \n",
    "# 함수 내부에서 사용한 변수는 함수 밖에서 접근이 불가능한데, 함수 내부에서 계산한 값을 전달하기 위해서는 return을 사용해야 한다."
   ]
  },
  {
   "cell_type": "code",
   "execution_count": 58,
   "id": "cb7d6a9b",
   "metadata": {},
   "outputs": [
    {
     "name": "stdout",
     "output_type": "stream",
     "text": [
      "www.naver.com\n"
     ]
    }
   ],
   "source": [
    "# 232\n",
    "def make_url(url):\n",
    "    print(\"www.\"+url+\".com\")\n",
    "    \n",
    "make_url(\"naver\")"
   ]
  },
  {
   "cell_type": "code",
   "execution_count": 60,
   "id": "92a33d11",
   "metadata": {},
   "outputs": [
    {
     "data": {
      "text/plain": [
       "['a', 'b', 'c', 'd']"
      ]
     },
     "execution_count": 60,
     "metadata": {},
     "output_type": "execute_result"
    }
   ],
   "source": [
    "# 233 - 다시\n",
    "def make_list(str):\n",
    "    list = []\n",
    "    for i in str:\n",
    "        list.append(i)\n",
    "    return list\n",
    "    \n",
    "make_list(\"abcd\")"
   ]
  },
  {
   "cell_type": "code",
   "execution_count": 61,
   "id": "060f4c59",
   "metadata": {},
   "outputs": [
    {
     "data": {
      "text/plain": [
       "[4, 6, 8]"
      ]
     },
     "execution_count": 61,
     "metadata": {},
     "output_type": "execute_result"
    }
   ],
   "source": [
    "# 234\n",
    "def pickup_even(num_list):\n",
    "    even_list = []\n",
    "    for i in num_list:\n",
    "        if i % 2 == 0:\n",
    "            even_list.append(i)\n",
    "    return even_list\n",
    "\n",
    "pickup_even([3, 4, 5, 6, 7, 8])"
   ]
  },
  {
   "cell_type": "code",
   "execution_count": 64,
   "id": "b9e690e8",
   "metadata": {},
   "outputs": [
    {
     "data": {
      "text/plain": [
       "1234567"
      ]
     },
     "execution_count": 64,
     "metadata": {},
     "output_type": "execute_result"
    }
   ],
   "source": [
    "# 235\n",
    "def convert_int(str):\n",
    "    i = int(str.replace(\",\",\"\"))\n",
    "    return i\n",
    "\n",
    "convert_int(\"1,234,567\")"
   ]
  },
  {
   "cell_type": "code",
   "execution_count": 65,
   "id": "4de8cf1f",
   "metadata": {},
   "outputs": [
    {
     "name": "stdout",
     "output_type": "stream",
     "text": [
      "22\n"
     ]
    }
   ],
   "source": [
    "# 236\n",
    "def 함수(num) :\n",
    "    return num + 4\n",
    "\n",
    "a = 함수(10)\n",
    "b = 함수(a)\n",
    "c = 함수(b)\n",
    "print(c)\n",
    "# 정답 : c -> b + 4 -> a + 4 + 4 -> 10 + 4 + 4 + 4 = 22"
   ]
  },
  {
   "cell_type": "code",
   "execution_count": 66,
   "id": "907fc330",
   "metadata": {},
   "outputs": [
    {
     "name": "stdout",
     "output_type": "stream",
     "text": [
      "22\n"
     ]
    }
   ],
   "source": [
    "# 237\n",
    "def 함수(num) :\n",
    "    return num + 4\n",
    "\n",
    "c = 함수(함수(함수(10)))\n",
    "print(c)\n",
    "# 정답 : 함수(함수(함수(10))) -> 함수(함수(14)) -> 함수(18) -> 22"
   ]
  },
  {
   "cell_type": "code",
   "execution_count": 67,
   "id": "af11d48a",
   "metadata": {},
   "outputs": [
    {
     "name": "stdout",
     "output_type": "stream",
     "text": [
      "140\n"
     ]
    }
   ],
   "source": [
    "# 238\n",
    "def 함수1(num) :\n",
    "    return num + 4\n",
    "\n",
    "def 함수2(num) :\n",
    "    return num * 10\n",
    "\n",
    "a = 함수1(10)\n",
    "c = 함수2(a)\n",
    "print(c)\n",
    "# c -> a * 10 -> (10 + 4) * 10 = 140"
   ]
  },
  {
   "cell_type": "code",
   "execution_count": 68,
   "id": "bb953d0e",
   "metadata": {},
   "outputs": [
    {
     "name": "stdout",
     "output_type": "stream",
     "text": [
      "16\n"
     ]
    }
   ],
   "source": [
    "# 239\n",
    "def 함수1(num) :\n",
    "    return num + 4\n",
    "\n",
    "def 함수2(num) :\n",
    "    num = num + 2\n",
    "    return 함수1(num)\n",
    "\n",
    "c = 함수2(10)\n",
    "print(c)\n",
    "# 정답 : 함수1(10+2) -> 12 + 4 = 16"
   ]
  },
  {
   "cell_type": "code",
   "execution_count": 69,
   "id": "68a1db38",
   "metadata": {},
   "outputs": [
    {
     "name": "stdout",
     "output_type": "stream",
     "text": [
      "28\n"
     ]
    }
   ],
   "source": [
    "# 240\n",
    "def 함수0(num) :\n",
    "    return num * 2\n",
    "\n",
    "def 함수1(num) :\n",
    "    return 함수0(num + 2)\n",
    "\n",
    "def 함수2(num) :\n",
    "    num = num + 10\n",
    "    return 함수1(num)\n",
    "\n",
    "c = 함수2(2)\n",
    "print(c)\n",
    "# 정답 : 함수1(2 + 10) -> 함수0(12 + 2) -> 14 * 2 = 28"
   ]
  },
  {
   "cell_type": "code",
   "execution_count": 70,
   "id": "030ef16b",
   "metadata": {},
   "outputs": [
    {
     "name": "stdout",
     "output_type": "stream",
     "text": [
      "2022-12-14 23:30:32.652442\n"
     ]
    }
   ],
   "source": [
    "# 241\n",
    "import datetime\n",
    "\n",
    "now = datetime.datetime.now()\n",
    "print(now)"
   ]
  },
  {
   "cell_type": "code",
   "execution_count": 71,
   "id": "3baff14c",
   "metadata": {},
   "outputs": [
    {
     "data": {
      "text/plain": [
       "datetime.datetime"
      ]
     },
     "execution_count": 71,
     "metadata": {},
     "output_type": "execute_result"
    }
   ],
   "source": [
    "# 242\n",
    "type(now)"
   ]
  },
  {
   "cell_type": "code",
   "execution_count": 75,
   "id": "8064179a",
   "metadata": {},
   "outputs": [
    {
     "name": "stdout",
     "output_type": "stream",
     "text": [
      "2022-12-09 23:39:29.251995\n",
      "2022-12-10 23:39:29.251995\n",
      "2022-12-11 23:39:29.251995\n",
      "2022-12-12 23:39:29.251995\n",
      "2022-12-13 23:39:29.251995\n"
     ]
    }
   ],
   "source": [
    "# 243 - 다시\n",
    "from datetime import timedelta\n",
    "\n",
    "now = datetime.datetime.now()\n",
    "\n",
    "for day in range(5, 0, -1):\n",
    "    delta = datetime.timedelta(days=day)\n",
    "    date = now - delta\n",
    "    print(date)"
   ]
  },
  {
   "cell_type": "markdown",
   "id": "0dd93692",
   "metadata": {},
   "source": [
    "- [timedelta](https://windybay.net/post/20/)"
   ]
  },
  {
   "cell_type": "code",
   "execution_count": 76,
   "id": "1d0db82c",
   "metadata": {},
   "outputs": [
    {
     "name": "stdout",
     "output_type": "stream",
     "text": [
      "23:43:08\n"
     ]
    }
   ],
   "source": [
    "# 244 - 다시\n",
    "now = datetime.datetime.now()\n",
    "\n",
    "print(now.strftime('%H:%M:%S'))"
   ]
  },
  {
   "cell_type": "markdown",
   "id": "9635868e",
   "metadata": {},
   "source": [
    "- [strftime](https://ponyozzang.tistory.com/626)"
   ]
  },
  {
   "cell_type": "code",
   "execution_count": 77,
   "id": "ddce469f",
   "metadata": {},
   "outputs": [
    {
     "name": "stdout",
     "output_type": "stream",
     "text": [
      "2020-05-04 00:00:00 <class 'datetime.datetime'>\n"
     ]
    }
   ],
   "source": [
    "# 245 - 다시\n",
    "str_date = '2020-05-04'\n",
    "ret = datetime.datetime.strptime(str_date, \"%Y-%m-%d\")\n",
    "print(ret, type(ret))"
   ]
  },
  {
   "cell_type": "markdown",
   "id": "9850c413",
   "metadata": {},
   "source": [
    "- [strptime](https://dev-jy.tistory.com/5)"
   ]
  },
  {
   "cell_type": "code",
   "execution_count": 5,
   "id": "9887ec3c",
   "metadata": {},
   "outputs": [
    {
     "name": "stdout",
     "output_type": "stream",
     "text": [
      "2022-12-15 00:34:42.880008\n",
      "2022-12-15 00:34:43.884240\n",
      "2022-12-15 00:34:44.886760\n",
      "2022-12-15 00:34:45.889179\n",
      "2022-12-15 00:34:46.894550\n",
      "2022-12-15 00:34:47.899900\n",
      "2022-12-15 00:34:48.905225\n",
      "2022-12-15 00:34:49.908833\n",
      "2022-12-15 00:34:50.909962\n",
      "2022-12-15 00:34:51.915115\n",
      "2022-12-15 00:34:52.920048\n",
      "2022-12-15 00:34:53.925330\n",
      "2022-12-15 00:34:54.929084\n",
      "2022-12-15 00:34:55.934401\n",
      "2022-12-15 00:34:56.938977\n",
      "2022-12-15 00:34:57.944265\n",
      "2022-12-15 00:34:58.948781\n",
      "2022-12-15 00:34:59.953052\n",
      "2022-12-15 00:35:00.954237\n",
      "2022-12-15 00:35:01.959487\n",
      "2022-12-15 00:35:02.964768\n",
      "2022-12-15 00:35:03.970127\n",
      "2022-12-15 00:35:04.973066\n",
      "2022-12-15 00:35:05.976443\n",
      "2022-12-15 00:35:06.978271\n",
      "2022-12-15 00:35:07.980896\n",
      "2022-12-15 00:35:08.986150\n",
      "2022-12-15 00:35:09.988927\n",
      "2022-12-15 00:35:10.994517\n",
      "2022-12-15 00:35:11.998879\n",
      "2022-12-15 00:35:12.999444\n",
      "2022-12-15 00:35:14.000716\n",
      "2022-12-15 00:35:15.001163\n",
      "2022-12-15 00:35:16.006289\n",
      "2022-12-15 00:35:17.011683\n",
      "2022-12-15 00:35:18.016505\n",
      "2022-12-15 00:35:19.018823\n",
      "2022-12-15 00:35:20.023286\n",
      "2022-12-15 00:35:21.028633\n",
      "2022-12-15 00:35:22.032961\n",
      "2022-12-15 00:35:23.036400\n",
      "2022-12-15 00:35:24.038770\n",
      "2022-12-15 00:35:25.041762\n",
      "2022-12-15 00:35:26.046246\n",
      "2022-12-15 00:35:27.048168\n",
      "2022-12-15 00:35:28.048837\n",
      "2022-12-15 00:35:29.054143\n",
      "2022-12-15 00:35:30.059434\n",
      "2022-12-15 00:35:31.064613\n",
      "2022-12-15 00:35:32.069562\n",
      "2022-12-15 00:35:33.074780\n",
      "2022-12-15 00:35:34.079719\n",
      "2022-12-15 00:35:35.081284\n",
      "2022-12-15 00:35:36.082963\n",
      "2022-12-15 00:35:37.086988\n",
      "2022-12-15 00:35:38.091623\n",
      "2022-12-15 00:35:39.096089\n",
      "2022-12-15 00:35:40.100925\n",
      "2022-12-15 00:35:41.106115\n",
      "2022-12-15 00:35:42.111448\n",
      "2022-12-15 00:35:43.116777\n",
      "2022-12-15 00:35:44.119003\n",
      "2022-12-15 00:35:45.124375\n",
      "2022-12-15 00:35:46.128635\n",
      "2022-12-15 00:35:47.133519\n",
      "2022-12-15 00:35:48.138266\n",
      "2022-12-15 00:35:49.139199\n",
      "2022-12-15 00:35:50.143467\n",
      "2022-12-15 00:35:51.148625\n",
      "2022-12-15 00:35:52.153944\n",
      "2022-12-15 00:35:53.156343\n",
      "2022-12-15 00:35:54.157319\n",
      "2022-12-15 00:35:55.162633\n",
      "2022-12-15 00:35:56.164206\n",
      "2022-12-15 00:35:57.165932\n",
      "2022-12-15 00:35:58.170442\n",
      "2022-12-15 00:35:59.173076\n",
      "2022-12-15 00:36:00.178401\n",
      "2022-12-15 00:36:01.183118\n",
      "2022-12-15 00:36:02.187309\n",
      "2022-12-15 00:36:03.192115\n",
      "2022-12-15 00:36:04.197407\n",
      "2022-12-15 00:36:05.202731\n",
      "2022-12-15 00:36:06.203741\n",
      "2022-12-15 00:36:07.208410\n",
      "2022-12-15 00:36:08.212377\n",
      "2022-12-15 00:36:09.213474\n",
      "2022-12-15 00:36:10.218744\n",
      "2022-12-15 00:36:11.223494\n",
      "2022-12-15 00:36:12.228282\n",
      "2022-12-15 00:36:13.232727\n",
      "2022-12-15 00:36:14.234571\n",
      "2022-12-15 00:36:15.236761\n",
      "2022-12-15 00:36:16.238932\n",
      "2022-12-15 00:36:17.244225\n",
      "2022-12-15 00:36:18.249523\n",
      "2022-12-15 00:36:19.254723\n",
      "2022-12-15 00:36:20.258233\n",
      "2022-12-15 00:36:21.263430\n",
      "2022-12-15 00:36:22.268694\n",
      "2022-12-15 00:36:23.270285\n",
      "2022-12-15 00:36:24.272087\n",
      "2022-12-15 00:36:25.276446\n",
      "2022-12-15 00:36:26.277163\n",
      "2022-12-15 00:36:27.278081\n",
      "2022-12-15 00:36:28.283323\n",
      "2022-12-15 00:36:29.287029\n",
      "2022-12-15 00:36:30.288557\n",
      "2022-12-15 00:36:31.291294\n",
      "2022-12-15 00:36:32.294962\n",
      "2022-12-15 00:36:33.299510\n",
      "2022-12-15 00:36:34.304788\n",
      "2022-12-15 00:36:35.308008\n",
      "2022-12-15 00:36:36.313280\n",
      "2022-12-15 00:36:37.316974\n",
      "2022-12-15 00:36:38.318010\n",
      "2022-12-15 00:36:39.319584\n",
      "2022-12-15 00:36:40.320358\n",
      "2022-12-15 00:36:41.322903\n",
      "2022-12-15 00:36:42.327915\n",
      "2022-12-15 00:36:43.333226\n",
      "2022-12-15 00:36:44.337919\n",
      "2022-12-15 00:36:45.341827\n",
      "2022-12-15 00:36:46.345988\n",
      "2022-12-15 00:36:47.351298\n",
      "2022-12-15 00:36:48.352226\n",
      "2022-12-15 00:36:49.353722\n",
      "2022-12-15 00:36:50.358645\n",
      "2022-12-15 00:36:51.361002\n",
      "2022-12-15 00:36:52.365746\n",
      "2022-12-15 00:36:53.369305\n",
      "2022-12-15 00:36:54.370564\n",
      "2022-12-15 00:36:55.373543\n",
      "2022-12-15 00:36:56.377755\n",
      "2022-12-15 00:36:57.382964\n",
      "2022-12-15 00:36:58.388240\n",
      "2022-12-15 00:36:59.390675\n",
      "2022-12-15 00:37:00.395862\n",
      "2022-12-15 00:37:01.400110\n",
      "2022-12-15 00:37:02.403275\n",
      "2022-12-15 00:37:03.406848\n",
      "2022-12-15 00:37:04.411859\n",
      "2022-12-15 00:37:05.413573\n",
      "2022-12-15 00:37:06.415165\n",
      "2022-12-15 00:37:07.420507\n",
      "2022-12-15 00:37:08.425129\n",
      "2022-12-15 00:37:09.428048\n",
      "2022-12-15 00:37:10.432741\n",
      "2022-12-15 00:37:11.435116\n",
      "2022-12-15 00:37:12.440431\n",
      "2022-12-15 00:37:13.445794\n",
      "2022-12-15 00:37:14.451085\n",
      "2022-12-15 00:37:15.455536\n",
      "2022-12-15 00:37:16.460764\n",
      "2022-12-15 00:37:17.465035\n",
      "2022-12-15 00:37:18.470309\n",
      "2022-12-15 00:37:19.475017\n",
      "2022-12-15 00:37:20.480348\n",
      "2022-12-15 00:37:21.482287\n",
      "2022-12-15 00:37:22.487692\n",
      "2022-12-15 00:37:23.492554\n",
      "2022-12-15 00:37:24.497568\n",
      "2022-12-15 00:37:25.499288\n",
      "2022-12-15 00:37:26.504560\n",
      "2022-12-15 00:37:27.504924\n",
      "2022-12-15 00:37:28.510171\n",
      "2022-12-15 00:37:29.515523\n",
      "2022-12-15 00:37:30.520758\n",
      "2022-12-15 00:37:31.524458\n",
      "2022-12-15 00:37:32.527377\n",
      "2022-12-15 00:37:33.528583\n",
      "2022-12-15 00:37:34.533851\n",
      "2022-12-15 00:37:35.537379\n",
      "2022-12-15 00:37:36.538811\n",
      "2022-12-15 00:37:37.543980\n",
      "2022-12-15 00:37:38.544829\n",
      "2022-12-15 00:37:39.547332\n",
      "2022-12-15 00:37:40.552587\n",
      "2022-12-15 00:37:41.553253\n",
      "2022-12-15 00:37:42.558536\n",
      "2022-12-15 00:37:43.563700\n",
      "2022-12-15 00:37:44.568161\n",
      "2022-12-15 00:37:45.573432\n",
      "2022-12-15 00:37:46.575943\n",
      "2022-12-15 00:37:47.580041\n",
      "2022-12-15 00:37:48.584718\n",
      "2022-12-15 00:37:49.590004\n",
      "2022-12-15 00:37:50.591574\n",
      "2022-12-15 00:37:51.592031\n",
      "2022-12-15 00:37:52.597193\n",
      "2022-12-15 00:37:53.602519\n",
      "2022-12-15 00:37:54.607135\n",
      "2022-12-15 00:37:55.609459\n",
      "2022-12-15 00:37:56.614638\n",
      "2022-12-15 00:37:57.617128\n",
      "2022-12-15 00:37:58.619368\n",
      "2022-12-15 00:37:59.624599\n",
      "2022-12-15 00:38:00.627091\n",
      "2022-12-15 00:38:01.631479\n",
      "2022-12-15 00:38:02.636675\n",
      "2022-12-15 00:38:03.642008\n",
      "2022-12-15 00:38:04.647219\n",
      "2022-12-15 00:38:05.652581\n",
      "2022-12-15 00:38:06.654538\n",
      "2022-12-15 00:38:07.658525\n",
      "2022-12-15 00:38:08.663515\n",
      "2022-12-15 00:38:09.666988\n",
      "2022-12-15 00:38:10.672255\n",
      "2022-12-15 00:38:11.673809\n",
      "2022-12-15 00:38:12.674491\n"
     ]
    },
    {
     "ename": "KeyboardInterrupt",
     "evalue": "",
     "output_type": "error",
     "traceback": [
      "\u001b[0;31m---------------------------------------------------------------------------\u001b[0m",
      "\u001b[0;31mKeyboardInterrupt\u001b[0m                         Traceback (most recent call last)",
      "Cell \u001b[0;32mIn[5], line 8\u001b[0m\n\u001b[1;32m      6\u001b[0m now \u001b[38;5;241m=\u001b[39m datetime\u001b[38;5;241m.\u001b[39mdatetime\u001b[38;5;241m.\u001b[39mnow()\n\u001b[1;32m      7\u001b[0m \u001b[38;5;28mprint\u001b[39m(now)\n\u001b[0;32m----> 8\u001b[0m \u001b[43mtime\u001b[49m\u001b[38;5;241;43m.\u001b[39;49m\u001b[43msleep\u001b[49m\u001b[43m(\u001b[49m\u001b[38;5;241;43m1\u001b[39;49m\u001b[43m)\u001b[49m\n",
      "\u001b[0;31mKeyboardInterrupt\u001b[0m: "
     ]
    }
   ],
   "source": [
    "# 246\n",
    "import time\n",
    "import datetime\n",
    "\n",
    "while True:\n",
    "    now = datetime.datetime.now()\n",
    "    print(now)\n",
    "    time.sleep(1)"
   ]
  },
  {
   "cell_type": "code",
   "execution_count": null,
   "id": "1d0212f1",
   "metadata": {},
   "outputs": [],
   "source": [
    "# 247\n",
    "from a import * # a에 있는 거 다 가져오세요.\n",
    "from a import b\n",
    "import a as b\n",
    "\n",
    "from 모듈 import 변수\n",
    "import 모듈 as 이름\n",
    "import 모듈\n",
    "import 모듈1, 모듈2\n",
    "모듈.변수\n",
    "모듈.함수()\n",
    "모듈.클래스()\n",
    "from 모듈 import 변수, 함수, 클래스"
   ]
  },
  {
   "cell_type": "markdown",
   "id": "9dbb2e40",
   "metadata": {},
   "source": [
    "- [모듈을 임포트하는 4가지 방식](https://dojang.io/mod/page/view.php?id=2441)"
   ]
  },
  {
   "cell_type": "code",
   "execution_count": 6,
   "id": "c0f72070",
   "metadata": {},
   "outputs": [
    {
     "name": "stdout",
     "output_type": "stream",
     "text": [
      "/Users/soy/aiffel/afterschool <class 'str'>\n"
     ]
    }
   ],
   "source": [
    "# 248\n",
    "import os\n",
    "ret = os.getcwd()\n",
    "print(ret, type(ret))"
   ]
  },
  {
   "cell_type": "code",
   "execution_count": null,
   "id": "cacdefbb",
   "metadata": {},
   "outputs": [],
   "source": [
    "# 249\n",
    "import os\n",
    "os.rename(\"C:/Users/hyunh/Desktop/before.txt\", \"C:/Users/hyunh/Desktop/after.txt\")"
   ]
  },
  {
   "cell_type": "code",
   "execution_count": 1,
   "id": "57809996",
   "metadata": {},
   "outputs": [
    {
     "name": "stdout",
     "output_type": "stream",
     "text": [
      "0.0\n",
      "0.1\n",
      "0.2\n",
      "0.30000000000000004\n",
      "0.4\n",
      "0.5\n",
      "0.6000000000000001\n",
      "0.7000000000000001\n",
      "0.8\n",
      "0.9\n",
      "1.0\n",
      "1.1\n",
      "1.2000000000000002\n",
      "1.3\n",
      "1.4000000000000001\n",
      "1.5\n",
      "1.6\n",
      "1.7000000000000002\n",
      "1.8\n",
      "1.9000000000000001\n",
      "2.0\n",
      "2.1\n",
      "2.2\n",
      "2.3000000000000003\n",
      "2.4000000000000004\n",
      "2.5\n",
      "2.6\n",
      "2.7\n",
      "2.8000000000000003\n",
      "2.9000000000000004\n",
      "3.0\n",
      "3.1\n",
      "3.2\n",
      "3.3000000000000003\n",
      "3.4000000000000004\n",
      "3.5\n",
      "3.6\n",
      "3.7\n",
      "3.8000000000000003\n",
      "3.9000000000000004\n",
      "4.0\n",
      "4.1000000000000005\n",
      "4.2\n",
      "4.3\n",
      "4.4\n",
      "4.5\n",
      "4.6000000000000005\n",
      "4.7\n",
      "4.800000000000001\n",
      "4.9\n"
     ]
    }
   ],
   "source": [
    "# 250\n",
    "import numpy\n",
    "for i in numpy.arange(0, 5, 0.1):\n",
    "    print(i)"
   ]
  },
  {
   "cell_type": "code",
   "execution_count": null,
   "id": "da40e361",
   "metadata": {},
   "outputs": [],
   "source": []
  }
 ],
 "metadata": {
  "kernelspec": {
   "display_name": "Python 3 (ipykernel)",
   "language": "python",
   "name": "python3"
  },
  "language_info": {
   "codemirror_mode": {
    "name": "ipython",
    "version": 3
   },
   "file_extension": ".py",
   "mimetype": "text/x-python",
   "name": "python",
   "nbconvert_exporter": "python",
   "pygments_lexer": "ipython3",
   "version": "3.9.7"
  }
 },
 "nbformat": 4,
 "nbformat_minor": 5
}
