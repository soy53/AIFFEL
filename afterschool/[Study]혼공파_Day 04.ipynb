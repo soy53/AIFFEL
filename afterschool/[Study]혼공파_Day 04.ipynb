{
 "cells": [
  {
   "cell_type": "markdown",
   "id": "94fe9111",
   "metadata": {},
   "source": [
    "# Chapter 4. 반복문\n",
    "## 04-1. 리스트와 반복문\n",
    "### 중첩 리스트와 중첩 반복문"
   ]
  },
  {
   "cell_type": "code",
   "execution_count": 2,
   "id": "d1c01125",
   "metadata": {},
   "outputs": [
    {
     "name": "stdout",
     "output_type": "stream",
     "text": [
      "[1, 2, 3]\n",
      "[4, 5, 6, 7]\n",
      "[8, 9]\n"
     ]
    }
   ],
   "source": [
    "list_of_list = [\n",
    "    [1, 2, 3],\n",
    "    [4, 5, 6, 7],\n",
    "    [8, 9]\n",
    "]\n",
    "\n",
    "for i in list_of_list:\n",
    "    print(i)"
   ]
  },
  {
   "cell_type": "code",
   "execution_count": 4,
   "id": "2a7eeec1",
   "metadata": {},
   "outputs": [
    {
     "name": "stdout",
     "output_type": "stream",
     "text": [
      "[1, 2, 3]\n",
      "[1, 2, 3]\n",
      "[1, 2, 3]\n",
      "[4, 5, 6, 7]\n",
      "[4, 5, 6, 7]\n",
      "[4, 5, 6, 7]\n",
      "[4, 5, 6, 7]\n",
      "[8, 9]\n",
      "[8, 9]\n"
     ]
    }
   ],
   "source": [
    "list_of_list = [\n",
    "    [1, 2, 3],\n",
    "    [4, 5, 6, 7],\n",
    "    [8, 9]\n",
    "]\n",
    "\n",
    "# 중첩 반복문\n",
    "for i in list_of_list:\n",
    "    for k in i:\n",
    "        print(i)"
   ]
  },
  {
   "cell_type": "markdown",
   "id": "dbb914a4",
   "metadata": {},
   "source": [
    "### 마무리"
   ]
  },
  {
   "cell_type": "code",
   "execution_count": 1,
   "id": "ce8c52ae",
   "metadata": {},
   "outputs": [
    {
     "name": "stdout",
     "output_type": "stream",
     "text": [
      "273 는 홀수입니다.\n",
      "103 는 홀수입니다.\n",
      "5 는 홀수입니다.\n",
      "32 는 짝수입니다.\n",
      "65 는 홀수입니다.\n",
      "9 는 홀수입니다.\n",
      "72 는 짝수입니다.\n",
      "800 는 짝수입니다.\n",
      "99 는 홀수입니다.\n"
     ]
    }
   ],
   "source": [
    "# p.214 - 3번(왼쪽)\n",
    "numbers = [273, 103, 5, 32, 65, 9, 72, 800, 99]\n",
    "\n",
    "for number in numbers:\n",
    "    if number % 2 == 0:\n",
    "        print(number, \"는 짝수입니다.\")\n",
    "    else:\n",
    "        print(number, \"는 홀수입니다.\")"
   ]
  },
  {
   "cell_type": "code",
   "execution_count": 2,
   "id": "7580cb36",
   "metadata": {},
   "outputs": [
    {
     "name": "stdout",
     "output_type": "stream",
     "text": [
      "273 는 3자릿수입니다.\n",
      "103 는 3자릿수입니다.\n",
      "5 는 1자릿수입니다.\n",
      "32 는 2자릿수입니다.\n",
      "65 는 2자릿수입니다.\n",
      "9 는 1자릿수입니다.\n",
      "72 는 2자릿수입니다.\n",
      "800 는 3자릿수입니다.\n",
      "99 는 2자릿수입니다.\n"
     ]
    }
   ],
   "source": [
    "# p.214 - 3번(오른쪽)\n",
    "numbers = [273, 103, 5, 32, 65, 9, 72, 800, 99]\n",
    "\n",
    "for number in numbers:\n",
    "    if 100 <= number < 1000:\n",
    "        print(number, \"는 3자릿수입니다.\")\n",
    "    elif number >= 10:\n",
    "        print(number, \"는 2자릿수입니다.\")\n",
    "    else:\n",
    "        print(number, \"는 1자릿수입니다.\")"
   ]
  },
  {
   "cell_type": "code",
   "execution_count": 4,
   "id": "461b0553",
   "metadata": {},
   "outputs": [
    {
     "name": "stdout",
     "output_type": "stream",
     "text": [
      "273 는 3 자릿수입니다.\n",
      "103 는 3 자릿수입니다.\n",
      "5 는 1 자릿수입니다.\n",
      "32 는 2 자릿수입니다.\n",
      "65 는 2 자릿수입니다.\n",
      "9 는 1 자릿수입니다.\n",
      "72 는 2 자릿수입니다.\n",
      "800 는 3 자릿수입니다.\n",
      "99 는 2 자릿수입니다.\n"
     ]
    }
   ],
   "source": [
    "# p.214 - 3번(오른쪽)\n",
    "numbers = [273, 103, 5, 32, 65, 9, 72, 800, 99]\n",
    "\n",
    "for number in numbers:\n",
    "    print(number, \"는\", len(str(number)), \"자릿수입니다.\")"
   ]
  },
  {
   "cell_type": "code",
   "execution_count": 1,
   "id": "4bef6e30",
   "metadata": {},
   "outputs": [
    {
     "name": "stdout",
     "output_type": "stream",
     "text": [
      "[[1, 4, 7], [2, 5, 8], [3, 6, 9]]\n"
     ]
    }
   ],
   "source": [
    "# p.215 - 4번\n",
    "numbers = [1, 2, 3, 4, 5, 6, 7, 8, 9]\n",
    "output = [[],[],[]]\n",
    "\n",
    "for number in numbers:\n",
    "    output[(number+2)%3].append(number)\n",
    "    \n",
    "print(output)"
   ]
  },
  {
   "cell_type": "code",
   "execution_count": 2,
   "id": "e5cb3b16",
   "metadata": {},
   "outputs": [
    {
     "name": "stdout",
     "output_type": "stream",
     "text": [
      "i = 0, j = 1\n",
      "i = 1, j = 3\n",
      "i = 2, j = 5\n",
      "i = 3, j = 7\n",
      "[1, 4, 3, 16, 5, 36, 7, 64, 9]\n"
     ]
    }
   ],
   "source": [
    "# p.215 - 5번\n",
    "numbers = [1, 2, 3, 4, 5, 6, 7, 8, 9]\n",
    "\n",
    "for i in range(0, len(numbers) // 2):\n",
    "    j = (i*2) + 1\n",
    "    print(f\"i = {i}, j = {j}\")\n",
    "    numbers[j] = numbers[j]**2\n",
    "    \n",
    "print(numbers)"
   ]
  },
  {
   "cell_type": "markdown",
   "id": "4351aeba",
   "metadata": {},
   "source": [
    "## 04-2. 딕셔너리와 반복문\n",
    "### 딕셔너리 내부에 키가 있는지 확인하기"
   ]
  },
  {
   "cell_type": "code",
   "execution_count": 4,
   "id": "948feeae",
   "metadata": {},
   "outputs": [
    {
     "name": "stdout",
     "output_type": "stream",
     "text": [
      "> 접근하고자 하는 키: name\n",
      "7D 건조 망고\n"
     ]
    }
   ],
   "source": [
    "# in 키워드\n",
    "dict = {\n",
    "    \"name\": \"7D 건조 망고\",\n",
    "    \"type\": \"당절임\",\n",
    "    \"ingredient\": [\"망고\", \"설탕\", \"메타중아황산나트륨\", \"치자황색소\"],\n",
    "    \"origin\": \"필리핀\"\n",
    "}\n",
    "\n",
    "key = input(\"> 접근하고자 하는 키: \")\n",
    "\n",
    "if key in dict:\n",
    "    print(dict[key])\n",
    "else:\n",
    "    print(\"존재하지 않는 키에 접근하고 있습니다.\")"
   ]
  },
  {
   "cell_type": "code",
   "execution_count": 5,
   "id": "7dad5a51",
   "metadata": {},
   "outputs": [
    {
     "name": "stdout",
     "output_type": "stream",
     "text": [
      "None\n",
      "존재하지 않는 키에 접근했습니다.\n"
     ]
    }
   ],
   "source": [
    "# get() 함수\n",
    "dict = {\n",
    "    \"name\": \"7D 건조 망고\",\n",
    "    \"type\": \"당절임\",\n",
    "    \"ingredient\": [\"망고\", \"설탕\", \"메타중아황산나트륨\", \"치자황색소\"],\n",
    "    \"origin\": \"필리핀\"\n",
    "}\n",
    "\n",
    "value = dict.get(\"존재하지 않는 키\")\n",
    "print(value) # 존재하지 않는 키에 접근할 경우 KeyError가 아니라 None을 출력한다.\n",
    "\n",
    "if value == None:\n",
    "    print(\"존재하지 않는 키에 접근했습니다.\")"
   ]
  },
  {
   "cell_type": "markdown",
   "id": "4bc659ba",
   "metadata": {},
   "source": [
    "### for 반복문"
   ]
  },
  {
   "cell_type": "code",
   "execution_count": 6,
   "id": "e161819c",
   "metadata": {},
   "outputs": [
    {
     "name": "stdout",
     "output_type": "stream",
     "text": [
      "name : 7D 건조 망고\n",
      "type : 당절임\n",
      "ingredient : ['망고', '설탕', '메타중아황산나트륨', '치자황색소']\n",
      "origin : 필리핀\n"
     ]
    }
   ],
   "source": [
    "dict = {\n",
    "    \"name\": \"7D 건조 망고\",\n",
    "    \"type\": \"당절임\",\n",
    "    \"ingredient\": [\"망고\", \"설탕\", \"메타중아황산나트륨\", \"치자황색소\"],\n",
    "    \"origin\": \"필리핀\"\n",
    "}\n",
    "\n",
    "for key in dict:\n",
    "    print(key, \":\", dict[key])"
   ]
  },
  {
   "cell_type": "markdown",
   "id": "a76bdd5d",
   "metadata": {},
   "source": [
    "### 마무리"
   ]
  },
  {
   "cell_type": "code",
   "execution_count": 3,
   "id": "e2479d39",
   "metadata": {},
   "outputs": [
    {
     "name": "stdout",
     "output_type": "stream",
     "text": [
      "# 우리 동네 애완 동물들\n",
      "구름 5살\n",
      "초코 3살\n",
      "아지 1살\n",
      "호랑이 1살\n"
     ]
    }
   ],
   "source": [
    "# P.227 - 2번\n",
    "pets = [\n",
    "    {'name': '구름', 'age': 5},\n",
    "    {'name': '초코', 'age': 3},\n",
    "    {'name': '아지', 'age': 1},\n",
    "    {'name': '호랑이', 'age': 1},\n",
    "]\n",
    "\n",
    "print(\"# 우리 동네 애완 동물들\")\n",
    "for pet in pets:\n",
    "    print(pet['name'], str(pet['age'])+\"살\")"
   ]
  },
  {
   "cell_type": "code",
   "execution_count": 4,
   "id": "78596a5d",
   "metadata": {},
   "outputs": [
    {
     "name": "stdout",
     "output_type": "stream",
     "text": [
      "{1: 3, 2: 4, 6: 1, 8: 2, 4: 3, 3: 3, 9: 3, 5: 2, 7: 2}\n"
     ]
    }
   ],
   "source": [
    "# p.228 - 3번\n",
    "numbers = [1,2,6,8,4,3,2,1,9,5,4,9,7,2,1,3,5,4,8,9,7,2,3]\n",
    "counter = {}\n",
    "\n",
    "for number in numbers:\n",
    "    if number in counter:\n",
    "        counter[number] += 1\n",
    "    else:\n",
    "        counter[number] = 1\n",
    "        \n",
    "print(counter)"
   ]
  },
  {
   "cell_type": "code",
   "execution_count": 5,
   "id": "d5c74c9f",
   "metadata": {},
   "outputs": [
    {
     "name": "stdout",
     "output_type": "stream",
     "text": [
      "name : 기사\n",
      "level : 12\n",
      "sword : 불꽃의 검\n",
      "armor : 풀플레이트\n",
      "skill : 베기\n",
      "skill : 세게 베기\n",
      "skill : 아주 세게 베기\n"
     ]
    }
   ],
   "source": [
    "# p.229 - 4번\n",
    "character = {\n",
    "    \"name\": \"기사\",\n",
    "    \"level\": 12,\n",
    "    \"items\": {\n",
    "        \"sword\": \"불꽃의 검\",\n",
    "        \"armor\": \"풀플레이트\"\n",
    "    },\n",
    "    \"skill\": [\"베기\", \"세게 베기\", \"아주 세게 베기\"]\n",
    "}\n",
    "\n",
    "for key in character:\n",
    "    if type(character[key]) is dict:\n",
    "        for small_key in character[key]:\n",
    "            print(small_key, \":\", character[key][small_key])\n",
    "    elif type(character[key]) is list:\n",
    "        for item in character[key]:\n",
    "            print(key, \":\", item)\n",
    "    else:\n",
    "        print(key, \":\", character[key])"
   ]
  },
  {
   "cell_type": "markdown",
   "id": "234d5693",
   "metadata": {},
   "source": [
    "## 4-3. 범위 자료형과 while 반복문\n",
    "### for 반복문: 범위와 함께 사용하기"
   ]
  },
  {
   "cell_type": "code",
   "execution_count": 1,
   "id": "e9d2bcba",
   "metadata": {},
   "outputs": [
    {
     "name": "stdout",
     "output_type": "stream",
     "text": [
      "0= 반복변수\n",
      "1= 반복변수\n",
      "2= 반복변수\n",
      "3= 반복변수\n",
      "4= 반복변수\n",
      "\n",
      "5= 반복변수\n",
      "6= 반복변수\n",
      "7= 반복변수\n",
      "8= 반복변수\n",
      "9= 반복변수\n",
      "\n",
      "0= 반복변수\n",
      "3= 반복변수\n",
      "6= 반복변수\n",
      "9= 반복변수\n"
     ]
    }
   ],
   "source": [
    "for i in range(5):\n",
    "    print(str(i) + \"= 반복변수\")\n",
    "print() # 한 줄 띄기\n",
    "\n",
    "for i in range(5,10):\n",
    "    print(str(i) + \"= 반복변수\")\n",
    "print()\n",
    "\n",
    "for i in range(0, 10, 3):\n",
    "    print(str(i) + \"= 반복변수\")"
   ]
  },
  {
   "cell_type": "markdown",
   "id": "55d7271c",
   "metadata": {},
   "source": [
    "### for 반복문: 리스트와 범위 조합하기"
   ]
  },
  {
   "cell_type": "code",
   "execution_count": 2,
   "id": "0433ae6b",
   "metadata": {},
   "outputs": [
    {
     "name": "stdout",
     "output_type": "stream",
     "text": [
      "273\n",
      "32\n",
      "103\n",
      "57\n",
      "52\n",
      "\n",
      "0번째 반복: 273\n",
      "1번째 반복: 32\n",
      "2번째 반복: 103\n",
      "3번째 반복: 57\n",
      "4번째 반복: 52\n"
     ]
    }
   ],
   "source": [
    "array = [273, 32, 103, 57, 52]\n",
    "\n",
    "for element in array:\n",
    "    print(element)\n",
    "print()\n",
    "\n",
    "for i in range(len(array)):\n",
    "    print(\"{}번째 반복: {}\".format(i, array[i]))"
   ]
  },
  {
   "cell_type": "markdown",
   "id": "0279cf21",
   "metadata": {},
   "source": [
    "### for 반복문: 반대로 반복하기"
   ]
  },
  {
   "cell_type": "code",
   "execution_count": null,
   "id": "2f22427d",
   "metadata": {},
   "outputs": [],
   "source": []
  },
  {
   "cell_type": "code",
   "execution_count": null,
   "id": "53a01d21",
   "metadata": {},
   "outputs": [],
   "source": []
  },
  {
   "cell_type": "code",
   "execution_count": null,
   "id": "b6b8f564",
   "metadata": {},
   "outputs": [],
   "source": []
  },
  {
   "cell_type": "code",
   "execution_count": null,
   "id": "75c6af09",
   "metadata": {},
   "outputs": [],
   "source": []
  }
 ],
 "metadata": {
  "kernelspec": {
   "display_name": "Python 3 (ipykernel)",
   "language": "python",
   "name": "python3"
  },
  "language_info": {
   "codemirror_mode": {
    "name": "ipython",
    "version": 3
   },
   "file_extension": ".py",
   "mimetype": "text/x-python",
   "name": "python",
   "nbconvert_exporter": "python",
   "pygments_lexer": "ipython3",
   "version": "3.9.7"
  }
 },
 "nbformat": 4,
 "nbformat_minor": 5
}
