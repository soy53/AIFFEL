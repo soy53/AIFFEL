{
 "cells": [
  {
   "cell_type": "code",
   "execution_count": 3,
   "id": "d1be3d2d",
   "metadata": {},
   "outputs": [
    {
     "name": "stdout",
     "output_type": "stream",
     "text": [
      "<class 'tuple'>\n"
     ]
    }
   ],
   "source": [
    "# 71\n",
    "my_variable = ()\n",
    "print(type(my_variable))"
   ]
  },
  {
   "cell_type": "code",
   "execution_count": 4,
   "id": "234796fe",
   "metadata": {},
   "outputs": [],
   "source": [
    "# 72\n",
    "movie_rank = ('닥터 스트레인지', '스플릿', '럭키')"
   ]
  },
  {
   "cell_type": "code",
   "execution_count": 6,
   "id": "cb5e6129",
   "metadata": {},
   "outputs": [
    {
     "name": "stdout",
     "output_type": "stream",
     "text": [
      "<class 'int'>\n",
      "<class 'tuple'>\n"
     ]
    }
   ],
   "source": [
    "# 73 - 다시\n",
    "number = (1)\n",
    "print(type(number))\n",
    "\n",
    "number1 = (1, )\n",
    "print(type(number1))"
   ]
  },
  {
   "cell_type": "code",
   "execution_count": 9,
   "id": "bd0d320d",
   "metadata": {},
   "outputs": [
    {
     "ename": "TypeError",
     "evalue": "'tuple' object does not support item assignment",
     "output_type": "error",
     "traceback": [
      "\u001b[0;31m---------------------------------------------------------------------------\u001b[0m",
      "\u001b[0;31mTypeError\u001b[0m                                 Traceback (most recent call last)",
      "\u001b[0;32m/tmp/ipykernel_634/117789217.py\u001b[0m in \u001b[0;36m<module>\u001b[0;34m\u001b[0m\n\u001b[1;32m      1\u001b[0m \u001b[0;31m# 74\u001b[0m\u001b[0;34m\u001b[0m\u001b[0;34m\u001b[0m\u001b[0m\n\u001b[1;32m      2\u001b[0m \u001b[0mt\u001b[0m \u001b[0;34m=\u001b[0m \u001b[0;34m(\u001b[0m\u001b[0;36m1\u001b[0m\u001b[0;34m,\u001b[0m \u001b[0;36m2\u001b[0m\u001b[0;34m,\u001b[0m \u001b[0;36m3\u001b[0m\u001b[0;34m)\u001b[0m\u001b[0;34m\u001b[0m\u001b[0;34m\u001b[0m\u001b[0m\n\u001b[0;32m----> 3\u001b[0;31m \u001b[0mt\u001b[0m\u001b[0;34m[\u001b[0m\u001b[0;36m0\u001b[0m\u001b[0;34m]\u001b[0m \u001b[0;34m=\u001b[0m \u001b[0;34m'a'\u001b[0m\u001b[0;34m\u001b[0m\u001b[0;34m\u001b[0m\u001b[0m\n\u001b[0m\u001b[1;32m      4\u001b[0m \u001b[0;31m# 오류발생원인 :\u001b[0m\u001b[0;34m\u001b[0m\u001b[0;34m\u001b[0m\u001b[0m\n",
      "\u001b[0;31mTypeError\u001b[0m: 'tuple' object does not support item assignment"
     ]
    }
   ],
   "source": [
    "# 74 - 다시\n",
    "t = (1, 2, 3)\n",
    "t[0] = 'a'\n",
    "# 오류발생원인 : 튜플은 원소의 값을 변경할 수 없기 때문이다."
   ]
  },
  {
   "cell_type": "code",
   "execution_count": 10,
   "id": "5de1a08c",
   "metadata": {},
   "outputs": [
    {
     "data": {
      "text/plain": [
       "tuple"
      ]
     },
     "execution_count": 10,
     "metadata": {},
     "output_type": "execute_result"
    }
   ],
   "source": [
    "# 75 - 다시\n",
    "t = 1, 2, 3, 4\n",
    "type(t)\n",
    "# tuple : 원칙적으로 괄호와 함께 데이터를 정의해야 하지만, 사용자 편의를 위해 괄호 없이도 동작"
   ]
  },
  {
   "cell_type": "code",
   "execution_count": 11,
   "id": "9546dda6",
   "metadata": {},
   "outputs": [
    {
     "data": {
      "text/plain": [
       "('A', 'b', 'c')"
      ]
     },
     "execution_count": 11,
     "metadata": {},
     "output_type": "execute_result"
    }
   ],
   "source": [
    "# 76 - 다시\n",
    "t = ('a', 'b', 'c')\n",
    "t = ('A', 'b', 'c')\n",
    "t\n",
    "# 튜플의 값을 변경할 수 없기 때문에 t[0] = 'A'는 에러가 발생하고 t변수를 업데이트 해주어야 한다."
   ]
  },
  {
   "cell_type": "code",
   "execution_count": 14,
   "id": "45f1c03d",
   "metadata": {},
   "outputs": [
    {
     "data": {
      "text/plain": [
       "list"
      ]
     },
     "execution_count": 14,
     "metadata": {},
     "output_type": "execute_result"
    }
   ],
   "source": [
    "# 77 - 다시\n",
    "interest = ('삼성전자', 'LG전자', 'SK Hynix')\n",
    "interest = list(interest)\n",
    "type(interest)"
   ]
  },
  {
   "cell_type": "code",
   "execution_count": 15,
   "id": "3f344e00",
   "metadata": {},
   "outputs": [
    {
     "data": {
      "text/plain": [
       "tuple"
      ]
     },
     "execution_count": 15,
     "metadata": {},
     "output_type": "execute_result"
    }
   ],
   "source": [
    "# 78\n",
    "interest = ['삼성전자', 'LG전자', 'SK Hynix']\n",
    "interest = tuple(interest)\n",
    "type(interest)"
   ]
  },
  {
   "cell_type": "code",
   "execution_count": 16,
   "id": "d0d5712e",
   "metadata": {},
   "outputs": [
    {
     "name": "stdout",
     "output_type": "stream",
     "text": [
      "apple banana cake\n"
     ]
    }
   ],
   "source": [
    "# 79\n",
    "temp = ('apple', 'banana', 'cake')\n",
    "a, b, c = temp\n",
    "print(a, b, c)\n",
    "# 정답 : apple banana cake"
   ]
  },
  {
   "cell_type": "code",
   "execution_count": 20,
   "id": "99dd1945",
   "metadata": {},
   "outputs": [
    {
     "name": "stdout",
     "output_type": "stream",
     "text": [
      "(2, 4, 6, 8, 10, 12, 14, 16, 18, 20, 22, 24, 26, 28, 30, 32, 34, 36, 38, 40, 42, 44, 46, 48, 50, 52, 54, 56, 58, 60, 62, 64, 66, 68, 70, 72, 74, 76, 78, 80, 82, 84, 86, 88, 90, 92, 94, 96, 98)\n"
     ]
    }
   ],
   "source": [
    "# 80 - 다시\n",
    "even = tuple(range(2, 100, 2))\n",
    "print(even)"
   ]
  },
  {
   "cell_type": "code",
   "execution_count": 21,
   "id": "b5f70726",
   "metadata": {},
   "outputs": [
    {
     "data": {
      "text/plain": [
       "[8.8, 8.9, 8.7, 9.2, 9.3, 9.7, 9.9, 9.5]"
      ]
     },
     "execution_count": 21,
     "metadata": {},
     "output_type": "execute_result"
    }
   ],
   "source": [
    "# 81 - 다시\n",
    "scores = [8.8, 8.9, 8.7, 9.2, 9.3, 9.7, 9.9, 9.5, 7.8, 9.4]\n",
    "*valid_score, a, b = scores\n",
    "valid_score"
   ]
  },
  {
   "cell_type": "markdown",
   "id": "0d1f34ad",
   "metadata": {},
   "source": [
    "- 데이터 언패킹은 좌변의 변수와 우변 데이터 개수가 같아야 한다. 하지만 star expression(*)을 사용하면 변수의 개수가 달라도 데이터 언패킹을 할 수 있다. 튜플에 저장된 데이터 중에서 앞에 있는 두 개의 데이터만 필요할 경우 나머지 데이터의 언패킹 코드를 작성할 필요가 없다."
   ]
  },
  {
   "cell_type": "code",
   "execution_count": 23,
   "id": "1f60cb79",
   "metadata": {},
   "outputs": [
    {
     "data": {
      "text/plain": [
       "[8.7, 9.2, 9.3, 9.7, 9.9, 9.5, 7.8, 9.4]"
      ]
     },
     "execution_count": 23,
     "metadata": {},
     "output_type": "execute_result"
    }
   ],
   "source": [
    "# 82\n",
    "scores = [8.8, 8.9, 8.7, 9.2, 9.3, 9.7, 9.9, 9.5, 7.8, 9.4]\n",
    "a, b, *valid_score = scores\n",
    "valid_score"
   ]
  },
  {
   "cell_type": "code",
   "execution_count": 24,
   "id": "0e561796",
   "metadata": {},
   "outputs": [
    {
     "data": {
      "text/plain": [
       "[8.9, 8.7, 9.2, 9.3, 9.7, 9.9, 9.5, 7.8]"
      ]
     },
     "execution_count": 24,
     "metadata": {},
     "output_type": "execute_result"
    }
   ],
   "source": [
    "# 83\n",
    "scores = [8.8, 8.9, 8.7, 9.2, 9.3, 9.7, 9.9, 9.5, 7.8, 9.4]\n",
    "a, *valid_score, b = scores\n",
    "valid_score"
   ]
  },
  {
   "cell_type": "code",
   "execution_count": null,
   "id": "fb1a30a4",
   "metadata": {},
   "outputs": [],
   "source": [
    "# 84\n",
    "temp = {}"
   ]
  },
  {
   "cell_type": "code",
   "execution_count": 25,
   "id": "b8d613be",
   "metadata": {},
   "outputs": [],
   "source": [
    "# 85\n",
    "ice_cream_price = {'메로나':1000, '폴라포':1200, '빵빠레':1800}"
   ]
  },
  {
   "cell_type": "markdown",
   "id": "544e3102",
   "metadata": {},
   "source": [
    "- [딕셔너리 추가, 삭제, 수정](https://devinside.tistory.com/161)"
   ]
  },
  {
   "cell_type": "code",
   "execution_count": 26,
   "id": "c6ff02d4",
   "metadata": {},
   "outputs": [
    {
     "data": {
      "text/plain": [
       "{'메로나': 1000, '폴라포': 1200, '빵빠레': 1800, '죠스바': 1200, '월드콘': 1500}"
      ]
     },
     "execution_count": 26,
     "metadata": {},
     "output_type": "execute_result"
    }
   ],
   "source": [
    "# 86 - 다시\n",
    "ice_cream_price['죠스바']=1200\n",
    "ice_cream_price['월드콘']=1500\n",
    "ice_cream_price"
   ]
  },
  {
   "cell_type": "code",
   "execution_count": 27,
   "id": "f19eafb4",
   "metadata": {},
   "outputs": [
    {
     "name": "stdout",
     "output_type": "stream",
     "text": [
      "메로나 가격:  1000\n"
     ]
    }
   ],
   "source": [
    "# 87\n",
    "ice = {'메로나': 1000,\n",
    "       '폴로포': 1200,\n",
    "       '빵빠레': 1800,\n",
    "       '죠스바': 1200,\n",
    "       '월드콘': 1500}\n",
    "print('메로나 가격: ', ice['메로나'])"
   ]
  },
  {
   "cell_type": "code",
   "execution_count": 28,
   "id": "9c7a46a4",
   "metadata": {},
   "outputs": [
    {
     "data": {
      "text/plain": [
       "{'메로나': 1300, '폴로포': 1200, '빵빠레': 1800, '죠스바': 1200, '월드콘': 1500}"
      ]
     },
     "execution_count": 28,
     "metadata": {},
     "output_type": "execute_result"
    }
   ],
   "source": [
    "# 88 - 다시\n",
    "ice = {'메로나': 1000,\n",
    "       '폴로포': 1200,\n",
    "       '빵빠레': 1800,\n",
    "       '죠스바': 1200,\n",
    "       '월드콘': 1500}\n",
    "ice['메로나']=1300\n",
    "ice"
   ]
  },
  {
   "cell_type": "code",
   "execution_count": 29,
   "id": "d937d23e",
   "metadata": {},
   "outputs": [
    {
     "data": {
      "text/plain": [
       "{'폴로포': 1200, '빵빠레': 1800, '죠스바': 1200, '월드콘': 1500}"
      ]
     },
     "execution_count": 29,
     "metadata": {},
     "output_type": "execute_result"
    }
   ],
   "source": [
    "# 89 - 다시\n",
    "ice = {'메로나': 1000,\n",
    "       '폴로포': 1200,\n",
    "       '빵빠레': 1800,\n",
    "       '죠스바': 1200,\n",
    "       '월드콘': 1500}\n",
    "del(ice['메로나'])\n",
    "ice"
   ]
  },
  {
   "cell_type": "code",
   "execution_count": 30,
   "id": "6c6d9a74",
   "metadata": {},
   "outputs": [
    {
     "ename": "KeyError",
     "evalue": "'누가바'",
     "output_type": "error",
     "traceback": [
      "\u001b[0;31m---------------------------------------------------------------------------\u001b[0m",
      "\u001b[0;31mKeyError\u001b[0m                                  Traceback (most recent call last)",
      "\u001b[0;32m/tmp/ipykernel_634/1311421980.py\u001b[0m in \u001b[0;36m<module>\u001b[0;34m\u001b[0m\n\u001b[1;32m      1\u001b[0m \u001b[0;31m# 90\u001b[0m\u001b[0;34m\u001b[0m\u001b[0;34m\u001b[0m\u001b[0m\n\u001b[1;32m      2\u001b[0m \u001b[0micecream\u001b[0m \u001b[0;34m=\u001b[0m \u001b[0;34m{\u001b[0m\u001b[0;34m'폴라포'\u001b[0m\u001b[0;34m:\u001b[0m \u001b[0;36m1200\u001b[0m\u001b[0;34m,\u001b[0m \u001b[0;34m'빵빠레'\u001b[0m\u001b[0;34m:\u001b[0m \u001b[0;36m1800\u001b[0m\u001b[0;34m,\u001b[0m \u001b[0;34m'월드콘'\u001b[0m\u001b[0;34m:\u001b[0m \u001b[0;36m1500\u001b[0m\u001b[0;34m,\u001b[0m \u001b[0;34m'메로나'\u001b[0m\u001b[0;34m:\u001b[0m \u001b[0;36m1000\u001b[0m\u001b[0;34m}\u001b[0m\u001b[0;34m\u001b[0m\u001b[0;34m\u001b[0m\u001b[0m\n\u001b[0;32m----> 3\u001b[0;31m \u001b[0micecream\u001b[0m\u001b[0;34m[\u001b[0m\u001b[0;34m'누가바'\u001b[0m\u001b[0;34m]\u001b[0m\u001b[0;34m\u001b[0m\u001b[0;34m\u001b[0m\u001b[0m\n\u001b[0m",
      "\u001b[0;31mKeyError\u001b[0m: '누가바'"
     ]
    }
   ],
   "source": [
    "# 90\n",
    "icecream = {'폴라포': 1200, '빵빠레': 1800, '월드콘': 1500, '메로나': 1000}\n",
    "icecream['누가바']\n",
    "# 에러가 난 이유 : icecream 딕셔너리에는 '누가바'라는 key가 없기 때문이다."
   ]
  },
  {
   "cell_type": "code",
   "execution_count": 31,
   "id": "0dad53bf",
   "metadata": {},
   "outputs": [
    {
     "data": {
      "text/plain": [
       "{'메로나': [300, 20], '비비빅': [400, 3], '죠스바': [250, 100]}"
      ]
     },
     "execution_count": 31,
     "metadata": {},
     "output_type": "execute_result"
    }
   ],
   "source": [
    "# 91 - 다시\n",
    "inventory = {\"메로나\": [300, 20],\n",
    "            \"비비빅\": [400, 3],\n",
    "            \"죠스바\": [250, 100]}\n",
    "inventory"
   ]
  },
  {
   "cell_type": "code",
   "execution_count": 33,
   "id": "1f8e0699",
   "metadata": {},
   "outputs": [
    {
     "name": "stdout",
     "output_type": "stream",
     "text": [
      "300 원\n"
     ]
    }
   ],
   "source": [
    "# 92\n",
    "inventory = {\"메로나\": [300, 20],\n",
    "              \"비비빅\": [400, 3],\n",
    "              \"죠스바\": [250, 100]}\n",
    "print(inventory[\"메로나\"][0], \"원\")"
   ]
  },
  {
   "cell_type": "code",
   "execution_count": 34,
   "id": "214e4b9c",
   "metadata": {},
   "outputs": [
    {
     "name": "stdout",
     "output_type": "stream",
     "text": [
      "20 개\n"
     ]
    }
   ],
   "source": [
    "# 93\n",
    "inventory = {\"메로나\": [300, 20],\n",
    "              \"비비빅\": [400, 3],\n",
    "              \"죠스바\": [250, 100]}\n",
    "print(inventory[\"메로나\"][1], \"개\")"
   ]
  },
  {
   "cell_type": "code",
   "execution_count": 35,
   "id": "14448fb5",
   "metadata": {},
   "outputs": [
    {
     "name": "stdout",
     "output_type": "stream",
     "text": [
      "{'메로나': [300, 20], '비비빅': [400, 3], '죠스바': [250, 100], '월드콘': [500, 7]}\n"
     ]
    }
   ],
   "source": [
    "# 94\n",
    "inventory = {\"메로나\": [300, 20],\n",
    "              \"비비빅\": [400, 3],\n",
    "              \"죠스바\": [250, 100]}\n",
    "inventory[\"월드콘\"] = [500, 7]\n",
    "print(inventory)"
   ]
  },
  {
   "cell_type": "code",
   "execution_count": 39,
   "id": "b2475494",
   "metadata": {},
   "outputs": [
    {
     "name": "stdout",
     "output_type": "stream",
     "text": [
      "['탱크보이', '폴라포', '빵빠레', '월드콘', '메로나']\n"
     ]
    }
   ],
   "source": [
    "# 95 - 다시\n",
    "icecream = {'탱크보이': 1200, '폴라포': 1200, '빵빠레': 1800, '월드콘': 1500, '메로나': 1000}\n",
    "ice = list(icecream.keys())\n",
    "print(ice)"
   ]
  },
  {
   "cell_type": "code",
   "execution_count": 40,
   "id": "ba9cb60a",
   "metadata": {},
   "outputs": [
    {
     "name": "stdout",
     "output_type": "stream",
     "text": [
      "[1200, 1200, 1800, 1500, 1000]\n"
     ]
    }
   ],
   "source": [
    "# 96\n",
    "icecream = {'탱크보이': 1200, '폴라포': 1200, '빵빠레': 1800, '월드콘': 1500, '메로나': 1000}\n",
    "price = list(icecream.values())\n",
    "print(price)"
   ]
  },
  {
   "cell_type": "code",
   "execution_count": 42,
   "id": "25104bd5",
   "metadata": {},
   "outputs": [
    {
     "name": "stdout",
     "output_type": "stream",
     "text": [
      "6700\n"
     ]
    }
   ],
   "source": [
    "# 97\n",
    "icecream = {'탱크보이': 1200, '폴라포': 1200, '빵빠레': 1800, '월드콘': 1500, '메로나': 1000}\n",
    "price = list(icecream.values())\n",
    "print(sum(price))"
   ]
  },
  {
   "cell_type": "code",
   "execution_count": 46,
   "id": "5de6e6e8",
   "metadata": {},
   "outputs": [
    {
     "name": "stdout",
     "output_type": "stream",
     "text": [
      "{'탱크보이': 1200, '폴라포': 1200, '빵빠레': 1800, '월드콘': 1500, '메로나': 1000, '팥빙수': 2700, '아맛나': 1000}\n"
     ]
    }
   ],
   "source": [
    "# 98 - 다시\n",
    "icecream = {'탱크보이': 1200, '폴라포': 1200, '빵빠레': 1800, '월드콘': 1500, '메로나': 1000}\n",
    "new_product = {'팥빙수':2700, '아맛나':1000}\n",
    "icecream.update(new_product)\n",
    "print(icecream)"
   ]
  },
  {
   "cell_type": "code",
   "execution_count": 48,
   "id": "f51489ec",
   "metadata": {},
   "outputs": [
    {
     "name": "stdout",
     "output_type": "stream",
     "text": [
      "{'apple': 300, 'pear': 250, 'peach': 400}\n"
     ]
    }
   ],
   "source": [
    "# 99 - 다시\n",
    "keys = (\"apple\", \"pear\", \"peach\")\n",
    "vals = (300, 250, 400)\n",
    "result = dict(zip(keys, vals))\n",
    "print(result)"
   ]
  },
  {
   "cell_type": "code",
   "execution_count": 49,
   "id": "80c2bb1b",
   "metadata": {},
   "outputs": [
    {
     "name": "stdout",
     "output_type": "stream",
     "text": [
      "{'09/05': 10500, '09/06': 10300, '09/07': 10100, '09/08': 10800, '09/09': 11000}\n"
     ]
    }
   ],
   "source": [
    "# 100\n",
    "date = ['09/05', '09/06', '09/07', '09/08', '09/09']\n",
    "close_price = [10500, 10300, 10100, 10800, 11000]\n",
    "close_table = dict(zip(date, close_price))\n",
    "print(close_table)"
   ]
  },
  {
   "cell_type": "code",
   "execution_count": null,
   "id": "231b355e",
   "metadata": {},
   "outputs": [],
   "source": [
    "# 101 - 다시\n",
    "# True 혹은 False를 갖는 데이터 타입 : bool타입"
   ]
  },
  {
   "cell_type": "code",
   "execution_count": 50,
   "id": "e3826617",
   "metadata": {},
   "outputs": [
    {
     "name": "stdout",
     "output_type": "stream",
     "text": [
      "False\n"
     ]
    }
   ],
   "source": [
    "# 102\n",
    "print(3 == 5)\n",
    "# 정답 : False"
   ]
  },
  {
   "cell_type": "code",
   "execution_count": 51,
   "id": "65630133",
   "metadata": {},
   "outputs": [
    {
     "name": "stdout",
     "output_type": "stream",
     "text": [
      "True\n"
     ]
    }
   ],
   "source": [
    "# 103\n",
    "print(3 < 5)\n",
    "# 정답 : True"
   ]
  },
  {
   "cell_type": "code",
   "execution_count": 52,
   "id": "f2637248",
   "metadata": {},
   "outputs": [
    {
     "name": "stdout",
     "output_type": "stream",
     "text": [
      "True\n"
     ]
    }
   ],
   "source": [
    "# 104\n",
    "x = 4\n",
    "print(1 < x < 5)\n",
    "# 정답 : True"
   ]
  },
  {
   "cell_type": "code",
   "execution_count": 53,
   "id": "25b7af36",
   "metadata": {},
   "outputs": [
    {
     "name": "stdout",
     "output_type": "stream",
     "text": [
      "True\n"
     ]
    }
   ],
   "source": [
    "# 105\n",
    "print ((3 == 3) and (4 != 3))\n",
    "# 정답 : True"
   ]
  },
  {
   "cell_type": "code",
   "execution_count": 54,
   "id": "f20006e6",
   "metadata": {},
   "outputs": [
    {
     "ename": "SyntaxError",
     "evalue": "expression cannot contain assignment, perhaps you meant \"==\"? (1548934863.py, line 2)",
     "output_type": "error",
     "traceback": [
      "\u001b[0;36m  File \u001b[0;32m\"/tmp/ipykernel_634/1548934863.py\"\u001b[0;36m, line \u001b[0;32m2\u001b[0m\n\u001b[0;31m    print(3 => 4)\u001b[0m\n\u001b[0m          ^\u001b[0m\n\u001b[0;31mSyntaxError\u001b[0m\u001b[0;31m:\u001b[0m expression cannot contain assignment, perhaps you meant \"==\"?\n"
     ]
    }
   ],
   "source": [
    "# 106\n",
    "print(3 => 4)\n",
    "# 에러가 발생하는 이유 : =>는 의미가 없기 때문(지원하지 않는 연산자)"
   ]
  },
  {
   "cell_type": "code",
   "execution_count": 55,
   "id": "0aeb1f10",
   "metadata": {},
   "outputs": [],
   "source": [
    "# 107\n",
    "if 4 < 3:\n",
    "    print(\"Hello World\")\n",
    "# 정답 : None(아무런 결과도 출력되지 않는다.)"
   ]
  },
  {
   "cell_type": "code",
   "execution_count": 56,
   "id": "ec831b69",
   "metadata": {},
   "outputs": [
    {
     "name": "stdout",
     "output_type": "stream",
     "text": [
      "Hi, there.\n"
     ]
    }
   ],
   "source": [
    "# 108\n",
    "if 4 < 3:\n",
    "    print(\"Hello World.\")\n",
    "else:\n",
    "    print(\"Hi, there.\")\n",
    "# 정답 : Hi, there."
   ]
  },
  {
   "cell_type": "code",
   "execution_count": 57,
   "id": "a3686b4f",
   "metadata": {},
   "outputs": [
    {
     "name": "stdout",
     "output_type": "stream",
     "text": [
      "1\n",
      "2\n",
      "4\n"
     ]
    }
   ],
   "source": [
    "# 109 - 다시\n",
    "if True :\n",
    "    print (\"1\")\n",
    "    print (\"2\")\n",
    "else :\n",
    "    print(\"3\")\n",
    "print(\"4\")\n",
    "# 정답 : 1 2 4(조건은 이미 True -> 1 2 + print(\"4\") -> 4)"
   ]
  },
  {
   "cell_type": "code",
   "execution_count": 58,
   "id": "b6ce9806",
   "metadata": {},
   "outputs": [
    {
     "name": "stdout",
     "output_type": "stream",
     "text": [
      "3\n",
      "5\n"
     ]
    }
   ],
   "source": [
    "# 110\n",
    "if True :\n",
    "    if False:\n",
    "        print(\"1\")\n",
    "        print(\"2\")\n",
    "    else:\n",
    "        print(\"3\")\n",
    "else :\n",
    "    print(\"4\")\n",
    "print(\"5\")\n",
    "# 정답 : 3 5"
   ]
  },
  {
   "cell_type": "code",
   "execution_count": 60,
   "id": "bd458e5a",
   "metadata": {},
   "outputs": [
    {
     "name": "stdout",
     "output_type": "stream",
     "text": [
      "입력:안녕하세요\n",
      "안녕하세요안녕하세요\n"
     ]
    }
   ],
   "source": [
    "# 111 - 다시\n",
    "user = input(\"입력:\")\n",
    "print(user * 2)"
   ]
  },
  {
   "cell_type": "code",
   "execution_count": 63,
   "id": "664ce8e7",
   "metadata": {},
   "outputs": [
    {
     "name": "stdout",
     "output_type": "stream",
     "text": [
      "숫자를 입력하세요:30\n",
      "40\n"
     ]
    }
   ],
   "source": [
    "# 112\n",
    "user = input(\"숫자를 입력하세요:\")\n",
    "print(int(user) + 10)"
   ]
  },
  {
   "cell_type": "code",
   "execution_count": 64,
   "id": "32631a1b",
   "metadata": {},
   "outputs": [
    {
     "name": "stdout",
     "output_type": "stream",
     "text": [
      "입력:30\n",
      "짝수\n"
     ]
    }
   ],
   "source": [
    "# 113\n",
    "user = input(\"입력:\")\n",
    "if int(user)%2 == 0:\n",
    "    print(\"짝수\")\n",
    "else :\n",
    "    print(\"홀수\")"
   ]
  },
  {
   "cell_type": "code",
   "execution_count": 66,
   "id": "fc2a01f0",
   "metadata": {},
   "outputs": [
    {
     "name": "stdout",
     "output_type": "stream",
     "text": [
      "입력값: 240\n",
      "출력값:  255\n"
     ]
    }
   ],
   "source": [
    "# 114\n",
    "user = input(\"입력값: \")\n",
    "if int(user) + 20 <= 255:\n",
    "    print(\"출력값: \", int(user) + 20)\n",
    "else :\n",
    "    print(\"출력값: \", 255)"
   ]
  },
  {
   "cell_type": "code",
   "execution_count": 68,
   "id": "d910e09d",
   "metadata": {},
   "outputs": [
    {
     "name": "stdout",
     "output_type": "stream",
     "text": [
      "입력값: 15\n",
      "출력값:  0\n"
     ]
    }
   ],
   "source": [
    "# 115\n",
    "user = input(\"입력값: \")\n",
    "num = int(user) - 20\n",
    "if num < 0:\n",
    "    print(\"출력값: \", 0)\n",
    "elif num > 255:\n",
    "    print(\"출력값 :\", 255)\n",
    "else :\n",
    "    print(\"출력값: \", num)"
   ]
  },
  {
   "cell_type": "code",
   "execution_count": 71,
   "id": "38b66184",
   "metadata": {},
   "outputs": [
    {
     "name": "stdout",
     "output_type": "stream",
     "text": [
      "현재시간: 02:00\n",
      "정각 입니다.\n"
     ]
    }
   ],
   "source": [
    "# 116 - 다시\n",
    "user = input(\"현재시간: \")\n",
    "if user[3:] == \"00\":\n",
    "    print(\"정각 입니다.\")\n",
    "else :\n",
    "    print(\"정각이 아닙니다.\")"
   ]
  },
  {
   "cell_type": "code",
   "execution_count": 73,
   "id": "1ae186d6",
   "metadata": {},
   "outputs": [
    {
     "name": "stdout",
     "output_type": "stream",
     "text": [
      "좋아하는 과일은? 사과\n",
      "정답입니다.\n"
     ]
    }
   ],
   "source": [
    "# 117 - 다시\n",
    "fruit = [\"사과\", \"포도\", \"홍시\"]\n",
    "user = input(\"좋아하는 과일은? \")\n",
    "if user in fruit:\n",
    "    print(\"정답입니다.\")\n",
    "else :\n",
    "    print(\"오답입니다.\")"
   ]
  },
  {
   "cell_type": "code",
   "execution_count": 74,
   "id": "ab986dfd",
   "metadata": {},
   "outputs": [
    {
     "name": "stdout",
     "output_type": "stream",
     "text": [
      "투자 종목명: Google\n",
      "투자 경고 종목입니다.\n"
     ]
    }
   ],
   "source": [
    "# 118\n",
    "warn_investment_list = [\"Microsoft\", \"Google\", \"Naver\", \"Kakao\", \"SAMSUNG\", \"LG\"]\n",
    "user = input(\"투자 종목명: \")\n",
    "if user in warn_investment_list:\n",
    "    print(\"투자 경고 종목입니다.\")\n",
    "else:\n",
    "    print(\"투자 경고 종목이 아닙니다.\")"
   ]
  },
  {
   "cell_type": "code",
   "execution_count": 82,
   "id": "8fe919ec",
   "metadata": {},
   "outputs": [
    {
     "name": "stdout",
     "output_type": "stream",
     "text": [
      "제가 좋아하는 계절은: 봄\n",
      "정답입니다.\n"
     ]
    }
   ],
   "source": [
    "# 119\n",
    "fruit = {\"봄\" : \"딸기\", \"여름\" : \"토마토\", \"가을\" : \"사과\"}\n",
    "user = input(\"제가 좋아하는 계절은: \")\n",
    "if user in fruit.keys():\n",
    "    print(\"정답입니다.\")\n",
    "else:\n",
    "    print(\"오답입니다.\")"
   ]
  },
  {
   "cell_type": "code",
   "execution_count": 80,
   "id": "ba9b00f6",
   "metadata": {},
   "outputs": [
    {
     "name": "stdout",
     "output_type": "stream",
     "text": [
      "제가 좋아하는 계절은: 한라봉\n",
      "오답입니다.\n"
     ]
    }
   ],
   "source": [
    "# 120\n",
    "fruit = {\"봄\" : \"딸기\", \"여름\" : \"토마토\", \"가을\" : \"사과\"}\n",
    "user = input(\"제가 좋아하는 계절은: \")\n",
    "if user in fruit.values():\n",
    "    print(\"정답입니다.\")\n",
    "else:\n",
    "    print(\"오답입니다.\")"
   ]
  },
  {
   "cell_type": "code",
   "execution_count": 87,
   "id": "8ba99126",
   "metadata": {},
   "outputs": [
    {
     "name": "stdout",
     "output_type": "stream",
     "text": [
      "문자: a\n",
      "A\n"
     ]
    }
   ],
   "source": [
    "# 121 - 다시\n",
    "user = input(\"문자: \")\n",
    "if user.islower() == True:\n",
    "    print(user.upper())\n",
    "else:\n",
    "    print(user.lower())"
   ]
  },
  {
   "cell_type": "markdown",
   "id": "d626d861",
   "metadata": {},
   "source": [
    "[upper, lower, isupper, islower](https://m.blog.naver.com/PostView.naver?isHttpsRedirect=true&blogId=daeqws4&logNo=221378618418)\n",
    "- islower() : 소문자 여부 판별 / upper() / lower()"
   ]
  },
  {
   "cell_type": "code",
   "execution_count": 88,
   "id": "45830805",
   "metadata": {},
   "outputs": [
    {
     "name": "stdout",
     "output_type": "stream",
     "text": [
      "score: 83\n",
      "grade is A\n"
     ]
    }
   ],
   "source": [
    "# 122\n",
    "score = input(\"score: \")\n",
    "score = int(score)\n",
    "if 81 <= score <= 100:\n",
    "    print(\"grade is A\")\n",
    "elif 61 <= score <= 80:\n",
    "    print(\"grade is B\")\n",
    "elif 41 <= score <= 60:\n",
    "    print(\"grade is C\")\n",
    "elif 21 <= score <= 40:\n",
    "    print(\"grade is D\")\n",
    "else:\n",
    "    print(\"grade is E\")"
   ]
  },
  {
   "cell_type": "code",
   "execution_count": 89,
   "id": "230fc1cf",
   "metadata": {},
   "outputs": [
    {
     "name": "stdout",
     "output_type": "stream",
     "text": [
      "입력: 100 달러\n",
      "116700.0 원\n"
     ]
    }
   ],
   "source": [
    "# 123 - 다시\n",
    "exchange = {\"달러\": 1167, \"엔\": 1.096, \"유로\": 1268, \"위안\": 171}\n",
    "user = input(\"입력: \")\n",
    "num, currency = user.split()\n",
    "print(float(num) * exchange[currency], \"원\")"
   ]
  },
  {
   "cell_type": "code",
   "execution_count": 90,
   "id": "a0c3cc61",
   "metadata": {},
   "outputs": [
    {
     "name": "stdout",
     "output_type": "stream",
     "text": [
      "number1: 10\n",
      "number2: 9\n",
      "number3: 20\n",
      "20\n"
     ]
    }
   ],
   "source": [
    "# 124\n",
    "number1 = input(\"number1: \")\n",
    "number2 = input(\"number2: \")\n",
    "number3 = input(\"number3: \")\n",
    "print(max(int(number1), int(number2), int(number3)))"
   ]
  },
  {
   "cell_type": "code",
   "execution_count": 91,
   "id": "a439b638",
   "metadata": {},
   "outputs": [
    {
     "name": "stdout",
     "output_type": "stream",
     "text": [
      "input number1: 10\n",
      "input number2: 9\n",
      "input number3: 20\n",
      "20\n"
     ]
    }
   ],
   "source": [
    "# 124 다른 정답\n",
    "num1 = input(\"input number1: \")\n",
    "num2 = input(\"input number2: \")\n",
    "num3 = input(\"input number3: \")\n",
    "num1 = int(num1)\n",
    "num2 = int(num2)\n",
    "num3 = int(num3)\n",
    "\n",
    "if num1 >= num2 and num1 >= num3:\n",
    "    print(num1)\n",
    "elif num2 >= num1 and num2 >= num3:\n",
    "    print(num2)\n",
    "else:\n",
    "    print(num3)"
   ]
  },
  {
   "cell_type": "code",
   "execution_count": 92,
   "id": "0d02d962",
   "metadata": {},
   "outputs": [
    {
     "name": "stdout",
     "output_type": "stream",
     "text": [
      "휴대전화 번호 입력: 011-345-1922\n",
      "당신은 SKT 사용자입니다.\n"
     ]
    }
   ],
   "source": [
    "# 125\n",
    "user = input(\"휴대전화 번호 입력: \")\n",
    "if user[:3] == \"011\":\n",
    "    print(\"당신은 SKT 사용자입니다.\")\n",
    "elif user[:3] == \"016\":\n",
    "    print(\"당신은 KT 사용자입니다.\")\n",
    "elif user[:3] == \"019\":\n",
    "    print(\"당신은 LGU 사용자입니다.\")\n",
    "else:\n",
    "    print(\"알수없음\")"
   ]
  },
  {
   "cell_type": "code",
   "execution_count": 9,
   "id": "ba577ebd",
   "metadata": {},
   "outputs": [
    {
     "name": "stdout",
     "output_type": "stream",
     "text": [
      "우편번호: 01400\n",
      "도봉구\n"
     ]
    }
   ],
   "source": [
    "# 126\n",
    "user = input(\"우편번호: \")\n",
    "if user[2] in [\"0\",\"1\",\"2\"]:\n",
    "    print(\"강북구\")\n",
    "elif user[2] in [\"3\",\"4\",\"5\"]:\n",
    "    print(\"도봉구\")\n",
    "else:\n",
    "    print(\"노원구\")"
   ]
  },
  {
   "cell_type": "code",
   "execution_count": 7,
   "id": "931f5e5c",
   "metadata": {},
   "outputs": [
    {
     "name": "stdout",
     "output_type": "stream",
     "text": [
      "주민등록번호: 821010-1635210\n",
      "남자\n"
     ]
    }
   ],
   "source": [
    "# 127\n",
    "user = input(\"주민등록번호: \")\n",
    "if user[7] in [\"1\",\"3\"]:\n",
    "    print(\"남자\")\n",
    "else:\n",
    "    print(\"여자\")"
   ]
  },
  {
   "cell_type": "code",
   "execution_count": 6,
   "id": "9f25e448",
   "metadata": {},
   "outputs": [
    {
     "name": "stdout",
     "output_type": "stream",
     "text": [
      "주민등록번호: 861010-1015210\n",
      "서울 입니다.\n"
     ]
    }
   ],
   "source": [
    "# 128\n",
    "user = input(\"주민등록번호: \")\n",
    "if user[8:10] in ['00','01','02','03','04','05','06','07','08']:\n",
    "    print(\"서울 입니다.\")\n",
    "else:\n",
    "    print(\"서울이 아닙니다\")"
   ]
  },
  {
   "cell_type": "code",
   "execution_count": 14,
   "id": "5e0dee85",
   "metadata": {},
   "outputs": [
    {
     "name": "stdout",
     "output_type": "stream",
     "text": [
      "주민등록번호: 821010-1635210\n",
      "유효하지 않은 주민등록번호입니다.\n"
     ]
    }
   ],
   "source": [
    "# 129\n",
    "user = input(\"주민등록번호: \")\n",
    "first = int(user[0])*2 + int(user[1])*3 + int(user[2])*4 + int(user[3])*5 + int(user[4])*6 + int(user[5])*7 + int(user[7])*8 + int(user[8])*9 + int(user[9])*2 + int(user[10])*3 + int(user[11])*4 + int(user[12])*5\n",
    "first_re = first % 11\n",
    "second = 11 - first_re\n",
    "if int(user[13]) == second:\n",
    "    print(\"유효한 주민등록번호입니다.\")\n",
    "else:\n",
    "    print(\"유효하지 않은 주민등록번호입니다.\")"
   ]
  },
  {
   "cell_type": "code",
   "execution_count": 28,
   "id": "7daab09f",
   "metadata": {},
   "outputs": [
    {
     "name": "stdout",
     "output_type": "stream",
     "text": [
      "dict_keys(['opening_price', 'closing_price', 'min_price', 'max_price', 'units_traded', 'acc_trade_value', 'prev_closing_price', 'units_traded_24H', 'acc_trade_value_24H', 'fluctate_24H', 'fluctate_rate_24H', 'date'])\n",
      "dict_values(['22856000', '22775000', '22751000', '22906000', '1755.02673539', '40087953915.7702', '22857000', '1761.77468617', '40242178910.8223', '-81000', '-0.35', '1670770442761'])\n"
     ]
    }
   ],
   "source": [
    "# 130\n",
    "import requests\n",
    "btc = requests.get(\"https://api.bithumb.com/public/ticker/\").json()['data']\n",
    "\n",
    "print(btc.keys())\n",
    "print(btc.values())"
   ]
  },
  {
   "cell_type": "code",
   "execution_count": 32,
   "id": "e94a7776",
   "metadata": {},
   "outputs": [
    {
     "name": "stdout",
     "output_type": "stream",
     "text": [
      "상승장\n"
     ]
    }
   ],
   "source": [
    "if float(btc['opening_price']) + float(btc['max_price']) - float(btc['min_price']) > float(btc['max_price']):\n",
    "    print(\"상승장\")\n",
    "else:\n",
    "    print(\"하락장\")"
   ]
  },
  {
   "cell_type": "code",
   "execution_count": 33,
   "id": "798f3923",
   "metadata": {},
   "outputs": [
    {
     "name": "stdout",
     "output_type": "stream",
     "text": [
      "사과\n",
      "귤\n",
      "수박\n"
     ]
    }
   ],
   "source": [
    "# 131\n",
    "과일 = [\"사과\", \"귤\", \"수박\"]\n",
    "for 변수 in 과일:\n",
    "    print(변수)\n",
    "# 정답 : 사과 귤 수박"
   ]
  },
  {
   "cell_type": "code",
   "execution_count": 34,
   "id": "5c33c7d7",
   "metadata": {},
   "outputs": [
    {
     "name": "stdout",
     "output_type": "stream",
     "text": [
      "#####\n",
      "#####\n",
      "#####\n"
     ]
    }
   ],
   "source": [
    "# 132 - 다시\n",
    "과일 = [\"사과\", \"귤\", \"수박\"]\n",
    "for 변수 in 과일:\n",
    "  print(\"#####\")\n",
    "# 정답 : ??? -> 들여쓰기된 코드가 자료구조에 저장된 데이터 개수만큼 반복된다."
   ]
  },
  {
   "cell_type": "code",
   "execution_count": 36,
   "id": "dcb2baaa",
   "metadata": {},
   "outputs": [
    {
     "name": "stdout",
     "output_type": "stream",
     "text": [
      "A\n",
      "B\n",
      "C\n"
     ]
    }
   ],
   "source": [
    "# 133\n",
    "for 변수 in [\"A\", \"B\", \"C\"]:\n",
    "  print(변수)"
   ]
  },
  {
   "cell_type": "code",
   "execution_count": 38,
   "id": "aac98fc7",
   "metadata": {},
   "outputs": [
    {
     "name": "stdout",
     "output_type": "stream",
     "text": [
      "A\n",
      "B\n",
      "C\n"
     ]
    }
   ],
   "source": [
    "print(\"A\")\n",
    "print(\"B\")\n",
    "print(\"C\")"
   ]
  },
  {
   "cell_type": "code",
   "execution_count": 39,
   "id": "7e957de2",
   "metadata": {},
   "outputs": [
    {
     "name": "stdout",
     "output_type": "stream",
     "text": [
      "출력: A\n",
      "출력: B\n",
      "출력: C\n"
     ]
    }
   ],
   "source": [
    "# 134\n",
    "for 변수 in [\"A\", \"B\", \"C\"]:\n",
    "  print(\"출력:\", 변수)"
   ]
  },
  {
   "cell_type": "code",
   "execution_count": 40,
   "id": "b7747c4c",
   "metadata": {},
   "outputs": [
    {
     "name": "stdout",
     "output_type": "stream",
     "text": [
      "출력: A\n",
      "출력: B\n",
      "출력: C\n"
     ]
    }
   ],
   "source": [
    "print(\"출력: A\")\n",
    "print(\"출력: B\")\n",
    "print(\"출력: C\")"
   ]
  },
  {
   "cell_type": "code",
   "execution_count": 41,
   "id": "97fb427b",
   "metadata": {},
   "outputs": [
    {
     "name": "stdout",
     "output_type": "stream",
     "text": [
      "변환: a\n",
      "변환: b\n",
      "변환: c\n"
     ]
    }
   ],
   "source": [
    "# 135\n",
    "for 변수 in [\"A\", \"B\", \"C\"]:\n",
    "  b = 변수.lower()\n",
    "  print(\"변환:\", b)"
   ]
  },
  {
   "cell_type": "code",
   "execution_count": 42,
   "id": "f18b64e4",
   "metadata": {},
   "outputs": [
    {
     "name": "stdout",
     "output_type": "stream",
     "text": [
      "변환: a\n",
      "변환: b\n",
      "변환: c\n"
     ]
    }
   ],
   "source": [
    "print(\"변환: a\")\n",
    "print(\"변환: b\")\n",
    "print(\"변환: c\")"
   ]
  },
  {
   "cell_type": "code",
   "execution_count": 46,
   "id": "d83007e9",
   "metadata": {},
   "outputs": [
    {
     "name": "stdout",
     "output_type": "stream",
     "text": [
      "10\n",
      "20\n",
      "30\n"
     ]
    }
   ],
   "source": [
    "# 136\n",
    "변수 = 10\n",
    "print(변수)\n",
    "변수 = 20\n",
    "print(변수)\n",
    "변수 = 30\n",
    "print(변수)"
   ]
  },
  {
   "cell_type": "code",
   "execution_count": 43,
   "id": "4c047f58",
   "metadata": {},
   "outputs": [
    {
     "name": "stdout",
     "output_type": "stream",
     "text": [
      "10\n",
      "20\n",
      "30\n"
     ]
    }
   ],
   "source": [
    "for 변수 in [\"10\", \"20\", \"30\"]:\n",
    "    print(변수)"
   ]
  },
  {
   "cell_type": "code",
   "execution_count": 45,
   "id": "a46d13ae",
   "metadata": {},
   "outputs": [
    {
     "name": "stdout",
     "output_type": "stream",
     "text": [
      "10\n",
      "20\n",
      "30\n"
     ]
    }
   ],
   "source": [
    "# 137\n",
    "print(10)\n",
    "print(20)\n",
    "print(30)"
   ]
  },
  {
   "cell_type": "code",
   "execution_count": 44,
   "id": "f11a2a5a",
   "metadata": {},
   "outputs": [
    {
     "name": "stdout",
     "output_type": "stream",
     "text": [
      "10\n",
      "20\n",
      "30\n"
     ]
    }
   ],
   "source": [
    "for 변수 in [\"10\", \"20\", \"30\"]:\n",
    "    print(변수)"
   ]
  },
  {
   "cell_type": "code",
   "execution_count": 48,
   "id": "3a7e0d8e",
   "metadata": {},
   "outputs": [
    {
     "name": "stdout",
     "output_type": "stream",
     "text": [
      "10\n",
      "-------\n",
      "20\n",
      "-------\n",
      "30\n",
      "-------\n"
     ]
    }
   ],
   "source": [
    "# 138\n",
    "print(10)\n",
    "print(\"-------\")\n",
    "print(20)\n",
    "print(\"-------\")\n",
    "print(30)\n",
    "print(\"-------\")"
   ]
  },
  {
   "cell_type": "code",
   "execution_count": 47,
   "id": "010dfb5f",
   "metadata": {},
   "outputs": [
    {
     "name": "stdout",
     "output_type": "stream",
     "text": [
      "10\n",
      "-------\n",
      "20\n",
      "-------\n",
      "30\n",
      "-------\n"
     ]
    }
   ],
   "source": [
    "for 변수 in [\"10\",\"20\",\"30\"]:\n",
    "    print(변수)\n",
    "    print(\"-------\")"
   ]
  },
  {
   "cell_type": "code",
   "execution_count": 50,
   "id": "f8d2d540",
   "metadata": {},
   "outputs": [
    {
     "name": "stdout",
     "output_type": "stream",
     "text": [
      "++++\n",
      "10\n",
      "20\n",
      "30\n"
     ]
    }
   ],
   "source": [
    "# 139\n",
    "print(\"++++\")\n",
    "print(10)\n",
    "print(20)\n",
    "print(30)"
   ]
  },
  {
   "cell_type": "code",
   "execution_count": 49,
   "id": "05432001",
   "metadata": {},
   "outputs": [
    {
     "name": "stdout",
     "output_type": "stream",
     "text": [
      "++++\n",
      "10\n",
      "20\n",
      "30\n"
     ]
    }
   ],
   "source": [
    "print(\"++++\")\n",
    "for 변수 in ['10','20','30']:\n",
    "    print(변수)"
   ]
  },
  {
   "cell_type": "code",
   "execution_count": 53,
   "id": "ddefc7d6",
   "metadata": {},
   "outputs": [
    {
     "name": "stdout",
     "output_type": "stream",
     "text": [
      "-------\n",
      "-------\n",
      "-------\n",
      "-------\n"
     ]
    }
   ],
   "source": [
    "# 140\n",
    "print(\"-------\")\n",
    "print(\"-------\")\n",
    "print(\"-------\")\n",
    "print(\"-------\")"
   ]
  },
  {
   "cell_type": "code",
   "execution_count": 52,
   "id": "ce90f81b",
   "metadata": {},
   "outputs": [
    {
     "name": "stdout",
     "output_type": "stream",
     "text": [
      "-------\n",
      "-------\n",
      "-------\n",
      "-------\n"
     ]
    }
   ],
   "source": [
    "for 변수 in range(4):\n",
    "    print(\"-------\")"
   ]
  }
 ],
 "metadata": {
  "kernelspec": {
   "display_name": "Python 3 (ipykernel)",
   "language": "python",
   "name": "python3"
  },
  "language_info": {
   "codemirror_mode": {
    "name": "ipython",
    "version": 3
   },
   "file_extension": ".py",
   "mimetype": "text/x-python",
   "name": "python",
   "nbconvert_exporter": "python",
   "pygments_lexer": "ipython3",
   "version": "3.9.7"
  }
 },
 "nbformat": 4,
 "nbformat_minor": 5
}
