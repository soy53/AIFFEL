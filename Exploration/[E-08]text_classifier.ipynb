{
 "cells": [
  {
   "cell_type": "markdown",
   "id": "8ed062c6",
   "metadata": {},
   "source": [
    "# 네이버 영화리뷰 감성분석 도전하기"
   ]
  },
  {
   "cell_type": "markdown",
   "id": "4ea06cbb",
   "metadata": {},
   "source": [
    "## Step1. 데이터 준비와 확인"
   ]
  },
  {
   "cell_type": "code",
   "execution_count": 1,
   "id": "9266963f",
   "metadata": {},
   "outputs": [
    {
     "name": "stdout",
     "output_type": "stream",
     "text": [
      "1.3.3\n",
      "0.5.2\n",
      "4.1.2\n"
     ]
    }
   ],
   "source": [
    "# 필요한 모듈 import 및 라이브러리 버전 확인\n",
    "import os\n",
    "import tensorflow as tf\n",
    "import pandas as pd\n",
    "import konlpy\n",
    "import gensim\n",
    "\n",
    "print(pd.__version__)\n",
    "print(konlpy.__version__)\n",
    "print(gensim.__version__)"
   ]
  },
  {
   "cell_type": "code",
   "execution_count": 2,
   "id": "2265d2cd",
   "metadata": {},
   "outputs": [
    {
     "data": {
      "text/html": [
       "<div>\n",
       "<style scoped>\n",
       "    .dataframe tbody tr th:only-of-type {\n",
       "        vertical-align: middle;\n",
       "    }\n",
       "\n",
       "    .dataframe tbody tr th {\n",
       "        vertical-align: top;\n",
       "    }\n",
       "\n",
       "    .dataframe thead th {\n",
       "        text-align: right;\n",
       "    }\n",
       "</style>\n",
       "<table border=\"1\" class=\"dataframe\">\n",
       "  <thead>\n",
       "    <tr style=\"text-align: right;\">\n",
       "      <th></th>\n",
       "      <th>id</th>\n",
       "      <th>document</th>\n",
       "      <th>label</th>\n",
       "    </tr>\n",
       "  </thead>\n",
       "  <tbody>\n",
       "    <tr>\n",
       "      <th>0</th>\n",
       "      <td>9976970</td>\n",
       "      <td>아 더빙.. 진짜 짜증나네요 목소리</td>\n",
       "      <td>0</td>\n",
       "    </tr>\n",
       "    <tr>\n",
       "      <th>1</th>\n",
       "      <td>3819312</td>\n",
       "      <td>흠...포스터보고 초딩영화줄....오버연기조차 가볍지 않구나</td>\n",
       "      <td>1</td>\n",
       "    </tr>\n",
       "    <tr>\n",
       "      <th>2</th>\n",
       "      <td>10265843</td>\n",
       "      <td>너무재밓었다그래서보는것을추천한다</td>\n",
       "      <td>0</td>\n",
       "    </tr>\n",
       "    <tr>\n",
       "      <th>3</th>\n",
       "      <td>9045019</td>\n",
       "      <td>교도소 이야기구먼 ..솔직히 재미는 없다..평점 조정</td>\n",
       "      <td>0</td>\n",
       "    </tr>\n",
       "    <tr>\n",
       "      <th>4</th>\n",
       "      <td>6483659</td>\n",
       "      <td>사이몬페그의 익살스런 연기가 돋보였던 영화!스파이더맨에서 늙어보이기만 했던 커스틴 ...</td>\n",
       "      <td>1</td>\n",
       "    </tr>\n",
       "  </tbody>\n",
       "</table>\n",
       "</div>"
      ],
      "text/plain": [
       "         id                                           document  label\n",
       "0   9976970                                아 더빙.. 진짜 짜증나네요 목소리      0\n",
       "1   3819312                  흠...포스터보고 초딩영화줄....오버연기조차 가볍지 않구나      1\n",
       "2  10265843                                  너무재밓었다그래서보는것을추천한다      0\n",
       "3   9045019                      교도소 이야기구먼 ..솔직히 재미는 없다..평점 조정      0\n",
       "4   6483659  사이몬페그의 익살스런 연기가 돋보였던 영화!스파이더맨에서 늙어보이기만 했던 커스틴 ...      1"
      ]
     },
     "execution_count": 2,
     "metadata": {},
     "output_type": "execute_result"
    }
   ],
   "source": [
    "train_data = pd.read_table('~/aiffel/sentiment_classification/data/ratings_train.txt')\n",
    "test_data = pd.read_table('~/aiffel/sentiment_classification/data/ratings_test.txt')\n",
    "\n",
    "train_data.head()"
   ]
  },
  {
   "cell_type": "markdown",
   "id": "3a5c43b9",
   "metadata": {},
   "source": [
    "## Step 2. 데이터로더 구성\n",
    "- nsmc 데이터셋은 전혀 가공되지 않은 텍스트파일로 이루어져 있으므로 가공이 필요하다."
   ]
  },
  {
   "cell_type": "code",
   "execution_count": 3,
   "id": "1fde4c47",
   "metadata": {},
   "outputs": [],
   "source": [
    "from konlpy.tag import Mecab\n",
    "import numpy as np\n",
    "from collections import Counter\n",
    "\n",
    "tokenizer = Mecab()\n",
    "stopwords = ['의','가','이','은','들','는','좀','잘','걍','과','도','를','으로','자','에','와','한','하다']\n",
    "\n",
    "def load_data(train_data, test_data, num_words=10000):\n",
    "    # 데이터 중복 제거 및 NaN 결측치 제거\n",
    "    train_data.drop_duplicates(subset=['document'], inplace=True)\n",
    "    train_data = train_data.dropna(how = 'any') \n",
    "    test_data.drop_duplicates(subset=['document'], inplace=True)\n",
    "    test_data = test_data.dropna(how = 'any') \n",
    "    \n",
    "    X_train = []\n",
    "    for sentence in train_data['document']:\n",
    "        temp_X = tokenizer.morphs(sentence) # 토큰화\n",
    "        temp_X = [word for word in temp_X if not word in stopwords] # 불용어 제거\n",
    "        X_train.append(temp_X)\n",
    "\n",
    "    X_test = []\n",
    "    for sentence in test_data['document']:\n",
    "        temp_X = tokenizer.morphs(sentence) # 토큰화\n",
    "        temp_X = [word for word in temp_X if not word in stopwords] # 불용어 제거\n",
    "        X_test.append(temp_X)\n",
    "    \n",
    "    # 사전 word_to_index 구성\n",
    "    words = np.concatenate(X_train).tolist()\n",
    "    counter = Counter(words)\n",
    "    counter = counter.most_common(10000-4)\n",
    "    vocab = ['', '', '', ''] + [key for key, _ in counter]\n",
    "    word_to_index = {word:index for index, word in enumerate(vocab)}\n",
    "        \n",
    "    # 텍스트 스트링을 사전 인덱스 스트링으로 변환\n",
    "    def wordlist_to_indexlist(wordlist):\n",
    "        return [word_to_index[word] if word in word_to_index else word_to_index[''] for word in wordlist]\n",
    "        \n",
    "    X_train = list(map(wordlist_to_indexlist, X_train))\n",
    "    X_test = list(map(wordlist_to_indexlist, X_test))\n",
    "        \n",
    "    return X_train, np.array(list(train_data['label'])), X_test, np.array(list(test_data['label'])), word_to_index\n",
    "    \n",
    "X_train, y_train, X_test, y_test, word_to_index = load_data(train_data, test_data) "
   ]
  },
  {
   "cell_type": "markdown",
   "id": "55d9d72f",
   "metadata": {},
   "source": [
    "- drop_duplicates(subset=['document'], inplace=True) : 'document'열에서 중복값을 검사해서 중복되는 행 제거한다. + 원본 변경한다.  \n",
    "- tokenizer.morphs(sentence) : sentence에서 형태소 토큰화(한국어 특성상 영어의 어절 토큰화와 다르게 적용된다.)  \n",
    "- np.concatenate(X_train).tolist() : X_train의 list를 합친 후 list형태로 반환"
   ]
  },
  {
   "cell_type": "code",
   "execution_count": 4,
   "id": "a27b6b25",
   "metadata": {},
   "outputs": [],
   "source": [
    "# 사전 index_to_word 구성\n",
    "index_to_word = {index:word for word, index in word_to_index.items()}"
   ]
  },
  {
   "cell_type": "code",
   "execution_count": 5,
   "id": "e8bc2c50",
   "metadata": {},
   "outputs": [],
   "source": [
    "# 문장 1개를 활용할 딕셔너리와 함께 주면, 단어 인덱스 리스트 벡터로 변환해 주는 함수 \n",
    "# 단, 모든 문장은 <BOS>로 시작\n",
    "def get_encoded_sentence(sentence, word_to_index):\n",
    "    return [word_to_index['<BOS>']]+[word_to_index[word] if word in word_to_index else word_to_index['<UNK>'] for word in sentence.split()]\n",
    "\n",
    "# 여러 개의 문장 리스트를 한꺼번에 단어 인덱스 리스트 벡터로 encode해 주는 함수\n",
    "def get_encoded_sentences(sentences, word_to_index):\n",
    "    return [get_encoded_sentence(sentence, word_to_index) for sentence in sentences]\n",
    "\n",
    "# 숫자 벡터로 encode된 문장을 원래대로 decode하는 함수\n",
    "def get_decoded_sentence(encoded_sentence, index_to_word):\n",
    "    return ' '.join(index_to_word[index] if index in index_to_word else '<UNK>' for index in encoded_sentence[1:])  #[1:]를 통해 <BOS>를 제외\n",
    "\n",
    "# 여러 개의 숫자 벡터로 encode된 문장을 한꺼번에 원래대로 decode하는 함수\n",
    "def get_decoded_sentences(encoded_sentences, index_to_word):\n",
    "    return [get_decoded_sentence(encoded_sentence, index_to_word) for encoded_sentence in encoded_sentences]"
   ]
  },
  {
   "cell_type": "markdown",
   "id": "66d3db66",
   "metadata": {},
   "source": [
    "## Step 3. 모델 구성을 위한 데이터 분석 및 가공"
   ]
  },
  {
   "cell_type": "code",
   "execution_count": 6,
   "id": "da4983df",
   "metadata": {},
   "outputs": [
    {
     "name": "stdout",
     "output_type": "stream",
     "text": [
      "문장길이 평균 :  15.96940191154864\n",
      "문장길이 최대 :  116\n",
      "문장길이 표준편차 :  12.843571191092\n",
      "pad_sequences maxlen :  41\n",
      "전체 문장의 0.9342988343341575%가 maxlen 설정값 이내에 포함됩니다. \n"
     ]
    }
   ],
   "source": [
    "# 데이터셋 내 문장 길이 분포\n",
    "total_data_text = list(X_train) + list(X_test)\n",
    "# 텍스트데이터 문장길이의 리스트를 생성한 후\n",
    "num_tokens = [len(tokens) for tokens in total_data_text]\n",
    "num_tokens = np.array(num_tokens)\n",
    "# 문장길이의 평균값, 최대값, 표준편차를 계산해 본다. \n",
    "print('문장길이 평균 : ', np.mean(num_tokens))\n",
    "print('문장길이 최대 : ', np.max(num_tokens))\n",
    "print('문장길이 표준편차 : ', np.std(num_tokens))\n",
    "\n",
    "# 예를들어, 최대 길이를 (평균 + 2*표준편차)로 한다면,  \n",
    "max_tokens = np.mean(num_tokens) + 2 * np.std(num_tokens)\n",
    "maxlen = int(max_tokens)\n",
    "print('pad_sequences maxlen : ', maxlen)\n",
    "print('전체 문장의 {}%가 maxlen 설정값 이내에 포함됩니다. '.format(np.sum(num_tokens < max_tokens) / len(num_tokens)))"
   ]
  },
  {
   "cell_type": "code",
   "execution_count": 7,
   "id": "94a5eaea",
   "metadata": {},
   "outputs": [
    {
     "name": "stdout",
     "output_type": "stream",
     "text": [
      "(146182, 41)\n"
     ]
    }
   ],
   "source": [
    "# 적절한 최대 문장 길이 지정 및 패딩 추가\n",
    "import tensorflow as tf\n",
    "\n",
    "X_train = tf.keras.preprocessing.sequence.pad_sequences(X_train,\n",
    "                                                        value=word_to_index[\"\"],\n",
    "                                                        padding='post', \n",
    "                                                        maxlen=maxlen)\n",
    "\n",
    "X_test = tf.keras.preprocessing.sequence.pad_sequences(X_test,\n",
    "                                                       value=word_to_index[\"\"],\n",
    "                                                       padding='post', \n",
    "                                                       maxlen=maxlen)\n",
    "\n",
    "print(X_train.shape)"
   ]
  },
  {
   "cell_type": "markdown",
   "id": "e4b3581c",
   "metadata": {},
   "source": [
    "-------"
   ]
  },
  {
   "cell_type": "markdown",
   "id": "e71c9738",
   "metadata": {},
   "source": [
    "## (1) RNN 모델"
   ]
  },
  {
   "cell_type": "markdown",
   "id": "a92227d1",
   "metadata": {},
   "source": [
    "## Step 4. 모델 구성 및 validation set 구성"
   ]
  },
  {
   "cell_type": "code",
   "execution_count": 8,
   "id": "ee048b7a",
   "metadata": {},
   "outputs": [
    {
     "name": "stdout",
     "output_type": "stream",
     "text": [
      "Model: \"sequential\"\n",
      "_________________________________________________________________\n",
      "Layer (type)                 Output Shape              Param #   \n",
      "=================================================================\n",
      "embedding (Embedding)        (None, None, 16)          160000    \n",
      "_________________________________________________________________\n",
      "lstm (LSTM)                  (None, 8)                 800       \n",
      "_________________________________________________________________\n",
      "dense (Dense)                (None, 8)                 72        \n",
      "_________________________________________________________________\n",
      "dense_1 (Dense)              (None, 1)                 9         \n",
      "=================================================================\n",
      "Total params: 160,881\n",
      "Trainable params: 160,881\n",
      "Non-trainable params: 0\n",
      "_________________________________________________________________\n"
     ]
    }
   ],
   "source": [
    "# RNN 모델 설계\n",
    "vocab_size = 10000    # 어휘 사전의 크기(10,000개의 단어)\n",
    "word_vector_dim = 16  # 워드 벡터의 차원 수는 16 (변경 가능한 하이퍼파라미터)\n",
    "\n",
    "model = tf.keras.Sequential()\n",
    "model.add(tf.keras.layers.Embedding(vocab_size, word_vector_dim, input_shape=(None,)))\n",
    "model.add(tf.keras.layers.LSTM(8)) # 가장 널리 쓰이는 RNN인 LSTM사용. LSTM state 벡터의 차원수는 8.\n",
    "model.add(tf.keras.layers.Dense(8, activation='relu'))\n",
    "model.add(tf.keras.layers.Dense(1, activation='sigmoid'))\n",
    "\n",
    "model.summary()"
   ]
  },
  {
   "cell_type": "code",
   "execution_count": 9,
   "id": "11687f5a",
   "metadata": {},
   "outputs": [
    {
     "name": "stdout",
     "output_type": "stream",
     "text": [
      "(131182, 41)\n",
      "(131182,)\n"
     ]
    }
   ],
   "source": [
    "# validation set 15000건 분리\n",
    "X_val = X_train[:15000]   \n",
    "y_val = y_train[:15000]\n",
    "\n",
    "# validation set을 제외한 나머지는 train set\n",
    "partial_X_train = X_train[15000:]  \n",
    "partial_y_train = y_train[15000:]\n",
    "\n",
    "print(partial_X_train.shape)\n",
    "print(partial_y_train.shape)"
   ]
  },
  {
   "cell_type": "markdown",
   "id": "4a1fd1ec",
   "metadata": {},
   "source": [
    "## Step 5. 모델 훈련 개시"
   ]
  },
  {
   "cell_type": "code",
   "execution_count": 10,
   "id": "f419568d",
   "metadata": {},
   "outputs": [
    {
     "name": "stdout",
     "output_type": "stream",
     "text": [
      "Epoch 1/20\n",
      "257/257 [==============================] - 5s 7ms/step - loss: 0.5107 - accuracy: 0.7427 - val_loss: 0.3699 - val_accuracy: 0.8417\n",
      "Epoch 2/20\n",
      "257/257 [==============================] - 1s 5ms/step - loss: 0.3431 - accuracy: 0.8562 - val_loss: 0.3471 - val_accuracy: 0.8502\n",
      "Epoch 3/20\n",
      "257/257 [==============================] - 1s 5ms/step - loss: 0.3201 - accuracy: 0.8661 - val_loss: 0.3475 - val_accuracy: 0.8490\n",
      "Epoch 4/20\n",
      "257/257 [==============================] - 1s 5ms/step - loss: 0.3103 - accuracy: 0.8701 - val_loss: 0.3551 - val_accuracy: 0.8501\n",
      "Epoch 5/20\n",
      "257/257 [==============================] - 1s 5ms/step - loss: 0.3043 - accuracy: 0.8726 - val_loss: 0.3649 - val_accuracy: 0.8377\n",
      "Epoch 6/20\n",
      "257/257 [==============================] - 1s 5ms/step - loss: 0.2982 - accuracy: 0.8748 - val_loss: 0.3447 - val_accuracy: 0.8516\n",
      "Epoch 7/20\n",
      "257/257 [==============================] - 1s 5ms/step - loss: 0.2905 - accuracy: 0.8785 - val_loss: 0.3546 - val_accuracy: 0.8469\n",
      "Epoch 8/20\n",
      "257/257 [==============================] - 1s 5ms/step - loss: 0.2845 - accuracy: 0.8810 - val_loss: 0.3502 - val_accuracy: 0.8501\n",
      "Epoch 9/20\n",
      "257/257 [==============================] - 1s 6ms/step - loss: 0.2793 - accuracy: 0.8826 - val_loss: 0.3510 - val_accuracy: 0.8497\n",
      "Epoch 10/20\n",
      "257/257 [==============================] - 1s 5ms/step - loss: 0.2709 - accuracy: 0.8867 - val_loss: 0.3639 - val_accuracy: 0.8441\n",
      "Epoch 11/20\n",
      "257/257 [==============================] - 1s 5ms/step - loss: 0.2649 - accuracy: 0.8901 - val_loss: 0.3672 - val_accuracy: 0.8488\n",
      "Epoch 12/20\n",
      "257/257 [==============================] - 1s 5ms/step - loss: 0.2562 - accuracy: 0.8938 - val_loss: 0.3840 - val_accuracy: 0.8489\n",
      "Epoch 13/20\n",
      "257/257 [==============================] - 1s 5ms/step - loss: 0.2495 - accuracy: 0.8976 - val_loss: 0.3759 - val_accuracy: 0.8471\n",
      "Epoch 14/20\n",
      "257/257 [==============================] - 1s 5ms/step - loss: 0.2415 - accuracy: 0.9018 - val_loss: 0.3718 - val_accuracy: 0.8437\n",
      "Epoch 15/20\n",
      "257/257 [==============================] - 1s 5ms/step - loss: 0.2336 - accuracy: 0.9061 - val_loss: 0.3814 - val_accuracy: 0.8456\n",
      "Epoch 16/20\n",
      "257/257 [==============================] - 1s 5ms/step - loss: 0.2267 - accuracy: 0.9094 - val_loss: 0.4029 - val_accuracy: 0.8447\n",
      "Epoch 17/20\n",
      "257/257 [==============================] - 1s 5ms/step - loss: 0.2167 - accuracy: 0.9144 - val_loss: 0.4067 - val_accuracy: 0.8421\n",
      "Epoch 18/20\n",
      "257/257 [==============================] - 1s 5ms/step - loss: 0.2081 - accuracy: 0.9187 - val_loss: 0.4212 - val_accuracy: 0.8435\n",
      "Epoch 19/20\n",
      "257/257 [==============================] - 1s 6ms/step - loss: 0.1987 - accuracy: 0.9235 - val_loss: 0.4232 - val_accuracy: 0.8454\n",
      "Epoch 20/20\n",
      "257/257 [==============================] - 1s 5ms/step - loss: 0.1911 - accuracy: 0.9269 - val_loss: 0.4448 - val_accuracy: 0.8407\n"
     ]
    }
   ],
   "source": [
    "model.compile(optimizer='adam',\n",
    "              loss='binary_crossentropy',\n",
    "              metrics=['accuracy'])\n",
    "              \n",
    "epochs=20\n",
    "\n",
    "history_pre = model.fit(partial_X_train,\n",
    "                    partial_y_train,\n",
    "                    epochs=epochs,\n",
    "                    batch_size=512,\n",
    "                    validation_data=(X_val, y_val),\n",
    "                    verbose=1)"
   ]
  },
  {
   "cell_type": "code",
   "execution_count": 11,
   "id": "2065d4a0",
   "metadata": {},
   "outputs": [
    {
     "name": "stdout",
     "output_type": "stream",
     "text": [
      "1537/1537 - 3s - loss: 0.4501 - accuracy: 0.8384\n",
      "[0.45010116696357727, 0.838395357131958]\n"
     ]
    }
   ],
   "source": [
    "# 테스트셋으로 평가\n",
    "results = model.evaluate(X_test, y_test, verbose=2)\n",
    "\n",
    "print(results)"
   ]
  },
  {
   "cell_type": "code",
   "execution_count": 12,
   "id": "a0ef5d5d",
   "metadata": {},
   "outputs": [
    {
     "name": "stdout",
     "output_type": "stream",
     "text": [
      "dict_keys(['loss', 'accuracy', 'val_loss', 'val_accuracy'])\n"
     ]
    }
   ],
   "source": [
    "# train/validation loss, accuracy등이 매 epoch마다 history변수에 저장\n",
    "history_dict_pre = history_pre.history\n",
    "print(history_dict_pre.keys())"
   ]
  },
  {
   "cell_type": "markdown",
   "id": "c626a2d4",
   "metadata": {},
   "source": [
    "## Step 6. Loss, Accuracy 그래프 시각화"
   ]
  },
  {
   "cell_type": "code",
   "execution_count": 13,
   "id": "74ebdb04",
   "metadata": {},
   "outputs": [
    {
     "data": {
      "image/png": "[encoded data removed]",
      "text/plain": [
       "<Figure size 432x288 with 1 Axes>"
      ]
     },
     "metadata": {
      "needs_background": "light"
     },
     "output_type": "display_data"
    }
   ],
   "source": [
    "# loss 그래프로 그려보기\n",
    "import matplotlib.pyplot as plt\n",
    "\n",
    "acc = history_dict_pre['accuracy']\n",
    "val_acc = history_dict_pre['val_accuracy']\n",
    "loss = history_dict_pre['loss']\n",
    "val_loss = history_dict_pre['val_loss']\n",
    "\n",
    "epochs = range(1, len(acc) + 1)\n",
    "\n",
    "plt.plot(epochs, loss, 'bo', label='Training loss') # bo는 파란색 점\n",
    "plt.plot(epochs, val_loss, 'b', label='Validation loss') # b는 파란색 실선\n",
    "plt.title('Training and validation loss')\n",
    "plt.xlabel('Epochs')\n",
    "plt.ylabel('Loss')\n",
    "plt.legend()\n",
    "\n",
    "plt.show()"
   ]
  },
  {
   "cell_type": "code",
   "execution_count": 14,
   "id": "a56574dc",
   "metadata": {},
   "outputs": [
    {
     "data": {
      "image/png": "[encoded data removed]",
      "text/plain": [
       "<Figure size 432x288 with 1 Axes>"
      ]
     },
     "metadata": {
      "needs_background": "light"
     },
     "output_type": "display_data"
    }
   ],
   "source": [
    "# accuracy 그래프로 그려보기\n",
    "plt.clf() # 그림 초기화\n",
    "\n",
    "plt.plot(epochs, acc, 'bo', label='Training acc')\n",
    "plt.plot(epochs, val_acc, 'b', label='Validation acc')\n",
    "plt.title('Training and validation accuracy')\n",
    "plt.xlabel('Epochs')\n",
    "plt.ylabel('Accuracy')\n",
    "plt.legend()\n",
    "\n",
    "plt.show()"
   ]
  },
  {
   "cell_type": "markdown",
   "id": "38223c4f",
   "metadata": {},
   "source": [
    "## Step 7. 학습된 Embedding 레이어 분석"
   ]
  },
  {
   "cell_type": "code",
   "execution_count": 15,
   "id": "4c530063",
   "metadata": {},
   "outputs": [
    {
     "name": "stdout",
     "output_type": "stream",
     "text": [
      "(10000, 16)\n"
     ]
    }
   ],
   "source": [
    "embedding_layer = model.layers[0]\n",
    "weights = embedding_layer.get_weights()[0]\n",
    "print(weights.shape) #(vocab_size, embedding_dim)"
   ]
  },
  {
   "cell_type": "code",
   "execution_count": 16,
   "id": "d1a1647a",
   "metadata": {},
   "outputs": [],
   "source": [
    "# 학습된 Embedding 파라미터를 파일에 써서 저장\n",
    "word2vec_file_path = os.getenv('HOME')+'/aiffel/sentiment_classification/data/word2vec.txt'\n",
    "f = open(word2vec_file_path, 'w')\n",
    "f.write('{} {}\\n'.format(vocab_size-4, word_vector_dim)) \n",
    " # 몇개의 벡터를 얼마 사이즈로 기재할지 타이틀 쓰기\n",
    "\n",
    "# 단어 개수(특수문자 4개 제외)만큼의 워드 벡터를 파일에 기록\n",
    "vectors = model.get_weights()[0]\n",
    "for i in range(4,vocab_size):\n",
    "    f.write('{} {}\\n'.format(index_to_word[i], ' '.join(map(str, list(vectors[i, :])))))\n",
    "f.close()"
   ]
  },
  {
   "cell_type": "code",
   "execution_count": 17,
   "id": "cf5d3c8c",
   "metadata": {},
   "outputs": [
    {
     "data": {
      "text/plain": [
       "array([ 0.0051451 ,  0.03420222, -0.00779674,  0.01284155,  0.05805212,\n",
       "       -0.04627453,  0.08307851, -0.00420318,  0.03599301, -0.03558807,\n",
       "        0.08093625,  0.02495336,  0.00929612, -0.03749272, -0.142584  ,\n",
       "       -0.04832   ], dtype=float32)"
      ]
     },
     "execution_count": 17,
     "metadata": {},
     "output_type": "execute_result"
    }
   ],
   "source": [
    "# Embedding 파라미터를 읽어서 word vector로 활용\n",
    "from gensim.models.keyedvectors import Word2VecKeyedVectors\n",
    "\n",
    "word_vectors = Word2VecKeyedVectors.load_word2vec_format(word2vec_file_path, binary=False)\n",
    "vector = word_vectors['연기']\n",
    "vector"
   ]
  },
  {
   "cell_type": "code",
   "execution_count": 18,
   "id": "1b6b07e8",
   "metadata": {},
   "outputs": [
    {
     "data": {
      "text/plain": [
       "[('너무나', 0.9239725470542908),\n",
       " ('이렇게', 0.8974748253822327),\n",
       " ('정말', 0.878810465335846),\n",
       " ('가장', 0.8785668611526489),\n",
       " ('매우', 0.8771823048591614),\n",
       " ('제대로', 0.8740683197975159),\n",
       " ('완전', 0.8663330674171448),\n",
       " ('더더욱', 0.8473678827285767),\n",
       " ('모두', 0.8441237211227417),\n",
       " ('몰입', 0.8374240398406982)]"
      ]
     },
     "execution_count": 18,
     "metadata": {},
     "output_type": "execute_result"
    }
   ],
   "source": [
    "# '재미'와 유사한 단어 찾아보기\n",
    "word_vectors.similar_by_word('재미')"
   ]
  },
  {
   "cell_type": "markdown",
   "id": "93200f03",
   "metadata": {},
   "source": [
    "## Step 8. 한국어 Word2Vec 임베딩 활용하여 성능 개선"
   ]
  },
  {
   "cell_type": "code",
   "execution_count": 19,
   "id": "395c71e0",
   "metadata": {},
   "outputs": [
    {
     "data": {
      "text/plain": [
       "array([-2.0634167e+00, -1.9734977e-01, -3.7762792e+00, -5.3865463e-01,\n",
       "        2.3210046e+00,  5.0277454e-01, -2.6870925e+00, -3.6405969e+00,\n",
       "       -1.0963349e+00,  2.5664790e+00, -5.1018113e-01,  8.3338451e-01,\n",
       "       -1.8663673e+00, -3.2897377e+00,  1.9831001e+00,  1.6336359e+00,\n",
       "        4.4046003e-01, -2.4318197e+00,  2.8961849e+00,  2.4294887e+00,\n",
       "       -2.0216727e+00,  3.0315948e+00,  3.3207154e+00, -2.4021013e+00,\n",
       "       -2.1328015e+00, -1.4202063e-01, -1.0130103e+00,  1.1087272e+00,\n",
       "        1.5143281e-01, -1.2870296e+00, -1.9356625e+00, -2.6313615e-01,\n",
       "        1.2828869e+00,  7.1148652e-01, -2.7823136e+00,  2.2900889e+00,\n",
       "       -2.6714947e+00,  1.3707482e+00, -1.3911188e+00,  3.1011790e-01,\n",
       "        2.4304125e-01, -1.4502478e+00,  2.9619246e+00,  1.5410364e+00,\n",
       "       -1.8164583e+00, -1.1160779e+00,  3.2429931e+00, -1.1567547e-01,\n",
       "        4.9492879e+00, -3.1496325e+00, -8.0028749e-01, -2.4726155e+00,\n",
       "        2.0556252e+00, -3.3037343e+00, -1.1217453e+00, -1.3909938e+00,\n",
       "        6.7869484e-01, -2.5291340e+00,  8.1422240e-01,  1.2095540e+00,\n",
       "        6.1182207e-01,  8.2847250e-01,  1.2919786e+00, -3.1440327e+00,\n",
       "       -1.0746515e+00, -2.4723947e+00,  1.0473143e+00, -3.6154199e+00,\n",
       "        3.2232354e+00, -2.9226849e+00,  2.6298370e+00,  1.8308952e+00,\n",
       "       -8.0067903e-01,  1.6673677e+00, -7.8082657e-01, -8.6174744e-01,\n",
       "        1.4948592e+00, -3.7578151e+00, -3.8079500e+00,  1.3406745e+00,\n",
       "        4.1937962e-02,  1.7509270e+00, -2.8575315e+00,  2.1295470e-01,\n",
       "        8.9581138e-01,  1.5785180e-02,  3.1339111e+00,  2.5829275e+00,\n",
       "        1.8077197e+00, -1.0889103e+00, -1.4259154e+00, -2.0739791e+00,\n",
       "       -8.6662270e-02, -1.7077522e-03,  2.0755162e+00, -2.6681778e+00,\n",
       "       -2.7063923e+00,  2.4712269e+00,  1.0899171e+00, -2.7943494e+00],\n",
       "      dtype=float32)"
      ]
     },
     "execution_count": 19,
     "metadata": {},
     "output_type": "execute_result"
    }
   ],
   "source": [
    "# Word2Vec 모델 가져오기\n",
    "from gensim.models import KeyedVectors\n",
    "from gensim.models import Word2Vec\n",
    "\n",
    "word2vec_path = os.getenv('HOME')+'/data/word2vec_ko.model'\n",
    "word_vectors = Word2VecKeyedVectors.load(word2vec_path)\n",
    "vector = word_vectors.wv['연기']\n",
    "vector"
   ]
  },
  {
   "cell_type": "markdown",
   "id": "730f3fc4",
   "metadata": {},
   "source": [
    "- 파일을 불러오는 경로를 처음에 '/aiffel/sentiment_classification/data/word2vec_ko.model'로 설정해서 구글링도 해보면서 ko.bin 파일도 받아봤는데 zip이 안풀려서 어떻게 할 수가 없었다. 그렇게 이곳저곳에서 정보를 찾아보다가 경로가 '/aiffel/sentiment_classification/data/word2vec_ko.model'가 아니라 '/data/word2vec_ko.model였다. 경로설정을 잘하고나니까 error없이 잘 해결되었다. 경로 설정시 다시 한 번 신경써서 봐야겠다."
   ]
  },
  {
   "cell_type": "code",
   "execution_count": 20,
   "id": "6dcfd53c",
   "metadata": {},
   "outputs": [
    {
     "data": {
      "text/plain": [
       "[('묘미', 0.6163142919540405),\n",
       " ('취미', 0.6034970283508301),\n",
       " ('흥미', 0.5939850211143494),\n",
       " ('유머', 0.5888698101043701),\n",
       " ('보람', 0.5689517259597778),\n",
       " ('즐거움', 0.5631207823753357),\n",
       " ('개그', 0.5552946329116821),\n",
       " ('이야기', 0.5536993741989136),\n",
       " ('연애', 0.552293598651886),\n",
       " ('열의', 0.546456515789032)]"
      ]
     },
     "execution_count": 20,
     "metadata": {},
     "output_type": "execute_result"
    }
   ],
   "source": [
    "# '재미'와 유사한 단어 찾아보기\n",
    "word_vectors.wv.similar_by_word(\"재미\")"
   ]
  },
  {
   "cell_type": "markdown",
   "id": "dccd652e",
   "metadata": {},
   "source": [
    "- 위에서 error를 해결하자마자 다시 바로 error를 해결해야했다. 한국어 Word2Vec에서는 모델을 활용할 때 .wv를 붙여서 활용한다는 말을 보고 시도해봤는데 다행히 바로 해결할 수 있었다."
   ]
  },
  {
   "cell_type": "code",
   "execution_count": 21,
   "id": "e5f7a78a",
   "metadata": {},
   "outputs": [],
   "source": [
    "# 학습했던 모델의 임베딩 레이어를 word_vectors의 것으로 교체하여 다시 학습\n",
    "vocab_size = 10000    # 어휘 사전의 크기(10,000개의 단어)\n",
    "word_vector_dim = 100  # 워드 벡터의 차원수\n",
    "embedding_matrix = np.random.rand(vocab_size, word_vector_dim)\n",
    "\n",
    "# embedding_matrix에 Word2Vec 워드 벡터를 단어 하나씩마다 차례차례 카피한다.\n",
    "for i in range(4,vocab_size):\n",
    "    if index_to_word[i] in word_vectors.wv:\n",
    "        embedding_matrix[i] = word_vectors.wv[index_to_word[i]]"
   ]
  },
  {
   "cell_type": "code",
   "execution_count": 22,
   "id": "29921e5e",
   "metadata": {},
   "outputs": [
    {
     "name": "stdout",
     "output_type": "stream",
     "text": [
      "Model: \"sequential_1\"\n",
      "_________________________________________________________________\n",
      "Layer (type)                 Output Shape              Param #   \n",
      "=================================================================\n",
      "embedding_1 (Embedding)      (None, 41, 100)           1000000   \n",
      "_________________________________________________________________\n",
      "conv1d (Conv1D)              (None, 35, 16)            11216     \n",
      "_________________________________________________________________\n",
      "max_pooling1d (MaxPooling1D) (None, 7, 16)             0         \n",
      "_________________________________________________________________\n",
      "conv1d_1 (Conv1D)            (None, 1, 16)             1808      \n",
      "_________________________________________________________________\n",
      "global_max_pooling1d (Global (None, 16)                0         \n",
      "_________________________________________________________________\n",
      "dense_2 (Dense)              (None, 8)                 136       \n",
      "_________________________________________________________________\n",
      "dense_3 (Dense)              (None, 1)                 9         \n",
      "=================================================================\n",
      "Total params: 1,013,169\n",
      "Trainable params: 1,013,169\n",
      "Non-trainable params: 0\n",
      "_________________________________________________________________\n"
     ]
    }
   ],
   "source": [
    "from tensorflow.keras.initializers import Constant\n",
    "\n",
    "# 모델 구성\n",
    "model = tf.keras.Sequential()\n",
    "model.add(tf.keras.layers.Embedding(vocab_size, \n",
    "                                 word_vector_dim, \n",
    "                                 embeddings_initializer=Constant(embedding_matrix),  # 카피한 임베딩을 여기서 활용\n",
    "                                 input_length=maxlen, \n",
    "                                 trainable=True))   # trainable을 True로 주면 Fine-tuning\n",
    "model.add(tf.keras.layers.Conv1D(16, 7, activation='relu'))\n",
    "model.add(tf.keras.layers.MaxPooling1D(5))\n",
    "model.add(tf.keras.layers.Conv1D(16, 7, activation='relu'))\n",
    "model.add(tf.keras.layers.GlobalMaxPooling1D())\n",
    "model.add(tf.keras.layers.Dense(8, activation='relu'))\n",
    "model.add(tf.keras.layers.Dense(1, activation='sigmoid')) \n",
    "\n",
    "model.summary()"
   ]
  },
  {
   "cell_type": "code",
   "execution_count": 23,
   "id": "ada5ae0d",
   "metadata": {},
   "outputs": [
    {
     "name": "stdout",
     "output_type": "stream",
     "text": [
      "Epoch 1/20\n",
      "1025/1025 [==============================] - 6s 5ms/step - loss: 0.5297 - accuracy: 0.7277 - val_loss: 0.4274 - val_accuracy: 0.8052\n",
      "Epoch 2/20\n",
      "1025/1025 [==============================] - 5s 5ms/step - loss: 0.3895 - accuracy: 0.8254 - val_loss: 0.3717 - val_accuracy: 0.8333\n",
      "Epoch 3/20\n",
      "1025/1025 [==============================] - 5s 5ms/step - loss: 0.3398 - accuracy: 0.8524 - val_loss: 0.3493 - val_accuracy: 0.8447\n",
      "Epoch 4/20\n",
      "1025/1025 [==============================] - 5s 5ms/step - loss: 0.3122 - accuracy: 0.8680 - val_loss: 0.3412 - val_accuracy: 0.8521\n",
      "Epoch 5/20\n",
      "1025/1025 [==============================] - 5s 5ms/step - loss: 0.2930 - accuracy: 0.8776 - val_loss: 0.3410 - val_accuracy: 0.8514\n",
      "Epoch 6/20\n",
      "1025/1025 [==============================] - 5s 5ms/step - loss: 0.2768 - accuracy: 0.8853 - val_loss: 0.3438 - val_accuracy: 0.8487\n",
      "Epoch 7/20\n",
      "1025/1025 [==============================] - 5s 5ms/step - loss: 0.2609 - accuracy: 0.8932 - val_loss: 0.3481 - val_accuracy: 0.8535\n",
      "Epoch 8/20\n",
      "1025/1025 [==============================] - 5s 5ms/step - loss: 0.2476 - accuracy: 0.8997 - val_loss: 0.3667 - val_accuracy: 0.8502\n",
      "Epoch 9/20\n",
      "1025/1025 [==============================] - 5s 5ms/step - loss: 0.2356 - accuracy: 0.9067 - val_loss: 0.3588 - val_accuracy: 0.8497\n",
      "Epoch 10/20\n",
      "1025/1025 [==============================] - 5s 5ms/step - loss: 0.2233 - accuracy: 0.9118 - val_loss: 0.3709 - val_accuracy: 0.8459\n",
      "Epoch 11/20\n",
      "1025/1025 [==============================] - 5s 5ms/step - loss: 0.2108 - accuracy: 0.9177 - val_loss: 0.3870 - val_accuracy: 0.8468\n",
      "Epoch 12/20\n",
      "1025/1025 [==============================] - 5s 5ms/step - loss: 0.1996 - accuracy: 0.9237 - val_loss: 0.4120 - val_accuracy: 0.8433\n",
      "Epoch 13/20\n",
      "1025/1025 [==============================] - 5s 5ms/step - loss: 0.1874 - accuracy: 0.9291 - val_loss: 0.4055 - val_accuracy: 0.8460\n",
      "Epoch 14/20\n",
      "1025/1025 [==============================] - 5s 5ms/step - loss: 0.1762 - accuracy: 0.9344 - val_loss: 0.4391 - val_accuracy: 0.8427\n",
      "Epoch 15/20\n",
      "1025/1025 [==============================] - 5s 5ms/step - loss: 0.1654 - accuracy: 0.9393 - val_loss: 0.4599 - val_accuracy: 0.8415\n",
      "Epoch 16/20\n",
      "1025/1025 [==============================] - 5s 5ms/step - loss: 0.1557 - accuracy: 0.9427 - val_loss: 0.4786 - val_accuracy: 0.8417\n",
      "Epoch 17/20\n",
      "1025/1025 [==============================] - 5s 5ms/step - loss: 0.1453 - accuracy: 0.9477 - val_loss: 0.4853 - val_accuracy: 0.8404\n",
      "Epoch 18/20\n",
      "1025/1025 [==============================] - 5s 5ms/step - loss: 0.1372 - accuracy: 0.9510 - val_loss: 0.5441 - val_accuracy: 0.8365\n",
      "Epoch 19/20\n",
      "1025/1025 [==============================] - 5s 5ms/step - loss: 0.1287 - accuracy: 0.9542 - val_loss: 0.5569 - val_accuracy: 0.8372\n",
      "Epoch 20/20\n",
      "1025/1025 [==============================] - 5s 5ms/step - loss: 0.1221 - accuracy: 0.9566 - val_loss: 0.5879 - val_accuracy: 0.8362\n"
     ]
    }
   ],
   "source": [
    "# 학습 진행\n",
    "model.compile(optimizer='adam',\n",
    "              loss='binary_crossentropy',\n",
    "              metrics=['accuracy'])\n",
    "              \n",
    "epochs=20\n",
    "\n",
    "history = model.fit(partial_X_train,\n",
    "                    partial_y_train,\n",
    "                    epochs=epochs,\n",
    "                    batch_size=128,\n",
    "                    validation_data=(X_val, y_val),\n",
    "                    verbose=1)"
   ]
  },
  {
   "cell_type": "code",
   "execution_count": 24,
   "id": "37019313",
   "metadata": {},
   "outputs": [
    {
     "name": "stdout",
     "output_type": "stream",
     "text": [
      "1537/1537 - 3s - loss: 0.5947 - accuracy: 0.8354\n",
      "[0.5947375297546387, 0.8353642225265503]\n"
     ]
    }
   ],
   "source": [
    "# 테스트셋을 통한 모델 평가\n",
    "results = model.evaluate(X_test, y_test, verbose=2)\n",
    "\n",
    "print(results)"
   ]
  },
  {
   "cell_type": "markdown",
   "id": "3573d48a",
   "metadata": {},
   "source": [
    "- RNN 모델의 경우 convolution layer와 epoch, batch size를 조절봤지만 accuracy가 0.82~0.84사이로 word2vec을 하기 전, 후 차이가 크게 없었다."
   ]
  },
  {
   "cell_type": "markdown",
   "id": "1120ad47",
   "metadata": {},
   "source": [
    "-------"
   ]
  },
  {
   "cell_type": "markdown",
   "id": "0e4424ec",
   "metadata": {},
   "source": [
    "## (2) CNN 모델"
   ]
  },
  {
   "cell_type": "markdown",
   "id": "a1694489",
   "metadata": {},
   "source": [
    "## Step 4. 모델 구성 및 validation set 구성"
   ]
  },
  {
   "cell_type": "code",
   "execution_count": 33,
   "id": "131f8bd1",
   "metadata": {},
   "outputs": [
    {
     "name": "stdout",
     "output_type": "stream",
     "text": [
      "Model: \"sequential_3\"\n",
      "_________________________________________________________________\n",
      "Layer (type)                 Output Shape              Param #   \n",
      "=================================================================\n",
      "embedding_3 (Embedding)      (None, None, 16)          160000    \n",
      "_________________________________________________________________\n",
      "conv1d_4 (Conv1D)            (None, None, 16)          1808      \n",
      "_________________________________________________________________\n",
      "max_pooling1d_2 (MaxPooling1 (None, None, 16)          0         \n",
      "_________________________________________________________________\n",
      "conv1d_5 (Conv1D)            (None, None, 16)          1808      \n",
      "_________________________________________________________________\n",
      "global_max_pooling1d_2 (Glob (None, 16)                0         \n",
      "_________________________________________________________________\n",
      "dense_6 (Dense)              (None, 8)                 136       \n",
      "_________________________________________________________________\n",
      "dense_7 (Dense)              (None, 1)                 9         \n",
      "=================================================================\n",
      "Total params: 163,761\n",
      "Trainable params: 163,761\n",
      "Non-trainable params: 0\n",
      "_________________________________________________________________\n"
     ]
    }
   ],
   "source": [
    "vocab_size = 10000 # 어휘 사전의 크기(10000개 단어)\n",
    "word_vector_dim = 16  # 단어 하나를 표현하는 임베딩 벡터의 차원 수\n",
    "\n",
    "model = tf.keras.Sequential()\n",
    "model.add(tf.keras.layers.Embedding(vocab_size, word_vector_dim, input_shape=(None,)))\n",
    "model.add(tf.keras.layers.Conv1D(16, 7, activation='relu')) # (커널 개수, 커널크기, 활성화함수)\n",
    "model.add(tf.keras.layers.MaxPooling1D(5))\n",
    "model.add(tf.keras.layers.Conv1D(16, 7, activation='relu'))\n",
    "model.add(tf.keras.layers.GlobalMaxPooling1D())\n",
    "model.add(tf.keras.layers.Dense(8, activation='relu'))\n",
    "model.add(tf.keras.layers.Dense(1, activation='sigmoid')) # 최종 출력은 긍정/부정을 나타내는 1dim\n",
    "\n",
    "model.summary()"
   ]
  },
  {
   "cell_type": "code",
   "execution_count": 34,
   "id": "f5b55b68",
   "metadata": {},
   "outputs": [
    {
     "name": "stdout",
     "output_type": "stream",
     "text": [
      "(116182, 41)\n",
      "(116182,)\n"
     ]
    }
   ],
   "source": [
    "# validation set 30000건 분리\n",
    "X_val_cnn = X_train[:30000]   \n",
    "y_val_cnn = y_train[:30000]\n",
    "\n",
    "# validation set을 제외한 나머지는 train set\n",
    "partial_X_train_cnn = X_train[30000:]  \n",
    "partial_y_train_cnn = y_train[30000:]\n",
    "\n",
    "print(partial_X_train_cnn.shape)\n",
    "print(partial_y_train_cnn.shape)"
   ]
  },
  {
   "cell_type": "markdown",
   "id": "e62d89b4",
   "metadata": {},
   "source": [
    "## Step 5. 모델 훈련 개시"
   ]
  },
  {
   "cell_type": "code",
   "execution_count": 35,
   "id": "94a34aea",
   "metadata": {},
   "outputs": [
    {
     "name": "stdout",
     "output_type": "stream",
     "text": [
      "Epoch 1/20\n",
      "227/227 [==============================] - 2s 6ms/step - loss: 0.4852 - accuracy: 0.7630 - val_loss: 0.3578 - val_accuracy: 0.8436\n",
      "Epoch 2/20\n",
      "227/227 [==============================] - 1s 5ms/step - loss: 0.3306 - accuracy: 0.8604 - val_loss: 0.3450 - val_accuracy: 0.8495\n",
      "Epoch 3/20\n",
      "227/227 [==============================] - 1s 5ms/step - loss: 0.2957 - accuracy: 0.8784 - val_loss: 0.3392 - val_accuracy: 0.8535\n",
      "Epoch 4/20\n",
      "227/227 [==============================] - 1s 5ms/step - loss: 0.2666 - accuracy: 0.8936 - val_loss: 0.3443 - val_accuracy: 0.8537\n",
      "Epoch 5/20\n",
      "227/227 [==============================] - 1s 5ms/step - loss: 0.2342 - accuracy: 0.9099 - val_loss: 0.3571 - val_accuracy: 0.8520\n",
      "Epoch 6/20\n",
      "227/227 [==============================] - 1s 5ms/step - loss: 0.2001 - accuracy: 0.9259 - val_loss: 0.3776 - val_accuracy: 0.8510\n",
      "Epoch 7/20\n",
      "227/227 [==============================] - 1s 5ms/step - loss: 0.1660 - accuracy: 0.9415 - val_loss: 0.4146 - val_accuracy: 0.8475\n",
      "Epoch 8/20\n",
      "227/227 [==============================] - 1s 5ms/step - loss: 0.1375 - accuracy: 0.9543 - val_loss: 0.4473 - val_accuracy: 0.8458\n",
      "Epoch 9/20\n",
      "227/227 [==============================] - 1s 5ms/step - loss: 0.1144 - accuracy: 0.9632 - val_loss: 0.4849 - val_accuracy: 0.8418\n",
      "Epoch 10/20\n",
      "227/227 [==============================] - 1s 5ms/step - loss: 0.0963 - accuracy: 0.9699 - val_loss: 0.5212 - val_accuracy: 0.8400\n",
      "Epoch 11/20\n",
      "227/227 [==============================] - 1s 5ms/step - loss: 0.0822 - accuracy: 0.9750 - val_loss: 0.5690 - val_accuracy: 0.8390\n",
      "Epoch 12/20\n",
      "227/227 [==============================] - 1s 5ms/step - loss: 0.0707 - accuracy: 0.9788 - val_loss: 0.6210 - val_accuracy: 0.8346\n",
      "Epoch 13/20\n",
      "227/227 [==============================] - 1s 5ms/step - loss: 0.0618 - accuracy: 0.9815 - val_loss: 0.6715 - val_accuracy: 0.8302\n",
      "Epoch 14/20\n",
      "227/227 [==============================] - 1s 5ms/step - loss: 0.0552 - accuracy: 0.9836 - val_loss: 0.7061 - val_accuracy: 0.8306\n",
      "Epoch 15/20\n",
      "227/227 [==============================] - 1s 5ms/step - loss: 0.0504 - accuracy: 0.9850 - val_loss: 0.7650 - val_accuracy: 0.8294\n",
      "Epoch 16/20\n",
      "227/227 [==============================] - 1s 5ms/step - loss: 0.0464 - accuracy: 0.9861 - val_loss: 0.8075 - val_accuracy: 0.8251\n",
      "Epoch 17/20\n",
      "227/227 [==============================] - 1s 5ms/step - loss: 0.0438 - accuracy: 0.9865 - val_loss: 0.8179 - val_accuracy: 0.8285\n",
      "Epoch 18/20\n",
      "227/227 [==============================] - 1s 5ms/step - loss: 0.0400 - accuracy: 0.9881 - val_loss: 0.8750 - val_accuracy: 0.8256\n",
      "Epoch 19/20\n",
      "227/227 [==============================] - 1s 5ms/step - loss: 0.0372 - accuracy: 0.9887 - val_loss: 0.9049 - val_accuracy: 0.8258\n",
      "Epoch 20/20\n",
      "227/227 [==============================] - 1s 5ms/step - loss: 0.0348 - accuracy: 0.9893 - val_loss: 0.9445 - val_accuracy: 0.8248\n"
     ]
    }
   ],
   "source": [
    "model.compile(optimizer='adam',\n",
    "              loss='binary_crossentropy',\n",
    "              metrics=['accuracy'])\n",
    "              \n",
    "epochs=20\n",
    "\n",
    "history_cnn_pre = model.fit(partial_X_train_cnn,\n",
    "                    partial_y_train_cnn,\n",
    "                    epochs=epochs,\n",
    "                    batch_size=512,\n",
    "                    validation_data=(X_val_cnn, y_val_cnn),\n",
    "                    verbose=1)"
   ]
  },
  {
   "cell_type": "code",
   "execution_count": 36,
   "id": "f691efaa",
   "metadata": {},
   "outputs": [
    {
     "name": "stdout",
     "output_type": "stream",
     "text": [
      "1537/1537 - 2s - loss: 0.9852 - accuracy: 0.8163\n",
      "[0.9851579070091248, 0.8162621855735779]\n"
     ]
    }
   ],
   "source": [
    "# 테스트셋으로 평가\n",
    "results = model.evaluate(X_test, y_test, verbose=2)\n",
    "\n",
    "print(results)"
   ]
  },
  {
   "cell_type": "code",
   "execution_count": 37,
   "id": "62422e1b",
   "metadata": {},
   "outputs": [
    {
     "name": "stdout",
     "output_type": "stream",
     "text": [
      "dict_keys(['loss', 'accuracy', 'val_loss', 'val_accuracy'])\n"
     ]
    }
   ],
   "source": [
    "# train/validation loss, accuracy등이 매 epoch마다 history변수에 저장\n",
    "history_dict_cnn_pre = history_cnn_pre.history\n",
    "print(history_dict_cnn_pre.keys())"
   ]
  },
  {
   "cell_type": "markdown",
   "id": "4a683758",
   "metadata": {},
   "source": [
    "## Step 6. Loss, Accuracy 그래프 시각화"
   ]
  },
  {
   "cell_type": "code",
   "execution_count": 38,
   "id": "f6c1692a",
   "metadata": {},
   "outputs": [
    {
     "data": {
      "image/png": "[encoded data removed]",
      "text/plain": [
       "<Figure size 432x288 with 1 Axes>"
      ]
     },
     "metadata": {
      "needs_background": "light"
     },
     "output_type": "display_data"
    }
   ],
   "source": [
    "# loss 그래프로 그려보기\n",
    "acc2 = history_dict_cnn_pre['accuracy']\n",
    "val_acc2 = history_dict_cnn_pre['val_accuracy']\n",
    "loss2 = history_dict_cnn_pre['loss']\n",
    "val_loss2 = history_dict_cnn_pre['val_loss']\n",
    "\n",
    "epochs = range(1, len(acc2) + 1)\n",
    "\n",
    "plt.plot(epochs, loss2, 'bo', label='Training loss') # bo는 파란색 점\n",
    "plt.plot(epochs, val_loss2, 'b', label='Validation loss') # b는 파란색 실선\n",
    "plt.title('Training and validation loss')\n",
    "plt.xlabel('Epochs')\n",
    "plt.ylabel('Loss')\n",
    "plt.legend()\n",
    "\n",
    "plt.show()"
   ]
  },
  {
   "cell_type": "code",
   "execution_count": 39,
   "id": "9794b432",
   "metadata": {},
   "outputs": [
    {
     "data": {
      "image/png": "[encoded data removed]",
      "text/plain": [
       "<Figure size 432x288 with 1 Axes>"
      ]
     },
     "metadata": {
      "needs_background": "light"
     },
     "output_type": "display_data"
    }
   ],
   "source": [
    "# accuracy 그래프로 그려보기\n",
    "plt.clf() # 그림 초기화\n",
    "\n",
    "plt.plot(epochs, acc2, 'bo', label='Training acc')\n",
    "plt.plot(epochs, val_acc2, 'b', label='Validation acc')\n",
    "plt.title('Training and validation accuracy')\n",
    "plt.xlabel('Epochs')\n",
    "plt.ylabel('Accuracy')\n",
    "plt.legend()\n",
    "\n",
    "plt.show()"
   ]
  },
  {
   "cell_type": "markdown",
   "id": "c28632a6",
   "metadata": {},
   "source": [
    "## Step 7. 학습된 Embedding 레이어 분석"
   ]
  },
  {
   "cell_type": "code",
   "execution_count": 40,
   "id": "f2c4f849",
   "metadata": {},
   "outputs": [
    {
     "name": "stdout",
     "output_type": "stream",
     "text": [
      "(10000, 16)\n"
     ]
    }
   ],
   "source": [
    "embedding_layer = model.layers[0]\n",
    "weights = embedding_layer.get_weights()[0]\n",
    "print(weights.shape) #(vocab_size, embedding_dim)"
   ]
  },
  {
   "cell_type": "code",
   "execution_count": 41,
   "id": "6c6ded7c",
   "metadata": {},
   "outputs": [],
   "source": [
    "# 학습된 Embedding 파라미터를 파일에 써서 저장\n",
    "word2vec_file_path = os.getenv('HOME')+'/aiffel/sentiment_classification/data/word2vec.txt'\n",
    "f = open(word2vec_file_path, 'w')\n",
    "f.write('{} {}\\n'.format(vocab_size-4, word_vector_dim)) \n",
    " # 몇개의 벡터를 얼마 사이즈로 기재할지 타이틀 쓰기\n",
    "\n",
    "# 단어 개수(특수문자 4개 제외)만큼의 워드 벡터를 파일에 기록\n",
    "vectors = model.get_weights()[0]\n",
    "for i in range(4,vocab_size):\n",
    "    f.write('{} {}\\n'.format(index_to_word[i], ' '.join(map(str, list(vectors[i, :])))))\n",
    "f.close()"
   ]
  },
  {
   "cell_type": "code",
   "execution_count": 42,
   "id": "7debc3ca",
   "metadata": {},
   "outputs": [
    {
     "data": {
      "text/plain": [
       "array([-0.00904192,  0.03691669,  0.00371656,  0.00583135,  0.02162929,\n",
       "        0.00208775,  0.13356102,  0.06105204,  0.01465241,  0.05145414,\n",
       "        0.04984772, -0.0504699 , -0.04117066,  0.01685152, -0.03031204,\n",
       "        0.04349237], dtype=float32)"
      ]
     },
     "execution_count": 42,
     "metadata": {},
     "output_type": "execute_result"
    }
   ],
   "source": [
    "# Embedding 파라미터를 읽어서 word vector로 활용\n",
    "from gensim.models.keyedvectors import Word2VecKeyedVectors\n",
    "\n",
    "word_vectors = Word2VecKeyedVectors.load_word2vec_format(word2vec_file_path, binary=False)\n",
    "vector = word_vectors['영화']\n",
    "vector"
   ]
  },
  {
   "cell_type": "code",
   "execution_count": 43,
   "id": "7cb27d9b",
   "metadata": {},
   "outputs": [
    {
     "data": {
      "text/plain": [
       "[('이럴', 0.7292705774307251),\n",
       " ('성경', 0.7045276165008545),\n",
       " ('긋', 0.6922020316123962),\n",
       " ('안감', 0.6891361474990845),\n",
       " ('들어왔', 0.6839130520820618),\n",
       " ('캐릭터', 0.6786627173423767),\n",
       " ('미군', 0.670450747013092),\n",
       " ('어쩌다가', 0.6692837476730347),\n",
       " ('이랑', 0.6547607183456421),\n",
       " ('똥폼', 0.6454204320907593)]"
      ]
     },
     "execution_count": 43,
     "metadata": {},
     "output_type": "execute_result"
    }
   ],
   "source": [
    "# '배우'와 유사한 단어 찾아보기\n",
    "word_vectors.similar_by_word('배우')"
   ]
  },
  {
   "cell_type": "markdown",
   "id": "6abd770a",
   "metadata": {},
   "source": [
    "## Step 8. 한국어 Word2Vec 임베딩 활용하여 성능 개선"
   ]
  },
  {
   "cell_type": "code",
   "execution_count": 45,
   "id": "76305d2c",
   "metadata": {},
   "outputs": [
    {
     "data": {
      "text/plain": [
       "array([-1.8007389 , -1.1790098 , -2.4066596 ,  2.1384156 , -0.3537603 ,\n",
       "        1.3749527 , -4.894612  , -3.6517198 ,  0.4411444 ,  0.78153926,\n",
       "       -2.696888  , -1.7812852 , -2.1514654 , -4.813236  ,  2.7465918 ,\n",
       "       -2.1620324 , -0.11467794, -1.2431171 ,  2.3979309 , -1.1060628 ,\n",
       "       -0.41043055,  1.9500391 ,  0.7821002 ,  1.5899978 ,  1.6447444 ,\n",
       "       -2.1265035 , -1.7981595 ,  1.7535795 ,  0.53717697, -1.212121  ,\n",
       "       -4.466316  ,  4.5488324 ,  1.334441  , -0.9070271 ,  1.1931889 ,\n",
       "        4.1563215 ,  1.9758307 , -0.9437562 , -0.2592725 ,  0.34935686,\n",
       "        1.8562875 , -3.3249645 ,  1.1221625 ,  1.2836524 ,  3.9211376 ,\n",
       "        3.8023994 ,  2.766269  ,  0.67293745,  2.2853644 , -5.1131716 ,\n",
       "        0.32525915, -3.3079958 ,  5.3043513 , -3.8813758 , -0.32960036,\n",
       "       -1.9527504 ,  3.8865075 , -3.5470378 , -0.21991685,  0.82119733,\n",
       "       -0.9492492 ,  3.5472107 ,  1.322048  , -0.70640826,  0.52253807,\n",
       "        1.4683235 , -1.1018689 ,  2.262941  , -0.7204685 , -1.766201  ,\n",
       "        5.2237577 ,  3.0748682 ,  1.0977576 ,  3.3191733 , -0.4100423 ,\n",
       "       -1.7022891 , -0.78379875,  0.82586575, -0.54520637,  1.2355382 ,\n",
       "        2.02674   , -0.652447  ,  1.0866054 ,  0.8977641 ,  0.7928342 ,\n",
       "        3.7770627 ,  3.0274863 ,  5.1660023 ,  2.6461644 ,  2.8926868 ,\n",
       "        1.970944  , -3.3746543 , -5.2656593 , -1.1041485 ,  2.357547  ,\n",
       "       -2.3570824 , -4.8172383 ,  3.7290223 ,  4.62329   ,  1.5004613 ],\n",
       "      dtype=float32)"
      ]
     },
     "execution_count": 45,
     "metadata": {},
     "output_type": "execute_result"
    }
   ],
   "source": [
    "# Word2vec 모델 가져오기\n",
    "word2vec_path = os.getenv('HOME')+'/data/word2vec_ko.model'\n",
    "word_vectors = Word2VecKeyedVectors.load(word2vec_path)\n",
    "vector = word_vectors.wv['영화']\n",
    "vector"
   ]
  },
  {
   "cell_type": "code",
   "execution_count": 46,
   "id": "4fffc9bb",
   "metadata": {},
   "outputs": [
    {
     "data": {
      "text/plain": [
       "[('가수', 0.7729029655456543),\n",
       " ('코미디언', 0.7728644609451294),\n",
       " ('만화가', 0.749615490436554),\n",
       " ('영화배우', 0.7441834211349487),\n",
       " ('여배우', 0.7411354184150696),\n",
       " ('연출가', 0.7396705746650696),\n",
       " ('극작가', 0.7209770679473877),\n",
       " ('삽화가', 0.7152643799781799),\n",
       " ('안무가', 0.7149248123168945),\n",
       " ('무용가', 0.7118033766746521)]"
      ]
     },
     "execution_count": 46,
     "metadata": {},
     "output_type": "execute_result"
    }
   ],
   "source": [
    "# '배우'와 유사한 단어 찾아보기\n",
    "word_vectors.wv.similar_by_word(\"배우\")"
   ]
  },
  {
   "cell_type": "code",
   "execution_count": 47,
   "id": "50ef13ac",
   "metadata": {},
   "outputs": [],
   "source": [
    "# 학습했던 모델의 임베딩 레이어를 word_vectors의 것으로 교체하여 다시 학습\n",
    "vocab_size = 10000    # 어휘 사전의 크기(10,000개의 단어)\n",
    "word_vector_dim = 100  # 워드 벡터의 차원수\n",
    "embedding_matrix = np.random.rand(vocab_size, word_vector_dim)\n",
    "\n",
    "# embedding_matrix에 Word2Vec 워드 벡터를 단어 하나씩마다 차례차례 카피한다.\n",
    "for i in range(4,vocab_size):\n",
    "    if index_to_word[i] in word_vectors.wv:\n",
    "        embedding_matrix[i] = word_vectors.wv[index_to_word[i]]"
   ]
  },
  {
   "cell_type": "code",
   "execution_count": 48,
   "id": "6b1866cc",
   "metadata": {},
   "outputs": [
    {
     "name": "stdout",
     "output_type": "stream",
     "text": [
      "Model: \"sequential_4\"\n",
      "_________________________________________________________________\n",
      "Layer (type)                 Output Shape              Param #   \n",
      "=================================================================\n",
      "embedding_4 (Embedding)      (None, 41, 100)           1000000   \n",
      "_________________________________________________________________\n",
      "conv1d_6 (Conv1D)            (None, 35, 16)            11216     \n",
      "_________________________________________________________________\n",
      "max_pooling1d_3 (MaxPooling1 (None, 7, 16)             0         \n",
      "_________________________________________________________________\n",
      "conv1d_7 (Conv1D)            (None, 1, 16)             1808      \n",
      "_________________________________________________________________\n",
      "global_max_pooling1d_3 (Glob (None, 16)                0         \n",
      "_________________________________________________________________\n",
      "dense_8 (Dense)              (None, 8)                 136       \n",
      "_________________________________________________________________\n",
      "dense_9 (Dense)              (None, 1)                 9         \n",
      "=================================================================\n",
      "Total params: 1,013,169\n",
      "Trainable params: 1,013,169\n",
      "Non-trainable params: 0\n",
      "_________________________________________________________________\n"
     ]
    }
   ],
   "source": [
    "# 모델 구성\n",
    "model = tf.keras.Sequential()\n",
    "model.add(tf.keras.layers.Embedding(vocab_size, \n",
    "                                 word_vector_dim, \n",
    "                                 embeddings_initializer=Constant(embedding_matrix),  # 카피한 임베딩을 여기서 활용\n",
    "                                 input_length=maxlen, \n",
    "                                 trainable=True))   # trainable을 True로 주면 Fine-tuning\n",
    "model.add(tf.keras.layers.Conv1D(16, 7, activation='relu'))\n",
    "model.add(tf.keras.layers.MaxPooling1D(5))\n",
    "model.add(tf.keras.layers.Conv1D(16, 7, activation='relu'))\n",
    "model.add(tf.keras.layers.GlobalMaxPooling1D())\n",
    "model.add(tf.keras.layers.Dense(8, activation='relu'))\n",
    "model.add(tf.keras.layers.Dense(1, activation='sigmoid')) \n",
    "\n",
    "model.summary()"
   ]
  },
  {
   "cell_type": "code",
   "execution_count": 49,
   "id": "8bef2303",
   "metadata": {},
   "outputs": [
    {
     "name": "stdout",
     "output_type": "stream",
     "text": [
      "Epoch 1/20\n",
      "1025/1025 [==============================] - 5s 5ms/step - loss: 0.5145 - accuracy: 0.7392 - val_loss: 0.4188 - val_accuracy: 0.8103\n",
      "Epoch 2/20\n",
      "1025/1025 [==============================] - 5s 5ms/step - loss: 0.3810 - accuracy: 0.8320 - val_loss: 0.3705 - val_accuracy: 0.8347\n",
      "Epoch 3/20\n",
      "1025/1025 [==============================] - 5s 5ms/step - loss: 0.3356 - accuracy: 0.8558 - val_loss: 0.3508 - val_accuracy: 0.8437\n",
      "Epoch 4/20\n",
      "1025/1025 [==============================] - 5s 5ms/step - loss: 0.3088 - accuracy: 0.8693 - val_loss: 0.3442 - val_accuracy: 0.8475\n",
      "Epoch 5/20\n",
      "1025/1025 [==============================] - 5s 5ms/step - loss: 0.2898 - accuracy: 0.8796 - val_loss: 0.3425 - val_accuracy: 0.8493\n",
      "Epoch 6/20\n",
      "1025/1025 [==============================] - 5s 5ms/step - loss: 0.2746 - accuracy: 0.8866 - val_loss: 0.3547 - val_accuracy: 0.8445\n",
      "Epoch 7/20\n",
      "1025/1025 [==============================] - 5s 5ms/step - loss: 0.2603 - accuracy: 0.8943 - val_loss: 0.3606 - val_accuracy: 0.8483\n",
      "Epoch 8/20\n",
      "1025/1025 [==============================] - 5s 5ms/step - loss: 0.2464 - accuracy: 0.9003 - val_loss: 0.3718 - val_accuracy: 0.8443\n",
      "Epoch 9/20\n",
      "1025/1025 [==============================] - 5s 5ms/step - loss: 0.2331 - accuracy: 0.9071 - val_loss: 0.3723 - val_accuracy: 0.8445\n",
      "Epoch 10/20\n",
      "1025/1025 [==============================] - 5s 5ms/step - loss: 0.2208 - accuracy: 0.9133 - val_loss: 0.3897 - val_accuracy: 0.8432\n",
      "Epoch 11/20\n",
      "1025/1025 [==============================] - 5s 5ms/step - loss: 0.2092 - accuracy: 0.9190 - val_loss: 0.3948 - val_accuracy: 0.8451\n",
      "Epoch 12/20\n",
      "1025/1025 [==============================] - 5s 5ms/step - loss: 0.1961 - accuracy: 0.9251 - val_loss: 0.4186 - val_accuracy: 0.8450\n",
      "Epoch 13/20\n",
      "1025/1025 [==============================] - 5s 5ms/step - loss: 0.1857 - accuracy: 0.9296 - val_loss: 0.4273 - val_accuracy: 0.8403\n",
      "Epoch 14/20\n",
      "1025/1025 [==============================] - 5s 5ms/step - loss: 0.1742 - accuracy: 0.9346 - val_loss: 0.4333 - val_accuracy: 0.8393\n",
      "Epoch 15/20\n",
      "1025/1025 [==============================] - 5s 5ms/step - loss: 0.1629 - accuracy: 0.9404 - val_loss: 0.4655 - val_accuracy: 0.8383\n",
      "Epoch 16/20\n",
      "1025/1025 [==============================] - 5s 5ms/step - loss: 0.1526 - accuracy: 0.9444 - val_loss: 0.4792 - val_accuracy: 0.8386\n",
      "Epoch 17/20\n",
      "1025/1025 [==============================] - 5s 5ms/step - loss: 0.1426 - accuracy: 0.9487 - val_loss: 0.4797 - val_accuracy: 0.8387\n",
      "Epoch 18/20\n",
      "1025/1025 [==============================] - 5s 5ms/step - loss: 0.1332 - accuracy: 0.9523 - val_loss: 0.5134 - val_accuracy: 0.8353\n",
      "Epoch 19/20\n",
      "1025/1025 [==============================] - 5s 5ms/step - loss: 0.1246 - accuracy: 0.9560 - val_loss: 0.5843 - val_accuracy: 0.8364\n",
      "Epoch 20/20\n",
      "1025/1025 [==============================] - 5s 5ms/step - loss: 0.1167 - accuracy: 0.9593 - val_loss: 0.5682 - val_accuracy: 0.8369\n"
     ]
    }
   ],
   "source": [
    "# 학습 진행\n",
    "model.compile(optimizer='adam',\n",
    "              loss='binary_crossentropy',\n",
    "              metrics=['accuracy'])\n",
    "              \n",
    "epochs=20\n",
    "\n",
    "history = model.fit(partial_X_train,\n",
    "                    partial_y_train,\n",
    "                    epochs=epochs,\n",
    "                    batch_size=128,\n",
    "                    validation_data=(X_val, y_val),\n",
    "                    verbose=1)"
   ]
  },
  {
   "cell_type": "code",
   "execution_count": 50,
   "id": "23d3676d",
   "metadata": {},
   "outputs": [
    {
     "name": "stdout",
     "output_type": "stream",
     "text": [
      "1537/1537 - 3s - loss: 0.5799 - accuracy: 0.8349\n",
      "[0.579856812953949, 0.8349167108535767]\n"
     ]
    }
   ],
   "source": [
    "# 테스트셋을 통한 모델 평가\n",
    "results = model.evaluate(X_test, y_test, verbose=2)\n",
    "\n",
    "print(results)"
   ]
  },
  {
   "cell_type": "markdown",
   "id": "3c7a83fb",
   "metadata": {},
   "source": [
    "------"
   ]
  },
  {
   "cell_type": "markdown",
   "id": "fc58efe9",
   "metadata": {},
   "source": [
    "## (3) GlobalMaxPooling 모델"
   ]
  },
  {
   "cell_type": "markdown",
   "id": "846e9181",
   "metadata": {},
   "source": [
    "## Step 4. 모델 구성 및 validation set 구성"
   ]
  },
  {
   "cell_type": "code",
   "execution_count": 51,
   "id": "2e615871",
   "metadata": {},
   "outputs": [
    {
     "name": "stdout",
     "output_type": "stream",
     "text": [
      "Model: \"sequential_5\"\n",
      "_________________________________________________________________\n",
      "Layer (type)                 Output Shape              Param #   \n",
      "=================================================================\n",
      "embedding_5 (Embedding)      (None, None, 16)          160000    \n",
      "_________________________________________________________________\n",
      "global_max_pooling1d_4 (Glob (None, 16)                0         \n",
      "_________________________________________________________________\n",
      "dense_10 (Dense)             (None, 8)                 136       \n",
      "_________________________________________________________________\n",
      "dense_11 (Dense)             (None, 1)                 9         \n",
      "=================================================================\n",
      "Total params: 160,145\n",
      "Trainable params: 160,145\n",
      "Non-trainable params: 0\n",
      "_________________________________________________________________\n"
     ]
    }
   ],
   "source": [
    "# GlobalMaxPooling1D() 레이어 하나만 사용\n",
    "vocal_size = 10000 # 어휘 사전의 크기(10000개의 단어)\n",
    "word_vector_dim = 16 # 단어 하나를 표현하는 임베딩 벡터의 차원 수\n",
    "\n",
    "model = tf.keras.Sequential()\n",
    "model.add(tf.keras.layers.Embedding(vocab_size, word_vector_dim, input_shape=(None,)))\n",
    "model.add(tf.keras.layers.GlobalMaxPooling1D())\n",
    "model.add(tf.keras.layers.Dense(8, activation='relu'))\n",
    "model.add(tf.keras.layers.Dense(1, activation='sigmoid'))\n",
    "\n",
    "model.summary()"
   ]
  },
  {
   "cell_type": "code",
   "execution_count": 52,
   "id": "3dba1c1e",
   "metadata": {},
   "outputs": [
    {
     "name": "stdout",
     "output_type": "stream",
     "text": [
      "(116182, 41)\n",
      "(116182,)\n"
     ]
    }
   ],
   "source": [
    "# validation set 30000건 분리\n",
    "X_val_mp = X_train[:30000]   \n",
    "y_val_mp = y_train[:30000]\n",
    "\n",
    "# validation set을 제외한 나머지는 train set\n",
    "partial_X_train_mp = X_train[30000:]  \n",
    "partial_y_train_mp = y_train[30000:]\n",
    "\n",
    "print(partial_X_train_mp.shape)\n",
    "print(partial_y_train_mp.shape)"
   ]
  },
  {
   "cell_type": "markdown",
   "id": "bd7d665b",
   "metadata": {},
   "source": [
    "## Step 5. 모델 훈련 개시"
   ]
  },
  {
   "cell_type": "code",
   "execution_count": 53,
   "id": "44b0c429",
   "metadata": {},
   "outputs": [
    {
     "name": "stdout",
     "output_type": "stream",
     "text": [
      "Epoch 1/20\n",
      "227/227 [==============================] - 1s 4ms/step - loss: 0.6163 - accuracy: 0.7634 - val_loss: 0.4604 - val_accuracy: 0.8164\n",
      "Epoch 2/20\n",
      "227/227 [==============================] - 1s 4ms/step - loss: 0.3913 - accuracy: 0.8363 - val_loss: 0.3668 - val_accuracy: 0.8379\n",
      "Epoch 3/20\n",
      "227/227 [==============================] - 1s 4ms/step - loss: 0.3341 - accuracy: 0.8590 - val_loss: 0.3542 - val_accuracy: 0.8426\n",
      "Epoch 4/20\n",
      "227/227 [==============================] - 1s 4ms/step - loss: 0.3060 - accuracy: 0.8725 - val_loss: 0.3517 - val_accuracy: 0.8452\n",
      "Epoch 5/20\n",
      "227/227 [==============================] - 1s 4ms/step - loss: 0.2853 - accuracy: 0.8822 - val_loss: 0.3549 - val_accuracy: 0.8457\n",
      "Epoch 6/20\n",
      "227/227 [==============================] - 1s 4ms/step - loss: 0.2685 - accuracy: 0.8905 - val_loss: 0.3605 - val_accuracy: 0.8465\n",
      "Epoch 7/20\n",
      "227/227 [==============================] - 1s 4ms/step - loss: 0.2541 - accuracy: 0.8976 - val_loss: 0.3679 - val_accuracy: 0.8444\n",
      "Epoch 8/20\n",
      "227/227 [==============================] - 1s 4ms/step - loss: 0.2413 - accuracy: 0.9031 - val_loss: 0.3766 - val_accuracy: 0.8450\n",
      "Epoch 9/20\n",
      "227/227 [==============================] - 1s 4ms/step - loss: 0.2302 - accuracy: 0.9088 - val_loss: 0.3857 - val_accuracy: 0.8431\n",
      "Epoch 10/20\n",
      "227/227 [==============================] - 1s 4ms/step - loss: 0.2198 - accuracy: 0.9137 - val_loss: 0.3959 - val_accuracy: 0.8407\n",
      "Epoch 11/20\n",
      "227/227 [==============================] - 1s 4ms/step - loss: 0.2104 - accuracy: 0.9186 - val_loss: 0.4068 - val_accuracy: 0.8405\n",
      "Epoch 12/20\n",
      "227/227 [==============================] - 1s 4ms/step - loss: 0.2014 - accuracy: 0.9224 - val_loss: 0.4181 - val_accuracy: 0.8393\n",
      "Epoch 13/20\n",
      "227/227 [==============================] - 1s 4ms/step - loss: 0.1935 - accuracy: 0.9263 - val_loss: 0.4286 - val_accuracy: 0.8386\n",
      "Epoch 14/20\n",
      "227/227 [==============================] - 1s 4ms/step - loss: 0.1860 - accuracy: 0.9302 - val_loss: 0.4406 - val_accuracy: 0.8356\n",
      "Epoch 15/20\n",
      "227/227 [==============================] - 1s 4ms/step - loss: 0.1789 - accuracy: 0.9338 - val_loss: 0.4514 - val_accuracy: 0.8343\n",
      "Epoch 16/20\n",
      "227/227 [==============================] - 1s 4ms/step - loss: 0.1721 - accuracy: 0.9364 - val_loss: 0.4630 - val_accuracy: 0.8338\n",
      "Epoch 17/20\n",
      "227/227 [==============================] - 1s 4ms/step - loss: 0.1658 - accuracy: 0.9397 - val_loss: 0.4761 - val_accuracy: 0.8322\n",
      "Epoch 18/20\n",
      "227/227 [==============================] - 1s 4ms/step - loss: 0.1601 - accuracy: 0.9424 - val_loss: 0.4882 - val_accuracy: 0.8313\n",
      "Epoch 19/20\n",
      "227/227 [==============================] - 1s 4ms/step - loss: 0.1547 - accuracy: 0.9451 - val_loss: 0.4996 - val_accuracy: 0.8311\n",
      "Epoch 20/20\n",
      "227/227 [==============================] - 1s 4ms/step - loss: 0.1497 - accuracy: 0.9470 - val_loss: 0.5115 - val_accuracy: 0.8296\n"
     ]
    }
   ],
   "source": [
    "model.compile(optimizer='adam',\n",
    "              loss='binary_crossentropy',\n",
    "              metrics=['accuracy'])\n",
    "              \n",
    "epochs=20\n",
    "\n",
    "history_mp_pre = model.fit(partial_X_train_mp,\n",
    "                    partial_y_train_mp,\n",
    "                    epochs=epochs,\n",
    "                    batch_size=512,\n",
    "                    validation_data=(X_val_mp, y_val_mp),\n",
    "                    verbose=1)"
   ]
  },
  {
   "cell_type": "code",
   "execution_count": 54,
   "id": "8935ee90",
   "metadata": {},
   "outputs": [
    {
     "name": "stdout",
     "output_type": "stream",
     "text": [
      "1537/1537 - 2s - loss: 0.5170 - accuracy: 0.8272\n",
      "[0.5169750452041626, 0.8271660208702087]\n"
     ]
    }
   ],
   "source": [
    "# 테스트셋으로 평가\n",
    "results = model.evaluate(X_test, y_test, verbose=2)\n",
    "\n",
    "print(results)"
   ]
  },
  {
   "cell_type": "code",
   "execution_count": 55,
   "id": "35c0a334",
   "metadata": {},
   "outputs": [
    {
     "name": "stdout",
     "output_type": "stream",
     "text": [
      "dict_keys(['loss', 'accuracy', 'val_loss', 'val_accuracy'])\n"
     ]
    }
   ],
   "source": [
    "# train/validation loss, accuracy등이 매 epoch마다 history변수에 저장\n",
    "history_dict_mp_pre = history_mp_pre.history\n",
    "print(history_dict_mp_pre.keys())"
   ]
  },
  {
   "cell_type": "markdown",
   "id": "d60e24ab",
   "metadata": {},
   "source": [
    "## Step 6. Loss, Accuracy 그래프 시각화"
   ]
  },
  {
   "cell_type": "code",
   "execution_count": 56,
   "id": "35493df4",
   "metadata": {},
   "outputs": [
    {
     "data": {
      "image/png": "[encoded data removed]",
      "text/plain": [
       "<Figure size 432x288 with 1 Axes>"
      ]
     },
     "metadata": {
      "needs_background": "light"
     },
     "output_type": "display_data"
    }
   ],
   "source": [
    "# loss 그래프 그리기\n",
    "acc2 = history_dict_cnn_pre['accuracy']\n",
    "val_acc2 = history_dict_cnn_pre['val_accuracy']\n",
    "loss2 = history_dict_cnn_pre['loss']\n",
    "val_loss2 = history_dict_cnn_pre['val_loss']\n",
    "\n",
    "epochs = range(1, len(acc2) + 1)\n",
    "\n",
    "plt.plot(epochs, loss2, 'bo', label='Training loss') # bo는 파란색 점\n",
    "plt.plot(epochs, val_loss2, 'b', label='Validation loss') # b는 파란색 실선\n",
    "plt.title('Training and validation loss')\n",
    "plt.xlabel('Epochs')\n",
    "plt.ylabel('Loss')\n",
    "plt.legend()\n",
    "\n",
    "plt.show()"
   ]
  },
  {
   "cell_type": "code",
   "execution_count": 57,
   "id": "96eba147",
   "metadata": {},
   "outputs": [
    {
     "data": {
      "image/png": "[encoded data removed]",
      "text/plain": [
       "<Figure size 432x288 with 1 Axes>"
      ]
     },
     "metadata": {
      "needs_background": "light"
     },
     "output_type": "display_data"
    }
   ],
   "source": [
    "# accuracy 그래프로 그려보기\n",
    "plt.clf() # 그림 초기화\n",
    "\n",
    "plt.plot(epochs, acc2, 'bo', label='Training acc')\n",
    "plt.plot(epochs, val_acc2, 'b', label='Validation acc')\n",
    "plt.title('Training and validation accuracy')\n",
    "plt.xlabel('Epochs')\n",
    "plt.ylabel('Accuracy')\n",
    "plt.legend()\n",
    "\n",
    "plt.show()"
   ]
  },
  {
   "cell_type": "markdown",
   "id": "81f81a12",
   "metadata": {},
   "source": [
    "## Step 7. 학습된 Embedding 레이어 분석"
   ]
  },
  {
   "cell_type": "code",
   "execution_count": 58,
   "id": "fffce120",
   "metadata": {},
   "outputs": [
    {
     "name": "stdout",
     "output_type": "stream",
     "text": [
      "(10000, 16)\n"
     ]
    }
   ],
   "source": [
    "embedding_layer = model.layers[0]\n",
    "weights = embedding_layer.get_weights()[0]\n",
    "print(weights.shape) #(vocab_size, embedding_dim)"
   ]
  },
  {
   "cell_type": "code",
   "execution_count": 59,
   "id": "e3115141",
   "metadata": {},
   "outputs": [],
   "source": [
    "# 학습된 Embedding 파라미터를 파일에 써서 저장\n",
    "word2vec_file_path = os.getenv('HOME')+'/aiffel/sentiment_classification/data/word2vec.txt'\n",
    "f = open(word2vec_file_path, 'w')\n",
    "f.write('{} {}\\n'.format(vocab_size-4, word_vector_dim)) \n",
    " # 몇개의 벡터를 얼마 사이즈로 기재할지 타이틀 쓰기\n",
    "\n",
    "# 단어 개수(특수문자 4개 제외)만큼의 워드 벡터를 파일에 기록\n",
    "vectors = model.get_weights()[0]\n",
    "for i in range(4,vocab_size):\n",
    "    f.write('{} {}\\n'.format(index_to_word[i], ' '.join(map(str, list(vectors[i, :])))))\n",
    "f.close()"
   ]
  },
  {
   "cell_type": "code",
   "execution_count": 60,
   "id": "78b53b0a",
   "metadata": {},
   "outputs": [
    {
     "data": {
      "text/plain": [
       "array([-0.25151297, -0.2558891 , -0.178277  , -0.23762211, -0.20607823,\n",
       "       -0.27258015, -0.29830647, -0.22582655, -0.25149718, -0.26326573,\n",
       "       -0.21045947, -0.27016303, -0.26189798, -0.02091313, -0.28733972,\n",
       "       -0.20674996], dtype=float32)"
      ]
     },
     "execution_count": 60,
     "metadata": {},
     "output_type": "execute_result"
    }
   ],
   "source": [
    "# Embedding 파라미터를 읽어서 word vector로 활용\n",
    "from gensim.models.keyedvectors import Word2VecKeyedVectors\n",
    "\n",
    "word_vectors = Word2VecKeyedVectors.load_word2vec_format(word2vec_file_path, binary=False)\n",
    "vector = word_vectors['영화']\n",
    "vector"
   ]
  },
  {
   "cell_type": "code",
   "execution_count": 61,
   "id": "789ca11b",
   "metadata": {},
   "outputs": [
    {
     "data": {
      "text/plain": [
       "[('만드', 0.9843126535415649),\n",
       " ('..', 0.9776294231414795),\n",
       " ('내', 0.9632648825645447),\n",
       " ('씨', 0.9544117450714111),\n",
       " ('...', 0.9542429447174072),\n",
       " ('이완', 0.9531119465827942),\n",
       " ('파이터', 0.9525415897369385),\n",
       " ('그런지', 0.9517053961753845),\n",
       " ('영화', 0.950676441192627),\n",
       " ('스럽', 0.9506231546401978)]"
      ]
     },
     "execution_count": 61,
     "metadata": {},
     "output_type": "execute_result"
    }
   ],
   "source": [
    "# '배우'와 유사한 단어 찾아보기\n",
    "word_vectors.similar_by_word('배우')"
   ]
  },
  {
   "cell_type": "markdown",
   "id": "dfcd7ded",
   "metadata": {},
   "source": [
    "## Step 8. 한국어 Word2Vec 임베딩 활용하여 성능 개선"
   ]
  },
  {
   "cell_type": "code",
   "execution_count": 62,
   "id": "e427789b",
   "metadata": {},
   "outputs": [
    {
     "data": {
      "text/plain": [
       "array([-1.8007389 , -1.1790098 , -2.4066596 ,  2.1384156 , -0.3537603 ,\n",
       "        1.3749527 , -4.894612  , -3.6517198 ,  0.4411444 ,  0.78153926,\n",
       "       -2.696888  , -1.7812852 , -2.1514654 , -4.813236  ,  2.7465918 ,\n",
       "       -2.1620324 , -0.11467794, -1.2431171 ,  2.3979309 , -1.1060628 ,\n",
       "       -0.41043055,  1.9500391 ,  0.7821002 ,  1.5899978 ,  1.6447444 ,\n",
       "       -2.1265035 , -1.7981595 ,  1.7535795 ,  0.53717697, -1.212121  ,\n",
       "       -4.466316  ,  4.5488324 ,  1.334441  , -0.9070271 ,  1.1931889 ,\n",
       "        4.1563215 ,  1.9758307 , -0.9437562 , -0.2592725 ,  0.34935686,\n",
       "        1.8562875 , -3.3249645 ,  1.1221625 ,  1.2836524 ,  3.9211376 ,\n",
       "        3.8023994 ,  2.766269  ,  0.67293745,  2.2853644 , -5.1131716 ,\n",
       "        0.32525915, -3.3079958 ,  5.3043513 , -3.8813758 , -0.32960036,\n",
       "       -1.9527504 ,  3.8865075 , -3.5470378 , -0.21991685,  0.82119733,\n",
       "       -0.9492492 ,  3.5472107 ,  1.322048  , -0.70640826,  0.52253807,\n",
       "        1.4683235 , -1.1018689 ,  2.262941  , -0.7204685 , -1.766201  ,\n",
       "        5.2237577 ,  3.0748682 ,  1.0977576 ,  3.3191733 , -0.4100423 ,\n",
       "       -1.7022891 , -0.78379875,  0.82586575, -0.54520637,  1.2355382 ,\n",
       "        2.02674   , -0.652447  ,  1.0866054 ,  0.8977641 ,  0.7928342 ,\n",
       "        3.7770627 ,  3.0274863 ,  5.1660023 ,  2.6461644 ,  2.8926868 ,\n",
       "        1.970944  , -3.3746543 , -5.2656593 , -1.1041485 ,  2.357547  ,\n",
       "       -2.3570824 , -4.8172383 ,  3.7290223 ,  4.62329   ,  1.5004613 ],\n",
       "      dtype=float32)"
      ]
     },
     "execution_count": 62,
     "metadata": {},
     "output_type": "execute_result"
    }
   ],
   "source": [
    "# Word2vec 모델 가져오기\n",
    "word2vec_path = os.getenv('HOME')+'/data/word2vec_ko.model'\n",
    "word_vectors = Word2VecKeyedVectors.load(word2vec_path)\n",
    "vector = word_vectors.wv['영화']\n",
    "vector"
   ]
  },
  {
   "cell_type": "code",
   "execution_count": 63,
   "id": "53f8514f",
   "metadata": {},
   "outputs": [
    {
     "data": {
      "text/plain": [
       "[('가수', 0.7729029655456543),\n",
       " ('코미디언', 0.7728644609451294),\n",
       " ('만화가', 0.749615490436554),\n",
       " ('영화배우', 0.7441834211349487),\n",
       " ('여배우', 0.7411354184150696),\n",
       " ('연출가', 0.7396705746650696),\n",
       " ('극작가', 0.7209770679473877),\n",
       " ('삽화가', 0.7152643799781799),\n",
       " ('안무가', 0.7149248123168945),\n",
       " ('무용가', 0.7118033766746521)]"
      ]
     },
     "execution_count": 63,
     "metadata": {},
     "output_type": "execute_result"
    }
   ],
   "source": [
    "# '배우'와 유사한 단어 찾아보기\n",
    "word_vectors.wv.similar_by_word(\"배우\")"
   ]
  },
  {
   "cell_type": "code",
   "execution_count": 64,
   "id": "49ca6d07",
   "metadata": {},
   "outputs": [],
   "source": [
    "# 학습했던 모델의 임베딩 레이어를 word_vectors의 것으로 교체하여 다시 학습\n",
    "vocab_size = 10000    # 어휘 사전의 크기(10,000개의 단어)\n",
    "word_vector_dim = 100  # 워드 벡터의 차원수\n",
    "embedding_matrix = np.random.rand(vocab_size, word_vector_dim)\n",
    "\n",
    "# embedding_matrix에 Word2Vec 워드 벡터를 단어 하나씩마다 차례차례 카피한다.\n",
    "for i in range(4,vocab_size):\n",
    "    if index_to_word[i] in word_vectors.wv:\n",
    "        embedding_matrix[i] = word_vectors.wv[index_to_word[i]]"
   ]
  },
  {
   "cell_type": "code",
   "execution_count": 65,
   "id": "a1c8b368",
   "metadata": {},
   "outputs": [
    {
     "name": "stdout",
     "output_type": "stream",
     "text": [
      "Model: \"sequential_6\"\n",
      "_________________________________________________________________\n",
      "Layer (type)                 Output Shape              Param #   \n",
      "=================================================================\n",
      "embedding_6 (Embedding)      (None, 41, 100)           1000000   \n",
      "_________________________________________________________________\n",
      "conv1d_8 (Conv1D)            (None, 35, 16)            11216     \n",
      "_________________________________________________________________\n",
      "max_pooling1d_4 (MaxPooling1 (None, 7, 16)             0         \n",
      "_________________________________________________________________\n",
      "conv1d_9 (Conv1D)            (None, 1, 16)             1808      \n",
      "_________________________________________________________________\n",
      "global_max_pooling1d_5 (Glob (None, 16)                0         \n",
      "_________________________________________________________________\n",
      "dense_12 (Dense)             (None, 8)                 136       \n",
      "_________________________________________________________________\n",
      "dense_13 (Dense)             (None, 1)                 9         \n",
      "=================================================================\n",
      "Total params: 1,013,169\n",
      "Trainable params: 1,013,169\n",
      "Non-trainable params: 0\n",
      "_________________________________________________________________\n"
     ]
    }
   ],
   "source": [
    "# 모델 구성\n",
    "model = tf.keras.Sequential()\n",
    "model.add(tf.keras.layers.Embedding(vocab_size, \n",
    "                                 word_vector_dim, \n",
    "                                 embeddings_initializer=Constant(embedding_matrix),  # 카피한 임베딩을 여기서 활용\n",
    "                                 input_length=maxlen, \n",
    "                                 trainable=True))   # trainable을 True로 주면 Fine-tuning\n",
    "model.add(tf.keras.layers.Conv1D(16, 7, activation='relu'))\n",
    "model.add(tf.keras.layers.MaxPooling1D(5))\n",
    "model.add(tf.keras.layers.Conv1D(16, 7, activation='relu'))\n",
    "model.add(tf.keras.layers.GlobalMaxPooling1D())\n",
    "model.add(tf.keras.layers.Dense(8, activation='relu'))\n",
    "model.add(tf.keras.layers.Dense(1, activation='sigmoid')) \n",
    "\n",
    "model.summary()"
   ]
  },
  {
   "cell_type": "code",
   "execution_count": 66,
   "id": "d86d9753",
   "metadata": {},
   "outputs": [
    {
     "name": "stdout",
     "output_type": "stream",
     "text": [
      "Epoch 1/20\n",
      "1025/1025 [==============================] - 5s 5ms/step - loss: 0.5131 - accuracy: 0.7408 - val_loss: 0.4222 - val_accuracy: 0.8064\n",
      "Epoch 2/20\n",
      "1025/1025 [==============================] - 5s 5ms/step - loss: 0.3784 - accuracy: 0.8324 - val_loss: 0.3613 - val_accuracy: 0.8385\n",
      "Epoch 3/20\n",
      "1025/1025 [==============================] - 5s 5ms/step - loss: 0.3319 - accuracy: 0.8561 - val_loss: 0.3494 - val_accuracy: 0.8428\n",
      "Epoch 4/20\n",
      "1025/1025 [==============================] - 5s 5ms/step - loss: 0.3047 - accuracy: 0.8705 - val_loss: 0.3424 - val_accuracy: 0.8480\n",
      "Epoch 5/20\n",
      "1025/1025 [==============================] - 5s 5ms/step - loss: 0.2860 - accuracy: 0.8809 - val_loss: 0.3463 - val_accuracy: 0.8483\n",
      "Epoch 6/20\n",
      "1025/1025 [==============================] - 5s 5ms/step - loss: 0.2697 - accuracy: 0.8887 - val_loss: 0.3497 - val_accuracy: 0.8477\n",
      "Epoch 7/20\n",
      "1025/1025 [==============================] - 5s 5ms/step - loss: 0.2554 - accuracy: 0.8961 - val_loss: 0.3497 - val_accuracy: 0.8496\n",
      "Epoch 8/20\n",
      "1025/1025 [==============================] - 5s 5ms/step - loss: 0.2423 - accuracy: 0.9019 - val_loss: 0.3604 - val_accuracy: 0.8488\n",
      "Epoch 9/20\n",
      "1025/1025 [==============================] - 5s 5ms/step - loss: 0.2284 - accuracy: 0.9085 - val_loss: 0.3690 - val_accuracy: 0.8489\n",
      "Epoch 10/20\n",
      "1025/1025 [==============================] - 5s 5ms/step - loss: 0.2174 - accuracy: 0.9137 - val_loss: 0.3776 - val_accuracy: 0.8463\n",
      "Epoch 11/20\n",
      "1025/1025 [==============================] - 5s 5ms/step - loss: 0.2045 - accuracy: 0.9211 - val_loss: 0.3975 - val_accuracy: 0.8450\n",
      "Epoch 12/20\n",
      "1025/1025 [==============================] - 5s 5ms/step - loss: 0.1914 - accuracy: 0.9268 - val_loss: 0.3969 - val_accuracy: 0.8459\n",
      "Epoch 13/20\n",
      "1025/1025 [==============================] - 5s 5ms/step - loss: 0.1799 - accuracy: 0.9323 - val_loss: 0.4354 - val_accuracy: 0.8441\n",
      "Epoch 14/20\n",
      "1025/1025 [==============================] - 5s 5ms/step - loss: 0.1681 - accuracy: 0.9375 - val_loss: 0.4463 - val_accuracy: 0.8438\n",
      "Epoch 15/20\n",
      "1025/1025 [==============================] - 5s 5ms/step - loss: 0.1590 - accuracy: 0.9411 - val_loss: 0.4751 - val_accuracy: 0.8396\n",
      "Epoch 16/20\n",
      "1025/1025 [==============================] - 5s 5ms/step - loss: 0.1477 - accuracy: 0.9462 - val_loss: 0.4768 - val_accuracy: 0.8392\n",
      "Epoch 17/20\n",
      "1025/1025 [==============================] - 5s 5ms/step - loss: 0.1378 - accuracy: 0.9500 - val_loss: 0.5260 - val_accuracy: 0.8409\n",
      "Epoch 18/20\n",
      "1025/1025 [==============================] - 5s 5ms/step - loss: 0.1283 - accuracy: 0.9546 - val_loss: 0.5240 - val_accuracy: 0.8385\n",
      "Epoch 19/20\n",
      "1025/1025 [==============================] - 5s 5ms/step - loss: 0.1210 - accuracy: 0.9571 - val_loss: 0.5669 - val_accuracy: 0.8389\n",
      "Epoch 20/20\n",
      "1025/1025 [==============================] - 5s 5ms/step - loss: 0.1131 - accuracy: 0.9598 - val_loss: 0.6108 - val_accuracy: 0.8331\n"
     ]
    }
   ],
   "source": [
    "# 학습 진행\n",
    "model.compile(optimizer='adam',\n",
    "              loss='binary_crossentropy',\n",
    "              metrics=['accuracy'])\n",
    "              \n",
    "epochs=20\n",
    "\n",
    "history = model.fit(partial_X_train,\n",
    "                    partial_y_train,\n",
    "                    epochs=epochs,\n",
    "                    batch_size=128,\n",
    "                    validation_data=(X_val, y_val),\n",
    "                    verbose=1)"
   ]
  },
  {
   "cell_type": "code",
   "execution_count": 67,
   "id": "33b00785",
   "metadata": {},
   "outputs": [
    {
     "name": "stdout",
     "output_type": "stream",
     "text": [
      "1537/1537 - 3s - loss: 0.6220 - accuracy: 0.8340\n",
      "[0.6219927668571472, 0.8340012431144714]\n"
     ]
    }
   ],
   "source": [
    "# 테스트셋을 통한 모델 평가\n",
    "results = model.evaluate(X_test, y_test, verbose=2)\n",
    "\n",
    "print(results)"
   ]
  },
  {
   "cell_type": "markdown",
   "id": "8aa4c204",
   "metadata": {},
   "source": [
    "-------"
   ]
  },
  {
   "cell_type": "markdown",
   "id": "b4c677ad",
   "metadata": {},
   "source": [
    "## 회고\n",
    "1. 다양한 방법으로 Text Classification 태스크를 성공적으로 구현하였는가?  \n",
    "RNN, CNN, MaxPooling 3가지 모델로 text classification을 해보았고, accuracy는 세가지 모델이 비슷하게 나왔다.  \n",
    "2. gensim의 유사단어 찾기를 활용하여 자체학습한 임베딩과 사전학습 임베딩을 비교 분석 하였는가?  \n",
    "세 가지 모델 모두 자체학습한 임베딩으로 gensim의 유사단어 찾기를 활용했을 때, 유사도가 많이 떨어졌다고 느껴졌다. 이에 비해 사전학습 임제딩으로 gensim의 유사단어 찾기를 활용했을 때에는 확실히 유사도가 올라갔음을 느꼈다.  \n",
    "3. 한국어 Word2Vec을 활용하여 네이버 영화리뷰 데이터 감성분석 정확도를 85% 이상 달성하였는가?  \n",
    "한국어 Word2Vec을 활용하기 위해 많은 시행착오를 겪었지만 여러 시도 끝에 문제를 해결하였다. 그렇게 한국어 Word2Vec을 활용했는데 안타깝게도 정확도가 85%를 넘지 못했다. convolution layer나 epoch, batch_size의 값을 조정해봤지만 오히려 정확도가 떨어질 뿐이었다. 성능향상을 위해서 다른 방법을 더 찾아보도록 해야겠다.  \n",
    "4. 프로젝트를 진행하면서 느낀점 : 이번 프로젝트는 유난히 어려웠다. 에러 하나를 해결하면 또다른 에러가 발생했다. 그 외에도 전체적으로 내용이 너무 어려웠다. lms를 많이 참고했음에도 이해가 안되는 부분도 많았고, 해결하지 못한 문제도 많았다. 그럼에도 불구하고 프로젝트를 완성은 했다는 점이 뿌듯하기도 했고, 내가 부족한 부분을 더 보충해야겠다는 생각이 더욱 들기도 했다."
   ]
  },
  {
   "cell_type": "markdown",
   "id": "d9274fbc",
   "metadata": {},
   "source": [
    "## Reference\n",
    "[drop_duplicates](https://wikidocs.net/154060)  \n",
    "[tokenizer.morphs](https://han-py.tistory.com/283)  \n",
    "[np.concatenate](https://cosmosproject.tistory.com/254)  \n",
    "[tolist()](https://cosmosproject.tistory.com/410)  \n",
    "[ko.bin](https://omicro03.medium.com/%EC%9E%90%EC%97%B0%EC%96%B4%EC%B2%98%EB%A6%AC-nlp-14%EC%9D%BC%EC%B0%A8-word2vec-%EC%8B%A4%EC%8A%B52-8e518a358b6c)"
   ]
  }
 ],
 "metadata": {
  "kernelspec": {
   "display_name": "Python 3 (ipykernel)",
   "language": "python",
   "name": "python3"
  },
  "language_info": {
   "codemirror_mode": {
    "name": "ipython",
    "version": 3
   },
   "file_extension": ".py",
   "mimetype": "text/x-python",
   "name": "python",
   "nbconvert_exporter": "python",
   "pygments_lexer": "ipython3",
   "version": "3.9.7"
  }
 },
 "nbformat": 4,
 "nbformat_minor": 5
}
