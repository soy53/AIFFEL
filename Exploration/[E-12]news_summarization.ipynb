{
 "cells": [
  {
   "cell_type": "markdown",
   "id": "c84366e9",
   "metadata": {},
   "source": [
    "# 뉴스기사 요약해보기"
   ]
  },
  {
   "cell_type": "code",
   "execution_count": 1,
   "id": "e14bb100",
   "metadata": {},
   "outputs": [
    {
     "name": "stderr",
     "output_type": "stream",
     "text": [
      "[nltk_data] Downloading package stopwords to /aiffel/nltk_data...\n",
      "[nltk_data]   Package stopwords is already up-to-date!\n"
     ]
    }
   ],
   "source": [
    "import nltk\n",
    "nltk.download('stopwords')\n",
    "\n",
    "import numpy as np\n",
    "import pandas as pd\n",
    "import os\n",
    "import re\n",
    "import matplotlib.pyplot as plt\n",
    "from nltk.corpus import stopwords\n",
    "from bs4 import BeautifulSoup \n",
    "from tensorflow.keras.preprocessing.text import Tokenizer \n",
    "from tensorflow.keras.preprocessing.sequence import pad_sequences\n",
    "import urllib.request\n",
    "import warnings\n",
    "warnings.filterwarnings(\"ignore\", category=UserWarning, module='bs4')"
   ]
  },
  {
   "cell_type": "markdown",
   "id": "08add86f",
   "metadata": {},
   "source": [
    "## Step 1. 데이터 수집하기\n",
    "- [news_summary_more.csv](https://github.com/sunnysai12345/News_Summary)  \n",
    "- 추상적 요약을 하는 경우에는 text를 본문, headlines를 이미 요약된 데이터로 삼아서 모델을 학습하며, 추출적 요약을 하는 경우에는 text열만을 사용한다.  \n",
    "- headlines의 내용이 결국 요약문이라고 생각해서 예측 요약과 비교할 실제 요약은 headlines의 내용으로 설정했다."
   ]
  },
  {
   "cell_type": "code",
   "execution_count": 2,
   "id": "248df7e9",
   "metadata": {},
   "outputs": [
    {
     "data": {
      "text/html": [
       "<div>\n",
       "<style scoped>\n",
       "    .dataframe tbody tr th:only-of-type {\n",
       "        vertical-align: middle;\n",
       "    }\n",
       "\n",
       "    .dataframe tbody tr th {\n",
       "        vertical-align: top;\n",
       "    }\n",
       "\n",
       "    .dataframe thead th {\n",
       "        text-align: right;\n",
       "    }\n",
       "</style>\n",
       "<table border=\"1\" class=\"dataframe\">\n",
       "  <thead>\n",
       "    <tr style=\"text-align: right;\">\n",
       "      <th></th>\n",
       "      <th>headlines</th>\n",
       "      <th>text</th>\n",
       "    </tr>\n",
       "  </thead>\n",
       "  <tbody>\n",
       "    <tr>\n",
       "      <th>63321</th>\n",
       "      <td>Samsung posts record profit of $10 billion in ...</td>\n",
       "      <td>South Korean tech giant Samsung Electronics on...</td>\n",
       "    </tr>\n",
       "    <tr>\n",
       "      <th>31615</th>\n",
       "      <td>Five 'most wanted' ISIS leaders captured in st...</td>\n",
       "      <td>Five senior Islamic State leaders have been ca...</td>\n",
       "    </tr>\n",
       "    <tr>\n",
       "      <th>52224</th>\n",
       "      <td>Class 12 student main suspect in Haryana rape ...</td>\n",
       "      <td>A Class 12 student is the prime suspect in the...</td>\n",
       "    </tr>\n",
       "    <tr>\n",
       "      <th>51990</th>\n",
       "      <td>Kim Kardashian, Kanye welcome their 3rd child ...</td>\n",
       "      <td>Reality television star Kim Kardashian and her...</td>\n",
       "    </tr>\n",
       "    <tr>\n",
       "      <th>36041</th>\n",
       "      <td>Army jawan booked for rape, attempt to murder ...</td>\n",
       "      <td>An Army jawan has been booked by the police fo...</td>\n",
       "    </tr>\n",
       "    <tr>\n",
       "      <th>42522</th>\n",
       "      <td>NASA model predicts landslides in real-time du...</td>\n",
       "      <td>Based on satellite data, NASA scientists have ...</td>\n",
       "    </tr>\n",
       "    <tr>\n",
       "      <th>30064</th>\n",
       "      <td>US startup to deliver its electric aircraft in...</td>\n",
       "      <td>US-based startup Zunum Aero has said that it w...</td>\n",
       "    </tr>\n",
       "    <tr>\n",
       "      <th>43928</th>\n",
       "      <td>Indo-Pak ceasefire must be on Indian terms: Ar...</td>\n",
       "      <td>Indian Army chief General Bipin Rawat has said...</td>\n",
       "    </tr>\n",
       "    <tr>\n",
       "      <th>31140</th>\n",
       "      <td>Gurugram man kills brother over whose turn it ...</td>\n",
       "      <td>A man has been arrested for allegedly killing ...</td>\n",
       "    </tr>\n",
       "    <tr>\n",
       "      <th>66396</th>\n",
       "      <td>Nigeria starts 'secret trials' for Boko Haram ...</td>\n",
       "      <td>Nigeria has started 'secret trials' for more t...</td>\n",
       "    </tr>\n",
       "  </tbody>\n",
       "</table>\n",
       "</div>"
      ],
      "text/plain": [
       "                                               headlines  \\\n",
       "63321  Samsung posts record profit of $10 billion in ...   \n",
       "31615  Five 'most wanted' ISIS leaders captured in st...   \n",
       "52224  Class 12 student main suspect in Haryana rape ...   \n",
       "51990  Kim Kardashian, Kanye welcome their 3rd child ...   \n",
       "36041  Army jawan booked for rape, attempt to murder ...   \n",
       "42522  NASA model predicts landslides in real-time du...   \n",
       "30064  US startup to deliver its electric aircraft in...   \n",
       "43928  Indo-Pak ceasefire must be on Indian terms: Ar...   \n",
       "31140  Gurugram man kills brother over whose turn it ...   \n",
       "66396  Nigeria starts 'secret trials' for Boko Haram ...   \n",
       "\n",
       "                                                    text  \n",
       "63321  South Korean tech giant Samsung Electronics on...  \n",
       "31615  Five senior Islamic State leaders have been ca...  \n",
       "52224  A Class 12 student is the prime suspect in the...  \n",
       "51990  Reality television star Kim Kardashian and her...  \n",
       "36041  An Army jawan has been booked by the police fo...  \n",
       "42522  Based on satellite data, NASA scientists have ...  \n",
       "30064  US-based startup Zunum Aero has said that it w...  \n",
       "43928  Indian Army chief General Bipin Rawat has said...  \n",
       "31140  A man has been arrested for allegedly killing ...  \n",
       "66396  Nigeria has started 'secret trials' for more t...  "
      ]
     },
     "execution_count": 2,
     "metadata": {},
     "output_type": "execute_result"
    }
   ],
   "source": [
    "urllib.request.urlretrieve(\"https://raw.githubusercontent.com/sunnysai12345/News_Summary/master/news_summary_more.csv\", filename=\"news_summary_more.csv\")\n",
    "data = pd.read_csv('news_summary_more.csv', encoding='iso-8859-1')\n",
    "\n",
    "data.sample(10)"
   ]
  },
  {
   "cell_type": "markdown",
   "id": "140f219f",
   "metadata": {},
   "source": [
    "## Step 2. 데이터 전처리하기 (추상적 요약)"
   ]
  },
  {
   "cell_type": "markdown",
   "id": "d5b3e86b",
   "metadata": {},
   "source": [
    "### 중복 샘플과 NULL 값이 존재하는 샘플 제거"
   ]
  },
  {
   "cell_type": "code",
   "execution_count": 3,
   "id": "7f2c329d",
   "metadata": {},
   "outputs": [
    {
     "name": "stdout",
     "output_type": "stream",
     "text": [
      "text 열에서 중복을 배제한 유일한 샘플의 수 : 98360\n",
      "headlines 열에서 중복을 배제한 유일한 샘플의 수 : 98280\n"
     ]
    }
   ],
   "source": [
    "# 중복 샘플 유무 확인\n",
    "print('text 열에서 중복을 배제한 유일한 샘플의 수 :', data['text'].nunique())\n",
    "print('headlines 열에서 중복을 배제한 유일한 샘플의 수 :', data['headlines'].nunique())"
   ]
  },
  {
   "cell_type": "code",
   "execution_count": 6,
   "id": "f393b7c9",
   "metadata": {},
   "outputs": [
    {
     "name": "stdout",
     "output_type": "stream",
     "text": [
      "test 전체 샘플수 : 98262\n",
      "headlines 전체 샘플수 : 98262\n"
     ]
    }
   ],
   "source": [
    "# text 중복 샘플 제거\n",
    "data.drop_duplicates(subset = ['text'], inplace=True)\n",
    "print('test 전체 샘플수 :', (len(data)))\n",
    "\n",
    "# headlines 중복 샘플 제거\n",
    "data.drop_duplicates(subset = ['headlines'], inplace=True)\n",
    "print('headlines 전체 샘플수 :', (len(data)))"
   ]
  },
  {
   "cell_type": "code",
   "execution_count": 7,
   "id": "70762864",
   "metadata": {},
   "outputs": [
    {
     "name": "stdout",
     "output_type": "stream",
     "text": [
      "headlines    0\n",
      "text         0\n",
      "dtype: int64\n"
     ]
    }
   ],
   "source": [
    "# Null 값 확인\n",
    "print(data.isnull().sum())"
   ]
  },
  {
   "cell_type": "markdown",
   "id": "964ea39d",
   "metadata": {},
   "source": [
    "### 텍스트 정규화와 불용어 제거"
   ]
  },
  {
   "cell_type": "code",
   "execution_count": 8,
   "id": "c2485f3f",
   "metadata": {},
   "outputs": [
    {
     "name": "stdout",
     "output_type": "stream",
     "text": [
      "정규화 사전의 수:  119\n"
     ]
    }
   ],
   "source": [
    "# 텍스트 정규화를 하기 위한 사전 구성\n",
    "contractions = {\"isn't\": \"is not\", \"aren't\": \"are not\",\"can't\": \"cannot\", \"'cause\": \"because\", \"could've\": \"could have\", \"couldn't\": \"could not\",\n",
    "                           \"didn't\": \"did not\",  \"doesn't\": \"does not\", \"don't\": \"do not\", \"hadn't\": \"had not\", \"hasn't\": \"has not\", \"haven't\": \"have not\",\n",
    "                           \"he'd\": \"he would\",\"he'll\": \"he will\", \"he's\": \"he is\", \"how'd\": \"how did\", \"how'd'y\": \"how do you\", \"how'll\": \"how will\", \"how's\": \"how is\",\n",
    "                           \"I'd\": \"I would\", \"I'd've\": \"I would have\", \"I'll\": \"I will\", \"I'll've\": \"I will have\",\"I'm\": \"I am\", \"I've\": \"I have\", \"i'd\": \"i would\",\n",
    "                           \"i'd've\": \"i would have\", \"i'll\": \"i will\",  \"i'll've\": \"i will have\",\"i'm\": \"i am\", \"i've\": \"i have\", \"isn't\": \"is not\", \"it'd\": \"it would\",\n",
    "                           \"it'd've\": \"it would have\", \"it'll\": \"it will\", \"it'll've\": \"it will have\",\"it's\": \"it is\", \"let's\": \"let us\", \"ma'am\": \"madam\",\n",
    "                           \"mayn't\": \"may not\", \"might've\": \"might have\",\"mightn't\": \"might not\",\"mightn't've\": \"might not have\", \"must've\": \"must have\",\n",
    "                           \"mustn't\": \"must not\", \"mustn't've\": \"must not have\", \"needn't\": \"need not\", \"needn't've\": \"need not have\",\"o'clock\": \"of the clock\",\n",
    "                           \"oughtn't\": \"ought not\", \"oughtn't've\": \"ought not have\", \"shan't\": \"shall not\", \"sha'n't\": \"shall not\", \"shan't've\": \"shall not have\",\n",
    "                           \"she'd\": \"she would\", \"she'd've\": \"she would have\", \"she'll\": \"she will\", \"she'll've\": \"she will have\", \"she's\": \"she is\",\n",
    "                           \"should've\": \"should have\", \"shouldn't\": \"should not\", \"shouldn't've\": \"should not have\", \"so've\": \"so have\",\"so's\": \"so as\",\n",
    "                           \"this's\": \"this is\",\"that'd\": \"that would\", \"that'd've\": \"that would have\", \"that's\": \"that is\", \"there'd\": \"there would\",\n",
    "                           \"there'd've\": \"there would have\", \"there's\": \"there is\", \"here's\": \"here is\",\"they'd\": \"they would\", \"they'd've\": \"they would have\",\n",
    "                           \"they'll\": \"they will\", \"they'll've\": \"they will have\", \"they're\": \"they are\", \"they've\": \"they have\", \"to've\": \"to have\",\n",
    "                           \"wasn't\": \"was not\", \"we'd\": \"we would\", \"we'd've\": \"we would have\", \"we'll\": \"we will\", \"we'll've\": \"we will have\", \"we're\": \"we are\",\n",
    "                           \"we've\": \"we have\", \"weren't\": \"were not\", \"what'll\": \"what will\", \"what'll've\": \"what will have\", \"what're\": \"what are\",\n",
    "                           \"what's\": \"what is\", \"what've\": \"what have\", \"when's\": \"when is\", \"when've\": \"when have\", \"where'd\": \"where did\", \"where's\": \"where is\",\n",
    "                           \"where've\": \"where have\", \"who'll\": \"who will\", \"who'll've\": \"who will have\", \"who's\": \"who is\", \"who've\": \"who have\",\n",
    "                           \"why's\": \"why is\", \"why've\": \"why have\", \"will've\": \"will have\", \"won't\": \"will not\", \"won't've\": \"will not have\",\n",
    "                           \"would've\": \"would have\", \"wouldn't\": \"would not\", \"wouldn't've\": \"would not have\", \"y'all\": \"you all\",\n",
    "                           \"y'all'd\": \"you all would\",\"y'all'd've\": \"you all would have\",\"y'all're\": \"you all are\",\"y'all've\": \"you all have\",\n",
    "                           \"you'd\": \"you would\", \"you'd've\": \"you would have\", \"you'll\": \"you will\", \"you'll've\": \"you will have\",\n",
    "                           \"you're\": \"you are\", \"you've\": \"you have\"}\n",
    "\n",
    "print(\"정규화 사전의 수: \", len(contractions))"
   ]
  },
  {
   "cell_type": "code",
   "execution_count": 9,
   "id": "7fece820",
   "metadata": {},
   "outputs": [
    {
     "name": "stdout",
     "output_type": "stream",
     "text": [
      "불용어 개수 : 179\n",
      "['i', 'me', 'my', 'myself', 'we', 'our', 'ours', 'ourselves', 'you', \"you're\", \"you've\", \"you'll\", \"you'd\", 'your', 'yours', 'yourself', 'yourselves', 'he', 'him', 'his', 'himself', 'she', \"she's\", 'her', 'hers', 'herself', 'it', \"it's\", 'its', 'itself', 'they', 'them', 'their', 'theirs', 'themselves', 'what', 'which', 'who', 'whom', 'this', 'that', \"that'll\", 'these', 'those', 'am', 'is', 'are', 'was', 'were', 'be', 'been', 'being', 'have', 'has', 'had', 'having', 'do', 'does', 'did', 'doing', 'a', 'an', 'the', 'and', 'but', 'if', 'or', 'because', 'as', 'until', 'while', 'of', 'at', 'by', 'for', 'with', 'about', 'against', 'between', 'into', 'through', 'during', 'before', 'after', 'above', 'below', 'to', 'from', 'up', 'down', 'in', 'out', 'on', 'off', 'over', 'under', 'again', 'further', 'then', 'once', 'here', 'there', 'when', 'where', 'why', 'how', 'all', 'any', 'both', 'each', 'few', 'more', 'most', 'other', 'some', 'such', 'no', 'nor', 'not', 'only', 'own', 'same', 'so', 'than', 'too', 'very', 's', 't', 'can', 'will', 'just', 'don', \"don't\", 'should', \"should've\", 'now', 'd', 'll', 'm', 'o', 're', 've', 'y', 'ain', 'aren', \"aren't\", 'couldn', \"couldn't\", 'didn', \"didn't\", 'doesn', \"doesn't\", 'hadn', \"hadn't\", 'hasn', \"hasn't\", 'haven', \"haven't\", 'isn', \"isn't\", 'ma', 'mightn', \"mightn't\", 'mustn', \"mustn't\", 'needn', \"needn't\", 'shan', \"shan't\", 'shouldn', \"shouldn't\", 'wasn', \"wasn't\", 'weren', \"weren't\", 'won', \"won't\", 'wouldn', \"wouldn't\"]\n"
     ]
    }
   ],
   "source": [
    "# 불용어 확인\n",
    "print('불용어 개수 :', len(stopwords.words('english') ))\n",
    "print(stopwords.words('english'))"
   ]
  },
  {
   "cell_type": "code",
   "execution_count": 10,
   "id": "170e1626",
   "metadata": {},
   "outputs": [],
   "source": [
    "# 전처리 함수 만들기\n",
    "def preprocess_sentence(sentence, remove_stopwords=True):\n",
    "    sentence = sentence.lower() # 텍스트 소문자화\n",
    "    \n",
    "    sentence = BeautifulSoup(sentence, \"lxml\").text # <br />, <a href = ...> 등의 html 태그 제거\n",
    "    \n",
    "    sentence = re.sub(r'\\([^)]*\\)', '', sentence) # 괄호로 닫힌 문자열 (...) 제거 Ex) my husband (and myself!) for => my husband for\n",
    "    sentence = re.sub('\"','', sentence) # 쌍따옴표 \" 제거\n",
    "    sentence = ' '.join([contractions[t] if t in contractions else t for t in sentence.split(\" \")]) # 약어 정규화\n",
    "    sentence = re.sub(r\"'s\\b\",\"\", sentence) # 소유격 제거. Ex) roland's -> roland\n",
    "    sentence = re.sub(\"[^a-zA-Z]\", \" \", sentence) # 영어 외 문자(숫자, 특수문자 등) 공백으로 변환\n",
    "    sentence = re.sub('[m]{2,}', 'mm', sentence) # m이 3개 이상이면 2개로 변경. Ex) ummmmmmm yeah -> umm yeah\n",
    "    \n",
    "    # 불용어 제거 (Text)\n",
    "    if remove_stopwords:\n",
    "        tokens = ' '.join(word for word in sentence.split() if not word in stopwords.words('english') if len(word) > 1)\n",
    "    # 불용어 미제거 (Summary)\n",
    "    else:\n",
    "        tokens = ' '.join(word for word in sentence.split() if len(word) > 1)\n",
    "    return tokens"
   ]
  },
  {
   "cell_type": "code",
   "execution_count": 11,
   "id": "4449131c",
   "metadata": {},
   "outputs": [
    {
     "name": "stdout",
     "output_type": "stream",
     "text": [
      "text:  everything bought great infact ordered twice third ordered wasfor mother father\n",
      "headlines: great way to start the day\n"
     ]
    }
   ],
   "source": [
    "# 확인\n",
    "temp_text = 'Everything I bought was great, infact I ordered twice and the third ordered was<br />for my mother and father.'\n",
    "temp_headlines = 'Great way to start (or finish) the day!!!'\n",
    "\n",
    "print(\"text: \", preprocess_sentence(temp_text))\n",
    "print(\"headlines:\", preprocess_sentence(temp_headlines, False))  # 불용어를 제거하지 않기"
   ]
  },
  {
   "cell_type": "code",
   "execution_count": 12,
   "id": "43b7be7b",
   "metadata": {},
   "outputs": [
    {
     "name": "stdout",
     "output_type": "stream",
     "text": [
      "text 전처리 후 결과:  ['saurav kant alumnus upgrad iiit pg program machine learning artificial intelligence sr systems engineer infosys almost years work experience program upgrad degree career support helped transition data scientist tech mahindra salary hike upgrad online power learning powered lakh careers', 'kunal shah credit card bill payment platform cred gave users chance win free food swiggy one year pranav kaushik delhi techie bagged reward spending cred coins users get one cred coin per rupee bill paid used avail rewards brands like ixigo bookmyshow ubereats cult fit', 'new zealand defeated india wickets fourth odi hamilton thursday win first match five match odi series india lost international match rohit sharma captaincy consecutive victories dating back march match witnessed india getting seventh lowest total odi cricket history', 'aegon life iterm insurance plan customers enjoy tax benefits premiums paid save taxes plan provides life cover age years also customers options insure critical illnesses disability accidental death benefit rider life cover age years', 'speaking sexual harassment allegations rajkumar hirani sonam kapoor said known hirani many years true metoo movement get derailed metoo movement always believe woman case need reserve judgment added hirani accused assistant worked sanju']\n",
      "headlines 전처리 후 결과:  ['upgrad learner switches to career in ml al with salary hike', 'delhi techie wins free food from swiggy for one year on cred', 'new zealand end rohit sharma led india match winning streak', 'aegon life iterm insurance plan helps customers save tax', 'have known hirani for yrs what if metoo claims are not true sonam']\n"
     ]
    }
   ],
   "source": [
    "# 훈련 데이터 전체에 대해서 전처리하기\n",
    "# text의 경우에는 불용어를 제거하고, headlines의 경우에는 불용어를 제거하지 않을 것 -> 따로 호출해서 진행\n",
    "\n",
    "# 전체 text 데이터에 대한 전처리\n",
    "clean_text = []\n",
    "\n",
    "for s in data['text']:\n",
    "    clean_text.append(preprocess_sentence(s))\n",
    "\n",
    "print(\"text 전처리 후 결과: \", clean_text[:5])\n",
    "\n",
    "# 전체 headlines 데이터에 대한 전처리\n",
    "clean_headlines = []\n",
    "\n",
    "for s in data['headlines']:\n",
    "    clean_headlines.append(preprocess_sentence(s, False)) # False : 불용어 제거 수행하지 않는다는 의미\n",
    "\n",
    "print(\"headlines 전처리 후 결과: \", clean_headlines[:5])"
   ]
  },
  {
   "cell_type": "code",
   "execution_count": 13,
   "id": "69c9d3fb",
   "metadata": {},
   "outputs": [],
   "source": [
    "# 빈(empty) 값을 Null 값으로 변환\n",
    "data['text'] = clean_text\n",
    "data['headlines'] = clean_headlines\n",
    "\n",
    "# 빈 값을 Null 값으로 변환\n",
    "data.replace('', np.nan, inplace=True)"
   ]
  },
  {
   "cell_type": "code",
   "execution_count": 14,
   "id": "6b7a60e7",
   "metadata": {},
   "outputs": [
    {
     "data": {
      "text/plain": [
       "headlines    0\n",
       "text         0\n",
       "dtype: int64"
      ]
     },
     "execution_count": 14,
     "metadata": {},
     "output_type": "execute_result"
    }
   ],
   "source": [
    "# Null값 재확인\n",
    "data.isnull().sum()"
   ]
  },
  {
   "cell_type": "markdown",
   "id": "1e2d6650",
   "metadata": {},
   "source": [
    "### 샘플의 최대 길이 정하기"
   ]
  },
  {
   "cell_type": "code",
   "execution_count": 17,
   "id": "4802a251",
   "metadata": {},
   "outputs": [
    {
     "name": "stdout",
     "output_type": "stream",
     "text": [
      "텍스트의 최소 길이 : 1\n",
      "텍스트의 최대 길이 : 60\n",
      "텍스트의 평균 길이 : 35.10029309397326\n",
      "헤드라인의 최소 길이 : 1\n",
      "헤드라인의 최대 길이 : 16\n",
      "헤드라인의 평균 길이 : 9.299444342675704\n"
     ]
    },
    {
     "data": {
      "image/png": "[encoded data removed]",
      "text/plain": [
       "<Figure size 432x288 with 2 Axes>"
      ]
     },
     "metadata": {
      "needs_background": "light"
     },
     "output_type": "display_data"
    },
    {
     "data": {
      "image/png": "[encoded data removed]",
      "text/plain": [
       "<Figure size 432x288 with 1 Axes>"
      ]
     },
     "metadata": {
      "needs_background": "light"
     },
     "output_type": "display_data"
    },
    {
     "data": {
      "image/png": "[encoded data removed]",
      "text/plain": [
       "<Figure size 432x288 with 1 Axes>"
      ]
     },
     "metadata": {
      "needs_background": "light"
     },
     "output_type": "display_data"
    }
   ],
   "source": [
    "text_len = [len(s.split()) for s in data['text']]\n",
    "headlines_len = [len(s.split()) for s in data['headlines']]\n",
    "\n",
    "print('텍스트의 최소 길이 : {}'.format(np.min(text_len)))\n",
    "print('텍스트의 최대 길이 : {}'.format(np.max(text_len)))\n",
    "print('텍스트의 평균 길이 : {}'.format(np.mean(text_len)))\n",
    "print('헤드라인의 최소 길이 : {}'.format(np.min(headlines_len)))\n",
    "print('헤드라인의 최대 길이 : {}'.format(np.max(headlines_len)))\n",
    "print('헤드라인의 평균 길이 : {}'.format(np.mean(headlines_len)))\n",
    "\n",
    "plt.subplot(1,2,1)\n",
    "plt.boxplot(text_len)\n",
    "plt.title('text')\n",
    "plt.subplot(1,2,2)\n",
    "plt.boxplot(headlines_len)\n",
    "plt.title('headlines')\n",
    "plt.tight_layout()\n",
    "plt.show()\n",
    "\n",
    "plt.title('Text')\n",
    "plt.hist(text_len, bins = 40)\n",
    "plt.xlabel('length of samples')\n",
    "plt.ylabel('number of samples')\n",
    "plt.show()\n",
    "\n",
    "plt.title('Headlines')\n",
    "plt.hist(headlines_len, bins = 40)\n",
    "plt.xlabel('length of samples')\n",
    "plt.ylabel('number of samples')\n",
    "plt.show()"
   ]
  },
  {
   "cell_type": "markdown",
   "id": "2d67c802",
   "metadata": {},
   "source": [
    "- text의 경우 최소 길이가 1, 최대 길이가 60. 평균 길이는 35로 시각화된 그래프로 봤을 때는 대체적으로는 45 내외의 길이를 가진다.  \n",
    "- headlines의 경우 최소 길이가 1, 최대 길이가 16, 그리고 평균 길이가 9로 Text에 비해 상대적으로 길이가 매우 짧다. 그래프로 봤을 때에도 대체적으로 14이하의 길이를 가지고 있다."
   ]
  },
  {
   "cell_type": "code",
   "execution_count": 18,
   "id": "768bcdfa",
   "metadata": {},
   "outputs": [],
   "source": [
    "# text와 headlines 최대 길이 설정\n",
    "text_max_len = 40\n",
    "headlines_max_len = 12"
   ]
  },
  {
   "cell_type": "code",
   "execution_count": 19,
   "id": "2a5ce589",
   "metadata": {},
   "outputs": [],
   "source": [
    "# 훈련 데이터와 샘플의 길이를 입력하면, 데이터의 몇 %가 해당하는지 계산하는 함수 만들기\n",
    "def below_threshold_len(max_len, nested_list):\n",
    "  cnt = 0\n",
    "  for s in nested_list:\n",
    "    if(len(s.split()) <= max_len):\n",
    "        cnt = cnt + 1\n",
    "  print('전체 샘플 중 길이가 %s 이하인 샘플의 비율: %s'%(max_len, (cnt / len(nested_list))))"
   ]
  },
  {
   "cell_type": "code",
   "execution_count": 20,
   "id": "b2538c8d",
   "metadata": {},
   "outputs": [
    {
     "name": "stdout",
     "output_type": "stream",
     "text": [
      "전체 샘플 중 길이가 40 이하인 샘플의 비율: 0.92383627444994\n",
      "전체 샘플 중 길이가 12 이하인 샘플의 비율: 0.9880319960920804\n"
     ]
    }
   ],
   "source": [
    "# 몇 %의 샘플까지 포함하는지 확인\n",
    "below_threshold_len(text_max_len, data['text'])\n",
    "below_threshold_len(headlines_max_len,  data['headlines'])"
   ]
  },
  {
   "cell_type": "code",
   "execution_count": 21,
   "id": "c534888e",
   "metadata": {},
   "outputs": [
    {
     "name": "stdout",
     "output_type": "stream",
     "text": [
      "전체 샘플수 : 89682\n"
     ]
    }
   ],
   "source": [
    "# 설정한 최대 길이를 넘는 문장 제거\n",
    "data = data[data['text'].apply(lambda x: len(x.split()) <= text_max_len)]\n",
    "data = data[data['headlines'].apply(lambda x: len(x.split()) <= headlines_max_len)]\n",
    "print('전체 샘플수 :', (len(data)))"
   ]
  },
  {
   "cell_type": "markdown",
   "id": "70dd5565",
   "metadata": {},
   "source": [
    "### 시작 토큰과 종료 토큰 추가하기"
   ]
  },
  {
   "cell_type": "code",
   "execution_count": 22,
   "id": "87b94216",
   "metadata": {},
   "outputs": [
    {
     "data": {
      "text/html": [
       "<div>\n",
       "<style scoped>\n",
       "    .dataframe tbody tr th:only-of-type {\n",
       "        vertical-align: middle;\n",
       "    }\n",
       "\n",
       "    .dataframe tbody tr th {\n",
       "        vertical-align: top;\n",
       "    }\n",
       "\n",
       "    .dataframe thead th {\n",
       "        text-align: right;\n",
       "    }\n",
       "</style>\n",
       "<table border=\"1\" class=\"dataframe\">\n",
       "  <thead>\n",
       "    <tr style=\"text-align: right;\">\n",
       "      <th></th>\n",
       "      <th>headlines</th>\n",
       "      <th>text</th>\n",
       "      <th>decoder_input</th>\n",
       "      <th>decoder_target</th>\n",
       "    </tr>\n",
       "  </thead>\n",
       "  <tbody>\n",
       "    <tr>\n",
       "      <th>0</th>\n",
       "      <td>upgrad learner switches to career in ml al wit...</td>\n",
       "      <td>saurav kant alumnus upgrad iiit pg program mac...</td>\n",
       "      <td>sostoken upgrad learner switches to career in ...</td>\n",
       "      <td>upgrad learner switches to career in ml al wit...</td>\n",
       "    </tr>\n",
       "    <tr>\n",
       "      <th>2</th>\n",
       "      <td>new zealand end rohit sharma led india match w...</td>\n",
       "      <td>new zealand defeated india wickets fourth odi ...</td>\n",
       "      <td>sostoken new zealand end rohit sharma led indi...</td>\n",
       "      <td>new zealand end rohit sharma led india match w...</td>\n",
       "    </tr>\n",
       "    <tr>\n",
       "      <th>3</th>\n",
       "      <td>aegon life iterm insurance plan helps customer...</td>\n",
       "      <td>aegon life iterm insurance plan customers enjo...</td>\n",
       "      <td>sostoken aegon life iterm insurance plan helps...</td>\n",
       "      <td>aegon life iterm insurance plan helps customer...</td>\n",
       "    </tr>\n",
       "    <tr>\n",
       "      <th>5</th>\n",
       "      <td>rahat fateh ali khan denies getting notice for...</td>\n",
       "      <td>pakistani singer rahat fateh ali khan denied r...</td>\n",
       "      <td>sostoken rahat fateh ali khan denies getting n...</td>\n",
       "      <td>rahat fateh ali khan denies getting notice for...</td>\n",
       "    </tr>\n",
       "    <tr>\n",
       "      <th>6</th>\n",
       "      <td>india get all out for their lowest odi total i...</td>\n",
       "      <td>india recorded lowest odi total new zealand ge...</td>\n",
       "      <td>sostoken india get all out for their lowest od...</td>\n",
       "      <td>india get all out for their lowest odi total i...</td>\n",
       "    </tr>\n",
       "  </tbody>\n",
       "</table>\n",
       "</div>"
      ],
      "text/plain": [
       "                                           headlines  \\\n",
       "0  upgrad learner switches to career in ml al wit...   \n",
       "2  new zealand end rohit sharma led india match w...   \n",
       "3  aegon life iterm insurance plan helps customer...   \n",
       "5  rahat fateh ali khan denies getting notice for...   \n",
       "6  india get all out for their lowest odi total i...   \n",
       "\n",
       "                                                text  \\\n",
       "0  saurav kant alumnus upgrad iiit pg program mac...   \n",
       "2  new zealand defeated india wickets fourth odi ...   \n",
       "3  aegon life iterm insurance plan customers enjo...   \n",
       "5  pakistani singer rahat fateh ali khan denied r...   \n",
       "6  india recorded lowest odi total new zealand ge...   \n",
       "\n",
       "                                       decoder_input  \\\n",
       "0  sostoken upgrad learner switches to career in ...   \n",
       "2  sostoken new zealand end rohit sharma led indi...   \n",
       "3  sostoken aegon life iterm insurance plan helps...   \n",
       "5  sostoken rahat fateh ali khan denies getting n...   \n",
       "6  sostoken india get all out for their lowest od...   \n",
       "\n",
       "                                      decoder_target  \n",
       "0  upgrad learner switches to career in ml al wit...  \n",
       "2  new zealand end rohit sharma led india match w...  \n",
       "3  aegon life iterm insurance plan helps customer...  \n",
       "5  rahat fateh ali khan denies getting notice for...  \n",
       "6  india get all out for their lowest odi total i...  "
      ]
     },
     "execution_count": 22,
     "metadata": {},
     "output_type": "execute_result"
    }
   ],
   "source": [
    "# headlines 데이터에는 시작 토큰과 종료 토큰을 추가\n",
    "data['decoder_input'] = data['headlines'].apply(lambda x : 'sostoken '+ x) # 시작 토큰\n",
    "data['decoder_target'] = data['headlines'].apply(lambda x : x + ' eostoken') # 종료 토큰\n",
    "data.head()"
   ]
  },
  {
   "cell_type": "code",
   "execution_count": 23,
   "id": "1c398da7",
   "metadata": {},
   "outputs": [],
   "source": [
    "# 인코더의 입력, 디코더의 입력과 레이블을 각각 다시 Numpy 타입으로 저장\n",
    "encoder_input = np.array(data['text']) # 인코더의 입력\n",
    "decoder_input = np.array(data['decoder_input']) # 디코더의 입력\n",
    "decoder_target = np.array(data['decoder_target']) # 디코더의 레이블"
   ]
  },
  {
   "cell_type": "markdown",
   "id": "23f8cace",
   "metadata": {},
   "source": [
    "### 훈련 데이터와 테스트 데이터 분리하기"
   ]
  },
  {
   "cell_type": "code",
   "execution_count": 25,
   "id": "9e6e7193",
   "metadata": {},
   "outputs": [
    {
     "name": "stdout",
     "output_type": "stream",
     "text": [
      "훈련 데이터의 개수 : 71746\n",
      "훈련 레이블의 개수 : 71746\n",
      "테스트 데이터의 개수 : 17936\n",
      "테스트 레이블의 개수 : 17936\n"
     ]
    }
   ],
   "source": [
    "# encoder_input과 크기와 형태가 같은 순서가 섞인 정수 시퀀스 만들기\n",
    "indices = np.arange(encoder_input.shape[0])\n",
    "np.random.shuffle(indices)\n",
    "\n",
    "# 정수 시퀀스를 이용해 다시 데이터의 샘플 순서를 정의\n",
    "encoder_input = encoder_input[indices]\n",
    "decoder_input = decoder_input[indices]\n",
    "decoder_target = decoder_target[indices]\n",
    "\n",
    "# 테스트데이터의 크기 정의(8:2)\n",
    "n_of_val = int(len(encoder_input)*0.2)\n",
    "\n",
    "# 훈련데이터와 테스트 데이터 분리\n",
    "encoder_input_train = encoder_input[:-n_of_val]\n",
    "decoder_input_train = decoder_input[:-n_of_val]\n",
    "decoder_target_train = decoder_target[:-n_of_val]\n",
    "\n",
    "encoder_input_test = encoder_input[-n_of_val:]\n",
    "decoder_input_test = decoder_input[-n_of_val:]\n",
    "decoder_target_test = decoder_target[-n_of_val:]\n",
    "\n",
    "print('훈련 데이터의 개수 :', len(encoder_input_train))\n",
    "print('훈련 레이블의 개수 :', len(decoder_input_train))\n",
    "print('테스트 데이터의 개수 :', len(encoder_input_test))\n",
    "print('테스트 레이블의 개수 :', len(decoder_input_test))"
   ]
  },
  {
   "cell_type": "markdown",
   "id": "8dd4731e",
   "metadata": {},
   "source": [
    "### 단어 집합(vocabulary) 만들기 및 정수 인코딩"
   ]
  },
  {
   "cell_type": "code",
   "execution_count": 26,
   "id": "dc762919",
   "metadata": {},
   "outputs": [],
   "source": [
    "# text - 단어 집합 만들기(keras 토크나이저 사용)\n",
    "src_tokenizer = Tokenizer() # 토크나이저 정의\n",
    "src_tokenizer.fit_on_texts(encoder_input_train) # 입력된 데이터로부터 단어 집합 생성"
   ]
  },
  {
   "cell_type": "code",
   "execution_count": 27,
   "id": "13abc4fc",
   "metadata": {},
   "outputs": [
    {
     "name": "stdout",
     "output_type": "stream",
     "text": [
      "단어 집합(vocabulary)의 크기 : 65572\n",
      "등장 빈도가 6번 이하인 희귀 단어의 수: 44609\n",
      "단어 집합에서 희귀 단어를 제외시킬 경우의 단어 집합의 크기 20963\n",
      "단어 집합에서 희귀 단어의 비율: 68.03056182516927\n",
      "전체 등장 빈도에서 희귀 단어 등장 빈도 비율: 3.670106272641426\n"
     ]
    }
   ],
   "source": [
    "# 등장 빈도수가 7회 미만인 단어들의 비중\n",
    "threshold = 7\n",
    "total_cnt = len(src_tokenizer.word_index) # 단어의 수\n",
    "rare_cnt = 0 # 등장 빈도수가 threshold보다 작은 단어의 개수를 카운트\n",
    "total_freq = 0 # 훈련 데이터의 전체 단어 빈도수 총 합\n",
    "rare_freq = 0 # 등장 빈도수가 threshold보다 작은 단어의 등장 빈도수의 총 합\n",
    "\n",
    "# 단어와 빈도수의 쌍(pair)을 key와 value로 받는다.\n",
    "for key, value in src_tokenizer.word_counts.items():\n",
    "    total_freq = total_freq + value\n",
    "\n",
    "    # 단어의 등장 빈도수가 threshold보다 작으면\n",
    "    if(value < threshold):\n",
    "        rare_cnt = rare_cnt + 1\n",
    "        rare_freq = rare_freq + value\n",
    "\n",
    "print('단어 집합(vocabulary)의 크기 :', total_cnt)\n",
    "print('등장 빈도가 %s번 이하인 희귀 단어의 수: %s'%(threshold - 1, rare_cnt))\n",
    "print('단어 집합에서 희귀 단어를 제외시킬 경우의 단어 집합의 크기 %s'%(total_cnt - rare_cnt))\n",
    "print(\"단어 집합에서 희귀 단어의 비율:\", (rare_cnt / total_cnt)*100)\n",
    "print(\"전체 등장 빈도에서 희귀 단어 등장 빈도 비율:\", (rare_freq / total_freq)*100)"
   ]
  },
  {
   "cell_type": "code",
   "execution_count": 28,
   "id": "8304a3d0",
   "metadata": {},
   "outputs": [],
   "source": [
    "# 6회 이하인 단어들은 정수 인코딩 과정에서 빼고, 훈련 데이터에서 제거하기\n",
    "src_vocab = 20000\n",
    "src_tokenizer = Tokenizer(num_words=src_vocab) # 단어 집합의 크기를 20,000으로 제한\n",
    "src_tokenizer.fit_on_texts(encoder_input_train) # 단어 집합 재생성"
   ]
  },
  {
   "cell_type": "code",
   "execution_count": 29,
   "id": "c889976c",
   "metadata": {},
   "outputs": [
    {
     "name": "stdout",
     "output_type": "stream",
     "text": [
      "[[157, 18, 1453, 382, 517, 4840, 245, 5116, 6851, 62, 10793, 941, 4042, 57, 20, 48, 15, 10309, 4716, 1, 1754, 8111, 93, 13358, 1526, 4573, 1129, 2732, 540, 1291, 1, 290, 766, 540, 4793], [43, 432, 12478, 405, 4, 12478, 49, 140, 438, 372, 3076, 4, 43, 7267, 432, 3943, 315, 2208, 25, 619, 1112, 129, 44, 1117, 985, 1761, 140, 477, 387, 5, 338, 300, 12478, 1320], [27, 9615, 1057, 173, 886, 294, 1458, 87, 13359, 31, 2967, 422, 10794, 3797, 1527, 13359, 1399, 19, 660, 387, 54, 9, 1399, 54]]\n"
     ]
    }
   ],
   "source": [
    "# 텍스트 시퀀스를 정수 시퀀스로 변환\n",
    "encoder_input_train = src_tokenizer.texts_to_sequences(encoder_input_train) \n",
    "encoder_input_test = src_tokenizer.texts_to_sequences(encoder_input_test)\n",
    "\n",
    "# 잘 진행되었는지 샘플 출력\n",
    "print(encoder_input_train[:3])"
   ]
  },
  {
   "cell_type": "code",
   "execution_count": 30,
   "id": "9b4519fb",
   "metadata": {},
   "outputs": [
    {
     "name": "stdout",
     "output_type": "stream",
     "text": [
      "단어 집합(vocabulary)의 크기 : 28810\n",
      "등장 빈도가 5번 이하인 희귀 단어의 수: 18878\n",
      "단어 집합에서 희귀 단어를 제외시킬 경우의 단어 집합의 크기 9932\n",
      "단어 집합에서 희귀 단어의 비율: 65.52585907670948\n",
      "전체 등장 빈도에서 희귀 단어 등장 빈도 비율: 4.916052794794512\n"
     ]
    }
   ],
   "source": [
    "# headlines - 단어 집합 만들기\n",
    "tar_tokenizer = Tokenizer()\n",
    "tar_tokenizer.fit_on_texts(decoder_input_train)\n",
    "\n",
    "# 등장 빈도수가 7회 미만인 단어들의 비중\n",
    "threshold = 6\n",
    "total_cnt = len(tar_tokenizer.word_index) # 단어의 수\n",
    "rare_cnt = 0 # 등장 빈도수가 threshold보다 작은 단어의 개수를 카운트\n",
    "total_freq = 0 # 훈련 데이터의 전체 단어 빈도수 총 합\n",
    "rare_freq = 0 # 등장 빈도수가 threshold보다 작은 단어의 등장 빈도수의 총 합\n",
    "\n",
    "# 단어와 빈도수의 쌍(pair)을 key와 value로 받는다.\n",
    "for key, value in tar_tokenizer.word_counts.items():\n",
    "    total_freq = total_freq + value\n",
    "\n",
    "    # 단어의 등장 빈도수가 threshold보다 작으면\n",
    "    if(value < threshold):\n",
    "        rare_cnt = rare_cnt + 1\n",
    "        rare_freq = rare_freq + value\n",
    "\n",
    "print('단어 집합(vocabulary)의 크기 :', total_cnt)\n",
    "print('등장 빈도가 %s번 이하인 희귀 단어의 수: %s'%(threshold - 1, rare_cnt))\n",
    "print('단어 집합에서 희귀 단어를 제외시킬 경우의 단어 집합의 크기 %s'%(total_cnt - rare_cnt))\n",
    "print(\"단어 집합에서 희귀 단어의 비율:\", (rare_cnt / total_cnt)*100)\n",
    "print(\"전체 등장 빈도에서 희귀 단어 등장 빈도 비율:\", (rare_freq / total_freq)*100)"
   ]
  },
  {
   "cell_type": "code",
   "execution_count": 31,
   "id": "a7e45e2a",
   "metadata": {},
   "outputs": [
    {
     "name": "stdout",
     "output_type": "stream",
     "text": [
      "input\n",
      "input  [[1, 2958, 1209, 64, 997, 7294, 389, 37], [1, 100, 74, 135, 452, 129, 9, 603, 937, 2244], [1, 56, 8350, 1396, 208, 1282, 6, 266, 1704, 4, 61], [1, 4697, 3, 21, 276, 5, 1257, 6831, 505, 75], [1, 2485, 20, 1112, 1437, 24, 3332, 1507, 423, 1949]]\n",
      "target\n",
      "decoder  [[2958, 1209, 64, 997, 7294, 389, 37, 2], [100, 74, 135, 452, 129, 9, 603, 937, 2244, 2], [56, 8350, 1396, 208, 1282, 6, 266, 1704, 4, 61, 2], [4697, 3, 21, 276, 5, 1257, 6831, 505, 75, 2], [2485, 20, 1112, 1437, 24, 3332, 1507, 423, 1949, 2]]\n"
     ]
    }
   ],
   "source": [
    "# 6회 이하인 단어들은 정수 인코딩 과정에서 빼고, 훈련 데이터에서 제거하기\n",
    "tar_vocab = 9500\n",
    "tar_tokenizer = Tokenizer(num_words=tar_vocab) # 단어 집합의 크기를 9,500으로 제한\n",
    "tar_tokenizer.fit_on_texts(decoder_input_train)\n",
    "tar_tokenizer.fit_on_texts(decoder_target_train)\n",
    "\n",
    "# 텍스트 시퀀스를 정수 시퀀스로 변환\n",
    "decoder_input_train = tar_tokenizer.texts_to_sequences(decoder_input_train) \n",
    "decoder_target_train = tar_tokenizer.texts_to_sequences(decoder_target_train)\n",
    "decoder_input_test = tar_tokenizer.texts_to_sequences(decoder_input_test)\n",
    "decoder_target_test = tar_tokenizer.texts_to_sequences(decoder_target_test)\n",
    "\n",
    "# 잘 변환되었는지 확인\n",
    "print('input')\n",
    "print('input ',decoder_input_train[:5])\n",
    "print('target')\n",
    "print('decoder ',decoder_target_train[:5])"
   ]
  },
  {
   "cell_type": "code",
   "execution_count": 32,
   "id": "2f32f862",
   "metadata": {},
   "outputs": [
    {
     "name": "stdout",
     "output_type": "stream",
     "text": [
      "삭제할 훈련 데이터의 개수 : 1\n",
      "삭제할 테스트 데이터의 개수 : 0\n",
      "훈련 데이터의 개수 : 71745\n",
      "훈련 레이블의 개수 : 71745\n",
      "테스트 데이터의 개수 : 17936\n",
      "테스트 레이블의 개수 : 17936\n"
     ]
    }
   ],
   "source": [
    "# headlines에서 길이가 0이 된 샘플들 제거(실제 길이는 1임에 주의)\n",
    "drop_train = [index for index, sentence in enumerate(decoder_input_train) if len(sentence) == 1]\n",
    "drop_test = [index for index, sentence in enumerate(decoder_input_test) if len(sentence) == 1]\n",
    "# headlines에서 길이가 0이 된 샘플들의 인덱스를 받아올 때, 요약문인 decoder_input에는 sostoken 또는 decoder_target에는 eostoken이 추가된 상태이기 때문에 실제 길이는 1이라는 것을 주의\n",
    "\n",
    "print('삭제할 훈련 데이터의 개수 :', len(drop_train))\n",
    "print('삭제할 테스트 데이터의 개수 :', len(drop_test))\n",
    "\n",
    "encoder_input_train = [sentence for index, sentence in enumerate(encoder_input_train) if index not in drop_train]\n",
    "decoder_input_train = [sentence for index, sentence in enumerate(decoder_input_train) if index not in drop_train]\n",
    "decoder_target_train = [sentence for index, sentence in enumerate(decoder_target_train) if index not in drop_train]\n",
    "\n",
    "encoder_input_test = [sentence for index, sentence in enumerate(encoder_input_test) if index not in drop_test]\n",
    "decoder_input_test = [sentence for index, sentence in enumerate(decoder_input_test) if index not in drop_test]\n",
    "decoder_target_test = [sentence for index, sentence in enumerate(decoder_target_test) if index not in drop_test]\n",
    "\n",
    "print('훈련 데이터의 개수 :', len(encoder_input_train))\n",
    "print('훈련 레이블의 개수 :', len(decoder_input_train))\n",
    "print('테스트 데이터의 개수 :', len(encoder_input_test))\n",
    "print('테스트 레이블의 개수 :', len(decoder_input_test))"
   ]
  },
  {
   "cell_type": "markdown",
   "id": "b48520c0",
   "metadata": {},
   "source": [
    "### 패딩하기"
   ]
  },
  {
   "cell_type": "code",
   "execution_count": 34,
   "id": "db98b4a3",
   "metadata": {},
   "outputs": [],
   "source": [
    "# 최대 길이로 패딩\n",
    "encoder_input_train = pad_sequences(encoder_input_train, maxlen=text_max_len, padding='post')\n",
    "encoder_input_test = pad_sequences(encoder_input_test, maxlen=text_max_len, padding='post')\n",
    "decoder_input_train = pad_sequences(decoder_input_train, maxlen=headlines_max_len, padding='post')\n",
    "decoder_target_train = pad_sequences(decoder_target_train, maxlen=headlines_max_len, padding='post')\n",
    "decoder_input_test = pad_sequences(decoder_input_test, maxlen=headlines_max_len, padding='post')\n",
    "decoder_target_test = pad_sequences(decoder_target_test, maxlen=headlines_max_len, padding='post')"
   ]
  },
  {
   "cell_type": "markdown",
   "id": "f4d6c3d4",
   "metadata": {},
   "source": [
    "## Step 3. 어텐션 메커니즘 사용하기 (추상적 요약)\n",
    "### 모델 설계"
   ]
  },
  {
   "cell_type": "code",
   "execution_count": 35,
   "id": "acf60216",
   "metadata": {},
   "outputs": [],
   "source": [
    "from tensorflow.keras.layers import Input, LSTM, Embedding, Dense, Concatenate, TimeDistributed\n",
    "from tensorflow.keras.models import Model\n",
    "from tensorflow.keras.callbacks import EarlyStopping, ModelCheckpoint\n",
    "\n",
    "\n",
    "# 인코더 설계 시작\n",
    "embedding_dim = 128 # 임베딩 벡터 차원\n",
    "hidden_size = 256 # hidden state 크기(LSTM에서 얼만큼의 수용력(capacity)를 가질지를 정하는 파라미터)\n",
    "\n",
    "# 인코더\n",
    "encoder_inputs = Input(shape=(text_max_len,))\n",
    "\n",
    "# 인코더의 임베딩 층\n",
    "enc_emb = Embedding(src_vocab, embedding_dim)(encoder_inputs)\n",
    "\n",
    "# 인코더의 LSTM 1\n",
    "# encoder_lstm1 = LSTM(hidden_size, return_sequences=True, return_state=True ,dropout = 0.4, recurrent_dropout = 0.4)\n",
    "encoder_lstm1 = LSTM(hidden_size, return_sequences=True, return_state=True ,dropout = 0.4)\n",
    "encoder_output1, state_h1, state_c1 = encoder_lstm1(enc_emb)\n",
    "\n",
    "# 인코더의 LSTM 2\n",
    "# encoder_lstm2 = LSTM(hidden_size, return_sequences=True, return_state=True, dropout=0.4, recurrent_dropout=0.4)\n",
    "encoder_lstm2 = LSTM(hidden_size, return_sequences=True, return_state=True, dropout=0.4)\n",
    "encoder_output2, state_h2, state_c2 = encoder_lstm2(encoder_output1)\n",
    "\n",
    "# 인코더의 LSTM 3\n",
    "# encoder_lstm3 = LSTM(hidden_size, return_state=True, return_sequences=True, dropout=0.4, recurrent_dropout=0.4)\n",
    "encoder_lstm3 = LSTM(hidden_size, return_state=True, return_sequences=True, dropout=0.4)\n",
    "encoder_outputs, state_h, state_c= encoder_lstm3(encoder_output2)"
   ]
  },
  {
   "cell_type": "markdown",
   "id": "b3d376aa",
   "metadata": {},
   "source": [
    "- recurrent dropout : dropout을 레이어가 아닌 time step마다 해주는 방식이다. 즉, time step의 입력을 랜덤으로 생략해준다."
   ]
  },
  {
   "cell_type": "code",
   "execution_count": 36,
   "id": "afa7e51a",
   "metadata": {},
   "outputs": [],
   "source": [
    "# 디코더 설계\n",
    "decoder_inputs = Input(shape=(None,))\n",
    "\n",
    "# 디코더의 임베딩 층\n",
    "dec_emb_layer = Embedding(tar_vocab, embedding_dim)\n",
    "dec_emb = dec_emb_layer(decoder_inputs)\n",
    "\n",
    "# 디코더의 LSTM\n",
    "# decoder_lstm = LSTM(hidden_size, return_sequences=True, return_state=True, dropout=0.4, recurrent_dropout=0.2)\n",
    "decoder_lstm = LSTM(hidden_size, return_sequences=True, return_state=True, dropout=0.4)\n",
    "decoder_outputs, _, _ = decoder_lstm(dec_emb, initial_state=[state_h, state_c])"
   ]
  },
  {
   "cell_type": "code",
   "execution_count": 37,
   "id": "f561003d",
   "metadata": {},
   "outputs": [
    {
     "name": "stdout",
     "output_type": "stream",
     "text": [
      "Model: \"model\"\n",
      "__________________________________________________________________________________________________\n",
      "Layer (type)                    Output Shape         Param #     Connected to                     \n",
      "==================================================================================================\n",
      "input_1 (InputLayer)            [(None, 40)]         0                                            \n",
      "__________________________________________________________________________________________________\n",
      "embedding (Embedding)           (None, 40, 128)      2560000     input_1[0][0]                    \n",
      "__________________________________________________________________________________________________\n",
      "lstm (LSTM)                     [(None, 40, 256), (N 394240      embedding[0][0]                  \n",
      "__________________________________________________________________________________________________\n",
      "input_2 (InputLayer)            [(None, None)]       0                                            \n",
      "__________________________________________________________________________________________________\n",
      "lstm_1 (LSTM)                   [(None, 40, 256), (N 525312      lstm[0][0]                       \n",
      "__________________________________________________________________________________________________\n",
      "embedding_1 (Embedding)         (None, None, 128)    1216000     input_2[0][0]                    \n",
      "__________________________________________________________________________________________________\n",
      "lstm_2 (LSTM)                   [(None, 40, 256), (N 525312      lstm_1[0][0]                     \n",
      "__________________________________________________________________________________________________\n",
      "lstm_3 (LSTM)                   [(None, None, 256),  394240      embedding_1[0][0]                \n",
      "                                                                 lstm_2[0][1]                     \n",
      "                                                                 lstm_2[0][2]                     \n",
      "__________________________________________________________________________________________________\n",
      "dense (Dense)                   (None, None, 9500)   2441500     lstm_3[0][0]                     \n",
      "==================================================================================================\n",
      "Total params: 8,056,604\n",
      "Trainable params: 8,056,604\n",
      "Non-trainable params: 0\n",
      "__________________________________________________________________________________________________\n"
     ]
    }
   ],
   "source": [
    "# 디코더의 출력층\n",
    "decoder_softmax_layer = Dense(tar_vocab, activation='softmax')\n",
    "decoder_softmax_outputs = decoder_softmax_layer(decoder_outputs) \n",
    "\n",
    "# 모델 정의\n",
    "model = Model([encoder_inputs, decoder_inputs], decoder_softmax_outputs)\n",
    "model.summary()"
   ]
  },
  {
   "cell_type": "code",
   "execution_count": 38,
   "id": "34ea9db8",
   "metadata": {},
   "outputs": [
    {
     "name": "stdout",
     "output_type": "stream",
     "text": [
      "Model: \"model_1\"\n",
      "__________________________________________________________________________________________________\n",
      "Layer (type)                    Output Shape         Param #     Connected to                     \n",
      "==================================================================================================\n",
      "input_1 (InputLayer)            [(None, 40)]         0                                            \n",
      "__________________________________________________________________________________________________\n",
      "embedding (Embedding)           (None, 40, 128)      2560000     input_1[0][0]                    \n",
      "__________________________________________________________________________________________________\n",
      "lstm (LSTM)                     [(None, 40, 256), (N 394240      embedding[0][0]                  \n",
      "__________________________________________________________________________________________________\n",
      "input_2 (InputLayer)            [(None, None)]       0                                            \n",
      "__________________________________________________________________________________________________\n",
      "lstm_1 (LSTM)                   [(None, 40, 256), (N 525312      lstm[0][0]                       \n",
      "__________________________________________________________________________________________________\n",
      "embedding_1 (Embedding)         (None, None, 128)    1216000     input_2[0][0]                    \n",
      "__________________________________________________________________________________________________\n",
      "lstm_2 (LSTM)                   [(None, 40, 256), (N 525312      lstm_1[0][0]                     \n",
      "__________________________________________________________________________________________________\n",
      "lstm_3 (LSTM)                   [(None, None, 256),  394240      embedding_1[0][0]                \n",
      "                                                                 lstm_2[0][1]                     \n",
      "                                                                 lstm_2[0][2]                     \n",
      "__________________________________________________________________________________________________\n",
      "attention_layer (AdditiveAttent (None, None, 256)    256         lstm_3[0][0]                     \n",
      "                                                                 lstm_2[0][0]                     \n",
      "__________________________________________________________________________________________________\n",
      "concat_layer (Concatenate)      (None, None, 512)    0           lstm_3[0][0]                     \n",
      "                                                                 attention_layer[0][0]            \n",
      "__________________________________________________________________________________________________\n",
      "dense_1 (Dense)                 (None, None, 9500)   4873500     concat_layer[0][0]               \n",
      "==================================================================================================\n",
      "Total params: 10,488,860\n",
      "Trainable params: 10,488,860\n",
      "Non-trainable params: 0\n",
      "__________________________________________________________________________________________________\n"
     ]
    }
   ],
   "source": [
    "from tensorflow.keras.layers import AdditiveAttention\n",
    "\n",
    "# 어텐션 층(어텐션 함수)\n",
    "attn_layer = AdditiveAttention(name='attention_layer')\n",
    "\n",
    "# 인코더와 디코더의 모든 time step의 hidden state를 어텐션 층에 전달하고 결과를 리턴\n",
    "attn_out = attn_layer([decoder_outputs, encoder_outputs])\n",
    "\n",
    "\n",
    "# 어텐션의 결과와 디코더의 hidden state들을 연결\n",
    "decoder_concat_input = Concatenate(axis=-1, name='concat_layer')([decoder_outputs, attn_out])\n",
    "\n",
    "# 디코더의 출력층\n",
    "decoder_softmax_layer = Dense(tar_vocab, activation='softmax')\n",
    "decoder_softmax_outputs = decoder_softmax_layer(decoder_concat_input)\n",
    "\n",
    "# 모델 정의\n",
    "model = Model([encoder_inputs, decoder_inputs], decoder_softmax_outputs)\n",
    "model.summary()"
   ]
  },
  {
   "cell_type": "markdown",
   "id": "f34587ee",
   "metadata": {},
   "source": [
    "### 모델 학습"
   ]
  },
  {
   "cell_type": "code",
   "execution_count": 39,
   "id": "b58bc04e",
   "metadata": {},
   "outputs": [
    {
     "name": "stdout",
     "output_type": "stream",
     "text": [
      "Epoch 1/50\n",
      "281/281 [==============================] - 33s 92ms/step - loss: 5.6319 - val_loss: 5.2558\n",
      "Epoch 2/50\n",
      "281/281 [==============================] - 25s 89ms/step - loss: 5.0959 - val_loss: 4.8705\n",
      "Epoch 3/50\n",
      "281/281 [==============================] - 25s 91ms/step - loss: 4.7347 - val_loss: 4.5955\n",
      "Epoch 4/50\n",
      "281/281 [==============================] - 26s 93ms/step - loss: 4.4673 - val_loss: 4.4157\n",
      "Epoch 5/50\n",
      "281/281 [==============================] - 26s 91ms/step - loss: 4.2572 - val_loss: 4.2715\n",
      "Epoch 6/50\n",
      "281/281 [==============================] - 26s 91ms/step - loss: 4.0770 - val_loss: 4.1642\n",
      "Epoch 7/50\n",
      "281/281 [==============================] - 26s 91ms/step - loss: 3.9208 - val_loss: 4.0530\n",
      "Epoch 8/50\n",
      "281/281 [==============================] - 26s 92ms/step - loss: 3.7851 - val_loss: 3.9735\n",
      "Epoch 9/50\n",
      "281/281 [==============================] - 26s 92ms/step - loss: 3.6682 - val_loss: 3.9314\n",
      "Epoch 10/50\n",
      "281/281 [==============================] - 26s 91ms/step - loss: 3.5646 - val_loss: 3.8680\n",
      "Epoch 11/50\n",
      "281/281 [==============================] - 26s 92ms/step - loss: 3.4723 - val_loss: 3.8378\n",
      "Epoch 12/50\n",
      "281/281 [==============================] - 26s 91ms/step - loss: 3.3875 - val_loss: 3.8002\n",
      "Epoch 13/50\n",
      "281/281 [==============================] - 26s 92ms/step - loss: 3.3096 - val_loss: 3.7778\n",
      "Epoch 14/50\n",
      "281/281 [==============================] - 26s 92ms/step - loss: 3.2378 - val_loss: 3.7593\n",
      "Epoch 15/50\n",
      "281/281 [==============================] - 26s 91ms/step - loss: 3.1724 - val_loss: 3.7459\n",
      "Epoch 16/50\n",
      "281/281 [==============================] - 26s 91ms/step - loss: 3.1104 - val_loss: 3.7260\n",
      "Epoch 17/50\n",
      "281/281 [==============================] - 26s 92ms/step - loss: 3.0561 - val_loss: 3.7138\n",
      "Epoch 18/50\n",
      "281/281 [==============================] - 26s 92ms/step - loss: 3.0039 - val_loss: 3.7079\n",
      "Epoch 19/50\n",
      "281/281 [==============================] - 26s 92ms/step - loss: 2.9512 - val_loss: 3.6970\n",
      "Epoch 20/50\n",
      "281/281 [==============================] - 26s 91ms/step - loss: 2.9016 - val_loss: 3.6956\n",
      "Epoch 21/50\n",
      "281/281 [==============================] - 26s 91ms/step - loss: 2.8555 - val_loss: 3.6903\n",
      "Epoch 22/50\n",
      "281/281 [==============================] - 26s 92ms/step - loss: 2.8133 - val_loss: 3.6879\n",
      "Epoch 23/50\n",
      "281/281 [==============================] - 26s 92ms/step - loss: 2.7723 - val_loss: 3.6915\n",
      "Epoch 24/50\n",
      "281/281 [==============================] - 26s 92ms/step - loss: 2.7341 - val_loss: 3.6906\n",
      "Epoch 00024: early stopping\n"
     ]
    }
   ],
   "source": [
    "model.compile(optimizer='rmsprop', loss='sparse_categorical_crossentropy')\n",
    "es = EarlyStopping(monitor='val_loss', patience=2, verbose=1)\n",
    "# EarlyStopping은 검증 데이터의 손실이 줄어들지 않고 증가하는 현상이 2회(patience=2) 관측되면 훈련을 멈추는 역할을 한다.\n",
    "history = model.fit(x=[encoder_input_train, decoder_input_train], y=decoder_target_train, \\\n",
    "          validation_data=([encoder_input_test, decoder_input_test], decoder_target_test), \\\n",
    "          batch_size=256, callbacks=[es], epochs=50)"
   ]
  },
  {
   "cell_type": "code",
   "execution_count": 40,
   "id": "6c89dd72",
   "metadata": {},
   "outputs": [
    {
     "data": {
      "image/png": "[encoded data removed]",
      "text/plain": [
       "<Figure size 432x288 with 1 Axes>"
      ]
     },
     "metadata": {
      "needs_background": "light"
     },
     "output_type": "display_data"
    }
   ],
   "source": [
    "# 훈련 데이터의 손실과 검증 데이터의 손실이 줄어드는 과정을 시각화\n",
    "plt.plot(history.history['loss'], label='train')\n",
    "plt.plot(history.history['val_loss'], label='test')\n",
    "plt.legend()\n",
    "plt.show()"
   ]
  },
  {
   "cell_type": "markdown",
   "id": "824b11b7",
   "metadata": {},
   "source": [
    "### 인퍼런스 모델 구현"
   ]
  },
  {
   "cell_type": "code",
   "execution_count": 41,
   "id": "591e5b85",
   "metadata": {},
   "outputs": [],
   "source": [
    "src_index_to_word = src_tokenizer.index_word # 원문 단어 집합에서 정수 -> 단어를 얻음\n",
    "tar_word_to_index = tar_tokenizer.word_index # 요약 단어 집합에서 단어 -> 정수를 얻음\n",
    "tar_index_to_word = tar_tokenizer.index_word # 요약 단어 집합에서 정수 -> 단어를 얻음"
   ]
  },
  {
   "cell_type": "code",
   "execution_count": 42,
   "id": "e6aab83b",
   "metadata": {},
   "outputs": [],
   "source": [
    "# 인코더 설계\n",
    "encoder_model = Model(inputs=encoder_inputs, outputs=[encoder_outputs, state_h, state_c])\n",
    "\n",
    "# 이전 시점의 상태들을 저장하는 텐서\n",
    "decoder_state_input_h = Input(shape=(hidden_size,))\n",
    "decoder_state_input_c = Input(shape=(hidden_size,))\n",
    "\n",
    "dec_emb2 = dec_emb_layer(decoder_inputs)\n",
    "\n",
    "# 문장의 다음 단어를 예측하기 위해서 초기 상태(initial_state)를 이전 시점의 상태로 사용. 이는 뒤의 함수 decode_sequence()에 구현\n",
    "# 훈련 과정에서와 달리 LSTM의 리턴하는 은닉 상태와 셀 상태인 state_h와 state_c를 버리지 않음.\n",
    "decoder_outputs2, state_h2, state_c2 = decoder_lstm(dec_emb2, initial_state=[decoder_state_input_h, decoder_state_input_c])"
   ]
  },
  {
   "cell_type": "code",
   "execution_count": 43,
   "id": "a0283c56",
   "metadata": {},
   "outputs": [],
   "source": [
    "# 어텐션 함수\n",
    "decoder_hidden_state_input = Input(shape=(text_max_len, hidden_size))\n",
    "attn_out_inf = attn_layer([decoder_outputs2, decoder_hidden_state_input])\n",
    "decoder_inf_concat = Concatenate(axis=-1, name='concat')([decoder_outputs2, attn_out_inf])\n",
    "\n",
    "# 디코더의 출력층\n",
    "decoder_outputs2 = decoder_softmax_layer(decoder_inf_concat) \n",
    "\n",
    "# 최종 디코더 모델\n",
    "decoder_model = Model(\n",
    "    [decoder_inputs] + [decoder_hidden_state_input,decoder_state_input_h, decoder_state_input_c],\n",
    "    [decoder_outputs2] + [state_h2, state_c2])"
   ]
  },
  {
   "cell_type": "code",
   "execution_count": 47,
   "id": "747bc13f",
   "metadata": {},
   "outputs": [],
   "source": [
    "# 인퍼런스 단계에서 단어 시퀀스를 완성하는 함수\n",
    "def decode_sequence(input_seq):\n",
    "    # 입력으로부터 인코더의 상태를 얻음\n",
    "    e_out, e_h, e_c = encoder_model.predict(input_seq)\n",
    "\n",
    "     # <SOS>에 해당하는 토큰 생성\n",
    "    target_seq = np.zeros((1,1))\n",
    "    target_seq[0, 0] = tar_word_to_index['sostoken']\n",
    "\n",
    "    stop_condition = False\n",
    "    decoded_sentence = ''\n",
    "    while not stop_condition: # stop_condition이 True가 될 때까지 루프 반복\n",
    "\n",
    "        output_tokens, h, c = decoder_model.predict([target_seq] + [e_out, e_h, e_c])\n",
    "        sampled_token_index = np.argmax(output_tokens[0, -1, :])\n",
    "        sampled_token = tar_index_to_word[sampled_token_index]\n",
    "\n",
    "        if (sampled_token!='eostoken'):\n",
    "            decoded_sentence += ' '+sampled_token\n",
    "\n",
    "        #  <eos>에 도달하거나 최대 길이를 넘으면 중단.\n",
    "        if (sampled_token == 'eostoken'  or len(decoded_sentence.split()) >= (headlines_max_len-1)):\n",
    "            stop_condition = True\n",
    "\n",
    "        # 길이가 1인 타겟 시퀀스를 업데이트\n",
    "        target_seq = np.zeros((1,1))\n",
    "        target_seq[0, 0] = sampled_token_index\n",
    "\n",
    "        # 상태를 업데이트\n",
    "        e_h, e_c = h, c\n",
    "\n",
    "    return decoded_sentence"
   ]
  },
  {
   "cell_type": "markdown",
   "id": "706ad3e3",
   "metadata": {},
   "source": [
    "## Step 4. 실제 결과와 요약문 비교하기 (추상적 요약)"
   ]
  },
  {
   "cell_type": "code",
   "execution_count": 48,
   "id": "af40e657",
   "metadata": {},
   "outputs": [],
   "source": [
    "# 원문의 정수 시퀀스를 텍스트 시퀀스로 변환\n",
    "def seq2text(input_seq):\n",
    "    temp=''\n",
    "    for i in input_seq:\n",
    "        if (i!=0): \n",
    "            # 패딩을 위해 사용되는 숫자 0을 제외\n",
    "            temp = temp + src_index_to_word[i]+' '\n",
    "    return temp\n",
    "\n",
    "# headlines의 정수 시퀀스를 텍스트 시퀀스로 변환\n",
    "def seq2headlines(input_seq):\n",
    "    temp=''\n",
    "    for i in input_seq:\n",
    "        if ((i!=0 and i!=tar_word_to_index['sostoken']) and i!=tar_word_to_index['eostoken']):\n",
    "            # 숫자 0, 시작 토큰의 인덱스, 종료 토큰의 인덱스를 출력에서 제외\n",
    "            temp = temp + tar_index_to_word[i] + ' '\n",
    "    return temp"
   ]
  },
  {
   "cell_type": "code",
   "execution_count": 49,
   "id": "6db64da6",
   "metadata": {},
   "outputs": [
    {
     "name": "stdout",
     "output_type": "stream",
     "text": [
      "원문 : sbi md arijit basu said indian banks consortium recovered crore auction vijay mallya indian properties statement comes london court granted enforcement order favour indian banks seize mallya assets uk hopeful going forward able recover money basu added \n",
      "실제 요약 : have recovered cr from mallya assets in india sbi md \n",
      "예측 요약 :  sbi to pay cr to cr for cr loan\n",
      "\n",
      "\n",
      "원문 : andhra pradesh government wednesday signed mou us based hyperloop transportation technologies build india first hyperloop system planned project aimed connecting cities amaravati vijayawada andhra pradesh supposedly covering distance km five minutes mou six month feasibility study would conducted next month \n",
      "실제 요약 : andhra pradesh signs mou to build india first hyperloop \n",
      "예측 요약 :  andhra cm to get electric car for electric electric\n",
      "\n",
      "\n",
      "원문 : uber dropped name otto self driving truck unit changed uber advanced technologies group following trademark infringement dispute canadian robotic vehicle technology company named otto motors sued uber similar names uber bought self driving truck startup otto million august \n",
      "실제 요약 : uber drops truck unit name following trademark spat \n",
      "예측 요약 :  uber rival lyft lyft lyft lyft drivers to launch its car\n",
      "\n",
      "\n",
      "원문 : yemen based branch terrorist outfit al qaeda sent warning crown prince saudi arabia mohammad bin salman hosting wwe greatest royal rumble april wrestlers exposed sign cross front mixed gathering young muslim men women warning said \n",
      "실제 요약 : al qaeda warns saudi crown prince over hosting wwe event \n",
      "예측 요약 :  saudi arabia allows saudi crown prince to join prince\n",
      "\n",
      "\n",
      "원문 : playing england side chelsea youth team defender scored goal almost yards fixture guinea monday leading th minute decided pass ball back goalkeeper missed trying clear away defensive area \n",
      "실제 요약 : england youngster scores own goal from yards away \n",
      "예측 요약 :  player scores goal from yards to score goal\n",
      "\n",
      "\n",
      "원문 : uk based bt cut ceo gavin pay package million scrapped bonus payments following million accounting scandal italian operations telco also announced plans cut jobs save million bt fined million largest fine imposed telco scandal \n",
      "실제 요약 : uk telco cuts ceo pay by crore over accounting scandal \n",
      "예측 요약 :  uk ceo to pay million for million in uk\n",
      "\n",
      "\n",
      "원문 : confidence motion introduced lok sabha amid uproar protesting mps andhra pradesh cm chandrababu naidu told tdp mps dilute fight directing mps present parliament added see mps parties also attend house parties also give notices confidence motion \n",
      "실제 요약 : we should not our fight andhra cm to tdp mps \n",
      "예측 요약 :  will not be allowed to andhra cm on andhra cm\n",
      "\n",
      "\n",
      "원문 : five year old girl raped wooden stick found inserted private parts haryana hisar saturday girl died stick caused serious injuries uterus intestines post mortem report revealed fir registered unknown persons police formed special investigation team nab accused \n",
      "실제 요약 : yr old girl raped stick found in genitals \n",
      "예측 요약 :  year old girl raped by private parts in delhi\n",
      "\n",
      "\n",
      "원문 : billionaire michael bloomberg promised million cover year us commitment paris climate accord us president donald trump pulled deal last year making us country opposed former new york city mayor said hoped trump would changed mind next year \n",
      "실제 요약 : michael pledges million to paris climate deal \n",
      "예측 요약 :  us billionaire to buy us for bn trump\n",
      "\n",
      "\n",
      "원문 : congress president rahul gandhi tuesday claimed prime minister narendra modi time travel across country cannot spare minutes address lok sabha said pm modi able stand given minutes question rafale deal pnb fraud accused nirav modi \n",
      "실제 요약 : pm modi cannot spare minutes for lok sabha rahul gandhi \n",
      "예측 요약 :  rahul gandhi is the best in india pm modi\n",
      "\n",
      "\n",
      "원문 : kerala government announced lakh compensation people lost houses land ongoing floods government also provide lakh ex gratia kin people lost lives estimated rendered homeless least died due floods reports said \n",
      "실제 요약 : kerala to give to people who lost house land in floods \n",
      "예측 요약 :  kerala announces crore relief for flood victims\n",
      "\n",
      "\n",
      "원문 : actor ayushmann khurrana revealed college days friends used sing trains added passengers used give us money used earn much managed sponsor goa trip notably ayushmann sang song pani da rang bollywood debut film vicky donor \n",
      "실제 요약 : would sing in trains and get money in college days ayushmann \n",
      "예측 요약 :  ayushmann reveals he is not about his kids\n",
      "\n",
      "\n",
      "원문 : confidence motion moved opposition modi government rejected friday lok sabha hour debate mps voted voted yes voting prime minister narendra modi addressed lok sabha minutes ahead voting confidence motion \n",
      "실제 요약 : no confidence motion against govt rejected after hour debate \n",
      "예측 요약 :  lok sabha speaker is no confidence motion against pm modi\n",
      "\n",
      "\n",
      "원문 : russian republic chechnya opened world first concentration camp since hitler according reports gay men tortured electric shocks beaten death camps comes claimed three gay men killed detained chechnya last week notably chechen society considers homosexuality shame \n",
      "실제 요약 : opens st gay camp since hitler era \n",
      "예측 요약 :  world st ever in world\n",
      "\n",
      "\n",
      "원문 : directorate revenue intelligence set bring back antique pieces including three major ones stolen smuggled united states india pieces slated return india may dri officials said earlier agency managed bring back six antique pieces us \n",
      "실제 요약 : govt to bring back indian smuggled to the us \n",
      "예측 요약 :  hong kong to get its largest\n",
      "\n",
      "\n",
      "원문 : member west bengal pradesh congress committee written letter kolkata police complaining actor nawazuddin siddiqui producers web series sacred games complainant alleges nawazuddin character show insults former pm rajiv gandhi abuses besides facts show also crosses limits decency per complainant \n",
      "실제 요약 : sacred games crosses limits of complaint against show \n",
      "예측 요약 :  congress leader demands messages on twitter\n",
      "\n",
      "\n",
      "원문 : saudi arabia handed list demands qatar resumption diplomatic trade ties qatar called ultimatum attack country sovereignty foreign policy list demands confirms qatar said beginning illegal blockade nothing combating terrorism qatar added \n",
      "실제 요약 : qatar calls saudi arabia attack on \n",
      "예측 요약 :  saudi arabia to allow its country to return to return\n",
      "\n",
      "\n",
      "원문 : people feared dead bus travelling fell deep gorge uttarakhand garhwal district sunday several people reported injured accident referred hospital rescue operations undertaken police national disaster response force currently underway \n",
      "실제 요약 : over feared dead as bus falls into deep gorge in khand \n",
      "예측 요약 :  killed as bus falls into gorge in uttarakhand\n",
      "\n",
      "\n",
      "원문 : slamming defence minister nirmala sitharaman visit flood hit former karnataka cm siddaramaiah said expected pm modi assess loss instead defence minister interested state minister comes sitharaman snapped minister sr mahesh asked end press conference time constraints \n",
      "실제 요약 : sitharaman more interested in minister ex taka cm \n",
      "예측 요약 :  centre meets pm modi in andhra pradesh cm\n",
      "\n",
      "\n",
      "원문 : scoring ball india cricket australia xi tour match indian opener murali vijay said playing australia suits game batsman likes play want go contribute give good start added vijay hit runs match \n",
      "실제 요약 : my game well for aus vijay after tour match ton \n",
      "예측 요약 :  aus player has been the best player in australia\n",
      "\n",
      "\n",
      "원문 : punjabi singer miss pooja actor harish verma booked allegedly hurting religious sentiments hindu community song titled case duo registered portrayal hindu god death inebriated state complainant stated respect paid video \n",
      "실제 요약 : singer miss pooja booked over video showing drunk \n",
      "예측 요약 :  singer apologises for remark on social media\n",
      "\n",
      "\n",
      "원문 : al qaeda indian subcontinent begun publishing online material tamil bengali hindi languages order recruit followers country internet reports said also key speeches articles jihadists three languages aim influence educated sections society jihadist ideology \n",
      "실제 요약 : al qaeda material in indian languages reports \n",
      "예측 요약 :  afghanistan to launch its first anniversary\n",
      "\n",
      "\n",
      "원문 : ahead india pakistan asia cup tie wednesday indian wheelchair cricket team thrashed pakistani counterparts friendship cup match played uae indian wheelchair team scored pakistan got dismissed runs indian men cricket team set face pakistan first time period months \n",
      "실제 요약 : indian wheelchair cricket team beats pakistan by runs \n"
     ]
    },
    {
     "name": "stdout",
     "output_type": "stream",
     "text": [
      "예측 요약 :  pakistan thrash pakistan in pakistan after asia cup win\n",
      "\n",
      "\n",
      "원문 : pv appointed managing director ceo state run corporation bank currently serves executive director canara bank take charge february remain post till march mishra appointed executive director corporation bank \n",
      "실제 요약 : pv appointed md and ceo of bank \n",
      "예측 요약 :  ceo of ceo sharma ceo quits\n",
      "\n",
      "\n",
      "원문 : adani group wednesday said would invest crore double capacity company edible oil refinery west bengal created direct indirect jobs bengal adani md pranav adani said added company also exploring logistics \n",
      "실제 요약 : adani group to invest crore in west bengal \n",
      "예측 요약 :  to buy cr in cr from january\n",
      "\n",
      "\n",
      "원문 : according reports vidya balan seen portraying gangster upcoming film drama sees leading lady grey character role strong minded woman almost crime report stated film directed jyoti kapur das also penned script \n",
      "실제 요약 : vidya balan to play gangster in upcoming film reports \n",
      "예측 요약 :  vidya balan to play in film on film\n",
      "\n",
      "\n",
      "원문 : according reports horror film annabelle third movie annabelle film series release july gary written scripts previous two annabelle movies make directorial debut yet untitled film also writing script new film \n",
      "실제 요약 : horror film to release in reports \n",
      "예측 요약 :  release date of horror film on october\n",
      "\n",
      "\n",
      "원문 : amazon founder jeff bezos interview revealed child added changed talking childhood bezos said good student always worked really hard also asked dating college said socially little awkward \n",
      "실제 요약 : was jeff bezos in interview \n",
      "예측 요약 :  bezos is the best person to be good bezos\n",
      "\n",
      "\n",
      "원문 : answer scripts reportedly misplaced university mumbai results students yet declared answer scripts could misplaced transit scanning centre lost due entry wrong question paper code assessment software officials said \n",
      "실제 요약 : mumbai university over answer scripts \n",
      "예측 요약 :  mumbai class board exams for class class\n",
      "\n",
      "\n",
      "원문 : philippines top police chief ronald president rodrigo duterte war drugs killed people months hinted possible run presidency wait become president salaries said police chief reportedly among duterte possible \n",
      "실제 요약 : philippine police chief hints at possible run for presidency \n",
      "예측 요약 :  will not be killed in the war in us prez\n",
      "\n",
      "\n",
      "원문 : pixar co founder ed announced plans retire end year announcing retirement said never imagination could conceived path extraordinary people worked continue serve adviser july retiring formally years \n",
      "실제 요약 : co founder ed to retire after years \n",
      "예측 요약 :  was not an to be fired for the year\n",
      "\n",
      "\n",
      "원문 : rbi reportedly scaled printing notes introduced demonetisation minimum printing notes substantially reduced nothing new finance ministry official quoted saying total currency circulation march notes accounted march \n",
      "실제 요약 : rbi reduces printing of notes to minimum reports \n",
      "예측 요약 :  rbi to pay lakh to rbi\n",
      "\n",
      "\n",
      "원문 : oneplus continued lead premium smartphone segment second consecutive quarter per counterpoint research analysis indian smartphone market oneplus became oneplus highest selling flagship model within months launch capturing market remains top selling smartphone premium segment followed galaxy note galaxy star \n",
      "실제 요약 : oneplus leads the premium smartphone in india report \n",
      "예측 요약 :  oneplus india highest smartphone smartphone in india\n",
      "\n",
      "\n",
      "원문 : speaking getting maximum attention role alauddin khilji padmaavat ranveer singh said one done two hero film done ensemble film added ranveer said collaborative process good co actor \n",
      "실제 요약 : am not into one ranveer singh on padmaavat \n",
      "예측 요약 :  ranveer is not playing in film ranveer singh\n",
      "\n",
      "\n",
      "원문 : indian accent repeatedly rated india best restaurant set open london known indian fusion cuisine like potato sphere spare ribs indian accent already branches new delhi new york open previous location indian restaurant chor bizarre \n",
      "실제 요약 : india top rated restaurant indian accent to open in london \n",
      "예측 요약 :  world eatery named world best restaurant\n",
      "\n",
      "\n",
      "원문 : indian cricketer sachin tendulkar shared photo childhood days thursday picture sachin seen reading book captioned never good scorer field commenting picture user wrote showed us good studies everything \n",
      "실제 요약 : sachin tendulkar shares throwback picture from his childhood \n",
      "예측 요약 :  sachin shares video of his th birthday\n",
      "\n",
      "\n",
      "원문 : bihar chief minister nitish kumar monday said nobody capacity take pm narendra modi lok sabha elections notably kumar earlier ended year old alliance bjp party decision nominate modi prime ministerial candidate lok sabha elections \n",
      "실제 요약 : nobody has the capacity to take on modi nitish kumar \n",
      "예측 요약 :  pm modi has no no trust in polls pm modi\n",
      "\n",
      "\n",
      "원문 : pm narendra modi nepalese counterpart kp sharma oli flagged indo nepal bus service two day nepal visit friday buses ply birthplace sita ayodhya uttar pradesh india nepal work towards building ramayan circuit countries pm modi said launch \n",
      "실제 요약 : pm narendra modi flags off india nepal bus service \n",
      "예측 요약 :  pm modi inaugurates india rail rail station in arunachal\n",
      "\n",
      "\n",
      "원문 : apparent reference upa chairperson sonia gandhi prime minister narendra modi said years remote controlled government delhi madam controlling claiming congress government centre created hurdles madhya pradesh chief minister shivraj singh chouhan pm modi added years madhya pradesh fight centre \n",
      "실제 요약 : ran remote controlled govt in delhi pm modi \n",
      "예측 요약 :  pm modi promises to be affected by pm modi\n",
      "\n",
      "\n",
      "원문 : father catholic priest addressed around members muslim community inside mosque thanking feeding flood hit families taken shelter church cannot express gratitude words much help support extended time difficulties later said \n",
      "실제 요약 : catholic priest thanks muslims in speech at mosque in kerala \n",
      "예측 요약 :  priest of temple temple temple attacked by temple\n",
      "\n",
      "\n",
      "원문 : trailer ribbon starring kalki koechlin web series permanent roommates actor sumeet vyas released film marks sumeet bollywood debut main lead revolves around young couple deal pregnancy directed co written ribbon scheduled release november \n",
      "실제 요약 : trailer of sumeet vyas kalki starrer out \n",
      "예측 요약 :  trailer of kalki starrer sumeet vyas starrer raabta out\n",
      "\n",
      "\n",
      "원문 : facebook messenger started rolling feature lets users delete messages chat within minutes sending feature released globally soon released android ios poland bolivia colombia lithuania deleted messages retained short time case receiver reports harassment \n",
      "실제 요약 : facebook starts out feature on messenger \n",
      "예측 요약 :  whatsapp tests feature to let users share messages\n",
      "\n",
      "\n",
      "원문 : former madhya pradesh cm shivraj singh chouhan sunday said opposition unity nothing ki baraat said opposition leader coming together survival today modiji leader leader entire country added \n",
      "실제 요약 : opposition is ki baraat shivraj singh chouhan \n",
      "예측 요약 :  will not be called by politics singh on mp cm\n",
      "\n",
      "\n",
      "원문 : hunters trolling people ethical treatment animals campaign urged people post photos facebook photo frame saying shoot selfies animals hunters used frame post photos variety dead animals including ducks bucks \n",
      "실제 요약 : troll peta shoot selfies not animals campaign \n",
      "예측 요약 :  video of people who is social media\n",
      "\n",
      "\n",
      "원문 : online beauty personal care product retailer reportedly talks japan softbank group raise million deal expected value mumbai based startup million founded former investment banker nayar counts lighthouse funds max ventures industries amongst investors \n",
      "실제 요약 : in talks with softbank to raise up to mn report \n",
      "예측 요약 :  to buy stake in billion valuation\n",
      "\n",
      "\n",
      "원문 : actress swara bhasker written open letter director sanjay leela bhansali saying felt reduced vagina watching film padmaavat wrote women right live despite raped despite death husbands male owners controllers sexuality women right live period \n",
      "실제 요약 : felt like after watching padmaavat swara \n",
      "예측 요약 :  swara slams swara over padmaavat\n",
      "\n",
      "\n",
      "원문 : sonali bendre diagnosed cancer shared series photos instagram last blow dry getting hair cut ahead chemotherapy sessions wrote hair gradually growing back maybe look forward another blow dry looking towards happier onwards upwards added \n",
      "실제 요약 : maybe can look forward to another blow dry in sonali bendre \n",
      "예측 요약 :  sonali bendre slams sonali for not having treatment\n",
      "\n",
      "\n",
      "원문 : forty one year old ukrainian singer detained officials turkish airport thought lying age officials believed suspected using someone else passport realised mistake fans recognised airport asked pictures autographs \n",
      "실제 요약 : singer detained at turkish airport for looking too young \n"
     ]
    },
    {
     "name": "stdout",
     "output_type": "stream",
     "text": [
      "예측 요약 :  italian tourist molested by men in us\n",
      "\n",
      "\n",
      "원문 : germany based researchers claimed brain cells light even one sees familiar face fails identify study recorded activity individual neurons participants shown two familiar images quick succession researchers however observed process weaker delayed unnoticed image compared identified \n",
      "실제 요약 : brain recognises faces even when one fails to notice study \n",
      "예측 요약 :  scientists find brain to detect brain cells\n",
      "\n",
      "\n",
      "원문 : according reports actor ajay devgn set play cameo ranveer singh starrer simmba film directed rohit shetty feature ranveer role policeman named sangram ajay worked shetty ten films far reportedly appear character singham cameo \n",
      "실제 요약 : devgn to play cameo in ranveer singh starrer simmba reports \n",
      "예측 요약 :  ranveer to star in simmba in simmba reports\n",
      "\n",
      "\n"
     ]
    }
   ],
   "source": [
    "# 테스트 데이터 약 50개의 샘플에 대해서 실제 요약과 예측된 요약을 비교\n",
    "for i in range(50, 100):\n",
    "    print(\"원문 :\", seq2text(encoder_input_test[i]))\n",
    "    print(\"실제 요약 :\", seq2headlines(decoder_input_test[i]))\n",
    "    print(\"예측 요약 :\", decode_sequence(encoder_input_test[i].reshape(1, text_max_len)))\n",
    "    print(\"\\n\")"
   ]
  },
  {
   "cell_type": "markdown",
   "id": "db4c1448",
   "metadata": {},
   "source": [
    "## Step 5. Summa을 이용해서 추출적 요약해보기"
   ]
  },
  {
   "cell_type": "code",
   "execution_count": 68,
   "id": "3b3eecd8",
   "metadata": {},
   "outputs": [],
   "source": [
    "import requests\n",
    "from summa.summarizer import summarize\n",
    "\n",
    "data = pd.read_csv('news_summary_more.csv', encoding='iso-8859-1')"
   ]
  },
  {
   "cell_type": "code",
   "execution_count": 78,
   "id": "fbfe4f3f",
   "metadata": {},
   "outputs": [
    {
     "name": "stdout",
     "output_type": "stream",
     "text": [
      "원래 문장: Two minor cousins in Uttar Pradesh's Gorakhpur were allegedly repeatedly burnt with tongs and forced to eat human excreta by their family for being friends with two boys from the same school. The cousins revealed their ordeal to the police and Child Welfare Committee after being brought back to Gorakhpur from Nepal, where they had fled to escape the torture.\n",
      "실제 요약: UP cousins fed human excreta for friendship with boys\n",
      "예측 요약: Two minor cousins in Uttar Pradesh's Gorakhpur were allegedly repeatedly burnt with tongs and forced to eat human excreta by their family for being friends with two boys from the same school.\n"
     ]
    }
   ],
   "source": [
    "print('원래 문장:', data['text'][10])\n",
    "print('실제 요약:', data['headlines'][10])\n",
    "print('예측 요약:', summarize(data['text'][10], ratio=0.5)) # 비율을 조정해서 요약문으로 선택되는 문장의 개수를 조정할 수 있다."
   ]
  },
  {
   "cell_type": "markdown",
   "id": "9adc0f91",
   "metadata": {},
   "source": [
    "- ratio = 0.3으로 설정하니까 예측요약이 아예 나오지 않았다. 짧은 문장이라 비율이 너무 작으면 요약이 되지 않는 거 같다."
   ]
  },
  {
   "cell_type": "code",
   "execution_count": 79,
   "id": "fc9c82ba",
   "metadata": {},
   "outputs": [
    {
     "name": "stdout",
     "output_type": "stream",
     "text": [
      "원래 문장: German multinational engineering and electronics firm Bosch has made its first investment in India in Bengaluru-based deep-tech startup SimYog. SimYog has raised about Ã¢ÂÂ¹6.3 crore in the funding round, with participation from early-stage venture capital firm Ideaspring Capital. Incubated at the Indian Institute of Science (IISc), it provides design and sign-off tools for automotive electronics.\n",
      "실제 요약: Bosch makes its 1st India investment in IISc spinoff SimYog\n",
      "예측 요약: ['German multinational engineering and electronics firm Bosch has made its first investment in India in Bengaluru-based deep-tech startup SimYog. SimYog has raised about Ã¢Â\\x82Â¹6.3 crore in the funding round, with participation from early-stage venture capital firm Ideaspring Capital.']\n"
     ]
    }
   ],
   "source": [
    "print('원래 문장:', data['text'][100])\n",
    "print('실제 요약:', data['headlines'][100])\n",
    "print('예측 요약:', summarize(data['text'][100], ratio=0.7, split=True)) # 리스트로 출력 결과를 받고 싶다면 split=True"
   ]
  },
  {
   "cell_type": "code",
   "execution_count": 85,
   "id": "b4a3903a",
   "metadata": {},
   "outputs": [
    {
     "name": "stdout",
     "output_type": "stream",
     "text": [
      "원래 문장: PM Modi on Sunday inaugurated an integrated Bharat Petroleum (BPCL) refinery expansion complex in Kerala's Kochi and dedicated the Ã¢ÂÂ¹16,504-crore investment to the nation. The complex would transform Kochi Refinery as the largest state-run refinery in the country, he said. He also laid the foundation stone for a petrochemical complex at the refinery and a skill development institute at Ettumanoor.\n",
      "실제 요약: PM Modi inaugurates BPCL's Kochi refinery expansion complex\n",
      "예측 요약: The complex would transform Kochi Refinery as the largest state-run refinery in the country, he said.\n"
     ]
    }
   ],
   "source": [
    "print('원래 문장:', data['text'][500])\n",
    "print('실제 요약:', data['headlines'][500])\n",
    "print('예측 요약:', summarize(data['text'][500], words=15)) # 단어 수로 요약문 크기 조절"
   ]
  },
  {
   "cell_type": "markdown",
   "id": "bde0fec9",
   "metadata": {},
   "source": [
    "- words=5로 설정하니까 예측 요약이 아예 나오지 않았다. 요약문을 만드는 데에도 문법적으로 말이 되도록 하려면 최소 단어 수가 있는 거 같다."
   ]
  },
  {
   "cell_type": "markdown",
   "id": "7d29cf01",
   "metadata": {},
   "source": [
    "------"
   ]
  },
  {
   "cell_type": "markdown",
   "id": "351e5af0",
   "metadata": {},
   "source": [
    "## 회고\n",
    "1. Abstractive 모델 구성을 위한 텍스트 전처리 단계가 체계적으로 진행되었는가?  \n",
    "분석단계, 정제단계, 정규화와 불용어 제거, 데이터셋 분리, 인코딩까지 실행하였다. lms를 바탕으로 그대로 따라했기 때문에 따라하는 과정은 어렵지 않았지만 나혼자 처음부터 해야한다면 굉장히 막막했을 거 같다. 프로젝트를 제출하기는 했지만 계속 반복해서 전처리 과정을 보면서 익숙해지도록 더욱 노력해야겠다.  \n",
    "2. 모델 학습이 진행되면서 train loss와 validation loss가 감소하는 경향을 그래프를 통해 확인했으며, 실제 요약문에 있는 핵심 단어들이 요약 문장 안에 포함되었는가?  \n",
    "train los와 validation loss가 감소하는 경향을 그래프를 통해 확인하였는데, early stopping이 없었다면 validation loss가 다시 증가하는 상황이 벌어질 수도 있겠다고 느꼈다. 학습에 있어 epoch을 적절하게 설정하는 것도 중요하고 early stopping이 과도하게 학습되는 것을 방지해주는 것을 봤을 때 정말 좋은 기능이라고 느꼈다. 그렇게 학습된 것을 가지고 예측 요약을 봤을 때, 잘못 요약된 것도 어느 부분 있기는 하지만 실제 요약과 비슷하게 나오는 경우도 있었다.  \n",
    "3. Extractive 요약과 Abstractive 요약 결과를 비교해보았는가?  \n",
    "문법완성도 측면에서는 Extractive 요약이 더 좋아보인다. 문장에 따라 ratio나 words의 설정을 너무 작게 하면 예측 요약이 아예 나오지 않았는데, 핵심단어를 뽑아내면서 문법적으로 맞추기 위해서는 어느 정도 길이가 필요하기 때문이라고 생각했다. 반면, 핵심단어 포함 측면에서는 Abstractive 요약이 더 좋아보인다. Abstractive 요약은 상대적으로 문법보다 핵심단어를 뽑아내는데 중점을 둔 요약이라는 생각이 들었다."
   ]
  }
 ],
 "metadata": {
  "kernelspec": {
   "display_name": "Python 3 (ipykernel)",
   "language": "python",
   "name": "python3"
  },
  "language_info": {
   "codemirror_mode": {
    "name": "ipython",
    "version": 3
   },
   "file_extension": ".py",
   "mimetype": "text/x-python",
   "name": "python",
   "nbconvert_exporter": "python",
   "pygments_lexer": "ipython3",
   "version": "3.9.7"
  }
 },
 "nbformat": 4,
 "nbformat_minor": 5
}
