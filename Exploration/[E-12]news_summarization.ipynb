{
 "cells": [
  {
   "cell_type": "markdown",
   "id": "043c90f2",
   "metadata": {},
   "source": [
    "# 뉴스기사 요약해보기"
   ]
  },
  {
   "cell_type": "code",
   "execution_count": 1,
   "id": "31e83c1c",
   "metadata": {},
   "outputs": [
    {
     "name": "stderr",
     "output_type": "stream",
     "text": [
      "[nltk_data] Downloading package stopwords to /aiffel/nltk_data...\n",
      "[nltk_data]   Package stopwords is already up-to-date!\n"
     ]
    }
   ],
   "source": [
    "import nltk\n",
    "nltk.download('stopwords')\n",
    "\n",
    "import numpy as np\n",
    "import pandas as pd\n",
    "import os\n",
    "import re\n",
    "import matplotlib.pyplot as plt\n",
    "from nltk.corpus import stopwords\n",
    "from bs4 import BeautifulSoup \n",
    "from tensorflow.keras.preprocessing.text import Tokenizer \n",
    "from tensorflow.keras.preprocessing.sequence import pad_sequences\n",
    "import urllib.request\n",
    "import warnings\n",
    "warnings.filterwarnings(\"ignore\", category=UserWarning, module='bs4')"
   ]
  },
  {
   "cell_type": "markdown",
   "id": "0f49ca07",
   "metadata": {},
   "source": [
    "## Step 1. 데이터 수집하기\n",
    "- [news_summary_more.csv](https://github.com/sunnysai12345/News_Summary)  \n",
    "- 추상적 요약을 하는 경우에는 text를 본문, headlines를 이미 요약된 데이터로 삼아서 모델 학습하기. 추출적 요약을 하는 경우에는 text열만을 사용하기."
   ]
  },
  {
   "cell_type": "code",
   "execution_count": 2,
   "id": "7c7c7193",
   "metadata": {},
   "outputs": [
    {
     "data": {
      "text/html": [
       "<div>\n",
       "<style scoped>\n",
       "    .dataframe tbody tr th:only-of-type {\n",
       "        vertical-align: middle;\n",
       "    }\n",
       "\n",
       "    .dataframe tbody tr th {\n",
       "        vertical-align: top;\n",
       "    }\n",
       "\n",
       "    .dataframe thead th {\n",
       "        text-align: right;\n",
       "    }\n",
       "</style>\n",
       "<table border=\"1\" class=\"dataframe\">\n",
       "  <thead>\n",
       "    <tr style=\"text-align: right;\">\n",
       "      <th></th>\n",
       "      <th>headlines</th>\n",
       "      <th>text</th>\n",
       "    </tr>\n",
       "  </thead>\n",
       "  <tbody>\n",
       "    <tr>\n",
       "      <th>20972</th>\n",
       "      <td>I'm working mother, wife; hope women get inspi...</td>\n",
       "      <td>Kareena Kapoor Khan has said she's a working m...</td>\n",
       "    </tr>\n",
       "    <tr>\n",
       "      <th>95363</th>\n",
       "      <td>MDMK's Vaiko sent to 15-day judicial custody f...</td>\n",
       "      <td>MDMK leader V Gopalsamy, also known as Vaiko, ...</td>\n",
       "    </tr>\n",
       "    <tr>\n",
       "      <th>7636</th>\n",
       "      <td>I now see it as a blessing: Katrina Kaif on he...</td>\n",
       "      <td>Actress Katrina Kaif, while opening up about h...</td>\n",
       "    </tr>\n",
       "    <tr>\n",
       "      <th>49651</th>\n",
       "      <td>Apple to start iPhone 6s production in India: ...</td>\n",
       "      <td>Technology giant Apple's Taiwanese contract ma...</td>\n",
       "    </tr>\n",
       "    <tr>\n",
       "      <th>88494</th>\n",
       "      <td>Against discriminatory things: Jacqueline on f...</td>\n",
       "      <td>Jacqueline Fernandez, while talking about endo...</td>\n",
       "    </tr>\n",
       "    <tr>\n",
       "      <th>9142</th>\n",
       "      <td>Wiped-out US hedge fund manager confesses his ...</td>\n",
       "      <td>A US-based hedge fund manager has apologised f...</td>\n",
       "    </tr>\n",
       "    <tr>\n",
       "      <th>89676</th>\n",
       "      <td>Scientists spot rare 'Dragon-skin' ice in Anta...</td>\n",
       "      <td>Scientists on an Antarctic expedition aboard a...</td>\n",
       "    </tr>\n",
       "    <tr>\n",
       "      <th>13302</th>\n",
       "      <td>ISIS takes 700 refugees hostage in Syria, says...</td>\n",
       "      <td>The Islamic State attacked a refugee camp in S...</td>\n",
       "    </tr>\n",
       "    <tr>\n",
       "      <th>3897</th>\n",
       "      <td>What has been AITA's vision for tennis in last...</td>\n",
       "      <td>Former Indian tennis player Somdev Devvarman q...</td>\n",
       "    </tr>\n",
       "    <tr>\n",
       "      <th>4412</th>\n",
       "      <td>Priests shut Puri Jagannath Temple after tussl...</td>\n",
       "      <td>Odisha's Jagannath Temple was closed on Friday...</td>\n",
       "    </tr>\n",
       "  </tbody>\n",
       "</table>\n",
       "</div>"
      ],
      "text/plain": [
       "                                               headlines  \\\n",
       "20972  I'm working mother, wife; hope women get inspi...   \n",
       "95363  MDMK's Vaiko sent to 15-day judicial custody f...   \n",
       "7636   I now see it as a blessing: Katrina Kaif on he...   \n",
       "49651  Apple to start iPhone 6s production in India: ...   \n",
       "88494  Against discriminatory things: Jacqueline on f...   \n",
       "9142   Wiped-out US hedge fund manager confesses his ...   \n",
       "89676  Scientists spot rare 'Dragon-skin' ice in Anta...   \n",
       "13302  ISIS takes 700 refugees hostage in Syria, says...   \n",
       "3897   What has been AITA's vision for tennis in last...   \n",
       "4412   Priests shut Puri Jagannath Temple after tussl...   \n",
       "\n",
       "                                                    text  \n",
       "20972  Kareena Kapoor Khan has said she's a working m...  \n",
       "95363  MDMK leader V Gopalsamy, also known as Vaiko, ...  \n",
       "7636   Actress Katrina Kaif, while opening up about h...  \n",
       "49651  Technology giant Apple's Taiwanese contract ma...  \n",
       "88494  Jacqueline Fernandez, while talking about endo...  \n",
       "9142   A US-based hedge fund manager has apologised f...  \n",
       "89676  Scientists on an Antarctic expedition aboard a...  \n",
       "13302  The Islamic State attacked a refugee camp in S...  \n",
       "3897   Former Indian tennis player Somdev Devvarman q...  \n",
       "4412   Odisha's Jagannath Temple was closed on Friday...  "
      ]
     },
     "execution_count": 2,
     "metadata": {},
     "output_type": "execute_result"
    }
   ],
   "source": [
    "urllib.request.urlretrieve(\"https://raw.githubusercontent.com/sunnysai12345/News_Summary/master/news_summary_more.csv\", filename=\"news_summary_more.csv\")\n",
    "data = pd.read_csv('news_summary_more.csv', encoding='iso-8859-1')\n",
    "\n",
    "data.sample(10)"
   ]
  },
  {
   "cell_type": "markdown",
   "id": "affeb6b9",
   "metadata": {},
   "source": [
    "## Step 2. 데이터 전처리하기 (추상적 요약)"
   ]
  },
  {
   "cell_type": "code",
   "execution_count": null,
   "id": "457705df",
   "metadata": {},
   "outputs": [],
   "source": []
  },
  {
   "cell_type": "code",
   "execution_count": null,
   "id": "519e11ba",
   "metadata": {},
   "outputs": [],
   "source": []
  },
  {
   "cell_type": "code",
   "execution_count": null,
   "id": "0fa8e8dc",
   "metadata": {},
   "outputs": [],
   "source": []
  },
  {
   "cell_type": "markdown",
   "id": "86bd6c4d",
   "metadata": {},
   "source": [
    "## Step 3. 어텐션 메커니즘 사용하기 (추상적 요약)"
   ]
  },
  {
   "cell_type": "code",
   "execution_count": null,
   "id": "819af375",
   "metadata": {},
   "outputs": [],
   "source": []
  },
  {
   "cell_type": "code",
   "execution_count": null,
   "id": "59d875e8",
   "metadata": {},
   "outputs": [],
   "source": []
  },
  {
   "cell_type": "code",
   "execution_count": null,
   "id": "2d4e80eb",
   "metadata": {},
   "outputs": [],
   "source": []
  },
  {
   "cell_type": "code",
   "execution_count": null,
   "id": "e7a8a6df",
   "metadata": {},
   "outputs": [],
   "source": []
  },
  {
   "cell_type": "markdown",
   "id": "d76b6b7d",
   "metadata": {},
   "source": [
    "## Step 4. 실제 결과와 요약문 비교하기 (추상적 요약)"
   ]
  },
  {
   "cell_type": "code",
   "execution_count": null,
   "id": "44050b2b",
   "metadata": {},
   "outputs": [],
   "source": []
  },
  {
   "cell_type": "code",
   "execution_count": null,
   "id": "7454e50d",
   "metadata": {},
   "outputs": [],
   "source": []
  },
  {
   "cell_type": "code",
   "execution_count": null,
   "id": "94aea9ef",
   "metadata": {},
   "outputs": [],
   "source": []
  },
  {
   "cell_type": "code",
   "execution_count": null,
   "id": "36e354c1",
   "metadata": {},
   "outputs": [],
   "source": []
  },
  {
   "cell_type": "code",
   "execution_count": null,
   "id": "297df0bf",
   "metadata": {},
   "outputs": [],
   "source": []
  },
  {
   "cell_type": "code",
   "execution_count": null,
   "id": "3bca57d6",
   "metadata": {},
   "outputs": [],
   "source": []
  },
  {
   "cell_type": "markdown",
   "id": "39554baa",
   "metadata": {},
   "source": [
    "## Step 5. Summa을 이용해서 추출적 요약해보기"
   ]
  },
  {
   "cell_type": "code",
   "execution_count": null,
   "id": "ab3d584b",
   "metadata": {},
   "outputs": [],
   "source": []
  },
  {
   "cell_type": "code",
   "execution_count": null,
   "id": "db06726d",
   "metadata": {},
   "outputs": [],
   "source": []
  },
  {
   "cell_type": "code",
   "execution_count": null,
   "id": "3dfbcd0e",
   "metadata": {},
   "outputs": [],
   "source": []
  },
  {
   "cell_type": "code",
   "execution_count": null,
   "id": "4f452224",
   "metadata": {},
   "outputs": [],
   "source": []
  },
  {
   "cell_type": "code",
   "execution_count": null,
   "id": "9463d37d",
   "metadata": {},
   "outputs": [],
   "source": []
  },
  {
   "cell_type": "markdown",
   "id": "97bca65f",
   "metadata": {},
   "source": [
    "------"
   ]
  },
  {
   "cell_type": "markdown",
   "id": "09c62b91",
   "metadata": {},
   "source": [
    "## 회고"
   ]
  },
  {
   "cell_type": "markdown",
   "id": "559c0859",
   "metadata": {},
   "source": [
    "## Reference"
   ]
  }
 ],
 "metadata": {
  "kernelspec": {
   "display_name": "Python 3 (ipykernel)",
   "language": "python",
   "name": "python3"
  },
  "language_info": {
   "codemirror_mode": {
    "name": "ipython",
    "version": 3
   },
   "file_extension": ".py",
   "mimetype": "text/x-python",
   "name": "python",
   "nbconvert_exporter": "python",
   "pygments_lexer": "ipython3",
   "version": "3.9.7"
  }
 },
 "nbformat": 4,
 "nbformat_minor": 5
}
