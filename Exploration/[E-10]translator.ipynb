{
 "cells": [
  {
   "cell_type": "markdown",
   "id": "632fade1",
   "metadata": {},
   "source": [
    "# 단어 Level로 번역기 업그레이드하기"
   ]
  },
  {
   "cell_type": "code",
   "execution_count": 1,
   "id": "16af2534",
   "metadata": {},
   "outputs": [],
   "source": [
    "# 필요한 모듈 import\n",
    "import os\n",
    "import re\n",
    "\n",
    "import numpy as np\n",
    "import pandas as pd\n",
    "from tensorflow.keras.preprocessing.text import Tokenizer\n",
    "from tensorflow.keras.preprocessing.sequence import pad_sequences\n",
    "from tensorflow.keras.utils import to_categorical\n",
    "\n",
    "from tensorflow.keras.layers import Input, LSTM, Embedding, Dense\n",
    "from tensorflow.keras.models import Model"
   ]
  },
  {
   "cell_type": "markdown",
   "id": "2354a53f",
   "metadata": {},
   "source": [
    "## Step 1 & 2. 정제, 정규화, 전처리 및 디코더의 문장에 시작 토큰과 종료 토큰을 넣어주기"
   ]
  },
  {
   "cell_type": "code",
   "execution_count": 2,
   "id": "ebcdb0c6",
   "metadata": {},
   "outputs": [
    {
     "name": "stdout",
     "output_type": "stream",
     "text": [
      "전체 샘플의 수 : 197463\n"
     ]
    },
    {
     "data": {
      "text/html": [
       "<div>\n",
       "<style scoped>\n",
       "    .dataframe tbody tr th:only-of-type {\n",
       "        vertical-align: middle;\n",
       "    }\n",
       "\n",
       "    .dataframe tbody tr th {\n",
       "        vertical-align: top;\n",
       "    }\n",
       "\n",
       "    .dataframe thead th {\n",
       "        text-align: right;\n",
       "    }\n",
       "</style>\n",
       "<table border=\"1\" class=\"dataframe\">\n",
       "  <thead>\n",
       "    <tr style=\"text-align: right;\">\n",
       "      <th></th>\n",
       "      <th>eng</th>\n",
       "      <th>fra</th>\n",
       "      <th>cc</th>\n",
       "    </tr>\n",
       "  </thead>\n",
       "  <tbody>\n",
       "    <tr>\n",
       "      <th>35098</th>\n",
       "      <td>He bragged about it.</td>\n",
       "      <td>Il s'en est vanté.</td>\n",
       "      <td>CC-BY 2.0 (France) Attribution: tatoeba.org #1...</td>\n",
       "    </tr>\n",
       "    <tr>\n",
       "      <th>140475</th>\n",
       "      <td>How long did you stay at the party?</td>\n",
       "      <td>Combien de temps êtes-vous restés à la fête ?</td>\n",
       "      <td>CC-BY 2.0 (France) Attribution: tatoeba.org #2...</td>\n",
       "    </tr>\n",
       "    <tr>\n",
       "      <th>18508</th>\n",
       "      <td>I could kiss you.</td>\n",
       "      <td>Je pourrais t'embrasser.</td>\n",
       "      <td>CC-BY 2.0 (France) Attribution: tatoeba.org #1...</td>\n",
       "    </tr>\n",
       "    <tr>\n",
       "      <th>77934</th>\n",
       "      <td>He began to learn English.</td>\n",
       "      <td>Il a commencé à apprendre l'anglais.</td>\n",
       "      <td>CC-BY 2.0 (France) Attribution: tatoeba.org #2...</td>\n",
       "    </tr>\n",
       "    <tr>\n",
       "      <th>32385</th>\n",
       "      <td>This is really low.</td>\n",
       "      <td>C'est très bas.</td>\n",
       "      <td>CC-BY 2.0 (France) Attribution: tatoeba.org #4...</td>\n",
       "    </tr>\n",
       "  </tbody>\n",
       "</table>\n",
       "</div>"
      ],
      "text/plain": [
       "                                        eng  \\\n",
       "35098                  He bragged about it.   \n",
       "140475  How long did you stay at the party?   \n",
       "18508                     I could kiss you.   \n",
       "77934            He began to learn English.   \n",
       "32385                   This is really low.   \n",
       "\n",
       "                                                  fra  \\\n",
       "35098                              Il s'en est vanté.   \n",
       "140475  Combien de temps êtes-vous restés à la fête ?   \n",
       "18508                        Je pourrais t'embrasser.   \n",
       "77934            Il a commencé à apprendre l'anglais.   \n",
       "32385                                 C'est très bas.   \n",
       "\n",
       "                                                       cc  \n",
       "35098   CC-BY 2.0 (France) Attribution: tatoeba.org #1...  \n",
       "140475  CC-BY 2.0 (France) Attribution: tatoeba.org #2...  \n",
       "18508   CC-BY 2.0 (France) Attribution: tatoeba.org #1...  \n",
       "77934   CC-BY 2.0 (France) Attribution: tatoeba.org #2...  \n",
       "32385   CC-BY 2.0 (France) Attribution: tatoeba.org #4...  "
      ]
     },
     "execution_count": 2,
     "metadata": {},
     "output_type": "execute_result"
    }
   ],
   "source": [
    "# 파일 불러오기\n",
    "file_path = os.getenv('HOME')+'/aiffel/translator_seq2seq/data/fra.txt'\n",
    "lines = pd.read_csv(file_path, names=['eng', 'fra', 'cc'], sep='\\t')\n",
    "print('전체 샘플의 수 :',len(lines))\n",
    "lines.sample(5) #샘플 5개 출력"
   ]
  },
  {
   "cell_type": "code",
   "execution_count": 3,
   "id": "18f8cf3f",
   "metadata": {},
   "outputs": [
    {
     "data": {
      "text/html": [
       "<div>\n",
       "<style scoped>\n",
       "    .dataframe tbody tr th:only-of-type {\n",
       "        vertical-align: middle;\n",
       "    }\n",
       "\n",
       "    .dataframe tbody tr th {\n",
       "        vertical-align: top;\n",
       "    }\n",
       "\n",
       "    .dataframe thead th {\n",
       "        text-align: right;\n",
       "    }\n",
       "</style>\n",
       "<table border=\"1\" class=\"dataframe\">\n",
       "  <thead>\n",
       "    <tr style=\"text-align: right;\">\n",
       "      <th></th>\n",
       "      <th>eng</th>\n",
       "      <th>fra</th>\n",
       "    </tr>\n",
       "  </thead>\n",
       "  <tbody>\n",
       "    <tr>\n",
       "      <th>14037</th>\n",
       "      <td>I fed the horse.</td>\n",
       "      <td>J'ai nourri le cheval.</td>\n",
       "    </tr>\n",
       "    <tr>\n",
       "      <th>15682</th>\n",
       "      <td>Stop squabbling.</td>\n",
       "      <td>Arrêtez de vous chamailler.</td>\n",
       "    </tr>\n",
       "    <tr>\n",
       "      <th>19207</th>\n",
       "      <td>I was very happy.</td>\n",
       "      <td>J'étais très heureuse.</td>\n",
       "    </tr>\n",
       "    <tr>\n",
       "      <th>14674</th>\n",
       "      <td>I'll follow you.</td>\n",
       "      <td>Je te suivrai.</td>\n",
       "    </tr>\n",
       "    <tr>\n",
       "      <th>6537</th>\n",
       "      <td>You're funny.</td>\n",
       "      <td>Vous êtes marrants.</td>\n",
       "    </tr>\n",
       "  </tbody>\n",
       "</table>\n",
       "</div>"
      ],
      "text/plain": [
       "                     eng                          fra\n",
       "14037   I fed the horse.       J'ai nourri le cheval.\n",
       "15682   Stop squabbling.  Arrêtez de vous chamailler.\n",
       "19207  I was very happy.       J'étais très heureuse.\n",
       "14674   I'll follow you.               Je te suivrai.\n",
       "6537       You're funny.          Vous êtes marrants."
      ]
     },
     "execution_count": 3,
     "metadata": {},
     "output_type": "execute_result"
    }
   ],
   "source": [
    "# 컬럼 cc제거 및 3만3천개 샘플 사용\n",
    "lines = lines[['eng', 'fra']][:33000]\n",
    "lines.sample(5)"
   ]
  },
  {
   "cell_type": "code",
   "execution_count": 4,
   "id": "bc8a663e",
   "metadata": {},
   "outputs": [
    {
     "name": "stdout",
     "output_type": "stream",
     "text": [
      "전체 샘플의 수 : 33000\n"
     ]
    },
    {
     "data": {
      "text/html": [
       "<div>\n",
       "<style scoped>\n",
       "    .dataframe tbody tr th:only-of-type {\n",
       "        vertical-align: middle;\n",
       "    }\n",
       "\n",
       "    .dataframe tbody tr th {\n",
       "        vertical-align: top;\n",
       "    }\n",
       "\n",
       "    .dataframe thead th {\n",
       "        text-align: right;\n",
       "    }\n",
       "</style>\n",
       "<table border=\"1\" class=\"dataframe\">\n",
       "  <thead>\n",
       "    <tr style=\"text-align: right;\">\n",
       "      <th></th>\n",
       "      <th>eng</th>\n",
       "      <th>fra</th>\n",
       "    </tr>\n",
       "  </thead>\n",
       "  <tbody>\n",
       "    <tr>\n",
       "      <th>21998</th>\n",
       "      <td>Who painted that?</td>\n",
       "      <td>/t Qui a peint cela ? /n</td>\n",
       "    </tr>\n",
       "    <tr>\n",
       "      <th>18153</th>\n",
       "      <td>He made no reply.</td>\n",
       "      <td>/t Il ne fit pas de réponse. /n</td>\n",
       "    </tr>\n",
       "    <tr>\n",
       "      <th>11279</th>\n",
       "      <td>It's expensive.</td>\n",
       "      <td>/t C'est cher. /n</td>\n",
       "    </tr>\n",
       "    <tr>\n",
       "      <th>21793</th>\n",
       "      <td>What did you say?</td>\n",
       "      <td>/t Qu'avez-vous dit ? /n</td>\n",
       "    </tr>\n",
       "    <tr>\n",
       "      <th>14499</th>\n",
       "      <td>I totally agree.</td>\n",
       "      <td>/t Je suis entièrement d'accord. /n</td>\n",
       "    </tr>\n",
       "  </tbody>\n",
       "</table>\n",
       "</div>"
      ],
      "text/plain": [
       "                     eng                                  fra\n",
       "21998  Who painted that?             /t Qui a peint cela ? /n\n",
       "18153  He made no reply.      /t Il ne fit pas de réponse. /n\n",
       "11279    It's expensive.                    /t C'est cher. /n\n",
       "21793  What did you say?             /t Qu'avez-vous dit ? /n\n",
       "14499   I totally agree.  /t Je suis entièrement d'accord. /n"
      ]
     },
     "execution_count": 4,
     "metadata": {},
     "output_type": "execute_result"
    }
   ],
   "source": [
    "# 시작 토큰과 종료 토큰 추가\n",
    "sos_token = '/t'\n",
    "eos_token = '/n'\n",
    "lines.fra = lines.fra.apply(lambda x : '/t ' + x + ' /n')\n",
    "# fra 각 열에 앞 뒤로 각각 \\t와 \\n을 넣기 \n",
    "\n",
    "print('전체 샘플의 수 :',len(lines))\n",
    "lines.sample(5)"
   ]
  },
  {
   "cell_type": "code",
   "execution_count": 5,
   "id": "21da4f74",
   "metadata": {},
   "outputs": [
    {
     "data": {
      "text/html": [
       "<div>\n",
       "<style scoped>\n",
       "    .dataframe tbody tr th:only-of-type {\n",
       "        vertical-align: middle;\n",
       "    }\n",
       "\n",
       "    .dataframe tbody tr th {\n",
       "        vertical-align: top;\n",
       "    }\n",
       "\n",
       "    .dataframe thead th {\n",
       "        text-align: right;\n",
       "    }\n",
       "</style>\n",
       "<table border=\"1\" class=\"dataframe\">\n",
       "  <thead>\n",
       "    <tr style=\"text-align: right;\">\n",
       "      <th></th>\n",
       "      <th>eng</th>\n",
       "      <th>fra</th>\n",
       "    </tr>\n",
       "  </thead>\n",
       "  <tbody>\n",
       "    <tr>\n",
       "      <th>29967</th>\n",
       "      <td>[i, like, mathematics, .]</td>\n",
       "      <td>[, t, j, aime, les, math, matiques, ., n, ]</td>\n",
       "    </tr>\n",
       "    <tr>\n",
       "      <th>12162</th>\n",
       "      <td>[tom, is, packing, .]</td>\n",
       "      <td>[, t, tom, fait, ses, bagages, ., n, ]</td>\n",
       "    </tr>\n",
       "    <tr>\n",
       "      <th>8922</th>\n",
       "      <td>[tom, might, win, .]</td>\n",
       "      <td>[, t, il, se, pourrait, que, tom, gagne, ., n, ]</td>\n",
       "    </tr>\n",
       "    <tr>\n",
       "      <th>4121</th>\n",
       "      <td>[we, are, here, .]</td>\n",
       "      <td>[, t, nous, y, sommes, ., n, ]</td>\n",
       "    </tr>\n",
       "    <tr>\n",
       "      <th>29370</th>\n",
       "      <td>[how, about, tomorrow, ?]</td>\n",
       "      <td>[, t, que, dis, tu, de, demain, ?, n, ]</td>\n",
       "    </tr>\n",
       "  </tbody>\n",
       "</table>\n",
       "</div>"
      ],
      "text/plain": [
       "                             eng  \\\n",
       "29967  [i, like, mathematics, .]   \n",
       "12162      [tom, is, packing, .]   \n",
       "8922        [tom, might, win, .]   \n",
       "4121          [we, are, here, .]   \n",
       "29370  [how, about, tomorrow, ?]   \n",
       "\n",
       "                                                    fra  \n",
       "29967       [, t, j, aime, les, math, matiques, ., n, ]  \n",
       "12162            [, t, tom, fait, ses, bagages, ., n, ]  \n",
       "8922   [, t, il, se, pourrait, que, tom, gagne, ., n, ]  \n",
       "4121                     [, t, nous, y, sommes, ., n, ]  \n",
       "29370           [, t, que, dis, tu, de, demain, ?, n, ]  "
      ]
     },
     "execution_count": 5,
     "metadata": {},
     "output_type": "execute_result"
    }
   ],
   "source": [
    "def preprocess_sentence_encoder(sentence):\n",
    "    # 소문자로 바꾸기\n",
    "    sentence = sentence.lower().strip()\n",
    "    \n",
    "    # 구두점(Punctuation)을 단어와 분리\n",
    "    sentence = re.sub(r\"([?.!,¿])\", r\" \\1 \", sentence) # 특수문자(구두점) 양쪽에 공백 넣기\n",
    "    sentence = re.sub(r'[\" \"]+', \" \", sentence) # 여러개의 공백은 하나의 공백으로 바꾸기\n",
    "    sentence = re.sub(r\"[^a-zA-Z?.!]+\", \" \", sentence) # a-zA-Z?.!가 아닌 모든 문자를 하나의 공백으로 바꾸기\n",
    "    sentence = sentence.strip() # 다시 양쪽 공백 지우기\n",
    "    sentence = sentence.split(\" \") # 공백을 기준으로 분리하기\n",
    "    return sentence\n",
    "\n",
    "def preprocess_sentence_decoder(sentence):\n",
    "    # 소문자로 바꾸기\n",
    "    sentence = sentence.lower().strip()\n",
    "    \n",
    "    # 구두점(Punctuation)을 단어와 분리\n",
    "    sentence = re.sub(r\"([?.!,¿])\", r\" \\1 \", sentence)\n",
    "    sentence = re.sub(r'[\" \"]+', \" \", sentence)\n",
    "    sentence = re.sub(r\"[^a-zA-Z?.!]+\", \" \", sentence)\n",
    "    sentence = sentence.strip()\n",
    "    sentence = ' ' + sentence + ' '\n",
    "    sentence = sentence.split(\" \")\n",
    "    return sentence\n",
    "\n",
    "lines.eng = lines.eng.apply(lambda x : preprocess_sentence_encoder(x))\n",
    "lines.fra = lines.fra.apply(lambda x : preprocess_sentence_decoder(x))\n",
    "lines.sample(5)"
   ]
  },
  {
   "cell_type": "markdown",
   "id": "2f71c22c",
   "metadata": {},
   "source": [
    "- 구두점을 단어와 분리하기 위해서 처음에 특수문자를 문자열화해서 자르려고 시도했지만 당연히 안됐다. 여러 방법을 찾아보다가 주완님과 상규님의 도움을 받아서 해결했다. 그래서 인공작사가 만들기 문장 전처리를 참고해서 특수문자 양쪽에 공백을 넣고 그 공백을 기준으로 split하면 된다는 생각이 들었고, 그렇게 해결했다.\n",
    "- lambda 사용 방법을 정확하게 모르고 있어서 다시 한 번 찾아봤는데, \"lambda 뒤에 나오는 인수는 함수에서 사용될 변수들을 정의하며 인수에서 정의 된 변수를 함수에 적용시킨 결과를 도출한다.\"라는 말을 보고 lambda 뒤에 함수를 넣기에는 너무 길기 때문에 따로 함수를 정의한 후 넣어주었다."
   ]
  },
  {
   "cell_type": "markdown",
   "id": "ce2b4402",
   "metadata": {},
   "source": [
    "## Step 3. 케라스의 토크나이저로 텍스트를 숫자로 바꾸기"
   ]
  },
  {
   "cell_type": "code",
   "execution_count": 6,
   "id": "057b1ac8",
   "metadata": {},
   "outputs": [],
   "source": [
    "# 토큰화하기\n",
    "# 영어\n",
    "eng_tokenizer = Tokenizer(char_level=True)   # 문자 단위로 Tokenizer를 생성\n",
    "eng_tokenizer.fit_on_texts(lines.eng)               # 33000개의 행을 가진 eng의 각 행에 토큰화를 수행\n",
    "input_text = eng_tokenizer.texts_to_sequences(lines.eng)    # 단어를 숫자값 인덱스로 변환하여 저장\n",
    "\n",
    "# 프랑스어\n",
    "fra_tokenizer = Tokenizer(char_level=True)   # 문자 단위로 Tokenizer를 생성\n",
    "fra_tokenizer.fit_on_texts(lines.fra)                 # 50000개의 행을 가진 fra의 각 행에 토큰화를 수행\n",
    "target_text = fra_tokenizer.texts_to_sequences(lines.fra)     # 단어를 숫자값 인덱스로 변환하여 저장"
   ]
  },
  {
   "cell_type": "code",
   "execution_count": 7,
   "id": "d4097350",
   "metadata": {},
   "outputs": [
    {
     "name": "stdout",
     "output_type": "stream",
     "text": [
      "전체 샘플의 수 : 33000\n",
      "영어 단어장의 크기 : 4671\n",
      "프랑스어 단어장의 크기 : 7453\n",
      "영어 시퀀스의 최대 길이 8\n",
      "프랑스어 시퀀스의 최대 길이 19\n"
     ]
    }
   ],
   "source": [
    "# 단어장 만들기\n",
    "eng_vocab_size = len(eng_tokenizer.word_index) + 1\n",
    "fra_vocab_size = len(fra_tokenizer.word_index) + 1\n",
    "\n",
    "# 영어 데이터와 프랑스어 데이터의 최대 길이(for 패딩)\n",
    "max_eng_seq_len = max([len(line) for line in input_text])\n",
    "max_fra_seq_len = max([len(line) for line in target_text])\n",
    "\n",
    "# 전체적인 통계 정보\n",
    "print('전체 샘플의 수 :',len(lines))\n",
    "print('영어 단어장의 크기 :', eng_vocab_size)\n",
    "print('프랑스어 단어장의 크기 :', fra_vocab_size)\n",
    "print('영어 시퀀스의 최대 길이', max_eng_seq_len)\n",
    "print('프랑스어 시퀀스의 최대 길이', max_fra_seq_len)"
   ]
  },
  {
   "cell_type": "code",
   "execution_count": 8,
   "id": "3c2a6420",
   "metadata": {},
   "outputs": [
    {
     "name": "stdout",
     "output_type": "stream",
     "text": [
      "[[2, 74, 9, 3], [2, 364, 4, 3], [2, 28, 511, 9, 3]]\n",
      "[[2, 74, 9, 3], [2, 364, 4, 3], [2, 28, 511, 9, 3]]\n"
     ]
    }
   ],
   "source": [
    "sos_token = ''\n",
    "eos_token = ''\n",
    "encoder_input = input_text\n",
    "# 종료 토큰 제거\n",
    "decoder_input = [[ char for char in line if char != fra_tokenizer.word_index[eos_token] ] for line in target_text] \n",
    "# 시작 토큰 제거\n",
    "decoder_target = [[ char for char in line if char != fra_tokenizer.word_index[sos_token] ] for line in target_text]\n",
    "\n",
    "print(decoder_input[:3])\n",
    "print(decoder_target[:3])"
   ]
  },
  {
   "cell_type": "code",
   "execution_count": 9,
   "id": "c715ec7a",
   "metadata": {},
   "outputs": [
    {
     "name": "stdout",
     "output_type": "stream",
     "text": [
      "영어 데이터의 크기(shape) : (33000, 8)\n",
      "프랑스어 입력데이터의 크기(shape) : (33000, 19)\n",
      "프랑스어 출력데이터의 크기(shape) : (33000, 19)\n"
     ]
    }
   ],
   "source": [
    "# 패딩하기\n",
    "encoder_input = pad_sequences(encoder_input, maxlen = max_eng_seq_len, padding='post')\n",
    "decoder_input = pad_sequences(decoder_input, maxlen = max_fra_seq_len, padding='post')\n",
    "decoder_target = pad_sequences(decoder_target, maxlen = max_fra_seq_len, padding='post')\n",
    "\n",
    "print('영어 데이터의 크기(shape) :',np.shape(encoder_input))\n",
    "print('프랑스어 입력데이터의 크기(shape) :',np.shape(decoder_input))\n",
    "print('프랑스어 출력데이터의 크기(shape) :',np.shape(decoder_target))"
   ]
  },
  {
   "cell_type": "code",
   "execution_count": 10,
   "id": "ef67c11c",
   "metadata": {},
   "outputs": [],
   "source": [
    "# 테스트 데이터를 분리하기 전 데이터를 섞어주기\n",
    "indices = np.arange(encoder_input.shape[0])\n",
    "np.random.shuffle(indices)\n",
    "\n",
    "encoder_input = encoder_input[indices]\n",
    "decoder_input = decoder_input[indices]\n",
    "decoder_target = decoder_target[indices]"
   ]
  },
  {
   "cell_type": "markdown",
   "id": "2628f932",
   "metadata": {},
   "source": [
    "- 원-핫 인코딩을 넣었을 때 계속해서 커널이 죽는 경우가 발생했다. 다른 사람의 코드를 참고했을 때, 원-핫 인코딩이 들어가있지 않았기 때문에 원-핫 인코딩을 빼고 데이터를 섞어주었다. 경덕님의 도움도 받았는데 embedding을 하기 때문에 따로 원-핫 인코딩을 할 필요가 없다고 하셨다."
   ]
  },
  {
   "cell_type": "code",
   "execution_count": 11,
   "id": "165116cc",
   "metadata": {},
   "outputs": [
    {
     "name": "stdout",
     "output_type": "stream",
     "text": [
      "영어 학습데이터의 크기(shape) : (33000, 8)\n",
      "프랑스어 학습 입력데이터의 크기(shape) : (33000, 19)\n",
      "프랑스어 학습 출력데이터의 크기(shape) : (33000, 19)\n"
     ]
    }
   ],
   "source": [
    "# 33000건 중 3000건 검증데이터로, 나머지를 학습데이터로 분리\n",
    "n_of_val = 3000\n",
    "\n",
    "encoder_input_train = encoder_input[:-n_of_val]\n",
    "decoder_input_train = decoder_input[:-n_of_val]\n",
    "decoder_target_train = decoder_target[:-n_of_val]\n",
    "\n",
    "encoder_input_test = encoder_input[-n_of_val:]\n",
    "decoder_input_test = decoder_input[-n_of_val:]\n",
    "decoder_target_test = decoder_target[-n_of_val:]\n",
    "\n",
    "print('영어 학습데이터의 크기(shape) :',np.shape(encoder_input))\n",
    "print('프랑스어 학습 입력데이터의 크기(shape) :',np.shape(decoder_input))\n",
    "print('프랑스어 학습 출력데이터의 크기(shape) :',np.shape(decoder_target))"
   ]
  },
  {
   "cell_type": "markdown",
   "id": "a6327daa",
   "metadata": {},
   "source": [
    "## Step 4. 임베딩 층(Embedding layer) 사용하기"
   ]
  },
  {
   "cell_type": "code",
   "execution_count": 12,
   "id": "6c71111b",
   "metadata": {},
   "outputs": [],
   "source": [
    "from tensorflow.keras.layers import Input, Embedding, Masking\n",
    "\n",
    "encoder_inputs = Input(shape=(None,))\n",
    "# encoder embedding\n",
    "enc_emb = Embedding(eng_vocab_size, 256, input_length=max_eng_seq_len)(encoder_inputs)\n",
    "enc_masking = Masking(mask_value=0.0)(enc_emb)\n",
    "encoder_lstm = LSTM(units = 256, return_state = True)\n",
    "encoder_outputs, state_h, state_c = encoder_lstm(enc_masking)\n",
    "encoder_states = [state_h, state_c]"
   ]
  },
  {
   "cell_type": "code",
   "execution_count": 13,
   "id": "132ab839",
   "metadata": {},
   "outputs": [],
   "source": [
    "decoder_inputs = Input(shape=(None,))\n",
    "# decoder embedding\n",
    "dec_emb = Embedding(fra_vocab_size, 256)(decoder_inputs)\n",
    "dec_masking = Masking(mask_value=0.0)(dec_emb)\n",
    "decoder_lstm = LSTM(units = 256, return_sequences = True, return_state=True)\n",
    "decoder_outputs, _, _= decoder_lstm(dec_masking, initial_state = encoder_states)\n",
    "decoder_softmax_layer = Dense(fra_vocab_size, activation='softmax')\n",
    "decoder_outputs = decoder_softmax_layer(decoder_outputs)"
   ]
  },
  {
   "cell_type": "markdown",
   "id": "d92de5cc",
   "metadata": {},
   "source": [
    "## Step 5. 모델 구현하기"
   ]
  },
  {
   "cell_type": "code",
   "execution_count": 14,
   "id": "de034422",
   "metadata": {},
   "outputs": [
    {
     "name": "stdout",
     "output_type": "stream",
     "text": [
      "Model: \"model\"\n",
      "__________________________________________________________________________________________________\n",
      "Layer (type)                    Output Shape         Param #     Connected to                     \n",
      "==================================================================================================\n",
      "input_1 (InputLayer)            [(None, None)]       0                                            \n",
      "__________________________________________________________________________________________________\n",
      "input_2 (InputLayer)            [(None, None)]       0                                            \n",
      "__________________________________________________________________________________________________\n",
      "embedding (Embedding)           (None, None, 256)    1195776     input_1[0][0]                    \n",
      "__________________________________________________________________________________________________\n",
      "embedding_1 (Embedding)         (None, None, 256)    1907968     input_2[0][0]                    \n",
      "__________________________________________________________________________________________________\n",
      "masking (Masking)               (None, None, 256)    0           embedding[0][0]                  \n",
      "__________________________________________________________________________________________________\n",
      "masking_1 (Masking)             (None, None, 256)    0           embedding_1[0][0]                \n",
      "__________________________________________________________________________________________________\n",
      "lstm (LSTM)                     [(None, 256), (None, 525312      masking[0][0]                    \n",
      "__________________________________________________________________________________________________\n",
      "lstm_1 (LSTM)                   [(None, None, 256),  525312      masking_1[0][0]                  \n",
      "                                                                 lstm[0][1]                       \n",
      "                                                                 lstm[0][2]                       \n",
      "__________________________________________________________________________________________________\n",
      "dense (Dense)                   (None, None, 7453)   1915421     lstm_1[0][0]                     \n",
      "==================================================================================================\n",
      "Total params: 6,069,789\n",
      "Trainable params: 6,069,789\n",
      "Non-trainable params: 0\n",
      "__________________________________________________________________________________________________\n"
     ]
    }
   ],
   "source": [
    "model = Model([encoder_inputs, decoder_inputs], decoder_outputs)\n",
    "model.compile(optimizer=\"adam\", loss='sparse_categorical_crossentropy', metrics=['accuracy'])\n",
    "\n",
    "model.summary()"
   ]
  },
  {
   "cell_type": "code",
   "execution_count": 15,
   "id": "3b405e41",
   "metadata": {},
   "outputs": [
    {
     "name": "stdout",
     "output_type": "stream",
     "text": [
      "Epoch 1/50\n",
      "938/938 [==============================] - 26s 20ms/step - loss: 1.1848 - accuracy: 0.8315 - val_loss: 0.5651 - val_accuracy: 0.9264\n",
      "Epoch 2/50\n",
      "938/938 [==============================] - 16s 18ms/step - loss: 0.4002 - accuracy: 0.9480 - val_loss: 0.3244 - val_accuracy: 0.9608\n",
      "Epoch 3/50\n",
      "938/938 [==============================] - 16s 17ms/step - loss: 0.2285 - accuracy: 0.9710 - val_loss: 0.2181 - val_accuracy: 0.9756\n",
      "Epoch 4/50\n",
      "938/938 [==============================] - 16s 18ms/step - loss: 0.1359 - accuracy: 0.9825 - val_loss: 0.1604 - val_accuracy: 0.9832\n",
      "Epoch 5/50\n",
      "938/938 [==============================] - 16s 17ms/step - loss: 0.0800 - accuracy: 0.9891 - val_loss: 0.1273 - val_accuracy: 0.9875\n",
      "Epoch 6/50\n",
      "938/938 [==============================] - 16s 17ms/step - loss: 0.0448 - accuracy: 0.9935 - val_loss: 0.1061 - val_accuracy: 0.9903\n",
      "Epoch 7/50\n",
      "938/938 [==============================] - 16s 17ms/step - loss: 0.0237 - accuracy: 0.9957 - val_loss: 0.0949 - val_accuracy: 0.9919\n",
      "Epoch 8/50\n",
      "938/938 [==============================] - 16s 18ms/step - loss: 0.0120 - accuracy: 0.9979 - val_loss: 0.0879 - val_accuracy: 0.9925\n",
      "Epoch 9/50\n",
      "938/938 [==============================] - 16s 18ms/step - loss: 0.0051 - accuracy: 0.9995 - val_loss: 0.0829 - val_accuracy: 0.9930\n",
      "Epoch 10/50\n",
      "938/938 [==============================] - 16s 17ms/step - loss: 0.0019 - accuracy: 0.9999 - val_loss: 0.0792 - val_accuracy: 0.9931\n",
      "Epoch 11/50\n",
      "938/938 [==============================] - 16s 17ms/step - loss: 6.9177e-04 - accuracy: 1.0000 - val_loss: 0.0774 - val_accuracy: 0.9933\n",
      "Epoch 12/50\n",
      "938/938 [==============================] - 16s 17ms/step - loss: 3.1896e-04 - accuracy: 1.0000 - val_loss: 0.0762 - val_accuracy: 0.9935\n",
      "Epoch 13/50\n",
      "938/938 [==============================] - 16s 17ms/step - loss: 1.8215e-04 - accuracy: 1.0000 - val_loss: 0.0747 - val_accuracy: 0.9936\n",
      "Epoch 14/50\n",
      "938/938 [==============================] - 16s 17ms/step - loss: 1.1727e-04 - accuracy: 1.0000 - val_loss: 0.0738 - val_accuracy: 0.9937\n",
      "Epoch 15/50\n",
      "938/938 [==============================] - 16s 17ms/step - loss: 7.9106e-05 - accuracy: 1.0000 - val_loss: 0.0725 - val_accuracy: 0.9938\n",
      "Epoch 16/50\n",
      "938/938 [==============================] - 16s 17ms/step - loss: 5.4511e-05 - accuracy: 1.0000 - val_loss: 0.0720 - val_accuracy: 0.9938\n",
      "Epoch 17/50\n",
      "938/938 [==============================] - 16s 17ms/step - loss: 3.8536e-05 - accuracy: 1.0000 - val_loss: 0.0711 - val_accuracy: 0.9939\n",
      "Epoch 18/50\n",
      "938/938 [==============================] - 16s 17ms/step - loss: 2.8052e-05 - accuracy: 1.0000 - val_loss: 0.0704 - val_accuracy: 0.9939\n",
      "Epoch 19/50\n",
      "938/938 [==============================] - 16s 17ms/step - loss: 2.0877e-05 - accuracy: 1.0000 - val_loss: 0.0699 - val_accuracy: 0.9939\n",
      "Epoch 20/50\n",
      "938/938 [==============================] - 16s 17ms/step - loss: 1.5938e-05 - accuracy: 1.0000 - val_loss: 0.0694 - val_accuracy: 0.9940\n",
      "Epoch 21/50\n",
      "938/938 [==============================] - 16s 17ms/step - loss: 1.2425e-05 - accuracy: 1.0000 - val_loss: 0.0694 - val_accuracy: 0.9940\n",
      "Epoch 22/50\n",
      "938/938 [==============================] - 16s 17ms/step - loss: 9.9034e-06 - accuracy: 1.0000 - val_loss: 0.0692 - val_accuracy: 0.9941\n",
      "Epoch 23/50\n",
      "938/938 [==============================] - 16s 17ms/step - loss: 8.0385e-06 - accuracy: 1.0000 - val_loss: 0.0691 - val_accuracy: 0.9941\n",
      "Epoch 24/50\n",
      "938/938 [==============================] - 16s 17ms/step - loss: 6.6523e-06 - accuracy: 1.0000 - val_loss: 0.0688 - val_accuracy: 0.9942\n",
      "Epoch 25/50\n",
      "938/938 [==============================] - 16s 17ms/step - loss: 5.6081e-06 - accuracy: 1.0000 - val_loss: 0.0689 - val_accuracy: 0.9941\n",
      "Epoch 26/50\n",
      "938/938 [==============================] - 16s 17ms/step - loss: 4.8218e-06 - accuracy: 1.0000 - val_loss: 0.0689 - val_accuracy: 0.9941\n",
      "Epoch 27/50\n",
      "938/938 [==============================] - 16s 17ms/step - loss: 4.2146e-06 - accuracy: 1.0000 - val_loss: 0.0690 - val_accuracy: 0.9942\n",
      "Epoch 28/50\n",
      "938/938 [==============================] - 16s 18ms/step - loss: 3.7505e-06 - accuracy: 1.0000 - val_loss: 0.0692 - val_accuracy: 0.9941\n",
      "Epoch 29/50\n",
      "938/938 [==============================] - 16s 17ms/step - loss: 3.3674e-06 - accuracy: 1.0000 - val_loss: 0.0692 - val_accuracy: 0.9941\n",
      "Epoch 30/50\n",
      "938/938 [==============================] - 16s 17ms/step - loss: 3.0558e-06 - accuracy: 1.0000 - val_loss: 0.0691 - val_accuracy: 0.9941\n",
      "Epoch 31/50\n",
      "938/938 [==============================] - 16s 17ms/step - loss: 2.7974e-06 - accuracy: 1.0000 - val_loss: 0.0691 - val_accuracy: 0.9941\n",
      "Epoch 32/50\n",
      "938/938 [==============================] - 16s 17ms/step - loss: 2.5774e-06 - accuracy: 1.0000 - val_loss: 0.0692 - val_accuracy: 0.9942\n",
      "Epoch 33/50\n",
      "938/938 [==============================] - 16s 17ms/step - loss: 2.3916e-06 - accuracy: 1.0000 - val_loss: 0.0692 - val_accuracy: 0.9941\n",
      "Epoch 34/50\n",
      "938/938 [==============================] - 16s 17ms/step - loss: 2.2320e-06 - accuracy: 1.0000 - val_loss: 0.0694 - val_accuracy: 0.9942\n",
      "Epoch 35/50\n",
      "938/938 [==============================] - 16s 17ms/step - loss: 2.0922e-06 - accuracy: 1.0000 - val_loss: 0.0695 - val_accuracy: 0.9942\n",
      "Epoch 36/50\n",
      "938/938 [==============================] - 16s 17ms/step - loss: 1.9710e-06 - accuracy: 1.0000 - val_loss: 0.0696 - val_accuracy: 0.9942\n",
      "Epoch 37/50\n",
      "938/938 [==============================] - 16s 17ms/step - loss: 1.8621e-06 - accuracy: 1.0000 - val_loss: 0.0695 - val_accuracy: 0.9942\n",
      "Epoch 38/50\n",
      "938/938 [==============================] - 16s 17ms/step - loss: 1.7652e-06 - accuracy: 1.0000 - val_loss: 0.0696 - val_accuracy: 0.9942\n",
      "Epoch 39/50\n",
      "938/938 [==============================] - 16s 17ms/step - loss: 1.6777e-06 - accuracy: 1.0000 - val_loss: 0.0696 - val_accuracy: 0.9942\n",
      "Epoch 40/50\n",
      "938/938 [==============================] - 16s 17ms/step - loss: 1.5991e-06 - accuracy: 1.0000 - val_loss: 0.0696 - val_accuracy: 0.9942\n",
      "Epoch 41/50\n",
      "938/938 [==============================] - 16s 17ms/step - loss: 1.5271e-06 - accuracy: 1.0000 - val_loss: 0.0698 - val_accuracy: 0.9942\n",
      "Epoch 42/50\n",
      "938/938 [==============================] - 16s 17ms/step - loss: 1.4619e-06 - accuracy: 1.0000 - val_loss: 0.0697 - val_accuracy: 0.9942\n",
      "Epoch 43/50\n",
      "938/938 [==============================] - 16s 17ms/step - loss: 1.4019e-06 - accuracy: 1.0000 - val_loss: 0.0698 - val_accuracy: 0.9942\n",
      "Epoch 44/50\n",
      "938/938 [==============================] - 16s 17ms/step - loss: 1.3470e-06 - accuracy: 1.0000 - val_loss: 0.0698 - val_accuracy: 0.9942\n",
      "Epoch 45/50\n",
      "938/938 [==============================] - 16s 17ms/step - loss: 1.2963e-06 - accuracy: 1.0000 - val_loss: 0.0698 - val_accuracy: 0.9942\n",
      "Epoch 46/50\n",
      "938/938 [==============================] - 16s 17ms/step - loss: 1.2492e-06 - accuracy: 1.0000 - val_loss: 0.0699 - val_accuracy: 0.9942\n",
      "Epoch 47/50\n",
      "938/938 [==============================] - 16s 17ms/step - loss: 1.2057e-06 - accuracy: 1.0000 - val_loss: 0.0698 - val_accuracy: 0.9942\n",
      "Epoch 48/50\n",
      "938/938 [==============================] - 16s 17ms/step - loss: 1.1652e-06 - accuracy: 1.0000 - val_loss: 0.0699 - val_accuracy: 0.9942\n",
      "Epoch 49/50\n",
      "938/938 [==============================] - 16s 17ms/step - loss: 1.1271e-06 - accuracy: 1.0000 - val_loss: 0.0699 - val_accuracy: 0.9942\n",
      "Epoch 50/50\n",
      "938/938 [==============================] - 16s 17ms/step - loss: 1.0918e-06 - accuracy: 1.0000 - val_loss: 0.0700 - val_accuracy: 0.9942\n"
     ]
    }
   ],
   "source": [
    "history = model.fit(x=[encoder_input_train, decoder_input_train], y=decoder_target_train, \\\n",
    "         validation_data = ([encoder_input_test, decoder_input_test], decoder_target_test),\n",
    "         batch_size=32, epochs=50)"
   ]
  },
  {
   "cell_type": "code",
   "execution_count": 24,
   "id": "2d271bfc",
   "metadata": {},
   "outputs": [
    {
     "data": {
      "image/png": "[encoded data removed]",
      "text/plain": [
       "<Figure size 432x288 with 1 Axes>"
      ]
     },
     "metadata": {
      "needs_background": "light"
     },
     "output_type": "display_data"
    }
   ],
   "source": [
    "# 시각화\n",
    "import matplotlib.pyplot as plt\n",
    "\n",
    "loss = history.history['loss']\n",
    "val_loss = history.history['val_loss']\n",
    "\n",
    "epochs = range(1, len(loss) + 1)\n",
    "\n",
    "plt.plot(epochs, loss, 'bo', label='Training loss') # bo는 파란색 점\n",
    "plt.plot(epochs, val_loss, 'b', label='Validation loss') # b는 파란색 실선\n",
    "plt.title('Training and validation loss')\n",
    "plt.xlabel('Epochs')\n",
    "plt.ylabel('Loss')\n",
    "plt.legend()\n",
    "\n",
    "plt.show()"
   ]
  },
  {
   "cell_type": "markdown",
   "id": "9653da09",
   "metadata": {},
   "source": [
    "## Step 6. 모델 평가하기"
   ]
  },
  {
   "cell_type": "code",
   "execution_count": 16,
   "id": "8beadca7",
   "metadata": {},
   "outputs": [
    {
     "name": "stdout",
     "output_type": "stream",
     "text": [
      "Model: \"model_1\"\n",
      "_________________________________________________________________\n",
      "Layer (type)                 Output Shape              Param #   \n",
      "=================================================================\n",
      "input_1 (InputLayer)         [(None, None)]            0         \n",
      "_________________________________________________________________\n",
      "embedding (Embedding)        (None, None, 256)         1195776   \n",
      "_________________________________________________________________\n",
      "masking (Masking)            (None, None, 256)         0         \n",
      "_________________________________________________________________\n",
      "lstm (LSTM)                  [(None, 256), (None, 256) 525312    \n",
      "=================================================================\n",
      "Total params: 1,721,088\n",
      "Trainable params: 1,721,088\n",
      "Non-trainable params: 0\n",
      "_________________________________________________________________\n"
     ]
    }
   ],
   "source": [
    "# 인코더 정의\n",
    "encoder_model = Model(inputs = encoder_inputs, outputs = encoder_states)\n",
    "encoder_model.summary()"
   ]
  },
  {
   "cell_type": "code",
   "execution_count": 17,
   "id": "201ec9ac",
   "metadata": {},
   "outputs": [],
   "source": [
    "# 디코더 설계\n",
    "decoder_state_input_h = Input(shape=(256,))\n",
    "decoder_state_input_c = Input(shape=(256,))\n",
    "decoder_states_inputs = [decoder_state_input_h, decoder_state_input_c]\n",
    "dec_emb2 = Embedding(fra_vocab_size, 256)(decoder_inputs)\n",
    "decoder_outputs2, state_h2, state_c2 = decoder_lstm(dec_emb2, initial_state = decoder_states_inputs)\n",
    "decoder_states2 = [state_h2, state_c2]\n",
    "decoder_outputs2 = decoder_softmax_layer(decoder_outputs2)"
   ]
  },
  {
   "cell_type": "code",
   "execution_count": 18,
   "id": "539a8c22",
   "metadata": {},
   "outputs": [
    {
     "name": "stdout",
     "output_type": "stream",
     "text": [
      "Model: \"model_2\"\n",
      "__________________________________________________________________________________________________\n",
      "Layer (type)                    Output Shape         Param #     Connected to                     \n",
      "==================================================================================================\n",
      "input_2 (InputLayer)            [(None, None)]       0                                            \n",
      "__________________________________________________________________________________________________\n",
      "embedding_2 (Embedding)         (None, None, 256)    1907968     input_2[0][0]                    \n",
      "__________________________________________________________________________________________________\n",
      "input_3 (InputLayer)            [(None, 256)]        0                                            \n",
      "__________________________________________________________________________________________________\n",
      "input_4 (InputLayer)            [(None, 256)]        0                                            \n",
      "__________________________________________________________________________________________________\n",
      "lstm_1 (LSTM)                   [(None, None, 256),  525312      embedding_2[0][0]                \n",
      "                                                                 input_3[0][0]                    \n",
      "                                                                 input_4[0][0]                    \n",
      "__________________________________________________________________________________________________\n",
      "dense (Dense)                   (None, None, 7453)   1915421     lstm_1[1][0]                     \n",
      "==================================================================================================\n",
      "Total params: 4,348,701\n",
      "Trainable params: 4,348,701\n",
      "Non-trainable params: 0\n",
      "__________________________________________________________________________________________________\n"
     ]
    }
   ],
   "source": [
    "# 디코더 출력층 재설계\n",
    "decoder_model = Model(inputs=[decoder_inputs] + decoder_states_inputs, outputs=[decoder_outputs2] + decoder_states2)\n",
    "decoder_model.summary()"
   ]
  },
  {
   "cell_type": "code",
   "execution_count": 19,
   "id": "9933bc82",
   "metadata": {},
   "outputs": [],
   "source": [
    "# 단어에서 정수로, 정수에서 단어로 바꾸는 사전 만들기(테스트 결과 해석을 위해서)\n",
    "eng2idx = eng_tokenizer.word_index\n",
    "fra2idx = fra_tokenizer.word_index\n",
    "idx2eng = eng_tokenizer.index_word\n",
    "idx2fra = fra_tokenizer.index_word"
   ]
  },
  {
   "cell_type": "code",
   "execution_count": 20,
   "id": "6447b4f1",
   "metadata": {},
   "outputs": [],
   "source": [
    "# decode_sequence() 함수만들기\n",
    "def decode_sequence(input_seq):\n",
    "    # 입력으로부터 인코더의 상태를 얻음\n",
    "    states_value = encoder_model.predict(input_seq)\n",
    "\n",
    "    # 에 해당하는 원-핫 벡터 생성\n",
    "    target_seq = np.zeros((1,1))\n",
    "    target_seq[0, 0] = fra2idx['']\n",
    "    \n",
    "    stop_condition = False\n",
    "    decoded_sentence = \"\"\n",
    "\n",
    "    # stop_condition이 True가 될 때까지 루프 반복\n",
    "    while not stop_condition:\n",
    "        # 이점 시점의 상태 states_value를 현 시점의 초기 상태로 사용\n",
    "        output_tokens, h, c = decoder_model.predict([target_seq] + states_value)\n",
    "\n",
    "        # 예측 결과를 문자로 변환\n",
    "        sampled_token_index = np.argmax(output_tokens[0, -1, :])\n",
    "        sampled_char = idx2fra[sampled_token_index]\n",
    "\n",
    "        # 현재 시점의 예측 문자를 예측 문장에 추가\n",
    "        decoded_sentence += ' '+sampled_char\n",
    "\n",
    "        # 에 도달하거나 최대 길이를 넘으면 중단.\n",
    "        if (sampled_char == '' or\n",
    "           len(decoded_sentence) > max_fra_seq_len):\n",
    "            stop_condition = True\n",
    "\n",
    "        # 현재 시점의 예측 결과를 다음 시점의 입력으로 사용하기 위해 저장\n",
    "        target_seq = np.zeros((1, 1))\n",
    "        target_seq[0, 0] = sampled_token_index\n",
    "\n",
    "        # 현재 시점의 상태를 다음 시점의 상태로 사용하기 위해 저장\n",
    "        states_value = [h, c]\n",
    "\n",
    "    return decoded_sentence"
   ]
  },
  {
   "cell_type": "code",
   "execution_count": 25,
   "id": "c8faa744",
   "metadata": {},
   "outputs": [],
   "source": [
    "# 원문의 정수 시퀀스를 텍스트 시퀀스로 변환\n",
    "def seq2src(input_seq):\n",
    "    temp=''\n",
    "    for i in input_seq:\n",
    "        if(i!=0):\n",
    "            temp = temp + idx2eng[i]+' '\n",
    "    return temp\n",
    "\n",
    "\n",
    "# 번역문의 정수 시퀀스를 텍스트 시퀀스로 변환\n",
    "def seq2tar(input_seq):\n",
    "    temp=''\n",
    "    for i in input_seq:\n",
    "        if((i!=0 and i!=fra2idx['']) and i!=fra2idx['']):\n",
    "            temp = temp + idx2fra[i] + ' '\n",
    "    return temp"
   ]
  },
  {
   "cell_type": "code",
   "execution_count": 26,
   "id": "d5277e1b",
   "metadata": {},
   "outputs": [
    {
     "name": "stdout",
     "output_type": "stream",
     "text": [
      "-----------------------------------\n",
      "입력 문장: this is silly . \n",
      "정답 문장: t c est idiot ! n \n",
      "번역기가 번역한 문장:  t t t chichement chichemen\n",
      "-----------------------------------\n",
      "입력 문장: can you forgive me ? \n",
      "정답 문장: t peux tu me pardonner ? n \n",
      "번역기가 번역한 문장:  t t t chichement chichemen\n",
      "-----------------------------------\n",
      "입력 문장: you have to go . \n",
      "정답 문장: t il vous faut partir . n \n",
      "번역기가 번역한 문장:  t t t chichement chichemen\n",
      "-----------------------------------\n",
      "입력 문장: i ve upset you . \n",
      "정답 문장: t je t ai contrari e . n \n",
      "번역기가 번역한 문장:  t t t chichement chichemen\n"
     ]
    },
    {
     "ename": "AttributeError",
     "evalue": "'int' object has no attribute 'assign'",
     "output_type": "error",
     "traceback": [
      "\u001b[0;31m---------------------------------------------------------------------------\u001b[0m",
      "\u001b[0;31mAttributeError\u001b[0m                            Traceback (most recent call last)",
      "\u001b[0;32m/opt/conda/lib/python3.9/site-packages/keras/engine/data_adapter.py\u001b[0m in \u001b[0;36m_truncate_execution_to_epoch\u001b[0;34m(self)\u001b[0m\n\u001b[1;32m   1197\u001b[0m       \u001b[0;32mif\u001b[0m \u001b[0mshould_truncate\u001b[0m\u001b[0;34m:\u001b[0m\u001b[0;34m\u001b[0m\u001b[0;34m\u001b[0m\u001b[0m\n\u001b[0;32m-> 1198\u001b[0;31m         \u001b[0mself\u001b[0m\u001b[0;34m.\u001b[0m\u001b[0m_steps_per_execution\u001b[0m\u001b[0;34m.\u001b[0m\u001b[0massign\u001b[0m\u001b[0;34m(\u001b[0m\u001b[0mself\u001b[0m\u001b[0;34m.\u001b[0m\u001b[0m_inferred_steps\u001b[0m\u001b[0;34m)\u001b[0m\u001b[0;34m\u001b[0m\u001b[0;34m\u001b[0m\u001b[0m\n\u001b[0m\u001b[1;32m   1199\u001b[0m         \u001b[0mself\u001b[0m\u001b[0;34m.\u001b[0m\u001b[0m_steps_per_execution_value\u001b[0m \u001b[0;34m=\u001b[0m \u001b[0mself\u001b[0m\u001b[0;34m.\u001b[0m\u001b[0m_inferred_steps\u001b[0m\u001b[0;34m\u001b[0m\u001b[0;34m\u001b[0m\u001b[0m\n",
      "\u001b[0;31mAttributeError\u001b[0m: 'int' object has no attribute 'assign'",
      "\nDuring handling of the above exception, another exception occurred:\n",
      "\u001b[0;31mAttributeError\u001b[0m                            Traceback (most recent call last)",
      "\u001b[0;32m/tmp/ipykernel_819/3905126911.py\u001b[0m in \u001b[0;36m<module>\u001b[0;34m\u001b[0m\n\u001b[1;32m      2\u001b[0m \u001b[0;32mfor\u001b[0m \u001b[0mseq_index\u001b[0m \u001b[0;32min\u001b[0m \u001b[0;34m[\u001b[0m\u001b[0;36m1\u001b[0m\u001b[0;34m,\u001b[0m\u001b[0;36m100\u001b[0m\u001b[0;34m,\u001b[0m\u001b[0;36m333\u001b[0m\u001b[0;34m,\u001b[0m\u001b[0;36m1004\u001b[0m\u001b[0;34m,\u001b[0m\u001b[0;36m3000\u001b[0m\u001b[0;34m]\u001b[0m\u001b[0;34m:\u001b[0m\u001b[0;34m\u001b[0m\u001b[0;34m\u001b[0m\u001b[0m\n\u001b[1;32m      3\u001b[0m     \u001b[0minput_seq\u001b[0m \u001b[0;34m=\u001b[0m \u001b[0mencoder_input_test\u001b[0m\u001b[0;34m[\u001b[0m\u001b[0mseq_index\u001b[0m\u001b[0;34m:\u001b[0m \u001b[0mseq_index\u001b[0m \u001b[0;34m+\u001b[0m \u001b[0;36m1\u001b[0m\u001b[0;34m]\u001b[0m\u001b[0;34m\u001b[0m\u001b[0;34m\u001b[0m\u001b[0m\n\u001b[0;32m----> 4\u001b[0;31m     \u001b[0mdecoded_sentence\u001b[0m \u001b[0;34m=\u001b[0m \u001b[0mdecode_sequence\u001b[0m\u001b[0;34m(\u001b[0m\u001b[0minput_seq\u001b[0m\u001b[0;34m)\u001b[0m\u001b[0;34m\u001b[0m\u001b[0;34m\u001b[0m\u001b[0m\n\u001b[0m\u001b[1;32m      5\u001b[0m     \u001b[0mprint\u001b[0m\u001b[0;34m(\u001b[0m\u001b[0;36m35\u001b[0m \u001b[0;34m*\u001b[0m \u001b[0;34m\"-\"\u001b[0m\u001b[0;34m)\u001b[0m\u001b[0;34m\u001b[0m\u001b[0;34m\u001b[0m\u001b[0m\n\u001b[1;32m      6\u001b[0m     \u001b[0mprint\u001b[0m\u001b[0;34m(\u001b[0m\u001b[0;34m'입력 문장:'\u001b[0m\u001b[0;34m,\u001b[0m \u001b[0mseq2src\u001b[0m\u001b[0;34m(\u001b[0m\u001b[0mencoder_input_test\u001b[0m\u001b[0;34m[\u001b[0m\u001b[0mseq_index\u001b[0m\u001b[0;34m]\u001b[0m\u001b[0;34m)\u001b[0m\u001b[0;34m)\u001b[0m\u001b[0;34m\u001b[0m\u001b[0;34m\u001b[0m\u001b[0m\n",
      "\u001b[0;32m/tmp/ipykernel_819/28961154.py\u001b[0m in \u001b[0;36mdecode_sequence\u001b[0;34m(input_seq)\u001b[0m\n\u001b[1;32m      2\u001b[0m \u001b[0;32mdef\u001b[0m \u001b[0mdecode_sequence\u001b[0m\u001b[0;34m(\u001b[0m\u001b[0minput_seq\u001b[0m\u001b[0;34m)\u001b[0m\u001b[0;34m:\u001b[0m\u001b[0;34m\u001b[0m\u001b[0;34m\u001b[0m\u001b[0m\n\u001b[1;32m      3\u001b[0m     \u001b[0;31m# 입력으로부터 인코더의 상태를 얻음\u001b[0m\u001b[0;34m\u001b[0m\u001b[0;34m\u001b[0m\u001b[0m\n\u001b[0;32m----> 4\u001b[0;31m     \u001b[0mstates_value\u001b[0m \u001b[0;34m=\u001b[0m \u001b[0mencoder_model\u001b[0m\u001b[0;34m.\u001b[0m\u001b[0mpredict\u001b[0m\u001b[0;34m(\u001b[0m\u001b[0minput_seq\u001b[0m\u001b[0;34m)\u001b[0m\u001b[0;34m\u001b[0m\u001b[0;34m\u001b[0m\u001b[0m\n\u001b[0m\u001b[1;32m      5\u001b[0m \u001b[0;34m\u001b[0m\u001b[0m\n\u001b[1;32m      6\u001b[0m     \u001b[0;31m# 에 해당하는 원-핫 벡터 생성\u001b[0m\u001b[0;34m\u001b[0m\u001b[0;34m\u001b[0m\u001b[0m\n",
      "\u001b[0;32m/opt/conda/lib/python3.9/site-packages/keras/engine/training.py\u001b[0m in \u001b[0;36mpredict\u001b[0;34m(self, x, batch_size, verbose, steps, callbacks, max_queue_size, workers, use_multiprocessing)\u001b[0m\n\u001b[1;32m   1745\u001b[0m       \u001b[0mcallbacks\u001b[0m\u001b[0;34m.\u001b[0m\u001b[0mon_predict_begin\u001b[0m\u001b[0;34m(\u001b[0m\u001b[0;34m)\u001b[0m\u001b[0;34m\u001b[0m\u001b[0;34m\u001b[0m\u001b[0m\n\u001b[1;32m   1746\u001b[0m       \u001b[0mbatch_outputs\u001b[0m \u001b[0;34m=\u001b[0m \u001b[0;32mNone\u001b[0m\u001b[0;34m\u001b[0m\u001b[0;34m\u001b[0m\u001b[0m\n\u001b[0;32m-> 1747\u001b[0;31m       \u001b[0;32mfor\u001b[0m \u001b[0m_\u001b[0m\u001b[0;34m,\u001b[0m \u001b[0miterator\u001b[0m \u001b[0;32min\u001b[0m \u001b[0mdata_handler\u001b[0m\u001b[0;34m.\u001b[0m\u001b[0menumerate_epochs\u001b[0m\u001b[0;34m(\u001b[0m\u001b[0;34m)\u001b[0m\u001b[0;34m:\u001b[0m  \u001b[0;31m# Single epoch.\u001b[0m\u001b[0;34m\u001b[0m\u001b[0;34m\u001b[0m\u001b[0m\n\u001b[0m\u001b[1;32m   1748\u001b[0m         \u001b[0;32mwith\u001b[0m \u001b[0mdata_handler\u001b[0m\u001b[0;34m.\u001b[0m\u001b[0mcatch_stop_iteration\u001b[0m\u001b[0;34m(\u001b[0m\u001b[0;34m)\u001b[0m\u001b[0;34m:\u001b[0m\u001b[0;34m\u001b[0m\u001b[0;34m\u001b[0m\u001b[0m\n\u001b[1;32m   1749\u001b[0m           \u001b[0;32mfor\u001b[0m \u001b[0mstep\u001b[0m \u001b[0;32min\u001b[0m \u001b[0mdata_handler\u001b[0m\u001b[0;34m.\u001b[0m\u001b[0msteps\u001b[0m\u001b[0;34m(\u001b[0m\u001b[0;34m)\u001b[0m\u001b[0;34m:\u001b[0m\u001b[0;34m\u001b[0m\u001b[0;34m\u001b[0m\u001b[0m\n",
      "\u001b[0;32m/opt/conda/lib/python3.9/site-packages/keras/engine/data_adapter.py\u001b[0m in \u001b[0;36menumerate_epochs\u001b[0;34m(self)\u001b[0m\n\u001b[1;32m   1177\u001b[0m   \u001b[0;32mdef\u001b[0m \u001b[0menumerate_epochs\u001b[0m\u001b[0;34m(\u001b[0m\u001b[0mself\u001b[0m\u001b[0;34m)\u001b[0m\u001b[0;34m:\u001b[0m\u001b[0;34m\u001b[0m\u001b[0;34m\u001b[0m\u001b[0m\n\u001b[1;32m   1178\u001b[0m     \u001b[0;34m\"\"\"Yields `(epoch, tf.data.Iterator)`.\"\"\"\u001b[0m\u001b[0;34m\u001b[0m\u001b[0;34m\u001b[0m\u001b[0m\n\u001b[0;32m-> 1179\u001b[0;31m     \u001b[0;32mwith\u001b[0m \u001b[0mself\u001b[0m\u001b[0;34m.\u001b[0m\u001b[0m_truncate_execution_to_epoch\u001b[0m\u001b[0;34m(\u001b[0m\u001b[0;34m)\u001b[0m\u001b[0;34m:\u001b[0m\u001b[0;34m\u001b[0m\u001b[0;34m\u001b[0m\u001b[0m\n\u001b[0m\u001b[1;32m   1180\u001b[0m       \u001b[0mdata_iterator\u001b[0m \u001b[0;34m=\u001b[0m \u001b[0miter\u001b[0m\u001b[0;34m(\u001b[0m\u001b[0mself\u001b[0m\u001b[0;34m.\u001b[0m\u001b[0m_dataset\u001b[0m\u001b[0;34m)\u001b[0m\u001b[0;34m\u001b[0m\u001b[0;34m\u001b[0m\u001b[0m\n\u001b[1;32m   1181\u001b[0m       \u001b[0;32mfor\u001b[0m \u001b[0mepoch\u001b[0m \u001b[0;32min\u001b[0m \u001b[0mrange\u001b[0m\u001b[0;34m(\u001b[0m\u001b[0mself\u001b[0m\u001b[0;34m.\u001b[0m\u001b[0m_initial_epoch\u001b[0m\u001b[0;34m,\u001b[0m \u001b[0mself\u001b[0m\u001b[0;34m.\u001b[0m\u001b[0m_epochs\u001b[0m\u001b[0;34m)\u001b[0m\u001b[0;34m:\u001b[0m\u001b[0;34m\u001b[0m\u001b[0;34m\u001b[0m\u001b[0m\n",
      "\u001b[0;32m/opt/conda/lib/python3.9/contextlib.py\u001b[0m in \u001b[0;36m__enter__\u001b[0;34m(self)\u001b[0m\n\u001b[1;32m    117\u001b[0m         \u001b[0;32mdel\u001b[0m \u001b[0mself\u001b[0m\u001b[0;34m.\u001b[0m\u001b[0margs\u001b[0m\u001b[0;34m,\u001b[0m \u001b[0mself\u001b[0m\u001b[0;34m.\u001b[0m\u001b[0mkwds\u001b[0m\u001b[0;34m,\u001b[0m \u001b[0mself\u001b[0m\u001b[0;34m.\u001b[0m\u001b[0mfunc\u001b[0m\u001b[0;34m\u001b[0m\u001b[0;34m\u001b[0m\u001b[0m\n\u001b[1;32m    118\u001b[0m         \u001b[0;32mtry\u001b[0m\u001b[0;34m:\u001b[0m\u001b[0;34m\u001b[0m\u001b[0;34m\u001b[0m\u001b[0m\n\u001b[0;32m--> 119\u001b[0;31m             \u001b[0;32mreturn\u001b[0m \u001b[0mnext\u001b[0m\u001b[0;34m(\u001b[0m\u001b[0mself\u001b[0m\u001b[0;34m.\u001b[0m\u001b[0mgen\u001b[0m\u001b[0;34m)\u001b[0m\u001b[0;34m\u001b[0m\u001b[0;34m\u001b[0m\u001b[0m\n\u001b[0m\u001b[1;32m    120\u001b[0m         \u001b[0;32mexcept\u001b[0m \u001b[0mStopIteration\u001b[0m\u001b[0;34m:\u001b[0m\u001b[0;34m\u001b[0m\u001b[0;34m\u001b[0m\u001b[0m\n\u001b[1;32m    121\u001b[0m             \u001b[0;32mraise\u001b[0m \u001b[0mRuntimeError\u001b[0m\u001b[0;34m(\u001b[0m\u001b[0;34m\"generator didn't yield\"\u001b[0m\u001b[0;34m)\u001b[0m \u001b[0;32mfrom\u001b[0m \u001b[0;32mNone\u001b[0m\u001b[0;34m\u001b[0m\u001b[0;34m\u001b[0m\u001b[0m\n",
      "\u001b[0;32m/opt/conda/lib/python3.9/site-packages/keras/engine/data_adapter.py\u001b[0m in \u001b[0;36m_truncate_execution_to_epoch\u001b[0;34m(self)\u001b[0m\n\u001b[1;32m   1201\u001b[0m     \u001b[0;32mfinally\u001b[0m\u001b[0;34m:\u001b[0m\u001b[0;34m\u001b[0m\u001b[0;34m\u001b[0m\u001b[0m\n\u001b[1;32m   1202\u001b[0m       \u001b[0;32mif\u001b[0m \u001b[0mshould_truncate\u001b[0m\u001b[0;34m:\u001b[0m\u001b[0;34m\u001b[0m\u001b[0;34m\u001b[0m\u001b[0m\n\u001b[0;32m-> 1203\u001b[0;31m         \u001b[0mself\u001b[0m\u001b[0;34m.\u001b[0m\u001b[0m_steps_per_execution\u001b[0m\u001b[0;34m.\u001b[0m\u001b[0massign\u001b[0m\u001b[0;34m(\u001b[0m\u001b[0moriginal_value\u001b[0m\u001b[0;34m)\u001b[0m\u001b[0;34m\u001b[0m\u001b[0;34m\u001b[0m\u001b[0m\n\u001b[0m\u001b[1;32m   1204\u001b[0m         \u001b[0mself\u001b[0m\u001b[0;34m.\u001b[0m\u001b[0m_steps_per_execution_value\u001b[0m \u001b[0;34m=\u001b[0m \u001b[0moriginal_value\u001b[0m\u001b[0;34m\u001b[0m\u001b[0;34m\u001b[0m\u001b[0m\n\u001b[1;32m   1205\u001b[0m \u001b[0;34m\u001b[0m\u001b[0m\n",
      "\u001b[0;31mAttributeError\u001b[0m: 'int' object has no attribute 'assign'"
     ]
    }
   ],
   "source": [
    "# 출력 결과 테스트\n",
    "for seq_index in [1,100,333,1004,3000]:\n",
    "    input_seq = encoder_input_test[seq_index: seq_index + 1]\n",
    "    decoded_sentence = decode_sequence(input_seq)\n",
    "    print(35 * \"-\")\n",
    "    print('입력 문장:', seq2src(encoder_input_test[seq_index]))\n",
    "    print('정답 문장:', seq2tar(decoder_input_test[seq_index]))\n",
    "    print('번역기가 번역한 문장:', decoded_sentence[:len(decoded_sentence)-1])"
   ]
  },
  {
   "cell_type": "markdown",
   "id": "ee77b479",
   "metadata": {},
   "source": [
    "-------"
   ]
  },
  {
   "cell_type": "markdown",
   "id": "62147262",
   "metadata": {},
   "source": [
    "## 회고\n",
    "1. 구두점, 대소문자, 띄어쓰기 등 번역기 모델에 요구되는 전처리가 잘 이루어졌는가?  \n",
    "구두점, 대소문자, 띄어쓰기에 대한 전처리는 잘 이루어진 거 같다. 다만 참조 코드를 보면 프랑스어의 경우 악센트가 있는 것을 모두 제거해주었는데 그 부분을 추가하면 동일한 단어가 늘어나면서 학습이 더 잘 될 것이라고 예측된다. 이번에 해보지 못했지만 마지막 결과에 error를 해결하면서 전처리를 더 잘 해보고 싶은 마음이 생겼다.  \n",
    "2. seq2seq 기반의 번역기 모델이 정상적으로 구동되는가?  \n",
    "seq2seq 모델 훈련결과를 그래프로 출력했을 때, validation loss 그래프가 우하향하는 경향성을 보이며 학습이 진행되기는 했지만 accuracy가 1이 나와서 제대로 학습이 된 건지는 의문이 든다.  \n",
    "3. 테스트 결과 의미가 통하는 수준의 번역문이 생성되었는가?  \n",
    "테스트용 디코더 모델을 정상적으로 만들었던 거 같은데 테스트 결과도 이상했고, error도 발생했다. 도저히 해결할 힘이 남아있지 않아 다음에 도전해보기로 했다.  \n",
    "4. 프로젝트를 진행하면서 느낀 점 : 이것저것 시도해보고 싶었는데 단순히 이해하는 것만으로도 너무 힘들고 벅찼다. 다른 사람들의 코드를 참고했음에도 너무 너무 어려웠다. 머리를 환기시킨 후에 다시 도전해봐야겠다."
   ]
  },
  {
   "cell_type": "markdown",
   "id": "d610a140",
   "metadata": {},
   "source": [
    "## Reference\n",
    "[lambda](https://sophihappy.tistory.com/2)  \n",
    "[전체적인 코드 참조1](https://wikidocs.net/86900)  \n",
    "[전체적인 코드 참조2](https://github.com/PEBpung/Aiffel/blob/master/Project/Exploration/E15.%20%EB%8B%A8%EC%96%B4%20Level%EB%A1%9C%20seq2seq%20%EB%B2%88%EC%97%AD%EA%B8%B0%20%EB%A7%8C%EB%93%A4%EA%B8%B0.ipynb)"
   ]
  }
 ],
 "metadata": {
  "kernelspec": {
   "display_name": "Python 3 (ipykernel)",
   "language": "python",
   "name": "python3"
  },
  "language_info": {
   "codemirror_mode": {
    "name": "ipython",
    "version": 3
   },
   "file_extension": ".py",
   "mimetype": "text/x-python",
   "name": "python",
   "nbconvert_exporter": "python",
   "pygments_lexer": "ipython3",
   "version": "3.9.7"
  }
 },
 "nbformat": 4,
 "nbformat_minor": 5
}
