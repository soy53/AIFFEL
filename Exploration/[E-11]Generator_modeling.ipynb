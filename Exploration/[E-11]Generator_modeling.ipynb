{
 "cells": [
  {
   "cell_type": "markdown",
   "id": "6827f7f7",
   "metadata": {},
   "source": [
    "# CIFAR-10 이미지 생성하기"
   ]
  },
  {
   "cell_type": "markdown",
   "id": "a6d59348",
   "metadata": {},
   "source": [
    "## Step 1. 작업환경 구성하기"
   ]
  },
  {
   "cell_type": "markdown",
   "id": "465de1fa",
   "metadata": {},
   "source": [
    "![디렉토리 만들기](https://user-images.githubusercontent.com/116326867/208328548-4412d3f9-a82d-4943-940d-40adeb176ccd.png)"
   ]
  },
  {
   "cell_type": "code",
   "execution_count": 1,
   "id": "d52dcd72",
   "metadata": {},
   "outputs": [],
   "source": [
    "# 필요한 모둘 import\n",
    "import os\n",
    "import glob\n",
    "import time\n",
    "\n",
    "import PIL\n",
    "import imageio\n",
    "import numpy as np\n",
    "import tensorflow as tf\n",
    "from tensorflow.keras import layers\n",
    "from IPython import display\n",
    "import matplotlib.pyplot as plt\n",
    "%matplotlib inline"
   ]
  },
  {
   "cell_type": "markdown",
   "id": "4350e9cd",
   "metadata": {},
   "source": [
    "## Step 2. 데이터셋 구성하기"
   ]
  },
  {
   "cell_type": "code",
   "execution_count": 3,
   "id": "75d69556",
   "metadata": {},
   "outputs": [
    {
     "data": {
      "text/plain": [
       "(50000, 32, 32, 3)"
      ]
     },
     "execution_count": 3,
     "metadata": {},
     "output_type": "execute_result"
    }
   ],
   "source": [
    "cifar10 = tf.keras.datasets.cifar10\n",
    "\n",
    "(train_x, _), (test_x, _) = cifar10.load_data()\n",
    "\n",
    "train_x.shape"
   ]
  },
  {
   "cell_type": "markdown",
   "id": "87b7bd81",
   "metadata": {},
   "source": [
    "## Step 3. 생성자 모델 구현하기"
   ]
  },
  {
   "cell_type": "code",
   "execution_count": null,
   "id": "0ac733d4",
   "metadata": {},
   "outputs": [],
   "source": []
  },
  {
   "cell_type": "code",
   "execution_count": null,
   "id": "6b736817",
   "metadata": {},
   "outputs": [],
   "source": []
  },
  {
   "cell_type": "code",
   "execution_count": null,
   "id": "131f63fd",
   "metadata": {},
   "outputs": [],
   "source": []
  },
  {
   "cell_type": "code",
   "execution_count": null,
   "id": "6dd90b3f",
   "metadata": {},
   "outputs": [],
   "source": []
  },
  {
   "cell_type": "code",
   "execution_count": null,
   "id": "3c90c6d1",
   "metadata": {},
   "outputs": [],
   "source": []
  },
  {
   "cell_type": "code",
   "execution_count": null,
   "id": "6012bde3",
   "metadata": {},
   "outputs": [],
   "source": []
  },
  {
   "cell_type": "code",
   "execution_count": null,
   "id": "10a18040",
   "metadata": {},
   "outputs": [],
   "source": []
  }
 ],
 "metadata": {
  "kernelspec": {
   "display_name": "Python 3 (ipykernel)",
   "language": "python",
   "name": "python3"
  },
  "language_info": {
   "codemirror_mode": {
    "name": "ipython",
    "version": 3
   },
   "file_extension": ".py",
   "mimetype": "text/x-python",
   "name": "python",
   "nbconvert_exporter": "python",
   "pygments_lexer": "ipython3",
   "version": "3.9.7"
  }
 },
 "nbformat": 4,
 "nbformat_minor": 5
}
