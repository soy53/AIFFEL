{
 "cells": [
  {
   "cell_type": "markdown",
   "id": "243c2e8a",
   "metadata": {},
   "source": [
    "# Movielens 영화 추천"
   ]
  },
  {
   "cell_type": "code",
   "execution_count": 1,
   "id": "81de67b3",
   "metadata": {},
   "outputs": [],
   "source": [
    "# 필요한 모듈 import\n",
    "import os\n",
    "import pandas as pd\n",
    "import numpy as np\n",
    "\n",
    "import scipy\n",
    "from scipy.sparse import csr_matrix\n",
    "\n",
    "import implicit\n",
    "from implicit.als import AlternatingLeastSquares"
   ]
  },
  {
   "cell_type": "markdown",
   "id": "761f9491",
   "metadata": {},
   "source": [
    "## Step 1. 데이터 준비와 전처리"
   ]
  },
  {
   "cell_type": "code",
   "execution_count": 2,
   "id": "b00128a3",
   "metadata": {},
   "outputs": [
    {
     "data": {
      "text/html": [
       "<div>\n",
       "<style scoped>\n",
       "    .dataframe tbody tr th:only-of-type {\n",
       "        vertical-align: middle;\n",
       "    }\n",
       "\n",
       "    .dataframe tbody tr th {\n",
       "        vertical-align: top;\n",
       "    }\n",
       "\n",
       "    .dataframe thead th {\n",
       "        text-align: right;\n",
       "    }\n",
       "</style>\n",
       "<table border=\"1\" class=\"dataframe\">\n",
       "  <thead>\n",
       "    <tr style=\"text-align: right;\">\n",
       "      <th></th>\n",
       "      <th>user_id</th>\n",
       "      <th>movie_id</th>\n",
       "      <th>ratings</th>\n",
       "      <th>timestamp</th>\n",
       "    </tr>\n",
       "  </thead>\n",
       "  <tbody>\n",
       "    <tr>\n",
       "      <th>0</th>\n",
       "      <td>1</td>\n",
       "      <td>1193</td>\n",
       "      <td>5</td>\n",
       "      <td>978300760</td>\n",
       "    </tr>\n",
       "    <tr>\n",
       "      <th>1</th>\n",
       "      <td>1</td>\n",
       "      <td>661</td>\n",
       "      <td>3</td>\n",
       "      <td>978302109</td>\n",
       "    </tr>\n",
       "    <tr>\n",
       "      <th>2</th>\n",
       "      <td>1</td>\n",
       "      <td>914</td>\n",
       "      <td>3</td>\n",
       "      <td>978301968</td>\n",
       "    </tr>\n",
       "    <tr>\n",
       "      <th>3</th>\n",
       "      <td>1</td>\n",
       "      <td>3408</td>\n",
       "      <td>4</td>\n",
       "      <td>978300275</td>\n",
       "    </tr>\n",
       "    <tr>\n",
       "      <th>4</th>\n",
       "      <td>1</td>\n",
       "      <td>2355</td>\n",
       "      <td>5</td>\n",
       "      <td>978824291</td>\n",
       "    </tr>\n",
       "  </tbody>\n",
       "</table>\n",
       "</div>"
      ],
      "text/plain": [
       "   user_id  movie_id  ratings  timestamp\n",
       "0        1      1193        5  978300760\n",
       "1        1       661        3  978302109\n",
       "2        1       914        3  978301968\n",
       "3        1      3408        4  978300275\n",
       "4        1      2355        5  978824291"
      ]
     },
     "execution_count": 2,
     "metadata": {},
     "output_type": "execute_result"
    }
   ],
   "source": [
    "# Movielens 데이터 불러오기\n",
    "rating_file_path=os.getenv('HOME') + '/aiffel/recommendata_iu/data/ml-1m/ratings.dat'\n",
    "ratings_cols = ['user_id', 'movie_id', 'ratings', 'timestamp']\n",
    "ratings = pd.read_csv(rating_file_path, sep='::', names=ratings_cols, engine='python', encoding = \"ISO-8859-1\")\n",
    "orginal_data_size = len(ratings)\n",
    "ratings.head()"
   ]
  },
  {
   "cell_type": "code",
   "execution_count": 3,
   "id": "be992482",
   "metadata": {},
   "outputs": [
    {
     "name": "stdout",
     "output_type": "stream",
     "text": [
      "orginal_data_size: 1000209, filtered_data_size: 836478\n",
      "Ratio of Remaining Data is 83.63%\n"
     ]
    }
   ],
   "source": [
    "# ratings 3점 이상만 남기기\n",
    "ratings = ratings[ratings['ratings']>=3]\n",
    "filtered_data_size = len(ratings)\n",
    "\n",
    "print(f'orginal_data_size: {orginal_data_size}, filtered_data_size: {filtered_data_size}')\n",
    "print(f'Ratio of Remaining Data is {filtered_data_size / orginal_data_size:.2%}')"
   ]
  },
  {
   "cell_type": "code",
   "execution_count": 4,
   "id": "5ff33ced",
   "metadata": {},
   "outputs": [
    {
     "data": {
      "text/plain": [
       "0          5\n",
       "1          3\n",
       "2          3\n",
       "3          4\n",
       "4          5\n",
       "          ..\n",
       "1000203    3\n",
       "1000205    5\n",
       "1000206    5\n",
       "1000207    4\n",
       "1000208    4\n",
       "Name: counts, Length: 836478, dtype: int64"
      ]
     },
     "execution_count": 4,
     "metadata": {},
     "output_type": "execute_result"
    }
   ],
   "source": [
    "# ratings 컬럼의 이름을 counts로 바꾸기\n",
    "ratings.rename(columns={'ratings':'counts'}, inplace=True)\n",
    "ratings['counts']"
   ]
  },
  {
   "cell_type": "code",
   "execution_count": 5,
   "id": "33d9db53",
   "metadata": {},
   "outputs": [
    {
     "data": {
      "text/html": [
       "<div>\n",
       "<style scoped>\n",
       "    .dataframe tbody tr th:only-of-type {\n",
       "        vertical-align: middle;\n",
       "    }\n",
       "\n",
       "    .dataframe tbody tr th {\n",
       "        vertical-align: top;\n",
       "    }\n",
       "\n",
       "    .dataframe thead th {\n",
       "        text-align: right;\n",
       "    }\n",
       "</style>\n",
       "<table border=\"1\" class=\"dataframe\">\n",
       "  <thead>\n",
       "    <tr style=\"text-align: right;\">\n",
       "      <th></th>\n",
       "      <th>movie_id</th>\n",
       "      <th>title</th>\n",
       "      <th>genre</th>\n",
       "    </tr>\n",
       "  </thead>\n",
       "  <tbody>\n",
       "    <tr>\n",
       "      <th>0</th>\n",
       "      <td>1</td>\n",
       "      <td>Toy Story (1995)</td>\n",
       "      <td>Animation|Children's|Comedy</td>\n",
       "    </tr>\n",
       "    <tr>\n",
       "      <th>1</th>\n",
       "      <td>2</td>\n",
       "      <td>Jumanji (1995)</td>\n",
       "      <td>Adventure|Children's|Fantasy</td>\n",
       "    </tr>\n",
       "    <tr>\n",
       "      <th>2</th>\n",
       "      <td>3</td>\n",
       "      <td>Grumpier Old Men (1995)</td>\n",
       "      <td>Comedy|Romance</td>\n",
       "    </tr>\n",
       "    <tr>\n",
       "      <th>3</th>\n",
       "      <td>4</td>\n",
       "      <td>Waiting to Exhale (1995)</td>\n",
       "      <td>Comedy|Drama</td>\n",
       "    </tr>\n",
       "    <tr>\n",
       "      <th>4</th>\n",
       "      <td>5</td>\n",
       "      <td>Father of the Bride Part II (1995)</td>\n",
       "      <td>Comedy</td>\n",
       "    </tr>\n",
       "  </tbody>\n",
       "</table>\n",
       "</div>"
      ],
      "text/plain": [
       "   movie_id                               title                         genre\n",
       "0         1                    Toy Story (1995)   Animation|Children's|Comedy\n",
       "1         2                      Jumanji (1995)  Adventure|Children's|Fantasy\n",
       "2         3             Grumpier Old Men (1995)                Comedy|Romance\n",
       "3         4            Waiting to Exhale (1995)                  Comedy|Drama\n",
       "4         5  Father of the Bride Part II (1995)                        Comedy"
      ]
     },
     "execution_count": 5,
     "metadata": {},
     "output_type": "execute_result"
    }
   ],
   "source": [
    "# 영화 제목을 보기 위해 메타 데이터를 읽어오기\n",
    "movie_file_path=os.getenv('HOME') + '/aiffel/recommendata_iu/data/ml-1m/movies.dat'\n",
    "cols = ['movie_id', 'title', 'genre'] \n",
    "movies = pd.read_csv(movie_file_path, sep='::', names=cols, engine='python', encoding='ISO-8859-1')\n",
    "movies.head()"
   ]
  },
  {
   "cell_type": "code",
   "execution_count": 6,
   "id": "f9a6f421",
   "metadata": {},
   "outputs": [
    {
     "data": {
      "text/html": [
       "<div>\n",
       "<style scoped>\n",
       "    .dataframe tbody tr th:only-of-type {\n",
       "        vertical-align: middle;\n",
       "    }\n",
       "\n",
       "    .dataframe tbody tr th {\n",
       "        vertical-align: top;\n",
       "    }\n",
       "\n",
       "    .dataframe thead th {\n",
       "        text-align: right;\n",
       "    }\n",
       "</style>\n",
       "<table border=\"1\" class=\"dataframe\">\n",
       "  <thead>\n",
       "    <tr style=\"text-align: right;\">\n",
       "      <th></th>\n",
       "      <th>user_id</th>\n",
       "      <th>movie_id</th>\n",
       "      <th>counts</th>\n",
       "      <th>timestamp</th>\n",
       "      <th>title</th>\n",
       "      <th>genre</th>\n",
       "    </tr>\n",
       "  </thead>\n",
       "  <tbody>\n",
       "    <tr>\n",
       "      <th>0</th>\n",
       "      <td>1</td>\n",
       "      <td>1193</td>\n",
       "      <td>5</td>\n",
       "      <td>978300760</td>\n",
       "      <td>One Flew Over the Cuckoo's Nest (1975)</td>\n",
       "      <td>Drama</td>\n",
       "    </tr>\n",
       "    <tr>\n",
       "      <th>1</th>\n",
       "      <td>2</td>\n",
       "      <td>1193</td>\n",
       "      <td>5</td>\n",
       "      <td>978298413</td>\n",
       "      <td>One Flew Over the Cuckoo's Nest (1975)</td>\n",
       "      <td>Drama</td>\n",
       "    </tr>\n",
       "    <tr>\n",
       "      <th>2</th>\n",
       "      <td>12</td>\n",
       "      <td>1193</td>\n",
       "      <td>4</td>\n",
       "      <td>978220179</td>\n",
       "      <td>One Flew Over the Cuckoo's Nest (1975)</td>\n",
       "      <td>Drama</td>\n",
       "    </tr>\n",
       "    <tr>\n",
       "      <th>3</th>\n",
       "      <td>15</td>\n",
       "      <td>1193</td>\n",
       "      <td>4</td>\n",
       "      <td>978199279</td>\n",
       "      <td>One Flew Over the Cuckoo's Nest (1975)</td>\n",
       "      <td>Drama</td>\n",
       "    </tr>\n",
       "    <tr>\n",
       "      <th>4</th>\n",
       "      <td>17</td>\n",
       "      <td>1193</td>\n",
       "      <td>5</td>\n",
       "      <td>978158471</td>\n",
       "      <td>One Flew Over the Cuckoo's Nest (1975)</td>\n",
       "      <td>Drama</td>\n",
       "    </tr>\n",
       "    <tr>\n",
       "      <th>...</th>\n",
       "      <td>...</td>\n",
       "      <td>...</td>\n",
       "      <td>...</td>\n",
       "      <td>...</td>\n",
       "      <td>...</td>\n",
       "      <td>...</td>\n",
       "    </tr>\n",
       "    <tr>\n",
       "      <th>836473</th>\n",
       "      <td>5851</td>\n",
       "      <td>3607</td>\n",
       "      <td>5</td>\n",
       "      <td>957756608</td>\n",
       "      <td>One Little Indian (1973)</td>\n",
       "      <td>Comedy|Drama|Western</td>\n",
       "    </tr>\n",
       "    <tr>\n",
       "      <th>836474</th>\n",
       "      <td>5854</td>\n",
       "      <td>3026</td>\n",
       "      <td>4</td>\n",
       "      <td>958346883</td>\n",
       "      <td>Slaughterhouse (1987)</td>\n",
       "      <td>Horror</td>\n",
       "    </tr>\n",
       "    <tr>\n",
       "      <th>836475</th>\n",
       "      <td>5854</td>\n",
       "      <td>690</td>\n",
       "      <td>3</td>\n",
       "      <td>957744257</td>\n",
       "      <td>Promise, The (Versprechen, Das) (1994)</td>\n",
       "      <td>Romance</td>\n",
       "    </tr>\n",
       "    <tr>\n",
       "      <th>836476</th>\n",
       "      <td>5938</td>\n",
       "      <td>2909</td>\n",
       "      <td>4</td>\n",
       "      <td>957273353</td>\n",
       "      <td>Five Wives, Three Secretaries and Me (1998)</td>\n",
       "      <td>Documentary</td>\n",
       "    </tr>\n",
       "    <tr>\n",
       "      <th>836477</th>\n",
       "      <td>5948</td>\n",
       "      <td>1360</td>\n",
       "      <td>5</td>\n",
       "      <td>1016563709</td>\n",
       "      <td>Identification of a Woman (Identificazione di ...</td>\n",
       "      <td>Drama</td>\n",
       "    </tr>\n",
       "  </tbody>\n",
       "</table>\n",
       "<p>836478 rows × 6 columns</p>\n",
       "</div>"
      ],
      "text/plain": [
       "        user_id  movie_id  counts   timestamp  \\\n",
       "0             1      1193       5   978300760   \n",
       "1             2      1193       5   978298413   \n",
       "2            12      1193       4   978220179   \n",
       "3            15      1193       4   978199279   \n",
       "4            17      1193       5   978158471   \n",
       "...         ...       ...     ...         ...   \n",
       "836473     5851      3607       5   957756608   \n",
       "836474     5854      3026       4   958346883   \n",
       "836475     5854       690       3   957744257   \n",
       "836476     5938      2909       4   957273353   \n",
       "836477     5948      1360       5  1016563709   \n",
       "\n",
       "                                                    title  \\\n",
       "0                  One Flew Over the Cuckoo's Nest (1975)   \n",
       "1                  One Flew Over the Cuckoo's Nest (1975)   \n",
       "2                  One Flew Over the Cuckoo's Nest (1975)   \n",
       "3                  One Flew Over the Cuckoo's Nest (1975)   \n",
       "4                  One Flew Over the Cuckoo's Nest (1975)   \n",
       "...                                                   ...   \n",
       "836473                           One Little Indian (1973)   \n",
       "836474                              Slaughterhouse (1987)   \n",
       "836475             Promise, The (Versprechen, Das) (1994)   \n",
       "836476        Five Wives, Three Secretaries and Me (1998)   \n",
       "836477  Identification of a Woman (Identificazione di ...   \n",
       "\n",
       "                       genre  \n",
       "0                      Drama  \n",
       "1                      Drama  \n",
       "2                      Drama  \n",
       "3                      Drama  \n",
       "4                      Drama  \n",
       "...                      ...  \n",
       "836473  Comedy|Drama|Western  \n",
       "836474                Horror  \n",
       "836475               Romance  \n",
       "836476           Documentary  \n",
       "836477                 Drama  \n",
       "\n",
       "[836478 rows x 6 columns]"
      ]
     },
     "execution_count": 6,
     "metadata": {},
     "output_type": "execute_result"
    }
   ],
   "source": [
    "# 데이터프레임 합치기\n",
    "movie_data = pd.merge(ratings, movies)\n",
    "movie_data"
   ]
  },
  {
   "cell_type": "markdown",
   "id": "4bcdfaa8",
   "metadata": {},
   "source": [
    "## Step 2. 분석하기"
   ]
  },
  {
   "cell_type": "code",
   "execution_count": 7,
   "id": "23acf427",
   "metadata": {},
   "outputs": [
    {
     "data": {
      "text/plain": [
       "3628"
      ]
     },
     "execution_count": 7,
     "metadata": {},
     "output_type": "execute_result"
    }
   ],
   "source": [
    "# ratings에 있는 유니크한 영화 개수\n",
    "ratings['movie_id'].nunique()"
   ]
  },
  {
   "cell_type": "code",
   "execution_count": 8,
   "id": "8c16d051",
   "metadata": {},
   "outputs": [
    {
     "data": {
      "text/plain": [
       "6039"
      ]
     },
     "execution_count": 8,
     "metadata": {},
     "output_type": "execute_result"
    }
   ],
   "source": [
    "# ratings에 있는 유니크한 사용자 수\n",
    "ratings['user_id'].nunique()"
   ]
  },
  {
   "cell_type": "code",
   "execution_count": 9,
   "id": "e4aa9995",
   "metadata": {},
   "outputs": [
    {
     "data": {
      "text/plain": [
       "title\n",
       "American Beauty (1999)                                   3211\n",
       "Star Wars: Episode IV - A New Hope (1977)                2910\n",
       "Star Wars: Episode V - The Empire Strikes Back (1980)    2885\n",
       "Star Wars: Episode VI - Return of the Jedi (1983)        2716\n",
       "Saving Private Ryan (1998)                               2561\n",
       "Terminator 2: Judgment Day (1991)                        2509\n",
       "Silence of the Lambs, The (1991)                         2498\n",
       "Raiders of the Lost Ark (1981)                           2473\n",
       "Back to the Future (1985)                                2460\n",
       "Matrix, The (1999)                                       2434\n",
       "Jurassic Park (1993)                                     2413\n",
       "Sixth Sense, The (1999)                                  2385\n",
       "Fargo (1996)                                             2371\n",
       "Braveheart (1995)                                        2314\n",
       "Men in Black (1997)                                      2297\n",
       "Schindler's List (1993)                                  2257\n",
       "Princess Bride, The (1987)                               2252\n",
       "Shakespeare in Love (1998)                               2213\n",
       "L.A. Confidential (1997)                                 2210\n",
       "Shawshank Redemption, The (1994)                         2194\n",
       "Godfather, The (1972)                                    2167\n",
       "Groundhog Day (1993)                                     2121\n",
       "E.T. the Extra-Terrestrial (1982)                        2102\n",
       "Being John Malkovich (1999)                              2066\n",
       "Ghostbusters (1984)                                      2051\n",
       "Pulp Fiction (1994)                                      2030\n",
       "Forrest Gump (1994)                                      2022\n",
       "Terminator, The (1984)                                   2019\n",
       "Toy Story (1995)                                         2000\n",
       "Fugitive, The (1993)                                     1941\n",
       "Name: user_id, dtype: int64"
      ]
     },
     "execution_count": 9,
     "metadata": {},
     "output_type": "execute_result"
    }
   ],
   "source": [
    "# 가장 인기 있는 영화 30개(인기순) - 인기도는 많이 본 영화를 기준\n",
    "famous_movie = movie_data.groupby('title')['user_id'].count()\n",
    "famous_movie.sort_values(ascending=False).head(30)"
   ]
  },
  {
   "cell_type": "code",
   "execution_count": 10,
   "id": "8763861c",
   "metadata": {},
   "outputs": [
    {
     "data": {
      "text/plain": [
       "count    6039.000000\n",
       "mean      138.512668\n",
       "std       156.241599\n",
       "min         1.000000\n",
       "25%        38.000000\n",
       "50%        81.000000\n",
       "75%       177.000000\n",
       "max      1968.000000\n",
       "Name: title, dtype: float64"
      ]
     },
     "execution_count": 10,
     "metadata": {},
     "output_type": "execute_result"
    }
   ],
   "source": [
    "# 유저별 몇 개의 영화를 봤는지에 대한 통계\n",
    "user_count = movie_data.groupby('user_id')['title'].count()\n",
    "user_count.describe()"
   ]
  },
  {
   "cell_type": "markdown",
   "id": "c7034251",
   "metadata": {},
   "source": [
    "## Step 3. 선호하는 영화를 5가지 골라서 ratings에 추가하기"
   ]
  },
  {
   "cell_type": "code",
   "execution_count": 11,
   "id": "03a39997",
   "metadata": {},
   "outputs": [
    {
     "data": {
      "text/html": [
       "<div>\n",
       "<style scoped>\n",
       "    .dataframe tbody tr th:only-of-type {\n",
       "        vertical-align: middle;\n",
       "    }\n",
       "\n",
       "    .dataframe tbody tr th {\n",
       "        vertical-align: top;\n",
       "    }\n",
       "\n",
       "    .dataframe thead th {\n",
       "        text-align: right;\n",
       "    }\n",
       "</style>\n",
       "<table border=\"1\" class=\"dataframe\">\n",
       "  <thead>\n",
       "    <tr style=\"text-align: right;\">\n",
       "      <th></th>\n",
       "      <th>user_id</th>\n",
       "      <th>movie_id</th>\n",
       "      <th>counts</th>\n",
       "      <th>timestamp</th>\n",
       "    </tr>\n",
       "  </thead>\n",
       "  <tbody>\n",
       "    <tr>\n",
       "      <th>1000203</th>\n",
       "      <td>6040</td>\n",
       "      <td>1090</td>\n",
       "      <td>3</td>\n",
       "      <td>956715518.0</td>\n",
       "    </tr>\n",
       "    <tr>\n",
       "      <th>1000205</th>\n",
       "      <td>6040</td>\n",
       "      <td>1094</td>\n",
       "      <td>5</td>\n",
       "      <td>956704887.0</td>\n",
       "    </tr>\n",
       "    <tr>\n",
       "      <th>1000206</th>\n",
       "      <td>6040</td>\n",
       "      <td>562</td>\n",
       "      <td>5</td>\n",
       "      <td>956704746.0</td>\n",
       "    </tr>\n",
       "    <tr>\n",
       "      <th>1000207</th>\n",
       "      <td>6040</td>\n",
       "      <td>1096</td>\n",
       "      <td>4</td>\n",
       "      <td>956715648.0</td>\n",
       "    </tr>\n",
       "    <tr>\n",
       "      <th>1000208</th>\n",
       "      <td>6040</td>\n",
       "      <td>1097</td>\n",
       "      <td>4</td>\n",
       "      <td>956715569.0</td>\n",
       "    </tr>\n",
       "    <tr>\n",
       "      <th>0</th>\n",
       "      <td>soy</td>\n",
       "      <td>1721</td>\n",
       "      <td>5</td>\n",
       "      <td>NaN</td>\n",
       "    </tr>\n",
       "    <tr>\n",
       "      <th>1</th>\n",
       "      <td>soy</td>\n",
       "      <td>1</td>\n",
       "      <td>5</td>\n",
       "      <td>NaN</td>\n",
       "    </tr>\n",
       "    <tr>\n",
       "      <th>2</th>\n",
       "      <td>soy</td>\n",
       "      <td>356</td>\n",
       "      <td>5</td>\n",
       "      <td>NaN</td>\n",
       "    </tr>\n",
       "    <tr>\n",
       "      <th>3</th>\n",
       "      <td>soy</td>\n",
       "      <td>1035</td>\n",
       "      <td>5</td>\n",
       "      <td>NaN</td>\n",
       "    </tr>\n",
       "    <tr>\n",
       "      <th>4</th>\n",
       "      <td>soy</td>\n",
       "      <td>364</td>\n",
       "      <td>5</td>\n",
       "      <td>NaN</td>\n",
       "    </tr>\n",
       "  </tbody>\n",
       "</table>\n",
       "</div>"
      ],
      "text/plain": [
       "        user_id  movie_id  counts    timestamp\n",
       "1000203    6040      1090       3  956715518.0\n",
       "1000205    6040      1094       5  956704887.0\n",
       "1000206    6040       562       5  956704746.0\n",
       "1000207    6040      1096       4  956715648.0\n",
       "1000208    6040      1097       4  956715569.0\n",
       "0           soy      1721       5          NaN\n",
       "1           soy         1       5          NaN\n",
       "2           soy       356       5          NaN\n",
       "3           soy      1035       5          NaN\n",
       "4           soy       364       5          NaN"
      ]
     },
     "execution_count": 11,
     "metadata": {},
     "output_type": "execute_result"
    }
   ],
   "source": [
    "# 선호하는 영화 5가지\n",
    "my_favorite = ['Titanic (1997)' , 'Toy Story (1995)' ,'Forrest Gump (1994)' ,'Sound of Music, The (1965)' ,'Lion King, The (1994)']\n",
    "my_favorite_id = [1721, 1, 356, 1035, 364]\n",
    "\n",
    "# 'soy'라는 user_id가 위 영화 counts에 5점을 부여했다고 가정\n",
    "my_movie = pd.DataFrame({'user_id': ['soy']*5, 'movie_id': my_favorite_id, 'counts':[5]*5})\n",
    "\n",
    "if not ratings.isin({'user_id':['soy']})['user_id'].any():\n",
    "    ratings = ratings.append(my_movie)\n",
    "# user_id에 'soy'이라는 데이터가 없다면 위에 임의로 만든 my_movie 데이터를 추가\n",
    "    \n",
    "ratings.tail(10)"
   ]
  },
  {
   "cell_type": "code",
   "execution_count": 12,
   "id": "c82ccd99",
   "metadata": {},
   "outputs": [
    {
     "data": {
      "text/html": [
       "<div>\n",
       "<style scoped>\n",
       "    .dataframe tbody tr th:only-of-type {\n",
       "        vertical-align: middle;\n",
       "    }\n",
       "\n",
       "    .dataframe tbody tr th {\n",
       "        vertical-align: top;\n",
       "    }\n",
       "\n",
       "    .dataframe thead th {\n",
       "        text-align: right;\n",
       "    }\n",
       "</style>\n",
       "<table border=\"1\" class=\"dataframe\">\n",
       "  <thead>\n",
       "    <tr style=\"text-align: right;\">\n",
       "      <th></th>\n",
       "      <th>user_id</th>\n",
       "      <th>movie_id</th>\n",
       "      <th>counts</th>\n",
       "      <th>timestamp</th>\n",
       "      <th>title</th>\n",
       "      <th>genre</th>\n",
       "    </tr>\n",
       "  </thead>\n",
       "  <tbody>\n",
       "    <tr>\n",
       "      <th>0</th>\n",
       "      <td>1</td>\n",
       "      <td>1193</td>\n",
       "      <td>5</td>\n",
       "      <td>9.783008e+08</td>\n",
       "      <td>One Flew Over the Cuckoo's Nest (1975)</td>\n",
       "      <td>Drama</td>\n",
       "    </tr>\n",
       "    <tr>\n",
       "      <th>1</th>\n",
       "      <td>2</td>\n",
       "      <td>1193</td>\n",
       "      <td>5</td>\n",
       "      <td>9.782984e+08</td>\n",
       "      <td>One Flew Over the Cuckoo's Nest (1975)</td>\n",
       "      <td>Drama</td>\n",
       "    </tr>\n",
       "    <tr>\n",
       "      <th>2</th>\n",
       "      <td>12</td>\n",
       "      <td>1193</td>\n",
       "      <td>4</td>\n",
       "      <td>9.782202e+08</td>\n",
       "      <td>One Flew Over the Cuckoo's Nest (1975)</td>\n",
       "      <td>Drama</td>\n",
       "    </tr>\n",
       "    <tr>\n",
       "      <th>3</th>\n",
       "      <td>15</td>\n",
       "      <td>1193</td>\n",
       "      <td>4</td>\n",
       "      <td>9.781993e+08</td>\n",
       "      <td>One Flew Over the Cuckoo's Nest (1975)</td>\n",
       "      <td>Drama</td>\n",
       "    </tr>\n",
       "    <tr>\n",
       "      <th>4</th>\n",
       "      <td>17</td>\n",
       "      <td>1193</td>\n",
       "      <td>5</td>\n",
       "      <td>9.781585e+08</td>\n",
       "      <td>One Flew Over the Cuckoo's Nest (1975)</td>\n",
       "      <td>Drama</td>\n",
       "    </tr>\n",
       "    <tr>\n",
       "      <th>...</th>\n",
       "      <td>...</td>\n",
       "      <td>...</td>\n",
       "      <td>...</td>\n",
       "      <td>...</td>\n",
       "      <td>...</td>\n",
       "      <td>...</td>\n",
       "    </tr>\n",
       "    <tr>\n",
       "      <th>836478</th>\n",
       "      <td>5851</td>\n",
       "      <td>3607</td>\n",
       "      <td>5</td>\n",
       "      <td>9.577566e+08</td>\n",
       "      <td>One Little Indian (1973)</td>\n",
       "      <td>Comedy|Drama|Western</td>\n",
       "    </tr>\n",
       "    <tr>\n",
       "      <th>836479</th>\n",
       "      <td>5854</td>\n",
       "      <td>3026</td>\n",
       "      <td>4</td>\n",
       "      <td>9.583469e+08</td>\n",
       "      <td>Slaughterhouse (1987)</td>\n",
       "      <td>Horror</td>\n",
       "    </tr>\n",
       "    <tr>\n",
       "      <th>836480</th>\n",
       "      <td>5854</td>\n",
       "      <td>690</td>\n",
       "      <td>3</td>\n",
       "      <td>9.577443e+08</td>\n",
       "      <td>Promise, The (Versprechen, Das) (1994)</td>\n",
       "      <td>Romance</td>\n",
       "    </tr>\n",
       "    <tr>\n",
       "      <th>836481</th>\n",
       "      <td>5938</td>\n",
       "      <td>2909</td>\n",
       "      <td>4</td>\n",
       "      <td>9.572734e+08</td>\n",
       "      <td>Five Wives, Three Secretaries and Me (1998)</td>\n",
       "      <td>Documentary</td>\n",
       "    </tr>\n",
       "    <tr>\n",
       "      <th>836482</th>\n",
       "      <td>5948</td>\n",
       "      <td>1360</td>\n",
       "      <td>5</td>\n",
       "      <td>1.016564e+09</td>\n",
       "      <td>Identification of a Woman (Identificazione di ...</td>\n",
       "      <td>Drama</td>\n",
       "    </tr>\n",
       "  </tbody>\n",
       "</table>\n",
       "<p>836483 rows × 6 columns</p>\n",
       "</div>"
      ],
      "text/plain": [
       "       user_id  movie_id  counts     timestamp  \\\n",
       "0            1      1193       5  9.783008e+08   \n",
       "1            2      1193       5  9.782984e+08   \n",
       "2           12      1193       4  9.782202e+08   \n",
       "3           15      1193       4  9.781993e+08   \n",
       "4           17      1193       5  9.781585e+08   \n",
       "...        ...       ...     ...           ...   \n",
       "836478    5851      3607       5  9.577566e+08   \n",
       "836479    5854      3026       4  9.583469e+08   \n",
       "836480    5854       690       3  9.577443e+08   \n",
       "836481    5938      2909       4  9.572734e+08   \n",
       "836482    5948      1360       5  1.016564e+09   \n",
       "\n",
       "                                                    title  \\\n",
       "0                  One Flew Over the Cuckoo's Nest (1975)   \n",
       "1                  One Flew Over the Cuckoo's Nest (1975)   \n",
       "2                  One Flew Over the Cuckoo's Nest (1975)   \n",
       "3                  One Flew Over the Cuckoo's Nest (1975)   \n",
       "4                  One Flew Over the Cuckoo's Nest (1975)   \n",
       "...                                                   ...   \n",
       "836478                           One Little Indian (1973)   \n",
       "836479                              Slaughterhouse (1987)   \n",
       "836480             Promise, The (Versprechen, Das) (1994)   \n",
       "836481        Five Wives, Three Secretaries and Me (1998)   \n",
       "836482  Identification of a Woman (Identificazione di ...   \n",
       "\n",
       "                       genre  \n",
       "0                      Drama  \n",
       "1                      Drama  \n",
       "2                      Drama  \n",
       "3                      Drama  \n",
       "4                      Drama  \n",
       "...                      ...  \n",
       "836478  Comedy|Drama|Western  \n",
       "836479                Horror  \n",
       "836480               Romance  \n",
       "836481           Documentary  \n",
       "836482                 Drama  \n",
       "\n",
       "[836483 rows x 6 columns]"
      ]
     },
     "execution_count": 12,
     "metadata": {},
     "output_type": "execute_result"
    }
   ],
   "source": [
    "# 데이터프레임 합치기\n",
    "movie_data = pd.merge(ratings, movies)\n",
    "movie_data"
   ]
  },
  {
   "cell_type": "code",
   "execution_count": 13,
   "id": "c8996688",
   "metadata": {},
   "outputs": [
    {
     "data": {
      "text/plain": [
       "6040"
      ]
     },
     "execution_count": 13,
     "metadata": {},
     "output_type": "execute_result"
    }
   ],
   "source": [
    "# movie_data에 있는 유니크한 사용자 수\n",
    "movie_data['user_id'].nunique()"
   ]
  },
  {
   "cell_type": "code",
   "execution_count": 14,
   "id": "5d5f3504",
   "metadata": {},
   "outputs": [],
   "source": [
    "# indexing하기 (user와 movie 각각에 번호를 붙이기)\n",
    "\n",
    "# 고유한 유저, 영화를 찾아내기\n",
    "user_unique = movie_data['user_id'].unique()\n",
    "movie_unique = movie_data['title'].unique()\n",
    "\n",
    "# 유저, 영화를 indexing \n",
    "user_to_idx = {v:k for k,v in enumerate(user_unique)}\n",
    "movie_to_idx = {v:k for k,v in enumerate(movie_unique)}"
   ]
  },
  {
   "cell_type": "code",
   "execution_count": 15,
   "id": "53c81aa5",
   "metadata": {},
   "outputs": [
    {
     "name": "stdout",
     "output_type": "stream",
     "text": [
      "4685\n",
      "27\n"
     ]
    }
   ],
   "source": [
    "# 인덱싱이 잘 되었는지 확인\n",
    "print(user_to_idx['soy']) # 6040명의 유저 중 마지막으로 추가된 유저이니 6039가 나와야 한다. \n",
    "print(movie_to_idx['Titanic (1997)'])"
   ]
  },
  {
   "cell_type": "markdown",
   "id": "bfd0f0bb",
   "metadata": {},
   "source": [
    "- user를 인덱싱할 때, 6040명의 유저 중 마지막으로 추가된 유저이니 6039가 나와야 하는데 아무리 찾아봐도 어디서 잘못된 건지 알 수가 없다."
   ]
  },
  {
   "cell_type": "code",
   "execution_count": 16,
   "id": "dd95bdef",
   "metadata": {},
   "outputs": [
    {
     "name": "stdout",
     "output_type": "stream",
     "text": [
      "user_id column indexing OK!!\n",
      "movie_id column indexing OK!!\n"
     ]
    },
    {
     "data": {
      "text/html": [
       "<div>\n",
       "<style scoped>\n",
       "    .dataframe tbody tr th:only-of-type {\n",
       "        vertical-align: middle;\n",
       "    }\n",
       "\n",
       "    .dataframe tbody tr th {\n",
       "        vertical-align: top;\n",
       "    }\n",
       "\n",
       "    .dataframe thead th {\n",
       "        text-align: right;\n",
       "    }\n",
       "</style>\n",
       "<table border=\"1\" class=\"dataframe\">\n",
       "  <thead>\n",
       "    <tr style=\"text-align: right;\">\n",
       "      <th></th>\n",
       "      <th>user_id</th>\n",
       "      <th>movie_id</th>\n",
       "      <th>counts</th>\n",
       "      <th>timestamp</th>\n",
       "      <th>title</th>\n",
       "      <th>genre</th>\n",
       "    </tr>\n",
       "  </thead>\n",
       "  <tbody>\n",
       "    <tr>\n",
       "      <th>0</th>\n",
       "      <td>0</td>\n",
       "      <td>0</td>\n",
       "      <td>5</td>\n",
       "      <td>9.783008e+08</td>\n",
       "      <td>One Flew Over the Cuckoo's Nest (1975)</td>\n",
       "      <td>Drama</td>\n",
       "    </tr>\n",
       "    <tr>\n",
       "      <th>1</th>\n",
       "      <td>1</td>\n",
       "      <td>0</td>\n",
       "      <td>5</td>\n",
       "      <td>9.782984e+08</td>\n",
       "      <td>One Flew Over the Cuckoo's Nest (1975)</td>\n",
       "      <td>Drama</td>\n",
       "    </tr>\n",
       "    <tr>\n",
       "      <th>2</th>\n",
       "      <td>2</td>\n",
       "      <td>0</td>\n",
       "      <td>4</td>\n",
       "      <td>9.782202e+08</td>\n",
       "      <td>One Flew Over the Cuckoo's Nest (1975)</td>\n",
       "      <td>Drama</td>\n",
       "    </tr>\n",
       "    <tr>\n",
       "      <th>3</th>\n",
       "      <td>3</td>\n",
       "      <td>0</td>\n",
       "      <td>4</td>\n",
       "      <td>9.781993e+08</td>\n",
       "      <td>One Flew Over the Cuckoo's Nest (1975)</td>\n",
       "      <td>Drama</td>\n",
       "    </tr>\n",
       "    <tr>\n",
       "      <th>4</th>\n",
       "      <td>4</td>\n",
       "      <td>0</td>\n",
       "      <td>5</td>\n",
       "      <td>9.781585e+08</td>\n",
       "      <td>One Flew Over the Cuckoo's Nest (1975)</td>\n",
       "      <td>Drama</td>\n",
       "    </tr>\n",
       "    <tr>\n",
       "      <th>...</th>\n",
       "      <td>...</td>\n",
       "      <td>...</td>\n",
       "      <td>...</td>\n",
       "      <td>...</td>\n",
       "      <td>...</td>\n",
       "      <td>...</td>\n",
       "    </tr>\n",
       "    <tr>\n",
       "      <th>836478</th>\n",
       "      <td>1621</td>\n",
       "      <td>3623</td>\n",
       "      <td>5</td>\n",
       "      <td>9.577566e+08</td>\n",
       "      <td>One Little Indian (1973)</td>\n",
       "      <td>Comedy|Drama|Western</td>\n",
       "    </tr>\n",
       "    <tr>\n",
       "      <th>836479</th>\n",
       "      <td>3481</td>\n",
       "      <td>3624</td>\n",
       "      <td>4</td>\n",
       "      <td>9.583469e+08</td>\n",
       "      <td>Slaughterhouse (1987)</td>\n",
       "      <td>Horror</td>\n",
       "    </tr>\n",
       "    <tr>\n",
       "      <th>836480</th>\n",
       "      <td>3481</td>\n",
       "      <td>3625</td>\n",
       "      <td>3</td>\n",
       "      <td>9.577443e+08</td>\n",
       "      <td>Promise, The (Versprechen, Das) (1994)</td>\n",
       "      <td>Romance</td>\n",
       "    </tr>\n",
       "    <tr>\n",
       "      <th>836481</th>\n",
       "      <td>4159</td>\n",
       "      <td>3626</td>\n",
       "      <td>4</td>\n",
       "      <td>9.572734e+08</td>\n",
       "      <td>Five Wives, Three Secretaries and Me (1998)</td>\n",
       "      <td>Documentary</td>\n",
       "    </tr>\n",
       "    <tr>\n",
       "      <th>836482</th>\n",
       "      <td>1648</td>\n",
       "      <td>3627</td>\n",
       "      <td>5</td>\n",
       "      <td>1.016564e+09</td>\n",
       "      <td>Identification of a Woman (Identificazione di ...</td>\n",
       "      <td>Drama</td>\n",
       "    </tr>\n",
       "  </tbody>\n",
       "</table>\n",
       "<p>836483 rows × 6 columns</p>\n",
       "</div>"
      ],
      "text/plain": [
       "        user_id  movie_id  counts     timestamp  \\\n",
       "0             0         0       5  9.783008e+08   \n",
       "1             1         0       5  9.782984e+08   \n",
       "2             2         0       4  9.782202e+08   \n",
       "3             3         0       4  9.781993e+08   \n",
       "4             4         0       5  9.781585e+08   \n",
       "...         ...       ...     ...           ...   \n",
       "836478     1621      3623       5  9.577566e+08   \n",
       "836479     3481      3624       4  9.583469e+08   \n",
       "836480     3481      3625       3  9.577443e+08   \n",
       "836481     4159      3626       4  9.572734e+08   \n",
       "836482     1648      3627       5  1.016564e+09   \n",
       "\n",
       "                                                    title  \\\n",
       "0                  One Flew Over the Cuckoo's Nest (1975)   \n",
       "1                  One Flew Over the Cuckoo's Nest (1975)   \n",
       "2                  One Flew Over the Cuckoo's Nest (1975)   \n",
       "3                  One Flew Over the Cuckoo's Nest (1975)   \n",
       "4                  One Flew Over the Cuckoo's Nest (1975)   \n",
       "...                                                   ...   \n",
       "836478                           One Little Indian (1973)   \n",
       "836479                              Slaughterhouse (1987)   \n",
       "836480             Promise, The (Versprechen, Das) (1994)   \n",
       "836481        Five Wives, Three Secretaries and Me (1998)   \n",
       "836482  Identification of a Woman (Identificazione di ...   \n",
       "\n",
       "                       genre  \n",
       "0                      Drama  \n",
       "1                      Drama  \n",
       "2                      Drama  \n",
       "3                      Drama  \n",
       "4                      Drama  \n",
       "...                      ...  \n",
       "836478  Comedy|Drama|Western  \n",
       "836479                Horror  \n",
       "836480               Romance  \n",
       "836481           Documentary  \n",
       "836482                 Drama  \n",
       "\n",
       "[836483 rows x 6 columns]"
      ]
     },
     "execution_count": 16,
     "metadata": {},
     "output_type": "execute_result"
    }
   ],
   "source": [
    "# indexing을 통해 데이터 컬럼 내 값 바꾸기\n",
    "\n",
    "# user_to_idx.get을 통해 user_id 컬럼의 모든 값을 인덱싱한 Series를 구하기\n",
    "# 정상적으로 인덱싱되지 않은 row가 있다면 인덱스가 NaN이 될 테니 dropna()로 제거\n",
    "temp_user_data = movie_data['user_id'].map(user_to_idx.get).dropna()\n",
    "if len(temp_user_data) == len(movie_data):   # 모든 row가 정상적으로 인덱싱되었다면\n",
    "    print('user_id column indexing OK!!')\n",
    "    movie_data['user_id'] = temp_user_data   # data['user_id']을 인덱싱된 Series로 교체\n",
    "else:\n",
    "    print('user_id column indexing Fail!!')\n",
    "\n",
    "# movie_to_idx을 통해 movie_id 컬럼도 동일한 방식으로 인덱싱\n",
    "temp_movie_data = movie_data['title'].map(movie_to_idx.get).dropna()\n",
    "if len(temp_movie_data) == len(movie_data):\n",
    "    print('movie_id column indexing OK!!')\n",
    "    movie_data['movie_id'] = temp_movie_data\n",
    "else:\n",
    "    print('movie_id column indexing Fail!!')\n",
    "\n",
    "movie_data"
   ]
  },
  {
   "cell_type": "markdown",
   "id": "109340ff",
   "metadata": {},
   "source": [
    "- 처음에 따로 인덱싱하는 작업을 거쳤는데, movie_id를 indexing 하는 과정에서 각 영화에 맞는 id로 indexing 되어야 하는데 그냥 앞에서부터 순서대로 3628~3632까지 indexing되었다. 영화 이름을 정확하게 맞춘 상태라고 생각했는데, 뭐가 문제인지 정확하게 모르겠다.  \n",
    "- 그래서 각 영화에 대한 id를 따로 가져와서 맞춰 준 상태에서 진행하였다. 다행히 이렇게 진행했을 때에는 영화인덱싱에 문제가 안생기는 거 같다. 하지만, 유저 인덱싱에서도 문제가 생겼는데, 해결이 안된다. "
   ]
  },
  {
   "cell_type": "markdown",
   "id": "6ce89113",
   "metadata": {},
   "source": [
    "## Step 4. CSR matrix 만들어보기"
   ]
  },
  {
   "cell_type": "code",
   "execution_count": 17,
   "id": "ac2f80c6",
   "metadata": {},
   "outputs": [
    {
     "data": {
      "text/plain": [
       "<6040x3628 sparse matrix of type '<class 'numpy.int64'>'\n",
       "\twith 836483 stored elements in Compressed Sparse Row format>"
      ]
     },
     "execution_count": 17,
     "metadata": {},
     "output_type": "execute_result"
    }
   ],
   "source": [
    "num_user = movie_data['user_id'].nunique()\n",
    "num_movie = movie_data['title'].nunique()\n",
    "\n",
    "csr_data = csr_matrix((movie_data.counts, (movie_data.user_id, movie_data.movie_id)), shape= (num_user, num_movie))\n",
    "csr_data"
   ]
  },
  {
   "cell_type": "markdown",
   "id": "6485de15",
   "metadata": {},
   "source": [
    "## Step 5. als_model = AlternatingLeastSquares 모델 구성 후 훈련하기"
   ]
  },
  {
   "cell_type": "code",
   "execution_count": 32,
   "id": "9508f611",
   "metadata": {},
   "outputs": [],
   "source": [
    "os.environ['OPENBLAS_NUM_THREADS']='1'\n",
    "os.environ['KMP_DUPLICATE_LIB_OK']='True'\n",
    "os.environ['MKL_NUM_THREADS']='1'\n",
    "\n",
    "# Implicit AlternatingLeastSquares 모델의 선언\n",
    "als_model = AlternatingLeastSquares(factors=200, regularization=0.01, use_gpu=False, iterations=20, dtype=np.float32)\n",
    "\n",
    "# als 모델은 input으로 item X user 꼴의 matrix를 받기 때문에 Transpose하기\n",
    "csr_data_transpose = csr_data.T"
   ]
  },
  {
   "cell_type": "code",
   "execution_count": 33,
   "id": "cf7c8509",
   "metadata": {},
   "outputs": [
    {
     "data": {
      "application/vnd.jupyter.widget-view+json": {
       "model_id": "1c08ce81340a4b17ad669ba4efce3500",
       "version_major": 2,
       "version_minor": 0
      },
      "text/plain": [
       "  0%|          | 0/20 [00:00<?, ?it/s]"
      ]
     },
     "metadata": {},
     "output_type": "display_data"
    }
   ],
   "source": [
    "# 모델 훈련\n",
    "als_model.fit(csr_data_transpose)"
   ]
  },
  {
   "cell_type": "markdown",
   "id": "36066036",
   "metadata": {},
   "source": [
    "## Step 6. 선호하는 5가지 영화 중 하나와 그 외의 영화 하나를 골라 훈련된 모델이 예측한 선호도 파악하기"
   ]
  },
  {
   "cell_type": "code",
   "execution_count": 34,
   "id": "0fe9d787",
   "metadata": {},
   "outputs": [],
   "source": [
    "soy, titanic = user_to_idx['soy'], movie_to_idx['Titanic (1997)']\n",
    "soy_vector, titanic_vector = als_model.user_factors[soy], als_model.item_factors[titanic]"
   ]
  },
  {
   "cell_type": "code",
   "execution_count": 35,
   "id": "d9cd2d8f",
   "metadata": {},
   "outputs": [
    {
     "data": {
      "text/plain": [
       "array([ 0.8209238 , -0.8332656 ,  0.25572735, -0.06132647, -0.0039618 ,\n",
       "       -0.02145077, -0.09180992, -0.26908422, -0.35818946, -0.11887038,\n",
       "       -0.01605035, -0.59763294, -0.07801373, -0.7110644 , -0.19682933,\n",
       "       -0.66265666,  0.02868234, -0.26140535,  0.3833715 ,  0.45510477,\n",
       "        0.02558705, -0.1657889 ,  0.2995533 , -0.09670059,  0.25739473,\n",
       "       -0.17070527, -0.27573165,  0.35770512, -0.00619934, -0.12263353,\n",
       "        0.27534524,  0.53387475, -0.23652685, -0.07365609,  0.3373982 ,\n",
       "        0.26986298, -0.55690277,  0.11179329,  0.3350459 , -0.28602564,\n",
       "       -0.6939901 , -0.07791303, -0.53488785,  0.63089186,  0.09937033,\n",
       "        0.079178  , -0.20819116, -0.07595681,  0.67215896,  0.00487602,\n",
       "        0.2905618 ,  0.5825785 ,  0.348188  ,  0.33952567, -0.9236209 ,\n",
       "        0.20671979,  0.2750603 ,  0.80110544, -0.39369622, -0.02569204,\n",
       "       -0.17877398,  0.3396373 , -0.18215019,  0.1839023 ,  0.4542532 ,\n",
       "        0.1860256 , -0.14941935, -0.36622941,  0.33456305, -0.01344152,\n",
       "        0.5866214 , -0.2244669 ,  0.04724614, -0.8022098 ,  0.32569465,\n",
       "        0.6534856 ,  0.49434373, -0.11209627,  0.0528763 ,  0.06342039,\n",
       "       -1.0445409 , -0.08114636, -0.61085314, -0.22981331,  0.41172233,\n",
       "        0.25023305, -0.41542915, -0.1935196 , -0.09204742,  0.3757008 ,\n",
       "        0.47215128,  0.2513911 ,  0.70010614, -0.17187501,  0.40304992,\n",
       "        0.622659  , -0.36349785,  0.41996408,  0.03508374, -0.30163002,\n",
       "       -0.72718954,  0.13616826,  0.5250824 ,  0.505164  , -0.03799451,\n",
       "        0.04398204, -0.17903057, -0.44254142,  0.9565507 , -0.5021272 ,\n",
       "       -0.24596594, -0.46586403,  0.303688  , -0.5461694 , -0.35384455,\n",
       "       -0.23061475,  0.52868026,  0.2668434 , -0.0102696 , -0.08109216,\n",
       "        0.0191    ,  0.41813615,  0.40807006,  0.6917642 ,  0.47726175,\n",
       "        0.43365845, -0.27206615, -0.01589089, -0.12814108,  0.5913478 ,\n",
       "       -0.41951793,  0.3028928 , -0.7431425 , -0.12264008, -0.2649586 ,\n",
       "        0.15672891,  0.3144309 , -0.4303634 , -0.24817678, -0.253743  ,\n",
       "       -0.44229516,  0.18545039,  0.40761223,  0.2645823 , -0.38039365,\n",
       "        0.3719729 , -0.59073186,  0.6209779 , -0.720864  ,  0.2809062 ,\n",
       "       -0.15171328, -0.38987526, -0.2875501 ,  0.69291186, -0.11661613,\n",
       "        0.5005387 , -0.09070349,  0.3412275 , -0.27777478,  0.7769373 ,\n",
       "        0.0780936 ,  0.30280954, -0.13493565, -0.32617876,  1.1584946 ,\n",
       "        0.00831382,  0.11918698,  0.09372976, -0.62009287, -0.50945437,\n",
       "        0.05973995,  0.00519589, -0.45678216, -0.06484447, -0.01159392,\n",
       "       -0.03667608, -0.666648  ,  0.02060845, -0.20434228,  0.734946  ,\n",
       "       -0.7610884 ,  0.08229592,  0.28554475, -0.24048363, -1.057029  ,\n",
       "        0.15444204, -0.14406706, -0.32559735, -0.20675547,  0.22350088,\n",
       "       -0.42777222, -0.1019358 ,  0.33426195, -0.25718123,  0.09736539,\n",
       "       -0.19342849,  0.1100117 ,  0.5645448 ,  0.48477042,  0.03779084],\n",
       "      dtype=float32)"
      ]
     },
     "execution_count": 35,
     "metadata": {},
     "output_type": "execute_result"
    }
   ],
   "source": [
    "soy_vector"
   ]
  },
  {
   "cell_type": "code",
   "execution_count": 36,
   "id": "517cdb48",
   "metadata": {},
   "outputs": [
    {
     "data": {
      "text/plain": [
       "array([ 5.87751269e-02, -1.82476193e-02,  1.60714239e-02, -3.07025816e-02,\n",
       "       -3.49096134e-02,  8.67093261e-03,  4.90531437e-02, -5.85547090e-03,\n",
       "       -3.25533301e-02, -6.76504010e-03,  2.15380378e-02, -1.41401831e-02,\n",
       "        2.09118798e-02, -1.25331925e-02,  2.53722700e-03, -5.58337988e-03,\n",
       "        1.44888703e-02,  1.18770590e-02,  5.55218430e-03,  2.74694357e-02,\n",
       "        1.70185417e-02,  8.86500720e-03,  1.31984835e-03, -3.93474853e-04,\n",
       "        1.83681231e-02, -2.47154757e-02, -4.78612864e-03,  1.22609632e-02,\n",
       "       -1.43110631e-02,  5.79913100e-03,  2.49188039e-02,  6.69897115e-03,\n",
       "       -2.60349293e-03, -4.01035650e-03, -5.62458625e-03,  3.84300724e-02,\n",
       "       -2.31462047e-02, -8.36731121e-03,  3.76196094e-02,  1.64223593e-02,\n",
       "       -2.75474950e-03,  9.34037566e-03, -2.83457600e-02,  2.72773281e-02,\n",
       "       -2.28293296e-02,  7.44854053e-03, -1.75925475e-02, -8.17127619e-03,\n",
       "       -1.68598033e-02,  1.35601154e-02,  2.37027034e-02,  4.64087911e-03,\n",
       "        1.20109878e-02,  1.19238636e-02,  1.28087178e-02, -7.05593126e-03,\n",
       "        2.02221945e-02,  4.29389291e-02, -3.83696072e-02, -2.16633528e-02,\n",
       "       -7.41769327e-03,  1.32757099e-02,  1.47500662e-02, -1.25682848e-02,\n",
       "        1.91053096e-02, -6.99458038e-03,  5.66031644e-03, -2.31232382e-02,\n",
       "        4.04932722e-02,  1.34676145e-02,  2.88439933e-02,  6.45055156e-03,\n",
       "        2.72657024e-03, -1.39306821e-02,  2.94769611e-02,  2.92865392e-02,\n",
       "        2.23504789e-02, -9.97285172e-03,  1.78784057e-02,  2.10696086e-02,\n",
       "       -4.52291854e-02,  6.85111526e-03, -1.72135830e-02, -5.65855065e-03,\n",
       "        4.50783689e-03,  4.50384207e-02, -2.00549141e-02, -9.71546397e-03,\n",
       "        2.78631854e-03,  1.24168396e-03,  3.54480818e-02, -6.67809136e-03,\n",
       "        1.24805393e-02,  3.55160306e-03, -9.30334907e-03,  5.07037900e-02,\n",
       "       -4.59629949e-03,  2.29662564e-02,  2.60634460e-02,  4.93813772e-04,\n",
       "       -1.56215793e-02,  1.86444502e-02,  3.62326503e-02, -7.59178586e-03,\n",
       "        2.22131833e-02,  4.49765321e-05, -1.23570338e-02,  2.88752210e-03,\n",
       "        1.71208549e-02, -2.63063684e-02,  1.85013693e-02,  2.56077759e-02,\n",
       "        1.64612979e-02, -1.65662507e-03,  2.44340338e-02,  2.14047655e-02,\n",
       "        2.48167035e-03,  1.26748877e-02,  1.59478672e-02,  1.65532809e-03,\n",
       "        1.65763255e-02, -4.28026030e-03,  2.81798840e-03,  6.01113178e-02,\n",
       "        2.31582467e-02,  4.16355096e-02,  1.44224390e-02,  1.52631039e-02,\n",
       "        9.39640496e-03,  3.17177689e-03,  1.17265135e-02,  2.58399714e-02,\n",
       "       -3.28400023e-02,  1.13453288e-02, -2.07356014e-03,  4.03605066e-02,\n",
       "       -1.22783855e-02, -3.43513209e-03, -2.62463894e-02, -7.30735576e-03,\n",
       "       -2.02622404e-03, -3.31338309e-03,  2.45254990e-02,  2.36506071e-02,\n",
       "        2.33098622e-02,  1.13002146e-02, -3.70486081e-03,  2.75936294e-02,\n",
       "       -1.44813322e-02, -1.67126767e-02, -1.31160486e-02,  2.23370008e-02,\n",
       "       -7.14121573e-03,  1.34516209e-02,  6.60723716e-04, -2.91239412e-04,\n",
       "       -2.07172856e-02,  1.65143404e-02, -6.59103598e-03,  1.29880791e-03,\n",
       "        2.04087282e-03,  1.24692647e-02,  2.73766723e-02, -1.14496779e-02,\n",
       "        4.63929586e-02, -2.68317107e-03,  3.94831188e-02,  3.32306977e-03,\n",
       "       -1.80145130e-02,  4.13685367e-02, -1.69169363e-02, -6.50230283e-03,\n",
       "       -2.17486862e-02,  1.41531164e-02,  1.11832367e-02,  1.34257842e-02,\n",
       "       -1.08912606e-02,  1.22046247e-02,  5.26128011e-03,  8.26743152e-03,\n",
       "       -1.64537393e-02,  4.64236960e-02,  5.14748180e-03, -4.05177400e-02,\n",
       "        2.21369956e-02,  2.09135879e-02,  6.40360638e-03, -1.43466145e-02,\n",
       "       -2.40236558e-02,  2.77189892e-02,  6.50518201e-03, -1.24528008e-02,\n",
       "        7.33031239e-03,  4.74499166e-03, -3.85268591e-02,  3.81922233e-04,\n",
       "       -1.07063120e-02,  3.16174589e-02,  1.39706386e-02,  2.33035488e-03],\n",
       "      dtype=float32)"
      ]
     },
     "execution_count": 36,
     "metadata": {},
     "output_type": "execute_result"
    }
   ],
   "source": [
    "titanic_vector"
   ]
  },
  {
   "cell_type": "code",
   "execution_count": 37,
   "id": "33fc0603",
   "metadata": {},
   "outputs": [
    {
     "data": {
      "text/plain": [
       "0.80271536"
      ]
     },
     "execution_count": 37,
     "metadata": {},
     "output_type": "execute_result"
    }
   ],
   "source": [
    "# soy와 titanic을 내적\n",
    "np.dot(soy_vector, titanic_vector)"
   ]
  },
  {
   "cell_type": "markdown",
   "id": "2f4703c2",
   "metadata": {},
   "source": [
    "- 1에 가깝게 나올수록 학습이 잘 되었다고 볼 수 있다. 너무 작은 경우, factors를 늘리거나 iterations를 늘려야 한다.  \n",
    "- factors=100, iterations=15일 때, 내적 값은 0.6412096이 나왔다.  \n",
    "- factors=200, iterations=20일 때, 내적 값은 0.80271536이 나왔다. 이를 통해 factors와 iterations를 적당히 늘리면 학습이 더 잘 될 수 있다는 것을 직접 확인해 보았다."
   ]
  },
  {
   "cell_type": "code",
   "execution_count": 38,
   "id": "2853b5f2",
   "metadata": {},
   "outputs": [
    {
     "data": {
      "text/plain": [
       "0.82279605"
      ]
     },
     "execution_count": 38,
     "metadata": {},
     "output_type": "execute_result"
    }
   ],
   "source": [
    "# soy와 Forrest Gump (1994)를 내적\n",
    "forrest_gump = movie_to_idx['Forrest Gump (1994)']\n",
    "forrest_gump_vector = als_model.item_factors[forrest_gump]\n",
    "np.dot(soy_vector, forrest_gump_vector)"
   ]
  },
  {
   "cell_type": "markdown",
   "id": "9a1d3474",
   "metadata": {},
   "source": [
    "## Step 7. 좋아하는 영화와 비슷한 영화 추천받기"
   ]
  },
  {
   "cell_type": "code",
   "execution_count": 39,
   "id": "4dc5ca91",
   "metadata": {},
   "outputs": [
    {
     "data": {
      "text/plain": [
       "[(27, 1.0000001),\n",
       " (1668, 0.31456566),\n",
       " (498, 0.31430653),\n",
       " (1638, 0.31292716),\n",
       " (626, 0.304258),\n",
       " (385, 0.29733407),\n",
       " (3326, 0.2947154),\n",
       " (2895, 0.29191893),\n",
       " (3399, 0.2912452),\n",
       " (3051, 0.2898655),\n",
       " (3376, 0.28787398),\n",
       " (508, 0.2865569),\n",
       " (2798, 0.28512615),\n",
       " (3257, 0.28509212),\n",
       " (2957, 0.28485456)]"
      ]
     },
     "execution_count": 39,
     "metadata": {},
     "output_type": "execute_result"
    }
   ],
   "source": [
    "# similar_items 메서드를 통하여 titanic과 비슷한 영화 찾기\n",
    "favorite_movie = 'Titanic (1997)'\n",
    "movie_id = movie_to_idx[favorite_movie]\n",
    "similar_movie = als_model.similar_items(movie_id, N=15)\n",
    "similar_movie"
   ]
  },
  {
   "cell_type": "code",
   "execution_count": 41,
   "id": "1aa2f6b6",
   "metadata": {},
   "outputs": [
    {
     "data": {
      "text/plain": [
       "['Titanic (1997)',\n",
       " 'Snow Day (2000)',\n",
       " 'Ever After: A Cinderella Story (1998)',\n",
       " 'Walking Dead, The (1995)',\n",
       " \"You've Got Mail (1998)\",\n",
       " 'Truman Show, The (1998)',\n",
       " 'Train of Life (Train De Vie) (1998)',\n",
       " 'American Pop (1981)',\n",
       " 'Panther (1995)',\n",
       " 'Hot Spot, The (1990)',\n",
       " 'Saragossa Manuscript, The (Rekopis znaleziony w Saragossie) (1965)',\n",
       " 'Ghost (1990)',\n",
       " 'Chopping Mall (a.k.a. Killbots) (1986)',\n",
       " 'Paris, France (1993)',\n",
       " 'Horror Express (1972)']"
      ]
     },
     "execution_count": 41,
     "metadata": {},
     "output_type": "execute_result"
    }
   ],
   "source": [
    "# movie_to_idx 를 뒤집어, index로부터 movie 이름을 얻는 dict 생성\n",
    "idx_to_movie = {v:k for k,v in movie_to_idx.items()}\n",
    "[idx_to_movie[i[0]] for i in similar_movie]"
   ]
  },
  {
   "cell_type": "code",
   "execution_count": 42,
   "id": "6cbfff3c",
   "metadata": {},
   "outputs": [],
   "source": [
    "# 위의 과정이 담긴 함수\n",
    "def get_similar_movie(movie_title: str):\n",
    "    movie_id = movie_to_idx[movie_title]\n",
    "    similar_movie = als_model.similar_items(movie_id)\n",
    "    similar_movie = [idx_to_movie[i[0]] for i in similar_movie]\n",
    "    return similar_movie"
   ]
  },
  {
   "cell_type": "code",
   "execution_count": 44,
   "id": "3f500edf",
   "metadata": {},
   "outputs": [
    {
     "data": {
      "text/plain": [
       "['Sound of Music, The (1965)',\n",
       " 'Oliver! (1968)',\n",
       " 'My Fair Lady (1964)',\n",
       " 'West Side Story (1961)',\n",
       " 'King and I, The (1956)',\n",
       " 'Gigi (1958)',\n",
       " 'Mary Poppins (1964)',\n",
       " 'White Christmas (1954)',\n",
       " \"Rosemary's Baby (1968)\",\n",
       " 'Phantom of the Opera, The (1943)']"
      ]
     },
     "execution_count": 44,
     "metadata": {},
     "output_type": "execute_result"
    }
   ],
   "source": [
    "# 확인(Sound of Music, The)\n",
    "get_similar_movie('Sound of Music, The (1965)')"
   ]
  },
  {
   "cell_type": "markdown",
   "id": "300a3599",
   "metadata": {},
   "source": [
    "## Step 8. 가장 좋아할 만한 영화 추천받기"
   ]
  },
  {
   "cell_type": "code",
   "execution_count": 45,
   "id": "3fc482b1",
   "metadata": {},
   "outputs": [
    {
     "data": {
      "text/plain": [
       "[(33, 0.42264327),\n",
       " (10, 0.39412194),\n",
       " (50, 0.34399915),\n",
       " (45, 0.24633175),\n",
       " (30, 0.20580798),\n",
       " (508, 0.2048539),\n",
       " (360, 0.20484325),\n",
       " (255, 0.20383382),\n",
       " (322, 0.20083323),\n",
       " (276, 0.19374602),\n",
       " (34, 0.18318427),\n",
       " (8, 0.18233386),\n",
       " (1844, 0.1781485),\n",
       " (191, 0.17432834),\n",
       " (1509, 0.16984655),\n",
       " (16, 0.16856393),\n",
       " (38, 0.16660392),\n",
       " (154, 0.16461277),\n",
       " (271, 0.16380867),\n",
       " (2, 0.16377375)]"
      ]
     },
     "execution_count": 45,
     "metadata": {},
     "output_type": "execute_result"
    }
   ],
   "source": [
    "user = user_to_idx['soy']\n",
    "# recommend에서는 user*item CSR Matrix를 받는다.\n",
    "movie_recommended = als_model.recommend(user, csr_data, N=20, filter_already_liked_items=True)\n",
    "movie_recommended"
   ]
  },
  {
   "cell_type": "code",
   "execution_count": 46,
   "id": "9f0b9404",
   "metadata": {},
   "outputs": [
    {
     "data": {
      "text/plain": [
       "['Aladdin (1992)',\n",
       " 'Beauty and the Beast (1991)',\n",
       " 'Toy Story 2 (1999)',\n",
       " 'Mary Poppins (1964)',\n",
       " 'Antz (1998)',\n",
       " 'Ghost (1990)',\n",
       " 'Dirty Dancing (1987)',\n",
       " \"There's Something About Mary (1998)\",\n",
       " 'Babe (1995)',\n",
       " 'North by Northwest (1959)',\n",
       " 'Mulan (1998)',\n",
       " 'Snow White and the Seven Dwarfs (1937)',\n",
       " 'Oliver! (1968)',\n",
       " 'Little Mermaid, The (1989)',\n",
       " 'English Patient, The (1996)',\n",
       " 'Tarzan (1999)',\n",
       " 'Sixth Sense, The (1999)',\n",
       " 'As Good As It Gets (1997)',\n",
       " 'Election (1999)',\n",
       " 'My Fair Lady (1964)']"
      ]
     },
     "execution_count": 46,
     "metadata": {},
     "output_type": "execute_result"
    }
   ],
   "source": [
    "[idx_to_movie[i[0]] for i in movie_recommended]"
   ]
  },
  {
   "cell_type": "code",
   "execution_count": 48,
   "id": "ec157259",
   "metadata": {},
   "outputs": [],
   "source": [
    "aladdin = movie_to_idx['Aladdin (1992)']\n",
    "explain = als_model.explain(user, csr_data, itemid=aladdin)"
   ]
  },
  {
   "cell_type": "code",
   "execution_count": 49,
   "id": "3f0bcd01",
   "metadata": {},
   "outputs": [
    {
     "data": {
      "text/plain": [
       "[('Lion King, The (1994)', 0.26831277253852553),\n",
       " ('Toy Story (1995)', 0.11787125062398916),\n",
       " ('Forrest Gump (1994)', 0.04622573079873821),\n",
       " ('Sound of Music, The (1965)', 0.019324606654951698),\n",
       " ('Titanic (1997)', -0.034441245894326955)]"
      ]
     },
     "execution_count": 49,
     "metadata": {},
     "output_type": "execute_result"
    }
   ],
   "source": [
    "[(idx_to_movie[i[0]], i[1]) for i in explain[1]]"
   ]
  },
  {
   "cell_type": "markdown",
   "id": "8ff76a5b",
   "metadata": {},
   "source": [
    "- aladdin을 추천해준 것에 있어서 lion king과 toy story가 가장 크게 기여했음을 알 수 있다."
   ]
  },
  {
   "cell_type": "markdown",
   "id": "60427320",
   "metadata": {},
   "source": [
    "------"
   ]
  },
  {
   "cell_type": "markdown",
   "id": "1e7ce9c6",
   "metadata": {},
   "source": [
    "## 회고\n",
    "1. CSR matrix가 정상적으로 만들어졌는가?  \n",
    "인덱싱하는 과정에서 어려움을 겪기는 했지만 사용자와 아이템 개수를 바탕으로 CSR matrix 자체는 정확한 사이즈로 만들어졌다. 인덱싱 과정은 조언도 구해보며 다시 시도해봐야할 거 같다.  \n",
    "2. MF 모델이 정상적으로 훈련되고 사용자와 아이템 벡터 내적수치가 의미있게 형성되었는가?  \n",
    "1에 가까울수록 훈련이 잘 되었다고 볼 수 있는데 factor와 iterations를 조절하며 잘 훈련되도록 만들어 사용자와 아이템 벡터 내적수치를 1에 가깝도록 만들 수 있었다.  \n",
    "3. 비슷한 영화 찾기와 유저에게 추천하기 과정이 정상적으로 진행되었는가?  \n",
    "비슷한 영화도 잘 찾아지는 거 같았고, 유저에게 추천하기에서 대표적으로 제일 먼저 나온 aladdin 영화를 바탕으로 유사도와 기여도를 측정해보았다. 기여도에 있어서 어느 정도 예상한대로 잘 나왔다.  \n",
    "4. 프로젝트를 진행하면서 느낀 점 : 이번 프로젝트에서 가장 어려웠던 점이 merge 전 데이터프레임을 써야할 지 merge 후 데이터프레임을 써야할 지와 merge 후 데이터프레임을 사용할 때 movie_id 컬럼을 사용해야할 지 title 컬럼을 사용해야할 지 구분하는 것이었다. 그 때문에 차원이 맞지 않아 에러도 많이 나고 결과가 이상해서 처음부터 잘못된 점을 찾느라 시간이 많이 소요됐다. 좀 더 예리하게 데이터를 보는 능력을 키워야 할 필요성을 느꼈다."
   ]
  }
 ],
 "metadata": {
  "kernelspec": {
   "display_name": "Python 3 (ipykernel)",
   "language": "python",
   "name": "python3"
  },
  "language_info": {
   "codemirror_mode": {
    "name": "ipython",
    "version": 3
   },
   "file_extension": ".py",
   "mimetype": "text/x-python",
   "name": "python",
   "nbconvert_exporter": "python",
   "pygments_lexer": "ipython3",
   "version": "3.9.7"
  }
 },
 "nbformat": 4,
 "nbformat_minor": 5
}
