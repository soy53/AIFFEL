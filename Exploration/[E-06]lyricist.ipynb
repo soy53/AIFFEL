{
 "cells": [
  {
   "cell_type": "markdown",
   "id": "4a3e4239",
   "metadata": {},
   "source": [
    "# 인공 작사가 만들기"
   ]
  },
  {
   "cell_type": "markdown",
   "id": "a3a8d780",
   "metadata": {},
   "source": [
    "### 라이브러리 버전 확인"
   ]
  },
  {
   "cell_type": "code",
   "execution_count": 1,
   "id": "e4f0e277",
   "metadata": {},
   "outputs": [
    {
     "name": "stdout",
     "output_type": "stream",
     "text": [
      "2.6.0\n"
     ]
    }
   ],
   "source": [
    "import glob # glob 함수 : 사용자가 제시한 조건에 맞는 파일명을 리스트 형식으로 반환\n",
    "import tensorflow\n",
    "\n",
    "print(tensorflow.__version__)"
   ]
  },
  {
   "cell_type": "markdown",
   "id": "026262fc",
   "metadata": {},
   "source": [
    "## Step 1. 데이터 다운로드"
   ]
  },
  {
   "cell_type": "code",
   "execution_count": 2,
   "id": "a0400c03",
   "metadata": {},
   "outputs": [
    {
     "name": "stdout",
     "output_type": "stream",
     "text": [
      "ln: failed to create symbolic link '/aiffel/aiffel/lyricist/data/data': Read-only file system\r\n"
     ]
    }
   ],
   "source": [
    "!mkdir -p ~/aiffel/lyricist/models\n",
    "!ln -s ~/data ~/aiffel/lyricist/data\n",
    "# 이미 이전에 불러와서 failed가 떴다."
   ]
  },
  {
   "cell_type": "markdown",
   "id": "0203c90c",
   "metadata": {},
   "source": [
    "## Step 2. 데이터 읽어오기"
   ]
  },
  {
   "cell_type": "code",
   "execution_count": 3,
   "id": "7f20a8f4",
   "metadata": {},
   "outputs": [
    {
     "name": "stdout",
     "output_type": "stream",
     "text": [
      "데이터 크기: 187088\n",
      "Examples:\n",
      " [\"Busted flat in Baton Rouge, waitin' for a train\", \"And I's feelin' near as faded as my jeans\", 'Bobby thumbed a diesel down, just before it rained']\n"
     ]
    }
   ],
   "source": [
    "import glob\n",
    "import os, re\n",
    "import numpy as np\n",
    "import tensorflow as tf\n",
    "\n",
    "txt_file_path = os.getenv('HOME')+'/aiffel/lyricist/data/lyrics/*'\n",
    "\n",
    "txt_list = glob.glob(txt_file_path) # txt_file_path 경로에 있는 모든 파일명을 리스트 형식으로 txt_list에 할당\n",
    "\n",
    "raw_corpus = []\n",
    "\n",
    "for txt_file in txt_list:\n",
    "    with open(txt_file, \"r\") as f:\n",
    "        raw = f.read().splitlines() # splitlines()  : 여러라인으로 구분되어 있는 문자열을 한라인씩 분리하여 리스트로 반환\n",
    "        raw_corpus.extend(raw) \n",
    "        \n",
    "print(\"데이터 크기:\", len(raw_corpus))\n",
    "print(\"Examples:\\n\", raw_corpus[:3])"
   ]
  },
  {
   "cell_type": "markdown",
   "id": "23a52790",
   "metadata": {},
   "source": [
    "## Step 3. 데이터 정제"
   ]
  },
  {
   "cell_type": "code",
   "execution_count": 4,
   "id": "0611f16c",
   "metadata": {},
   "outputs": [
    {
     "name": "stdout",
     "output_type": "stream",
     "text": [
      "Busted flat in Baton Rouge, waitin' for a train\n",
      "And I's feelin' near as faded as my jeans\n",
      "Bobby thumbed a diesel down, just before it rained\n",
      "It rode us all the way to New Orleans I pulled my harpoon out of my dirty red bandanna\n",
      "I was playin' soft while Bobby sang the blues, yeah\n",
      "Windshield wipers slappin' time, I was holdin' Bobby's hand in mine\n",
      "We sang every song that driver knew Freedom's just another word for nothin' left to lose\n",
      "Nothin', don't mean nothin' hon' if it ain't free, no no\n",
      "And, feelin' good was easy, Lord, when he sang the blues\n",
      "You know, feelin' good was good enough for me\n"
     ]
    }
   ],
   "source": [
    "# 필요없는 문장 지우기\n",
    "for idx, sentence in enumerate(raw_corpus):\n",
    "    if len(sentence) == 0: continue # 길이가 0인 문장 건너뛰기\n",
    "        \n",
    "    if idx > 9 : break # 문장 10개만 확인\n",
    "        \n",
    "    print(sentence)"
   ]
  },
  {
   "cell_type": "code",
   "execution_count": 5,
   "id": "3237b1c1",
   "metadata": {},
   "outputs": [],
   "source": [
    "# 문장 전처리\n",
    "def preprocess_sentence(sentence):\n",
    "    sentence = sentence.lower().strip() # 소문자로 바꾸고, 양쪽 공백 지우기\n",
    "    sentence = re.sub(r\"([?.!,¿])\", r\" \\1 \", sentence) # 특수문자 양쪽에 공백 넣기\n",
    "    sentence = re.sub(r'[\" \"]+', \" \", sentence) # 여러개의 공백은 하나의 공백으로 바꾸기\n",
    "    sentence = re.sub(r\"[^a-zA-Z?.!,¿]+\", \" \", sentence) # a-zA-Z?.!,¿가 아닌 모든 문자를 하나의 공백으로 바꾸기\n",
    "    sentence = sentence.strip() # 다시 양쪽 공백 지우기\n",
    "    sentence = '< start > ' + sentence + ' < end >' # 문장 시작에는 < start > , 끝에는 < end >추가\n",
    "    return sentence"
   ]
  },
  {
   "cell_type": "code",
   "execution_count": 8,
   "id": "5c4d1022",
   "metadata": {},
   "outputs": [],
   "source": [
    "sentence_split = preprocess_sentence(sentence).split()"
   ]
  },
  {
   "cell_type": "markdown",
   "id": "85fdfeba",
   "metadata": {},
   "source": [
    "- 공백 기준으로 분할하여 각 문장을 토큰화했을 때처럼 만들어주었다."
   ]
  },
  {
   "cell_type": "code",
   "execution_count": 9,
   "id": "cce559b9",
   "metadata": {},
   "outputs": [
    {
     "name": "stdout",
     "output_type": "stream",
     "text": [
      "['<start> busted flat in baton rouge , waitin for a train <end>', '<start> and i s feelin near as faded as my jeans <end>', '<start> bobby thumbed a diesel down , just before it rained <end>', '<start> it rode us all the way to new orleans i pulled my harpoon out of my dirty red bandanna <end>', '<start> i was playin soft while bobby sang the blues , yeah <end>', '<start> windshield wipers slappin time , i was holdin bobby s hand in mine <end>', '<start> we sang every song that driver knew freedom s just another word for nothin left to lose <end>', '<start> nothin , don t mean nothin hon if it ain t free , no no <end>', '<start> and , feelin good was easy , lord , when he sang the blues <end>', '<start> you know , feelin good was good enough for me <end>']\n"
     ]
    },
    {
     "data": {
      "text/plain": [
       "175986"
      ]
     },
     "execution_count": 9,
     "metadata": {},
     "output_type": "execute_result"
    }
   ],
   "source": [
    "# 정제 데이터 구축하기\n",
    "corpus = []\n",
    "\n",
    "# raw_corpus list에 저장된 문장들을 순서대로 반환하여 sentence에 저장\n",
    "for sentence in raw_corpus:\n",
    "    if len(sentence) == 0: continue # 길이가 0인 문장 제외\n",
    "    if len(sentence_split) >= 17: continue # <start>, <end> 제외하고 토큰이 15개를 넘어가는 문장 제외\n",
    "    \n",
    "    # 앞서 구현한 preprocess_sentence() 함수를 이용하여 문장을 정제를 하고 담아주기\n",
    "    preprocessed_sentence = preprocess_sentence(sentence)\n",
    "    corpus.append(preprocessed_sentence)\n",
    "\n",
    "# 정제된 결과를 10개만 확인\n",
    "print(corpus[:10])\n",
    "len(corpus)"
   ]
  },
  {
   "cell_type": "markdown",
   "id": "5237a2d1",
   "metadata": {},
   "source": [
    "## Step 4. 평가 데이터셋 분리"
   ]
  },
  {
   "cell_type": "code",
   "execution_count": 10,
   "id": "f5fea447",
   "metadata": {},
   "outputs": [
    {
     "name": "stdout",
     "output_type": "stream",
     "text": [
      "[[   2 3609 1692 ...    0    0    0]\n",
      " [   2    8    5 ...    0    0    0]\n",
      " [   2  804 7664 ...    0    0    0]\n",
      " ...\n",
      " [   2    5   22 ...    0    0    0]\n",
      " [   2    5   22 ...    0    0    0]\n",
      " [   2    5   22 ...    0    0    0]] <keras_preprocessing.text.Tokenizer object at 0x7f43920cbd60>\n"
     ]
    }
   ],
   "source": [
    "# 15,000단어를 기억할 수 있는 tokenizer 만들기\n",
    "def tokenize(corpus):\n",
    "    tokenizer = tf.keras.preprocessing.text.Tokenizer(\n",
    "        num_words=15000,\n",
    "        filters=' ', # 이미 문장을 정제했기 떄문에 filters는 필요없음\n",
    "        oov_token=\"<unk>\" # 15000단어에 포함되지 못한 단어는 \"\"로 바꾸기\n",
    "    )\n",
    "    \n",
    "    # corpus를 이용해 tokenizer 내부의 단어장 완성\n",
    "    tokenizer.fit_on_texts(corpus)\n",
    "    \n",
    "    # 준비한 tokenizer를 이용해 corpus를 Tensor로 변환\n",
    "    tensor = tokenizer.texts_to_sequences(corpus)\n",
    "    \n",
    "    # 입력 데이터의 시퀀스 길이를 일정하게 맞춰주기\n",
    "    tensor = tf.keras.preprocessing.sequence.pad_sequences(tensor, padding='post')\n",
    "    \n",
    "    print(tensor, tokenizer)\n",
    "    return tensor, tokenizer\n",
    "\n",
    "tensor, tokenizer = tokenize(corpus)"
   ]
  },
  {
   "cell_type": "markdown",
   "id": "64ce63b2",
   "metadata": {},
   "source": [
    "- 텐서플로우의 Tokenizer와 pad_sequences를 사용해서 토큰화할 수 있다.\n",
    "- tf.keras.preprocessing.text.Tokenizer 패키지 : 정제된 데이터를 토큰화하고, 단어 사전을 만들어주며, 데이터를 숫자로 변환(벡터화 vectorize)  \n",
    "- tokenizer.fit_on_texts(texts): 문자 데이터를 입력받아 리스트의 형태로 변환하는 메서드  \n",
    "- tokenizer.texts_to_sequences(texts): 텍스트 안의 단어들을 숫자의 시퀀스 형태로 변환하는 메서드"
   ]
  },
  {
   "cell_type": "code",
   "execution_count": 12,
   "id": "6d4402d9",
   "metadata": {},
   "outputs": [
    {
     "name": "stdout",
     "output_type": "stream",
     "text": [
      "[[   2 3609 1692   14 7058 3995    4 1100   28    9  681    3    0    0]\n",
      " [   2    8    5   16  513  848   81 2589   81   13  948    3    0    0]\n",
      " [   2  804 7664    9 6048   60    4   36  185   11 4575    3    0    0]]\n"
     ]
    }
   ],
   "source": [
    "# 3번째 행, 14번째 열까지만 출력\n",
    "print(tensor[:3, :14])"
   ]
  },
  {
   "cell_type": "markdown",
   "id": "10ec82a3",
   "metadata": {},
   "source": [
    "- 텐서 데이터는 모두 정수로 이루어져 있으며, 이 숫자는 tokenizer에 구축된 단어 사전의 인덱스이다."
   ]
  },
  {
   "cell_type": "code",
   "execution_count": 13,
   "id": "4b0673fb",
   "metadata": {},
   "outputs": [
    {
     "name": "stdout",
     "output_type": "stream",
     "text": [
      "1 : <unk>\n",
      "2 : <start>\n",
      "3 : <end>\n",
      "4 : ,\n",
      "5 : i\n",
      "6 : the\n",
      "7 : you\n",
      "8 : and\n",
      "9 : a\n",
      "10 : to\n"
     ]
    }
   ],
   "source": [
    "# tokenizer.index_word: 현재 계산된 단어의 인덱스와 인덱스에 해당하는 단어를 dictionary 형태로 반환\n",
    "for idx in tokenizer.index_word:\n",
    "    print(idx, \":\", tokenizer.index_word[idx])\n",
    "\n",
    "    if idx >= 10: break"
   ]
  },
  {
   "cell_type": "code",
   "execution_count": 14,
   "id": "8daf59a5",
   "metadata": {},
   "outputs": [
    {
     "name": "stdout",
     "output_type": "stream",
     "text": [
      "[   2 3609 1692   14 7058 3995    4 1100   28    9  681    3    0    0\n",
      "    0    0    0    0    0    0    0    0    0    0    0    0    0    0\n",
      "    0    0    0    0    0    0    0    0    0    0    0    0    0    0\n",
      "    0    0    0    0    0    0    0    0    0    0    0    0    0    0\n",
      "    0    0    0    0    0    0    0    0    0    0    0    0    0    0\n",
      "    0    0    0    0    0    0    0    0    0    0    0    0    0    0\n",
      "    0    0    0    0    0    0    0    0    0    0    0    0    0    0\n",
      "    0    0    0    0    0    0    0    0    0    0    0    0    0    0\n",
      "    0    0    0    0    0    0    0    0    0    0    0    0    0    0\n",
      "    0    0    0    0    0    0    0    0    0    0    0    0    0    0\n",
      "    0    0    0    0    0    0    0    0    0    0    0    0    0    0\n",
      "    0    0    0    0    0    0    0    0    0    0    0    0    0    0\n",
      "    0    0    0    0    0    0    0    0    0    0    0    0    0    0\n",
      "    0    0    0    0    0    0    0    0    0    0    0    0    0    0\n",
      "    0    0    0    0    0    0    0    0    0    0    0    0    0    0\n",
      "    0    0    0    0    0    0    0    0    0    0    0    0    0    0\n",
      "    0    0    0    0    0    0    0    0    0    0    0    0    0    0\n",
      "    0    0    0    0    0    0    0    0    0    0    0    0    0    0\n",
      "    0    0    0    0    0    0    0    0    0    0    0    0    0    0\n",
      "    0    0    0    0    0    0    0    0    0    0    0    0    0    0\n",
      "    0    0    0    0    0    0    0    0    0    0    0    0    0    0\n",
      "    0    0    0    0    0    0    0    0    0    0    0    0    0    0\n",
      "    0    0    0    0    0    0    0    0    0    0    0    0    0    0\n",
      "    0    0    0    0    0    0    0    0    0    0    0    0    0    0\n",
      "    0    0    0    0    0    0    0    0    0    0]\n",
      "[3609 1692   14 7058 3995    4 1100   28    9  681    3    0    0    0\n",
      "    0    0    0    0    0    0    0    0    0    0    0    0    0    0\n",
      "    0    0    0    0    0    0    0    0    0    0    0    0    0    0\n",
      "    0    0    0    0    0    0    0    0    0    0    0    0    0    0\n",
      "    0    0    0    0    0    0    0    0    0    0    0    0    0    0\n",
      "    0    0    0    0    0    0    0    0    0    0    0    0    0    0\n",
      "    0    0    0    0    0    0    0    0    0    0    0    0    0    0\n",
      "    0    0    0    0    0    0    0    0    0    0    0    0    0    0\n",
      "    0    0    0    0    0    0    0    0    0    0    0    0    0    0\n",
      "    0    0    0    0    0    0    0    0    0    0    0    0    0    0\n",
      "    0    0    0    0    0    0    0    0    0    0    0    0    0    0\n",
      "    0    0    0    0    0    0    0    0    0    0    0    0    0    0\n",
      "    0    0    0    0    0    0    0    0    0    0    0    0    0    0\n",
      "    0    0    0    0    0    0    0    0    0    0    0    0    0    0\n",
      "    0    0    0    0    0    0    0    0    0    0    0    0    0    0\n",
      "    0    0    0    0    0    0    0    0    0    0    0    0    0    0\n",
      "    0    0    0    0    0    0    0    0    0    0    0    0    0    0\n",
      "    0    0    0    0    0    0    0    0    0    0    0    0    0    0\n",
      "    0    0    0    0    0    0    0    0    0    0    0    0    0    0\n",
      "    0    0    0    0    0    0    0    0    0    0    0    0    0    0\n",
      "    0    0    0    0    0    0    0    0    0    0    0    0    0    0\n",
      "    0    0    0    0    0    0    0    0    0    0    0    0    0    0\n",
      "    0    0    0    0    0    0    0    0    0    0    0    0    0    0\n",
      "    0    0    0    0    0    0    0    0    0    0    0    0    0    0\n",
      "    0    0    0    0    0    0    0    0    0    0]\n"
     ]
    }
   ],
   "source": [
    "# tensor에서 마지막 토큰을 잘라내서 소스 문장을 생성하기\n",
    "# 마지막 토큰은 <end>가 아니라 <pad>일 가능성이 높다.\n",
    "src_input = tensor[:, :-1]  \n",
    "# tensor에서 <start>를 잘라내서 타겟 문장을 생성하기\n",
    "tgt_input = tensor[:, 1:]    \n",
    "\n",
    "print(src_input[0])\n",
    "print(tgt_input[0])"
   ]
  },
  {
   "cell_type": "code",
   "execution_count": 15,
   "id": "83e114ba",
   "metadata": {},
   "outputs": [
    {
     "name": "stdout",
     "output_type": "stream",
     "text": [
      "(140788, 346) (140788, 346)\n",
      "(35198, 346) (35198, 346)\n"
     ]
    }
   ],
   "source": [
    "# 훈련데이터와 평가데이터 분리하기(총 데이터의 20%를 평가 데이터셋으로 사용)\n",
    "import sklearn\n",
    "from sklearn.model_selection import train_test_split\n",
    "\n",
    "enc_train, enc_val, dec_train, dec_val = train_test_split(src_input, tgt_input, test_size=0.2, random_state=20)\n",
    "\n",
    "print(enc_train.shape, dec_train.shape)\n",
    "print(enc_val.shape, dec_val.shape)"
   ]
  },
  {
   "cell_type": "code",
   "execution_count": 16,
   "id": "ee766fa9",
   "metadata": {},
   "outputs": [
    {
     "data": {
      "text/plain": [
       "<BatchDataset shapes: ((256, 346), (256, 346)), types: (tf.int32, tf.int32)>"
      ]
     },
     "execution_count": 16,
     "metadata": {},
     "output_type": "execute_result"
    }
   ],
   "source": [
    "# 데이터셋 객체를 생성\n",
    "BUFFER_SIZE = len(src_input)\n",
    "BATCH_SIZE = 256\n",
    "steps_per_epoch = len(src_input) // BATCH_SIZE\n",
    "\n",
    "VOCAB_SIZE = tokenizer.num_words + 1\n",
    "# tokenizer가 구축한 단어사전 내 15000개와, 여기 포함되지 않은 0:를 포함하여 15001개\n",
    "# tokenizer.num_words: 주어진 데이터의 문장들에서 빈도수가 높은 n개의 단어만 선택\n",
    "# tokenize() 함수에서 num_words를 15000개로 선언했기 때문에, tokenizer.num_words의 값은 15000   \n",
    "\n",
    "# 준비한 데이터 소스로부터 데이터셋 만들기\n",
    "dataset = tf.data.Dataset.from_tensor_slices((src_input, tgt_input))\n",
    "dataset = dataset.shuffle(BUFFER_SIZE)\n",
    "dataset = dataset.batch(BATCH_SIZE, drop_remainder=True)\n",
    "dataset"
   ]
  },
  {
   "cell_type": "markdown",
   "id": "de9c48da",
   "metadata": {},
   "source": [
    "## Step 5. 인공지능 만들기"
   ]
  },
  {
   "cell_type": "code",
   "execution_count": 17,
   "id": "50f27b25",
   "metadata": {},
   "outputs": [],
   "source": [
    "class TextGenerator(tf.keras.Model):\n",
    "    def __init__(self, vocab_size, embedding_size, hidden_size):\n",
    "        super().__init__()\n",
    "        # 1개의 Embedding 레이어, 2개의 LSTM 레이어, 1개의 Dense 레이어로 구성\n",
    "        # Embedding 레이어는 단어 사전의 인덱스 값을 해당 인덱스 번째의 워드 벡터로 바꿔준다.\n",
    "        # 이 워드 벡터는 의미 벡터 공간에서 단어의 추상적 표현으로 사용된다. \n",
    "        self.embedding = tf.keras.layers.Embedding(vocab_size, embedding_size) \n",
    "        self.rnn_1 = tf.keras.layers.LSTM(hidden_size, return_sequences=True)  \n",
    "        self.rnn_2 = tf.keras.layers.LSTM(hidden_size, return_sequences=True)\n",
    "        self.linear = tf.keras.layers.Dense(vocab_size)\n",
    "        \n",
    "    def call(self, x):\n",
    "        out = self.embedding(x)\n",
    "        out = self.rnn_1(out)\n",
    "        out = self.rnn_2(out)\n",
    "        out = self.linear(out)\n",
    "        \n",
    "        return out\n",
    "# embedding size 값이 커질수록 단어의 추상적인 특징들을 더 잡아낼 수 있지만 그만큼 충분한 데이터가 없으면 안좋은 결과 값을 가져온다.  \n",
    "embedding_size = 128 # 워드 벡터의 차원수, 단어가 추상적으로 표현되는 크기\n",
    "hidden_size = 128 # 모델에 얼마나 많은 일꾼을 둘 것인가? 정도\n",
    "model = TextGenerator(tokenizer.num_words + 1, embedding_size , hidden_size) # tokenizer.num_words에 +1인 이유는 문장에 없는 pad가 사용되었기 때문"
   ]
  },
  {
   "cell_type": "markdown",
   "id": "009c2ae5",
   "metadata": {},
   "source": [
    "- 입력 텐서에 들어 있는 단어 사전의 인덱스 -> Embedding 레이어 : 인덱스 값을 해당 인덱스 번째의 워드 벡터로 바꿔주기 -> 워드 벡터는 의미 벡터 공간에서 단어의 추상적 표현(representation)으로 사용  \n",
    "- embedding_size = 2048, hidden_size = 2048로 설정했을 때, 한 배치만 불러온 데이터를 모델에 넣어봤을 때, 크기가 너무 큰 나머지 resource exhausted error가 발생했다.  \n",
    "- embedding_size = 1024, hidden_size = 1024로 설정했을 때, 한 배치만 불러온 데이터를 모델에 넣어봤을 때, 다시 resourceexhaustederror가 발생했다. 여전히 크기가 너무 컸던 거 같다.  \n",
    "- embedding_size = 256, hidden_size = 1024로 설정했을 때와 embedding_size = 128, hidden_size = 128으로 설정했을 때에도 계속해서 같은 에러가 발생했고, 처음부터 다시 셀을 돌려보기로 했다. 그러면서 embedding_size = 128, hidden_size = 128으로 설정했는데, 더이상 resource exhausted error가 발생하지 않았다. 반복해서 셀을 돌려서 그런지 같은 숫자로 해도 더이상 에러가 발생하지 않았다. 그리고 너무 큰 숫자로 embedding_size와 hidden_size를 결정하는 것이 좋은 것만은 아니라고 느꼈다. 알맞는 size를 찾는 것이 더 중요하다는 것을 다시 한 번 알 수 있었다."
   ]
  },
  {
   "cell_type": "code",
   "execution_count": 18,
   "id": "31c1d36d",
   "metadata": {},
   "outputs": [
    {
     "data": {
      "text/plain": [
       "<tf.Tensor: shape=(256, 346, 15001), dtype=float32, numpy=\n",
       "array([[[ 1.27412946e-04,  1.30685003e-04, -1.84746314e-04, ...,\n",
       "         -4.13522102e-05, -7.86557357e-05,  3.36227022e-05],\n",
       "        [ 2.35789528e-04,  2.56934029e-04, -2.12266808e-04, ...,\n",
       "         -1.04038663e-04, -1.84200209e-04, -1.68555256e-04],\n",
       "        [ 2.95492937e-04,  4.61630290e-04, -9.11760580e-05, ...,\n",
       "         -1.77651586e-04, -3.13620432e-04, -4.15153976e-04],\n",
       "        ...,\n",
       "        [ 6.65247906e-04,  1.81481242e-03,  1.51780387e-03, ...,\n",
       "         -1.44216130e-04, -2.51107704e-04, -2.47210683e-03],\n",
       "        [ 6.65247906e-04,  1.81481254e-03,  1.51780387e-03, ...,\n",
       "         -1.44216130e-04, -2.51107733e-04, -2.47210683e-03],\n",
       "        [ 6.65247906e-04,  1.81481242e-03,  1.51780387e-03, ...,\n",
       "         -1.44216130e-04, -2.51107704e-04, -2.47210683e-03]],\n",
       "\n",
       "       [[ 1.27412946e-04,  1.30685003e-04, -1.84746314e-04, ...,\n",
       "         -4.13522102e-05, -7.86557357e-05,  3.36227022e-05],\n",
       "        [ 1.04817140e-04,  1.54884547e-04, -3.50023503e-04, ...,\n",
       "         -6.77767966e-05, -2.00766110e-04, -1.97235295e-05],\n",
       "        [ 1.21593475e-04,  4.90341481e-05, -2.04624157e-04, ...,\n",
       "         -8.47376286e-05, -1.25600869e-04, -5.88254006e-05],\n",
       "        ...,\n",
       "        [ 6.65247964e-04,  1.81481254e-03,  1.51780411e-03, ...,\n",
       "         -1.44216319e-04, -2.51108082e-04, -2.47210637e-03],\n",
       "        [ 6.65247964e-04,  1.81481254e-03,  1.51780411e-03, ...,\n",
       "         -1.44216319e-04, -2.51108082e-04, -2.47210637e-03],\n",
       "        [ 6.65247964e-04,  1.81481254e-03,  1.51780411e-03, ...,\n",
       "         -1.44216319e-04, -2.51108082e-04, -2.47210637e-03]],\n",
       "\n",
       "       [[ 1.27412946e-04,  1.30685003e-04, -1.84746314e-04, ...,\n",
       "         -4.13522102e-05, -7.86557357e-05,  3.36227022e-05],\n",
       "        [ 2.37688597e-04,  2.81091838e-04, -1.97234345e-04, ...,\n",
       "          6.39651626e-05, -1.83094817e-04,  2.80614368e-05],\n",
       "        [ 3.83251463e-04,  2.86269700e-04, -9.11684110e-05, ...,\n",
       "          1.08256572e-04, -1.69618565e-04,  4.33840723e-05],\n",
       "        ...,\n",
       "        [ 6.65247615e-04,  1.81481207e-03,  1.51780364e-03, ...,\n",
       "         -1.44216043e-04, -2.51108024e-04, -2.47210613e-03],\n",
       "        [ 6.65247731e-04,  1.81481196e-03,  1.51780352e-03, ...,\n",
       "         -1.44216159e-04, -2.51107966e-04, -2.47210613e-03],\n",
       "        [ 6.65247615e-04,  1.81481207e-03,  1.51780364e-03, ...,\n",
       "         -1.44216043e-04, -2.51108024e-04, -2.47210613e-03]],\n",
       "\n",
       "       ...,\n",
       "\n",
       "       [[ 1.27412946e-04,  1.30685003e-04, -1.84746314e-04, ...,\n",
       "         -4.13522102e-05, -7.86557357e-05,  3.36227022e-05],\n",
       "        [ 3.04995308e-04,  1.77890091e-04, -2.93592107e-04, ...,\n",
       "          5.62631249e-05, -4.03395643e-05,  1.56880138e-04],\n",
       "        [ 2.99975713e-04,  1.72774890e-04, -4.20217955e-04, ...,\n",
       "          1.69855339e-04,  4.07456137e-05,  2.99199019e-04],\n",
       "        ...,\n",
       "        [ 6.65247848e-04,  1.81481207e-03,  1.51780376e-03, ...,\n",
       "         -1.44216217e-04, -2.51108198e-04, -2.47210660e-03],\n",
       "        [ 6.65247848e-04,  1.81481207e-03,  1.51780376e-03, ...,\n",
       "         -1.44216217e-04, -2.51108198e-04, -2.47210660e-03],\n",
       "        [ 6.65247848e-04,  1.81481207e-03,  1.51780376e-03, ...,\n",
       "         -1.44216217e-04, -2.51108198e-04, -2.47210660e-03]],\n",
       "\n",
       "       [[ 1.27412946e-04,  1.30685003e-04, -1.84746314e-04, ...,\n",
       "         -4.13522102e-05, -7.86557357e-05,  3.36227022e-05],\n",
       "        [ 3.04631860e-04,  1.56372233e-04, -3.52807489e-04, ...,\n",
       "         -9.85567822e-05, -7.58349925e-05,  2.11239676e-04],\n",
       "        [ 5.20282250e-04,  2.60422763e-04, -4.51558211e-04, ...,\n",
       "         -1.55230926e-04, -1.64787038e-04,  2.35567917e-04],\n",
       "        ...,\n",
       "        [ 6.65247615e-04,  1.81481289e-03,  1.51780376e-03, ...,\n",
       "         -1.44216494e-04, -2.51108548e-04, -2.47210660e-03],\n",
       "        [ 6.65247615e-04,  1.81481289e-03,  1.51780376e-03, ...,\n",
       "         -1.44216494e-04, -2.51108548e-04, -2.47210660e-03],\n",
       "        [ 6.65247615e-04,  1.81481289e-03,  1.51780376e-03, ...,\n",
       "         -1.44216494e-04, -2.51108548e-04, -2.47210660e-03]],\n",
       "\n",
       "       [[ 1.27412946e-04,  1.30685003e-04, -1.84746314e-04, ...,\n",
       "         -4.13522102e-05, -7.86557357e-05,  3.36227022e-05],\n",
       "        [ 1.46908525e-04,  2.15909924e-04, -2.61833862e-04, ...,\n",
       "         -7.48307939e-05, -1.35173468e-04,  1.37455854e-05],\n",
       "        [ 1.93168395e-04,  2.95174366e-04, -1.99467540e-04, ...,\n",
       "         -6.63027386e-05, -3.80439975e-04, -7.26069120e-05],\n",
       "        ...,\n",
       "        [ 6.65247964e-04,  1.81481231e-03,  1.51780422e-03, ...,\n",
       "         -1.44216086e-04, -2.51108519e-04, -2.47210613e-03],\n",
       "        [ 6.65247964e-04,  1.81481231e-03,  1.51780422e-03, ...,\n",
       "         -1.44216086e-04, -2.51108519e-04, -2.47210613e-03],\n",
       "        [ 6.65247964e-04,  1.81481231e-03,  1.51780422e-03, ...,\n",
       "         -1.44216086e-04, -2.51108519e-04, -2.47210613e-03]]],\n",
       "      dtype=float32)>"
      ]
     },
     "execution_count": 18,
     "metadata": {},
     "output_type": "execute_result"
    }
   ],
   "source": [
    "# 데이터셋에서 데이터 한 배치만 불러오는 방법(model에 데이터를 아주 조금 넣어보는 것)\n",
    "# model의 input shape이 결정되면서 model.build()가 자동으로 호출됨.\n",
    "for src_sample, tgt_sample in dataset.take(1): break\n",
    "\n",
    "# 한 배치만 불러온 데이터를 모델에 넣어보기\n",
    "model(src_sample)"
   ]
  },
  {
   "cell_type": "code",
   "execution_count": 19,
   "id": "2104bb6e",
   "metadata": {},
   "outputs": [
    {
     "name": "stdout",
     "output_type": "stream",
     "text": [
      "Model: \"text_generator\"\n",
      "_________________________________________________________________\n",
      "Layer (type)                 Output Shape              Param #   \n",
      "=================================================================\n",
      "embedding (Embedding)        multiple                  1920128   \n",
      "_________________________________________________________________\n",
      "lstm (LSTM)                  multiple                  131584    \n",
      "_________________________________________________________________\n",
      "lstm_1 (LSTM)                multiple                  131584    \n",
      "_________________________________________________________________\n",
      "dense (Dense)                multiple                  1935129   \n",
      "=================================================================\n",
      "Total params: 4,118,425\n",
      "Trainable params: 4,118,425\n",
      "Non-trainable params: 0\n",
      "_________________________________________________________________\n"
     ]
    }
   ],
   "source": [
    "# 모델의 구조를 확인\n",
    "model.summary()"
   ]
  },
  {
   "cell_type": "code",
   "execution_count": 20,
   "id": "cfe37537",
   "metadata": {},
   "outputs": [
    {
     "name": "stdout",
     "output_type": "stream",
     "text": [
      "Epoch 1/10\n",
      "687/687 [==============================] - 553s 801ms/step - loss: 0.4794 - val_loss: 0.1593\n",
      "Epoch 2/10\n",
      "687/687 [==============================] - 554s 806ms/step - loss: 0.1602 - val_loss: 0.1520\n",
      "Epoch 3/10\n",
      "687/687 [==============================] - 554s 806ms/step - loss: 0.1497 - val_loss: 0.1471\n",
      "Epoch 4/10\n",
      "687/687 [==============================] - 554s 806ms/step - loss: 0.1454 - val_loss: 0.1427\n",
      "Epoch 5/10\n",
      "687/687 [==============================] - 555s 808ms/step - loss: 0.1416 - val_loss: 0.1395\n",
      "Epoch 6/10\n",
      "687/687 [==============================] - 558s 812ms/step - loss: 0.1387 - val_loss: 0.1366\n",
      "Epoch 7/10\n",
      "687/687 [==============================] - 559s 813ms/step - loss: 0.1357 - val_loss: 0.1333\n",
      "Epoch 8/10\n",
      "687/687 [==============================] - 560s 815ms/step - loss: 0.1327 - val_loss: 0.1303\n",
      "Epoch 9/10\n",
      "687/687 [==============================] - 560s 815ms/step - loss: 0.1298 - val_loss: 0.1275\n",
      "Epoch 10/10\n",
      "687/687 [==============================] - 560s 815ms/step - loss: 0.1271 - val_loss: 0.1247\n"
     ]
    }
   ],
   "source": [
    "optimizer = tf.keras.optimizers.Adam() \n",
    "loss = tf.keras.losses.SparseCategoricalCrossentropy( # 훈련 데이터의 라벨이 정수의 형태로 제공될 때 사용하는 손실함수\n",
    "    from_logits=True, # 기본값은 False. 모델에 의해 생성된 출력 값이 정규화되지 않았음을 손실 함수에 알려준다.(softmax함수가 적용되지 않았다는걸 의미) \n",
    "    reduction='none'  # 기본값은 SUM. 각자 나오는 값의 반환 원할 때 None을 사용한다.\n",
    ")\n",
    "# 모델을 학습시키키 위한 학습과정을 설정하는 단계\n",
    "model.compile(loss=loss, optimizer=optimizer) # 손실함수와 훈련과정을 설정\n",
    "hist = model.fit(dataset, epochs=10, validation_data=(enc_val, dec_val)) # 만들어둔 데이터셋으로 모델을 학습.(10번 학습을 반복)"
   ]
  },
  {
   "cell_type": "code",
   "execution_count": 21,
   "id": "299c2518",
   "metadata": {},
   "outputs": [
    {
     "data": {
      "image/png": "[encoded data removed]",
      "text/plain": [
       "<Figure size 432x288 with 1 Axes>"
      ]
     },
     "metadata": {
      "needs_background": "light"
     },
     "output_type": "display_data"
    }
   ],
   "source": [
    "# 학습결과 시각화\n",
    "import matplotlib.pyplot as plt\n",
    "%matplotlib inline\n",
    "\n",
    "fig, loss_ax = plt.subplots()\n",
    "\n",
    "loss_ax.plot(hist.history['loss'], label = 'train loss')\n",
    "loss_ax.plot(hist.history['val_loss'], label = 'val loss')\n",
    "\n",
    "loss_ax.set_xlabel('epoch')\n",
    "loss_ax.set_ylabel('loss')\n",
    "\n",
    "loss_ax.legend(loc='upper left')\n",
    "\n",
    "plt.show()"
   ]
  },
  {
   "cell_type": "code",
   "execution_count": 22,
   "id": "616d312a",
   "metadata": {},
   "outputs": [],
   "source": [
    "# 모델에게 시작 문장을 전달하면 모델이 시작 문장을 바탕으로 작문을 진행하는 함수만들기\n",
    "def generate_text(model, tokenizer, init_sentence=\"<start>\", max_len=20):  \n",
    "    test_input = tokenizer.texts_to_sequences([init_sentence]) # init_sentence 텍스트 안의 단어들을 숫자의 시퀀스의 형태로 변환\n",
    "    test_tensor = tf.convert_to_tensor(test_input, dtype=tf.int64) # 텐서로 변환\n",
    "    end_token = tokenizer.word_index[\"<end>\"]\n",
    "\n",
    "    # 단어 하나씩 예측해 문장 만들기(루프를 돌면서 init_sentence에 단어를 하나씩 생성)\n",
    "    while True:\n",
    "        predict = model(test_tensor) # 입력받은 문장의 텐서 입력\n",
    "        predict_word = tf.argmax(tf.nn.softmax(predict, axis=-1), axis=-1)[:, -1] # 예측된 값 중 가장 높은 확률인 word index 뽑아내기\n",
    "        test_tensor = tf.concat([test_tensor, tf.expand_dims(predict_word, axis=0)], axis=-1) # 예측된 word index를 문장 뒤에 붙이기\n",
    "        if predict_word.numpy()[0] == end_token: break # 모델이 <end>를 예측했거나\n",
    "        if test_tensor.shape[1] >= max_len: break # max_len에 도달했다면 문장 생성을 마침\n",
    "            \n",
    "    generated = \"\"\n",
    "    # tokenizer를 이용해 word index를 단어로 하나씩 변환\n",
    "    for word_index in test_tensor[0].numpy():\n",
    "        generated += tokenizer.index_word[word_index] + \" \"\n",
    "\n",
    "    return generated #최종적으로 모델이 생성한 문장을 반환"
   ]
  },
  {
   "cell_type": "code",
   "execution_count": 23,
   "id": "e8643602",
   "metadata": {},
   "outputs": [
    {
     "data": {
      "text/plain": [
       "'<start> i love you , i m a girl <end> '"
      ]
     },
     "execution_count": 23,
     "metadata": {},
     "output_type": "execute_result"
    }
   ],
   "source": [
    "generate_text(model, tokenizer, init_sentence=\"<start> i love\", max_len=20)\n",
    "# generate_text 함수에 model이라 정의한 모델을 이용해서 i love 로 시작되는 문장을 생성"
   ]
  },
  {
   "cell_type": "markdown",
   "id": "0416f071",
   "metadata": {},
   "source": [
    "## 회고\n",
    "1. 데이터의 전처리 및 구성과정이 체계적으로 진행되었는가? 특수문자 제거, 토크나이저 생성, 패딩 처리의 작업들이 빠짐없이 진행되었는가?  \n",
    "특수문자 제거, 토크나이저 생성, 패딩 처리의 작업을 진행하여 데이터의 전처리 및 구성을 진행하였다. 그런데 그 과정에서 < > 사이에 쓰여진 문자들이 깃허브에 올리는 과정에서 날아간다는 사실을 알게 되었다. 이유를 잘 모르겠다.(창호 퍼실님의 도움으로 깃헙에 코드를 올리면 마크다운화되어 코드가 올라간다는 사실을 알게 되었다. 해결 방법은 아직 모르겠다.)  \n",
    "2. 가사 텍스트 생성 모델이 정상적으로 동작하는가? 텍스트 제너레이션 결과로 생성된 문장이 해석 가능한 문장인가?  \n",
    "중간에 실수가 있어서 학습을 총 3번 돌렸는데, 세번째 학습을 돌리고 i love you , i m a girl라는 결과를 얻었다. 문법적으로 잘못된 것도 없고, 해석도 가능한 문장으로 잘 나왔다. 다만 이 문장이 나오기 전에 두번째 학습을 돌린 후 i love t t meenie meenie meenie meenie meenie meenie meenie meenie meenie meenie meenie가 나왔는데 무엇인가 잘못되었다는 것을 깨닫고 코드를 다시 한 번 돌아봤다. < > 사이에 쓰여진 문자들을 제대로 쓰지 않았고, 그걸로 인해 이상한 결과가 나왔다. 그래서 다시 학습을 시켜 결과물을 잘 받았다.  \n",
    "3. 텍스트 생성모델이 안정적으로 학습되었는가? 텍스트 생성모델의 validation loss가 2.2 이하로 낮아졌는가?  \n",
    "첫번째 epoch일 때 validation loss는 0.1593으로 생각보다 낮았다. 열번째 epoch에서 validation loss는 0.1247로 첫번째 epoch일 때보다 loss가 더 줄어들기는 했다.  \n",
    "4. 프로젝트를 진행하면서 느낀 점 : 학습을 진행하는 과정에서 위에 코드를 잘못 입력했는데 그걸로 인해 결과가 완전히 이상해졌다. 학습을 시키면서 시간이 굉장히 많이 걸렸는데 그 과정을 3번이나 반복해서 진행하면서 코드 입력을 더더욱 조심해야겠다고 생각했다. 그리고 batch size와 embedding size, hidden size가 다 크다고 항상 좋은 것은 아니라는 것을 깨닫게 되었다. 데이터의 크기에 따라 알맞은 size를 찾는 것도 중요하다는 것을 느끼게되었다."
   ]
  },
  {
   "cell_type": "markdown",
   "id": "937f244c",
   "metadata": {},
   "source": [
    "## Reference\n",
    "[문장분할](https://rfriend.tistory.com/748)  "
   ]
  }
 ],
 "metadata": {
  "kernelspec": {
   "display_name": "Python 3 (ipykernel)",
   "language": "python",
   "name": "python3"
  },
  "language_info": {
   "codemirror_mode": {
    "name": "ipython",
    "version": 3
   },
   "file_extension": ".py",
   "mimetype": "text/x-python",
   "name": "python",
   "nbconvert_exporter": "python",
   "pygments_lexer": "ipython3",
   "version": "3.9.7"
  }
 },
 "nbformat": 4,
 "nbformat_minor": 5
}
