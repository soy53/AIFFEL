{
 "cells": [
  {
   "cell_type": "markdown",
   "id": "ab6ad877",
   "metadata": {},
   "source": [
    "# 당뇨 수치 예측하기"
   ]
  },
  {
   "cell_type": "markdown",
   "id": "9c9fe77b",
   "metadata": {},
   "source": [
    "## Step 1. 데이터 가져오기"
   ]
  },
  {
   "cell_type": "code",
   "execution_count": 1,
   "id": "f2a91911",
   "metadata": {},
   "outputs": [
    {
     "name": "stdout",
     "output_type": "stream",
     "text": [
      "['DESCR', 'data', 'data_filename', 'data_module', 'feature_names', 'frame', 'target', 'target_filename']\n"
     ]
    }
   ],
   "source": [
    "from sklearn.datasets import load_diabetes\n",
    "# sklearn.datasets의 load_diabetes에서 데이터 가져오기\n",
    "\n",
    "diabetes = load_diabetes() \n",
    "# 로드된 diabetes 데이터셋을 diabetes라는 변수에 저장\n",
    "\n",
    "print(dir(diabetes))"
   ]
  },
  {
   "cell_type": "code",
   "execution_count": 2,
   "id": "a52ae8dd",
   "metadata": {},
   "outputs": [
    {
     "data": {
      "text/plain": [
       "(442, 10)"
      ]
     },
     "execution_count": 2,
     "metadata": {},
     "output_type": "execute_result"
    }
   ],
   "source": [
    "df_X = diabetes.data # df_X에 diabetes의 data 저장\n",
    "df_X.shape\n",
    "# 442개의 행과 10개의 열(feature)로 구성"
   ]
  },
  {
   "cell_type": "code",
   "execution_count": 3,
   "id": "cc863252",
   "metadata": {},
   "outputs": [
    {
     "data": {
      "text/plain": [
       "(442,)"
      ]
     },
     "execution_count": 3,
     "metadata": {},
     "output_type": "execute_result"
    }
   ],
   "source": [
    "df_y = diabetes.target # df_y에 target 저장\n",
    "df_y.shape"
   ]
  },
  {
   "cell_type": "code",
   "execution_count": 4,
   "id": "8bb657fe",
   "metadata": {},
   "outputs": [
    {
     "data": {
      "text/html": [
       "<div>\n",
       "<style scoped>\n",
       "    .dataframe tbody tr th:only-of-type {\n",
       "        vertical-align: middle;\n",
       "    }\n",
       "\n",
       "    .dataframe tbody tr th {\n",
       "        vertical-align: top;\n",
       "    }\n",
       "\n",
       "    .dataframe thead th {\n",
       "        text-align: right;\n",
       "    }\n",
       "</style>\n",
       "<table border=\"1\" class=\"dataframe\">\n",
       "  <thead>\n",
       "    <tr style=\"text-align: right;\">\n",
       "      <th></th>\n",
       "      <th>age</th>\n",
       "      <th>sex</th>\n",
       "      <th>bmi</th>\n",
       "      <th>bp</th>\n",
       "      <th>s1</th>\n",
       "      <th>s2</th>\n",
       "      <th>s3</th>\n",
       "      <th>s4</th>\n",
       "      <th>s5</th>\n",
       "      <th>s6</th>\n",
       "    </tr>\n",
       "  </thead>\n",
       "  <tbody>\n",
       "    <tr>\n",
       "      <th>0</th>\n",
       "      <td>0.038076</td>\n",
       "      <td>0.050680</td>\n",
       "      <td>0.061696</td>\n",
       "      <td>0.021872</td>\n",
       "      <td>-0.044223</td>\n",
       "      <td>-0.034821</td>\n",
       "      <td>-0.043401</td>\n",
       "      <td>-0.002592</td>\n",
       "      <td>0.019908</td>\n",
       "      <td>-0.017646</td>\n",
       "    </tr>\n",
       "    <tr>\n",
       "      <th>1</th>\n",
       "      <td>-0.001882</td>\n",
       "      <td>-0.044642</td>\n",
       "      <td>-0.051474</td>\n",
       "      <td>-0.026328</td>\n",
       "      <td>-0.008449</td>\n",
       "      <td>-0.019163</td>\n",
       "      <td>0.074412</td>\n",
       "      <td>-0.039493</td>\n",
       "      <td>-0.068330</td>\n",
       "      <td>-0.092204</td>\n",
       "    </tr>\n",
       "    <tr>\n",
       "      <th>2</th>\n",
       "      <td>0.085299</td>\n",
       "      <td>0.050680</td>\n",
       "      <td>0.044451</td>\n",
       "      <td>-0.005671</td>\n",
       "      <td>-0.045599</td>\n",
       "      <td>-0.034194</td>\n",
       "      <td>-0.032356</td>\n",
       "      <td>-0.002592</td>\n",
       "      <td>0.002864</td>\n",
       "      <td>-0.025930</td>\n",
       "    </tr>\n",
       "    <tr>\n",
       "      <th>3</th>\n",
       "      <td>-0.089063</td>\n",
       "      <td>-0.044642</td>\n",
       "      <td>-0.011595</td>\n",
       "      <td>-0.036656</td>\n",
       "      <td>0.012191</td>\n",
       "      <td>0.024991</td>\n",
       "      <td>-0.036038</td>\n",
       "      <td>0.034309</td>\n",
       "      <td>0.022692</td>\n",
       "      <td>-0.009362</td>\n",
       "    </tr>\n",
       "    <tr>\n",
       "      <th>4</th>\n",
       "      <td>0.005383</td>\n",
       "      <td>-0.044642</td>\n",
       "      <td>-0.036385</td>\n",
       "      <td>0.021872</td>\n",
       "      <td>0.003935</td>\n",
       "      <td>0.015596</td>\n",
       "      <td>0.008142</td>\n",
       "      <td>-0.002592</td>\n",
       "      <td>-0.031991</td>\n",
       "      <td>-0.046641</td>\n",
       "    </tr>\n",
       "    <tr>\n",
       "      <th>...</th>\n",
       "      <td>...</td>\n",
       "      <td>...</td>\n",
       "      <td>...</td>\n",
       "      <td>...</td>\n",
       "      <td>...</td>\n",
       "      <td>...</td>\n",
       "      <td>...</td>\n",
       "      <td>...</td>\n",
       "      <td>...</td>\n",
       "      <td>...</td>\n",
       "    </tr>\n",
       "    <tr>\n",
       "      <th>437</th>\n",
       "      <td>0.041708</td>\n",
       "      <td>0.050680</td>\n",
       "      <td>0.019662</td>\n",
       "      <td>0.059744</td>\n",
       "      <td>-0.005697</td>\n",
       "      <td>-0.002566</td>\n",
       "      <td>-0.028674</td>\n",
       "      <td>-0.002592</td>\n",
       "      <td>0.031193</td>\n",
       "      <td>0.007207</td>\n",
       "    </tr>\n",
       "    <tr>\n",
       "      <th>438</th>\n",
       "      <td>-0.005515</td>\n",
       "      <td>0.050680</td>\n",
       "      <td>-0.015906</td>\n",
       "      <td>-0.067642</td>\n",
       "      <td>0.049341</td>\n",
       "      <td>0.079165</td>\n",
       "      <td>-0.028674</td>\n",
       "      <td>0.034309</td>\n",
       "      <td>-0.018118</td>\n",
       "      <td>0.044485</td>\n",
       "    </tr>\n",
       "    <tr>\n",
       "      <th>439</th>\n",
       "      <td>0.041708</td>\n",
       "      <td>0.050680</td>\n",
       "      <td>-0.015906</td>\n",
       "      <td>0.017282</td>\n",
       "      <td>-0.037344</td>\n",
       "      <td>-0.013840</td>\n",
       "      <td>-0.024993</td>\n",
       "      <td>-0.011080</td>\n",
       "      <td>-0.046879</td>\n",
       "      <td>0.015491</td>\n",
       "    </tr>\n",
       "    <tr>\n",
       "      <th>440</th>\n",
       "      <td>-0.045472</td>\n",
       "      <td>-0.044642</td>\n",
       "      <td>0.039062</td>\n",
       "      <td>0.001215</td>\n",
       "      <td>0.016318</td>\n",
       "      <td>0.015283</td>\n",
       "      <td>-0.028674</td>\n",
       "      <td>0.026560</td>\n",
       "      <td>0.044528</td>\n",
       "      <td>-0.025930</td>\n",
       "    </tr>\n",
       "    <tr>\n",
       "      <th>441</th>\n",
       "      <td>-0.045472</td>\n",
       "      <td>-0.044642</td>\n",
       "      <td>-0.073030</td>\n",
       "      <td>-0.081414</td>\n",
       "      <td>0.083740</td>\n",
       "      <td>0.027809</td>\n",
       "      <td>0.173816</td>\n",
       "      <td>-0.039493</td>\n",
       "      <td>-0.004220</td>\n",
       "      <td>0.003064</td>\n",
       "    </tr>\n",
       "  </tbody>\n",
       "</table>\n",
       "<p>442 rows × 10 columns</p>\n",
       "</div>"
      ],
      "text/plain": [
       "          age       sex       bmi        bp        s1        s2        s3  \\\n",
       "0    0.038076  0.050680  0.061696  0.021872 -0.044223 -0.034821 -0.043401   \n",
       "1   -0.001882 -0.044642 -0.051474 -0.026328 -0.008449 -0.019163  0.074412   \n",
       "2    0.085299  0.050680  0.044451 -0.005671 -0.045599 -0.034194 -0.032356   \n",
       "3   -0.089063 -0.044642 -0.011595 -0.036656  0.012191  0.024991 -0.036038   \n",
       "4    0.005383 -0.044642 -0.036385  0.021872  0.003935  0.015596  0.008142   \n",
       "..        ...       ...       ...       ...       ...       ...       ...   \n",
       "437  0.041708  0.050680  0.019662  0.059744 -0.005697 -0.002566 -0.028674   \n",
       "438 -0.005515  0.050680 -0.015906 -0.067642  0.049341  0.079165 -0.028674   \n",
       "439  0.041708  0.050680 -0.015906  0.017282 -0.037344 -0.013840 -0.024993   \n",
       "440 -0.045472 -0.044642  0.039062  0.001215  0.016318  0.015283 -0.028674   \n",
       "441 -0.045472 -0.044642 -0.073030 -0.081414  0.083740  0.027809  0.173816   \n",
       "\n",
       "           s4        s5        s6  \n",
       "0   -0.002592  0.019908 -0.017646  \n",
       "1   -0.039493 -0.068330 -0.092204  \n",
       "2   -0.002592  0.002864 -0.025930  \n",
       "3    0.034309  0.022692 -0.009362  \n",
       "4   -0.002592 -0.031991 -0.046641  \n",
       "..        ...       ...       ...  \n",
       "437 -0.002592  0.031193  0.007207  \n",
       "438  0.034309 -0.018118  0.044485  \n",
       "439 -0.011080 -0.046879  0.015491  \n",
       "440  0.026560  0.044528 -0.025930  \n",
       "441 -0.039493 -0.004220  0.003064  \n",
       "\n",
       "[442 rows x 10 columns]"
      ]
     },
     "execution_count": 4,
     "metadata": {},
     "output_type": "execute_result"
    }
   ],
   "source": [
    "import pandas as pd\n",
    "\n",
    "diabetes_df = pd.DataFrame(data=df_X, columns=diabetes.feature_names)\n",
    "\n",
    "diabetes_df # 당뇨병 수치 데이터프레임 확인"
   ]
  },
  {
   "cell_type": "markdown",
   "id": "c1c6fc4e",
   "metadata": {},
   "source": [
    "age나 sex 등 숫자가 이상해서 제대로 데이터를 가지고 온건지 의문이 들었다.  \n",
    "찾아본 결과 사이킷런 사이트에 따르면 이렇게 숫자가 나오는 것은 모든 특성을 -0.2~0.2 사이에 분포하도록 조정했기 때문이다."
   ]
  },
  {
   "cell_type": "markdown",
   "id": "20f647e0",
   "metadata": {},
   "source": [
    "## Step 2. 모델에 입력할 데이터 X 준비하기"
   ]
  },
  {
   "cell_type": "code",
   "execution_count": 5,
   "id": "d47912bb",
   "metadata": {},
   "outputs": [
    {
     "data": {
      "text/plain": [
       "array([[ 0.03807591,  0.05068012,  0.06169621, ..., -0.00259226,\n",
       "         0.01990842, -0.01764613],\n",
       "       [-0.00188202, -0.04464164, -0.05147406, ..., -0.03949338,\n",
       "        -0.06832974, -0.09220405],\n",
       "       [ 0.08529891,  0.05068012,  0.04445121, ..., -0.00259226,\n",
       "         0.00286377, -0.02593034],\n",
       "       ...,\n",
       "       [ 0.04170844,  0.05068012, -0.01590626, ..., -0.01107952,\n",
       "        -0.04687948,  0.01549073],\n",
       "       [-0.04547248, -0.04464164,  0.03906215, ...,  0.02655962,\n",
       "         0.04452837, -0.02593034],\n",
       "       [-0.04547248, -0.04464164, -0.0730303 , ..., -0.03949338,\n",
       "        -0.00421986,  0.00306441]])"
      ]
     },
     "execution_count": 5,
     "metadata": {},
     "output_type": "execute_result"
    }
   ],
   "source": [
    "import numpy as np\n",
    "\n",
    "np.array(df_X) # df_X에 있는 값들을 numpy array로 변환해서 저장"
   ]
  },
  {
   "cell_type": "markdown",
   "id": "aa49d9ab",
   "metadata": {},
   "source": [
    "## Step 3. 모델에 예측할 데이터 y 준비하기"
   ]
  },
  {
   "cell_type": "code",
   "execution_count": 6,
   "id": "ed00f1b0",
   "metadata": {},
   "outputs": [
    {
     "data": {
      "text/plain": [
       "array([151.,  75., 141., 206., 135.,  97., 138.,  63., 110., 310., 101.,\n",
       "        69., 179., 185., 118., 171., 166., 144.,  97., 168.,  68.,  49.,\n",
       "        68., 245., 184., 202., 137.,  85., 131., 283., 129.,  59., 341.,\n",
       "        87.,  65., 102., 265., 276., 252.,  90., 100.,  55.,  61.,  92.,\n",
       "       259.,  53., 190., 142.,  75., 142., 155., 225.,  59., 104., 182.,\n",
       "       128.,  52.,  37., 170., 170.,  61., 144.,  52., 128.,  71., 163.,\n",
       "       150.,  97., 160., 178.,  48., 270., 202., 111.,  85.,  42., 170.,\n",
       "       200., 252., 113., 143.,  51.,  52., 210.,  65., 141.,  55., 134.,\n",
       "        42., 111.,  98., 164.,  48.,  96.,  90., 162., 150., 279.,  92.,\n",
       "        83., 128., 102., 302., 198.,  95.,  53., 134., 144., 232.,  81.,\n",
       "       104.,  59., 246., 297., 258., 229., 275., 281., 179., 200., 200.,\n",
       "       173., 180.,  84., 121., 161.,  99., 109., 115., 268., 274., 158.,\n",
       "       107.,  83., 103., 272.,  85., 280., 336., 281., 118., 317., 235.,\n",
       "        60., 174., 259., 178., 128.,  96., 126., 288.,  88., 292.,  71.,\n",
       "       197., 186.,  25.,  84.,  96., 195.,  53., 217., 172., 131., 214.,\n",
       "        59.,  70., 220., 268., 152.,  47.,  74., 295., 101., 151., 127.,\n",
       "       237., 225.,  81., 151., 107.,  64., 138., 185., 265., 101., 137.,\n",
       "       143., 141.,  79., 292., 178.,  91., 116.,  86., 122.,  72., 129.,\n",
       "       142.,  90., 158.,  39., 196., 222., 277.,  99., 196., 202., 155.,\n",
       "        77., 191.,  70.,  73.,  49.,  65., 263., 248., 296., 214., 185.,\n",
       "        78.,  93., 252., 150.,  77., 208.,  77., 108., 160.,  53., 220.,\n",
       "       154., 259.,  90., 246., 124.,  67.,  72., 257., 262., 275., 177.,\n",
       "        71.,  47., 187., 125.,  78.,  51., 258., 215., 303., 243.,  91.,\n",
       "       150., 310., 153., 346.,  63.,  89.,  50.,  39., 103., 308., 116.,\n",
       "       145.,  74.,  45., 115., 264.,  87., 202., 127., 182., 241.,  66.,\n",
       "        94., 283.,  64., 102., 200., 265.,  94., 230., 181., 156., 233.,\n",
       "        60., 219.,  80.,  68., 332., 248.,  84., 200.,  55.,  85.,  89.,\n",
       "        31., 129.,  83., 275.,  65., 198., 236., 253., 124.,  44., 172.,\n",
       "       114., 142., 109., 180., 144., 163., 147.,  97., 220., 190., 109.,\n",
       "       191., 122., 230., 242., 248., 249., 192., 131., 237.,  78., 135.,\n",
       "       244., 199., 270., 164.,  72.,  96., 306.,  91., 214.,  95., 216.,\n",
       "       263., 178., 113., 200., 139., 139.,  88., 148.,  88., 243.,  71.,\n",
       "        77., 109., 272.,  60.,  54., 221.,  90., 311., 281., 182., 321.,\n",
       "        58., 262., 206., 233., 242., 123., 167.,  63., 197.,  71., 168.,\n",
       "       140., 217., 121., 235., 245.,  40.,  52., 104., 132.,  88.,  69.,\n",
       "       219.,  72., 201., 110.,  51., 277.,  63., 118.,  69., 273., 258.,\n",
       "        43., 198., 242., 232., 175.,  93., 168., 275., 293., 281.,  72.,\n",
       "       140., 189., 181., 209., 136., 261., 113., 131., 174., 257.,  55.,\n",
       "        84.,  42., 146., 212., 233.,  91., 111., 152., 120.,  67., 310.,\n",
       "        94., 183.,  66., 173.,  72.,  49.,  64.,  48., 178., 104., 132.,\n",
       "       220.,  57.])"
      ]
     },
     "execution_count": 6,
     "metadata": {},
     "output_type": "execute_result"
    }
   ],
   "source": [
    "np.array(df_y) # df_y에 있는 값들을 numpy array로 변환해서 저장"
   ]
  },
  {
   "cell_type": "markdown",
   "id": "97c86c9d",
   "metadata": {},
   "source": [
    "## Step 4. train 데이터와 test 데이터로 분리하기"
   ]
  },
  {
   "cell_type": "code",
   "execution_count": 7,
   "id": "19f08f47",
   "metadata": {},
   "outputs": [
    {
     "name": "stdout",
     "output_type": "stream",
     "text": [
      "(353, 10) (353,)\n",
      "(89, 10) (89,)\n"
     ]
    }
   ],
   "source": [
    "from sklearn.model_selection import train_test_split\n",
    "\n",
    "df_X_train, df_X_test, df_y_train, df_y_test = train_test_split(df_X, df_y, test_size=0.2, random_state=33)\n",
    "# df_X와 df_y 데이터를 각각 train:test = 8:2 비율로 데이터로 분리\n",
    "\n",
    "print(df_X_train.shape, df_y_train.shape)\n",
    "print(df_X_test.shape, df_y_test.shape)"
   ]
  },
  {
   "cell_type": "markdown",
   "id": "4ed72f81",
   "metadata": {},
   "source": [
    "## Step 5. 모델 준비하기"
   ]
  },
  {
   "cell_type": "code",
   "execution_count": 8,
   "id": "3838d3a8",
   "metadata": {},
   "outputs": [],
   "source": [
    "W = np.random.rand(10)\n",
    "b = np.random.rand()"
   ]
  },
  {
   "cell_type": "code",
   "execution_count": 18,
   "id": "93c03f3e",
   "metadata": {},
   "outputs": [
    {
     "data": {
      "text/plain": [
       "array([ 2.47325547, -1.70033358, 15.03440916,  9.50503335,  5.27804544,\n",
       "        5.27000265, -9.08471893, 10.96222411, 13.07929095,  8.87208327])"
      ]
     },
     "execution_count": 18,
     "metadata": {},
     "output_type": "execute_result"
    }
   ],
   "source": [
    "W # 입력 데이터 개수에 맞는 가중치 W 준비"
   ]
  },
  {
   "cell_type": "code",
   "execution_count": 19,
   "id": "04138a77",
   "metadata": {},
   "outputs": [
    {
     "data": {
      "text/plain": [
       "28.59519787267577"
      ]
     },
     "execution_count": 19,
     "metadata": {},
     "output_type": "execute_result"
    }
   ],
   "source": [
    "b # 입력 데이터 개수에 맞는 b 준비"
   ]
  },
  {
   "cell_type": "code",
   "execution_count": 20,
   "id": "02dda474",
   "metadata": {},
   "outputs": [],
   "source": [
    "# 모델 함수 구현하기\n",
    "def model(df_X, W, b):\n",
    "    predictions = 0\n",
    "    for i in range(10):\n",
    "        predictions += df_X[:, i] * W[i]\n",
    "    predictions += b\n",
    "    return predictions # y = W1*X1 + W2*X2 + ... + Wi*Xi +b"
   ]
  },
  {
   "cell_type": "markdown",
   "id": "caaf2e2b",
   "metadata": {},
   "source": [
    "## Step 6. 손실함수 loss 정의하기"
   ]
  },
  {
   "cell_type": "code",
   "execution_count": 21,
   "id": "d2e91d59",
   "metadata": {},
   "outputs": [],
   "source": [
    "def MSE(a, b): # MSE 함수 정의 : 두 값 차이의 제곱의 평균\n",
    "    mse = ((a-b) ** 2).mean()\n",
    "    return mse"
   ]
  },
  {
   "cell_type": "code",
   "execution_count": 22,
   "id": "bd7a851f",
   "metadata": {},
   "outputs": [],
   "source": [
    "def loss(df_X, W, b, df_y): # 손실함수 loss 정의하기_손실함수를 MSE 함수로 정의\n",
    "    predictions = model(df_X, W, b)\n",
    "    L = MSE(predictions, df_y)\n",
    "    return L"
   ]
  },
  {
   "cell_type": "markdown",
   "id": "d5c57fb6",
   "metadata": {},
   "source": [
    "## Step 7. 기울기를 구하는 gradient 함수 구현하기"
   ]
  },
  {
   "cell_type": "code",
   "execution_count": 23,
   "id": "77037c10",
   "metadata": {},
   "outputs": [],
   "source": [
    "def gradient(df_X, W, b, df_y):\n",
    "    N = len(W) # N은 가중치의 개수\n",
    "    \n",
    "    df_y_pred = model(df_X, W, b) # y_pred 준비\n",
    "    \n",
    "    dW = 1/N * 2 * df_X.T.dot(df_y_pred - df_y) # 공식에 맞게 gradient 계산\n",
    "    \n",
    "    db = 2 * (df_y_pred - df_y).mean() # b의 gradient 계산\n",
    "    return dW, db"
   ]
  },
  {
   "cell_type": "code",
   "execution_count": 24,
   "id": "b642b4cb",
   "metadata": {},
   "outputs": [
    {
     "name": "stdout",
     "output_type": "stream",
     "text": [
      "dW: [ -56.87404521  -11.1079551  -182.09747989 -136.71110776  -62.29998156\n",
      "  -50.00642264  121.36099795 -130.49606254 -174.65633622 -116.80310974]\n",
      "db: -247.07657258044034\n"
     ]
    }
   ],
   "source": [
    "dW, db = gradient(df_X, W, b, df_y)\n",
    "print(\"dW:\", dW)\n",
    "print(\"db:\", db)"
   ]
  },
  {
   "cell_type": "markdown",
   "id": "d9652478",
   "metadata": {},
   "source": [
    "## Step 8. 하이퍼 파라미터인 학습률 설정하기"
   ]
  },
  {
   "cell_type": "code",
   "execution_count": 27,
   "id": "9d20bbad",
   "metadata": {},
   "outputs": [],
   "source": [
    "LEARNING_RATE = 0.001"
   ]
  },
  {
   "cell_type": "markdown",
   "id": "af15d407",
   "metadata": {},
   "source": [
    "## Step 9. 모델 학습하기"
   ]
  },
  {
   "cell_type": "code",
   "execution_count": 34,
   "id": "ba6ebdcc",
   "metadata": {},
   "outputs": [
    {
     "name": "stdout",
     "output_type": "stream",
     "text": [
      "Iteration 50 : Loss 2952.9430\n",
      "Iteration 100 : Loss 2952.6810\n",
      "Iteration 150 : Loss 2952.4225\n",
      "Iteration 200 : Loss 2952.1673\n",
      "Iteration 250 : Loss 2951.9155\n",
      "Iteration 300 : Loss 2951.6669\n",
      "Iteration 350 : Loss 2951.4216\n",
      "Iteration 400 : Loss 2951.1794\n",
      "Iteration 450 : Loss 2950.9404\n",
      "Iteration 500 : Loss 2950.7045\n",
      "Iteration 550 : Loss 2950.4717\n",
      "Iteration 600 : Loss 2950.2418\n",
      "Iteration 650 : Loss 2950.0149\n",
      "Iteration 700 : Loss 2949.7910\n",
      "Iteration 750 : Loss 2949.5699\n",
      "Iteration 800 : Loss 2949.3516\n",
      "Iteration 850 : Loss 2949.1361\n",
      "Iteration 900 : Loss 2948.9234\n",
      "Iteration 950 : Loss 2948.7134\n",
      "Iteration 1000 : Loss 2948.5061\n",
      "Iteration 1050 : Loss 2948.3014\n",
      "Iteration 1100 : Loss 2948.0993\n",
      "Iteration 1150 : Loss 2947.8998\n",
      "Iteration 1200 : Loss 2947.7028\n",
      "Iteration 1250 : Loss 2947.5083\n",
      "Iteration 1300 : Loss 2947.3162\n",
      "Iteration 1350 : Loss 2947.1266\n",
      "Iteration 1400 : Loss 2946.9393\n",
      "Iteration 1450 : Loss 2946.7544\n",
      "Iteration 1500 : Loss 2946.5718\n",
      "Iteration 1550 : Loss 2946.3915\n",
      "Iteration 1600 : Loss 2946.2134\n",
      "Iteration 1650 : Loss 2946.0376\n",
      "Iteration 1700 : Loss 2945.8639\n",
      "Iteration 1750 : Loss 2945.6924\n",
      "Iteration 1800 : Loss 2945.5231\n",
      "Iteration 1850 : Loss 2945.3558\n",
      "Iteration 1900 : Loss 2945.1906\n",
      "Iteration 1950 : Loss 2945.0274\n",
      "Iteration 2000 : Loss 2944.8663\n",
      "Iteration 2050 : Loss 2944.7071\n",
      "Iteration 2100 : Loss 2944.5499\n",
      "Iteration 2150 : Loss 2944.3946\n",
      "Iteration 2200 : Loss 2944.2412\n",
      "Iteration 2250 : Loss 2944.0896\n",
      "Iteration 2300 : Loss 2943.9399\n",
      "Iteration 2350 : Loss 2943.7921\n",
      "Iteration 2400 : Loss 2943.6460\n",
      "Iteration 2450 : Loss 2943.5017\n",
      "Iteration 2500 : Loss 2943.3592\n",
      "Iteration 2550 : Loss 2943.2183\n",
      "Iteration 2600 : Loss 2943.0792\n",
      "Iteration 2650 : Loss 2942.9418\n",
      "Iteration 2700 : Loss 2942.8060\n",
      "Iteration 2750 : Loss 2942.6718\n",
      "Iteration 2800 : Loss 2942.5392\n",
      "Iteration 2850 : Loss 2942.4082\n",
      "Iteration 2900 : Loss 2942.2788\n",
      "Iteration 2950 : Loss 2942.1509\n",
      "Iteration 3000 : Loss 2942.0246\n",
      "Iteration 3050 : Loss 2941.8997\n",
      "Iteration 3100 : Loss 2941.7763\n",
      "Iteration 3150 : Loss 2941.6544\n",
      "Iteration 3200 : Loss 2941.5339\n",
      "Iteration 3250 : Loss 2941.4148\n",
      "Iteration 3300 : Loss 2941.2971\n",
      "Iteration 3350 : Loss 2941.1808\n",
      "Iteration 3400 : Loss 2941.0659\n",
      "Iteration 3450 : Loss 2940.9523\n",
      "Iteration 3500 : Loss 2940.8400\n",
      "Iteration 3550 : Loss 2940.7291\n",
      "Iteration 3600 : Loss 2940.6194\n",
      "Iteration 3650 : Loss 2940.5110\n",
      "Iteration 3700 : Loss 2940.4039\n",
      "Iteration 3750 : Loss 2940.2980\n",
      "Iteration 3800 : Loss 2940.1933\n",
      "Iteration 3850 : Loss 2940.0898\n",
      "Iteration 3900 : Loss 2939.9875\n",
      "Iteration 3950 : Loss 2939.8864\n",
      "Iteration 4000 : Loss 2939.7864\n",
      "Iteration 4050 : Loss 2939.6876\n",
      "Iteration 4100 : Loss 2939.5899\n",
      "Iteration 4150 : Loss 2939.4933\n",
      "Iteration 4200 : Loss 2939.3978\n",
      "Iteration 4250 : Loss 2939.3034\n",
      "Iteration 4300 : Loss 2939.2100\n",
      "Iteration 4350 : Loss 2939.1177\n",
      "Iteration 4400 : Loss 2939.0265\n",
      "Iteration 4450 : Loss 2938.9363\n",
      "Iteration 4500 : Loss 2938.8471\n",
      "Iteration 4550 : Loss 2938.7588\n",
      "Iteration 4600 : Loss 2938.6716\n",
      "Iteration 4650 : Loss 2938.5853\n",
      "Iteration 4700 : Loss 2938.5000\n",
      "Iteration 4750 : Loss 2938.4157\n",
      "Iteration 4800 : Loss 2938.3323\n",
      "Iteration 4850 : Loss 2938.2498\n",
      "Iteration 4900 : Loss 2938.1682\n",
      "Iteration 4950 : Loss 2938.0875\n",
      "Iteration 5000 : Loss 2938.0077\n"
     ]
    }
   ],
   "source": [
    "losses = []\n",
    "\n",
    "for i in range(1, 5001):\n",
    "    dW, db = gradient(df_X_train, W, b, df_y_train) # 정의된 기울기 함수로 모델 학습\n",
    "    W -= LEARNING_RATE * dW\n",
    "    b -= LEARNING_RATE * db\n",
    "    L = loss(df_X_train, W, b, df_y_train) # 정의된 손실함수로 모델 학습\n",
    "    losses.append(L)\n",
    "    if i % 50 == 0:\n",
    "        print('Iteration %d : Loss %0.4f' % (i, L))"
   ]
  },
  {
   "cell_type": "markdown",
   "id": "d2d5babf",
   "metadata": {},
   "source": [
    "#### Learning rate를 다르게 설정해보고 계속해서 학습을 진행했을 때 나온 결과들\n",
    "1. learning rate = 0.0001 / range(1,1001) / 10의 배수 -> loss=15983.5267\n",
    "2. learning rate = 0.001 / range(1,1001) / 10의 배수 -> loss=4415.2812\n",
    "3. learning rate = 0.001 / range(1,1001) / 50의 배수 -> loss=3702.6767\n",
    "4. learning rate = 0.001 / range(1,2001) / 50의 배수 -> loss=3290.4403 \n",
    "5. learning rate = 0.001 / range(1,2001) / 100의 배수 -> loss=3122.0635 \n",
    "\n",
    "loss 값이 큰 이유는 상대적으로 x값들에 비해 y값이 매우 크기 때문이다.  \n",
    "W와 b 두 수가 바뀌면 같은 학습률과 범위와 배수를 사용해도 값이 바뀌는 경우가 있었다."
   ]
  },
  {
   "cell_type": "code",
   "execution_count": 35,
   "id": "0e342955",
   "metadata": {},
   "outputs": [
    {
     "data": {
      "text/plain": [
       "[<matplotlib.lines.Line2D at 0x7fa505714520>]"
      ]
     },
     "execution_count": 35,
     "metadata": {},
     "output_type": "execute_result"
    },
    {
     "data": {
      "image/png": "[encoded data removed]",
      "text/plain": [
       "<Figure size 432x288 with 1 Axes>"
      ]
     },
     "metadata": {
      "needs_background": "light"
     },
     "output_type": "display_data"
    }
   ],
   "source": [
    "import matplotlib.pyplot as plt\n",
    "plt.plot(losses)"
   ]
  },
  {
   "cell_type": "markdown",
   "id": "9e7d015d",
   "metadata": {},
   "source": [
    "LMS에서는 matplotlib을 사용하면 y축이 모든 loss 값이 나오는 거 같은데 왜 내가 쓸 때에는 y축이 위의 loss 값으로 한정되는지 모르겠다. 무엇인가 잘못되었기 때문인데 그것을 찾아낼 수가 없었다."
   ]
  },
  {
   "cell_type": "markdown",
   "id": "6c1cf9dd",
   "metadata": {},
   "source": [
    "## Step 10. test 데이터에 대한 성능 확인하기"
   ]
  },
  {
   "cell_type": "code",
   "execution_count": 36,
   "id": "e50225eb",
   "metadata": {},
   "outputs": [
    {
     "data": {
      "text/plain": [
       "2717.034133937432"
      ]
     },
     "execution_count": 36,
     "metadata": {},
     "output_type": "execute_result"
    }
   ],
   "source": [
    "prediction = model(df_X_test, W, b)\n",
    "mse = loss(df_X_test, W, b, df_y_test)\n",
    "mse\n",
    "# train에서 구한 loss값보다는 작지만 큰 차이가 없다."
   ]
  },
  {
   "cell_type": "markdown",
   "id": "bb365e3b",
   "metadata": {},
   "source": [
    "## Step 11. 정답 데이터와 예측한 데이터 시각화하기"
   ]
  },
  {
   "cell_type": "code",
   "execution_count": 37,
   "id": "0c4addf2",
   "metadata": {},
   "outputs": [
    {
     "data": {
      "image/png": "[encoded data removed]",
      "text/plain": [
       "<Figure size 432x288 with 1 Axes>"
      ]
     },
     "metadata": {
      "needs_background": "light"
     },
     "output_type": "display_data"
    }
   ],
   "source": [
    "plt.scatter(df_X_test[:, 0], df_y_test)\n",
    "plt.scatter(df_X_test[:, 0], prediction)\n",
    "plt.show()"
   ]
  },
  {
   "cell_type": "markdown",
   "id": "5cd881a0",
   "metadata": {},
   "source": [
    "x축에는 X데이터의 첫 번째 칼럼인 age를 넣었고, y축에는 정답인 target 데이터인 당뇨 수치를 넣어서 scatter로 정답 데이터(파란점)와 예측한 데이터(주황점)를 비교해보았다.  \n",
    "정답데이터와 예측한 데이터가 묘하게 비슷한 거 같으면서도 다른 거 같다. loss 값의 차이가 커서 그런 것이라는 추측을 해봤다."
   ]
  },
  {
   "cell_type": "markdown",
   "id": "1728a103",
   "metadata": {},
   "source": [
    "## 회고\n",
    "1. 회귀모델 예측정확도가 MSE 손실함수값 3000이하 달성하기 : 학습률을 0.01로 설정하고 i의 범위는 0~3000, i를 100의 배수로 뽑았을 때 loss 값이 2926.7842이 나왔다. random.rand() 함수를 알아보는 과정에서 W와 b의 값이 바뀌었는데 두 값이 바뀌면 기본 설정은 같아도 loss 값이 바뀐다는 것을 알게 되었다. \n",
    "2. 데이터개수 시각화 및 예측결과 시각화 진행하기 : diabetes.data와 diabetes.target의 데이터 구조를 알아보고 pandas를 이용하여 data frame을 만들어보았다. 이 과정에서 age나 sex 등 숫자로 이상하게 표현되어 있는 것을 발견했고, 사이킷런 사이트를 통해 그 이유를 알 수 있었다. 그 이유는 모든 특성을 -0.2~0.2 사이에 분포하도록 조정했기 때문이라고 한다. 그리고 마지막에 정답데이터와 예측 데이터를 scatter로 표현해 비교해보았다. 두 데이터를 비교하는데 이 정도면 비슷하게 나온건지 다르게 나온건지 파악하기 힘들었다. loss 값이 커서 이런 scatter가 나온 거 같은데 다른 scatter들도 많이 보면서 결과가 어떤지 파악하는 능력을 길러야겠다고 다짐했다.\n",
    "3. random.rand() 함수의 사용법에 대해 정확하게 몰라서 그에 대한 정보를 찾아보고 직접 실험해보았다. 이 함수는 0~1사이의 난수 랜덤으로 구하는 함수인데, ()안에 숫자가 있으면 그 숫자만큼, 숫자가 없으면 1개의 숫자만 나온다. 그리고 숫자가 없으면 array()가 되지 않는다.\n",
    "4. X[:, i] * W[i]. 이 식이 왜 나온 것인지 다시 한 번 찾아보았다. 이 식은 X의 모든 행의 i-1과 i-1에 해당하는 가중치의 곱을 의미하는데 결국 for문으로 반복하면 X1*W1+X2*W2+...+Xi*Wi라는 식이 나온다.\n",
    "5. gradient(기울기)구하기를 제대로 이해하기가 어려웠다. 다른 블로그를 참고했음에도 제대로 이해하기는 실패했다. 그래도 지금까지 경험을 봤을 때 반복해서 보다보면 어느순간 이해가 되는 순간이 온다. 그래서 이부분은 계속 반복해서 보기로 다짐했다.\n",
    "6. 그래프조차도 내가 생각한 거처럼 나오지 않는 것을 보면서 보통 일이 아니라는 생각이 들었다. 원인을 계속 찾아보려 하지만 한계가 계속 느껴졌다.\n",
    "7. 프로젝트를 진행하면서 느낀점 : 이번 프로젝트 역시 LMS에 대한 의존도가 높았다. 코드부터 가이드라인까지 LMS가 없었다면 완성하기 힘들었을 것이다. LMS를 많이 참고했음에도 불구하고 완성도가 높은 프로젝트라고는 생각하지 않는다. 물론 의존도를 낮추는 것도 중요하지만 완성도 높은 프로젝트를 만들기 위해서는 더욱 노력해야겠다는 생각이 들었다. 이해못한 부분도 많지만 그런 부분일수록 더욱 여러 번 반복해서 봐야겠다."
   ]
  },
  {
   "cell_type": "markdown",
   "id": "1524bd9c",
   "metadata": {},
   "source": [
    "## reference\n",
    "[당뇨병 자료 분석](https://yhyun225.tistory.com/11)  \n",
    "[random.rand()](https://codetorial.net/numpy/random.html)  \n",
    "[df_X[:, i] * W[i]](https://stackoverflow.com/questions/33491703/meaning-of-x-x-1-in-python)  \n",
    "[gradient](https://minhobby.tistory.com/10)"
   ]
  },
  {
   "cell_type": "markdown",
   "id": "6a9c32d5",
   "metadata": {},
   "source": [
    "-------------------"
   ]
  },
  {
   "cell_type": "markdown",
   "id": "1cc947dc",
   "metadata": {},
   "source": [
    "# 날씨 좋은 월요일 오후 세 시, 자전거 타는 사람은 몇 명?"
   ]
  },
  {
   "cell_type": "markdown",
   "id": "fb41f638",
   "metadata": {},
   "source": [
    "## Step 1. 데이터 가져오기"
   ]
  },
  {
   "cell_type": "code",
   "execution_count": 47,
   "id": "42915801",
   "metadata": {},
   "outputs": [
    {
     "name": "stdout",
     "output_type": "stream",
     "text": [
      "(10886, 12)\n"
     ]
    },
    {
     "data": {
      "text/html": [
       "<div>\n",
       "<style scoped>\n",
       "    .dataframe tbody tr th:only-of-type {\n",
       "        vertical-align: middle;\n",
       "    }\n",
       "\n",
       "    .dataframe tbody tr th {\n",
       "        vertical-align: top;\n",
       "    }\n",
       "\n",
       "    .dataframe thead th {\n",
       "        text-align: right;\n",
       "    }\n",
       "</style>\n",
       "<table border=\"1\" class=\"dataframe\">\n",
       "  <thead>\n",
       "    <tr style=\"text-align: right;\">\n",
       "      <th></th>\n",
       "      <th>datetime</th>\n",
       "      <th>season</th>\n",
       "      <th>holiday</th>\n",
       "      <th>workingday</th>\n",
       "      <th>weather</th>\n",
       "      <th>temp</th>\n",
       "      <th>atemp</th>\n",
       "      <th>humidity</th>\n",
       "      <th>windspeed</th>\n",
       "      <th>casual</th>\n",
       "      <th>registered</th>\n",
       "      <th>count</th>\n",
       "    </tr>\n",
       "  </thead>\n",
       "  <tbody>\n",
       "    <tr>\n",
       "      <th>0</th>\n",
       "      <td>2011-01-01 00:00:00</td>\n",
       "      <td>1</td>\n",
       "      <td>0</td>\n",
       "      <td>0</td>\n",
       "      <td>1</td>\n",
       "      <td>9.84</td>\n",
       "      <td>14.395</td>\n",
       "      <td>81</td>\n",
       "      <td>0.0</td>\n",
       "      <td>3</td>\n",
       "      <td>13</td>\n",
       "      <td>16</td>\n",
       "    </tr>\n",
       "    <tr>\n",
       "      <th>1</th>\n",
       "      <td>2011-01-01 01:00:00</td>\n",
       "      <td>1</td>\n",
       "      <td>0</td>\n",
       "      <td>0</td>\n",
       "      <td>1</td>\n",
       "      <td>9.02</td>\n",
       "      <td>13.635</td>\n",
       "      <td>80</td>\n",
       "      <td>0.0</td>\n",
       "      <td>8</td>\n",
       "      <td>32</td>\n",
       "      <td>40</td>\n",
       "    </tr>\n",
       "    <tr>\n",
       "      <th>2</th>\n",
       "      <td>2011-01-01 02:00:00</td>\n",
       "      <td>1</td>\n",
       "      <td>0</td>\n",
       "      <td>0</td>\n",
       "      <td>1</td>\n",
       "      <td>9.02</td>\n",
       "      <td>13.635</td>\n",
       "      <td>80</td>\n",
       "      <td>0.0</td>\n",
       "      <td>5</td>\n",
       "      <td>27</td>\n",
       "      <td>32</td>\n",
       "    </tr>\n",
       "    <tr>\n",
       "      <th>3</th>\n",
       "      <td>2011-01-01 03:00:00</td>\n",
       "      <td>1</td>\n",
       "      <td>0</td>\n",
       "      <td>0</td>\n",
       "      <td>1</td>\n",
       "      <td>9.84</td>\n",
       "      <td>14.395</td>\n",
       "      <td>75</td>\n",
       "      <td>0.0</td>\n",
       "      <td>3</td>\n",
       "      <td>10</td>\n",
       "      <td>13</td>\n",
       "    </tr>\n",
       "    <tr>\n",
       "      <th>4</th>\n",
       "      <td>2011-01-01 04:00:00</td>\n",
       "      <td>1</td>\n",
       "      <td>0</td>\n",
       "      <td>0</td>\n",
       "      <td>1</td>\n",
       "      <td>9.84</td>\n",
       "      <td>14.395</td>\n",
       "      <td>75</td>\n",
       "      <td>0.0</td>\n",
       "      <td>0</td>\n",
       "      <td>1</td>\n",
       "      <td>1</td>\n",
       "    </tr>\n",
       "  </tbody>\n",
       "</table>\n",
       "</div>"
      ],
      "text/plain": [
       "              datetime  season  holiday  workingday  weather  temp   atemp  \\\n",
       "0  2011-01-01 00:00:00       1        0           0        1  9.84  14.395   \n",
       "1  2011-01-01 01:00:00       1        0           0        1  9.02  13.635   \n",
       "2  2011-01-01 02:00:00       1        0           0        1  9.02  13.635   \n",
       "3  2011-01-01 03:00:00       1        0           0        1  9.84  14.395   \n",
       "4  2011-01-01 04:00:00       1        0           0        1  9.84  14.395   \n",
       "\n",
       "   humidity  windspeed  casual  registered  count  \n",
       "0        81        0.0       3          13     16  \n",
       "1        80        0.0       8          32     40  \n",
       "2        80        0.0       5          27     32  \n",
       "3        75        0.0       3          10     13  \n",
       "4        75        0.0       0           1      1  "
      ]
     },
     "execution_count": 47,
     "metadata": {},
     "output_type": "execute_result"
    }
   ],
   "source": [
    "import pandas as pd\n",
    "\n",
    "train = pd.read_csv('~/data/data/bike-sharing-demand/train.csv')\n",
    "print(train.shape)\n",
    "train.head()"
   ]
  },
  {
   "cell_type": "markdown",
   "id": "4999c30c",
   "metadata": {},
   "source": [
    "터미널에 ~/data/data/bike-sharing-demand경로에 train.csv 데이터를 train 변수로 가져와야 하는데 터미널에 무엇을 입력해야 하는지 몰랐었다.  \n",
    "로컬컴퓨터 터미널에 mkdir -p ~/data/data/bike-sharing-demand, ln -s ~/data ~/data/data/bike-sharing-demand 이렇게도 입력해보고 mkdir -p ~/data/data/bike-sharing-demand/train.csv, ln -s ~/data ~/data/data/bike-sharing-demand/train.csv 이렇게도 입력해보고 이와 유사하게 몇번을 입력해봤지만 \"IsADirectoryError: [Errno 21] Is a directory\" 에러가 떴다. 해결방법도 구글링으로 찾아보고 train.csv를 가져오는 방법도 구글링으로 찾아봤지만 해결하지 못했다. 경로설정 자체가 잘못되어서 그런 거 같은데 아무리 해봐도 안된다.  \n",
    "하지만 클라우드 주피터를 통해 train 변수로 가져오는 것은 성공했다. train.csv는 총 10886개의 행과 12개의 열로 구성되어있었다.  "
   ]
  },
  {
   "cell_type": "markdown",
   "id": "9300a563",
   "metadata": {},
   "source": [
    "판다스를 이용해 데이터프레임도 만들어 보았다.  \n",
    "kaggle에 따르면 다음과 같은 데이터 필드가 있다.  \n",
    "datetime : 시간별 날짜 + 타임스탬프  \n",
    "season : 1 = 봄, 2 = 여름, 3 = 가을, 4 = 겨울  \n",
    "holiday : 휴일  \n",
    "workingday : 근무일  \n",
    "weather : 1 = 맑음, 거의 없음 구름, 약간 흐림, 약간 흐림  \n",
    "2 = 안개 + 흐림, 안개 + 부서진 구름, 안개 + 약간 구름, 안개  \n",
    "3 = 약한 눈, 약한 비 + 뇌우 + 산발적 구름, 가벼운 비 + 산발적인 구름  \n",
    "4 = 폭우 + 얼음 팔레트 + 뇌우 + 안개, 눈 + 안개  \n",
    "temp : 섭씨 온도  \n",
    "atemp : 체감 온도(섭씨)  \n",
    "humidity : 습도  \n",
    "windspeed : 풍속  \n",
    "casual : 미등록 사용자 렌탈  \n",
    "registered : 등록 된 사용자 렌탈  \n",
    "count : 총 렌탈 횟수  "
   ]
  },
  {
   "cell_type": "markdown",
   "id": "49581253",
   "metadata": {},
   "source": [
    "## Step 2. datetime 컬럼을 datetime 자료형으로 변환하고 연, 월, 일, 시, 분, 초까지 6가지 컬럼 생성하기"
   ]
  },
  {
   "cell_type": "code",
   "execution_count": 48,
   "id": "c57de8b7",
   "metadata": {},
   "outputs": [],
   "source": [
    "# datetime 자료형으로 변환\n",
    "train['datetime'] = pd.to_datetime(train['datetime'], format='%Y-%m-%d %H:%M:%S', errors='raise')"
   ]
  },
  {
   "cell_type": "code",
   "execution_count": 49,
   "id": "e12ede65",
   "metadata": {},
   "outputs": [],
   "source": [
    "# 연, 월, 일, 시, 분, 초 6가지 컬럼 생성하기\n",
    "train['year']=train['datetime'].dt.year\n",
    "train['month']=train['datetime'].dt.month\n",
    "train['day']=train['datetime'].dt.day\n",
    "train['hour']=train['datetime'].dt.hour\n",
    "train['minute']=train['datetime'].dt.minute\n",
    "train['second']=train['datetime'].dt.second"
   ]
  },
  {
   "cell_type": "markdown",
   "id": "d130483d",
   "metadata": {},
   "source": [
    "## Step 3. year, month, day, hour, minute, second 데이터 개수 시각화하기"
   ]
  },
  {
   "cell_type": "code",
   "execution_count": 50,
   "id": "2df0f596",
   "metadata": {},
   "outputs": [],
   "source": [
    "import matplotlib.pyplot as plt\n",
    "import seaborn as sns\n",
    "%matplotlib inline"
   ]
  },
  {
   "cell_type": "code",
   "execution_count": 51,
   "id": "fbd0eaf9",
   "metadata": {},
   "outputs": [
    {
     "data": {
      "text/plain": [
       "<AxesSubplot:xlabel='second', ylabel='count'>"
      ]
     },
     "execution_count": 51,
     "metadata": {},
     "output_type": "execute_result"
    },
    {
     "data": {
      "image/png": "[encoded data removed]",
      "text/plain": [
       "<Figure size 1440x720 with 6 Axes>"
      ]
     },
     "metadata": {
      "needs_background": "light"
     },
     "output_type": "display_data"
    }
   ],
   "source": [
    "fig, ax = plt.subplots(ncols=3, nrows=2, figsize=(20,10)) # ncols는 행의 개수, nrows는 열의 개수, figsize로 그래프 크기 조정 가능\n",
    "sns.countplot(x=\"year\", data=train, ax=ax[0,0])\n",
    "sns.countplot(x=\"month\", data=train, ax=ax[0,1])\n",
    "sns.countplot(x=\"day\", data=train, ax=ax[0,2])\n",
    "sns.countplot(x=\"hour\", data=train, ax=ax[1,0])\n",
    "sns.countplot(x=\"minute\", data=train, ax=ax[1,1])\n",
    "sns.countplot(x=\"second\", data=train, ax=ax[1,2])"
   ]
  },
  {
   "cell_type": "markdown",
   "id": "a20b468b",
   "metadata": {},
   "source": [
    "minute랑 second는 그래프를 어떻게 해석해야할지 모르겠다.  \n",
    "day의 경우 1일~19일까지밖에 없어서 내가 잘못한건지 데이터가 누락되어있는건지 몰라서 찾아봤다. 다른 블로그에도 비슷하게 그래프가 나오는 것을 보니 같은 결과가 나와있었다. 데이터가 누락되어 있는 거 같다."
   ]
  },
  {
   "cell_type": "markdown",
   "id": "32309967",
   "metadata": {},
   "source": [
    "## Step 4. X,y컬럼 선택 및 train/test 데이터 분리"
   ]
  },
  {
   "cell_type": "code",
   "execution_count": 52,
   "id": "90d88369",
   "metadata": {},
   "outputs": [
    {
     "data": {
      "text/html": [
       "<div>\n",
       "<style scoped>\n",
       "    .dataframe tbody tr th:only-of-type {\n",
       "        vertical-align: middle;\n",
       "    }\n",
       "\n",
       "    .dataframe tbody tr th {\n",
       "        vertical-align: top;\n",
       "    }\n",
       "\n",
       "    .dataframe thead th {\n",
       "        text-align: right;\n",
       "    }\n",
       "</style>\n",
       "<table border=\"1\" class=\"dataframe\">\n",
       "  <thead>\n",
       "    <tr style=\"text-align: right;\">\n",
       "      <th></th>\n",
       "      <th>datetime</th>\n",
       "      <th>season</th>\n",
       "      <th>holiday</th>\n",
       "      <th>workingday</th>\n",
       "      <th>weather</th>\n",
       "      <th>temp</th>\n",
       "      <th>atemp</th>\n",
       "      <th>humidity</th>\n",
       "      <th>windspeed</th>\n",
       "      <th>casual</th>\n",
       "      <th>registered</th>\n",
       "      <th>count</th>\n",
       "      <th>year</th>\n",
       "      <th>month</th>\n",
       "      <th>day</th>\n",
       "      <th>hour</th>\n",
       "      <th>minute</th>\n",
       "      <th>second</th>\n",
       "    </tr>\n",
       "  </thead>\n",
       "  <tbody>\n",
       "    <tr>\n",
       "      <th>0</th>\n",
       "      <td>2011-01-01 00:00:00</td>\n",
       "      <td>1</td>\n",
       "      <td>0</td>\n",
       "      <td>0</td>\n",
       "      <td>1</td>\n",
       "      <td>9.84</td>\n",
       "      <td>14.395</td>\n",
       "      <td>81</td>\n",
       "      <td>0.0</td>\n",
       "      <td>3</td>\n",
       "      <td>13</td>\n",
       "      <td>16</td>\n",
       "      <td>2011</td>\n",
       "      <td>1</td>\n",
       "      <td>1</td>\n",
       "      <td>0</td>\n",
       "      <td>0</td>\n",
       "      <td>0</td>\n",
       "    </tr>\n",
       "    <tr>\n",
       "      <th>1</th>\n",
       "      <td>2011-01-01 01:00:00</td>\n",
       "      <td>1</td>\n",
       "      <td>0</td>\n",
       "      <td>0</td>\n",
       "      <td>1</td>\n",
       "      <td>9.02</td>\n",
       "      <td>13.635</td>\n",
       "      <td>80</td>\n",
       "      <td>0.0</td>\n",
       "      <td>8</td>\n",
       "      <td>32</td>\n",
       "      <td>40</td>\n",
       "      <td>2011</td>\n",
       "      <td>1</td>\n",
       "      <td>1</td>\n",
       "      <td>1</td>\n",
       "      <td>0</td>\n",
       "      <td>0</td>\n",
       "    </tr>\n",
       "    <tr>\n",
       "      <th>2</th>\n",
       "      <td>2011-01-01 02:00:00</td>\n",
       "      <td>1</td>\n",
       "      <td>0</td>\n",
       "      <td>0</td>\n",
       "      <td>1</td>\n",
       "      <td>9.02</td>\n",
       "      <td>13.635</td>\n",
       "      <td>80</td>\n",
       "      <td>0.0</td>\n",
       "      <td>5</td>\n",
       "      <td>27</td>\n",
       "      <td>32</td>\n",
       "      <td>2011</td>\n",
       "      <td>1</td>\n",
       "      <td>1</td>\n",
       "      <td>2</td>\n",
       "      <td>0</td>\n",
       "      <td>0</td>\n",
       "    </tr>\n",
       "    <tr>\n",
       "      <th>3</th>\n",
       "      <td>2011-01-01 03:00:00</td>\n",
       "      <td>1</td>\n",
       "      <td>0</td>\n",
       "      <td>0</td>\n",
       "      <td>1</td>\n",
       "      <td>9.84</td>\n",
       "      <td>14.395</td>\n",
       "      <td>75</td>\n",
       "      <td>0.0</td>\n",
       "      <td>3</td>\n",
       "      <td>10</td>\n",
       "      <td>13</td>\n",
       "      <td>2011</td>\n",
       "      <td>1</td>\n",
       "      <td>1</td>\n",
       "      <td>3</td>\n",
       "      <td>0</td>\n",
       "      <td>0</td>\n",
       "    </tr>\n",
       "    <tr>\n",
       "      <th>4</th>\n",
       "      <td>2011-01-01 04:00:00</td>\n",
       "      <td>1</td>\n",
       "      <td>0</td>\n",
       "      <td>0</td>\n",
       "      <td>1</td>\n",
       "      <td>9.84</td>\n",
       "      <td>14.395</td>\n",
       "      <td>75</td>\n",
       "      <td>0.0</td>\n",
       "      <td>0</td>\n",
       "      <td>1</td>\n",
       "      <td>1</td>\n",
       "      <td>2011</td>\n",
       "      <td>1</td>\n",
       "      <td>1</td>\n",
       "      <td>4</td>\n",
       "      <td>0</td>\n",
       "      <td>0</td>\n",
       "    </tr>\n",
       "  </tbody>\n",
       "</table>\n",
       "</div>"
      ],
      "text/plain": [
       "             datetime  season  holiday  workingday  weather  temp   atemp  \\\n",
       "0 2011-01-01 00:00:00       1        0           0        1  9.84  14.395   \n",
       "1 2011-01-01 01:00:00       1        0           0        1  9.02  13.635   \n",
       "2 2011-01-01 02:00:00       1        0           0        1  9.02  13.635   \n",
       "3 2011-01-01 03:00:00       1        0           0        1  9.84  14.395   \n",
       "4 2011-01-01 04:00:00       1        0           0        1  9.84  14.395   \n",
       "\n",
       "   humidity  windspeed  casual  registered  count  year  month  day  hour  \\\n",
       "0        81        0.0       3          13     16  2011      1    1     0   \n",
       "1        80        0.0       8          32     40  2011      1    1     1   \n",
       "2        80        0.0       5          27     32  2011      1    1     2   \n",
       "3        75        0.0       3          10     13  2011      1    1     3   \n",
       "4        75        0.0       0           1      1  2011      1    1     4   \n",
       "\n",
       "   minute  second  \n",
       "0       0       0  \n",
       "1       0       0  \n",
       "2       0       0  \n",
       "3       0       0  \n",
       "4       0       0  "
      ]
     },
     "execution_count": 52,
     "metadata": {},
     "output_type": "execute_result"
    }
   ],
   "source": [
    "train.head()"
   ]
  },
  {
   "cell_type": "code",
   "execution_count": 54,
   "id": "2f1a078f",
   "metadata": {},
   "outputs": [],
   "source": [
    "# X, y 컬럼 선택하기\n",
    "X = train[['season', 'holiday', 'workingday', 'weather', 'temp', 'atemp', 'humidity', 'windspeed', \n",
    "           'year', 'month', 'day', 'hour', 'minute', 'second']].values\n",
    "y = train['count'].values"
   ]
  },
  {
   "cell_type": "code",
   "execution_count": 55,
   "id": "c1bfb063",
   "metadata": {},
   "outputs": [
    {
     "data": {
      "text/plain": [
       "(10886, 14)"
      ]
     },
     "execution_count": 55,
     "metadata": {},
     "output_type": "execute_result"
    }
   ],
   "source": [
    "X.shape"
   ]
  },
  {
   "cell_type": "code",
   "execution_count": 56,
   "id": "43f4a4d2",
   "metadata": {},
   "outputs": [
    {
     "data": {
      "text/plain": [
       "(10886,)"
      ]
     },
     "execution_count": 56,
     "metadata": {},
     "output_type": "execute_result"
    }
   ],
   "source": [
    "y.shape"
   ]
  },
  {
   "cell_type": "code",
   "execution_count": 57,
   "id": "0e33f8c2",
   "metadata": {},
   "outputs": [
    {
     "data": {
      "text/plain": [
       "array([[ 1.,  0.,  0., ...,  0.,  0.,  0.],\n",
       "       [ 1.,  0.,  0., ...,  1.,  0.,  0.],\n",
       "       [ 1.,  0.,  0., ...,  2.,  0.,  0.],\n",
       "       ...,\n",
       "       [ 4.,  0.,  1., ..., 21.,  0.,  0.],\n",
       "       [ 4.,  0.,  1., ..., 22.,  0.,  0.],\n",
       "       [ 4.,  0.,  1., ..., 23.,  0.,  0.]])"
      ]
     },
     "execution_count": 57,
     "metadata": {},
     "output_type": "execute_result"
    }
   ],
   "source": [
    "import numpy as np\n",
    "\n",
    "np.array(X)"
   ]
  },
  {
   "cell_type": "code",
   "execution_count": 58,
   "id": "a8b62401",
   "metadata": {},
   "outputs": [
    {
     "data": {
      "text/plain": [
       "array([ 16,  40,  32, ..., 168, 129,  88])"
      ]
     },
     "execution_count": 58,
     "metadata": {},
     "output_type": "execute_result"
    }
   ],
   "source": [
    "np.array(y)"
   ]
  },
  {
   "cell_type": "code",
   "execution_count": 59,
   "id": "f4b34b36",
   "metadata": {},
   "outputs": [
    {
     "name": "stdout",
     "output_type": "stream",
     "text": [
      "(8708, 14) (8708,)\n",
      "(2178, 14) (2178,)\n"
     ]
    }
   ],
   "source": [
    "from sklearn.model_selection import train_test_split\n",
    "\n",
    "X_train, X_test, y_train, y_test = train_test_split(X, y, test_size=0.2, random_state=33)\n",
    "# X와 y 데이터를 각각 train 데이터와 test 데이터로 분리\n",
    "\n",
    "print(X_train.shape, y_train.shape)\n",
    "print(X_test.shape, y_test.shape)"
   ]
  },
  {
   "cell_type": "markdown",
   "id": "cd7e480f",
   "metadata": {},
   "source": [
    "## Step 5. LinearRegression 모델 학습"
   ]
  },
  {
   "cell_type": "code",
   "execution_count": 60,
   "id": "31d3d916",
   "metadata": {},
   "outputs": [],
   "source": [
    "from sklearn.linear_model import LinearRegression\n",
    "\n",
    "model = LinearRegression() # 모델 불러오기"
   ]
  },
  {
   "cell_type": "code",
   "execution_count": 61,
   "id": "7000076a",
   "metadata": {},
   "outputs": [
    {
     "data": {
      "text/plain": [
       "LinearRegression()"
      ]
     },
     "execution_count": 61,
     "metadata": {},
     "output_type": "execute_result"
    }
   ],
   "source": [
    "model.fit(X_train, y_train) # 모델 학습하기"
   ]
  },
  {
   "cell_type": "markdown",
   "id": "2a062d9f",
   "metadata": {},
   "source": [
    "## Step 6. 학습된 모델로 X_test에 대한 예측값 출력 및 손실함수값 계산"
   ]
  },
  {
   "cell_type": "code",
   "execution_count": 62,
   "id": "a38996b8",
   "metadata": {},
   "outputs": [
    {
     "data": {
      "text/plain": [
       "array([294.38363448, 134.80218427,  75.16463673, ..., 113.93698551,\n",
       "        39.99794292, 224.17284705])"
      ]
     },
     "execution_count": 62,
     "metadata": {},
     "output_type": "execute_result"
    }
   ],
   "source": [
    "# 학습된 모델에 X_test를 입력해서 예측값 출력하기\n",
    "predictions = model.predict(X_test)\n",
    "predictions"
   ]
  },
  {
   "cell_type": "code",
   "execution_count": 63,
   "id": "575a804c",
   "metadata": {},
   "outputs": [
    {
     "data": {
      "text/plain": [
       "20442.974145303902"
      ]
     },
     "execution_count": 63,
     "metadata": {},
     "output_type": "execute_result"
    }
   ],
   "source": [
    "# 모델이 예측한 값과 정답 target 간의 손실함수 값 계산하기(mse)\n",
    "from sklearn.metrics import mean_squared_error\n",
    "\n",
    "mse = mean_squared_error(y_test, predictions)\n",
    "mse"
   ]
  },
  {
   "cell_type": "code",
   "execution_count": 64,
   "id": "2c77a88c",
   "metadata": {},
   "outputs": [
    {
     "data": {
      "text/plain": [
       "142.9789290255872"
      ]
     },
     "execution_count": 64,
     "metadata": {},
     "output_type": "execute_result"
    }
   ],
   "source": [
    "# 모델이 예측한 값과 정답 target 간의 손실함수 값 계산하기(rmse)\n",
    "rmse = mean_squared_error(y_test, predictions)**0.5\n",
    "rmse"
   ]
  },
  {
   "cell_type": "markdown",
   "id": "a528c123",
   "metadata": {},
   "source": [
    "mse, rmse 모두 손실함수로 그 수치가 낮을수록 정확도가 높다는 것을 의미한다.  \n",
    "rmse가 약 143이라는 점을 볼 때 그렇게 정확도가 높은 편은 아닌 거 같다."
   ]
  },
  {
   "cell_type": "markdown",
   "id": "86c96916",
   "metadata": {},
   "source": [
    "## Step 7. x축은 temp 또는 humidity로, y축은 count로 예측결과 시각화하기"
   ]
  },
  {
   "cell_type": "code",
   "execution_count": 66,
   "id": "8f637a13",
   "metadata": {},
   "outputs": [
    {
     "data": {
      "image/png": "[encoded data removed]",
      "text/plain": [
       "<Figure size 432x288 with 1 Axes>"
      ]
     },
     "metadata": {
      "needs_background": "light"
     },
     "output_type": "display_data"
    }
   ],
   "source": [
    "# x축은 temp 데이터를, y 축에는 count 데이터를 넣어서 시각화하기\n",
    "plt.scatter(X_test[:, 4], y_test, label=\"true\")\n",
    "plt.scatter(X_test[:, 4], predictions, label=\"pred\")\n",
    "plt.legend()\n",
    "plt.show()"
   ]
  },
  {
   "cell_type": "code",
   "execution_count": 67,
   "id": "5096a0e4",
   "metadata": {},
   "outputs": [
    {
     "data": {
      "image/png": "[encoded data removed]",
      "text/plain": [
       "<Figure size 432x288 with 1 Axes>"
      ]
     },
     "metadata": {
      "needs_background": "light"
     },
     "output_type": "display_data"
    }
   ],
   "source": [
    "# x축은 humidity 데이터를, y 축에는 count 데이터를 넣어서 시각화하기\n",
    "plt.scatter(X_test[:, 6], y_test, label=\"true\")\n",
    "plt.scatter(X_test[:, 6], predictions, label=\"pred\")\n",
    "plt.legend()\n",
    "plt.show()"
   ]
  },
  {
   "cell_type": "markdown",
   "id": "89af5ec7",
   "metadata": {},
   "source": [
    "실제와 예측결과가 정말 많이 맞지 않는 거 같다. 시각화 한 것을 보면 예측한 것 보다 실제 대여 횟수가 높은 편이다. 근데 내가 시각화를 잘못한 기분이 든다.  "
   ]
  },
  {
   "cell_type": "markdown",
   "id": "f5927ccc",
   "metadata": {},
   "source": [
    "## 회고\n",
    "1. 회귀모델 예측정확도가 RMSE 값 150이하 달성하기 : RMSE로 예측정확도를 측정했을 때 142.9 정도가 나왔다. 숫자가 높아 정확도가 높은 편은 아니라고 생각했는데 데이터 자체의 문제로 정확도를 더 높일 수는 없을 거 같다.\n",
    "2. 데이터개수 시각화 및 예측결과 시각화 진행하기 : 먼저 train.csv를 pandas를 이용하여 data frame을 만들어보았다. 그리고 마지막에 temp와 humidity와 관련해 정답데이터와 예측 데이터를 scatter로 표현해 비교해보았다. 시각화된 것을 해석하는 것에 아직 부족한 실력이지만 이 경우에는 너무 일치하지 않는 게 보였다. 그리고 처음 진행했던 당뇨 수치 예측 데이터는 잘 맞는 편이라고 느껴졌다. 이렇게 일치하지 않는 이유는 loss 값이 너무 크기 때문인 듯 하다.\n",
    "3. 터미널에 ~/data/data/bike-sharing-demand경로에 train.csv 데이터를 train 변수로 가져와야 하는데 터미널에 무엇을 입력해야 하는지 모르겠다. 여러가지 시도도 해보고 구글링도 해보았지만 찾을 수가 없었다. 나중에라도 꼭 해결해야할 문제이다. 조원들에게도 한번 물어봐야겠다. 그래도 임시방편으로 클라우드 주피터를 사용해서 해결했다.\n",
    "4. 시각화 된 자료들을 보면서 시각화가 되었는데도 제대로 해석하지 못하는 게 아쉬웠다. 이런 점을 더 채울 수 있도록 노력해야겠다.\n",
    "5. 프로젝트를 진행하면서 느낀점 : 이번 프로젝트도 LMS를 많이 참고해서 완성할 수 있었다. 그래도 다른 프로젝트와 달라진 점은 모르는 문제가 발생했을 때 구글링을 통해 해결한 문제가 더 많아졌다는 것이다. 물론 내 머릿속에 있는 것으로 완성할 수 있다면 가장 좋겠지만 점점 구글링하는 실력이 늘고 있는 거 같다. 아직 구글링으로 해결하지 못한 문제도 있지만 속도도 빨라지고 필요한 정보를 정확하게 찾는 능력이 더 생긴 기분이다. "
   ]
  },
  {
   "cell_type": "markdown",
   "id": "1035ffd5",
   "metadata": {},
   "source": [
    "## reference\n",
    "[자전거 수요 예측하기](https://god9ma.tistory.com/27)  \n",
    "[to_datetime](https://sarah0518.tistory.com/61)\n",
    "[countplot](https://wpaud16.tistory.com/31)  \n",
    "[subplot](https://csshark.tistory.com/56)  \n",
    "[RMSE](https://growingsaja.tistory.com/233)"
   ]
  }
 ],
 "metadata": {
  "kernelspec": {
   "display_name": "Python 3 (ipykernel)",
   "language": "python",
   "name": "python3"
  },
  "language_info": {
   "codemirror_mode": {
    "name": "ipython",
    "version": 3
   },
   "file_extension": ".py",
   "mimetype": "text/x-python",
   "name": "python",
   "nbconvert_exporter": "python",
   "pygments_lexer": "ipython3",
   "version": "3.9.7"
  }
 },
 "nbformat": 4,
 "nbformat_minor": 5
}
