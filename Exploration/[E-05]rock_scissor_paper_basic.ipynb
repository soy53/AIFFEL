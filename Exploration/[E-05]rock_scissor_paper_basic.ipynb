{
 "cells": [
  {
   "cell_type": "markdown",
   "id": "9b79e1c9",
   "metadata": {},
   "source": [
    "# 5강. 인공지능과 가위바위보 하기"
   ]
  },
  {
   "cell_type": "markdown",
   "id": "d17a59f9",
   "metadata": {},
   "source": [
    "## 손글씨 분류하기"
   ]
  },
  {
   "cell_type": "markdown",
   "id": "a12feb54",
   "metadata": {},
   "source": [
    "## Step 1. 데이터 준비하기"
   ]
  },
  {
   "cell_type": "markdown",
   "id": "bbcbcc04",
   "metadata": {},
   "source": [
    "### MNIST 숫자 손글씨 Dataset 불러들이기"
   ]
  },
  {
   "cell_type": "code",
   "execution_count": 1,
   "id": "d5f1fa6e",
   "metadata": {},
   "outputs": [
    {
     "name": "stdout",
     "output_type": "stream",
     "text": [
      "2.6.0\n",
      "Downloading data from https://storage.googleapis.com/tensorflow/tf-keras-datasets/mnist.npz\n",
      "11493376/11490434 [==============================] - 0s 0us/step\n",
      "11501568/11490434 [==============================] - 0s 0us/step\n",
      "60000\n"
     ]
    }
   ],
   "source": [
    "import tensorflow as tf\n",
    "from tensorflow import keras\n",
    "\n",
    "import numpy as np\n",
    "import matplotlib.pyplot as plt\n",
    "import os\n",
    "\n",
    "print(tf.__version__) # tensorflow 버전\n",
    "\n",
    "mnist = keras.datasets.mnist\n",
    "\n",
    "(x_train, y_train), (x_test, y_test) = mnist.load_data()\n",
    "# mnist 데이터 로드 (다운로드까지 자동으로 진행)\n",
    "\n",
    "print(len(x_train))"
   ]
  },
  {
   "cell_type": "code",
   "execution_count": 4,
   "id": "7068a710",
   "metadata": {},
   "outputs": [
    {
     "data": {
      "image/png": "[encoded data removed]",
      "text/plain": [
       "<Figure size 432x288 with 1 Axes>"
      ]
     },
     "metadata": {
      "needs_background": "light"
     },
     "output_type": "display_data"
    }
   ],
   "source": [
    "# 숫자 손글씨 이미지 하나 출력해보기\n",
    "plt.imshow(x_train[7], cmap=plt.cm.binary)\n",
    "plt.show()"
   ]
  },
  {
   "cell_type": "markdown",
   "id": "5753a553",
   "metadata": {},
   "source": [
    "X항목(x_train, x_test)은 이미지 데이터를 담은 행렬.  \n",
    "x_train[0] = 첫 번째 이미지 / x_train[1] = 두 번째 이미지"
   ]
  },
  {
   "cell_type": "code",
   "execution_count": 5,
   "id": "935dd8b7",
   "metadata": {},
   "outputs": [
    {
     "name": "stdout",
     "output_type": "stream",
     "text": [
      "3\n"
     ]
    }
   ],
   "source": [
    "print(y_train[7])"
   ]
  },
  {
   "cell_type": "markdown",
   "id": "689c0ee5",
   "metadata": {},
   "source": [
    "Y항목(y_train, y_test)에는 X항목에 들어있는 이미지에 대응하는 실제 숫자 값이 담겨 있다."
   ]
  },
  {
   "cell_type": "code",
   "execution_count": 7,
   "id": "b32ff4fa",
   "metadata": {},
   "outputs": [
    {
     "data": {
      "image/png": "[encoded data removed]",
      "text/plain": [
       "<Figure size 432x288 with 1 Axes>"
      ]
     },
     "metadata": {
      "needs_background": "light"
     },
     "output_type": "display_data"
    },
    {
     "name": "stdout",
     "output_type": "stream",
     "text": [
      "8 번째 이미지의 숫자는 바로 3 입니다.\n"
     ]
    }
   ],
   "source": [
    "index=7 # 0~59999사이 숫자 지정 가능\n",
    "plt.imshow(x_train[index],cmap=plt.cm.binary)\n",
    "plt.show()\n",
    "print((index+1), '번째 이미지의 숫자는 바로', y_train[index], '입니다.')"
   ]
  },
  {
   "cell_type": "code",
   "execution_count": 8,
   "id": "85857728",
   "metadata": {},
   "outputs": [
    {
     "name": "stdout",
     "output_type": "stream",
     "text": [
      "(60000, 28, 28)\n"
     ]
    }
   ],
   "source": [
    "print(x_train.shape) # 28x28 크기의 숫자 이미지가 60000장"
   ]
  },
  {
   "cell_type": "code",
   "execution_count": 9,
   "id": "5447f308",
   "metadata": {},
   "outputs": [
    {
     "name": "stdout",
     "output_type": "stream",
     "text": [
      "(10000, 28, 28)\n"
     ]
    }
   ],
   "source": [
    "print(x_test.shape)# 28x28 크기의 숫자 이미지가 10000장"
   ]
  },
  {
   "cell_type": "markdown",
   "id": "32013433",
   "metadata": {},
   "source": [
    "[학습용, 검증용, 시험용 데이터](https://ganghee-lee.tistory.com/38)\n",
    "1. Train set(학습용 데이터) : 학습하는데 유일하게 사용  \n",
    "2. Validation set(검증용 데이터) : 학습이 완료된 모델을 검증 (머신러닝 학습 과정이 정상적으로 진행되고 있는지, 오버피팅이 일어나지 않는지, 학습을 중단해도 괜찮은지 등)  \n",
    "3. Test set(시험용 데이터) : 학습과 검증이 완료된 모델에 대한 성능 평가  "
   ]
  },
  {
   "cell_type": "markdown",
   "id": "c65c544b",
   "metadata": {},
   "source": [
    "### 데이터 전처리 하기"
   ]
  },
  {
   "cell_type": "code",
   "execution_count": 10,
   "id": "4ae8f2d9",
   "metadata": {},
   "outputs": [
    {
     "name": "stdout",
     "output_type": "stream",
     "text": [
      "최소값: 0 최대값: 255\n"
     ]
    }
   ],
   "source": [
    "print('최소값:',np.min(x_train), '최대값:',np.max(x_train))\n",
    "# 숫자 손글씨 이미지의 실제 픽셀 값은 0~255사이"
   ]
  },
  {
   "cell_type": "code",
   "execution_count": null,
   "id": "033943f3",
   "metadata": {},
   "outputs": [],
   "source": [
    "# 입력을 0~1 사이의 값으로 정규화 시켜주기(픽셀 값이 0~255사이에 있으므로 255.0으로 나누어주기)\n",
    "x_train_norm, x_test_norm = x_train / 255.0, x_test / 255.0\n",
    "print('최소값:',np.min(x_train_norm), '최대값:',np.max(x_train_norm))"
   ]
  },
  {
   "cell_type": "markdown",
   "id": "e605faa5",
   "metadata": {},
   "source": [
    "## Step 2. 딥러닝 네트워크 설계하기"
   ]
  },
  {
   "cell_type": "markdown",
   "id": "21e30da1",
   "metadata": {},
   "source": [
    "### Sequential Model\n",
    "Sequential API : 개발의 자유도는 많이 떨어지지만 매우 간단하게 딥러닝 모델을 만들어낼 수 있는 방법"
   ]
  },
  {
   "cell_type": "code",
   "execution_count": 14,
   "id": "f68d56fd",
   "metadata": {},
   "outputs": [
    {
     "name": "stdout",
     "output_type": "stream",
     "text": [
      "Model에 추가된 Layer 개수:  7\n"
     ]
    }
   ],
   "source": [
    "model=keras.models.Sequential()\n",
    "model.add(keras.layers.Conv2D(16, (3,3), activation='relu', input_shape=(28,28,1)))\n",
    "model.add(keras.layers.MaxPool2D(2,2))\n",
    "model.add(keras.layers.Conv2D(32, (3,3), activation='relu'))\n",
    "model.add(keras.layers.MaxPooling2D((2,2)))\n",
    "model.add(keras.layers.Flatten())\n",
    "model.add(keras.layers.Dense(32, activation='relu'))\n",
    "model.add(keras.layers.Dense(10, activation='softmax'))\n",
    "\n",
    "print('Model에 추가된 Layer 개수: ', len(model.layers))"
   ]
  },
  {
   "cell_type": "markdown",
   "id": "7417ad7c",
   "metadata": {},
   "source": [
    "- Conv2D(숫자) : 사용하는 이미지 특징의 수(입력 이미지가 다양할수록 더 많은 특징을 고려)  \n",
    "- input_shape : 입력이미지의 형태  \n",
    "- Dense(숫자) : 분류기에 사용되는 뉴런의 숫자 -> 복잡한 문제일수록 수를 늘리기 / 최종 분류기의 class 수  \n",
    "- [(3,3)](https://blog.joonas.io/196?category=1016329) : 픽셀을 어떻게 뭉쳐서 볼 것인지 결정하는 윈도우(필터, 커널)"
   ]
  },
  {
   "cell_type": "code",
   "execution_count": 15,
   "id": "3af7710e",
   "metadata": {},
   "outputs": [
    {
     "name": "stdout",
     "output_type": "stream",
     "text": [
      "Model: \"sequential\"\n",
      "_________________________________________________________________\n",
      "Layer (type)                 Output Shape              Param #   \n",
      "=================================================================\n",
      "conv2d (Conv2D)              (None, 26, 26, 16)        160       \n",
      "_________________________________________________________________\n",
      "max_pooling2d (MaxPooling2D) (None, 13, 13, 16)        0         \n",
      "_________________________________________________________________\n",
      "conv2d_1 (Conv2D)            (None, 11, 11, 32)        4640      \n",
      "_________________________________________________________________\n",
      "max_pooling2d_1 (MaxPooling2 (None, 5, 5, 32)          0         \n",
      "_________________________________________________________________\n",
      "flatten (Flatten)            (None, 800)               0         \n",
      "_________________________________________________________________\n",
      "dense (Dense)                (None, 32)                25632     \n",
      "_________________________________________________________________\n",
      "dense_1 (Dense)              (None, 10)                330       \n",
      "=================================================================\n",
      "Total params: 30,762\n",
      "Trainable params: 30,762\n",
      "Non-trainable params: 0\n",
      "_________________________________________________________________\n"
     ]
    }
   ],
   "source": [
    "model.summary()"
   ]
  },
  {
   "cell_type": "markdown",
   "id": "aaac8116",
   "metadata": {},
   "source": [
    "## Step 3. 딥러닝 네트워크 학습시키기"
   ]
  },
  {
   "cell_type": "code",
   "execution_count": 16,
   "id": "4432fa3e",
   "metadata": {},
   "outputs": [
    {
     "name": "stdout",
     "output_type": "stream",
     "text": [
      "Before Reshape - x_train_norm shape: (60000, 28, 28)\n",
      "Before Reshape - x_test_norm shape: (10000, 28, 28)\n",
      "After Reshape - x_train_reshaped shape: (60000, 28, 28, 1)\n",
      "After Reshape - x_test_reshaped shape: (10000, 28, 28, 1)\n"
     ]
    }
   ],
   "source": [
    "print(f\"Before Reshape - x_train_norm shape: {x_train_norm.shape}\")\n",
    "print(f\"Before Reshape - x_test_norm shape: {x_test_norm.shape}\")\n",
    "\n",
    "x_train_reshaped = x_train_norm.reshape(-1, 28, 28, 1) # 데이터개수에 -1을 쓰면 reshape시 자동계산\n",
    "x_test_reshaped = x_test_norm.reshape(-1, 28, 28, 1)\n",
    "\n",
    "print(f\"After Reshape - x_train_reshaped shape: {x_train_reshaped.shape}\")\n",
    "print(f\"After Reshape - x_test_reshaped shape: {x_test_reshaped.shape}\")"
   ]
  },
  {
   "cell_type": "markdown",
   "id": "27eecd6d",
   "metadata": {},
   "source": [
    "네트워크 입력 = (데이터개수, 이미지크기 x, 이미지크기 y, 채널수)  \n",
    "채널수 1 = 흑백 이미지 / 채널수 3 = 컬러 이미지(RGB)"
   ]
  },
  {
   "cell_type": "code",
   "execution_count": 18,
   "id": "da8116ce",
   "metadata": {},
   "outputs": [
    {
     "name": "stdout",
     "output_type": "stream",
     "text": [
      "Epoch 1/10\n",
      "1875/1875 [==============================] - 5s 3ms/step - loss: 0.0268 - accuracy: 0.9914\n",
      "Epoch 2/10\n",
      "1875/1875 [==============================] - 5s 3ms/step - loss: 0.0213 - accuracy: 0.9930\n",
      "Epoch 3/10\n",
      "1875/1875 [==============================] - 5s 3ms/step - loss: 0.0180 - accuracy: 0.9943\n",
      "Epoch 4/10\n",
      "1875/1875 [==============================] - 5s 3ms/step - loss: 0.0154 - accuracy: 0.9948\n",
      "Epoch 5/10\n",
      "1875/1875 [==============================] - 5s 3ms/step - loss: 0.0122 - accuracy: 0.9962\n",
      "Epoch 6/10\n",
      "1875/1875 [==============================] - 5s 3ms/step - loss: 0.0111 - accuracy: 0.9962\n",
      "Epoch 7/10\n",
      "1875/1875 [==============================] - 5s 3ms/step - loss: 0.0109 - accuracy: 0.9965\n",
      "Epoch 8/10\n",
      "1875/1875 [==============================] - 5s 3ms/step - loss: 0.0087 - accuracy: 0.9972\n",
      "Epoch 9/10\n",
      "1875/1875 [==============================] - 5s 3ms/step - loss: 0.0086 - accuracy: 0.9971\n",
      "Epoch 10/10\n",
      "1875/1875 [==============================] - 5s 3ms/step - loss: 0.0080 - accuracy: 0.9971\n"
     ]
    },
    {
     "data": {
      "text/plain": [
       "<keras.callbacks.History at 0x7f6fec7e13d0>"
      ]
     },
     "execution_count": 18,
     "metadata": {},
     "output_type": "execute_result"
    }
   ],
   "source": [
    "# x_train 학습 데이터로 딥러닝 네트워크 학습\n",
    "model.compile(optimizer='adam',\n",
    "             loss='sparse_categorical_crossentropy',\n",
    "             metrics=['accuracy'])\n",
    "\n",
    "model.fit(x_train_reshaped, y_train, epochs=10) # 60000개의 데이터를 10번 반복 사용해서 학습"
   ]
  },
  {
   "cell_type": "markdown",
   "id": "57e3172a",
   "metadata": {},
   "source": [
    "epoch 별로 인식 정확도가 달라진다. epoch=8부터 정확도에 큰 차이가 없다. (학습할 때마다 인식 정확도는 변동)"
   ]
  },
  {
   "cell_type": "markdown",
   "id": "b523a3c1",
   "metadata": {},
   "source": [
    "## Step 4. 성능 확인하기"
   ]
  },
  {
   "cell_type": "markdown",
   "id": "dca9f69c",
   "metadata": {},
   "source": [
    "### 테스트 데이터로 성능 확인"
   ]
  },
  {
   "cell_type": "code",
   "execution_count": 19,
   "id": "b3618eaa",
   "metadata": {},
   "outputs": [
    {
     "name": "stdout",
     "output_type": "stream",
     "text": [
      "313/313 - 1s - loss: 0.0364 - accuracy: 0.9906\n",
      "test_loss: 0.03644309192895889\n",
      "test_accuracy: 0.9905999898910522\n"
     ]
    }
   ],
   "source": [
    "# 모델 시험하기\n",
    "test_loss, test_accuracy = model.evaluate(x_test_reshaped, y_test, verbose=2)\n",
    "print(f\"test_loss: {test_loss}\")\n",
    "print(f\"test_accuracy: {test_accuracy}\")"
   ]
  },
  {
   "cell_type": "markdown",
   "id": "a27fd5de",
   "metadata": {},
   "source": [
    "x_test 시험용 데이터로 했을 때 accuracy가 99.06점으로 99.71점에 비해 떨어졌다. 학습용 데이터와 시험용 데이터의 손글씨 주인이 달라 한 번도 보지 못한 필체의 손글씨가 있을 가능성이 높아졌기 때문이다."
   ]
  },
  {
   "cell_type": "markdown",
   "id": "80c061f9",
   "metadata": {},
   "source": [
    "### 잘못 추론한 데이터 눈으로 확인하기"
   ]
  },
  {
   "cell_type": "code",
   "execution_count": 20,
   "id": "1e2fe319",
   "metadata": {},
   "outputs": [
    {
     "name": "stdout",
     "output_type": "stream",
     "text": [
      "model.predict() 결과 : [4.1945680e-11 3.9803917e-11 4.0656505e-09 3.8927049e-11 9.2314427e-13\n",
      " 3.0788572e-13 5.7079383e-18 1.0000000e+00 1.6776158e-12 3.0879941e-11]\n",
      "model이 추론한 가장 가능성이 높은 결과 : 7\n",
      "실제 데이터의 라벨 : 7\n"
     ]
    }
   ],
   "source": [
    "# 확률값이 가장 높은 숫자 확인\n",
    "predicted_result = model.predict(x_test_reshaped) # 모델이 추론한 확률값\n",
    "predicted_labels = np.argmax(predicted_result, axis=1)\n",
    "\n",
    "idx=0 # 1번째 x_test보기\n",
    "print('model.predict() 결과 :', predicted_result[idx])\n",
    "print('model이 추론한 가장 가능성이 높은 결과 :', predicted_labels[idx])\n",
    "print('실제 데이터의 라벨 :', y_test[idx])"
   ]
  },
  {
   "cell_type": "markdown",
   "id": "3cf7bcad",
   "metadata": {},
   "source": [
    "model.predict() : model이 입력값을 보고 실제로 추론한 확률분포를 출력  \n",
    "-> 7일 확률 : 1.0000000e+00(1.00에 근접)"
   ]
  },
  {
   "cell_type": "code",
   "execution_count": 21,
   "id": "2a6b79dc",
   "metadata": {},
   "outputs": [
    {
     "data": {
      "image/png": "[encoded data removed]",
      "text/plain": [
       "<Figure size 432x288 with 1 Axes>"
      ]
     },
     "metadata": {
      "needs_background": "light"
     },
     "output_type": "display_data"
    }
   ],
   "source": [
    "# 입력한 이미지가 7이 맞는지 확인\n",
    "plt.imshow(x_test[idx],cmap=plt.cm.binary)\n",
    "plt.show()"
   ]
  },
  {
   "cell_type": "code",
   "execution_count": 24,
   "id": "682ea484",
   "metadata": {},
   "outputs": [
    {
     "name": "stdout",
     "output_type": "stream",
     "text": [
      "예측확률분포: [1.4236015e-10 4.0869004e-08 6.5701532e-01 3.4280485e-01 1.1308026e-09\n",
      " 4.7085025e-05 2.7664377e-12 2.8017492e-05 3.1354324e-05 7.3284442e-05]\n",
      "라벨: 3, 예측결과: 2\n"
     ]
    },
    {
     "data": {
      "image/png": "[encoded data removed]",
      "text/plain": [
       "<Figure size 432x288 with 1 Axes>"
      ]
     },
     "metadata": {
      "needs_background": "light"
     },
     "output_type": "display_data"
    },
    {
     "name": "stdout",
     "output_type": "stream",
     "text": [
      "예측확률분포: [1.1492249e-08 7.8024409e-10 8.4716433e-08 9.4405689e-19 9.6968836e-01\n",
      " 2.2227763e-13 3.0311532e-02 3.4245698e-16 1.0616237e-11 2.8490116e-12]\n",
      "라벨: 6, 예측결과: 4\n"
     ]
    },
    {
     "data": {
      "image/png": "[encoded data removed]",
      "text/plain": [
       "<Figure size 432x288 with 1 Axes>"
      ]
     },
     "metadata": {
      "needs_background": "light"
     },
     "output_type": "display_data"
    },
    {
     "name": "stdout",
     "output_type": "stream",
     "text": [
      "예측확률분포: [2.81271415e-08 1.31387096e-10 1.12136866e-09 2.27737638e-11\n",
      " 6.33281982e-03 1.02940705e-08 1.33847459e-06 1.82545339e-08\n",
      " 9.93656456e-01 9.34914442e-06]\n",
      "라벨: 4, 예측결과: 8\n"
     ]
    },
    {
     "data": {
      "image/png": "[encoded data removed]",
      "text/plain": [
       "<Figure size 432x288 with 1 Axes>"
      ]
     },
     "metadata": {
      "needs_background": "light"
     },
     "output_type": "display_data"
    },
    {
     "name": "stdout",
     "output_type": "stream",
     "text": [
      "예측확률분포: [7.2596872e-01 4.8347299e-09 9.0991074e-05 4.5371571e-04 1.9190159e-08\n",
      " 2.2249797e-01 4.7032665e-02 2.1470336e-11 2.3551685e-04 3.7204155e-03]\n",
      "라벨: 5, 예측결과: 0\n"
     ]
    },
    {
     "data": {
      "image/png": "[encoded data removed]",
      "text/plain": [
       "<Figure size 432x288 with 1 Axes>"
      ]
     },
     "metadata": {
      "needs_background": "light"
     },
     "output_type": "display_data"
    },
    {
     "name": "stdout",
     "output_type": "stream",
     "text": [
      "예측확률분포: [4.2087969e-09 1.6010386e-09 3.1100221e-08 2.2875786e-07 4.9617659e-02\n",
      " 2.0569275e-09 4.5511759e-09 6.3274985e-09 7.4055509e-07 9.5038128e-01]\n",
      "라벨: 4, 예측결과: 9\n"
     ]
    },
    {
     "data": {
      "image/png": "[encoded data removed]",
      "text/plain": [
       "<Figure size 432x288 with 1 Axes>"
      ]
     },
     "metadata": {
      "needs_background": "light"
     },
     "output_type": "display_data"
    }
   ],
   "source": [
    "# 모델이 추론한 숫자와 실제 라벨 값이 다른 경우\n",
    "import random\n",
    "wrong_predict_list=[]\n",
    "\n",
    "for i, _ in enumerate(predicted_labels):\n",
    "    if predicted_labels[i] != y_test[i]:\n",
    "        wrong_predict_list.append(i)\n",
    "    # i번째 test_labels과 y_test가 다른 경우\n",
    "    \n",
    "# wrong_predict_list에서 랜덤으로 5개 뽑기\n",
    "samples = random.choices(population=wrong_predict_list, k=5)\n",
    "\n",
    "for n in samples:\n",
    "    print(\"예측확률분포: \" + str(predicted_result[n]))\n",
    "    print(\"라벨: \" + str(y_test[n]) + \", 예측결과: \" + str(predicted_labels[n]))\n",
    "    plt.imshow(x_test[n], cmap=plt.cm.binary)\n",
    "    plt.show()"
   ]
  },
  {
   "cell_type": "markdown",
   "id": "a35c8983",
   "metadata": {},
   "source": [
    "## Step 5. 더 좋은 네트워크 만들어 보기\n",
    "하이퍼파라미터 바꿔 인식률 높이기 : Conv2D 입력 이미지의 특징 수 늘리거나 줄여보기 / Dense 뉴런 수 바꿔보기 / epoch 학습 반복 횟수 바꿔보기"
   ]
  },
  {
   "cell_type": "code",
   "execution_count": 29,
   "id": "29ff7b97",
   "metadata": {},
   "outputs": [
    {
     "name": "stdout",
     "output_type": "stream",
     "text": [
      "Model: \"sequential_5\"\n",
      "_________________________________________________________________\n",
      "Layer (type)                 Output Shape              Param #   \n",
      "=================================================================\n",
      "conv2d_10 (Conv2D)           (None, 26, 26, 32)        320       \n",
      "_________________________________________________________________\n",
      "max_pooling2d_10 (MaxPooling (None, 13, 13, 32)        0         \n",
      "_________________________________________________________________\n",
      "conv2d_11 (Conv2D)           (None, 11, 11, 64)        18496     \n",
      "_________________________________________________________________\n",
      "max_pooling2d_11 (MaxPooling (None, 5, 5, 64)          0         \n",
      "_________________________________________________________________\n",
      "flatten_5 (Flatten)          (None, 1600)              0         \n",
      "_________________________________________________________________\n",
      "dense_10 (Dense)             (None, 32)                51232     \n",
      "_________________________________________________________________\n",
      "dense_11 (Dense)             (None, 10)                330       \n",
      "=================================================================\n",
      "Total params: 70,378\n",
      "Trainable params: 70,378\n",
      "Non-trainable params: 0\n",
      "_________________________________________________________________\n",
      "Epoch 1/10\n",
      "1875/1875 [==============================] - 6s 3ms/step - loss: 0.1635 - accuracy: 0.9501\n",
      "Epoch 2/10\n",
      "1875/1875 [==============================] - 5s 3ms/step - loss: 0.0518 - accuracy: 0.9841\n",
      "Epoch 3/10\n",
      "1875/1875 [==============================] - 5s 3ms/step - loss: 0.0367 - accuracy: 0.9885\n",
      "Epoch 4/10\n",
      "1875/1875 [==============================] - 5s 3ms/step - loss: 0.0277 - accuracy: 0.9911\n",
      "Epoch 5/10\n",
      "1875/1875 [==============================] - 5s 3ms/step - loss: 0.0218 - accuracy: 0.9927\n",
      "Epoch 6/10\n",
      "1875/1875 [==============================] - 5s 3ms/step - loss: 0.0163 - accuracy: 0.9949\n",
      "Epoch 7/10\n",
      "1875/1875 [==============================] - 5s 3ms/step - loss: 0.0140 - accuracy: 0.9952\n",
      "Epoch 8/10\n",
      "1875/1875 [==============================] - 5s 3ms/step - loss: 0.0112 - accuracy: 0.9964\n",
      "Epoch 9/10\n",
      "1875/1875 [==============================] - 5s 3ms/step - loss: 0.0090 - accuracy: 0.9970\n",
      "Epoch 10/10\n",
      "1875/1875 [==============================] - 5s 3ms/step - loss: 0.0089 - accuracy: 0.9971\n",
      "313/313 - 1s - loss: 0.0407 - accuracy: 0.9883\n",
      "test_loss: 0.040745291858911514\n",
      "test_accuracy: 0.9883000254631042\n"
     ]
    }
   ],
   "source": [
    "# 하이퍼파라미터 바꾸기\n",
    "n_channel_1=32\n",
    "n_channel_2=64\n",
    "n_dense=32\n",
    "n_train_epoch=10\n",
    "\n",
    "model=keras.models.Sequential()\n",
    "model.add(keras.layers.Conv2D(n_channel_1, (3,3), activation='relu', input_shape=(28,28,1)))\n",
    "model.add(keras.layers.MaxPool2D(2,2))\n",
    "model.add(keras.layers.Conv2D(n_channel_2, (3,3), activation='relu'))\n",
    "model.add(keras.layers.MaxPooling2D((2,2)))\n",
    "model.add(keras.layers.Flatten())\n",
    "model.add(keras.layers.Dense(n_dense, activation='relu'))\n",
    "model.add(keras.layers.Dense(10, activation='softmax'))\n",
    "\n",
    "model.summary()\n",
    "\n",
    "model.compile(optimizer='adam',\n",
    "             loss='sparse_categorical_crossentropy',\n",
    "             metrics=['accuracy'])\n",
    "\n",
    "model.fit(x_train_reshaped, y_train, epochs=n_train_epoch) # 모델 훈련\n",
    "\n",
    "test_loss, test_accuracy = model.evaluate(x_test_reshaped, y_test, verbose=2) # 모델 시험\n",
    "print(f\"test_loss: {test_loss}\")\n",
    "print(f\"test_accuracy: {test_accuracy}\")"
   ]
  },
  {
   "cell_type": "markdown",
   "id": "3e835f8c",
   "metadata": {},
   "source": [
    "- n_channel_1=16 / n_channel_2=32 / n_dense=32 / n_train_epoch=10 : accuracy = 98.70점  \n",
    "- n_channel_1=16 / n_channel_2=16 / n_dense=32 / n_train_epoch=10 : accuracy = 98.84점\n",
    "- n_channel_1=16 / n_channel_2=16 / n_dense=16 / n_train_epoch=9 : accuracy = 98.74점\n",
    "- n_channel_1=32 / n_channel_2=32 / n_dense=32 / n_train_epoch=10 : accuracy = 98.94점\n",
    "- n_channel_1=32 / n_channel_2=64 / n_dense=32 / n_train_epoch=10 : accuracy = 98.83점"
   ]
  }
 ],
 "metadata": {
  "kernelspec": {
   "display_name": "Python 3 (ipykernel)",
   "language": "python",
   "name": "python3"
  },
  "language_info": {
   "codemirror_mode": {
    "name": "ipython",
    "version": 3
   },
   "file_extension": ".py",
   "mimetype": "text/x-python",
   "name": "python",
   "nbconvert_exporter": "python",
   "pygments_lexer": "ipython3",
   "version": "3.9.7"
  }
 },
 "nbformat": 4,
 "nbformat_minor": 5
}
