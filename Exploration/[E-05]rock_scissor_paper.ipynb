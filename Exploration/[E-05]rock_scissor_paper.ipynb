{
 "cells": [
  {
   "cell_type": "markdown",
   "id": "1d5c2790",
   "metadata": {},
   "source": [
    "# 인공지능과 가위바위보 "
   ]
  },
  {
   "cell_type": "markdown",
   "id": "312d6e66",
   "metadata": {},
   "source": [
    "### 라이브러리 버전 확인"
   ]
  },
  {
   "cell_type": "code",
   "execution_count": 1,
   "id": "c54a87ab",
   "metadata": {},
   "outputs": [
    {
     "name": "stdout",
     "output_type": "stream",
     "text": [
      "2.10.0\n",
      "1.23.5\n"
     ]
    }
   ],
   "source": [
    "import tensorflow as tf\n",
    "import numpy as np\n",
    "\n",
    "print(tf.__version__)\n",
    "print(np.__version__)"
   ]
  },
  {
   "cell_type": "markdown",
   "id": "722072d9",
   "metadata": {},
   "source": [
    "## Step 1. 데이터 불러오기 및 Resize\n"
   ]
  },
  {
   "cell_type": "code",
   "execution_count": 2,
   "id": "a74ee56a",
   "metadata": {},
   "outputs": [],
   "source": [
    "# 필요한 모듈 import\n",
    "from PIL import Image\n",
    "import glob\n",
    "import os"
   ]
  },
  {
   "cell_type": "code",
   "execution_count": 3,
   "id": "87554023",
   "metadata": {},
   "outputs": [],
   "source": [
    "# 224x224사이즈에서 28x28사이즈로 변환 함수 만들기\n",
    "def resize_images(img_path):\n",
    "    images=glob.glob(img_path + \"/*.jpg\")\n",
    "    \n",
    "    print(len(images), \" images to be resized\")\n",
    "    \n",
    "    target_size=(28,28)\n",
    "    for img in images:\n",
    "        old_img=Image.open(img)\n",
    "        new_img=old_img.resize(target_size,Image.ANTIALIAS)\n",
    "        new_img.save(img, \"JPEG\")\n",
    "        \n",
    "    print(len(images), \" images resized.\")"
   ]
  },
  {
   "cell_type": "code",
   "execution_count": 4,
   "id": "9a620c5a",
   "metadata": {},
   "outputs": [
    {
     "name": "stdout",
     "output_type": "stream",
     "text": [
      "100  images to be resized\n",
      "100  images resized.\n",
      "100  images to be resized\n",
      "100  images resized.\n",
      "100  images to be resized\n",
      "100  images resized.\n"
     ]
    },
    {
     "name": "stderr",
     "output_type": "stream",
     "text": [
      "/var/folders/4q/5nms447x5r73lpjnv48256k80000gn/T/ipykernel_40832/3900434163.py:10: DeprecationWarning: ANTIALIAS is deprecated and will be removed in Pillow 10 (2023-07-01). Use Resampling.LANCZOS instead.\n",
      "  new_img=old_img.resize(target_size,Image.ANTIALIAS)\n"
     ]
    }
   ],
   "source": [
    "# 가위 이미지 resize하기\n",
    "image_dir_path = os.getenv(\"HOME\") + \"/aiffel/rock_scissor_paper/scissor_sy\"\n",
    "resize_images(image_dir_path)\n",
    "\n",
    "# 바위 이미지 resize하기\n",
    "image_dir_path = os.getenv(\"HOME\") + \"/aiffel/rock_scissor_paper/rock_sy\"\n",
    "resize_images(image_dir_path)\n",
    "\n",
    "# 보 이미지 resize하기\n",
    "image_dir_path = os.getenv(\"HOME\") + \"/aiffel/rock_scissor_paper/paper_sy\"\n",
    "resize_images(image_dir_path)"
   ]
  },
  {
   "cell_type": "code",
   "execution_count": 5,
   "id": "84ec47e4",
   "metadata": {},
   "outputs": [
    {
     "name": "stdout",
     "output_type": "stream",
     "text": [
      "학습데이터(x_train)의 이미지 개수는 201 입니다.\n",
      "x_train shape: (300, 28, 28, 3)\n",
      "y_train shape: (300,)\n"
     ]
    }
   ],
   "source": [
    "# 가위, 바위, 보 데이터를 읽을 수 있는 load_data() 함수 만들기\n",
    "def load_data(img_path, number_of_data=300):\n",
    "    img_size=28\n",
    "    color=3 # 컬러는 3, 흑백은 1\n",
    "    # 가위:0, 바위:1, 보:2 데이터를 담을 행렬 영역 생성(곱셈 형태)\n",
    "    imgs=np.zeros(number_of_data*img_size*img_size*color,dtype=np.int32).reshape(number_of_data,img_size,img_size,color)\n",
    "    labels=np.zeros(number_of_data,dtype=np.int32)\n",
    "    \n",
    "    idx=0\n",
    "    for file in glob.iglob(img_path+'/scissor_sy/*.jpg'):\n",
    "        img = np.array(Image.open(file),dtype=np.int32)\n",
    "        imgs[idx,:,:,:]=img # 데이터 영역에 이미지 행렬을 복사(idx번째에 이미지 픽셀값 입력)\n",
    "        labels[idx]=0 # 가위를 0으로 라벨링\n",
    "        idx=idx+1\n",
    "        \n",
    "    for file in glob.iglob(img_path+'/rock_sy/*.jpg'):\n",
    "        img = np.array(Image.open(file),dtype=np.int32)\n",
    "        imgs[idx,:,:,:]=img\n",
    "        labels[idx]=1 # 바위를 1로 라벨링\n",
    "        idx=idx+1\n",
    "        \n",
    "    for file in glob.iglob(img_path+'/paper_sy/*.jpg'):\n",
    "        img = np.array(Image.open(file),dtype=np.int32)\n",
    "        imgs[idx,:,:,:]=img\n",
    "        labels[idx]=2 # 보를 2로 라벨링\n",
    "        idx=idx+1\n",
    "        \n",
    "        print(\"학습데이터(x_train)의 이미지 개수는\", idx,\"입니다.\")\n",
    "        return imgs, labels\n",
    "    \n",
    "image_dir_path = os.getenv(\"HOME\") + \"/aiffel/rock_scissor_paper\"\n",
    "(x_train, y_train)=load_data(image_dir_path)\n",
    "x_train_norm = x_train/255.0 # 입력은 0~1 사이 값으로 정규화\n",
    "\n",
    "print(\"x_train shape: {}\".format(x_train.shape))\n",
    "print(\"y_train shape: {}\".format(y_train.shape))"
   ]
  },
  {
   "cell_type": "code",
   "execution_count": 6,
   "id": "12850736",
   "metadata": {},
   "outputs": [
    {
     "name": "stdout",
     "output_type": "stream",
     "text": [
      "라벨: 0\n"
     ]
    },
    {
     "data": {
      "image/png": "[encoded data removed]",
      "text/plain": [
       "<Figure size 640x480 with 1 Axes>"
      ]
     },
     "metadata": {},
     "output_type": "display_data"
    }
   ],
   "source": [
    "# 이미지 불러오기\n",
    "import matplotlib.pyplot as plt\n",
    "\n",
    "plt.imshow(x_train[53])\n",
    "print('라벨:', y_train[53])"
   ]
  },
  {
   "cell_type": "code",
   "execution_count": 7,
   "id": "5f4b1315",
   "metadata": {},
   "outputs": [
    {
     "name": "stdout",
     "output_type": "stream",
     "text": [
      "x_train_norm shape: (270, 28, 28, 3)\n",
      "y_train shape: (270,)\n"
     ]
    }
   ],
   "source": [
    "# 학습데이터와 검증데이터 분리\n",
    "from sklearn.model_selection import train_test_split\n",
    "\n",
    "x_train_norm, x_valid, y_train, y_valid = train_test_split(x_train_norm, y_train, test_size=0.1, shuffle=False, random_state=20)\n",
    "\n",
    "print(\"x_train_norm shape: {}\".format(x_train_norm.shape))\n",
    "print(\"y_train shape: {}\".format(y_train.shape))"
   ]
  },
  {
   "cell_type": "markdown",
   "id": "c37e75c1",
   "metadata": {},
   "source": [
    "- 검증데이터를 만들기 위해 train set에서 9:1로 분리시켰고, 앞 뒤 순서대로 분리해 주었다."
   ]
  },
  {
   "cell_type": "markdown",
   "id": "ad0c01d5",
   "metadata": {},
   "source": [
    "## Step 2. 딥러닝 네트워크 설계하기\n"
   ]
  },
  {
   "cell_type": "code",
   "execution_count": 8,
   "id": "b5719ad1",
   "metadata": {},
   "outputs": [
    {
     "name": "stdout",
     "output_type": "stream",
     "text": [
      "Model: \"sequential\"\n",
      "_________________________________________________________________\n",
      " Layer (type)                Output Shape              Param #   \n",
      "=================================================================\n",
      " conv2d (Conv2D)             (None, 26, 26, 16)        448       \n",
      "                                                                 \n",
      " max_pooling2d (MaxPooling2D  (None, 13, 13, 16)       0         \n",
      " )                                                               \n",
      "                                                                 \n",
      " conv2d_1 (Conv2D)           (None, 11, 11, 32)        4640      \n",
      "                                                                 \n",
      " max_pooling2d_1 (MaxPooling  (None, 5, 5, 32)         0         \n",
      " 2D)                                                             \n",
      "                                                                 \n",
      " flatten (Flatten)           (None, 800)               0         \n",
      "                                                                 \n",
      " dense (Dense)               (None, 32)                25632     \n",
      "                                                                 \n",
      " dense_1 (Dense)             (None, 3)                 99        \n",
      "                                                                 \n",
      "=================================================================\n",
      "Total params: 30,819\n",
      "Trainable params: 30,819\n",
      "Non-trainable params: 0\n",
      "_________________________________________________________________\n"
     ]
    }
   ],
   "source": [
    "import tensorflow as tf\n",
    "from tensorflow import keras\n",
    "import numpy as np\n",
    "\n",
    "model=keras.models.Sequential()\n",
    "model.add(keras.layers.Conv2D(16, (3,3), activation='relu', input_shape=(28,28,3)))\n",
    "model.add(keras.layers.MaxPool2D(2,2))\n",
    "model.add(keras.layers.Conv2D(32, (3,3), activation='relu'))\n",
    "model.add(keras.layers.MaxPooling2D((2,2)))\n",
    "model.add(keras.layers.Flatten())\n",
    "model.add(keras.layers.Dense(32, activation='relu'))\n",
    "model.add(keras.layers.Dense(3, activation='softmax'))\n",
    "\n",
    "model.summary()"
   ]
  },
  {
   "cell_type": "markdown",
   "id": "05efa9b0",
   "metadata": {},
   "source": [
    "## Step 3. 딥러닝 네트워크 학습"
   ]
  },
  {
   "cell_type": "code",
   "execution_count": 9,
   "id": "be48ee49",
   "metadata": {},
   "outputs": [
    {
     "name": "stdout",
     "output_type": "stream",
     "text": [
      "Epoch 1/10\n",
      "1/9 [==>...........................] - ETA: 1s - loss: 1.2124 - accuracy: 0.1875"
     ]
    },
    {
     "name": "stderr",
     "output_type": "stream",
     "text": [
      "2022-11-27 22:49:13.433963: W tensorflow/core/platform/profile_utils/cpu_utils.cc:128] Failed to get CPU frequency: 0 Hz\n"
     ]
    },
    {
     "name": "stdout",
     "output_type": "stream",
     "text": [
      "9/9 [==============================] - 0s 14ms/step - loss: 0.9047 - accuracy: 0.7556 - val_loss: 1.0389 - val_accuracy: 1.0000\n",
      "Epoch 2/10\n",
      "9/9 [==============================] - 0s 5ms/step - loss: 0.7442 - accuracy: 0.7741 - val_loss: 0.9099 - val_accuracy: 1.0000\n",
      "Epoch 3/10\n",
      "9/9 [==============================] - 0s 5ms/step - loss: 0.6629 - accuracy: 0.7556 - val_loss: 0.6830 - val_accuracy: 1.0000\n",
      "Epoch 4/10\n",
      "9/9 [==============================] - 0s 5ms/step - loss: 0.5254 - accuracy: 0.9889 - val_loss: 0.3909 - val_accuracy: 1.0000\n",
      "Epoch 5/10\n",
      "9/9 [==============================] - 0s 5ms/step - loss: 0.3651 - accuracy: 0.9963 - val_loss: 0.1380 - val_accuracy: 1.0000\n",
      "Epoch 6/10\n",
      "9/9 [==============================] - 0s 5ms/step - loss: 0.2372 - accuracy: 0.9963 - val_loss: 0.0287 - val_accuracy: 1.0000\n",
      "Epoch 7/10\n",
      "9/9 [==============================] - 0s 5ms/step - loss: 0.1494 - accuracy: 0.9963 - val_loss: 0.0078 - val_accuracy: 1.0000\n",
      "Epoch 8/10\n",
      "9/9 [==============================] - 0s 5ms/step - loss: 0.0970 - accuracy: 0.9963 - val_loss: 0.0036 - val_accuracy: 1.0000\n",
      "Epoch 9/10\n",
      "9/9 [==============================] - 0s 5ms/step - loss: 0.0661 - accuracy: 0.9963 - val_loss: 0.0020 - val_accuracy: 1.0000\n",
      "Epoch 10/10\n",
      "9/9 [==============================] - 0s 5ms/step - loss: 0.0510 - accuracy: 0.9963 - val_loss: 0.0013 - val_accuracy: 1.0000\n"
     ]
    }
   ],
   "source": [
    "# x_train 학습 데이터와 검증 데이터 딥러닝 네트워크 학습\n",
    "model.compile(optimizer='adam',\n",
    "             loss='sparse_categorical_crossentropy',\n",
    "             metrics=['accuracy'])\n",
    "\n",
    "hist = model.fit(x_train_norm, y_train, epochs=10, validation_data=(x_valid, y_valid))"
   ]
  },
  {
   "cell_type": "markdown",
   "id": "0599340b",
   "metadata": {},
   "source": [
    "- 300개의 데이터를 또 9:1로 분리시켜 270개의 훈련데이터와 30개의 검증데이터로 학습시키고 loss와 accuracy를 확인했는데 검증데이터의 accuracy가 1.0000이 나와버린 경우도 있고, accuracy가 1.0000이 되었다가 그보다 낮아졌다가 다시 올라가는 경우도 있다. 데이터의 양이 너무 적어서 결과가 이상해진 거 같다."
   ]
  },
  {
   "cell_type": "code",
   "execution_count": 10,
   "id": "df03ea71",
   "metadata": {},
   "outputs": [
    {
     "data": {
      "image/png": "[encoded data removed]",
      "text/plain": [
       "<Figure size 640x480 with 2 Axes>"
      ]
     },
     "metadata": {},
     "output_type": "display_data"
    }
   ],
   "source": [
    "# 학습결과 시각화\n",
    "import matplotlib.pyplot as plt\n",
    "%matplotlib inline\n",
    "\n",
    "fig, loss_ax = plt.subplots()\n",
    "acc_ax = loss_ax.twinx()\n",
    "\n",
    "loss_ax.plot(hist.history['loss'], 'y', label = 'train loss')\n",
    "loss_ax.plot(hist.history['val_loss'], 'r', label = 'val loss')\n",
    "\n",
    "acc_ax.plot(hist.history['accuracy'], 'b', label = 'train acc')\n",
    "acc_ax.plot(hist.history['val_accuracy'], 'g', label = 'val acc')\n",
    "\n",
    "loss_ax.set_xlabel('epoch')\n",
    "loss_ax.set_ylabel('loss')\n",
    "acc_ax.set_ylabel('accuracy')\n",
    "\n",
    "loss_ax.legend(loc='upper left')\n",
    "acc_ax.legend(loc='lower left')\n",
    "\n",
    "plt.show()"
   ]
  },
  {
   "cell_type": "markdown",
   "id": "497b7aa3",
   "metadata": {},
   "source": [
    "- 그래프로 봤을 때는 검증데이터의 accuracy가 1이 되는 것을 봐서 검증데이터의 역할을 못하는 것 같다. 그리고 훈련데이터와 검증데이터의 loss가 너무 많이 차이나는 거 같다. "
   ]
  },
  {
   "cell_type": "markdown",
   "id": "7f26f157",
   "metadata": {},
   "source": [
    "## Step 4. 성능 확인하기"
   ]
  },
  {
   "cell_type": "code",
   "execution_count": 11,
   "id": "f868d4b3",
   "metadata": {},
   "outputs": [
    {
     "name": "stdout",
     "output_type": "stream",
     "text": [
      "테스트 데이터(x_test)의 이미지 개수는 201 입니다.\n",
      "x_test shape: (300, 28, 28, 3)\n",
      "y_test shape: (300,)\n"
     ]
    }
   ],
   "source": [
    "# x_test, y_test 테스트용 데이터 만들기\n",
    "def load_test_data(img_path, number_of_data=300):\n",
    "    img_size=28\n",
    "    color=3 # 컬러는 3, 흑백은 1\n",
    "    # 가위:0, 바위:1, 보:2 데이터를 담을 행렬 영역 생성(곱셈 형태)\n",
    "    imgs=np.zeros(number_of_data*img_size*img_size*color,dtype=np.int32).reshape(number_of_data,img_size,img_size,color)\n",
    "    labels=np.zeros(number_of_data,dtype=np.int32)\n",
    "    \n",
    "    idx=0\n",
    "    for file in glob.iglob(img_path+'/scissor/*.jpg'):\n",
    "        img = np.array(Image.open(file),dtype=np.int32)\n",
    "        imgs[idx,:,:,:]=img # 데이터 영역에 이미지 행렬을 복사(idx번째에 이미지 픽셀값 입력)\n",
    "        labels[idx]=0 # 가위를 0으로 라벨링\n",
    "        idx=idx+1\n",
    "        \n",
    "    for file in glob.iglob(img_path+'/rock/*.jpg'):\n",
    "        img = np.array(Image.open(file),dtype=np.int32)\n",
    "        imgs[idx,:,:,:]=img\n",
    "        labels[idx]=1 # 바위를 1로 라벨링\n",
    "        idx=idx+1\n",
    "        \n",
    "    for file in glob.iglob(img_path+'/paper/*.jpg'):\n",
    "        img = np.array(Image.open(file),dtype=np.int32)\n",
    "        imgs[idx,:,:,:]=img\n",
    "        labels[idx]=2 # 보를 2로 라벨링\n",
    "        idx=idx+1\n",
    "        \n",
    "        print(\"테스트 데이터(x_test)의 이미지 개수는\", idx,\"입니다.\")\n",
    "        return imgs, labels\n",
    "\n",
    "image_dir_path = os.getenv(\"HOME\") + \"/aiffel/rock_scissor_paper/test\"\n",
    "(x_test, y_test)=load_test_data(image_dir_path)\n",
    "x_test_norm = x_test/255.0 # 입력은 0~1 사이 값으로 정규화\n",
    "\n",
    "print(\"x_test shape: {}\".format(x_test.shape))\n",
    "print(\"y_test shape: {}\".format(y_test.shape))"
   ]
  },
  {
   "cell_type": "code",
   "execution_count": 12,
   "id": "05b6675f",
   "metadata": {},
   "outputs": [
    {
     "name": "stdout",
     "output_type": "stream",
     "text": [
      "10/10 - 0s - loss: 2.1259 - accuracy: 0.6633 - 26ms/epoch - 3ms/step\n",
      "test_loss: 2.125948429107666\n",
      "test_accuracy: 0.6633333563804626\n"
     ]
    }
   ],
   "source": [
    "# test_accurary 측정\n",
    "test_loss, test_accuracy = model.evaluate(x_test_norm, y_test, verbose=2) # 모델 시험\n",
    "print(f\"test_loss: {test_loss}\")\n",
    "print(f\"test_accuracy: {test_accuracy}\")"
   ]
  },
  {
   "cell_type": "markdown",
   "id": "6fb86d44",
   "metadata": {},
   "source": [
    "- 학습데이터에서는 accuracy가 0.9963이 나온 반면, 테스트데이터에서는 accuracy가 0.6633으로 많이 낮아졌다.  \n",
    "학습한 후 test를 할 때마다 test accuracy가 변동이 생긴다고 알고 있는데 몇 번을 돌려봐도 항상 일정하게 결과가 나온다. 이미지 증강을 하지 않았음에도 accuracy가 꽤 높게 나온 것도 이상하다. 뭔가 잘못된 거 같다. 전체적으로도 학습데이터와 검증데이터의 양이 적었고 테스트데이터에 비해 학습데이터가 적었기 때문에 발생한 문제인 거 같다.\n",
    "- 훈련데이터와 검증데이터의 loss가 많이 차이나는 것을 봤을 때에도 확실히 문제가 있는 거 같다.\n",
    "- 내가 준비한 가위바위보 데이터셋은 하얀 배경에 손만 찍었기 때문에 더 학습이 잘 되었을 수도 있지만 데이터 양이 적었던 것을 고려해 다른 분들의 가위바위보 데이터셋을 받아 총 7372개의 데이터를 가지고 훈련데이터와 검증데이터를 9:1로 나눈 후 학습하고 accuracy를 측정해본 뒤, 같은 300개의 테스트데이터로 다시 accuracy를 측정해보기로 했다."
   ]
  },
  {
   "cell_type": "markdown",
   "id": "9b14467c",
   "metadata": {},
   "source": [
    "--------"
   ]
  },
  {
   "cell_type": "markdown",
   "id": "a49cc78b",
   "metadata": {},
   "source": [
    "## Step 1. 데이터 불러오기 및 Resize"
   ]
  },
  {
   "cell_type": "code",
   "execution_count": 12,
   "id": "72d56637",
   "metadata": {},
   "outputs": [],
   "source": [
    "# 필요한 모듈 import\n",
    "import tensorflow as tf\n",
    "import numpy as np\n",
    "\n",
    "from PIL import Image\n",
    "import glob\n",
    "import os"
   ]
  },
  {
   "cell_type": "code",
   "execution_count": 13,
   "id": "c9f3f3ad",
   "metadata": {},
   "outputs": [],
   "source": [
    "# 224x224사이즈에서 28x28사이즈로 변환 함수 만들기\n",
    "def resize_images(img_path):\n",
    "    images=glob.glob(img_path + \"/*.jpg\")\n",
    "    \n",
    "    print(len(images), \" images to be resized\")\n",
    "    \n",
    "    target_size=(28,28)\n",
    "    for img in images:\n",
    "        old_img=Image.open(img)\n",
    "        new_img=old_img.resize(target_size,Image.ANTIALIAS)\n",
    "        new_img.save(img, \"JPEG\")\n",
    "        \n",
    "    print(len(images), \" images resized.\")"
   ]
  },
  {
   "cell_type": "code",
   "execution_count": 14,
   "id": "17d3764b",
   "metadata": {},
   "outputs": [
    {
     "name": "stdout",
     "output_type": "stream",
     "text": [
      "2467  images to be resized\n"
     ]
    },
    {
     "name": "stderr",
     "output_type": "stream",
     "text": [
      "/var/folders/4q/5nms447x5r73lpjnv48256k80000gn/T/ipykernel_40914/3900434163.py:10: DeprecationWarning: ANTIALIAS is deprecated and will be removed in Pillow 10 (2023-07-01). Use Resampling.LANCZOS instead.\n",
      "  new_img=old_img.resize(target_size,Image.ANTIALIAS)\n"
     ]
    },
    {
     "name": "stdout",
     "output_type": "stream",
     "text": [
      "2467  images resized.\n",
      "2504  images to be resized\n",
      "2504  images resized.\n",
      "2401  images to be resized\n",
      "2401  images resized.\n"
     ]
    }
   ],
   "source": [
    "# 가위 이미지 resize하기\n",
    "image_dir_path = os.getenv(\"HOME\") + \"/aiffel/rock_scissor_paper/scissor\"\n",
    "resize_images(image_dir_path)\n",
    "\n",
    "# 바위 이미지 resize하기\n",
    "image_dir_path = os.getenv(\"HOME\") + \"/aiffel/rock_scissor_paper/rock\"\n",
    "resize_images(image_dir_path)\n",
    "\n",
    "# 보 이미지 resize하기\n",
    "image_dir_path = os.getenv(\"HOME\") + \"/aiffel/rock_scissor_paper/paper\"\n",
    "resize_images(image_dir_path)"
   ]
  },
  {
   "cell_type": "code",
   "execution_count": 22,
   "id": "16f5fcb0",
   "metadata": {},
   "outputs": [
    {
     "name": "stdout",
     "output_type": "stream",
     "text": [
      "학습데이터(x_train)의 이미지 개수는 4972 입니다.\n",
      "x_train shape: (7372, 28, 28, 3)\n",
      "y_train shape: (7372,)\n"
     ]
    }
   ],
   "source": [
    "# 가위, 바위, 보 데이터를 읽을 수 있는 load_data() 함수 만들기\n",
    "def load_data(img_path, number_of_data=7372):\n",
    "    img_size=28\n",
    "    color=3 # 컬러는 3, 흑백은 1\n",
    "    # 가위:0, 바위:1, 보:2 데이터를 담을 행렬 영역 생성(곱셈 형태)\n",
    "    imgs=np.zeros(number_of_data*img_size*img_size*color,dtype=np.int32).reshape(number_of_data,img_size,img_size,color)\n",
    "    labels=np.zeros(number_of_data,dtype=np.int32)\n",
    "    \n",
    "    idx=0\n",
    "    for file in glob.iglob(img_path+'/scissor/*.jpg'):\n",
    "        img = np.array(Image.open(file),dtype=np.int32)\n",
    "        imgs[idx,:,:,:]=img # 데이터 영역에 이미지 행렬을 복사(idx번째에 이미지 픽셀값 입력)\n",
    "        labels[idx]=0 # 가위를 0으로 라벨링\n",
    "        idx=idx+1\n",
    "        \n",
    "    for file in glob.iglob(img_path+'/rock/*.jpg'):\n",
    "        img = np.array(Image.open(file),dtype=np.int32)\n",
    "        imgs[idx,:,:,:]=img\n",
    "        labels[idx]=1 # 바위를 1로 라벨링\n",
    "        idx=idx+1\n",
    "        \n",
    "    for file in glob.iglob(img_path+'/paper/*.jpg'):\n",
    "        img = np.array(Image.open(file),dtype=np.int32)\n",
    "        imgs[idx,:,:,:]=img\n",
    "        labels[idx]=2 # 보를 2로 라벨링\n",
    "        idx=idx+1\n",
    "        \n",
    "        print(\"학습데이터(x_train)의 이미지 개수는\", idx,\"입니다.\")\n",
    "        return imgs, labels\n",
    "    \n",
    "image_dir_path = os.getenv(\"HOME\") + \"/aiffel/rock_scissor_paper\"\n",
    "(x_train, y_train)=load_data(image_dir_path)\n",
    "\n",
    "print(\"x_train shape: {}\".format(x_train.shape))\n",
    "print(\"y_train shape: {}\".format(y_train.shape))"
   ]
  },
  {
   "cell_type": "code",
   "execution_count": 23,
   "id": "b2c4e800",
   "metadata": {},
   "outputs": [
    {
     "name": "stdout",
     "output_type": "stream",
     "text": [
      "라벨: 0\n"
     ]
    },
    {
     "data": {
      "image/png": "[encoded data removed]",
      "text/plain": [
       "<Figure size 640x480 with 1 Axes>"
      ]
     },
     "metadata": {},
     "output_type": "display_data"
    }
   ],
   "source": [
    "# 이미지 불러오기\n",
    "import matplotlib.pyplot as plt\n",
    "%matplotlib inline\n",
    "\n",
    "plt.imshow(x_train[960])\n",
    "print('라벨:', y_train[960])"
   ]
  },
  {
   "cell_type": "code",
   "execution_count": 24,
   "id": "c5fde02a",
   "metadata": {},
   "outputs": [
    {
     "name": "stdout",
     "output_type": "stream",
     "text": [
      "x_train shape: (6634, 28, 28, 3)\n",
      "y_train shape: (6634,)\n"
     ]
    }
   ],
   "source": [
    "# 학습데이터와 검증데이터 분리\n",
    "from sklearn.model_selection import train_test_split\n",
    "\n",
    "x_train, x_valid, y_train, y_valid = train_test_split(x_train, y_train, test_size=0.1, shuffle=False, random_state=20)\n",
    "# 학습데이터와 검증데이터를 9:1로 분리\n",
    "# 섞지 않고 9:1로 분리\n",
    "\n",
    "print(\"x_train shape: {}\".format(x_train.shape))\n",
    "print(\"y_train shape: {}\".format(y_train.shape))"
   ]
  },
  {
   "cell_type": "code",
   "execution_count": 25,
   "id": "3bf47732",
   "metadata": {},
   "outputs": [],
   "source": [
    "# 입력은 0~1 사이 값으로 정규화\n",
    "x_train_norm = x_train/255.0\n",
    "x_valid_norm = x_valid/255.0"
   ]
  },
  {
   "cell_type": "markdown",
   "id": "f2b94d2d",
   "metadata": {},
   "source": [
    "## Step 2. 딥러닝 네트워크 설계하기"
   ]
  },
  {
   "cell_type": "code",
   "execution_count": 31,
   "id": "b0222580",
   "metadata": {},
   "outputs": [
    {
     "name": "stdout",
     "output_type": "stream",
     "text": [
      "Model: \"sequential_3\"\n",
      "_________________________________________________________________\n",
      " Layer (type)                Output Shape              Param #   \n",
      "=================================================================\n",
      " conv2d_6 (Conv2D)           (None, 26, 26, 16)        448       \n",
      "                                                                 \n",
      " max_pooling2d_6 (MaxPooling  (None, 13, 13, 16)       0         \n",
      " 2D)                                                             \n",
      "                                                                 \n",
      " conv2d_7 (Conv2D)           (None, 11, 11, 64)        9280      \n",
      "                                                                 \n",
      " max_pooling2d_7 (MaxPooling  (None, 5, 5, 64)         0         \n",
      " 2D)                                                             \n",
      "                                                                 \n",
      " flatten_3 (Flatten)         (None, 1600)              0         \n",
      "                                                                 \n",
      " dense_6 (Dense)             (None, 64)                102464    \n",
      "                                                                 \n",
      " dense_7 (Dense)             (None, 3)                 195       \n",
      "                                                                 \n",
      "=================================================================\n",
      "Total params: 112,387\n",
      "Trainable params: 112,387\n",
      "Non-trainable params: 0\n",
      "_________________________________________________________________\n"
     ]
    }
   ],
   "source": [
    "import tensorflow as tf\n",
    "from tensorflow import keras\n",
    "import numpy as np\n",
    "\n",
    "model=keras.models.Sequential()\n",
    "model.add(keras.layers.Conv2D(16, (3,3), activation='relu', input_shape=(28,28,3)))\n",
    "model.add(keras.layers.MaxPool2D(2,2))\n",
    "model.add(keras.layers.Conv2D(64, (3,3), activation='relu'))\n",
    "model.add(keras.layers.MaxPooling2D((2,2)))\n",
    "model.add(keras.layers.Flatten())\n",
    "model.add(keras.layers.Dense(64, activation='relu'))\n",
    "model.add(keras.layers.Dense(3, activation='softmax'))\n",
    "\n",
    "model.summary()"
   ]
  },
  {
   "cell_type": "markdown",
   "id": "9c57c5b2",
   "metadata": {},
   "source": [
    "## Step 3. 딥러닝 네트워크 학습"
   ]
  },
  {
   "cell_type": "code",
   "execution_count": 32,
   "id": "7f416d4f",
   "metadata": {},
   "outputs": [
    {
     "name": "stdout",
     "output_type": "stream",
     "text": [
      "Epoch 1/50\n",
      "208/208 [==============================] - 1s 5ms/step - loss: 0.5277 - accuracy: 0.6856 - val_loss: 3.4922e-04 - val_accuracy: 1.0000\n",
      "Epoch 2/50\n",
      "208/208 [==============================] - 1s 4ms/step - loss: 0.3245 - accuracy: 0.8579 - val_loss: 1.4067e-05 - val_accuracy: 1.0000\n",
      "Epoch 3/50\n",
      "208/208 [==============================] - 1s 4ms/step - loss: 0.1972 - accuracy: 0.9212 - val_loss: 2.9607e-04 - val_accuracy: 1.0000\n",
      "Epoch 4/50\n",
      "208/208 [==============================] - 1s 4ms/step - loss: 0.1302 - accuracy: 0.9500 - val_loss: 5.6028e-06 - val_accuracy: 1.0000\n",
      "Epoch 5/50\n",
      "208/208 [==============================] - 1s 4ms/step - loss: 0.0908 - accuracy: 0.9680 - val_loss: 1.5497e-06 - val_accuracy: 1.0000\n",
      "Epoch 6/50\n",
      "208/208 [==============================] - 1s 4ms/step - loss: 0.0630 - accuracy: 0.9804 - val_loss: 5.9605e-07 - val_accuracy: 1.0000\n",
      "Epoch 7/50\n",
      "208/208 [==============================] - 1s 4ms/step - loss: 0.0544 - accuracy: 0.9815 - val_loss: 1.6928e-05 - val_accuracy: 1.0000\n",
      "Epoch 8/50\n",
      "208/208 [==============================] - 1s 4ms/step - loss: 0.0330 - accuracy: 0.9897 - val_loss: 9.5367e-07 - val_accuracy: 1.0000\n",
      "Epoch 9/50\n",
      "208/208 [==============================] - 1s 4ms/step - loss: 0.0275 - accuracy: 0.9914 - val_loss: 1.1921e-07 - val_accuracy: 1.0000\n",
      "Epoch 10/50\n",
      "208/208 [==============================] - 1s 4ms/step - loss: 0.0146 - accuracy: 0.9971 - val_loss: 3.5763e-06 - val_accuracy: 1.0000\n",
      "Epoch 11/50\n",
      "208/208 [==============================] - 1s 4ms/step - loss: 0.0159 - accuracy: 0.9947 - val_loss: 1.1921e-07 - val_accuracy: 1.0000\n",
      "Epoch 12/50\n",
      "208/208 [==============================] - 1s 4ms/step - loss: 0.0095 - accuracy: 0.9982 - val_loss: 4.4107e-06 - val_accuracy: 1.0000\n",
      "Epoch 13/50\n",
      "208/208 [==============================] - 1s 4ms/step - loss: 0.0135 - accuracy: 0.9967 - val_loss: 0.0000e+00 - val_accuracy: 1.0000\n",
      "Epoch 14/50\n",
      "208/208 [==============================] - 1s 4ms/step - loss: 0.0037 - accuracy: 0.9997 - val_loss: 0.0000e+00 - val_accuracy: 1.0000\n",
      "Epoch 15/50\n",
      "208/208 [==============================] - 1s 4ms/step - loss: 0.0044 - accuracy: 0.9991 - val_loss: 0.0000e+00 - val_accuracy: 1.0000\n",
      "Epoch 16/50\n",
      "208/208 [==============================] - 1s 4ms/step - loss: 0.0019 - accuracy: 0.9998 - val_loss: 1.1921e-07 - val_accuracy: 1.0000\n",
      "Epoch 17/50\n",
      "208/208 [==============================] - 1s 4ms/step - loss: 0.0026 - accuracy: 0.9991 - val_loss: 2.3842e-07 - val_accuracy: 1.0000\n",
      "Epoch 18/50\n",
      "208/208 [==============================] - 1s 4ms/step - loss: 0.0307 - accuracy: 0.9887 - val_loss: 0.0000e+00 - val_accuracy: 1.0000\n",
      "Epoch 19/50\n",
      "208/208 [==============================] - 1s 4ms/step - loss: 0.0060 - accuracy: 0.9985 - val_loss: 1.4305e-06 - val_accuracy: 1.0000\n",
      "Epoch 20/50\n",
      "208/208 [==============================] - 1s 4ms/step - loss: 0.0031 - accuracy: 0.9994 - val_loss: 2.3842e-07 - val_accuracy: 1.0000\n",
      "Epoch 21/50\n",
      "208/208 [==============================] - 1s 4ms/step - loss: 9.3987e-04 - accuracy: 0.9998 - val_loss: 1.4305e-06 - val_accuracy: 1.0000\n",
      "Epoch 22/50\n",
      "208/208 [==============================] - 1s 4ms/step - loss: 5.8095e-04 - accuracy: 1.0000 - val_loss: 2.3842e-07 - val_accuracy: 1.0000\n",
      "Epoch 23/50\n",
      "208/208 [==============================] - 1s 4ms/step - loss: 4.6586e-04 - accuracy: 1.0000 - val_loss: 1.1921e-07 - val_accuracy: 1.0000\n",
      "Epoch 24/50\n",
      "208/208 [==============================] - 1s 5ms/step - loss: 3.7043e-04 - accuracy: 1.0000 - val_loss: 3.5763e-07 - val_accuracy: 1.0000\n",
      "Epoch 25/50\n",
      "208/208 [==============================] - 1s 4ms/step - loss: 3.1257e-04 - accuracy: 1.0000 - val_loss: 1.1921e-07 - val_accuracy: 1.0000\n",
      "Epoch 26/50\n",
      "208/208 [==============================] - 1s 4ms/step - loss: 2.4991e-04 - accuracy: 1.0000 - val_loss: 2.3842e-07 - val_accuracy: 1.0000\n",
      "Epoch 27/50\n",
      "208/208 [==============================] - 1s 4ms/step - loss: 2.0051e-04 - accuracy: 1.0000 - val_loss: 2.3842e-07 - val_accuracy: 1.0000\n",
      "Epoch 28/50\n",
      "208/208 [==============================] - 1s 4ms/step - loss: 1.6172e-04 - accuracy: 1.0000 - val_loss: 1.1921e-07 - val_accuracy: 1.0000\n",
      "Epoch 29/50\n",
      "208/208 [==============================] - 1s 4ms/step - loss: 1.3855e-04 - accuracy: 1.0000 - val_loss: 2.3842e-07 - val_accuracy: 1.0000\n",
      "Epoch 30/50\n",
      "208/208 [==============================] - 1s 4ms/step - loss: 1.3574e-04 - accuracy: 1.0000 - val_loss: 1.1921e-07 - val_accuracy: 1.0000\n",
      "Epoch 31/50\n",
      "208/208 [==============================] - 1s 4ms/step - loss: 1.0916e-04 - accuracy: 1.0000 - val_loss: 0.0000e+00 - val_accuracy: 1.0000\n",
      "Epoch 32/50\n",
      "208/208 [==============================] - 1s 4ms/step - loss: 8.7505e-05 - accuracy: 1.0000 - val_loss: 0.0000e+00 - val_accuracy: 1.0000\n",
      "Epoch 33/50\n",
      "208/208 [==============================] - 1s 4ms/step - loss: 8.8475e-05 - accuracy: 1.0000 - val_loss: 0.0000e+00 - val_accuracy: 1.0000\n",
      "Epoch 34/50\n",
      "208/208 [==============================] - 1s 4ms/step - loss: 8.4858e-05 - accuracy: 1.0000 - val_loss: 0.0000e+00 - val_accuracy: 1.0000\n",
      "Epoch 35/50\n",
      "208/208 [==============================] - 1s 4ms/step - loss: 7.1294e-05 - accuracy: 1.0000 - val_loss: 0.0000e+00 - val_accuracy: 1.0000\n",
      "Epoch 36/50\n",
      "208/208 [==============================] - 1s 4ms/step - loss: 5.7786e-05 - accuracy: 1.0000 - val_loss: 0.0000e+00 - val_accuracy: 1.0000\n",
      "Epoch 37/50\n",
      "208/208 [==============================] - 1s 4ms/step - loss: 5.1924e-05 - accuracy: 1.0000 - val_loss: 0.0000e+00 - val_accuracy: 1.0000\n",
      "Epoch 38/50\n",
      "208/208 [==============================] - 1s 4ms/step - loss: 4.5828e-05 - accuracy: 1.0000 - val_loss: 0.0000e+00 - val_accuracy: 1.0000\n",
      "Epoch 39/50\n",
      "208/208 [==============================] - 1s 4ms/step - loss: 3.8034e-05 - accuracy: 1.0000 - val_loss: 0.0000e+00 - val_accuracy: 1.0000\n",
      "Epoch 40/50\n",
      "208/208 [==============================] - 1s 4ms/step - loss: 3.8327e-05 - accuracy: 1.0000 - val_loss: 0.0000e+00 - val_accuracy: 1.0000\n",
      "Epoch 41/50\n",
      "208/208 [==============================] - 1s 4ms/step - loss: 3.3353e-05 - accuracy: 1.0000 - val_loss: 0.0000e+00 - val_accuracy: 1.0000\n",
      "Epoch 42/50\n",
      "208/208 [==============================] - 1s 5ms/step - loss: 3.1478e-05 - accuracy: 1.0000 - val_loss: 0.0000e+00 - val_accuracy: 1.0000\n",
      "Epoch 43/50\n",
      "208/208 [==============================] - 1s 4ms/step - loss: 2.9654e-05 - accuracy: 1.0000 - val_loss: 0.0000e+00 - val_accuracy: 1.0000\n",
      "Epoch 44/50\n",
      "208/208 [==============================] - 1s 4ms/step - loss: 2.3754e-05 - accuracy: 1.0000 - val_loss: 0.0000e+00 - val_accuracy: 1.0000\n",
      "Epoch 45/50\n",
      "208/208 [==============================] - 1s 4ms/step - loss: 2.1529e-05 - accuracy: 1.0000 - val_loss: 0.0000e+00 - val_accuracy: 1.0000\n",
      "Epoch 46/50\n",
      "208/208 [==============================] - 1s 4ms/step - loss: 1.7916e-05 - accuracy: 1.0000 - val_loss: 0.0000e+00 - val_accuracy: 1.0000\n",
      "Epoch 47/50\n",
      "208/208 [==============================] - 1s 4ms/step - loss: 1.5388e-05 - accuracy: 1.0000 - val_loss: 0.0000e+00 - val_accuracy: 1.0000\n",
      "Epoch 48/50\n",
      "208/208 [==============================] - 1s 4ms/step - loss: 1.3724e-05 - accuracy: 1.0000 - val_loss: 0.0000e+00 - val_accuracy: 1.0000\n",
      "Epoch 49/50\n",
      "208/208 [==============================] - 1s 4ms/step - loss: 1.3097e-05 - accuracy: 1.0000 - val_loss: 0.0000e+00 - val_accuracy: 1.0000\n",
      "Epoch 50/50\n",
      "208/208 [==============================] - 1s 4ms/step - loss: 1.0186e-05 - accuracy: 1.0000 - val_loss: 0.0000e+00 - val_accuracy: 1.0000\n"
     ]
    }
   ],
   "source": [
    "# x_train 학습 데이터와 검증 데이터 딥러닝 네트워크 학습\n",
    "model.compile(optimizer='adam',\n",
    "             loss='sparse_categorical_crossentropy',\n",
    "             metrics=['accuracy'])\n",
    "\n",
    "hist_2 = model.fit(x_train_norm, y_train, epochs=50, validation_data=(x_valid_norm, y_valid))\n",
    "# 데이터의 크기가 300개에서 7372개로 커졌으므로 epoch값을 10에서 50으로 늘렸다."
   ]
  },
  {
   "cell_type": "code",
   "execution_count": 33,
   "id": "b3b72c8d",
   "metadata": {},
   "outputs": [
    {
     "data": {
      "image/png": "[encoded data removed]",
      "text/plain": [
       "<Figure size 640x480 with 2 Axes>"
      ]
     },
     "metadata": {},
     "output_type": "display_data"
    }
   ],
   "source": [
    "# 학습결과 시각화\n",
    "import matplotlib.pyplot as plt\n",
    "%matplotlib inline\n",
    "\n",
    "fig, loss_ax = plt.subplots()\n",
    "acc_ax = loss_ax.twinx()\n",
    "\n",
    "loss_ax.plot(hist_2.history['loss'], 'y', label = 'train loss')\n",
    "loss_ax.plot(hist_2.history['val_loss'], 'r', label = 'val loss')\n",
    "\n",
    "acc_ax.plot(hist_2.history['accuracy'], 'b', label = 'train acc')\n",
    "acc_ax.plot(hist_2.history['val_accuracy'], 'g', label = 'val acc')\n",
    "\n",
    "loss_ax.set_xlabel('epoch')\n",
    "loss_ax.set_ylabel('loss')\n",
    "acc_ax.set_ylabel('accuracy')\n",
    "\n",
    "loss_ax.legend(loc='upper left')\n",
    "acc_ax.legend(loc='lower left')\n",
    "\n",
    "plt.show()"
   ]
  },
  {
   "cell_type": "markdown",
   "id": "083c0c08",
   "metadata": {},
   "source": [
    "#### 1. Conv2D 레이어 = 16, 32 / Dense 레이어 = 32"
   ]
  },
  {
   "cell_type": "markdown",
   "id": "7a4dc055",
   "metadata": {},
   "source": [
    "![Conv2D 레이어 = 16, 32](https://user-images.githubusercontent.com/116326867/204144060-882e951d-2895-4427-a000-962035a20f80.jpeg)"
   ]
  },
  {
   "cell_type": "markdown",
   "id": "a3bccf16",
   "metadata": {},
   "source": [
    "- 총 데이터의 개수를 늘려 검증데이터를 30개에서 783개로 늘렸음에도 불구하고 검증데이터가 검증의 역할을 제대로 하지 못하고 있다. 이런 상황이 발생하는 것은 학습데이터와 검증데이터가 겹치기 때문인 거 같다. 분리한다고 했는데 어느 부분이 잘못된 것인지 모르겠다.  \n",
    "- 위에 내가 준비한 300개의 데이터로만 학습을 시켰던 것이 중복이 되어 문제가 생긴 것일 수도 있기 때문에 중단하고 데이터 개수를 늘린 경우만 다시 학습해보았다. 하지만 데이터 수를 늘린 것만 학습시켜서 본 결과 그렇게 학습시키기 전 그래프와 큰 차이가 없다.    \n",
    "- 혹시 9:1로 나누는 과정에서 정규화된 데이터를 사용했기 때문에 어떤 문제가 생긴 건 아닐지 생각이 들어서 일단 9:1로 나누어 주고 정규화 과정을 거쳐 학습했으나 그래프의 모양에 크게 변화가 없었다.  \n",
    "- 검증데이터를 어떻게 해야 더 잘 사용할 수 있을지 더 찾아보고 공부해야겠다. "
   ]
  },
  {
   "cell_type": "markdown",
   "id": "41f0a5aa",
   "metadata": {},
   "source": [
    "#### 2. Conv2D 레이어 = 16, 64 / Dense 레이어 = 64\n",
    "- 여전히 검증데이터가 역할을 못한다. 그래프로 봤을 때 Conv2D 레이어 = 16, 32 / Dense 레이어 = 32일 때와 Conv2D 레이어 = 16, 64 / Dense 레이어 = 64일 때 큰 차이가 없어 보인다."
   ]
  },
  {
   "cell_type": "markdown",
   "id": "53fed470",
   "metadata": {},
   "source": [
    "## Step 4. 성능 확인하기"
   ]
  },
  {
   "cell_type": "code",
   "execution_count": 34,
   "id": "f354243a",
   "metadata": {},
   "outputs": [
    {
     "name": "stdout",
     "output_type": "stream",
     "text": [
      "테스트 데이터(x_test)의 이미지 개수는 201 입니다.\n",
      "x_test shape: (300, 28, 28, 3)\n",
      "y_test shape: (300,)\n"
     ]
    }
   ],
   "source": [
    "# x_test, y_test 테스트용 데이터 만들기\n",
    "def load_test_data(img_path, number_of_data=300):\n",
    "    img_size=28\n",
    "    color=3 # 컬러는 3, 흑백은 1\n",
    "    # 가위:0, 바위:1, 보:2 데이터를 담을 행렬 영역 생성(곱셈 형태)\n",
    "    imgs=np.zeros(number_of_data*img_size*img_size*color,dtype=np.int32).reshape(number_of_data,img_size,img_size,color)\n",
    "    labels=np.zeros(number_of_data,dtype=np.int32)\n",
    "    \n",
    "    idx=0\n",
    "    for file in glob.iglob(img_path+'/scissor/*.jpg'):\n",
    "        img = np.array(Image.open(file),dtype=np.int32)\n",
    "        imgs[idx,:,:,:]=img # 데이터 영역에 이미지 행렬을 복사(idx번째에 이미지 픽셀값 입력)\n",
    "        labels[idx]=0 # 가위를 0으로 라벨링\n",
    "        idx=idx+1\n",
    "        \n",
    "    for file in glob.iglob(img_path+'/rock/*.jpg'):\n",
    "        img = np.array(Image.open(file),dtype=np.int32)\n",
    "        imgs[idx,:,:,:]=img\n",
    "        labels[idx]=1 # 바위를 1로 라벨링\n",
    "        idx=idx+1\n",
    "        \n",
    "    for file in glob.iglob(img_path+'/paper/*.jpg'):\n",
    "        img = np.array(Image.open(file),dtype=np.int32)\n",
    "        imgs[idx,:,:,:]=img\n",
    "        labels[idx]=2 # 보를 2로 라벨링\n",
    "        idx=idx+1\n",
    "        \n",
    "        print(\"테스트 데이터(x_test)의 이미지 개수는\", idx,\"입니다.\")\n",
    "        return imgs, labels\n",
    "\n",
    "image_dir_path = os.getenv(\"HOME\") + \"/aiffel/rock_scissor_paper/test\"\n",
    "(x_test, y_test)=load_test_data(image_dir_path)\n",
    "x_test_norm = x_test/255.0 # 입력은 0~1 사이 값으로 정규화\n",
    "\n",
    "print(\"x_test shape: {}\".format(x_test.shape))\n",
    "print(\"y_test shape: {}\".format(y_test.shape))"
   ]
  },
  {
   "cell_type": "code",
   "execution_count": 35,
   "id": "82bbdbaf",
   "metadata": {},
   "outputs": [
    {
     "name": "stdout",
     "output_type": "stream",
     "text": [
      "10/10 - 0s - loss: 11.9576 - accuracy: 0.6500 - 32ms/epoch - 3ms/step\n",
      "test_loss: 11.9575777053833\n",
      "test_accuracy: 0.6499999761581421\n"
     ]
    }
   ],
   "source": [
    "# test_accurary 측정\n",
    "test_loss, test_accuracy = model.evaluate(x_test_norm, y_test, verbose=2) # 모델 시험\n",
    "print(f\"test_loss: {test_loss}\")\n",
    "print(f\"test_accuracy: {test_accuracy}\")"
   ]
  },
  {
   "cell_type": "markdown",
   "id": "84fa9f44",
   "metadata": {},
   "source": [
    "- 300개의 데이터로 학습시킨 후 테스트했을 때에는 accuracy가 0.6633이 나온 것에 비해 7372개의 데이터로 학습시킨 후 테스트했을 때 accuracy가 0.5333으로 더 낮게 나왔다. 중간 과정이 이상한 점도 있었겠지만 단순히 데이터가 많다고 무조건 학습이 잘되는 것은 아니라는 점을 알게 되었다. \n",
    "- test accuracy를 높이기 위해 Conv2D 레이어 = 16, 32에서 16,64로 Dense 레이어 = 32에서 64로 바꿔보았다. 신기하게도 test accuracy가 0.5333에서 0.6500으로 급격하게 올라갔다. 물론 train accuracy에 비하면 많이 낮은 수치이지만 레이어를 조정하는 것만으로도 test accuracy가 많이 올라갈 수 있다는 점을 알게 되었다. 근데 test loss값이 11.95가 나온 것을 보면 이것도 잘못된 거 같다는 느낌이 들었다. 이걸 어떻게 해결해야할 지 막막하다."
   ]
  },
  {
   "cell_type": "markdown",
   "id": "ba008c84",
   "metadata": {},
   "source": [
    "---------"
   ]
  },
  {
   "cell_type": "markdown",
   "id": "5d94b8f9",
   "metadata": {},
   "source": [
    "## 회고\n",
    "1. 학습과정이 정상적으로 수행되었으며, 학습 결과에 대한 그래프를 시각화를 해 보았는가?  \n",
    "학습과정이 정상적으로 수행되지 못한 거 같다. lms에 있는 내용을 많이 참고하며 최대한 좋은 결과를 내고 싶었지만 train accuracy가 1이 나오는 건 해결할 수가 없었다. 데이터 중복의 문제일 것이라고 예측은 하지만 어디서 어떻게 중복이 된건지를 알 수가 없어서 정확한 문제를 찾아내지 못했다. 데이터 중복의 문제가 아니더라도 어딘가 문제가 있으니까 이런 결과가 나온 것인데 도저히 찾을 수가 없다. 시간상 일단 마무리 짓지만 다른 사람들에게 조언도 구하고 구글에서 찾아보면서 이 문제는 꼭 해결할 것이다.  \n",
    "학습과정이 어딘가 잘못되었다는 것은 학습 결과에 대한 그래프를 시각화 해 봤을 때 더욱 느낄 수 있었다. 그래프를 봤을 때, 누가 봐도 검증데이터가 제 역할을 하지 못했다. 어떻게 하면 이 문제들을 해결할 수 있을지 계속해서 고민해봐야겠다.  \n",
    "2. 오버피팅 극복을 위하여 데이터셋의 다양성, 정규화 등을 2가지 이상 시도해보았는가?  \n",
    "내가 준비한 300개의 데이터셋과 다른 사람들의 데이터셋을 합쳐서 나온 결과를 비교해보았다. 근데 300개의 데이터셋만 활용했을 때 검증데이터가 확실하게 제 역할을 하지는 못해서 애매하지만 오버피팅이 발생하지는 않았다고 생각한다.  \n",
    "그리고 0~1 사이 값으로 정규화를 시도해보았다. 그 외에도 오버피팅을 극복하기 위하여 모델의 복잡도를 줄이거나 드롭아웃하는 방법이 있는데 이번에 사용하지는 않았지만 다음에 꼭 도전해보고 싶다.  \n",
    "3. 분류모델의 test accuracy가 60% 이상 도달하였는가?  \n",
    "일단 300개의 데이터를 가지고 학습했을 때 Conv2D 레이어와 Dense 레이어를 크게 조정하지 않았음에도 66.33%가 나왔다. 학습과정이 잘못되어서 그런 것일 수도 있고 내가 준비한 데이터가 흰색 배경에 가위, 바위, 보의 형체가 잘 드러나서 학습이 잘된 것일 수도 있는데 뭔가 학습과정에서 문제가 있어 높게 나온 거 같다.  \n",
    "7372개의 데이터를 가지고 학습했을 때에는 처음에는 53.33%였지만 Conv2D 레이어와 Dense 레이어를 조정하고 난 뒤에 65.00%로 test accuracy가 올라갔다.  \n",
    "훈련데이터와 검증데이터들의 이미지 증강을 통해 상하좌우를 돌려보기도 하고 채도, 명도 등을 조정해보면서 test accuracy를 더 높일 수 있을 거 같다. 아직 나에게 너무 어려운 단계이지만 학습과정에서 잘못된 부분을 바로 잡은 뒤 이미지 증강도 하면서 test accuracy를 더 높이고 싶은 생각이 들었다.  \n",
    "4. 프로젝트를 진행하면서 느낀점 : tensorflow가 로컬컴퓨터에 깔리지 않아서 그걸 까는 것부터 총체적 난국인 프로젝트였다. 다행히 많은 분들의 도움으로 tensoflow를 깔 수 있었고, 또 많은 분들의 도움으로 많은 데이터를 모을 수 있었다. 프로젝트를 진행하면서 항상 어렵고 아직 배울 것이 많고 내가 많이 부족하다고 느낀다. 이번 프로젝트 역시도 그런 느낌을 받았지만 더 특별했던 점이 있다. 특히 다른 사람들의 도움을 많이 받았던 프로젝트였기 때문이다. 그 분들이 있었기에 프로젝트를 완성이라도 할 수 있어서 정말 많이 감사했고, 나도 더 열심히 해서 그분들처럼 되고 싶었고, 작은 도움이라도 선뜻 손을 내미는 사람이 되자고 다짐했다."
   ]
  },
  {
   "cell_type": "markdown",
   "id": "14c1d05c",
   "metadata": {},
   "source": [
    "## Reference\n",
    "[np.array](https://biology-statistics-programming.tistory.com/112)  \n",
    "[데이터셋 분리](https://blog.naver.com/PostView.naver?blogId=bya135&logNo=222223666192&redirect=Dlog&widgetTypeCall=true&directAccess=false)  \n",
    "[훈련데이터와 검증데이터 시각화](https://sevillabk.github.io/1-learning-visualiztion/)  \n",
    "[오버피팅 극복방법](https://wikidocs.net/61374)  \n",
    "[이미지증강](https://blog.naver.com/PostView.naver?blogId=beyondlegend&logNo=222339973845&parentCategoryNo=&categoryNo=&viewDate=&isShowPopularPosts=false&from=postView)"
   ]
  }
 ],
 "metadata": {
  "kernelspec": {
   "display_name": "Python 3 (ipykernel)",
   "language": "python",
   "name": "python3"
  },
  "language_info": {
   "codemirror_mode": {
    "name": "ipython",
    "version": 3
   },
   "file_extension": ".py",
   "mimetype": "text/x-python",
   "name": "python",
   "nbconvert_exporter": "python",
   "pygments_lexer": "ipython3",
   "version": "3.9.15"
  }
 },
 "nbformat": 4,
 "nbformat_minor": 5
}
