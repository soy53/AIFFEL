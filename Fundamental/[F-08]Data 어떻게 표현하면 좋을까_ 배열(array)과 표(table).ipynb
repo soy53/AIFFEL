{
 "cells": [
  {
   "cell_type": "markdown",
   "id": "f174d7c8",
   "metadata": {},
   "source": [
    "# 8강. Data 어떻게 표현하면 좋을까? 배열(array)과 표(table)\n",
    "## 8-2. 배열은 가까이에~ 기본 통계 데이터를 계산해 볼까? (1) 평균 계산하기\n",
    "### 평균 계산하기\n",
    "1. 평균은 숫자들의 합을 총 숫자의 개수로 나눈 값. 숫자들의 합을 total, 숫자의 개수는 count로 변수명을 정하고 0으로 초깃값을 할당한다.\n",
    "2. 사용자가 입력하는 숫자는 input 함수를 사용한다. 숫자를 입력하지 않으면 종료한다.\n",
    "3. while 문으로 조건 지정 반복문을 설정한다. 숫자를 입력하지 않으면 종료한다고 했으므로, 조건은 input 함수에서 받은 값이 \"\"이 되면 False가 되어서 while 문을 빠져나온다.\n",
    "4. while 문의 조건이 True면 count와 total이 갱신된다. 반복문이 실행될 때마다 count를 1씩 증가시키기 위해 증감 연산자를 사용하고, total에는 input으로 받은 숫자를 더해 준다. input 함수가 return하는 값의 자료형은 문자열 str이니 float로 타입을 변환해 주어야 한다.\n",
    "5. 사용자로부터 숫자가 아닌 것을 입력받을 때는 예외 처리를 해준다."
   ]
  },
  {
   "cell_type": "code",
   "execution_count": 1,
   "id": "e4660aaa",
   "metadata": {},
   "outputs": [
    {
     "name": "stdout",
     "output_type": "stream",
     "text": [
      "Enter a number :  (<Enter Key> to quit)6\n",
      "Enter a number :  (<Enter Key> to quit)9\n",
      "Enter a number :  (<Enter Key> to quit)75\n",
      "Enter a number :  (<Enter Key> to quit)\n",
      "\n",
      " average is 30.0\n"
     ]
    }
   ],
   "source": [
    "total = 0\n",
    "count = 0\n",
    "numbers = input(\"Enter a number :  (<Enter Key> to quit)\")\n",
    "while numbers != \"\": # 입력 숫자란이 비어있는 상태로 엔터키를 누르면 종료\n",
    "    try:\n",
    "        x = float(numbers)\n",
    "        count += 1\n",
    "        total = total + x\n",
    "    except ValueError:\n",
    "        print('NOT a number! Ignored..')\n",
    "    numbers = input(\"Enter a number :  (<Enter Key> to quit)\")\n",
    "avg = total / count\n",
    "print(\"\\n average is\", avg)"
   ]
  },
  {
   "cell_type": "markdown",
   "id": "d9eef00b",
   "metadata": {},
   "source": [
    "- 평균 계산을 위해 숫자 여러 개를 입력으로 받지만, 굳이 이 여러 개의 숫자를 배열(array)로 저장하진 않는다.\n",
    "- a1, a2, ..., an에 대한 평균 A\n",
    "![평균](https://user-images.githubusercontent.com/116326867/225936432-df112735-b7b9-4d6e-9e10-cbb2e6f08a0d.png)\n",
    "- 시그마는 합의 기호이다. 어떤 숫자가 나열되어 있고 그 숫자들을 모두 더하는 연산을 할 때, 더하기 식을 하나하나 기호(+) 를 써서 표현하는 것보다는 합의 기호 시그마로 나타내면 더 간편하게 표현할 수 있다.\n",
    "![시그마](https://user-images.githubusercontent.com/116326867/225936447-29d28a4b-4b5f-416b-afbc-a7911b3b2dd7.png)\n",
    "- 평균을 나타내는 수식에서 볼 수 있듯, 평균을 구하기 위해서는 숫자들의 총합이 필요할 뿐, 이 숫자들을 굳이 배열 등의 변수로 저장하지 않아도 된다. 그래서 코드에서 숫자들의 총합을 total이라는 변수에 계속 할당하고 그 시점까지의 총합만을 기억해 둔다."
   ]
  },
  {
   "cell_type": "markdown",
   "id": "c5686d25",
   "metadata": {},
   "source": [
    "## 8-3. 배열은 가까이에~ 기본 통계 데이터를 계산해 볼까? (2) 배열을 활용한 평균, 표준편차, 중앙값 계산\n",
    "### 1) 배열의 의미\n",
    "- 표준편차를 구하는 공식(s=표준편차(std) / xi=입력받은 숫자들 / n=입력받은 샘플의 개수 / x=평균)\n",
    "![표준편차](https://user-images.githubusercontent.com/116326867/225937411-0d2a9621-4c98-4248-bc85-62a2b7c54d5d.png)\n",
    "- 표준편차(std) 수식을 보면 입력된 숫자(샘플)에서 평균을 뺀 값이 필요하므로 입력받은 모든 숫자들을 저장해두어야 한다. 각각의 숫자에 해당하는 변수를 생성해서 저장할 수도 있지만, 지금은 입력받은 숫자가 몇 개인지 모르는 상황이므로 변수를 몇 개 생성해야하는지 모르기 때문에 변수를 미리 생성하는 것은 불가능하다. 따라서 데이터 값 전체를 하나의 객체에 순서대로 모아 놓을 수 있어야 한다. 파이썬은 이런 기능을 가진 리스트(list)라는 자료구조를 기본적으로 제공하는데, 리스트란 순서를 가진 요소(element)의 배열이다. x1, x2, ..., xn을 변수 X에 순서대로 저장한다.\n",
    "![배열](https://user-images.githubusercontent.com/116326867/225938630-f3fe833a-ebd6-4a8a-b9b8-ed3cc10cbc92.png)"
   ]
  },
  {
   "cell_type": "markdown",
   "id": "c3aaaa52",
   "metadata": {},
   "source": [
    "### 2) 사용자가 입력한 숫자들을 배열로 만들기"
   ]
  },
  {
   "cell_type": "code",
   "execution_count": 7,
   "id": "81213f80",
   "metadata": {},
   "outputs": [
    {
     "name": "stdout",
     "output_type": "stream",
     "text": [
      "Enter a number (<Enter key> to quit)3\n",
      "Enter a number (<Enter key> to quit)12\n",
      "Enter a number (<Enter key> to quit)45\n",
      "Enter a number (<Enter key> to quit)32\n",
      "Enter a number (<Enter key> to quit)24\n",
      "Enter a number (<Enter key> to quit)\n",
      "X : [3.0, 12.0, 45.0, 32.0, 24.0]\n"
     ]
    }
   ],
   "source": [
    "# 2개 이상의 숫자를 입력받아 리스트에 저장하는 함수\n",
    "def numbers():\n",
    "    X=[]    # X에 빈 리스트를 할당\n",
    "    while True:\n",
    "        number = input(\"Enter a number (<Enter key> to quit)\") \n",
    "        while number !=\"\": # 입력 숫자란이 비어있는 상태로 엔터키를 누르면 종료\n",
    "            try:\n",
    "                x = float(number)\n",
    "                X.append(x)    # append = float형으로 변환한 숫자 입력을 리스트에 추가\n",
    "            except ValueError:\n",
    "                print('>>> NOT a number! Ignored..')\n",
    "            number = input(\"Enter a number (<Enter key> to quit)\")\n",
    "        if len(X) > 1:  # 저장된 숫자가 2개 이상일 때만 리턴\n",
    "            return X\n",
    "\n",
    "X=numbers()\n",
    "\n",
    "print('X :', X)"
   ]
  },
  {
   "cell_type": "markdown",
   "id": "22b23579",
   "metadata": {},
   "source": [
    "- 다른 언어에서는 배열은 크기를 정해 놓아야 하는 경우가 많다. 예를 들어, C언어가 배열 변수를 만들 때 처음에 원소가 몇 개 들어갈 수 있다고 정해놓아야 한다. 그러나 파이썬의 리스트는 배열의 크기를 정해 놓지 않아도 괜찮다. 파이썬의 리스트는 임의의 데이터 타입을 담을 수 있는 가변적 연속열(Sequence)형이므로 파이썬 리스트는 동적 배열(Dynamic Array) 이다.\n",
    "- 참고 : 연속열(Sequence)형 데이터의 자료구조를 배열(Array)로 지칭해 왔으나, 엄밀히 말하면 선형적 데이터를 다루는 자료구조인 list와 array는 서로 다르다."
   ]
  },
  {
   "cell_type": "code",
   "execution_count": 3,
   "id": "52dbc2d3",
   "metadata": {},
   "outputs": [
    {
     "name": "stdout",
     "output_type": "stream",
     "text": [
      "<class 'list'>\n",
      "[1, 2, 3, '4']\n",
      "[1, 5, 2, 3, '4']\n",
      "<class 'array.array'>\n",
      "array('i', [1, 2, 3])\n",
      "array('i', [1, 5, 2, 3])\n"
     ]
    }
   ],
   "source": [
    "import array as arr\n",
    "\n",
    "mylist = [1, 2, 3]   # 파이썬 built-in list \n",
    "print(type(mylist))\n",
    "\n",
    "mylist.append('4')  # mylist의 끝에 character '4' 추가\n",
    "print(mylist)\n",
    "\n",
    "mylist.insert(1, 5)  # mylist의 두번째 자리에 5 끼워넣기\n",
    "print(mylist)\n",
    "\n",
    "myarray = arr.array('i', [1, 2, 3])   # array -> import array를 해야 쓸 수 있다.\n",
    "print(type(myarray))\n",
    "\n",
    "# 주석을 풀고 실행하면 에러 발생\n",
    "#myarray.append('4')    # myarray의 끝에 character '4' 추가\n",
    "print(myarray)\n",
    "\n",
    "myarray.insert(1, 5)    # myarray의 두번째 자리에 5 끼워넣기\n",
    "print(myarray)"
   ]
  },
  {
   "cell_type": "markdown",
   "id": "1860254d",
   "metadata": {},
   "source": [
    "- 파이썬에서 built-in 으로 제공하는 list와 array 차이점\n",
    " - list는 별도의 import가 필요 없지만 array를 사용하기 위해서는 import 해주어야 한다. 파이썬에서 array는 built-in이 아니다.\n",
    " - list 안의 element 사이에 다른 타입의 자료형이 허용된다. 숫자로만 이루어진 list에 문자열 element를 추가할 수 있다. 그러나 array는 처음부터 element의 유형을 지정해서 생성하며, 지정되지 않은 다른 타입의 element 추가가 허용되지 않는다. 이러한 array의 특성은 NumPy에도 동일하게 적용된다.\n",
    "- myarray.append('4')가 에러가 발생하는 이유 : array는 element들이 연속된 메모리 공간에 배치되며, 모든 element들이 동일한 크기와 타입을 가져야 한다.\n",
    "- 따라서 파이썬 built-in 리스트와 array는 다르다. 중간에 element를 insert할 수 있는 것도 array보다는 list 자료구조의 특성이다. 파이썬의 리스트는 element들이 연속된 메모리 공간에 배치되도록 구현되어 있기 때문에 자료구조상 linked list의 기능을 모두 가지고 있지만 실제로는 array로 구현되어 있다. 이를 통해 파이썬의 리스트는 list와 array의 장점을 모두 취한 형태라는 것을 알 수 있다."
   ]
  },
  {
   "cell_type": "markdown",
   "id": "31b3ac02",
   "metadata": {},
   "source": [
    "### 3) 리스트를 활용한 시그마의 표현\n",
    "- 배열을 이용해서 시그마를 표현할 때, 리스트는 원소의 값과 순서를 알고 있으므로 시그마를 배열을 통해 계산하려면 for문을 사용해야 한다."
   ]
  },
  {
   "cell_type": "code",
   "execution_count": 8,
   "id": "ade8a996",
   "metadata": {},
   "outputs": [
    {
     "name": "stdout",
     "output_type": "stream",
     "text": [
      "sum of X:  116.0\n"
     ]
    }
   ],
   "source": [
    "total = 0.0\n",
    "for i in range(len(X)):\n",
    "    total = total + X[i]\n",
    "mean = total / len(X)\n",
    "\n",
    "print('sum of X: ', total)"
   ]
  },
  {
   "cell_type": "markdown",
   "id": "7c21e99d",
   "metadata": {},
   "source": [
    "- range() : 파이썬에서 연속된 수를 리스트로 만들어준다. \n",
    "- len() 함수 : 리스트의 길이, 즉 리스트에 포함된 원소의 개수를 구할 수 있다."
   ]
  },
  {
   "cell_type": "markdown",
   "id": "abcea5b7",
   "metadata": {},
   "source": [
    "### 4) 중앙값\n",
    "- 중앙값(median)은 주어진 숫자를 크기 순서대로 배치할 때 가장 중앙에 위치하는 숫자이다.\n",
    "- 중앙이라는 위치는 그 숫자의 총합이 홀수이냐 짝수이냐에 따라 달라진다.\n",
    " - 만약 숫자가 1, 3, 3, 6, 7, 8, 9 라면, 중앙값은 6 ->  총개수 n인 숫자를 순서대로 배열했을 때, n이 홀수이면 n/2을 반올림한 순서의 값이 중앙값\n",
    " - 만약 숫자가 1, 3, 3, 7, 8, 9 라면, 중앙값은 (3 + 7) / 2 = 5 -> 총개수 n인 숫자를 순서대로 배열했을 때, n이 짝수라면 n/2번째 값과 ((n/2) + 1) 번째 값의 평균"
   ]
  },
  {
   "cell_type": "code",
   "execution_count": 9,
   "id": "ef7774ba",
   "metadata": {},
   "outputs": [
    {
     "name": "stdout",
     "output_type": "stream",
     "text": [
      "X : [3.0, 12.0, 45.0, 32.0, 24.0]\n"
     ]
    },
    {
     "data": {
      "text/plain": [
       "24.0"
      ]
     },
     "execution_count": 9,
     "metadata": {},
     "output_type": "execute_result"
    }
   ],
   "source": [
    "def median(nums):       # nums : 리스트를 지정하는 매개변수\n",
    "    nums.sort()         # sort()로 리스트를 순서대로 정렬\n",
    "    size = len(nums)\n",
    "    p = size // 2\n",
    "    if size % 2 == 0:   # 리스트의 개수가 짝수일때 \n",
    "        pr = p                        # 4번째 값\n",
    "        pl = p-1                      # 3번째 값\n",
    "        mid= float((nums[pl]+nums[pr])/2)    \n",
    "    else:               # 리스트의 개수가 홀수일때\n",
    "        mid = nums[p]\n",
    "    return mid\n",
    "\n",
    "print('X :', X)\n",
    "median(X)               # 매개변수의 값으로 X를 사용"
   ]
  },
  {
   "cell_type": "markdown",
   "id": "db83931c",
   "metadata": {},
   "source": [
    "- nums는 중앙값을 구할 리스트를 지정하는 매개변수이다.\n",
    "- 리스트를 오름차순으로 정렬하기 위해 sort()를 사용하였고, 리스트의 개수가 홀수일 때와 짝수일 때의 경우를 if와 else구문을 이용해 구현한다.\n",
    "- 홀짝 판별은 나머지 연산자인 % 로 2로 나눌 때의 값이 0이면 짝수, 0이 아니라면 홀수로 나누는 방식으로 구현할 수 있다.\n",
    "- 만약 짝수 개의 리스트라면, 리스트 길이의 절반을 기준으로 나뉘는 pr과 pl을 기준 인덱스로 하여 해당하는 두 값을 구한다. 이때 두 값의 평균이 중앙값이 된다.\n",
    "- 만약 홀수 개의 리스트라면, 인덱스로 //(몫 연산자)를 사용해서 길이를 2로 나누어 사용한다. 이때, 인덱스의 위치에 저장된 값이 중앙값이 된다."
   ]
  },
  {
   "cell_type": "markdown",
   "id": "beca7609",
   "metadata": {},
   "source": [
    "### 5) 표준편차와 평균"
   ]
  },
  {
   "cell_type": "code",
   "execution_count": 10,
   "id": "8c61336b",
   "metadata": {},
   "outputs": [
    {
     "data": {
      "text/plain": [
       "23.2"
      ]
     },
     "execution_count": 10,
     "metadata": {},
     "output_type": "execute_result"
    }
   ],
   "source": [
    "# 평균\n",
    "def means(nums):\n",
    "    total = 0.0\n",
    "    for i in range(len(nums)):\n",
    "        total = total + nums[i]\n",
    "    return total / len(nums)\n",
    "\n",
    "means(X)"
   ]
  },
  {
   "cell_type": "markdown",
   "id": "a786b1ff",
   "metadata": {},
   "source": [
    "- 매개변수 nums은 리스트를 받고. 평균은 리스트의 합을 배열의 총 길이로 나눠준다."
   ]
  },
  {
   "cell_type": "code",
   "execution_count": 11,
   "id": "0924edab",
   "metadata": {},
   "outputs": [
    {
     "data": {
      "text/plain": [
       "14.74313399518569"
      ]
     },
     "execution_count": 11,
     "metadata": {},
     "output_type": "execute_result"
    }
   ],
   "source": [
    "# 표준편차\n",
    "avg = means(X)\n",
    "\n",
    "def std_dev(nums, avg):\n",
    "   texp = 0.0\n",
    "   for i in range(len(nums)):\n",
    "       texp = texp + (nums[i] - avg)**2    # 각 숫자와 평균값의 차이의 제곱을 계속 더한 후\n",
    "   return (texp/len(nums)) ** 0.5    # 그 총합을 숫자개수로 나눈 값의 제곱근을 리턴한다.\n",
    "\n",
    "std_dev(X,avg)"
   ]
  },
  {
   "cell_type": "markdown",
   "id": "c0ebf6b8",
   "metadata": {},
   "source": [
    "- 매개변수로 숫자의 배열과 평균값을 받는다. -> 각 숫자와 평균값의 차이를 구한 뒤 제곱하고, for문을 이용해 그 총합을 더한다. -> 구한 총합을 숫자의 개수로 나누고, 그 제곱근을 계산해 표준편차를 구한다."
   ]
  },
  {
   "cell_type": "markdown",
   "id": "40c54c6b",
   "metadata": {},
   "source": [
    "### 6) 전체 코드 : main()함수 \n",
    "- 구현하고자 하는 값은 사용자가 입력한 숫자들에 대한 평균값, 중앙값, 표준편차이다.\n",
    "- 우선 사용자가 입력한 숫자를 배열(리스트)로 만든다.\n",
    "- 각 숫자의 평균값과 중앙값을 구한다.\n",
    "- 각 숫자의 표준편차를 구한다."
   ]
  },
  {
   "cell_type": "code",
   "execution_count": 12,
   "id": "8321b091",
   "metadata": {},
   "outputs": [
    {
     "name": "stdout",
     "output_type": "stream",
     "text": [
      "Enter a number (<Enter key> to quit)13\n",
      "Enter a number (<Enter key> to quit)23\n",
      "Enter a number (<Enter key> to quit)33\n",
      "Enter a number (<Enter key> to quit)43\n",
      "Enter a number (<Enter key> to quit)53\n",
      "Enter a number (<Enter key> to quit)\n",
      "당신이 입력한 숫자[13.0, 23.0, 33.0, 43.0, 53.0]의 \n",
      "중앙값은33.0, 평균은33.0, 표준편차는14.142135623730951입니다.\n"
     ]
    }
   ],
   "source": [
    "def numbers():\n",
    "    X=[]\n",
    "    while True:\n",
    "        number = input(\"Enter a number (<Enter key> to quit)\") \n",
    "        while number !=\"\":\n",
    "            try:\n",
    "                x = float(number)\n",
    "                X.append(x)\n",
    "            except ValueError:\n",
    "                print('>>> NOT a number! Ignored..')\n",
    "            number = input(\"Enter a number (<Enter key> to quit)\")\n",
    "        if len(X) > 1:\n",
    "            return X\n",
    "\n",
    "def median(nums): \n",
    "    nums.sort()\n",
    "    size = len(nums)\n",
    "    p = size // 2\n",
    "    if size % 2 == 0:\n",
    "        pr = p\n",
    "        pl = p-1\n",
    "        mid = float((nums[pl]+nums[pr])/2)\n",
    "    else:\n",
    "        mid = nums[p]\n",
    "    return mid\n",
    "\n",
    "def means(nums):\n",
    "    total = 0.0\n",
    "    for i in range(len(nums)):\n",
    "        total = total + nums[i]\n",
    "    return total / len(nums)\n",
    "\n",
    "def std_dev(nums, avg):\n",
    "   texp = 0.0\n",
    "   for i in range(len(nums)):\n",
    "       texp = texp + (nums[i] - avg) ** 2\n",
    "   return (texp/len(nums)) ** 0.5\n",
    "\n",
    "def main():\n",
    "    X = numbers()\n",
    "    med = median(X)\n",
    "    avg = means(X)\n",
    "    std = std_dev(X, avg)\n",
    "    print(\"당신이 입력한 숫자{}의 \".format(X))\n",
    "    print(\"중앙값은{}, 평균은{}, 표준편차는{}입니다.\".format(med, avg, std))\n",
    "\n",
    "if __name__ == '__main__':\n",
    "    main()"
   ]
  },
  {
   "cell_type": "markdown",
   "id": "f0e50234",
   "metadata": {},
   "source": [
    "## 8-4. 끝판왕 등장! NumPy로 이 모든 걸 한방에! (1) NumPy 소개\n",
    "- NumPy는 Numerical Python의 줄임말로, 과학 계산용 고성능 컴퓨팅과 데이터 분석에 필요한 파이썬 패키지이다.\n",
    "- 설치 여부 확인 : conda list | grep numpy\n",
    "- 설치하기 : pip install numpy"
   ]
  },
  {
   "cell_type": "markdown",
   "id": "93076bd1",
   "metadata": {},
   "source": [
    "- 참고 : [패키지, 모듈, 라이브러리](https://www.bjcoding.com/343)\n",
    "- [NumPy](https://numpy.org/)의 장점\n",
    " - 빠르고 메모리를 효율적으로 사용하여 벡터의 산술 연산과 브로드캐스팅 연산을 지원하는 다차원 배열 ndarray 데이터 타입을 지원한다.\n",
    " - 반복문을 작성할 필요 없이 전체 데이터 배열에 대해 빠른 연산을 제공하는 다양한 표준 수학 함수를 제공한다.\n",
    " - 배열 데이터를 디스크에 쓰거나 읽을 수 있다. (= 파일로 저장한다)\n",
    " - 선형대수, 난수발생기, 푸리에 변환 가능, C/C++ 포트란으로 쓰여진 코드를 통합한다."
   ]
  },
  {
   "cell_type": "markdown",
   "id": "e9c0106f",
   "metadata": {},
   "source": [
    "## 8-5. 끝판왕 등장! numpy로 이 모든걸 한방에! (2) NumPy 주요 기능\n",
    "- 우선 NumPy를 사용하기 위해 ndarray 객체를 만들어야 한다. ndarray 객체를 이용하면 파이썬에서 사용하는 대규모 데이터 집합을 n차원 배열로 담을 수 있다. ndarray를 그냥 array라고 부르기도 한다."
   ]
  },
  {
   "cell_type": "markdown",
   "id": "200599f6",
   "metadata": {},
   "source": [
    "### 1) ndarray만들기\n",
    "- ndarray 객체는 arange()와 array([])로 만들 수 있다."
   ]
  },
  {
   "cell_type": "code",
   "execution_count": 13,
   "id": "491c7b08",
   "metadata": {},
   "outputs": [
    {
     "name": "stdout",
     "output_type": "stream",
     "text": [
      "[0 1 2 3 4]\n",
      "<class 'numpy.ndarray'>\n",
      "--------------------------\n",
      "[0 1 2 3 4]\n",
      "<class 'numpy.ndarray'>\n",
      "--------------------------\n",
      "['0' '1' '2' '3' '4']\n",
      "<class 'numpy.ndarray'>\n",
      "--------------------------\n",
      "[0 1 2 3 4]\n",
      "<class 'numpy.ndarray'>\n"
     ]
    }
   ],
   "source": [
    "import numpy as np\n",
    "\n",
    "# A와 B는 결과적으로 같은 ndarray 객체를 생성한다. \n",
    "A = np.arange(5)\n",
    "B = np.array([0,1,2,3,4])  # 파이썬 리스트를 numpy ndarray로 변환\n",
    "\n",
    "# C는 좀 다르다. \n",
    "C = np.array([0,1,2,3,'4'])\n",
    "\n",
    "# D도 A, B와 같은 결과를 내겠지만, B의 방법을 권장한다.\n",
    "D = np.ndarray((5,), np.int64, np.array([0,1,2,3,4]))\n",
    "\n",
    "print(A)\n",
    "print(type(A))\n",
    "print(\"--------------------------\")\n",
    "print(B)\n",
    "print(type(B))\n",
    "print(\"--------------------------\")\n",
    "print(C)\n",
    "print(type(C))\n",
    "print(\"--------------------------\")\n",
    "print(D)\n",
    "print(type(D))"
   ]
  },
  {
   "cell_type": "markdown",
   "id": "18e31c7a",
   "metadata": {},
   "source": [
    "- C의 경우 '4'가 하나 들어갔을 뿐인데 0, 1, 2, 3이 모두 문자열로 바뀌었다. numpy.ndarray도 array이므로 모든 element의 type이 동일해야 한다. 여기서 파이썬의 유연함이 나타나는데, 문자열을 모두 숫자로 바꿀 수는 없지만 숫자는 모두 문자열로 바꿔 줄 수 있다. 그래서 숫자만 있던 ndarray에 문자열이 들어가면 모든 숫자를 문자열로 해석해서 array의 요건을 맞춰준다. "
   ]
  },
  {
   "cell_type": "markdown",
   "id": "6277e49e",
   "metadata": {},
   "source": [
    "### 2) 크기 (size, shape, ndim)\n",
    "- ndarray.size, ndarray.shape, ndarray.ndim, reshape() -> size, shape, ndim는 각각 행렬 내 원소의 개수, 행렬의 모양, 행렬의 축(axis)의 개수를 의미한다. reshape() 메서드는 행렬의 모양을 바꿔준다. 주의할 점은 모양을 바꾸기 전후 행렬의 총 원소 개수(size)가 맞아야 한다는 것이다."
   ]
  },
  {
   "cell_type": "code",
   "execution_count": 14,
   "id": "cdebc143",
   "metadata": {},
   "outputs": [
    {
     "name": "stdout",
     "output_type": "stream",
     "text": [
      "행렬의 모양: (2, 5)\n",
      "행렬의 축 개수: 2\n",
      "행렬 내 원소의 개수: 10\n"
     ]
    }
   ],
   "source": [
    "# 길이 10의 1차원 행렬을 2X5 2차원 행렬로 바꾸기\n",
    "A = np.arange(10).reshape(2, 5)\n",
    "\n",
    "print(\"행렬의 모양:\", A.shape)\n",
    "print(\"행렬의 축 개수:\", A.ndim)\n",
    "print(\"행렬 내 원소의 개수:\", A.size)"
   ]
  },
  {
   "cell_type": "code",
   "execution_count": 15,
   "id": "1228053a",
   "metadata": {},
   "outputs": [
    {
     "name": "stdout",
     "output_type": "stream",
     "text": [
      "A:  [0 1 2 3 4 5 6 7 8 9]\n",
      "B:  [[0 1 2 3 4]\n",
      " [5 6 7 8 9]]\n"
     ]
    },
    {
     "ename": "ValueError",
     "evalue": "cannot reshape array of size 10 into shape (3,3)",
     "output_type": "error",
     "traceback": [
      "\u001b[0;31m---------------------------------------------------------------------------\u001b[0m",
      "\u001b[0;31mValueError\u001b[0m                                Traceback (most recent call last)",
      "\u001b[0;32m/tmp/ipykernel_31/254881026.py\u001b[0m in \u001b[0;36m<module>\u001b[0;34m\u001b[0m\n\u001b[1;32m      5\u001b[0m \u001b[0mprint\u001b[0m\u001b[0;34m(\u001b[0m\u001b[0;34m'B: '\u001b[0m\u001b[0;34m,\u001b[0m \u001b[0mB\u001b[0m\u001b[0;34m)\u001b[0m\u001b[0;34m\u001b[0m\u001b[0;34m\u001b[0m\u001b[0m\n\u001b[1;32m      6\u001b[0m \u001b[0;31m# 3x3 3차원 행렬로 바꾸기 -> 에러\u001b[0m\u001b[0;34m\u001b[0m\u001b[0;34m\u001b[0m\u001b[0m\n\u001b[0;32m----> 7\u001b[0;31m \u001b[0mC\u001b[0m \u001b[0;34m=\u001b[0m \u001b[0mnp\u001b[0m\u001b[0;34m.\u001b[0m\u001b[0marange\u001b[0m\u001b[0;34m(\u001b[0m\u001b[0;36m10\u001b[0m\u001b[0;34m)\u001b[0m\u001b[0;34m.\u001b[0m\u001b[0mreshape\u001b[0m\u001b[0;34m(\u001b[0m\u001b[0;36m3\u001b[0m\u001b[0;34m,\u001b[0m\u001b[0;36m3\u001b[0m\u001b[0;34m)\u001b[0m\u001b[0;34m\u001b[0m\u001b[0;34m\u001b[0m\u001b[0m\n\u001b[0m\u001b[1;32m      8\u001b[0m \u001b[0mprint\u001b[0m\u001b[0;34m(\u001b[0m\u001b[0;34m'C: '\u001b[0m\u001b[0;34m,\u001b[0m \u001b[0mC\u001b[0m\u001b[0;34m)\u001b[0m\u001b[0;34m\u001b[0m\u001b[0;34m\u001b[0m\u001b[0m\n",
      "\u001b[0;31mValueError\u001b[0m: cannot reshape array of size 10 into shape (3,3)"
     ]
    }
   ],
   "source": [
    "A = np.arange(10)\n",
    "print('A: ', A)\n",
    "# 2X5 2차원 행렬로 바꾸기\n",
    "B = np.arange(10).reshape(2,5)\n",
    "print('B: ', B)\n",
    "# 3x3 3차원 행렬로 바꾸기 -> 에러(모양과 원소의 개수가 맞지 않기 때문)\n",
    "C = np.arange(10).reshape(3,3)\n",
    "print('C: ', C)"
   ]
  },
  {
   "cell_type": "markdown",
   "id": "7cc75cc6",
   "metadata": {},
   "source": [
    "### 3) type\n",
    "- NumPy 라이브러리 내부의 자료형들은 파이썬 내장함수와 동일하다. 그러나 내장함수 type()과 dtype()메서드의 경우 헷갈릴 수 있다.\n",
    " - NumPy: numpy.array.dtype\n",
    " - 파이썬: type()"
   ]
  },
  {
   "cell_type": "code",
   "execution_count": 16,
   "id": "5514a8c0",
   "metadata": {},
   "outputs": [
    {
     "name": "stdout",
     "output_type": "stream",
     "text": [
      "[[0 1 2]\n",
      " [3 4 5]]\n",
      "int64\n",
      "<class 'numpy.ndarray'>\n",
      "-------------------------\n",
      "[0 1 2 3 4 5]\n",
      "int64\n",
      "<class 'numpy.ndarray'>\n",
      "-------------------------\n",
      "['0' '1' '2' '3' '4' '5']\n",
      "<U21\n",
      "<class 'numpy.ndarray'>\n",
      "-------------------------\n",
      "[0 1 2 3 list([4, 5]) 6]\n",
      "object\n",
      "<class 'numpy.ndarray'>\n"
     ]
    },
    {
     "name": "stderr",
     "output_type": "stream",
     "text": [
      "/tmp/ipykernel_31/130055213.py:19: VisibleDeprecationWarning: Creating an ndarray from ragged nested sequences (which is a list-or-tuple of lists-or-tuples-or ndarrays with different lengths or shapes) is deprecated. If you meant to do this, you must specify 'dtype=object' when creating the ndarray.\n",
      "  D = np.array([0, 1, 2, 3, [4, 5], 6])  # 이런 ndarray도 만들어질까요?\n"
     ]
    }
   ],
   "source": [
    "A= np.arange(6).reshape(2, 3)\n",
    "print(A)\n",
    "print(A.dtype)\n",
    "print(type(A))\n",
    "print(\"-------------------------\")\n",
    "\n",
    "B = np.array([0, 1, 2, 3, 4, 5])  \n",
    "print(B)\n",
    "print(B.dtype)\n",
    "print(type(B))\n",
    "print(\"-------------------------\")\n",
    "\n",
    "C = np.array([0, 1, 2, 3, '4', 5])\n",
    "print(C)\n",
    "print(C.dtype)\n",
    "print(type(C))\n",
    "print(\"-------------------------\")\n",
    "\n",
    "D = np.array([0, 1, 2, 3, [4, 5], 6])  # 이 경우도 ndarray가 만들어진다.\n",
    "print(D)\n",
    "print(D.dtype)\n",
    "print(type(D))"
   ]
  },
  {
   "cell_type": "markdown",
   "id": "cb637545",
   "metadata": {},
   "source": [
    "- NumPy의 원소는 꼭 동일한 데이터 type이어야 한다. NumPy의 메서드인 dtype은 NumPy ndarray의 \"원소\"의 데이터 타입을 반환한다. 반면에 파이썬 내장함수인 type(A)을 이용하면 행렬 A의 자료형이 반환된다.\n",
    "- D의 경우 원소 하나를 list 객체로 바꿨다. NumPy의 원소는 꼭 동일한 데이터 type이어야 하므로 에러가 날 것이라 예상했으나, 정상적으로 ndarray가 만들어진다. 대신 D.dtype은 object를 리턴한다. 파이썬의 최상위 클래스는 object이므로 Numpy는 dtype을 object로 지정해서라도 행렬 내 dtype을 일치시킬 수 있게 된다. 이런 상황을 방지하기 위해서 이런 기능을 deprecate 시켰다.\n",
    "- deprecate 라는 것은 이제 더 이상 관리하지 않는 기능을 뜻한다. 메서드를 deprecate 할 예정일 때는 기능은 성공적으로 실행시키고 error가 아닌 warning 문구로 경고만 한다. 그 기능을 더 이상 못쓰는 것은 아니지만 이제부터 관리를 하지 않을 테니 오류가 날 확률이 높다는 뜻을 가지고 있다. 여기서는 '... you must specify 'dtype=object' when creating the ndarray.' 라고 말해 주었으므로 코드를 작성할 때 dtype을 직접 입력하여 오류를 방지하면 된다."
   ]
  },
  {
   "cell_type": "code",
   "execution_count": 17,
   "id": "e17abeb6",
   "metadata": {},
   "outputs": [
    {
     "name": "stdout",
     "output_type": "stream",
     "text": [
      "[0 1 2 3 list([4, 5]) 6]\n",
      "object\n",
      "<class 'numpy.ndarray'>\n"
     ]
    }
   ],
   "source": [
    "# warning 메시지를 참고해서 코드 바꾸기\n",
    "D = np.array([0, 1, 2, 3, [4, 5], 6], dtype=object)\n",
    "print(D)\n",
    "print(D.dtype)\n",
    "print(type(D))"
   ]
  },
  {
   "cell_type": "code",
   "execution_count": 18,
   "id": "24b0d07d",
   "metadata": {},
   "outputs": [
    {
     "name": "stdout",
     "output_type": "stream",
     "text": [
      "0\n",
      "<class 'numpy.str_'>\n",
      "4\n",
      "<class 'numpy.str_'>\n",
      "------------------------------\n",
      "0\n",
      "<class 'int'>\n",
      "[4, 5]\n",
      "<class 'list'>\n"
     ]
    }
   ],
   "source": [
    "C = np.array([0,1,2,3,'4',5])\n",
    "print(C[0])\n",
    "print(type(C[0]))\n",
    "print(C[4])\n",
    "print(type(C[4]))\n",
    "print(\"------------------------------\")\n",
    "\n",
    "D = np.array([0,1,2,3,[4,5],6], dtype=object)\n",
    "print(D[0])\n",
    "print(type(D[0]))\n",
    "print(D[4])\n",
    "print(type(D[4]))"
   ]
  },
  {
   "cell_type": "markdown",
   "id": "3e136693",
   "metadata": {},
   "source": [
    "- NumPy가 행렬 내부의 원소의 type을 실제로 변경하는지 확인하기 위해 C와 D를 다시 보면, C[0]에 해당하는 숫자 0은 행렬 안에 문자열 '0'으로 들어가 있다. 그러나 D[0]에 해당하는 숫자 0은 여전히 행렬 안에 정수 0으로 들어가 있다. -> NumPy는 어떤 경우라도 Array 답게 연산속도를 최적화하도록 원소들을 관리하지만, 필요에 따라 가장 효율적인 방법으로 type을 변화시켜 관리하고 있다."
   ]
  },
  {
   "cell_type": "markdown",
   "id": "cbf78cfd",
   "metadata": {},
   "source": [
    "### 4) 특수 행렬\n",
    "- NumPy는 수학적으로 의미가 있는 행렬들을 함수로 제공한다. -> 단위행렬, 0 행렬, 1 행렬\n",
    "- np.arange()나 np.array() 이외에도 이 함수들을 이용해서 numpy ndarray 객체를 생성할 수 있다."
   ]
  },
  {
   "cell_type": "code",
   "execution_count": 19,
   "id": "32f0c1b8",
   "metadata": {},
   "outputs": [
    {
     "data": {
      "text/plain": [
       "array([[1., 0., 0.],\n",
       "       [0., 1., 0.],\n",
       "       [0., 0., 1.]])"
      ]
     },
     "execution_count": 19,
     "metadata": {},
     "output_type": "execute_result"
    }
   ],
   "source": [
    "# 형태 확인 -> 단위행렬\n",
    "np.eye(3)"
   ]
  },
  {
   "cell_type": "code",
   "execution_count": 20,
   "id": "3b711a83",
   "metadata": {},
   "outputs": [
    {
     "data": {
      "text/plain": [
       "array([[0., 0., 0.],\n",
       "       [0., 0., 0.]])"
      ]
     },
     "execution_count": 20,
     "metadata": {},
     "output_type": "execute_result"
    }
   ],
   "source": [
    "# 형태 확인 -> 0 행렬\n",
    "np.zeros([2,3])"
   ]
  },
  {
   "cell_type": "code",
   "execution_count": 21,
   "id": "aa69f4cb",
   "metadata": {},
   "outputs": [
    {
     "data": {
      "text/plain": [
       "array([[1., 1., 1.],\n",
       "       [1., 1., 1.],\n",
       "       [1., 1., 1.]])"
      ]
     },
     "execution_count": 21,
     "metadata": {},
     "output_type": "execute_result"
    }
   ],
   "source": [
    "# 형태 확인 -> 1행렬\n",
    "np.ones([3,3])"
   ]
  },
  {
   "cell_type": "markdown",
   "id": "8e2071c9",
   "metadata": {},
   "source": [
    "### 5) 브로드캐스트\n",
    "- NumPy의 강력한 연산 기능 중 하나인 브로드캐스트(broadcast) 연산이다. -> ndarray 객체에 상수 연산을 하면 각각의 원소에 어떻게 연산이 적용되는지 확인하기_[설명자료](https://numpy.org/devdocs/user/basics.broadcasting.html)"
   ]
  },
  {
   "cell_type": "code",
   "execution_count": 22,
   "id": "a5c1e224",
   "metadata": {},
   "outputs": [
    {
     "data": {
      "text/plain": [
       "array([[0, 1, 2],\n",
       "       [3, 4, 5],\n",
       "       [6, 7, 8]])"
      ]
     },
     "execution_count": 22,
     "metadata": {},
     "output_type": "execute_result"
    }
   ],
   "source": [
    "A = np.arange(9).reshape(3,3)\n",
    "A"
   ]
  },
  {
   "cell_type": "code",
   "execution_count": 23,
   "id": "711cb8e3",
   "metadata": {},
   "outputs": [
    {
     "data": {
      "text/plain": [
       "array([[ 0,  2,  4],\n",
       "       [ 6,  8, 10],\n",
       "       [12, 14, 16]])"
      ]
     },
     "execution_count": 23,
     "metadata": {},
     "output_type": "execute_result"
    }
   ],
   "source": [
    "# ndarray A에 2를 상수배 했을 때,\n",
    "A * 2"
   ]
  },
  {
   "cell_type": "code",
   "execution_count": 24,
   "id": "0a2c5465",
   "metadata": {},
   "outputs": [
    {
     "data": {
      "text/plain": [
       "array([[ 2,  3,  4],\n",
       "       [ 5,  6,  7],\n",
       "       [ 8,  9, 10]])"
      ]
     },
     "execution_count": 24,
     "metadata": {},
     "output_type": "execute_result"
    }
   ],
   "source": [
    "# ndarray A에 2를 더했을 때,\n",
    "A + 2"
   ]
  },
  {
   "cell_type": "code",
   "execution_count": 25,
   "id": "2d3ecae3",
   "metadata": {},
   "outputs": [
    {
     "name": "stdout",
     "output_type": "stream",
     "text": [
      "A: [[0 1 2]\n",
      " [3 4 5]\n",
      " [6 7 8]]\n",
      "B: [1 2 3]\n",
      "\n",
      "A+B: [[ 1  3  5]\n",
      " [ 4  6  8]\n",
      " [ 7  9 11]]\n"
     ]
    }
   ],
   "source": [
    "# 3 X 3 행렬에 1 X 3 행렬을 더했을 때\n",
    "A = np.arange(9).reshape(3,3)\n",
    "B = np.array([1, 2, 3])\n",
    "print(\"A:\", A)\n",
    "print(\"B:\", B)\n",
    "print(\"\\nA+B:\", A+B)"
   ]
  },
  {
   "cell_type": "code",
   "execution_count": 26,
   "id": "a0a3dd55",
   "metadata": {},
   "outputs": [
    {
     "name": "stdout",
     "output_type": "stream",
     "text": [
      "A: [[0 1 2]\n",
      " [3 4 5]\n",
      " [6 7 8]]\n",
      "C: [[1]\n",
      " [2]\n",
      " [3]]\n",
      "\n",
      "A+C: [[ 1  2  3]\n",
      " [ 5  6  7]\n",
      " [ 9 10 11]]\n"
     ]
    }
   ],
   "source": [
    "# 3 X 3 행렬에 3 X 1 행렬을 더했을 때\n",
    "A = np.arange(9).reshape(3,3)\n",
    "C = np.array([[1], [2], [3]])\n",
    "print(\"A:\", A)\n",
    "print(\"C:\", C)\n",
    "print(\"\\nA+C:\", A+C)"
   ]
  },
  {
   "cell_type": "code",
   "execution_count": 27,
   "id": "8e3702ef",
   "metadata": {},
   "outputs": [
    {
     "name": "stdout",
     "output_type": "stream",
     "text": [
      "A: [[0 1 2]\n",
      " [3 4 5]\n",
      " [6 7 8]]\n",
      "D: [1 2]\n"
     ]
    },
    {
     "ename": "ValueError",
     "evalue": "operands could not be broadcast together with shapes (3,3) (2,) ",
     "output_type": "error",
     "traceback": [
      "\u001b[0;31m---------------------------------------------------------------------------\u001b[0m",
      "\u001b[0;31mValueError\u001b[0m                                Traceback (most recent call last)",
      "\u001b[0;32m/tmp/ipykernel_31/3358075234.py\u001b[0m in \u001b[0;36m<module>\u001b[0;34m\u001b[0m\n\u001b[1;32m      4\u001b[0m \u001b[0mprint\u001b[0m\u001b[0;34m(\u001b[0m\u001b[0;34m\"A:\"\u001b[0m\u001b[0;34m,\u001b[0m \u001b[0mA\u001b[0m\u001b[0;34m)\u001b[0m\u001b[0;34m\u001b[0m\u001b[0;34m\u001b[0m\u001b[0m\n\u001b[1;32m      5\u001b[0m \u001b[0mprint\u001b[0m\u001b[0;34m(\u001b[0m\u001b[0;34m\"D:\"\u001b[0m\u001b[0;34m,\u001b[0m \u001b[0mD\u001b[0m\u001b[0;34m)\u001b[0m\u001b[0;34m\u001b[0m\u001b[0;34m\u001b[0m\u001b[0m\n\u001b[0;32m----> 6\u001b[0;31m \u001b[0mprint\u001b[0m\u001b[0;34m(\u001b[0m\u001b[0;34m\"\\nA+D:\"\u001b[0m\u001b[0;34m,\u001b[0m \u001b[0mA\u001b[0m\u001b[0;34m+\u001b[0m\u001b[0mD\u001b[0m\u001b[0;34m)\u001b[0m\u001b[0;34m\u001b[0m\u001b[0;34m\u001b[0m\u001b[0m\n\u001b[0m",
      "\u001b[0;31mValueError\u001b[0m: operands could not be broadcast together with shapes (3,3) (2,) "
     ]
    }
   ],
   "source": [
    "# 3 X 3 행렬에 1 X 2 행렬을 더했을 때 -> 에러\n",
    "A = np.arange(9).reshape(3,3)\n",
    "D = np.array([1, 2])\n",
    "print(\"A:\", A)\n",
    "print(\"D:\", D)\n",
    "print(\"\\nA+D:\", A+D)"
   ]
  },
  {
   "cell_type": "markdown",
   "id": "ec51e25a",
   "metadata": {},
   "source": [
    "- ndarray와 상수, 또는 서로 크기가 다른 ndarray끼리 산술연산이 가능한 기능을 브로드캐스팅이라고 한다. Numpy가 파이썬 내장 리스트와 구별되는 큰 특징 중 하나이다. \n",
    "- 차이점 : 파이썬 내장 리스트는 list에 정수(int) 연산이 불가하지만 Numpy는 list에 정수(int) 연산이 가능하다. (다음 코드를 통해 비교)"
   ]
  },
  {
   "cell_type": "code",
   "execution_count": 28,
   "id": "2a411e54",
   "metadata": {},
   "outputs": [
    {
     "name": "stdout",
     "output_type": "stream",
     "text": [
      "[1, 2, 3, 4]\n"
     ]
    },
    {
     "ename": "TypeError",
     "evalue": "can only concatenate list (not \"int\") to list",
     "output_type": "error",
     "traceback": [
      "\u001b[0;31m---------------------------------------------------------------------------\u001b[0m",
      "\u001b[0;31mTypeError\u001b[0m                                 Traceback (most recent call last)",
      "\u001b[0;32m/tmp/ipykernel_31/410015012.py\u001b[0m in \u001b[0;36m<module>\u001b[0;34m\u001b[0m\n\u001b[1;32m      1\u001b[0m \u001b[0mprint\u001b[0m\u001b[0;34m(\u001b[0m\u001b[0;34m[\u001b[0m\u001b[0;36m1\u001b[0m\u001b[0;34m,\u001b[0m\u001b[0;36m2\u001b[0m\u001b[0;34m]\u001b[0m\u001b[0;34m+\u001b[0m\u001b[0;34m[\u001b[0m\u001b[0;36m3\u001b[0m\u001b[0;34m,\u001b[0m\u001b[0;36m4\u001b[0m\u001b[0;34m]\u001b[0m\u001b[0;34m)\u001b[0m\u001b[0;34m\u001b[0m\u001b[0;34m\u001b[0m\u001b[0m\n\u001b[0;32m----> 2\u001b[0;31m \u001b[0mprint\u001b[0m\u001b[0;34m(\u001b[0m\u001b[0;34m[\u001b[0m\u001b[0;36m1\u001b[0m\u001b[0;34m,\u001b[0m\u001b[0;36m2\u001b[0m\u001b[0;34m]\u001b[0m\u001b[0;34m+\u001b[0m\u001b[0;36m3\u001b[0m\u001b[0;34m)\u001b[0m\u001b[0;34m\u001b[0m\u001b[0;34m\u001b[0m\u001b[0m\n\u001b[0m",
      "\u001b[0;31mTypeError\u001b[0m: can only concatenate list (not \"int\") to list"
     ]
    }
   ],
   "source": [
    "print([1,2]+[3,4])\n",
    "print([1,2]+3)"
   ]
  },
  {
   "cell_type": "code",
   "execution_count": 29,
   "id": "e2674e5d",
   "metadata": {},
   "outputs": [
    {
     "name": "stdout",
     "output_type": "stream",
     "text": [
      "[4 6]\n",
      "[4 5]\n"
     ]
    }
   ],
   "source": [
    "print(np.array([1,2])+np.array([3,4]))\n",
    "print(np.array([1,2])+3)"
   ]
  },
  {
   "cell_type": "markdown",
   "id": "3a845621",
   "metadata": {},
   "source": [
    "### 6) 슬라이스와 인덱싱\n",
    "- NumPy도 파이썬 내장 리스트와 비슷한 슬라이스와 인덱싱 연산을 제공한다."
   ]
  },
  {
   "cell_type": "code",
   "execution_count": 30,
   "id": "ea4072a1",
   "metadata": {},
   "outputs": [
    {
     "name": "stdout",
     "output_type": "stream",
     "text": [
      "A: [[0 1 2]\n",
      " [3 4 5]\n",
      " [6 7 8]]\n",
      "B: [0 1 2]\n"
     ]
    }
   ],
   "source": [
    "# 3 X 3 행렬의 첫번째 행 구하기\n",
    "A = np.arange(9).reshape(3,3)\n",
    "print(\"A:\", A)\n",
    "B = A[0]\n",
    "print(\"B:\", B)"
   ]
  },
  {
   "cell_type": "code",
   "execution_count": 31,
   "id": "e1970af5",
   "metadata": {},
   "outputs": [
    {
     "name": "stdout",
     "output_type": "stream",
     "text": [
      "1\n",
      "1\n"
     ]
    }
   ],
   "source": [
    "# 0, 1을 인덱싱 하면 A의 첫번째 행에서 두번째 값을 참조한다.\n",
    "# 아래 두 결과는 같다.\n",
    "print(A[0, 1])\n",
    "print(B[1])"
   ]
  },
  {
   "cell_type": "code",
   "execution_count": 32,
   "id": "d025ccfa",
   "metadata": {},
   "outputs": [
    {
     "data": {
      "text/plain": [
       "array([[0, 1, 2],\n",
       "       [3, 4, 5]])"
      ]
     },
     "execution_count": 32,
     "metadata": {},
     "output_type": "execute_result"
    }
   ],
   "source": [
    "# 슬라이싱도 비슷하다.\n",
    "A[:-1]"
   ]
  },
  {
   "cell_type": "markdown",
   "id": "fb9eaccc",
   "metadata": {},
   "source": [
    "- NumPy 기본 인덱싱 배열 (배열은 리스트와 기본적으로 비슷하다)\n",
    "![인덱싱배열](https://user-images.githubusercontent.com/116326867/225955420-b34c1910-fa49-487e-a22b-bbfa25e12ee5.png)"
   ]
  },
  {
   "cell_type": "code",
   "execution_count": 33,
   "id": "b4f020a0",
   "metadata": {},
   "outputs": [
    {
     "name": "stdout",
     "output_type": "stream",
     "text": [
      "[[2]\n",
      " [5]\n",
      " [8]]\n",
      "--------------\n",
      "[[1 2]\n",
      " [4 5]\n",
      " [7 8]]\n",
      "--------------\n",
      "[[0 1 2]\n",
      " [3 4 5]\n",
      " [6 7 8]]\n",
      "--------------\n",
      "[[2]\n",
      " [5]\n",
      " [8]]\n",
      "--------------\n",
      "[[1 2]\n",
      " [4 5]\n",
      " [7 8]]\n",
      "--------------\n",
      "[[0 1 2]\n",
      " [3 4 5]\n",
      " [6 7 8]]\n"
     ]
    }
   ],
   "source": [
    "# 이 슬라이싱의 결과는 \n",
    "print(A[:,2:])\n",
    "print(\"--------------\")\n",
    "print(A[:,1:])\n",
    "print(\"--------------\")\n",
    "print(A[:,:])\n",
    "print(\"--------------\")\n",
    "# 이 슬라이싱의 결과와 동일하다.\n",
    "print(A[:,-1:])\n",
    "print(\"--------------\")\n",
    "print(A[:,-2:])\n",
    "print(\"--------------\")\n",
    "print(A[:,-3:])"
   ]
  },
  {
   "cell_type": "code",
   "execution_count": 34,
   "id": "1369c5ab",
   "metadata": {},
   "outputs": [
    {
     "data": {
      "text/plain": [
       "array([3, 4])"
      ]
     },
     "execution_count": 34,
     "metadata": {},
     "output_type": "execute_result"
    }
   ],
   "source": [
    "# 슬라이싱 연습 1\n",
    "A[1,:2]"
   ]
  },
  {
   "cell_type": "code",
   "execution_count": 35,
   "id": "3c6263cb",
   "metadata": {},
   "outputs": [
    {
     "data": {
      "text/plain": [
       "array([[1, 2],\n",
       "       [4, 5]])"
      ]
     },
     "execution_count": 35,
     "metadata": {},
     "output_type": "execute_result"
    }
   ],
   "source": [
    "# 슬라이싱 연습 2\n",
    "A[:2, 1:]"
   ]
  },
  {
   "cell_type": "code",
   "execution_count": 36,
   "id": "3c483084",
   "metadata": {},
   "outputs": [
    {
     "data": {
      "text/plain": [
       "array([2, 5, 8])"
      ]
     },
     "execution_count": 36,
     "metadata": {},
     "output_type": "execute_result"
    }
   ],
   "source": [
    "# 슬라이싱 연습 3\n",
    "A[:,-1]"
   ]
  },
  {
   "cell_type": "markdown",
   "id": "4f946ccc",
   "metadata": {},
   "source": [
    "### 7) random\n",
    "- NumPy에서도 다양한 의사 난수를 지원한다. 앞으로 많이 쓰일 기능이니 익혀두세요. 아래는 주로 많이 쓰이는 것들이지만, np.random 패키지 안에는 이보다 훨씬 많은 기능이 내장되어 있다.\n",
    " - np.random.randint()\n",
    " - np.random.choice()\n",
    " - np.random.permutation()\n",
    " - np.random.normal()\n",
    " - np.random.uniform()"
   ]
  },
  {
   "cell_type": "code",
   "execution_count": 38,
   "id": "a767161b",
   "metadata": {},
   "outputs": [
    {
     "name": "stdout",
     "output_type": "stream",
     "text": [
      "0.5244788365470717\n",
      "9\n",
      "6\n"
     ]
    }
   ],
   "source": [
    "# 의사 난수를 생성하는 예제 (여러번 실행해 보기)\n",
    "\n",
    "print(np.random.random())   # 0에서 1사이의 실수형 난수 하나를 생성 \n",
    "\n",
    "print(np.random.randint(0,10))   # 0~9 사이 1개 정수형 난수 하나를 생성\n",
    "\n",
    "print(np.random.choice([0,1,2,3,4,5,6,7,8,9]))   # 리스트에 주어진 값 중 하나를 랜덤하게 고르기"
   ]
  },
  {
   "cell_type": "code",
   "execution_count": 39,
   "id": "dcec7c7e",
   "metadata": {},
   "outputs": [
    {
     "name": "stdout",
     "output_type": "stream",
     "text": [
      "[7 6 9 5 2 0 1 3 4 8]\n",
      "[9 4 5 3 8 2 1 0 7 6]\n"
     ]
    }
   ],
   "source": [
    "# 무작위로 섞인 배열을 만들기 \n",
    "# 아래 2가지는 기능면에서 동일하다.\n",
    "\n",
    "print(np.random.permutation(10))   \n",
    "print(np.random.permutation([0,1,2,3,4,5,6,7,8,9]))"
   ]
  },
  {
   "cell_type": "code",
   "execution_count": 40,
   "id": "66e0e811",
   "metadata": {},
   "outputs": [
    {
     "name": "stdout",
     "output_type": "stream",
     "text": [
      "[1.14190755 0.66997372 0.05307961 0.15557968 0.43303036]\n",
      "[-0.56162686 -0.2637997   0.29941258  0.9028304  -0.77383382]\n"
     ]
    }
   ],
   "source": [
    "# 어떤 분포를 따르는 변수를 임의로 표본추출\n",
    "\n",
    "# 정규분포\n",
    "print(np.random.normal(loc=0, scale=1, size=5))    # 평균(loc), 표준편차(scale), 추출개수(size) 조절 가능\n",
    "\n",
    "# 균등분포\n",
    "print(np.random.uniform(low=-1, high=1, size=5))  # 최소(low), 최대(high), 추출개수(size) 조절 가능"
   ]
  },
  {
   "cell_type": "markdown",
   "id": "a36ffd54",
   "metadata": {},
   "source": [
    "### 8) 전치행렬\n",
    "- 행렬의 행과 열을 맞바꾸기, 행렬의 축을 서로 바꾸기 등에 사용된다.\n",
    " - arr.T: 행렬의 행과 열 맞바꾸기\n",
    " - np.transpose: 축을 기준으로 행렬의 행과 열 바꾸기"
   ]
  },
  {
   "cell_type": "code",
   "execution_count": 41,
   "id": "923cf455",
   "metadata": {},
   "outputs": [
    {
     "name": "stdout",
     "output_type": "stream",
     "text": [
      "A: [[[ 0  1  2  3]\n",
      "  [ 4  5  6  7]\n",
      "  [ 8  9 10 11]]\n",
      "\n",
      " [[12 13 14 15]\n",
      "  [16 17 18 19]\n",
      "  [20 21 22 23]]]\n",
      "A의 전치행렬: [[[ 0 12]\n",
      "  [ 4 16]\n",
      "  [ 8 20]]\n",
      "\n",
      " [[ 1 13]\n",
      "  [ 5 17]\n",
      "  [ 9 21]]\n",
      "\n",
      " [[ 2 14]\n",
      "  [ 6 18]\n",
      "  [10 22]]\n",
      "\n",
      " [[ 3 15]\n",
      "  [ 7 19]\n",
      "  [11 23]]]\n",
      "A의 전치행렬의 shape: (4, 3, 2)\n"
     ]
    }
   ],
   "source": [
    "A = np.arange(24).reshape(2,3,4)\n",
    "print(\"A:\", A)               # A는 (2,3,4)의 shape를 가진 행렬 \n",
    "print(\"A의 전치행렬:\", A.T)            \n",
    "print(\"A의 전치행렬의 shape:\", A.T.shape) # A의 전치행렬은 (4,3,2)의 shape를 가진 행렬"
   ]
  },
  {
   "cell_type": "code",
   "execution_count": 42,
   "id": "1ec43007",
   "metadata": {},
   "outputs": [
    {
     "name": "stdout",
     "output_type": "stream",
     "text": [
      "A: [[[ 0  1  2  3]\n",
      "  [ 4  5  6  7]\n",
      "  [ 8  9 10 11]]\n",
      "\n",
      " [[12 13 14 15]\n",
      "  [16 17 18 19]\n",
      "  [20 21 22 23]]]\n",
      "B: [[[ 0  4  8]\n",
      "  [12 16 20]]\n",
      "\n",
      " [[ 1  5  9]\n",
      "  [13 17 21]]\n",
      "\n",
      " [[ 2  6 10]\n",
      "  [14 18 22]]\n",
      "\n",
      " [[ 3  7 11]\n",
      "  [15 19 23]]]\n",
      "B.shape: (4, 2, 3)\n"
     ]
    }
   ],
   "source": [
    "# np.transpose는 행렬의 축을 어떻게 변환해 줄지 임의로 지정해 줄 수 있는 일반적인 행렬 전치 함수 \n",
    "# np.transpose(A, (2,1,0)) 은 A.T와 같다.\n",
    "\n",
    "B = np.transpose(A, (2,0,1))\n",
    "print(\"A:\", A)             # A는 (2,3,4)의 shape를 가진 행렬\n",
    "print(\"B:\", B)             # B는 A의 3, 1, 2번째 축을 자신의 1, 2, 3번째 축으로 가진 행렬\n",
    "print(\"B.shape:\", B.shape)  # B는 (4,2,3)의 shape를 가진 행렬"
   ]
  },
  {
   "cell_type": "markdown",
   "id": "d9e5224d",
   "metadata": {},
   "source": [
    "## 8-6. 끝판왕 등장! NumPy로 이 모든 걸 한방에! (3) NumPy로 기본 통계 데이터 계산해 보기\n",
    "- NumPy의 주요 기능 중 하나인 통계 데이터 계산 기능을 이용할 수 있다. NumPy에서는 많은 통계 관련 수식을 함수로 제공해 준다. NumPy에서 제공하는 함수들을 이용해서 위에서 계산한 평균, 표준편차, 중앙값을 계산하면 아래와 같이 나타낼 수 있다."
   ]
  },
  {
   "cell_type": "code",
   "execution_count": 43,
   "id": "18f6e055",
   "metadata": {},
   "outputs": [
    {
     "name": "stdout",
     "output_type": "stream",
     "text": [
      "Enter a number (<Enter key> to quit)4\n",
      "Enter a number (<Enter key> to quit)35\n",
      "Enter a number (<Enter key> to quit)42\n",
      "Enter a number (<Enter key> to quit)67\n",
      "Enter a number (<Enter key> to quit)\n",
      "합 148.0\n",
      "평균값 37.0\n",
      "표준편차 22.4610774452162\n",
      "중앙값 38.5\n"
     ]
    }
   ],
   "source": [
    "import numpy as np\n",
    "\n",
    "def numbers():\n",
    "    X = []\n",
    "    number = input(\"Enter a number (<Enter key> to quit)\") \n",
    "    # 2개 이상의 숫자를 받아야 한다는 제약조건 제외\n",
    "    while number != \"\": # 입력 숫자란이 비어있는 상태로 엔터키를 눌러 종료\n",
    "        try:\n",
    "            x = float(number)\n",
    "            X.append(x)\n",
    "        except ValueError:\n",
    "            print('>>> NOT a number! Ignored..')\n",
    "        number = input(\"Enter a number (<Enter key> to quit)\")\n",
    "    return X\n",
    "\n",
    "def main():\n",
    "    nums = numbers()       # 파이썬 리스트\n",
    "    num = np.array(nums)   # 리스트를 Numpy ndarray로 변환\n",
    "    print(\"합\", num.sum())\n",
    "    print(\"평균값\",num.mean())\n",
    "    print(\"표준편차\",num.std())\n",
    "    print(\"중앙값\",np.median(num))   # num.median() 이 아님에 유의!\n",
    "\n",
    "main()"
   ]
  },
  {
   "cell_type": "markdown",
   "id": "473c50c6",
   "metadata": {},
   "source": [
    "- NumPy로 합 sum(), 평균 mean(), 표준편차 std(), 중앙값 median() 등을 구현하지 않고도 통계작업을 진행할 수 있다."
   ]
  },
  {
   "cell_type": "markdown",
   "id": "b8edb26e",
   "metadata": {},
   "source": [
    "## 8-7. 데이터의 행렬 변환 (1)\n",
    "- 기본 수학 계산에서 배열 형태의 데이터 타입은 굉장히 유용하다. 배열 형태의 데이터를 다루기 위해 list를 활용하는 것보다는 NumPy의 ndarray를 활용하면 더 쉽게 코딩을 할 수 있다. 기본적인 수학 계산과 함께 영상, 이미지, 텍스트, 소리 등 다양한 형태의 데이터를 숫자, 혹은 행렬 형태로 표현하기도 한다. 컴퓨터는 0과 1의 2진수로 이루어진 산술 연산만 가능하기 때문에 복잡한 데이터를 숫자로 표현한 뒤 계산하기 때문이다.\n",
    "- NumPy를 이용하여 다양한 데이터를 표현하는 방법 : [A Visual Intro to NumPy and Data Representation](http://jalammar.github.io/visual-numpy/)\n",
    " - 소리 데이터의 경우 NumPy로 어떻게 표현하나요? -> 1차원 array로 표현한다. CD음원파일의 경우, 44.1kHz의 샘플링 레이트로 -32767 ~ 32768의 정수 값을 갖는다.\n",
    " - 흑백 이미지의 경우 NumPy로 어떻게 표현 하나요? -> 이미지 사이즈의 세로X 가로 형태의 행렬(2차원 ndarray)로 나타내고, 각 원소는 픽셀별로 명도(grayscale)를 0~255 의 숫자로 환산하여 표시한다. 0은 검정, 255는 흰색이다.\n",
    " - 컬러 이미지의 경우 NumPy로 어떻게 표현 하나요? -> 이미지 사이즈의 세로 X 가로x3 형태의 3차원 행렬이다. 3은 Red, Green, Blue계열의 3 색을 의미한다.\n",
    " - 자연어(블로그에서는 Language로 표기)의 경우 NumPy로 어떻게 표현 하나요? -> 임베딩(Embedding)이라는 과정을 거쳐 ndarray로 표현될 수 있다. 블로그의 예시에서는 71,290개의 단어가 들어있는 (문장들로 이루어진) 데이터셋이 있을때, 이를 단어별로 나누고 0 - 71,289로 넘버링했다. 이를 토큰화 과정이라고 한다. 이 토큰을 50차원의 word2vec embedding 을 통해 [batch_size, sequence_length, embedding_size]의 ndarray로 표현할 수 있다."
   ]
  },
  {
   "cell_type": "markdown",
   "id": "1d1e6802",
   "metadata": {},
   "source": [
    "## 8-8. 데이터의 행렬 변환 (2) 이미지의 행렬 변환\n",
    "- 이미지 데이터를 어떻게 NumPy로 표현하는지 알아본다."
   ]
  },
  {
   "cell_type": "markdown",
   "id": "b375050f",
   "metadata": {},
   "source": [
    "### 1) 픽셀과 이미지\n",
    "- 디지털로 표현되는 이미지는 수많은 점으로 구성되어 있다. 이 점들을 픽셀이라고 부른다.\n",
    "- 아래 이미지는 동일한 사이즈의 이미지에 대해 픽셀이 1 X 1 (1개)일 때부터 100 X 100 (10,000개)일 때 이미지의 해상도를 나타내고 있다.\n",
    "![픽셀](https://user-images.githubusercontent.com/116326867/225959320-08383de8-b54e-40fd-802e-93a822770ba9.png)\n",
    "- 이미지와 픽셀의 관계\n",
    " - 이미지는 수많은 점(픽셀)들로 구성되어 있다.\n",
    " - 각각의 픽셀은 R, G, B 값 3개 요소의 튜플로 색상이 표시된다. (Red, Green, Blue의 값)\n",
    "  - 흰색(W) : (255,255,255) / 검정색(B) : (0, 0, 0) / 빨간색(R) : (255, 0, 0) / 파란색(B) : (0, 0, 255) / 녹색(G) : (0, 128, 0) / 노란색(Y) : (255, 255, 0) / 보라색(P) : (128, 0, 128) / 회색(Gray) : (128, 128, 128)\n",
    " - 흑백의 경우에는 Gray 스케일로 나타내는데, 0~255 범위의 숫자 1개의 튜플 값이다.\n",
    " - Color는 투명도를 포함하는 A(alpha)를 포함해 RGBA 4개로 표시하기도 한다.\n",
    " - 아래 그림처럼 Image의 좌표는 보통 왼쪽 위를 (0, 0)으로 표시하고, 오른쪽과 아래로 내려갈수록 좌표가 증가한다.\n",
    " ![좌표](https://user-images.githubusercontent.com/116326867/225961041-193a2a86-8a7e-48f4-be2f-e2afd09bf8a3.png)"
   ]
  },
  {
   "cell_type": "markdown",
   "id": "50bf0dd8",
   "metadata": {},
   "source": [
    "### 2) 이미지와 관련된 파이썬 라이브러리\n",
    "- matplotlib, PIL\n",
    "- 이미지 데이터를 처리하기 위해 추가로 matplotlib과 PIL 라이브러리를 이용한다. 이 두 라이브러리는 이미지 파일을 열고, 자르고, 복사하고, rgb 색상 값을 가져오는 등 이미지 파일과 관련된 몇 가지 작업을 수행한다. 이렇게 처리한 파일을 NumPy를 이용해 행렬로 빠르게 연산해서 이미지를 더 빠르게 작업할 수 있다."
   ]
  },
  {
   "cell_type": "code",
   "execution_count": 44,
   "id": "877fd8d6",
   "metadata": {},
   "outputs": [
    {
     "name": "stdout",
     "output_type": "stream",
     "text": [
      "# matplotlib: 3.4.3\n",
      "# PIL:  8.3.2\n"
     ]
    }
   ],
   "source": [
    "import matplotlib as mpl\n",
    "import PIL\n",
    "\n",
    "print( f'# matplotlib: {mpl.__version__}' )  \n",
    "print(f'# PIL:  {PIL.__version__}')"
   ]
  },
  {
   "cell_type": "markdown",
   "id": "ff647c12",
   "metadata": {},
   "source": [
    "### 3) 간단한 이미지 조작\n",
    "- 이미지 조작에 쓰이는 메서드\n",
    " - open : Image.open()\n",
    " - size : Image.size\n",
    " - filename : Image.filename\n",
    " - crop : Image.crop((x0, y0, xt, yt))\n",
    " - resize : Image.resize((w,h))\n",
    " - save : Image.save()"
   ]
  },
  {
   "cell_type": "markdown",
   "id": "39be3769",
   "metadata": {},
   "source": [
    "#### 1. open\n",
    "- [newyork.jpg](https://drive.google.com/file/d/1H8BUqHU2ZF9mpr07Kr3WJHt9zeGdKu0m/view?usp=share_link)"
   ]
  },
  {
   "cell_type": "code",
   "execution_count": 45,
   "id": "2bddfba4",
   "metadata": {},
   "outputs": [],
   "source": [
    "!mkdir -p ~/aiffel/data_represent/image\n",
    "!ln -s ~/data/newyork.jpg ~/aiffel/data_represent/image"
   ]
  },
  {
   "cell_type": "code",
   "execution_count": 46,
   "id": "70a04f4c",
   "metadata": {},
   "outputs": [
    {
     "name": "stdout",
     "output_type": "stream",
     "text": [
      "/aiffel/aiffel/data_represent/image/newyork.jpg\n",
      "<class 'PIL.JpegImagePlugin.JpegImageFile'>\n"
     ]
    },
    {
     "data": {
      "image/png": "[encoded data removed]",
      "text/plain": [
       "<PIL.JpegImagePlugin.JpegImageFile image mode=RGB size=212x300 at 0x7F0DE5845CD0>"
      ]
     },
     "execution_count": 46,
     "metadata": {},
     "output_type": "execute_result"
    }
   ],
   "source": [
    "from PIL import Image, ImageColor\n",
    "import os\n",
    "img_path = os.getenv(\"HOME\") + \"/aiffel/data_represent/image/newyork.jpg\"\n",
    "img = Image.open(img_path)\n",
    "print(img_path)\n",
    "print(type(img))\n",
    "img"
   ]
  },
  {
   "cell_type": "markdown",
   "id": "ecc23c5a",
   "metadata": {},
   "source": [
    "- Pillow의 Image.open()이라는 메서드를 통해 이미지 파일을 open 한다. 이렇게 해서 얻어진 오브젝트 img는 PIL.JpegImagePlugin.JpegImageFile 라는 타입을 가지고 있다."
   ]
  },
  {
   "cell_type": "markdown",
   "id": "d4ac182a",
   "metadata": {},
   "source": [
    "#### 2. size"
   ]
  },
  {
   "cell_type": "code",
   "execution_count": 47,
   "id": "069bf9b5",
   "metadata": {},
   "outputs": [
    {
     "data": {
      "text/plain": [
       "(212, 300)"
      ]
     },
     "execution_count": 47,
     "metadata": {},
     "output_type": "execute_result"
    }
   ],
   "source": [
    "img.size"
   ]
  },
  {
   "cell_type": "code",
   "execution_count": 48,
   "id": "37b30f30",
   "metadata": {},
   "outputs": [
    {
     "name": "stdout",
     "output_type": "stream",
     "text": [
      "(212, 300)\n"
     ]
    }
   ],
   "source": [
    "# img.size를 입력하면 이미지 사이즈의 가로X세로가 각각 튜플 값으로 반환\n",
    "W, H = img.size\n",
    "print((W, H))"
   ]
  },
  {
   "cell_type": "code",
   "execution_count": 49,
   "id": "ad87b6aa",
   "metadata": {},
   "outputs": [
    {
     "name": "stdout",
     "output_type": "stream",
     "text": [
      "JPEG\n",
      "(212, 300)\n",
      "RGB\n"
     ]
    }
   ],
   "source": [
    "# 이미지 파일의 타입과 색상 정보 확인\n",
    "print(img.format)\n",
    "print(img.size)\n",
    "print(img.mode)"
   ]
  },
  {
   "cell_type": "markdown",
   "id": "9f2900f1",
   "metadata": {},
   "source": [
    "#### 3. 이미지 자르기\n",
    "- 이미지를 자를 때에는 .crop() 메서드를 이용한다. 인자로 튜플값을 받고, 가로 세로의 시작점과 가로, 세로의 종료점 총 4개를 입력해 준다."
   ]
  },
  {
   "cell_type": "code",
   "execution_count": 50,
   "id": "5a5f900d",
   "metadata": {},
   "outputs": [
    {
     "data": {
      "image/png": "[encoded data removed]",
      "text/plain": [
       "<PIL.Image.Image image mode=RGB size=70x70 at 0x7F0DE5C002B0>"
      ]
     },
     "execution_count": 50,
     "metadata": {},
     "output_type": "execute_result"
    }
   ],
   "source": [
    "img.crop((30,30,100,100))"
   ]
  },
  {
   "cell_type": "markdown",
   "id": "7023a4a9",
   "metadata": {},
   "source": [
    "#### 4. 저장\n",
    "- 저장은 .save() 메서드를 사용하고, 매개변수로 파일 이름을 넣어 준다."
   ]
  },
  {
   "cell_type": "code",
   "execution_count": 51,
   "id": "1e688e07",
   "metadata": {},
   "outputs": [],
   "source": [
    "# 새로운 이미지 파일명\n",
    "cropped_img_path = os.getenv(\"HOME\") + \"/aiffel/data_represent/image/cropped_img.jpg\"\n",
    "img.crop((30,30,100,100)).save(cropped_img_path)"
   ]
  },
  {
   "cell_type": "code",
   "execution_count": 52,
   "id": "b845c813",
   "metadata": {},
   "outputs": [
    {
     "name": "stdout",
     "output_type": "stream",
     "text": [
      "/aiffel/aiffel/data_represent/image/cropped_img.jpg\r\n"
     ]
    }
   ],
   "source": [
    "# 이미지가 저장됐는지 확인\n",
    "!ls ~/aiffel/data_represent/image/cropped_img.jpg"
   ]
  },
  {
   "cell_type": "markdown",
   "id": "8d4ab714",
   "metadata": {},
   "source": [
    "#### 5. 행렬로 변환\n",
    "- 이미지 파일을 행렬로 변환"
   ]
  },
  {
   "cell_type": "code",
   "execution_count": 53,
   "id": "dce347ae",
   "metadata": {},
   "outputs": [
    {
     "name": "stdout",
     "output_type": "stream",
     "text": [
      "<class 'PIL.JpegImagePlugin.JpegImageFile'>\n",
      "<class 'numpy.ndarray'>\n",
      "(300, 212, 3)\n",
      "3\n"
     ]
    }
   ],
   "source": [
    "import numpy as np\n",
    "img_arr = np.array(img)\n",
    "print(type(img))\n",
    "print(type(img_arr))\n",
    "print(img_arr.shape)\n",
    "print(img_arr.ndim)"
   ]
  },
  {
   "cell_type": "markdown",
   "id": "007c820e",
   "metadata": {},
   "source": [
    "- img는 파이썬 리스트 타입이 아니라 PIL.JpegImagePlugin.JpegImageFile 라는 타입을 가지고 있는데, img_arr = np.array(img)가 정상동작했다. np.array(img)가 정상동작한 이유는 다음과 같다. PIL.JpegImagePlugin.JpegImageFile가 PIL.Image.Image 라는 클래스를 상속받은 타입이다([참고](http://code.nabla.net/doc/PIL/api/PIL/JpegImagePlugin/PIL.JpegImagePlugin.JpegImageFile.html)). 이 PIL.Image.Image 클래스는 리스트를 상속받지 않았지만 __ array_interface __ 라는 [속성](https://numpy.org/doc/stable/reference/arrays.interface.html)이 정의되어 있다. 이 덕분에 Pillow 라이브러리는 손쉽게 이미지를 Numpy ndarray로 변환 가능하다.\n",
    "- 컬러(RGB) 이미지 파일이니, 변환된 행렬은 Height X Width X RGB Channel의 모양이고 차원 역시 3차원이다."
   ]
  },
  {
   "cell_type": "code",
   "execution_count": 54,
   "id": "26681cd1",
   "metadata": {},
   "outputs": [
    {
     "data": {
      "text/plain": [
       "array([[[133, 180, 250],\n",
       "        [133, 180, 250],\n",
       "        [133, 180, 250],\n",
       "        ...,\n",
       "        [133, 180, 250],\n",
       "        [133, 180, 250],\n",
       "        [133, 180, 250]],\n",
       "\n",
       "       [[133, 180, 250],\n",
       "        [133, 180, 250],\n",
       "        [133, 180, 250],\n",
       "        ...,\n",
       "        [133, 180, 250],\n",
       "        [133, 180, 250],\n",
       "        [133, 180, 250]],\n",
       "\n",
       "       [[133, 180, 250],\n",
       "        [133, 180, 250],\n",
       "        [133, 180, 250],\n",
       "        ...,\n",
       "        [133, 180, 250],\n",
       "        [133, 180, 250],\n",
       "        [133, 180, 250]],\n",
       "\n",
       "       ...,\n",
       "\n",
       "       [[164, 199, 255],\n",
       "        [164, 199, 255],\n",
       "        [164, 199, 255],\n",
       "        ...,\n",
       "        [164, 199, 255],\n",
       "        [164, 199, 255],\n",
       "        [164, 199, 255]],\n",
       "\n",
       "       [[164, 199, 255],\n",
       "        [164, 199, 255],\n",
       "        [164, 199, 255],\n",
       "        ...,\n",
       "        [164, 199, 255],\n",
       "        [164, 199, 255],\n",
       "        [164, 199, 255]],\n",
       "\n",
       "       [[164, 199, 255],\n",
       "        [164, 199, 255],\n",
       "        [164, 199, 255],\n",
       "        ...,\n",
       "        [164, 199, 255],\n",
       "        [164, 199, 255],\n",
       "        [164, 199, 255]]], dtype=uint8)"
      ]
     },
     "execution_count": 54,
     "metadata": {},
     "output_type": "execute_result"
    }
   ],
   "source": [
    "# 행렬 값 확인\n",
    "img_arr"
   ]
  },
  {
   "cell_type": "markdown",
   "id": "7224df38",
   "metadata": {},
   "source": [
    "#### 6. 흑백 모드\n",
    "- 파일을 열 때 흑백 모드로 사진을 열 수도 있다. Image.open().convert('L')로 모드를 조정할 수 있다.\n",
    "- Pillow의 이미지 처리 옵션에 대한 더 상세한 정보는 [Pillows Modes](https://pillow.readthedocs.io/en/stable/handbook/concepts.html#concept-modes) 항목을 참고"
   ]
  },
  {
   "cell_type": "code",
   "execution_count": 55,
   "id": "3dd7510a",
   "metadata": {},
   "outputs": [
    {
     "data": {
      "image/png": "[encoded data removed]",
      "text/plain": [
       "<PIL.Image.Image image mode=L size=212x300 at 0x7F0DC975CCA0>"
      ]
     },
     "execution_count": 55,
     "metadata": {},
     "output_type": "execute_result"
    }
   ],
   "source": [
    "img_g = Image.open(img_path).convert('L')\n",
    "img_g"
   ]
  },
  {
   "cell_type": "code",
   "execution_count": 56,
   "id": "a64af6a7",
   "metadata": {},
   "outputs": [
    {
     "name": "stdout",
     "output_type": "stream",
     "text": [
      "<class 'numpy.ndarray'>\n",
      "(300, 212)\n",
      "2\n"
     ]
    }
   ],
   "source": [
    "# 행렬로 변환\n",
    "img_g_arr = np.array(img_g)\n",
    "print(type(img_g_arr))\n",
    "print(img_g_arr.shape)\n",
    "print(img_g_arr.ndim)"
   ]
  },
  {
   "cell_type": "markdown",
   "id": "061d20bb",
   "metadata": {},
   "source": [
    "- 흑백이므로 반환된 행렬은 Height X Width, 차원은 2차원이다."
   ]
  },
  {
   "cell_type": "code",
   "execution_count": 57,
   "id": "feeaaa2f",
   "metadata": {},
   "outputs": [
    {
     "data": {
      "text/plain": [
       "array([[174, 174, 174, ..., 174, 174, 174],\n",
       "       [174, 174, 174, ..., 174, 174, 174],\n",
       "       [174, 174, 174, ..., 174, 174, 174],\n",
       "       ...,\n",
       "       [195, 195, 195, ..., 195, 195, 195],\n",
       "       [195, 195, 195, ..., 195, 195, 195],\n",
       "       [195, 195, 195, ..., 195, 195, 195]], dtype=uint8)"
      ]
     },
     "execution_count": 57,
     "metadata": {},
     "output_type": "execute_result"
    }
   ],
   "source": [
    "img_g_arr"
   ]
  },
  {
   "cell_type": "markdown",
   "id": "1fc86c18",
   "metadata": {},
   "source": [
    "#### 7. get color\n",
    "- 색상 값은 3개 원소의 튜플로, 각각의 원소는 R, G, B 값을 의미한다. getcolor()는 각 색상이 RGB 값으로 어떻게 표현되는지를 반환한다."
   ]
  },
  {
   "cell_type": "code",
   "execution_count": 58,
   "id": "fd8dde12",
   "metadata": {},
   "outputs": [
    {
     "name": "stdout",
     "output_type": "stream",
     "text": [
      "(255, 0, 0)\n",
      "(255, 0, 0, 255)\n",
      "(255, 255, 0)\n"
     ]
    }
   ],
   "source": [
    "red = ImageColor.getcolor('RED','RGB')\n",
    "reda = ImageColor.getcolor('red','RGBA')\n",
    "yellow = ImageColor.getcolor('yellow','RGB')\n",
    "print(red)\n",
    "print(reda)\n",
    "print(yellow)"
   ]
  },
  {
   "cell_type": "markdown",
   "id": "5e3ad9ef",
   "metadata": {},
   "source": [
    "- 딥러닝에서 이미지 조작은 Data augmentation를 할 때 많이 사용된다. Data augmentation은 데이터를 증강하는 것으로 딥러닝에서 데이터의 개수를 늘릴 때 사용되는 기법이다. -> [TensorFlow Data Augmentaion Tutorials](https://www.tensorflow.org/tutorials/images/data_augmentation?hl=ko)"
   ]
  },
  {
   "cell_type": "markdown",
   "id": "ee349e19",
   "metadata": {},
   "source": [
    "## 8-9. 구조화된 데이터란?\n",
    "- 일반적으로 데이터를 변수에 저장하는데, 숫자나 텍스트 같은 데이터는 number나 string 형태로 데이터를 저장한다. 한 번에 연속열(Sequence)을 저장할 때는 배열(array)이라는 자료 구조를 사용한다. 배열에는 대표적으로 리스트, 튜플이 있고, 좀 더 간편하게 선형대수를 표현하기 위한 배열로 NumPy의 ndarray를 사용한다."
   ]
  },
  {
   "cell_type": "markdown",
   "id": "61322c54",
   "metadata": {},
   "source": [
    "- 국제전화 국가 번호 데이터\n",
    "![국제전화](https://user-images.githubusercontent.com/116326867/225974217-a367c9c4-c619-42e8-bb64-83dff7769b21.png)\n",
    "- 어떤 데이터의 값을 찾을 때 인덱스가 아닌 \"한국\", \"미국\" 등의 키(key)를 사용해 데이터에 접근하는 데이터 구조를 해시(hash)라고 한다. Hash란 Key와 Value로 구성되어 있는 자료 구조로 두 개의 열만 갖지만 수많은 행을 가지는 구조체이다. 해시는 다른 프로그래밍 언어에서는 매핑(mapping), 연관배열(associative array) 등으로 불리고 파이썬에서는 \"딕셔너리(dictionary)\" 또는 dict로 알려져 있다. 파이썬 딕셔너리는 중괄호{}를 이용하고 키 : 값의 형태로 각각 나타낸다.\n",
    "![hash](https://user-images.githubusercontent.com/116326867/225973921-62f4b531-cd99-427a-9858-6cb9fab47d0b.png)"
   ]
  },
  {
   "cell_type": "code",
   "execution_count": 59,
   "id": "1b5ec9a1",
   "metadata": {},
   "outputs": [
    {
     "data": {
      "text/plain": [
       "82"
      ]
     },
     "execution_count": 59,
     "metadata": {},
     "output_type": "execute_result"
    }
   ],
   "source": [
    "# 파이썬 dict 로 표현한 전화번호부\n",
    "Country_PhoneNumber = {'Korea': 82, 'America': 1, 'Swiss': 41, 'Italy': 39, 'Japan': 81, 'China': 86, 'Rusia': 7}\n",
    "Country_PhoneNumber['Korea']  # 키를 가지고 값을 조회할 수 있다."
   ]
  },
  {
   "cell_type": "markdown",
   "id": "66d7c9f5",
   "metadata": {},
   "source": [
    "## 8-10. 딕셔너리(dictionary)를 활용한 간단한 판타지 게임 logic 설계\n",
    "![logic](https://user-images.githubusercontent.com/116326867/225974788-b94afb71-ddc4-4dad-92f4-711c06c37c59.png)\n",
    "- 플레이어가 보물 상자를 얻었을 때, 보물 상자 안에 있는 물품과 각 물품을 통해 얻은 은화를 보여주는 프로그램을 만든다. 보물 상자에 위와 같은 물건이 들어 있을 때, 각 물품은 게임 세계의 돈인 은화로 거래될 수 있다."
   ]
  },
  {
   "cell_type": "code",
   "execution_count": 60,
   "id": "b7890a3d",
   "metadata": {},
   "outputs": [
    {
     "name": "stdout",
     "output_type": "stream",
     "text": [
      "Congraturation!! you got a treasure box\n",
      "you have rope 2pcs\n",
      "you have apple 10pcs\n",
      "you have torch 6pcs\n",
      "you have gold coin 50pcs\n",
      "you have knife 1pcs\n",
      "you have arrow 30pcs\n"
     ]
    }
   ],
   "source": [
    "# 물품을 보여주는 함수\n",
    "treasure_box = {'rope':2, \n",
    "                'apple':10, \n",
    "                'torch': 6, \n",
    "                'gold coin': 50, \n",
    "                'knife': 1, \n",
    "                'arrow': 30}\n",
    "\n",
    "def display_stuff(treasure_box):\n",
    "    print(\"Congraturation!! you got a treasure box\")\n",
    "    for k, v in treasure_box.items():\n",
    "        print(\"you have {} {}pcs\".format(k, v))\n",
    "display_stuff(treasure_box)"
   ]
  },
  {
   "cell_type": "code",
   "execution_count": 61,
   "id": "1da9bf2d",
   "metadata": {},
   "outputs": [
    {
     "name": "stdout",
     "output_type": "stream",
     "text": [
      "rope : 1coins/pcs * 2pcs = 2 coins\n",
      "apple : 2coins/pcs * 10pcs = 20 coins\n",
      "torch : 2coins/pcs * 6pcs = 12 coins\n",
      "gold coin : 5coins/pcs * 50pcs = 250 coins\n",
      "knife : 30coins/pcs * 1pcs = 30 coins\n",
      "arrow : 1coins/pcs * 30pcs = 30 coins\n",
      "total_coin :  344\n"
     ]
    }
   ],
   "source": [
    "# 물품을 통해 얻을 은화를 보여주는 함수\n",
    "coin_per_treasure = {'rope':1,\n",
    "        'apple':2,\n",
    "        'torch': 2,\n",
    "        'gold coin': 5, \n",
    "        'knife': 30,\n",
    "        'arrow': 1}\n",
    "\n",
    "def total_silver(treasure_box, coin_per_treasure):\n",
    "    total_coin = 0\n",
    "    for treasure in treasure_box:\n",
    "        coin = coin_per_treasure[treasure] * treasure_box[treasure]\n",
    "        print(\"{} : {}coins/pcs * {}pcs = {} coins\".format(\n",
    "          treasure, coin_per_treasure[treasure], treasure_box[treasure], coin))\n",
    "        total_coin += coin\n",
    "    print('total_coin : ', total_coin)\n",
    "total_silver(treasure_box, coin_per_treasure)"
   ]
  },
  {
   "cell_type": "markdown",
   "id": "e22f97cf",
   "metadata": {},
   "source": [
    "- 보물 상자 안의 물품과 개수와 은화를 각각의 딕셔너리 형태로 저장하고, 동일한 단어를 키로 사용해서 각각의 데이터 값을 매칭했다."
   ]
  },
  {
   "cell_type": "code",
   "execution_count": 62,
   "id": "f4b9611f",
   "metadata": {},
   "outputs": [
    {
     "data": {
      "text/plain": [
       "{'coin': 1, 'pcs': 2}"
      ]
     },
     "execution_count": 62,
     "metadata": {},
     "output_type": "execute_result"
    }
   ],
   "source": [
    "treasure_box = {'rope': {'coin': 1, 'pcs': 2},\n",
    "                'apple': {'coin': 2, 'pcs': 10},\n",
    "                'torch': {'coin': 2, 'pcs': 6},\n",
    "                'gold coin': {'coin': 5, 'pcs': 50},\n",
    "                'knife': {'coin': 30, 'pcs': 1},\n",
    "               \t'arrow': {'coin': 1, 'pcs': 30}\n",
    "               }\n",
    "treasure_box['rope']"
   ]
  },
  {
   "cell_type": "markdown",
   "id": "b7a30f9e",
   "metadata": {},
   "source": [
    "- 데이터를 하나의 변수에 저장할 수도 있다. \"딕셔너리의 딕셔너리\" 형태.\n",
    "- 위의 코드에서 treasure_box 에 포함된 5개의 데이터는 내부적으로 coin과 pcs라는 내부 구조를 가진다. 이렇게 데이터 내부에 자체적인 서브 구조를 가지는 데이터를 구조화된 데이터라고 할 때, 이런 데이터는 테이블(table) 형태로 전개됩니다. 위의 treasure_box 데이터는 5개의 행(row), 2개의 열(column)을 가진 데이터가 될 것이다."
   ]
  },
  {
   "cell_type": "code",
   "execution_count": 63,
   "id": "9051a494",
   "metadata": {},
   "outputs": [
    {
     "name": "stdout",
     "output_type": "stream",
     "text": [
      "You have rope {'coin': 1, 'pcs': 2}pcs\n",
      "You have apple {'coin': 2, 'pcs': 10}pcs\n",
      "You have torch {'coin': 2, 'pcs': 6}pcs\n",
      "You have gold coin {'coin': 5, 'pcs': 50}pcs\n",
      "You have knife {'coin': 30, 'pcs': 1}pcs\n",
      "You have arrow {'coin': 1, 'pcs': 30}pcs\n"
     ]
    }
   ],
   "source": [
    "def display_stuff(treasure_box):\n",
    "    for treasure in treasure_box:\n",
    "        print(\"You have {} {}pcs\".format(treasure, treasure_box[treasure]))\n",
    "\n",
    "display_stuff(treasure_box)"
   ]
  },
  {
   "cell_type": "code",
   "execution_count": 64,
   "id": "fcc98011",
   "metadata": {},
   "outputs": [
    {
     "name": "stdout",
     "output_type": "stream",
     "text": [
      "rope : 1coins/pcs * 2pcs = 2 coins\n",
      "apple : 2coins/pcs * 10pcs = 20 coins\n",
      "torch : 2coins/pcs * 6pcs = 12 coins\n",
      "gold coin : 5coins/pcs * 50pcs = 250 coins\n",
      "knife : 30coins/pcs * 1pcs = 30 coins\n",
      "arrow : 1coins/pcs * 30pcs = 30 coins\n",
      "total_coin :  344\n"
     ]
    }
   ],
   "source": [
    "def total_silver(treasure_box):\n",
    "    ## type your code\n",
    "    total_coin = 0\n",
    "    for treasure in treasure_box:\n",
    "        coin = treasure_box[treasure]['coin'] * treasure_box[treasure]['pcs']\n",
    "        print(\"{} : {}coins/pcs * {}pcs = {} coins\".format(\n",
    "          treasure, treasure_box[treasure]['coin'], treasure_box[treasure]['pcs'], coin))\n",
    "        total_coin += coin\n",
    "    print('total_coin : ', total_coin)\n",
    "  \n",
    "total_silver(treasure_box)"
   ]
  },
  {
   "cell_type": "markdown",
   "id": "69b99008",
   "metadata": {},
   "source": [
    "## 8-11. 구조화된 데이터와 pandas (1) Series\n",
    "- 구조화된 데이터를 키(key)와 값(value)으로만 나타내기에는 너무 제한적이다. 표 형태로 나타내는 것이 보기에도 편하다. 구조화된 데이터를 효과적으로 표현하기 위해 pandas라는 파이썬 라이브러리는 __ Series __ 와 __ DataFrame __ 이라는 자료 구조를 제공한다. 이 데이터 타입을 활용하면 구조화된 데이터를 더 쉽게 다룰 수 있다.\n",
    "- pandas의 특징\n",
    " - NumPy기반에서 개발되어 NumPy를 사용하는 애플리케이션에서 쉽게 사용 가능\n",
    " - 축의 이름에 따라 데이터를 정렬할 수 있는 자료 구조\n",
    " - 다양한 방식으로 인덱싱(indexing)하여 데이터를 다룰 수 있는 기능\n",
    " - 통합된 시계열 기능과 시계열 데이터와 비시계열 데이터를 함께 다룰 수 있는 통합 자료 구조\n",
    " - 누락된 데이터 처리 기능\n",
    " - 데이터베이스처럼 데이터를 합치고 관계 연산을 수행하는 기능\n",
    "- pandas 설치 명령어 : pip install pandas"
   ]
  },
  {
   "cell_type": "markdown",
   "id": "205cd2d1",
   "metadata": {},
   "source": [
    "### (1) Series\n",
    "- 구조화 데이터를 표현하는 데 Series의 인덱스(Index)와 Name이 있다. pandas에는 다양한 기능이 있으므로 pandas 공식 문서를 참고하면 된다.\n",
    "- Series는 일련의 객체를 담을 수 있는, 1차원 배열과 비슷한 자료 구조이다. 따라서 배열 형태인 리스트, 튜플, 딕셔너리를 통해서 만들거나 NumPy 자료형(정수형, 실수형 등)으로도 만들 수 있다."
   ]
  },
  {
   "cell_type": "code",
   "execution_count": 65,
   "id": "37ce15ad",
   "metadata": {},
   "outputs": [
    {
     "data": {
      "text/plain": [
       "0    a\n",
       "1    b\n",
       "2    c\n",
       "3    3\n",
       "dtype: object"
      ]
     },
     "execution_count": 65,
     "metadata": {},
     "output_type": "execute_result"
    }
   ],
   "source": [
    "# Series의 인덱스(Index)\n",
    "import pandas as pd\n",
    "ser = pd.Series(['a','b','c',3])\n",
    "ser"
   ]
  },
  {
   "cell_type": "markdown",
   "id": "22642dff",
   "metadata": {},
   "source": [
    "- Series의 인덱스(Index) : ser라는 Series 객체를 만들었다. pandas의 Series에는 index와 value가 있다. 위에서 보면 index는 순서를 나타낸 숫자이고 value는 배열로 표현된 실제 데이터의 값이다."
   ]
  },
  {
   "cell_type": "code",
   "execution_count": 66,
   "id": "e822e6c1",
   "metadata": {},
   "outputs": [
    {
     "data": {
      "text/plain": [
       "array(['a', 'b', 'c', 3], dtype=object)"
      ]
     },
     "execution_count": 66,
     "metadata": {},
     "output_type": "execute_result"
    }
   ],
   "source": [
    "ser.values"
   ]
  },
  {
   "cell_type": "markdown",
   "id": "d427211c",
   "metadata": {},
   "source": [
    "- Series 객체의 values를 호출하면 array 형태로 반환됨을 확인할 수 있다."
   ]
  },
  {
   "cell_type": "code",
   "execution_count": 67,
   "id": "25aa186c",
   "metadata": {},
   "outputs": [
    {
     "data": {
      "text/plain": [
       "RangeIndex(start=0, stop=4, step=1)"
      ]
     },
     "execution_count": 67,
     "metadata": {},
     "output_type": "execute_result"
    }
   ],
   "source": [
    "ser.index"
   ]
  },
  {
   "cell_type": "markdown",
   "id": "f3bcf767",
   "metadata": {},
   "source": [
    "- 인덱스는 RangeIndex가 반환된다. 정수형 인덱스라고 보면 된다. 배열과 굉장히 유사하다."
   ]
  },
  {
   "cell_type": "code",
   "execution_count": 68,
   "id": "edcdbfa5",
   "metadata": {},
   "outputs": [
    {
     "data": {
      "text/plain": [
       "i    a\n",
       "j    b\n",
       "k    c\n",
       "h    3\n",
       "dtype: object"
      ]
     },
     "execution_count": 68,
     "metadata": {},
     "output_type": "execute_result"
    }
   ],
   "source": [
    "# 인덱스 설정 : Series의 인자로 넣어주는 방법\n",
    "ser2 = pd.Series(['a', 'b', 'c', 3], index=['i','j','k','h'])\n",
    "ser2"
   ]
  },
  {
   "cell_type": "markdown",
   "id": "9b189ba5",
   "metadata": {},
   "source": [
    "- Series가 구조화된 데이터를 표현할 수 있는 이유는 인덱스에 다른 값을 넣을 수 있기 때문이다. Series 객체를 만들 때 인자로 넣어주거나 '='와 같은 할당 연산자(Assignment Operators)를 이용해서 인덱스의 값을 지정할 수 있다."
   ]
  },
  {
   "cell_type": "code",
   "execution_count": 69,
   "id": "67c68e8d",
   "metadata": {},
   "outputs": [
    {
     "data": {
      "text/plain": [
       "Jhon     a\n",
       "Steve    b\n",
       "Jack     c\n",
       "Bob      3\n",
       "dtype: object"
      ]
     },
     "execution_count": 69,
     "metadata": {},
     "output_type": "execute_result"
    }
   ],
   "source": [
    "# 인덱스 설정: 할당 연산자\n",
    "ser2.index = ['Jhon', 'Steve', 'Jack', 'Bob']\n",
    "ser2"
   ]
  },
  {
   "cell_type": "code",
   "execution_count": 70,
   "id": "b34645d3",
   "metadata": {},
   "outputs": [
    {
     "data": {
      "text/plain": [
       "Index(['Jhon', 'Steve', 'Jack', 'Bob'], dtype='object')"
      ]
     },
     "execution_count": 70,
     "metadata": {},
     "output_type": "execute_result"
    }
   ],
   "source": [
    "ser2.index"
   ]
  },
  {
   "cell_type": "markdown",
   "id": "c419e2a2",
   "metadata": {},
   "source": [
    "- index를 조회하면 RangeIndex가 아닌 Index 타입의 객체가 표시된다."
   ]
  },
  {
   "cell_type": "code",
   "execution_count": 71,
   "id": "fca566fb",
   "metadata": {},
   "outputs": [
    {
     "data": {
      "text/plain": [
       "Korea      82\n",
       "America     1\n",
       "Swiss      41\n",
       "Italy      39\n",
       "Japan      81\n",
       "China      86\n",
       "Rusia       7\n",
       "dtype: int64"
      ]
     },
     "execution_count": 71,
     "metadata": {},
     "output_type": "execute_result"
    }
   ],
   "source": [
    "Country_PhoneNumber = {'Korea': 82, 'America': 1, 'Swiss': 41, 'Italy': 39, 'Japan': 81, 'China': 86, 'Rusia': 7}\n",
    "ser3 = pd.Series(Country_PhoneNumber)\n",
    "ser3"
   ]
  },
  {
   "cell_type": "markdown",
   "id": "e0c237d8",
   "metadata": {},
   "source": [
    "- Series에서 인덱스는 기본적으로 정수 형태로 설정되고, 사용자가 원하면 값을 할당할 수 있다. 따라서 파이썬 딕셔너리 타입의 데이터를 Series 객체로 손쉽게 나타낼 수 있다. 파이썬 딕셔너리를 사용해 초기화한 Series에서는 딕셔너리의 키가 인덱스로 설정된다.\n",
    "- Series의 인덱스를 다른 값으로 변경 가능하다는 것은 Series의 인덱스가 list의 인덱스이면서, 딕셔너리의 키와 같은 기능으로 작용할 수 있다는 것을 의미한다. 기본 인덱스인 \"0부터 시작하는 정수 형태\"에서는 리스트와 유사하고, \"값이 할당된\" 인덱스에서는 딕셔너리와 유사하다. 따라서 유연하게 데이터에 접근할 수 있다."
   ]
  },
  {
   "cell_type": "code",
   "execution_count": 72,
   "id": "832cc057",
   "metadata": {},
   "outputs": [
    {
     "data": {
      "text/plain": [
       "82"
      ]
     },
     "execution_count": 72,
     "metadata": {},
     "output_type": "execute_result"
    }
   ],
   "source": [
    "ser3['Korea']"
   ]
  },
  {
   "cell_type": "code",
   "execution_count": 73,
   "id": "862abcc2",
   "metadata": {},
   "outputs": [
    {
     "data": {
      "text/plain": [
       "Italy    39\n",
       "Japan    81\n",
       "China    86\n",
       "Rusia     7\n",
       "dtype: int64"
      ]
     },
     "execution_count": 73,
     "metadata": {},
     "output_type": "execute_result"
    }
   ],
   "source": [
    "ser3['Italy':]"
   ]
  },
  {
   "cell_type": "markdown",
   "id": "6aa1df1e",
   "metadata": {},
   "source": [
    "- 기본 인덱스뿐 아니라 값이 할당된 인덱스 형태에 대해서 슬라이싱(slicing) 기능을 지원하기도 한다."
   ]
  },
  {
   "cell_type": "code",
   "execution_count": 74,
   "id": "83616f08",
   "metadata": {},
   "outputs": [
    {
     "data": {
      "text/plain": [
       "Country_Name\n",
       "Korea      82\n",
       "America     1\n",
       "Swiss      41\n",
       "Italy      39\n",
       "Japan      81\n",
       "China      86\n",
       "Rusia       7\n",
       "Name: Country_PhoneNumber, dtype: int64"
      ]
     },
     "execution_count": 74,
     "metadata": {},
     "output_type": "execute_result"
    }
   ],
   "source": [
    "# Series의 Name\n",
    "ser3.name = 'Country_PhoneNumber'\n",
    "ser3.index.name = 'Country_Name'\n",
    "ser3"
   ]
  },
  {
   "cell_type": "markdown",
   "id": "33276278",
   "metadata": {},
   "source": [
    "- Series의 Name : Series 객체와 Series 인덱스는 모두 name 속성이 있다. 이 속성은 pandas의 DataFrame에서 매우 중요하다. Series 객체의 name 속성을 이용해서 Series 객체의 이름을 설정하고, Series 인덱스의 name 속성을 이용해 인덱스 이름을 설정했다."
   ]
  },
  {
   "cell_type": "markdown",
   "id": "64354c44",
   "metadata": {},
   "source": [
    "## 8-12. 구조화된 데이터와 pandas (2) DataFrame\n",
    "### (2) DataFrame\n",
    "- DataFrame은 표(table)와 같은 자료 구조이다. Series는 한 개의 인덱스 컬럼과 값 컬럼, 딕셔너리는 키 컬럼과 값 컬럼과 같이 2개의 컬럼만 존재하는데 비해, DataFrame은 여러 개의 컬럼을 나타낼 수 있다. 그래서 csv 파일이나 excel 파일을 DataFrame으로 변환하는 경우가 많다."
   ]
  },
  {
   "cell_type": "code",
   "execution_count": 75,
   "id": "4c242b74",
   "metadata": {},
   "outputs": [
    {
     "data": {
      "text/plain": [
       "Region      [Korea, America, Chaina, Canada, Italy]\n",
       "Sales                      [300, 200, 500, 150, 50]\n",
       "Amount                        [90, 80, 100, 30, 10]\n",
       "Employee                         [20, 10, 30, 5, 3]\n",
       "dtype: object"
      ]
     },
     "execution_count": 75,
     "metadata": {},
     "output_type": "execute_result"
    }
   ],
   "source": [
    "# Series로 변환\n",
    "data = {'Region' : ['Korea', 'America', 'Chaina', 'Canada', 'Italy'],\n",
    "        'Sales' : [300, 200, 500, 150, 50],\n",
    "        'Amount' : [90, 80, 100, 30, 10],\n",
    "        'Employee' : [20, 10, 30, 5, 3]\n",
    "        }\n",
    "s = pd.Series(data)\n",
    "s"
   ]
  },
  {
   "cell_type": "code",
   "execution_count": 76,
   "id": "873840cf",
   "metadata": {},
   "outputs": [
    {
     "data": {
      "text/html": [
       "<div>\n",
       "<style scoped>\n",
       "    .dataframe tbody tr th:only-of-type {\n",
       "        vertical-align: middle;\n",
       "    }\n",
       "\n",
       "    .dataframe tbody tr th {\n",
       "        vertical-align: top;\n",
       "    }\n",
       "\n",
       "    .dataframe thead th {\n",
       "        text-align: right;\n",
       "    }\n",
       "</style>\n",
       "<table border=\"1\" class=\"dataframe\">\n",
       "  <thead>\n",
       "    <tr style=\"text-align: right;\">\n",
       "      <th></th>\n",
       "      <th>Region</th>\n",
       "      <th>Sales</th>\n",
       "      <th>Amount</th>\n",
       "      <th>Employee</th>\n",
       "    </tr>\n",
       "  </thead>\n",
       "  <tbody>\n",
       "    <tr>\n",
       "      <th>0</th>\n",
       "      <td>Korea</td>\n",
       "      <td>300</td>\n",
       "      <td>90</td>\n",
       "      <td>20</td>\n",
       "    </tr>\n",
       "    <tr>\n",
       "      <th>1</th>\n",
       "      <td>America</td>\n",
       "      <td>200</td>\n",
       "      <td>80</td>\n",
       "      <td>10</td>\n",
       "    </tr>\n",
       "    <tr>\n",
       "      <th>2</th>\n",
       "      <td>Chaina</td>\n",
       "      <td>500</td>\n",
       "      <td>100</td>\n",
       "      <td>30</td>\n",
       "    </tr>\n",
       "    <tr>\n",
       "      <th>3</th>\n",
       "      <td>Canada</td>\n",
       "      <td>150</td>\n",
       "      <td>30</td>\n",
       "      <td>5</td>\n",
       "    </tr>\n",
       "    <tr>\n",
       "      <th>4</th>\n",
       "      <td>Italy</td>\n",
       "      <td>50</td>\n",
       "      <td>10</td>\n",
       "      <td>3</td>\n",
       "    </tr>\n",
       "  </tbody>\n",
       "</table>\n",
       "</div>"
      ],
      "text/plain": [
       "    Region  Sales  Amount  Employee\n",
       "0    Korea    300      90        20\n",
       "1  America    200      80        10\n",
       "2   Chaina    500     100        30\n",
       "3   Canada    150      30         5\n",
       "4    Italy     50      10         3"
      ]
     },
     "execution_count": 76,
     "metadata": {},
     "output_type": "execute_result"
    }
   ],
   "source": [
    "# DataFrame으로 변환\n",
    "d = pd.DataFrame(data)\n",
    "d"
   ]
  },
  {
   "cell_type": "markdown",
   "id": "c5a7f6c2",
   "metadata": {},
   "source": [
    "- Series와 DataFrame을 비교\n",
    " - Series는 기본적으로 인덱스 외 한 개의 값 칼럼만을 가질 수 있고 그 칼럼의 데이터가 많더라도 배열 형태로 표현된다.\n",
    " - 반면 DataFrame은 인덱스 칼럼 외에도 여러 개의 칼럼을 가질 수 있다. 따라서 Index와 Column Index도 설정할 수 있다.\n",
    " - 참고 : eries의 name은 DataFrame의 Column 명이다."
   ]
  },
  {
   "cell_type": "code",
   "execution_count": 77,
   "id": "676b5689",
   "metadata": {},
   "outputs": [
    {
     "data": {
      "text/plain": [
       "Index(['Region', 'Sales', 'Amount', 'Employee'], dtype='object')"
      ]
     },
     "execution_count": 77,
     "metadata": {},
     "output_type": "execute_result"
    }
   ],
   "source": [
    "d.columns"
   ]
  },
  {
   "cell_type": "code",
   "execution_count": 78,
   "id": "3cdc5046",
   "metadata": {},
   "outputs": [
    {
     "data": {
      "text/plain": [
       "RangeIndex(start=0, stop=5, step=1)"
      ]
     },
     "execution_count": 78,
     "metadata": {},
     "output_type": "execute_result"
    }
   ],
   "source": [
    "d.index"
   ]
  },
  {
   "cell_type": "code",
   "execution_count": 79,
   "id": "fb8a67f3",
   "metadata": {},
   "outputs": [
    {
     "data": {
      "text/html": [
       "<div>\n",
       "<style scoped>\n",
       "    .dataframe tbody tr th:only-of-type {\n",
       "        vertical-align: middle;\n",
       "    }\n",
       "\n",
       "    .dataframe tbody tr th {\n",
       "        vertical-align: top;\n",
       "    }\n",
       "\n",
       "    .dataframe thead th {\n",
       "        text-align: right;\n",
       "    }\n",
       "</style>\n",
       "<table border=\"1\" class=\"dataframe\">\n",
       "  <thead>\n",
       "    <tr style=\"text-align: right;\">\n",
       "      <th></th>\n",
       "      <th>a</th>\n",
       "      <th>b</th>\n",
       "      <th>c</th>\n",
       "      <th>d</th>\n",
       "    </tr>\n",
       "  </thead>\n",
       "  <tbody>\n",
       "    <tr>\n",
       "      <th>one</th>\n",
       "      <td>Korea</td>\n",
       "      <td>300</td>\n",
       "      <td>90</td>\n",
       "      <td>20</td>\n",
       "    </tr>\n",
       "    <tr>\n",
       "      <th>two</th>\n",
       "      <td>America</td>\n",
       "      <td>200</td>\n",
       "      <td>80</td>\n",
       "      <td>10</td>\n",
       "    </tr>\n",
       "    <tr>\n",
       "      <th>three</th>\n",
       "      <td>Chaina</td>\n",
       "      <td>500</td>\n",
       "      <td>100</td>\n",
       "      <td>30</td>\n",
       "    </tr>\n",
       "    <tr>\n",
       "      <th>four</th>\n",
       "      <td>Canada</td>\n",
       "      <td>150</td>\n",
       "      <td>30</td>\n",
       "      <td>5</td>\n",
       "    </tr>\n",
       "    <tr>\n",
       "      <th>five</th>\n",
       "      <td>Italy</td>\n",
       "      <td>50</td>\n",
       "      <td>10</td>\n",
       "      <td>3</td>\n",
       "    </tr>\n",
       "  </tbody>\n",
       "</table>\n",
       "</div>"
      ],
      "text/plain": [
       "             a    b    c   d\n",
       "one      Korea  300   90  20\n",
       "two    America  200   80  10\n",
       "three   Chaina  500  100  30\n",
       "four    Canada  150   30   5\n",
       "five     Italy   50   10   3"
      ]
     },
     "execution_count": 79,
     "metadata": {},
     "output_type": "execute_result"
    }
   ],
   "source": [
    "d.index=['one','two','three','four','five']\n",
    "d.columns = ['a','b','c','d']\n",
    "d"
   ]
  },
  {
   "cell_type": "markdown",
   "id": "1ad6c73a",
   "metadata": {},
   "source": [
    "#### 구조화된 데이터의 표현법\n",
    "![구조화된 데이터 표현법](https://user-images.githubusercontent.com/116326867/225980189-21f47298-81bb-4869-856a-410599996e0b.png)"
   ]
  },
  {
   "cell_type": "markdown",
   "id": "deda7cac",
   "metadata": {},
   "source": [
    "## 8-13. pandas와 함께 EDA 시작하기\n",
    "- 데이터 분석에 있어서 첫 번째 단계는 데이터를 먼저 훑어보는 것이다. 전문 용어로는 EDA(Exploratory Data Analysis), 우리말로는 '데이터를 탐색'한다고 표현한다.\n",
    "- Pandas 라이브러리는 수학 메서드와 통계 메서드를 기본적으로 가지고 있다. 통계 데이터를 활용해서 데이터의 대푯값과 분산을 구하는 것은 EDA의 기본이라고 할 수 있다."
   ]
  },
  {
   "cell_type": "markdown",
   "id": "c02e583d",
   "metadata": {},
   "source": [
    "#### 데이터셋 - COVID19\n",
    "- 이탈리아 코로나바이러스 현황 데이터를 가지고 간단한 EDA를 연습하기\n",
    " - 데이터셋 : [covid19-italy-region.csv](https://drive.google.com/file/d/1P5q6rykRYH-dUTNP3o2xgTdqT_A5eYvS/view?usp=share_link)\n",
    " - 출처 : [캐글 COVID-19 in Italy](https://www.kaggle.com/datasets/sudalairajkumar/covid19-in-italy)"
   ]
  },
  {
   "cell_type": "code",
   "execution_count": 80,
   "id": "b8cefb9f",
   "metadata": {},
   "outputs": [],
   "source": [
    "!mkdir -p ~/aiffel/data_represent/data\n",
    "!ln -s ~/data/covid19_italy_region.csv  ~/aiffel/data_represent/data"
   ]
  },
  {
   "cell_type": "code",
   "execution_count": 81,
   "id": "0e8aa9e5",
   "metadata": {},
   "outputs": [
    {
     "data": {
      "text/plain": [
       "pandas.core.frame.DataFrame"
      ]
     },
     "execution_count": 81,
     "metadata": {},
     "output_type": "execute_result"
    }
   ],
   "source": [
    "# CSV 파일 읽기\n",
    "import pandas as pd\n",
    "import os\n",
    "\n",
    "csv_path = os.getenv(\"HOME\") + \"/aiffel/data_represent/data/covid19_italy_region.csv\"\n",
    "data = pd.read_csv(csv_path)\n",
    "type(data)"
   ]
  },
  {
   "cell_type": "markdown",
   "id": "b1fc6b57",
   "metadata": {},
   "source": [
    "- csv 파일을 DataFrame 객체로 읽는다.\n",
    "- type()으로 확인해 보면 자료형은 DataFrame이다."
   ]
  },
  {
   "cell_type": "code",
   "execution_count": 82,
   "id": "c5921dd8",
   "metadata": {},
   "outputs": [
    {
     "data": {
      "text/html": [
       "<div>\n",
       "<style scoped>\n",
       "    .dataframe tbody tr th:only-of-type {\n",
       "        vertical-align: middle;\n",
       "    }\n",
       "\n",
       "    .dataframe tbody tr th {\n",
       "        vertical-align: top;\n",
       "    }\n",
       "\n",
       "    .dataframe thead th {\n",
       "        text-align: right;\n",
       "    }\n",
       "</style>\n",
       "<table border=\"1\" class=\"dataframe\">\n",
       "  <thead>\n",
       "    <tr style=\"text-align: right;\">\n",
       "      <th></th>\n",
       "      <th>SNo</th>\n",
       "      <th>Date</th>\n",
       "      <th>Country</th>\n",
       "      <th>RegionCode</th>\n",
       "      <th>RegionName</th>\n",
       "      <th>Latitude</th>\n",
       "      <th>Longitude</th>\n",
       "      <th>HospitalizedPatients</th>\n",
       "      <th>IntensiveCarePatients</th>\n",
       "      <th>TotalHospitalizedPatients</th>\n",
       "      <th>HomeConfinement</th>\n",
       "      <th>CurrentPositiveCases</th>\n",
       "      <th>NewPositiveCases</th>\n",
       "      <th>Recovered</th>\n",
       "      <th>Deaths</th>\n",
       "      <th>TotalPositiveCases</th>\n",
       "      <th>TestsPerformed</th>\n",
       "    </tr>\n",
       "  </thead>\n",
       "  <tbody>\n",
       "    <tr>\n",
       "      <th>0</th>\n",
       "      <td>0</td>\n",
       "      <td>2020-02-24T18:00:00</td>\n",
       "      <td>ITA</td>\n",
       "      <td>13</td>\n",
       "      <td>Abruzzo</td>\n",
       "      <td>42.351222</td>\n",
       "      <td>13.398438</td>\n",
       "      <td>0</td>\n",
       "      <td>0</td>\n",
       "      <td>0</td>\n",
       "      <td>0</td>\n",
       "      <td>0</td>\n",
       "      <td>0</td>\n",
       "      <td>0</td>\n",
       "      <td>0</td>\n",
       "      <td>0</td>\n",
       "      <td>5</td>\n",
       "    </tr>\n",
       "    <tr>\n",
       "      <th>1</th>\n",
       "      <td>1</td>\n",
       "      <td>2020-02-24T18:00:00</td>\n",
       "      <td>ITA</td>\n",
       "      <td>17</td>\n",
       "      <td>Basilicata</td>\n",
       "      <td>40.639471</td>\n",
       "      <td>15.805148</td>\n",
       "      <td>0</td>\n",
       "      <td>0</td>\n",
       "      <td>0</td>\n",
       "      <td>0</td>\n",
       "      <td>0</td>\n",
       "      <td>0</td>\n",
       "      <td>0</td>\n",
       "      <td>0</td>\n",
       "      <td>0</td>\n",
       "      <td>0</td>\n",
       "    </tr>\n",
       "    <tr>\n",
       "      <th>2</th>\n",
       "      <td>2</td>\n",
       "      <td>2020-02-24T18:00:00</td>\n",
       "      <td>ITA</td>\n",
       "      <td>4</td>\n",
       "      <td>P.A. Bolzano</td>\n",
       "      <td>46.499335</td>\n",
       "      <td>11.356624</td>\n",
       "      <td>0</td>\n",
       "      <td>0</td>\n",
       "      <td>0</td>\n",
       "      <td>0</td>\n",
       "      <td>0</td>\n",
       "      <td>0</td>\n",
       "      <td>0</td>\n",
       "      <td>0</td>\n",
       "      <td>0</td>\n",
       "      <td>1</td>\n",
       "    </tr>\n",
       "    <tr>\n",
       "      <th>3</th>\n",
       "      <td>3</td>\n",
       "      <td>2020-02-24T18:00:00</td>\n",
       "      <td>ITA</td>\n",
       "      <td>18</td>\n",
       "      <td>Calabria</td>\n",
       "      <td>38.905976</td>\n",
       "      <td>16.594402</td>\n",
       "      <td>0</td>\n",
       "      <td>0</td>\n",
       "      <td>0</td>\n",
       "      <td>0</td>\n",
       "      <td>0</td>\n",
       "      <td>0</td>\n",
       "      <td>0</td>\n",
       "      <td>0</td>\n",
       "      <td>0</td>\n",
       "      <td>1</td>\n",
       "    </tr>\n",
       "    <tr>\n",
       "      <th>4</th>\n",
       "      <td>4</td>\n",
       "      <td>2020-02-24T18:00:00</td>\n",
       "      <td>ITA</td>\n",
       "      <td>15</td>\n",
       "      <td>Campania</td>\n",
       "      <td>40.839566</td>\n",
       "      <td>14.250850</td>\n",
       "      <td>0</td>\n",
       "      <td>0</td>\n",
       "      <td>0</td>\n",
       "      <td>0</td>\n",
       "      <td>0</td>\n",
       "      <td>0</td>\n",
       "      <td>0</td>\n",
       "      <td>0</td>\n",
       "      <td>0</td>\n",
       "      <td>10</td>\n",
       "    </tr>\n",
       "    <tr>\n",
       "      <th>...</th>\n",
       "      <td>...</td>\n",
       "      <td>...</td>\n",
       "      <td>...</td>\n",
       "      <td>...</td>\n",
       "      <td>...</td>\n",
       "      <td>...</td>\n",
       "      <td>...</td>\n",
       "      <td>...</td>\n",
       "      <td>...</td>\n",
       "      <td>...</td>\n",
       "      <td>...</td>\n",
       "      <td>...</td>\n",
       "      <td>...</td>\n",
       "      <td>...</td>\n",
       "      <td>...</td>\n",
       "      <td>...</td>\n",
       "      <td>...</td>\n",
       "    </tr>\n",
       "    <tr>\n",
       "      <th>793</th>\n",
       "      <td>793</td>\n",
       "      <td>2020-04-01T17:00:00</td>\n",
       "      <td>ITA</td>\n",
       "      <td>9</td>\n",
       "      <td>Toscana</td>\n",
       "      <td>43.769231</td>\n",
       "      <td>11.255889</td>\n",
       "      <td>1120</td>\n",
       "      <td>297</td>\n",
       "      <td>1417</td>\n",
       "      <td>3015</td>\n",
       "      <td>4432</td>\n",
       "      <td>259</td>\n",
       "      <td>182</td>\n",
       "      <td>253</td>\n",
       "      <td>4867</td>\n",
       "      <td>36575</td>\n",
       "    </tr>\n",
       "    <tr>\n",
       "      <th>794</th>\n",
       "      <td>794</td>\n",
       "      <td>2020-04-01T17:00:00</td>\n",
       "      <td>ITA</td>\n",
       "      <td>4</td>\n",
       "      <td>P.A. Trento</td>\n",
       "      <td>46.068935</td>\n",
       "      <td>11.121231</td>\n",
       "      <td>345</td>\n",
       "      <td>76</td>\n",
       "      <td>421</td>\n",
       "      <td>1062</td>\n",
       "      <td>1483</td>\n",
       "      <td>124</td>\n",
       "      <td>214</td>\n",
       "      <td>173</td>\n",
       "      <td>1870</td>\n",
       "      <td>7675</td>\n",
       "    </tr>\n",
       "    <tr>\n",
       "      <th>795</th>\n",
       "      <td>795</td>\n",
       "      <td>2020-04-01T17:00:00</td>\n",
       "      <td>ITA</td>\n",
       "      <td>10</td>\n",
       "      <td>Umbria</td>\n",
       "      <td>43.106758</td>\n",
       "      <td>12.388247</td>\n",
       "      <td>173</td>\n",
       "      <td>45</td>\n",
       "      <td>218</td>\n",
       "      <td>646</td>\n",
       "      <td>864</td>\n",
       "      <td>17</td>\n",
       "      <td>194</td>\n",
       "      <td>37</td>\n",
       "      <td>1095</td>\n",
       "      <td>9080</td>\n",
       "    </tr>\n",
       "    <tr>\n",
       "      <th>796</th>\n",
       "      <td>796</td>\n",
       "      <td>2020-04-01T17:00:00</td>\n",
       "      <td>ITA</td>\n",
       "      <td>2</td>\n",
       "      <td>Valle d'Aosta</td>\n",
       "      <td>45.737503</td>\n",
       "      <td>7.320149</td>\n",
       "      <td>85</td>\n",
       "      <td>27</td>\n",
       "      <td>112</td>\n",
       "      <td>428</td>\n",
       "      <td>540</td>\n",
       "      <td>3</td>\n",
       "      <td>32</td>\n",
       "      <td>59</td>\n",
       "      <td>631</td>\n",
       "      <td>1717</td>\n",
       "    </tr>\n",
       "    <tr>\n",
       "      <th>797</th>\n",
       "      <td>797</td>\n",
       "      <td>2020-04-01T17:00:00</td>\n",
       "      <td>ITA</td>\n",
       "      <td>5</td>\n",
       "      <td>Veneto</td>\n",
       "      <td>45.434905</td>\n",
       "      <td>12.338452</td>\n",
       "      <td>1718</td>\n",
       "      <td>350</td>\n",
       "      <td>2068</td>\n",
       "      <td>6156</td>\n",
       "      <td>8224</td>\n",
       "      <td>470</td>\n",
       "      <td>902</td>\n",
       "      <td>499</td>\n",
       "      <td>9625</td>\n",
       "      <td>112746</td>\n",
       "    </tr>\n",
       "  </tbody>\n",
       "</table>\n",
       "<p>798 rows × 17 columns</p>\n",
       "</div>"
      ],
      "text/plain": [
       "     SNo                 Date Country  RegionCode     RegionName   Latitude  \\\n",
       "0      0  2020-02-24T18:00:00     ITA          13        Abruzzo  42.351222   \n",
       "1      1  2020-02-24T18:00:00     ITA          17     Basilicata  40.639471   \n",
       "2      2  2020-02-24T18:00:00     ITA           4   P.A. Bolzano  46.499335   \n",
       "3      3  2020-02-24T18:00:00     ITA          18       Calabria  38.905976   \n",
       "4      4  2020-02-24T18:00:00     ITA          15       Campania  40.839566   \n",
       "..   ...                  ...     ...         ...            ...        ...   \n",
       "793  793  2020-04-01T17:00:00     ITA           9        Toscana  43.769231   \n",
       "794  794  2020-04-01T17:00:00     ITA           4    P.A. Trento  46.068935   \n",
       "795  795  2020-04-01T17:00:00     ITA          10         Umbria  43.106758   \n",
       "796  796  2020-04-01T17:00:00     ITA           2  Valle d'Aosta  45.737503   \n",
       "797  797  2020-04-01T17:00:00     ITA           5         Veneto  45.434905   \n",
       "\n",
       "     Longitude  HospitalizedPatients  IntensiveCarePatients  \\\n",
       "0    13.398438                     0                      0   \n",
       "1    15.805148                     0                      0   \n",
       "2    11.356624                     0                      0   \n",
       "3    16.594402                     0                      0   \n",
       "4    14.250850                     0                      0   \n",
       "..         ...                   ...                    ...   \n",
       "793  11.255889                  1120                    297   \n",
       "794  11.121231                   345                     76   \n",
       "795  12.388247                   173                     45   \n",
       "796   7.320149                    85                     27   \n",
       "797  12.338452                  1718                    350   \n",
       "\n",
       "     TotalHospitalizedPatients  HomeConfinement  CurrentPositiveCases  \\\n",
       "0                            0                0                     0   \n",
       "1                            0                0                     0   \n",
       "2                            0                0                     0   \n",
       "3                            0                0                     0   \n",
       "4                            0                0                     0   \n",
       "..                         ...              ...                   ...   \n",
       "793                       1417             3015                  4432   \n",
       "794                        421             1062                  1483   \n",
       "795                        218              646                   864   \n",
       "796                        112              428                   540   \n",
       "797                       2068             6156                  8224   \n",
       "\n",
       "     NewPositiveCases  Recovered  Deaths  TotalPositiveCases  TestsPerformed  \n",
       "0                   0          0       0                   0               5  \n",
       "1                   0          0       0                   0               0  \n",
       "2                   0          0       0                   0               1  \n",
       "3                   0          0       0                   0               1  \n",
       "4                   0          0       0                   0              10  \n",
       "..                ...        ...     ...                 ...             ...  \n",
       "793               259        182     253                4867           36575  \n",
       "794               124        214     173                1870            7675  \n",
       "795                17        194      37                1095            9080  \n",
       "796                 3         32      59                 631            1717  \n",
       "797               470        902     499                9625          112746  \n",
       "\n",
       "[798 rows x 17 columns]"
      ]
     },
     "execution_count": 82,
     "metadata": {},
     "output_type": "execute_result"
    }
   ],
   "source": [
    "data"
   ]
  },
  {
   "cell_type": "code",
   "execution_count": 83,
   "id": "3645f6c8",
   "metadata": {},
   "outputs": [
    {
     "data": {
      "text/html": [
       "<div>\n",
       "<style scoped>\n",
       "    .dataframe tbody tr th:only-of-type {\n",
       "        vertical-align: middle;\n",
       "    }\n",
       "\n",
       "    .dataframe tbody tr th {\n",
       "        vertical-align: top;\n",
       "    }\n",
       "\n",
       "    .dataframe thead th {\n",
       "        text-align: right;\n",
       "    }\n",
       "</style>\n",
       "<table border=\"1\" class=\"dataframe\">\n",
       "  <thead>\n",
       "    <tr style=\"text-align: right;\">\n",
       "      <th></th>\n",
       "      <th>SNo</th>\n",
       "      <th>Date</th>\n",
       "      <th>Country</th>\n",
       "      <th>RegionCode</th>\n",
       "      <th>RegionName</th>\n",
       "      <th>Latitude</th>\n",
       "      <th>Longitude</th>\n",
       "      <th>HospitalizedPatients</th>\n",
       "      <th>IntensiveCarePatients</th>\n",
       "      <th>TotalHospitalizedPatients</th>\n",
       "      <th>HomeConfinement</th>\n",
       "      <th>CurrentPositiveCases</th>\n",
       "      <th>NewPositiveCases</th>\n",
       "      <th>Recovered</th>\n",
       "      <th>Deaths</th>\n",
       "      <th>TotalPositiveCases</th>\n",
       "      <th>TestsPerformed</th>\n",
       "    </tr>\n",
       "  </thead>\n",
       "  <tbody>\n",
       "    <tr>\n",
       "      <th>0</th>\n",
       "      <td>0</td>\n",
       "      <td>2020-02-24T18:00:00</td>\n",
       "      <td>ITA</td>\n",
       "      <td>13</td>\n",
       "      <td>Abruzzo</td>\n",
       "      <td>42.351222</td>\n",
       "      <td>13.398438</td>\n",
       "      <td>0</td>\n",
       "      <td>0</td>\n",
       "      <td>0</td>\n",
       "      <td>0</td>\n",
       "      <td>0</td>\n",
       "      <td>0</td>\n",
       "      <td>0</td>\n",
       "      <td>0</td>\n",
       "      <td>0</td>\n",
       "      <td>5</td>\n",
       "    </tr>\n",
       "    <tr>\n",
       "      <th>1</th>\n",
       "      <td>1</td>\n",
       "      <td>2020-02-24T18:00:00</td>\n",
       "      <td>ITA</td>\n",
       "      <td>17</td>\n",
       "      <td>Basilicata</td>\n",
       "      <td>40.639471</td>\n",
       "      <td>15.805148</td>\n",
       "      <td>0</td>\n",
       "      <td>0</td>\n",
       "      <td>0</td>\n",
       "      <td>0</td>\n",
       "      <td>0</td>\n",
       "      <td>0</td>\n",
       "      <td>0</td>\n",
       "      <td>0</td>\n",
       "      <td>0</td>\n",
       "      <td>0</td>\n",
       "    </tr>\n",
       "    <tr>\n",
       "      <th>2</th>\n",
       "      <td>2</td>\n",
       "      <td>2020-02-24T18:00:00</td>\n",
       "      <td>ITA</td>\n",
       "      <td>4</td>\n",
       "      <td>P.A. Bolzano</td>\n",
       "      <td>46.499335</td>\n",
       "      <td>11.356624</td>\n",
       "      <td>0</td>\n",
       "      <td>0</td>\n",
       "      <td>0</td>\n",
       "      <td>0</td>\n",
       "      <td>0</td>\n",
       "      <td>0</td>\n",
       "      <td>0</td>\n",
       "      <td>0</td>\n",
       "      <td>0</td>\n",
       "      <td>1</td>\n",
       "    </tr>\n",
       "    <tr>\n",
       "      <th>3</th>\n",
       "      <td>3</td>\n",
       "      <td>2020-02-24T18:00:00</td>\n",
       "      <td>ITA</td>\n",
       "      <td>18</td>\n",
       "      <td>Calabria</td>\n",
       "      <td>38.905976</td>\n",
       "      <td>16.594402</td>\n",
       "      <td>0</td>\n",
       "      <td>0</td>\n",
       "      <td>0</td>\n",
       "      <td>0</td>\n",
       "      <td>0</td>\n",
       "      <td>0</td>\n",
       "      <td>0</td>\n",
       "      <td>0</td>\n",
       "      <td>0</td>\n",
       "      <td>1</td>\n",
       "    </tr>\n",
       "    <tr>\n",
       "      <th>4</th>\n",
       "      <td>4</td>\n",
       "      <td>2020-02-24T18:00:00</td>\n",
       "      <td>ITA</td>\n",
       "      <td>15</td>\n",
       "      <td>Campania</td>\n",
       "      <td>40.839566</td>\n",
       "      <td>14.250850</td>\n",
       "      <td>0</td>\n",
       "      <td>0</td>\n",
       "      <td>0</td>\n",
       "      <td>0</td>\n",
       "      <td>0</td>\n",
       "      <td>0</td>\n",
       "      <td>0</td>\n",
       "      <td>0</td>\n",
       "      <td>0</td>\n",
       "      <td>10</td>\n",
       "    </tr>\n",
       "  </tbody>\n",
       "</table>\n",
       "</div>"
      ],
      "text/plain": [
       "   SNo                 Date Country  RegionCode    RegionName   Latitude  \\\n",
       "0    0  2020-02-24T18:00:00     ITA          13       Abruzzo  42.351222   \n",
       "1    1  2020-02-24T18:00:00     ITA          17    Basilicata  40.639471   \n",
       "2    2  2020-02-24T18:00:00     ITA           4  P.A. Bolzano  46.499335   \n",
       "3    3  2020-02-24T18:00:00     ITA          18      Calabria  38.905976   \n",
       "4    4  2020-02-24T18:00:00     ITA          15      Campania  40.839566   \n",
       "\n",
       "   Longitude  HospitalizedPatients  IntensiveCarePatients  \\\n",
       "0  13.398438                     0                      0   \n",
       "1  15.805148                     0                      0   \n",
       "2  11.356624                     0                      0   \n",
       "3  16.594402                     0                      0   \n",
       "4  14.250850                     0                      0   \n",
       "\n",
       "   TotalHospitalizedPatients  HomeConfinement  CurrentPositiveCases  \\\n",
       "0                          0                0                     0   \n",
       "1                          0                0                     0   \n",
       "2                          0                0                     0   \n",
       "3                          0                0                     0   \n",
       "4                          0                0                     0   \n",
       "\n",
       "   NewPositiveCases  Recovered  Deaths  TotalPositiveCases  TestsPerformed  \n",
       "0                 0          0       0                   0               5  \n",
       "1                 0          0       0                   0               0  \n",
       "2                 0          0       0                   0               1  \n",
       "3                 0          0       0                   0               1  \n",
       "4                 0          0       0                   0              10  "
      ]
     },
     "execution_count": 83,
     "metadata": {},
     "output_type": "execute_result"
    }
   ],
   "source": [
    "data.head()"
   ]
  },
  {
   "cell_type": "code",
   "execution_count": 85,
   "id": "0e2c2659",
   "metadata": {},
   "outputs": [
    {
     "data": {
      "text/html": [
       "<div>\n",
       "<style scoped>\n",
       "    .dataframe tbody tr th:only-of-type {\n",
       "        vertical-align: middle;\n",
       "    }\n",
       "\n",
       "    .dataframe tbody tr th {\n",
       "        vertical-align: top;\n",
       "    }\n",
       "\n",
       "    .dataframe thead th {\n",
       "        text-align: right;\n",
       "    }\n",
       "</style>\n",
       "<table border=\"1\" class=\"dataframe\">\n",
       "  <thead>\n",
       "    <tr style=\"text-align: right;\">\n",
       "      <th></th>\n",
       "      <th>SNo</th>\n",
       "      <th>Date</th>\n",
       "      <th>Country</th>\n",
       "      <th>RegionCode</th>\n",
       "      <th>RegionName</th>\n",
       "      <th>Latitude</th>\n",
       "      <th>Longitude</th>\n",
       "      <th>HospitalizedPatients</th>\n",
       "      <th>IntensiveCarePatients</th>\n",
       "      <th>TotalHospitalizedPatients</th>\n",
       "      <th>HomeConfinement</th>\n",
       "      <th>CurrentPositiveCases</th>\n",
       "      <th>NewPositiveCases</th>\n",
       "      <th>Recovered</th>\n",
       "      <th>Deaths</th>\n",
       "      <th>TotalPositiveCases</th>\n",
       "      <th>TestsPerformed</th>\n",
       "    </tr>\n",
       "  </thead>\n",
       "  <tbody>\n",
       "    <tr>\n",
       "      <th>0</th>\n",
       "      <td>0</td>\n",
       "      <td>2020-02-24T18:00:00</td>\n",
       "      <td>ITA</td>\n",
       "      <td>13</td>\n",
       "      <td>Abruzzo</td>\n",
       "      <td>42.351222</td>\n",
       "      <td>13.398438</td>\n",
       "      <td>0</td>\n",
       "      <td>0</td>\n",
       "      <td>0</td>\n",
       "      <td>0</td>\n",
       "      <td>0</td>\n",
       "      <td>0</td>\n",
       "      <td>0</td>\n",
       "      <td>0</td>\n",
       "      <td>0</td>\n",
       "      <td>5</td>\n",
       "    </tr>\n",
       "    <tr>\n",
       "      <th>1</th>\n",
       "      <td>1</td>\n",
       "      <td>2020-02-24T18:00:00</td>\n",
       "      <td>ITA</td>\n",
       "      <td>17</td>\n",
       "      <td>Basilicata</td>\n",
       "      <td>40.639471</td>\n",
       "      <td>15.805148</td>\n",
       "      <td>0</td>\n",
       "      <td>0</td>\n",
       "      <td>0</td>\n",
       "      <td>0</td>\n",
       "      <td>0</td>\n",
       "      <td>0</td>\n",
       "      <td>0</td>\n",
       "      <td>0</td>\n",
       "      <td>0</td>\n",
       "      <td>0</td>\n",
       "    </tr>\n",
       "    <tr>\n",
       "      <th>2</th>\n",
       "      <td>2</td>\n",
       "      <td>2020-02-24T18:00:00</td>\n",
       "      <td>ITA</td>\n",
       "      <td>4</td>\n",
       "      <td>P.A. Bolzano</td>\n",
       "      <td>46.499335</td>\n",
       "      <td>11.356624</td>\n",
       "      <td>0</td>\n",
       "      <td>0</td>\n",
       "      <td>0</td>\n",
       "      <td>0</td>\n",
       "      <td>0</td>\n",
       "      <td>0</td>\n",
       "      <td>0</td>\n",
       "      <td>0</td>\n",
       "      <td>0</td>\n",
       "      <td>1</td>\n",
       "    </tr>\n",
       "  </tbody>\n",
       "</table>\n",
       "</div>"
      ],
      "text/plain": [
       "   SNo                 Date Country  RegionCode    RegionName   Latitude  \\\n",
       "0    0  2020-02-24T18:00:00     ITA          13       Abruzzo  42.351222   \n",
       "1    1  2020-02-24T18:00:00     ITA          17    Basilicata  40.639471   \n",
       "2    2  2020-02-24T18:00:00     ITA           4  P.A. Bolzano  46.499335   \n",
       "\n",
       "   Longitude  HospitalizedPatients  IntensiveCarePatients  \\\n",
       "0  13.398438                     0                      0   \n",
       "1  15.805148                     0                      0   \n",
       "2  11.356624                     0                      0   \n",
       "\n",
       "   TotalHospitalizedPatients  HomeConfinement  CurrentPositiveCases  \\\n",
       "0                          0                0                     0   \n",
       "1                          0                0                     0   \n",
       "2                          0                0                     0   \n",
       "\n",
       "   NewPositiveCases  Recovered  Deaths  TotalPositiveCases  TestsPerformed  \n",
       "0                 0          0       0                   0               5  \n",
       "1                 0          0       0                   0               0  \n",
       "2                 0          0       0                   0               1  "
      ]
     },
     "execution_count": 85,
     "metadata": {},
     "output_type": "execute_result"
    }
   ],
   "source": [
    "data.head(3)"
   ]
  },
  {
   "cell_type": "code",
   "execution_count": 84,
   "id": "f2a34611",
   "metadata": {},
   "outputs": [
    {
     "data": {
      "text/html": [
       "<div>\n",
       "<style scoped>\n",
       "    .dataframe tbody tr th:only-of-type {\n",
       "        vertical-align: middle;\n",
       "    }\n",
       "\n",
       "    .dataframe tbody tr th {\n",
       "        vertical-align: top;\n",
       "    }\n",
       "\n",
       "    .dataframe thead th {\n",
       "        text-align: right;\n",
       "    }\n",
       "</style>\n",
       "<table border=\"1\" class=\"dataframe\">\n",
       "  <thead>\n",
       "    <tr style=\"text-align: right;\">\n",
       "      <th></th>\n",
       "      <th>SNo</th>\n",
       "      <th>Date</th>\n",
       "      <th>Country</th>\n",
       "      <th>RegionCode</th>\n",
       "      <th>RegionName</th>\n",
       "      <th>Latitude</th>\n",
       "      <th>Longitude</th>\n",
       "      <th>HospitalizedPatients</th>\n",
       "      <th>IntensiveCarePatients</th>\n",
       "      <th>TotalHospitalizedPatients</th>\n",
       "      <th>HomeConfinement</th>\n",
       "      <th>CurrentPositiveCases</th>\n",
       "      <th>NewPositiveCases</th>\n",
       "      <th>Recovered</th>\n",
       "      <th>Deaths</th>\n",
       "      <th>TotalPositiveCases</th>\n",
       "      <th>TestsPerformed</th>\n",
       "    </tr>\n",
       "  </thead>\n",
       "  <tbody>\n",
       "    <tr>\n",
       "      <th>793</th>\n",
       "      <td>793</td>\n",
       "      <td>2020-04-01T17:00:00</td>\n",
       "      <td>ITA</td>\n",
       "      <td>9</td>\n",
       "      <td>Toscana</td>\n",
       "      <td>43.769231</td>\n",
       "      <td>11.255889</td>\n",
       "      <td>1120</td>\n",
       "      <td>297</td>\n",
       "      <td>1417</td>\n",
       "      <td>3015</td>\n",
       "      <td>4432</td>\n",
       "      <td>259</td>\n",
       "      <td>182</td>\n",
       "      <td>253</td>\n",
       "      <td>4867</td>\n",
       "      <td>36575</td>\n",
       "    </tr>\n",
       "    <tr>\n",
       "      <th>794</th>\n",
       "      <td>794</td>\n",
       "      <td>2020-04-01T17:00:00</td>\n",
       "      <td>ITA</td>\n",
       "      <td>4</td>\n",
       "      <td>P.A. Trento</td>\n",
       "      <td>46.068935</td>\n",
       "      <td>11.121231</td>\n",
       "      <td>345</td>\n",
       "      <td>76</td>\n",
       "      <td>421</td>\n",
       "      <td>1062</td>\n",
       "      <td>1483</td>\n",
       "      <td>124</td>\n",
       "      <td>214</td>\n",
       "      <td>173</td>\n",
       "      <td>1870</td>\n",
       "      <td>7675</td>\n",
       "    </tr>\n",
       "    <tr>\n",
       "      <th>795</th>\n",
       "      <td>795</td>\n",
       "      <td>2020-04-01T17:00:00</td>\n",
       "      <td>ITA</td>\n",
       "      <td>10</td>\n",
       "      <td>Umbria</td>\n",
       "      <td>43.106758</td>\n",
       "      <td>12.388247</td>\n",
       "      <td>173</td>\n",
       "      <td>45</td>\n",
       "      <td>218</td>\n",
       "      <td>646</td>\n",
       "      <td>864</td>\n",
       "      <td>17</td>\n",
       "      <td>194</td>\n",
       "      <td>37</td>\n",
       "      <td>1095</td>\n",
       "      <td>9080</td>\n",
       "    </tr>\n",
       "    <tr>\n",
       "      <th>796</th>\n",
       "      <td>796</td>\n",
       "      <td>2020-04-01T17:00:00</td>\n",
       "      <td>ITA</td>\n",
       "      <td>2</td>\n",
       "      <td>Valle d'Aosta</td>\n",
       "      <td>45.737503</td>\n",
       "      <td>7.320149</td>\n",
       "      <td>85</td>\n",
       "      <td>27</td>\n",
       "      <td>112</td>\n",
       "      <td>428</td>\n",
       "      <td>540</td>\n",
       "      <td>3</td>\n",
       "      <td>32</td>\n",
       "      <td>59</td>\n",
       "      <td>631</td>\n",
       "      <td>1717</td>\n",
       "    </tr>\n",
       "    <tr>\n",
       "      <th>797</th>\n",
       "      <td>797</td>\n",
       "      <td>2020-04-01T17:00:00</td>\n",
       "      <td>ITA</td>\n",
       "      <td>5</td>\n",
       "      <td>Veneto</td>\n",
       "      <td>45.434905</td>\n",
       "      <td>12.338452</td>\n",
       "      <td>1718</td>\n",
       "      <td>350</td>\n",
       "      <td>2068</td>\n",
       "      <td>6156</td>\n",
       "      <td>8224</td>\n",
       "      <td>470</td>\n",
       "      <td>902</td>\n",
       "      <td>499</td>\n",
       "      <td>9625</td>\n",
       "      <td>112746</td>\n",
       "    </tr>\n",
       "  </tbody>\n",
       "</table>\n",
       "</div>"
      ],
      "text/plain": [
       "     SNo                 Date Country  RegionCode     RegionName   Latitude  \\\n",
       "793  793  2020-04-01T17:00:00     ITA           9        Toscana  43.769231   \n",
       "794  794  2020-04-01T17:00:00     ITA           4    P.A. Trento  46.068935   \n",
       "795  795  2020-04-01T17:00:00     ITA          10         Umbria  43.106758   \n",
       "796  796  2020-04-01T17:00:00     ITA           2  Valle d'Aosta  45.737503   \n",
       "797  797  2020-04-01T17:00:00     ITA           5         Veneto  45.434905   \n",
       "\n",
       "     Longitude  HospitalizedPatients  IntensiveCarePatients  \\\n",
       "793  11.255889                  1120                    297   \n",
       "794  11.121231                   345                     76   \n",
       "795  12.388247                   173                     45   \n",
       "796   7.320149                    85                     27   \n",
       "797  12.338452                  1718                    350   \n",
       "\n",
       "     TotalHospitalizedPatients  HomeConfinement  CurrentPositiveCases  \\\n",
       "793                       1417             3015                  4432   \n",
       "794                        421             1062                  1483   \n",
       "795                        218              646                   864   \n",
       "796                        112              428                   540   \n",
       "797                       2068             6156                  8224   \n",
       "\n",
       "     NewPositiveCases  Recovered  Deaths  TotalPositiveCases  TestsPerformed  \n",
       "793               259        182     253                4867           36575  \n",
       "794               124        214     173                1870            7675  \n",
       "795                17        194      37                1095            9080  \n",
       "796                 3         32      59                 631            1717  \n",
       "797               470        902     499                9625          112746  "
      ]
     },
     "execution_count": 84,
     "metadata": {},
     "output_type": "execute_result"
    }
   ],
   "source": [
    "data.tail()"
   ]
  },
  {
   "cell_type": "markdown",
   "id": "7b9e0a2b",
   "metadata": {},
   "source": [
    "- .head()는 데이터셋의 처음 5개 행을 보여주고, .tail()은 마지막 5개 행을 보여준다. 또한 정수 인자를 넣어서 출력할 행의 개수를 조정할 수 있다."
   ]
  },
  {
   "cell_type": "code",
   "execution_count": 86,
   "id": "a98dafed",
   "metadata": {},
   "outputs": [
    {
     "data": {
      "text/plain": [
       "Index(['SNo', 'Date', 'Country', 'RegionCode', 'RegionName', 'Latitude',\n",
       "       'Longitude', 'HospitalizedPatients', 'IntensiveCarePatients',\n",
       "       'TotalHospitalizedPatients', 'HomeConfinement', 'CurrentPositiveCases',\n",
       "       'NewPositiveCases', 'Recovered', 'Deaths', 'TotalPositiveCases',\n",
       "       'TestsPerformed'],\n",
       "      dtype='object')"
      ]
     },
     "execution_count": 86,
     "metadata": {},
     "output_type": "execute_result"
    }
   ],
   "source": [
    "# 컬럼명을 확인 (총 17개)\n",
    "data.columns"
   ]
  },
  {
   "cell_type": "code",
   "execution_count": 87,
   "id": "c45410c3",
   "metadata": {},
   "outputs": [
    {
     "name": "stdout",
     "output_type": "stream",
     "text": [
      "<class 'pandas.core.frame.DataFrame'>\n",
      "RangeIndex: 798 entries, 0 to 797\n",
      "Data columns (total 17 columns):\n",
      " #   Column                     Non-Null Count  Dtype  \n",
      "---  ------                     --------------  -----  \n",
      " 0   SNo                        798 non-null    int64  \n",
      " 1   Date                       798 non-null    object \n",
      " 2   Country                    798 non-null    object \n",
      " 3   RegionCode                 798 non-null    int64  \n",
      " 4   RegionName                 798 non-null    object \n",
      " 5   Latitude                   798 non-null    float64\n",
      " 6   Longitude                  798 non-null    float64\n",
      " 7   HospitalizedPatients       798 non-null    int64  \n",
      " 8   IntensiveCarePatients      798 non-null    int64  \n",
      " 9   TotalHospitalizedPatients  798 non-null    int64  \n",
      " 10  HomeConfinement            798 non-null    int64  \n",
      " 11  CurrentPositiveCases       798 non-null    int64  \n",
      " 12  NewPositiveCases           798 non-null    int64  \n",
      " 13  Recovered                  798 non-null    int64  \n",
      " 14  Deaths                     798 non-null    int64  \n",
      " 15  TotalPositiveCases         798 non-null    int64  \n",
      " 16  TestsPerformed             798 non-null    int64  \n",
      "dtypes: float64(2), int64(12), object(3)\n",
      "memory usage: 106.1+ KB\n"
     ]
    }
   ],
   "source": [
    "# 각 컬럼별 Null값과 자료형 나타내기\n",
    "data.info()"
   ]
  },
  {
   "cell_type": "code",
   "execution_count": 88,
   "id": "f5962c70",
   "metadata": {},
   "outputs": [
    {
     "data": {
      "text/html": [
       "<div>\n",
       "<style scoped>\n",
       "    .dataframe tbody tr th:only-of-type {\n",
       "        vertical-align: middle;\n",
       "    }\n",
       "\n",
       "    .dataframe tbody tr th {\n",
       "        vertical-align: top;\n",
       "    }\n",
       "\n",
       "    .dataframe thead th {\n",
       "        text-align: right;\n",
       "    }\n",
       "</style>\n",
       "<table border=\"1\" class=\"dataframe\">\n",
       "  <thead>\n",
       "    <tr style=\"text-align: right;\">\n",
       "      <th></th>\n",
       "      <th>SNo</th>\n",
       "      <th>RegionCode</th>\n",
       "      <th>Latitude</th>\n",
       "      <th>Longitude</th>\n",
       "      <th>HospitalizedPatients</th>\n",
       "      <th>IntensiveCarePatients</th>\n",
       "      <th>TotalHospitalizedPatients</th>\n",
       "      <th>HomeConfinement</th>\n",
       "      <th>CurrentPositiveCases</th>\n",
       "      <th>NewPositiveCases</th>\n",
       "      <th>Recovered</th>\n",
       "      <th>Deaths</th>\n",
       "      <th>TotalPositiveCases</th>\n",
       "      <th>TestsPerformed</th>\n",
       "    </tr>\n",
       "  </thead>\n",
       "  <tbody>\n",
       "    <tr>\n",
       "      <th>count</th>\n",
       "      <td>798.00000</td>\n",
       "      <td>798.000000</td>\n",
       "      <td>798.000000</td>\n",
       "      <td>798.000000</td>\n",
       "      <td>798.000000</td>\n",
       "      <td>798.000000</td>\n",
       "      <td>798.000000</td>\n",
       "      <td>798.000000</td>\n",
       "      <td>798.000000</td>\n",
       "      <td>798.000000</td>\n",
       "      <td>798.000000</td>\n",
       "      <td>798.000000</td>\n",
       "      <td>798.000000</td>\n",
       "      <td>798.000000</td>\n",
       "    </tr>\n",
       "    <tr>\n",
       "      <th>mean</th>\n",
       "      <td>398.50000</td>\n",
       "      <td>10.190476</td>\n",
       "      <td>43.046293</td>\n",
       "      <td>12.225955</td>\n",
       "      <td>533.058897</td>\n",
       "      <td>82.596491</td>\n",
       "      <td>615.655388</td>\n",
       "      <td>674.998747</td>\n",
       "      <td>1290.654135</td>\n",
       "      <td>138.553885</td>\n",
       "      <td>205.706767</td>\n",
       "      <td>162.677945</td>\n",
       "      <td>1659.038847</td>\n",
       "      <td>7932.164160</td>\n",
       "    </tr>\n",
       "    <tr>\n",
       "      <th>std</th>\n",
       "      <td>230.50705</td>\n",
       "      <td>5.798698</td>\n",
       "      <td>2.490342</td>\n",
       "      <td>2.660615</td>\n",
       "      <td>1532.090841</td>\n",
       "      <td>190.735985</td>\n",
       "      <td>1719.508711</td>\n",
       "      <td>1627.086600</td>\n",
       "      <td>3282.834715</td>\n",
       "      <td>327.616052</td>\n",
       "      <td>1060.433732</td>\n",
       "      <td>700.264327</td>\n",
       "      <td>4945.629053</td>\n",
       "      <td>17067.087279</td>\n",
       "    </tr>\n",
       "    <tr>\n",
       "      <th>min</th>\n",
       "      <td>0.00000</td>\n",
       "      <td>1.000000</td>\n",
       "      <td>38.115697</td>\n",
       "      <td>7.320149</td>\n",
       "      <td>0.000000</td>\n",
       "      <td>0.000000</td>\n",
       "      <td>0.000000</td>\n",
       "      <td>0.000000</td>\n",
       "      <td>0.000000</td>\n",
       "      <td>-17.000000</td>\n",
       "      <td>0.000000</td>\n",
       "      <td>0.000000</td>\n",
       "      <td>0.000000</td>\n",
       "      <td>0.000000</td>\n",
       "    </tr>\n",
       "    <tr>\n",
       "      <th>25%</th>\n",
       "      <td>199.25000</td>\n",
       "      <td>5.000000</td>\n",
       "      <td>41.125596</td>\n",
       "      <td>11.121231</td>\n",
       "      <td>5.000000</td>\n",
       "      <td>0.000000</td>\n",
       "      <td>6.000000</td>\n",
       "      <td>8.000000</td>\n",
       "      <td>14.250000</td>\n",
       "      <td>2.000000</td>\n",
       "      <td>0.000000</td>\n",
       "      <td>0.000000</td>\n",
       "      <td>14.250000</td>\n",
       "      <td>230.000000</td>\n",
       "    </tr>\n",
       "    <tr>\n",
       "      <th>50%</th>\n",
       "      <td>398.50000</td>\n",
       "      <td>10.000000</td>\n",
       "      <td>43.616760</td>\n",
       "      <td>12.388247</td>\n",
       "      <td>64.000000</td>\n",
       "      <td>16.000000</td>\n",
       "      <td>80.500000</td>\n",
       "      <td>109.000000</td>\n",
       "      <td>205.000000</td>\n",
       "      <td>32.000000</td>\n",
       "      <td>3.000000</td>\n",
       "      <td>6.000000</td>\n",
       "      <td>210.500000</td>\n",
       "      <td>1610.000000</td>\n",
       "    </tr>\n",
       "    <tr>\n",
       "      <th>75%</th>\n",
       "      <td>597.75000</td>\n",
       "      <td>15.000000</td>\n",
       "      <td>45.434905</td>\n",
       "      <td>13.768136</td>\n",
       "      <td>325.750000</td>\n",
       "      <td>71.750000</td>\n",
       "      <td>396.250000</td>\n",
       "      <td>552.750000</td>\n",
       "      <td>998.750000</td>\n",
       "      <td>117.750000</td>\n",
       "      <td>34.000000</td>\n",
       "      <td>55.750000</td>\n",
       "      <td>1110.750000</td>\n",
       "      <td>7493.000000</td>\n",
       "    </tr>\n",
       "    <tr>\n",
       "      <th>max</th>\n",
       "      <td>797.00000</td>\n",
       "      <td>20.000000</td>\n",
       "      <td>46.499335</td>\n",
       "      <td>16.867367</td>\n",
       "      <td>11927.000000</td>\n",
       "      <td>1342.000000</td>\n",
       "      <td>13269.000000</td>\n",
       "      <td>12496.000000</td>\n",
       "      <td>25765.000000</td>\n",
       "      <td>3251.000000</td>\n",
       "      <td>11415.000000</td>\n",
       "      <td>7593.000000</td>\n",
       "      <td>44773.000000</td>\n",
       "      <td>121449.000000</td>\n",
       "    </tr>\n",
       "  </tbody>\n",
       "</table>\n",
       "</div>"
      ],
      "text/plain": [
       "             SNo  RegionCode    Latitude   Longitude  HospitalizedPatients  \\\n",
       "count  798.00000  798.000000  798.000000  798.000000            798.000000   \n",
       "mean   398.50000   10.190476   43.046293   12.225955            533.058897   \n",
       "std    230.50705    5.798698    2.490342    2.660615           1532.090841   \n",
       "min      0.00000    1.000000   38.115697    7.320149              0.000000   \n",
       "25%    199.25000    5.000000   41.125596   11.121231              5.000000   \n",
       "50%    398.50000   10.000000   43.616760   12.388247             64.000000   \n",
       "75%    597.75000   15.000000   45.434905   13.768136            325.750000   \n",
       "max    797.00000   20.000000   46.499335   16.867367          11927.000000   \n",
       "\n",
       "       IntensiveCarePatients  TotalHospitalizedPatients  HomeConfinement  \\\n",
       "count             798.000000                 798.000000       798.000000   \n",
       "mean               82.596491                 615.655388       674.998747   \n",
       "std               190.735985                1719.508711      1627.086600   \n",
       "min                 0.000000                   0.000000         0.000000   \n",
       "25%                 0.000000                   6.000000         8.000000   \n",
       "50%                16.000000                  80.500000       109.000000   \n",
       "75%                71.750000                 396.250000       552.750000   \n",
       "max              1342.000000               13269.000000     12496.000000   \n",
       "\n",
       "       CurrentPositiveCases  NewPositiveCases     Recovered       Deaths  \\\n",
       "count            798.000000        798.000000    798.000000   798.000000   \n",
       "mean            1290.654135        138.553885    205.706767   162.677945   \n",
       "std             3282.834715        327.616052   1060.433732   700.264327   \n",
       "min                0.000000        -17.000000      0.000000     0.000000   \n",
       "25%               14.250000          2.000000      0.000000     0.000000   \n",
       "50%              205.000000         32.000000      3.000000     6.000000   \n",
       "75%              998.750000        117.750000     34.000000    55.750000   \n",
       "max            25765.000000       3251.000000  11415.000000  7593.000000   \n",
       "\n",
       "       TotalPositiveCases  TestsPerformed  \n",
       "count          798.000000      798.000000  \n",
       "mean          1659.038847     7932.164160  \n",
       "std           4945.629053    17067.087279  \n",
       "min              0.000000        0.000000  \n",
       "25%             14.250000      230.000000  \n",
       "50%            210.500000     1610.000000  \n",
       "75%           1110.750000     7493.000000  \n",
       "max          44773.000000   121449.000000  "
      ]
     },
     "execution_count": 88,
     "metadata": {},
     "output_type": "execute_result"
    }
   ],
   "source": [
    "# 각 컬럼별로 기본 통계 데이터 나타내기\n",
    "data.describe()"
   ]
  },
  {
   "cell_type": "markdown",
   "id": "29f24d94",
   "metadata": {},
   "source": [
    "- 각 컬럼별로 기본 통계 데이터를 보여준다. 개수(Count), 평균(mean), 표준편차(std), 최솟값(min), 4분위수(25%, 50%, 75%), 최댓값(max)를 나타낸다."
   ]
  },
  {
   "cell_type": "code",
   "execution_count": 89,
   "id": "314b7b08",
   "metadata": {},
   "outputs": [
    {
     "data": {
      "text/plain": [
       "SNo                          0\n",
       "Date                         0\n",
       "Country                      0\n",
       "RegionCode                   0\n",
       "RegionName                   0\n",
       "Latitude                     0\n",
       "Longitude                    0\n",
       "HospitalizedPatients         0\n",
       "IntensiveCarePatients        0\n",
       "TotalHospitalizedPatients    0\n",
       "HomeConfinement              0\n",
       "CurrentPositiveCases         0\n",
       "NewPositiveCases             0\n",
       "Recovered                    0\n",
       "Deaths                       0\n",
       "TotalPositiveCases           0\n",
       "TestsPerformed               0\n",
       "dtype: int64"
      ]
     },
     "execution_count": 89,
     "metadata": {},
     "output_type": "execute_result"
    }
   ],
   "source": [
    "# 결측값 확인\n",
    "data.isnull().sum()"
   ]
  },
  {
   "cell_type": "markdown",
   "id": "456ec49a",
   "metadata": {},
   "source": [
    "- 데이터를 분석할 때, 결측값(Missing value) 확인은 굉장히 중요하다. pandas에서 missing 데이터를 isnull()로 확인하고, sum()메서드를 활용해서 missing 데이터 개수의 총합을 구할 수 있다."
   ]
  },
  {
   "cell_type": "markdown",
   "id": "a1a999f0",
   "metadata": {},
   "source": [
    "#### EDA - 통계\n",
    "- pandas는 기본 수학 메서드와 통계 메서드를 가지고 있다. .describe()를 통해 기본 통계 기능을 확인할 수 있고 그 외에 pandas에서 제공하는 통계 기능을 활용해서 데이터를 더 자세하게 탐색할 수 있다."
   ]
  },
  {
   "cell_type": "code",
   "execution_count": 90,
   "id": "faa22c67",
   "metadata": {},
   "outputs": [
    {
     "data": {
      "text/plain": [
       "Abruzzo                  38\n",
       "Molise                   38\n",
       "Valle d'Aosta            38\n",
       "Umbria                   38\n",
       "P.A. Trento              38\n",
       "Toscana                  38\n",
       "Sicilia                  38\n",
       "Sardegna                 38\n",
       "Puglia                   38\n",
       "Piemonte                 38\n",
       "Marche                   38\n",
       "Basilicata               38\n",
       "Lombardia                38\n",
       "Liguria                  38\n",
       "Lazio                    38\n",
       "Friuli Venezia Giulia    38\n",
       "Emilia-Romagna           38\n",
       "Campania                 38\n",
       "Calabria                 38\n",
       "P.A. Bolzano             38\n",
       "Veneto                   38\n",
       "Name: RegionName, dtype: int64"
      ]
     },
     "execution_count": 90,
     "metadata": {},
     "output_type": "execute_result"
    }
   ],
   "source": [
    "# 각 범주(Case 또는Category)별 값이 몇 개 있는지 확인\n",
    "data['RegionName'].value_counts()"
   ]
  },
  {
   "cell_type": "code",
   "execution_count": 91,
   "id": "a8d6628b",
   "metadata": {},
   "outputs": [
    {
     "data": {
      "text/plain": [
       "ITA    798\n",
       "Name: Country, dtype: int64"
      ]
     },
     "execution_count": 91,
     "metadata": {},
     "output_type": "execute_result"
    }
   ],
   "source": [
    "data['Country'].value_counts()"
   ]
  },
  {
   "cell_type": "markdown",
   "id": "1c804173",
   "metadata": {},
   "source": [
    "- 범주형 데이터로 기재되는 컬럼에 대해서는 value_counts() 메서드를 사용해 각 범주(Case 또는Category)별로 값이 몇 개 있는지 구할 수 있다. 코로나 데이터에서 범주형 데이터가 사용되는 컬럼에는 Country, RegionCode, RegionName이 있다."
   ]
  },
  {
   "cell_type": "code",
   "execution_count": 92,
   "id": "ae3b2d8b",
   "metadata": {},
   "outputs": [
    {
     "data": {
      "text/plain": [
       "798"
      ]
     },
     "execution_count": 92,
     "metadata": {},
     "output_type": "execute_result"
    }
   ],
   "source": [
    "# 컬럼별 통계 수치의 합 확인\n",
    "data['RegionName'].value_counts().sum()"
   ]
  },
  {
   "cell_type": "code",
   "execution_count": 93,
   "id": "6379c213",
   "metadata": {},
   "outputs": [
    {
     "data": {
      "text/plain": [
       "798"
      ]
     },
     "execution_count": 93,
     "metadata": {},
     "output_type": "execute_result"
    }
   ],
   "source": [
    "data['Country'].value_counts().sum()"
   ]
  },
  {
   "cell_type": "code",
   "execution_count": 94,
   "id": "80627dae",
   "metadata": {},
   "outputs": [
    {
     "name": "stdout",
     "output_type": "stream",
     "text": [
      "총 감염자 1323913\n",
      "전체 검사자 수 6329867\n",
      "사망자 수 129817\n",
      "회복자 수 164154\n"
     ]
    }
   ],
   "source": [
    "# 해당 컬럼 값의 총합 구하기\n",
    "print(\"총 감염자\", data['TotalPositiveCases'].sum())\n",
    "print(\"전체 검사자 수\", data['TestsPerformed'].sum())\n",
    "print(\"사망자 수\", data['Deaths'].sum())\n",
    "print(\"회복자 수\", data['Recovered'].sum())"
   ]
  },
  {
   "cell_type": "code",
   "execution_count": 95,
   "id": "34f403e8",
   "metadata": {},
   "outputs": [
    {
     "data": {
      "text/plain": [
       "SNo                                                                     318003\n",
       "Date                         2020-02-24T18:00:002020-02-24T18:00:002020-02-...\n",
       "Country                      ITAITAITAITAITAITAITAITAITAITAITAITAITAITAITAI...\n",
       "RegionCode                                                                8132\n",
       "RegionName                   AbruzzoBasilicataP.A. BolzanoCalabriaCampaniaE...\n",
       "Latitude                                                          34350.941591\n",
       "Longitude                                                          9756.312476\n",
       "HospitalizedPatients                                                    425381\n",
       "IntensiveCarePatients                                                    65912\n",
       "TotalHospitalizedPatients                                               491293\n",
       "HomeConfinement                                                         538649\n",
       "CurrentPositiveCases                                                   1029942\n",
       "NewPositiveCases                                                        110566\n",
       "Recovered                                                               164154\n",
       "Deaths                                                                  129817\n",
       "TotalPositiveCases                                                     1323913\n",
       "TestsPerformed                                                         6329867\n",
       "dtype: object"
      ]
     },
     "execution_count": 95,
     "metadata": {},
     "output_type": "execute_result"
    }
   ],
   "source": [
    "# DataFrame 전체의 각 컬럼별 합\n",
    "data.sum()"
   ]
  },
  {
   "cell_type": "code",
   "execution_count": 96,
   "id": "9d193921",
   "metadata": {},
   "outputs": [
    {
     "name": "stdout",
     "output_type": "stream",
     "text": [
      "0.8555291657820235\n",
      "0.7612209669865387\n",
      "0.975268668316802\n"
     ]
    },
    {
     "data": {
      "text/html": [
       "<div>\n",
       "<style scoped>\n",
       "    .dataframe tbody tr th:only-of-type {\n",
       "        vertical-align: middle;\n",
       "    }\n",
       "\n",
       "    .dataframe tbody tr th {\n",
       "        vertical-align: top;\n",
       "    }\n",
       "\n",
       "    .dataframe thead th {\n",
       "        text-align: right;\n",
       "    }\n",
       "</style>\n",
       "<table border=\"1\" class=\"dataframe\">\n",
       "  <thead>\n",
       "    <tr style=\"text-align: right;\">\n",
       "      <th></th>\n",
       "      <th>SNo</th>\n",
       "      <th>RegionCode</th>\n",
       "      <th>Latitude</th>\n",
       "      <th>Longitude</th>\n",
       "      <th>HospitalizedPatients</th>\n",
       "      <th>IntensiveCarePatients</th>\n",
       "      <th>TotalHospitalizedPatients</th>\n",
       "      <th>HomeConfinement</th>\n",
       "      <th>CurrentPositiveCases</th>\n",
       "      <th>NewPositiveCases</th>\n",
       "      <th>Recovered</th>\n",
       "      <th>Deaths</th>\n",
       "      <th>TotalPositiveCases</th>\n",
       "      <th>TestsPerformed</th>\n",
       "    </tr>\n",
       "  </thead>\n",
       "  <tbody>\n",
       "    <tr>\n",
       "      <th>SNo</th>\n",
       "      <td>1.000000</td>\n",
       "      <td>-0.006385</td>\n",
       "      <td>0.004550</td>\n",
       "      <td>-0.009905</td>\n",
       "      <td>0.304934</td>\n",
       "      <td>0.356195</td>\n",
       "      <td>0.311208</td>\n",
       "      <td>0.424331</td>\n",
       "      <td>0.373320</td>\n",
       "      <td>0.290469</td>\n",
       "      <td>0.206334</td>\n",
       "      <td>0.251302</td>\n",
       "      <td>0.327629</td>\n",
       "      <td>0.427816</td>\n",
       "    </tr>\n",
       "    <tr>\n",
       "      <th>RegionCode</th>\n",
       "      <td>-0.006385</td>\n",
       "      <td>1.000000</td>\n",
       "      <td>-0.959568</td>\n",
       "      <td>0.652820</td>\n",
       "      <td>-0.288057</td>\n",
       "      <td>-0.321805</td>\n",
       "      <td>-0.292356</td>\n",
       "      <td>-0.275990</td>\n",
       "      <td>-0.289923</td>\n",
       "      <td>-0.316658</td>\n",
       "      <td>-0.205056</td>\n",
       "      <td>-0.218793</td>\n",
       "      <td>-0.267394</td>\n",
       "      <td>-0.271954</td>\n",
       "    </tr>\n",
       "    <tr>\n",
       "      <th>Latitude</th>\n",
       "      <td>0.004550</td>\n",
       "      <td>-0.959568</td>\n",
       "      <td>1.000000</td>\n",
       "      <td>-0.547164</td>\n",
       "      <td>0.232802</td>\n",
       "      <td>0.262618</td>\n",
       "      <td>0.236559</td>\n",
       "      <td>0.246010</td>\n",
       "      <td>0.245838</td>\n",
       "      <td>0.264146</td>\n",
       "      <td>0.168196</td>\n",
       "      <td>0.181795</td>\n",
       "      <td>0.224989</td>\n",
       "      <td>0.244442</td>\n",
       "    </tr>\n",
       "    <tr>\n",
       "      <th>Longitude</th>\n",
       "      <td>-0.009905</td>\n",
       "      <td>0.652820</td>\n",
       "      <td>-0.547164</td>\n",
       "      <td>1.000000</td>\n",
       "      <td>-0.259902</td>\n",
       "      <td>-0.279147</td>\n",
       "      <td>-0.262538</td>\n",
       "      <td>-0.208338</td>\n",
       "      <td>-0.240774</td>\n",
       "      <td>-0.270345</td>\n",
       "      <td>-0.180529</td>\n",
       "      <td>-0.197115</td>\n",
       "      <td>-0.226441</td>\n",
       "      <td>-0.158840</td>\n",
       "    </tr>\n",
       "    <tr>\n",
       "      <th>HospitalizedPatients</th>\n",
       "      <td>0.304934</td>\n",
       "      <td>-0.288057</td>\n",
       "      <td>0.232802</td>\n",
       "      <td>-0.259902</td>\n",
       "      <td>1.000000</td>\n",
       "      <td>0.980457</td>\n",
       "      <td>0.999762</td>\n",
       "      <td>0.923389</td>\n",
       "      <td>0.981327</td>\n",
       "      <td>0.912586</td>\n",
       "      <td>0.923919</td>\n",
       "      <td>0.944874</td>\n",
       "      <td>0.983282</td>\n",
       "      <td>0.809607</td>\n",
       "    </tr>\n",
       "    <tr>\n",
       "      <th>IntensiveCarePatients</th>\n",
       "      <td>0.356195</td>\n",
       "      <td>-0.321805</td>\n",
       "      <td>0.262618</td>\n",
       "      <td>-0.279147</td>\n",
       "      <td>0.980457</td>\n",
       "      <td>1.000000</td>\n",
       "      <td>0.984517</td>\n",
       "      <td>0.916971</td>\n",
       "      <td>0.970160</td>\n",
       "      <td>0.930570</td>\n",
       "      <td>0.876121</td>\n",
       "      <td>0.892060</td>\n",
       "      <td>0.958143</td>\n",
       "      <td>0.840098</td>\n",
       "    </tr>\n",
       "    <tr>\n",
       "      <th>TotalHospitalizedPatients</th>\n",
       "      <td>0.311208</td>\n",
       "      <td>-0.292356</td>\n",
       "      <td>0.236559</td>\n",
       "      <td>-0.262538</td>\n",
       "      <td>0.999762</td>\n",
       "      <td>0.984517</td>\n",
       "      <td>1.000000</td>\n",
       "      <td>0.924459</td>\n",
       "      <td>0.981982</td>\n",
       "      <td>0.916342</td>\n",
       "      <td>0.920400</td>\n",
       "      <td>0.940839</td>\n",
       "      <td>0.982391</td>\n",
       "      <td>0.814551</td>\n",
       "    </tr>\n",
       "    <tr>\n",
       "      <th>HomeConfinement</th>\n",
       "      <td>0.424331</td>\n",
       "      <td>-0.275990</td>\n",
       "      <td>0.246010</td>\n",
       "      <td>-0.208338</td>\n",
       "      <td>0.923389</td>\n",
       "      <td>0.916971</td>\n",
       "      <td>0.924459</td>\n",
       "      <td>1.000000</td>\n",
       "      <td>0.979855</td>\n",
       "      <td>0.831487</td>\n",
       "      <td>0.850907</td>\n",
       "      <td>0.896904</td>\n",
       "      <td>0.959858</td>\n",
       "      <td>0.928523</td>\n",
       "    </tr>\n",
       "    <tr>\n",
       "      <th>CurrentPositiveCases</th>\n",
       "      <td>0.373320</td>\n",
       "      <td>-0.289923</td>\n",
       "      <td>0.245838</td>\n",
       "      <td>-0.240774</td>\n",
       "      <td>0.981327</td>\n",
       "      <td>0.970160</td>\n",
       "      <td>0.981982</td>\n",
       "      <td>0.979855</td>\n",
       "      <td>1.000000</td>\n",
       "      <td>0.892083</td>\n",
       "      <td>0.903833</td>\n",
       "      <td>0.937337</td>\n",
       "      <td>0.990303</td>\n",
       "      <td>0.886860</td>\n",
       "    </tr>\n",
       "    <tr>\n",
       "      <th>NewPositiveCases</th>\n",
       "      <td>0.290469</td>\n",
       "      <td>-0.316658</td>\n",
       "      <td>0.264146</td>\n",
       "      <td>-0.270345</td>\n",
       "      <td>0.912586</td>\n",
       "      <td>0.930570</td>\n",
       "      <td>0.916342</td>\n",
       "      <td>0.831487</td>\n",
       "      <td>0.892083</td>\n",
       "      <td>1.000000</td>\n",
       "      <td>0.760710</td>\n",
       "      <td>0.775184</td>\n",
       "      <td>0.865022</td>\n",
       "      <td>0.755386</td>\n",
       "    </tr>\n",
       "    <tr>\n",
       "      <th>Recovered</th>\n",
       "      <td>0.206334</td>\n",
       "      <td>-0.205056</td>\n",
       "      <td>0.168196</td>\n",
       "      <td>-0.180529</td>\n",
       "      <td>0.923919</td>\n",
       "      <td>0.876121</td>\n",
       "      <td>0.920400</td>\n",
       "      <td>0.850907</td>\n",
       "      <td>0.903833</td>\n",
       "      <td>0.760710</td>\n",
       "      <td>1.000000</td>\n",
       "      <td>0.986324</td>\n",
       "      <td>0.954026</td>\n",
       "      <td>0.741827</td>\n",
       "    </tr>\n",
       "    <tr>\n",
       "      <th>Deaths</th>\n",
       "      <td>0.251302</td>\n",
       "      <td>-0.218793</td>\n",
       "      <td>0.181795</td>\n",
       "      <td>-0.197115</td>\n",
       "      <td>0.944874</td>\n",
       "      <td>0.892060</td>\n",
       "      <td>0.940839</td>\n",
       "      <td>0.896904</td>\n",
       "      <td>0.937337</td>\n",
       "      <td>0.775184</td>\n",
       "      <td>0.986324</td>\n",
       "      <td>1.000000</td>\n",
       "      <td>0.975269</td>\n",
       "      <td>0.761221</td>\n",
       "    </tr>\n",
       "    <tr>\n",
       "      <th>TotalPositiveCases</th>\n",
       "      <td>0.327629</td>\n",
       "      <td>-0.267394</td>\n",
       "      <td>0.224989</td>\n",
       "      <td>-0.226441</td>\n",
       "      <td>0.983282</td>\n",
       "      <td>0.958143</td>\n",
       "      <td>0.982391</td>\n",
       "      <td>0.959858</td>\n",
       "      <td>0.990303</td>\n",
       "      <td>0.865022</td>\n",
       "      <td>0.954026</td>\n",
       "      <td>0.975269</td>\n",
       "      <td>1.000000</td>\n",
       "      <td>0.855529</td>\n",
       "    </tr>\n",
       "    <tr>\n",
       "      <th>TestsPerformed</th>\n",
       "      <td>0.427816</td>\n",
       "      <td>-0.271954</td>\n",
       "      <td>0.244442</td>\n",
       "      <td>-0.158840</td>\n",
       "      <td>0.809607</td>\n",
       "      <td>0.840098</td>\n",
       "      <td>0.814551</td>\n",
       "      <td>0.928523</td>\n",
       "      <td>0.886860</td>\n",
       "      <td>0.755386</td>\n",
       "      <td>0.741827</td>\n",
       "      <td>0.761221</td>\n",
       "      <td>0.855529</td>\n",
       "      <td>1.000000</td>\n",
       "    </tr>\n",
       "  </tbody>\n",
       "</table>\n",
       "</div>"
      ],
      "text/plain": [
       "                                SNo  RegionCode  Latitude  Longitude  \\\n",
       "SNo                        1.000000   -0.006385  0.004550  -0.009905   \n",
       "RegionCode                -0.006385    1.000000 -0.959568   0.652820   \n",
       "Latitude                   0.004550   -0.959568  1.000000  -0.547164   \n",
       "Longitude                 -0.009905    0.652820 -0.547164   1.000000   \n",
       "HospitalizedPatients       0.304934   -0.288057  0.232802  -0.259902   \n",
       "IntensiveCarePatients      0.356195   -0.321805  0.262618  -0.279147   \n",
       "TotalHospitalizedPatients  0.311208   -0.292356  0.236559  -0.262538   \n",
       "HomeConfinement            0.424331   -0.275990  0.246010  -0.208338   \n",
       "CurrentPositiveCases       0.373320   -0.289923  0.245838  -0.240774   \n",
       "NewPositiveCases           0.290469   -0.316658  0.264146  -0.270345   \n",
       "Recovered                  0.206334   -0.205056  0.168196  -0.180529   \n",
       "Deaths                     0.251302   -0.218793  0.181795  -0.197115   \n",
       "TotalPositiveCases         0.327629   -0.267394  0.224989  -0.226441   \n",
       "TestsPerformed             0.427816   -0.271954  0.244442  -0.158840   \n",
       "\n",
       "                           HospitalizedPatients  IntensiveCarePatients  \\\n",
       "SNo                                    0.304934               0.356195   \n",
       "RegionCode                            -0.288057              -0.321805   \n",
       "Latitude                               0.232802               0.262618   \n",
       "Longitude                             -0.259902              -0.279147   \n",
       "HospitalizedPatients                   1.000000               0.980457   \n",
       "IntensiveCarePatients                  0.980457               1.000000   \n",
       "TotalHospitalizedPatients              0.999762               0.984517   \n",
       "HomeConfinement                        0.923389               0.916971   \n",
       "CurrentPositiveCases                   0.981327               0.970160   \n",
       "NewPositiveCases                       0.912586               0.930570   \n",
       "Recovered                              0.923919               0.876121   \n",
       "Deaths                                 0.944874               0.892060   \n",
       "TotalPositiveCases                     0.983282               0.958143   \n",
       "TestsPerformed                         0.809607               0.840098   \n",
       "\n",
       "                           TotalHospitalizedPatients  HomeConfinement  \\\n",
       "SNo                                         0.311208         0.424331   \n",
       "RegionCode                                 -0.292356        -0.275990   \n",
       "Latitude                                    0.236559         0.246010   \n",
       "Longitude                                  -0.262538        -0.208338   \n",
       "HospitalizedPatients                        0.999762         0.923389   \n",
       "IntensiveCarePatients                       0.984517         0.916971   \n",
       "TotalHospitalizedPatients                   1.000000         0.924459   \n",
       "HomeConfinement                             0.924459         1.000000   \n",
       "CurrentPositiveCases                        0.981982         0.979855   \n",
       "NewPositiveCases                            0.916342         0.831487   \n",
       "Recovered                                   0.920400         0.850907   \n",
       "Deaths                                      0.940839         0.896904   \n",
       "TotalPositiveCases                          0.982391         0.959858   \n",
       "TestsPerformed                              0.814551         0.928523   \n",
       "\n",
       "                           CurrentPositiveCases  NewPositiveCases  Recovered  \\\n",
       "SNo                                    0.373320          0.290469   0.206334   \n",
       "RegionCode                            -0.289923         -0.316658  -0.205056   \n",
       "Latitude                               0.245838          0.264146   0.168196   \n",
       "Longitude                             -0.240774         -0.270345  -0.180529   \n",
       "HospitalizedPatients                   0.981327          0.912586   0.923919   \n",
       "IntensiveCarePatients                  0.970160          0.930570   0.876121   \n",
       "TotalHospitalizedPatients              0.981982          0.916342   0.920400   \n",
       "HomeConfinement                        0.979855          0.831487   0.850907   \n",
       "CurrentPositiveCases                   1.000000          0.892083   0.903833   \n",
       "NewPositiveCases                       0.892083          1.000000   0.760710   \n",
       "Recovered                              0.903833          0.760710   1.000000   \n",
       "Deaths                                 0.937337          0.775184   0.986324   \n",
       "TotalPositiveCases                     0.990303          0.865022   0.954026   \n",
       "TestsPerformed                         0.886860          0.755386   0.741827   \n",
       "\n",
       "                             Deaths  TotalPositiveCases  TestsPerformed  \n",
       "SNo                        0.251302            0.327629        0.427816  \n",
       "RegionCode                -0.218793           -0.267394       -0.271954  \n",
       "Latitude                   0.181795            0.224989        0.244442  \n",
       "Longitude                 -0.197115           -0.226441       -0.158840  \n",
       "HospitalizedPatients       0.944874            0.983282        0.809607  \n",
       "IntensiveCarePatients      0.892060            0.958143        0.840098  \n",
       "TotalHospitalizedPatients  0.940839            0.982391        0.814551  \n",
       "HomeConfinement            0.896904            0.959858        0.928523  \n",
       "CurrentPositiveCases       0.937337            0.990303        0.886860  \n",
       "NewPositiveCases           0.775184            0.865022        0.755386  \n",
       "Recovered                  0.986324            0.954026        0.741827  \n",
       "Deaths                     1.000000            0.975269        0.761221  \n",
       "TotalPositiveCases         0.975269            1.000000        0.855529  \n",
       "TestsPerformed             0.761221            0.855529        1.000000  "
      ]
     },
     "execution_count": 96,
     "metadata": {},
     "output_type": "execute_result"
    }
   ],
   "source": [
    "# 상관관계\n",
    "print(data['TestsPerformed'].corr(data['TotalPositiveCases']))\n",
    "print(data['TestsPerformed'].corr(data['Deaths']))\n",
    "print(data['TotalPositiveCases'].corr(data['Deaths']))\n",
    "\n",
    "data.corr()"
   ]
  },
  {
   "cell_type": "markdown",
   "id": "b2a4ceaf",
   "metadata": {},
   "source": [
    "- 상관관계는 2개의 매개변수가 필요하다. 두 컬럼 내 데이터가 얼마만큼의 상관관계가 있는지를 나타내기 때문이다. 예를 들어 폐암과 사망률의 상관관계는 폐암에 걸린 사람 중 사망자를 조사하면 되고, 사망률과 폐암과의 상관관계는 사망자 중 폐암에 걸린 사람의 데이터를 확인해 보면 된다. 하지만 data.corr()를 통해 모든 컬럼이 다른 컬럼 사이에 가지는 상관관계를 한 번에 확인해 볼 수 있다.\n",
    "- 상관관계 분석은 EDA에서 가장 중요한 단계라고 할 수 있다. 이 과정을 거쳐서 불필요한 컬럼을 분석에서 제외한다."
   ]
  },
  {
   "cell_type": "code",
   "execution_count": 97,
   "id": "42db89d6",
   "metadata": {},
   "outputs": [
    {
     "data": {
      "text/html": [
       "<div>\n",
       "<style scoped>\n",
       "    .dataframe tbody tr th:only-of-type {\n",
       "        vertical-align: middle;\n",
       "    }\n",
       "\n",
       "    .dataframe tbody tr th {\n",
       "        vertical-align: top;\n",
       "    }\n",
       "\n",
       "    .dataframe thead th {\n",
       "        text-align: right;\n",
       "    }\n",
       "</style>\n",
       "<table border=\"1\" class=\"dataframe\">\n",
       "  <thead>\n",
       "    <tr style=\"text-align: right;\">\n",
       "      <th></th>\n",
       "      <th>CurrentPositiveCases</th>\n",
       "      <th>NewPositiveCases</th>\n",
       "      <th>Recovered</th>\n",
       "      <th>Deaths</th>\n",
       "      <th>TotalPositiveCases</th>\n",
       "      <th>TestsPerformed</th>\n",
       "    </tr>\n",
       "  </thead>\n",
       "  <tbody>\n",
       "    <tr>\n",
       "      <th>CurrentPositiveCases</th>\n",
       "      <td>1.000000</td>\n",
       "      <td>0.892083</td>\n",
       "      <td>0.903833</td>\n",
       "      <td>0.937337</td>\n",
       "      <td>0.990303</td>\n",
       "      <td>0.886860</td>\n",
       "    </tr>\n",
       "    <tr>\n",
       "      <th>NewPositiveCases</th>\n",
       "      <td>0.892083</td>\n",
       "      <td>1.000000</td>\n",
       "      <td>0.760710</td>\n",
       "      <td>0.775184</td>\n",
       "      <td>0.865022</td>\n",
       "      <td>0.755386</td>\n",
       "    </tr>\n",
       "    <tr>\n",
       "      <th>Recovered</th>\n",
       "      <td>0.903833</td>\n",
       "      <td>0.760710</td>\n",
       "      <td>1.000000</td>\n",
       "      <td>0.986324</td>\n",
       "      <td>0.954026</td>\n",
       "      <td>0.741827</td>\n",
       "    </tr>\n",
       "    <tr>\n",
       "      <th>Deaths</th>\n",
       "      <td>0.937337</td>\n",
       "      <td>0.775184</td>\n",
       "      <td>0.986324</td>\n",
       "      <td>1.000000</td>\n",
       "      <td>0.975269</td>\n",
       "      <td>0.761221</td>\n",
       "    </tr>\n",
       "    <tr>\n",
       "      <th>TotalPositiveCases</th>\n",
       "      <td>0.990303</td>\n",
       "      <td>0.865022</td>\n",
       "      <td>0.954026</td>\n",
       "      <td>0.975269</td>\n",
       "      <td>1.000000</td>\n",
       "      <td>0.855529</td>\n",
       "    </tr>\n",
       "    <tr>\n",
       "      <th>TestsPerformed</th>\n",
       "      <td>0.886860</td>\n",
       "      <td>0.755386</td>\n",
       "      <td>0.741827</td>\n",
       "      <td>0.761221</td>\n",
       "      <td>0.855529</td>\n",
       "      <td>1.000000</td>\n",
       "    </tr>\n",
       "  </tbody>\n",
       "</table>\n",
       "</div>"
      ],
      "text/plain": [
       "                      CurrentPositiveCases  NewPositiveCases  Recovered  \\\n",
       "CurrentPositiveCases              1.000000          0.892083   0.903833   \n",
       "NewPositiveCases                  0.892083          1.000000   0.760710   \n",
       "Recovered                         0.903833          0.760710   1.000000   \n",
       "Deaths                            0.937337          0.775184   0.986324   \n",
       "TotalPositiveCases                0.990303          0.865022   0.954026   \n",
       "TestsPerformed                    0.886860          0.755386   0.741827   \n",
       "\n",
       "                        Deaths  TotalPositiveCases  TestsPerformed  \n",
       "CurrentPositiveCases  0.937337            0.990303        0.886860  \n",
       "NewPositiveCases      0.775184            0.865022        0.755386  \n",
       "Recovered             0.986324            0.954026        0.741827  \n",
       "Deaths                1.000000            0.975269        0.761221  \n",
       "TotalPositiveCases    0.975269            1.000000        0.855529  \n",
       "TestsPerformed        0.761221            0.855529        1.000000  "
      ]
     },
     "execution_count": 97,
     "metadata": {},
     "output_type": "execute_result"
    }
   ],
   "source": [
    "# 일부 컬럼 삭제\n",
    "data.drop(['Latitude','Longitude','Country','Date','HospitalizedPatients',  'IntensiveCarePatients', 'TotalHospitalizedPatients','HomeConfinement','RegionCode','SNo'], axis=1, inplace=True)\n",
    "\n",
    "data.corr()"
   ]
  },
  {
   "cell_type": "markdown",
   "id": "6d9c8396",
   "metadata": {},
   "source": [
    "- 분석 작업을 통해 양성 판정 건수와 사망건수를 제외한 Country, Date, SNo, HospitalizedPatients, RegionCode, Longitude, Latitude 등의 컬럼을 삭제한다."
   ]
  },
  {
   "cell_type": "markdown",
   "id": "e57a4281",
   "metadata": {},
   "source": [
    "- pandas 통계 관련 메서드\n",
    " - head(), tail() : 앞, 뒤 5개씩 출력\n",
    " - columns : 컬럼명 확인\n",
    " - info() : 각 컬럼별 Null값과 자료형 출력\n",
    " - isnull().sum() : 결측값 총합\n",
    " - value_counts() : 각 범주(Case 또는Category)별로 값이 몇 개 있는지\n",
    " - value_counts().sum() : 컬럼별 통계 수치의 합 확인\n",
    " - sum() : 단독 컬럼 값의 총합\n",
    " - drop() : 컬럼 삭제\n",
    " - corr() : 상관관계\n",
    " - count(): NA를 제외한 수를 반환\n",
    " - describe(): 요약 통계를 계산(기본 통계 데이터 -> 평균, 표준편차 등)\n",
    " - min(), max(): 최소, 최댓값을 계산\n",
    " - sum(): 합을 계산\n",
    " - mean(): 평균을 계산\n",
    " - median(): 중앙값을 계산\n",
    " - var(): 분산을 계산\n",
    " - std(): 표준편차를 계산\n",
    " - argmin(), argmax(): 최소, 최댓값을 가지고 있는 값을 반환\n",
    " - idxmin(), idxmax(): 최소, 최댓값을 가지고 있는 인덱스를 반환\n",
    " - cumsum(): 누적 합을 계산\n",
    " - pct_change(): 퍼센트 변화율을 계산"
   ]
  },
  {
   "cell_type": "markdown",
   "id": "c8bbf514",
   "metadata": {},
   "source": [
    "## 8-14. 끝으로\n",
    "- Pandas를 활용하면 수많은 표 형태의 구조화 데이터를 다룰 수 있다.\n",
    "- Pandas 공식 문서에서 정리한 Pandas 주요 기능 : [10 minutes to pandas](https://pandas.pydata.org/pandas-docs/stable/user_guide/10min.html)"
   ]
  }
 ],
 "metadata": {
  "kernelspec": {
   "display_name": "Python 3 (ipykernel)",
   "language": "python",
   "name": "python3"
  },
  "language_info": {
   "codemirror_mode": {
    "name": "ipython",
    "version": 3
   },
   "file_extension": ".py",
   "mimetype": "text/x-python",
   "name": "python",
   "nbconvert_exporter": "python",
   "pygments_lexer": "ipython3",
   "version": "3.9.7"
  }
 },
 "nbformat": 4,
 "nbformat_minor": 5
}
