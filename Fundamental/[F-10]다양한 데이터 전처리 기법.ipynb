{
 "cells": [
  {
   "cell_type": "markdown",
   "id": "67ec0c55",
   "metadata": {},
   "source": [
    "# 10강. 다양한 데이터 전처리 기법\n",
    "## 10-1. 들어가며\n",
    "### 전처리는 왜 중요할까?\n",
    "- 전처리에 따라서 데이터 분석의 질이 달라진다. 전처리가 충분히 되어있지 않거나 잘못된 데이터를 사용한 경우 분석 결과의 신뢰도가 떨어지고, 예측 모델의 정확도도 떨어질 것이다. 전처리가 잘 되어 있는 경우 데이터 분석의 질이 높아지고 예측 모델의 성능을 높일 수 있다."
   ]
  },
  {
   "cell_type": "markdown",
   "id": "c4ac745b",
   "metadata": {},
   "source": [
    "### 데이터 준비\n",
    "- 관세청 수출입 무역 통계\n",
    " - 데이터셋 : [trade.csv](https://drive.google.com/file/d/1IJcOvd2R1CU26yF2tDn1hQUXmylguOS6/view?usp=share_link)\n",
    " - [출처](https://unipass.customs.go.kr/ets/index.do)"
   ]
  },
  {
   "cell_type": "code",
   "execution_count": 1,
   "id": "7b752cc9",
   "metadata": {},
   "outputs": [],
   "source": [
    "!mkdir -p ~/aiffel/data_preprocess/\n",
    "!ln -s ~/data/ ~/aiffel/data_preprocess/"
   ]
  },
  {
   "cell_type": "code",
   "execution_count": 2,
   "id": "3efb0187",
   "metadata": {},
   "outputs": [],
   "source": [
    "import pandas as pd\n",
    "import numpy as np\n",
    "import matplotlib.pyplot as plt"
   ]
  },
  {
   "cell_type": "code",
   "execution_count": 3,
   "id": "300d1b07",
   "metadata": {},
   "outputs": [
    {
     "data": {
      "text/html": [
       "<div>\n",
       "<style scoped>\n",
       "    .dataframe tbody tr th:only-of-type {\n",
       "        vertical-align: middle;\n",
       "    }\n",
       "\n",
       "    .dataframe tbody tr th {\n",
       "        vertical-align: top;\n",
       "    }\n",
       "\n",
       "    .dataframe thead th {\n",
       "        text-align: right;\n",
       "    }\n",
       "</style>\n",
       "<table border=\"1\" class=\"dataframe\">\n",
       "  <thead>\n",
       "    <tr style=\"text-align: right;\">\n",
       "      <th></th>\n",
       "      <th>기간</th>\n",
       "      <th>국가명</th>\n",
       "      <th>수출건수</th>\n",
       "      <th>수출금액</th>\n",
       "      <th>수입건수</th>\n",
       "      <th>수입금액</th>\n",
       "      <th>무역수지</th>\n",
       "      <th>기타사항</th>\n",
       "    </tr>\n",
       "  </thead>\n",
       "  <tbody>\n",
       "    <tr>\n",
       "      <th>0</th>\n",
       "      <td>2015년 01월</td>\n",
       "      <td>중국</td>\n",
       "      <td>116932.0</td>\n",
       "      <td>12083947.0</td>\n",
       "      <td>334522.0</td>\n",
       "      <td>8143271.0</td>\n",
       "      <td>3940676.0</td>\n",
       "      <td>NaN</td>\n",
       "    </tr>\n",
       "    <tr>\n",
       "      <th>1</th>\n",
       "      <td>2015년 01월</td>\n",
       "      <td>미국</td>\n",
       "      <td>65888.0</td>\n",
       "      <td>5561545.0</td>\n",
       "      <td>509564.0</td>\n",
       "      <td>3625062.0</td>\n",
       "      <td>1936484.0</td>\n",
       "      <td>NaN</td>\n",
       "    </tr>\n",
       "    <tr>\n",
       "      <th>2</th>\n",
       "      <td>2015년 01월</td>\n",
       "      <td>일본</td>\n",
       "      <td>54017.0</td>\n",
       "      <td>2251307.0</td>\n",
       "      <td>82480.0</td>\n",
       "      <td>3827247.0</td>\n",
       "      <td>-1575940.0</td>\n",
       "      <td>NaN</td>\n",
       "    </tr>\n",
       "    <tr>\n",
       "      <th>3</th>\n",
       "      <td>2015년 02월</td>\n",
       "      <td>중국</td>\n",
       "      <td>86228.0</td>\n",
       "      <td>9927642.0</td>\n",
       "      <td>209100.0</td>\n",
       "      <td>6980874.0</td>\n",
       "      <td>2946768.0</td>\n",
       "      <td>NaN</td>\n",
       "    </tr>\n",
       "    <tr>\n",
       "      <th>4</th>\n",
       "      <td>2015년 02월</td>\n",
       "      <td>미국</td>\n",
       "      <td>60225.0</td>\n",
       "      <td>5021264.0</td>\n",
       "      <td>428678.0</td>\n",
       "      <td>2998216.0</td>\n",
       "      <td>2023048.0</td>\n",
       "      <td>NaN</td>\n",
       "    </tr>\n",
       "  </tbody>\n",
       "</table>\n",
       "</div>"
      ],
      "text/plain": [
       "          기간 국가명      수출건수        수출금액      수입건수       수입금액       무역수지  기타사항\n",
       "0  2015년 01월  중국  116932.0  12083947.0  334522.0  8143271.0  3940676.0   NaN\n",
       "1  2015년 01월  미국   65888.0   5561545.0  509564.0  3625062.0  1936484.0   NaN\n",
       "2  2015년 01월  일본   54017.0   2251307.0   82480.0  3827247.0 -1575940.0   NaN\n",
       "3  2015년 02월  중국   86228.0   9927642.0  209100.0  6980874.0  2946768.0   NaN\n",
       "4  2015년 02월  미국   60225.0   5021264.0  428678.0  2998216.0  2023048.0   NaN"
      ]
     },
     "execution_count": 3,
     "metadata": {},
     "output_type": "execute_result"
    }
   ],
   "source": [
    "import os\n",
    "\n",
    "csv_file_path = os.getenv('HOME')+'/aiffel/data_preprocess/data/trade.csv'\n",
    "trade = pd.read_csv(csv_file_path) \n",
    "trade.head()"
   ]
  },
  {
   "cell_type": "markdown",
   "id": "640eeb93",
   "metadata": {},
   "source": [
    "## 10-2. 결측치(Missing Data)\n",
    "- 데이터는 결측치를 포함하고 있는 경우가 많다. 물론 데이터를 수집하는 과정에서 누락되지 않도록 하는 것이 더 좋은 방법이지만 이미 결측치가 존재한다면 이를 처리해 주어야 한다.\n",
    "- 결측치를 처리하는 방법은 크게 두 가지가 있다.\n",
    " - 결측치가 있는 데이터를 제거한다.\n",
    " - 결측치를 어떤 값으로 대체한다.\n",
    " - 결측치를 대체하는 방법은 다양한데 데이터마다 특성을 반영하여 해결해야 한다."
   ]
  },
  {
   "cell_type": "code",
   "execution_count": 4,
   "id": "1d8da93c",
   "metadata": {},
   "outputs": [
    {
     "name": "stdout",
     "output_type": "stream",
     "text": [
      "전체 데이터 건수: 199\n"
     ]
    }
   ],
   "source": [
    "print('전체 데이터 건수:', len(trade))"
   ]
  },
  {
   "cell_type": "code",
   "execution_count": 5,
   "id": "9092f107",
   "metadata": {},
   "outputs": [
    {
     "name": "stdout",
     "output_type": "stream",
     "text": [
      "컬럼별 결측치 개수\n"
     ]
    },
    {
     "data": {
      "text/plain": [
       "기간        0\n",
       "국가명       0\n",
       "수출건수      3\n",
       "수출금액      4\n",
       "수입건수      3\n",
       "수입금액      3\n",
       "무역수지      4\n",
       "기타사항    199\n",
       "dtype: int64"
      ]
     },
     "execution_count": 5,
     "metadata": {},
     "output_type": "execute_result"
    }
   ],
   "source": [
    "# 결측치 여부 확인 (전체 데이터 건수 - 각 컬럼별 값이 있는 데이터 수)\n",
    "print('컬럼별 결측치 개수')\n",
    "len(trade) - trade.count()"
   ]
  },
  {
   "cell_type": "code",
   "execution_count": 6,
   "id": "3b430e1c",
   "metadata": {},
   "outputs": [
    {
     "data": {
      "text/html": [
       "<div>\n",
       "<style scoped>\n",
       "    .dataframe tbody tr th:only-of-type {\n",
       "        vertical-align: middle;\n",
       "    }\n",
       "\n",
       "    .dataframe tbody tr th {\n",
       "        vertical-align: top;\n",
       "    }\n",
       "\n",
       "    .dataframe thead th {\n",
       "        text-align: right;\n",
       "    }\n",
       "</style>\n",
       "<table border=\"1\" class=\"dataframe\">\n",
       "  <thead>\n",
       "    <tr style=\"text-align: right;\">\n",
       "      <th></th>\n",
       "      <th>기간</th>\n",
       "      <th>국가명</th>\n",
       "      <th>수출건수</th>\n",
       "      <th>수출금액</th>\n",
       "      <th>수입건수</th>\n",
       "      <th>수입금액</th>\n",
       "      <th>무역수지</th>\n",
       "    </tr>\n",
       "  </thead>\n",
       "  <tbody>\n",
       "    <tr>\n",
       "      <th>0</th>\n",
       "      <td>2015년 01월</td>\n",
       "      <td>중국</td>\n",
       "      <td>116932.0</td>\n",
       "      <td>12083947.0</td>\n",
       "      <td>334522.0</td>\n",
       "      <td>8143271.0</td>\n",
       "      <td>3940676.0</td>\n",
       "    </tr>\n",
       "    <tr>\n",
       "      <th>1</th>\n",
       "      <td>2015년 01월</td>\n",
       "      <td>미국</td>\n",
       "      <td>65888.0</td>\n",
       "      <td>5561545.0</td>\n",
       "      <td>509564.0</td>\n",
       "      <td>3625062.0</td>\n",
       "      <td>1936484.0</td>\n",
       "    </tr>\n",
       "    <tr>\n",
       "      <th>2</th>\n",
       "      <td>2015년 01월</td>\n",
       "      <td>일본</td>\n",
       "      <td>54017.0</td>\n",
       "      <td>2251307.0</td>\n",
       "      <td>82480.0</td>\n",
       "      <td>3827247.0</td>\n",
       "      <td>-1575940.0</td>\n",
       "    </tr>\n",
       "    <tr>\n",
       "      <th>3</th>\n",
       "      <td>2015년 02월</td>\n",
       "      <td>중국</td>\n",
       "      <td>86228.0</td>\n",
       "      <td>9927642.0</td>\n",
       "      <td>209100.0</td>\n",
       "      <td>6980874.0</td>\n",
       "      <td>2946768.0</td>\n",
       "    </tr>\n",
       "    <tr>\n",
       "      <th>4</th>\n",
       "      <td>2015년 02월</td>\n",
       "      <td>미국</td>\n",
       "      <td>60225.0</td>\n",
       "      <td>5021264.0</td>\n",
       "      <td>428678.0</td>\n",
       "      <td>2998216.0</td>\n",
       "      <td>2023048.0</td>\n",
       "    </tr>\n",
       "  </tbody>\n",
       "</table>\n",
       "</div>"
      ],
      "text/plain": [
       "          기간 국가명      수출건수        수출금액      수입건수       수입금액       무역수지\n",
       "0  2015년 01월  중국  116932.0  12083947.0  334522.0  8143271.0  3940676.0\n",
       "1  2015년 01월  미국   65888.0   5561545.0  509564.0  3625062.0  1936484.0\n",
       "2  2015년 01월  일본   54017.0   2251307.0   82480.0  3827247.0 -1575940.0\n",
       "3  2015년 02월  중국   86228.0   9927642.0  209100.0  6980874.0  2946768.0\n",
       "4  2015년 02월  미국   60225.0   5021264.0  428678.0  2998216.0  2023048.0"
      ]
     },
     "execution_count": 6,
     "metadata": {},
     "output_type": "execute_result"
    }
   ],
   "source": [
    "trade = trade.drop('기타사항', axis=1)\n",
    "trade.head()"
   ]
  },
  {
   "cell_type": "markdown",
   "id": "493ff81e",
   "metadata": {},
   "source": [
    "- '기타사항'은 전부 결측치이다. 이는 아무런 정보가 없는 컬럼이므로 삭제한다."
   ]
  },
  {
   "cell_type": "code",
   "execution_count": 7,
   "id": "51ba22c9",
   "metadata": {},
   "outputs": [
    {
     "data": {
      "text/html": [
       "<div>\n",
       "<style scoped>\n",
       "    .dataframe tbody tr th:only-of-type {\n",
       "        vertical-align: middle;\n",
       "    }\n",
       "\n",
       "    .dataframe tbody tr th {\n",
       "        vertical-align: top;\n",
       "    }\n",
       "\n",
       "    .dataframe thead th {\n",
       "        text-align: right;\n",
       "    }\n",
       "</style>\n",
       "<table border=\"1\" class=\"dataframe\">\n",
       "  <thead>\n",
       "    <tr style=\"text-align: right;\">\n",
       "      <th></th>\n",
       "      <th>기간</th>\n",
       "      <th>국가명</th>\n",
       "      <th>수출건수</th>\n",
       "      <th>수출금액</th>\n",
       "      <th>수입건수</th>\n",
       "      <th>수입금액</th>\n",
       "      <th>무역수지</th>\n",
       "    </tr>\n",
       "  </thead>\n",
       "  <tbody>\n",
       "    <tr>\n",
       "      <th>0</th>\n",
       "      <td>False</td>\n",
       "      <td>False</td>\n",
       "      <td>False</td>\n",
       "      <td>False</td>\n",
       "      <td>False</td>\n",
       "      <td>False</td>\n",
       "      <td>False</td>\n",
       "    </tr>\n",
       "    <tr>\n",
       "      <th>1</th>\n",
       "      <td>False</td>\n",
       "      <td>False</td>\n",
       "      <td>False</td>\n",
       "      <td>False</td>\n",
       "      <td>False</td>\n",
       "      <td>False</td>\n",
       "      <td>False</td>\n",
       "    </tr>\n",
       "    <tr>\n",
       "      <th>2</th>\n",
       "      <td>False</td>\n",
       "      <td>False</td>\n",
       "      <td>False</td>\n",
       "      <td>False</td>\n",
       "      <td>False</td>\n",
       "      <td>False</td>\n",
       "      <td>False</td>\n",
       "    </tr>\n",
       "    <tr>\n",
       "      <th>3</th>\n",
       "      <td>False</td>\n",
       "      <td>False</td>\n",
       "      <td>False</td>\n",
       "      <td>False</td>\n",
       "      <td>False</td>\n",
       "      <td>False</td>\n",
       "      <td>False</td>\n",
       "    </tr>\n",
       "    <tr>\n",
       "      <th>4</th>\n",
       "      <td>False</td>\n",
       "      <td>False</td>\n",
       "      <td>False</td>\n",
       "      <td>False</td>\n",
       "      <td>False</td>\n",
       "      <td>False</td>\n",
       "      <td>False</td>\n",
       "    </tr>\n",
       "    <tr>\n",
       "      <th>...</th>\n",
       "      <td>...</td>\n",
       "      <td>...</td>\n",
       "      <td>...</td>\n",
       "      <td>...</td>\n",
       "      <td>...</td>\n",
       "      <td>...</td>\n",
       "      <td>...</td>\n",
       "    </tr>\n",
       "    <tr>\n",
       "      <th>194</th>\n",
       "      <td>False</td>\n",
       "      <td>False</td>\n",
       "      <td>False</td>\n",
       "      <td>False</td>\n",
       "      <td>False</td>\n",
       "      <td>False</td>\n",
       "      <td>False</td>\n",
       "    </tr>\n",
       "    <tr>\n",
       "      <th>195</th>\n",
       "      <td>False</td>\n",
       "      <td>False</td>\n",
       "      <td>False</td>\n",
       "      <td>False</td>\n",
       "      <td>False</td>\n",
       "      <td>False</td>\n",
       "      <td>False</td>\n",
       "    </tr>\n",
       "    <tr>\n",
       "      <th>196</th>\n",
       "      <td>False</td>\n",
       "      <td>False</td>\n",
       "      <td>True</td>\n",
       "      <td>True</td>\n",
       "      <td>True</td>\n",
       "      <td>True</td>\n",
       "      <td>True</td>\n",
       "    </tr>\n",
       "    <tr>\n",
       "      <th>197</th>\n",
       "      <td>False</td>\n",
       "      <td>False</td>\n",
       "      <td>True</td>\n",
       "      <td>True</td>\n",
       "      <td>True</td>\n",
       "      <td>True</td>\n",
       "      <td>True</td>\n",
       "    </tr>\n",
       "    <tr>\n",
       "      <th>198</th>\n",
       "      <td>False</td>\n",
       "      <td>False</td>\n",
       "      <td>True</td>\n",
       "      <td>True</td>\n",
       "      <td>True</td>\n",
       "      <td>True</td>\n",
       "      <td>True</td>\n",
       "    </tr>\n",
       "  </tbody>\n",
       "</table>\n",
       "<p>199 rows × 7 columns</p>\n",
       "</div>"
      ],
      "text/plain": [
       "        기간    국가명   수출건수   수출금액   수입건수   수입금액   무역수지\n",
       "0    False  False  False  False  False  False  False\n",
       "1    False  False  False  False  False  False  False\n",
       "2    False  False  False  False  False  False  False\n",
       "3    False  False  False  False  False  False  False\n",
       "4    False  False  False  False  False  False  False\n",
       "..     ...    ...    ...    ...    ...    ...    ...\n",
       "194  False  False  False  False  False  False  False\n",
       "195  False  False  False  False  False  False  False\n",
       "196  False  False   True   True   True   True   True\n",
       "197  False  False   True   True   True   True   True\n",
       "198  False  False   True   True   True   True   True\n",
       "\n",
       "[199 rows x 7 columns]"
      ]
     },
     "execution_count": 7,
     "metadata": {},
     "output_type": "execute_result"
    }
   ],
   "source": [
    "# 결측치가 있는 행 확인\n",
    "trade.isnull()"
   ]
  },
  {
   "cell_type": "code",
   "execution_count": 8,
   "id": "ce02daa8",
   "metadata": {},
   "outputs": [
    {
     "data": {
      "text/plain": [
       "0      False\n",
       "1      False\n",
       "2      False\n",
       "3      False\n",
       "4      False\n",
       "       ...  \n",
       "194    False\n",
       "195    False\n",
       "196     True\n",
       "197     True\n",
       "198     True\n",
       "Length: 199, dtype: bool"
      ]
     },
     "execution_count": 8,
     "metadata": {},
     "output_type": "execute_result"
    }
   ],
   "source": [
    "trade.isnull().any(axis=1)"
   ]
  },
  {
   "cell_type": "markdown",
   "id": "d79328b0",
   "metadata": {},
   "source": [
    "- DataFrame.isnull()은 데이터마다 결측치 여부를 True, False로 반환한다. DataFrame.any(axis=1)는 행마다 하나라도 True가 있으면 True, 그렇지 않으면 False를 반환한다. 두 메서드를 조합하여 결측치가 하나라도 있는 행을 찾는다. DataFrame에 isnull()을 적용하고, 여기도 또 any(axis=1) 메서드를 적용하여 '각 행에 결측치가 하나라도 있는지' 여부를 불리언 값으로 가진 Series가 출력된다."
   ]
  },
  {
   "cell_type": "code",
   "execution_count": 9,
   "id": "2c57402d",
   "metadata": {},
   "outputs": [
    {
     "data": {
      "text/html": [
       "<div>\n",
       "<style scoped>\n",
       "    .dataframe tbody tr th:only-of-type {\n",
       "        vertical-align: middle;\n",
       "    }\n",
       "\n",
       "    .dataframe tbody tr th {\n",
       "        vertical-align: top;\n",
       "    }\n",
       "\n",
       "    .dataframe thead th {\n",
       "        text-align: right;\n",
       "    }\n",
       "</style>\n",
       "<table border=\"1\" class=\"dataframe\">\n",
       "  <thead>\n",
       "    <tr style=\"text-align: right;\">\n",
       "      <th></th>\n",
       "      <th>기간</th>\n",
       "      <th>국가명</th>\n",
       "      <th>수출건수</th>\n",
       "      <th>수출금액</th>\n",
       "      <th>수입건수</th>\n",
       "      <th>수입금액</th>\n",
       "      <th>무역수지</th>\n",
       "    </tr>\n",
       "  </thead>\n",
       "  <tbody>\n",
       "    <tr>\n",
       "      <th>191</th>\n",
       "      <td>2020년 04월</td>\n",
       "      <td>미국</td>\n",
       "      <td>105360.0</td>\n",
       "      <td>NaN</td>\n",
       "      <td>1141118.0</td>\n",
       "      <td>5038739.0</td>\n",
       "      <td>NaN</td>\n",
       "    </tr>\n",
       "    <tr>\n",
       "      <th>196</th>\n",
       "      <td>2020년 06월</td>\n",
       "      <td>중국</td>\n",
       "      <td>NaN</td>\n",
       "      <td>NaN</td>\n",
       "      <td>NaN</td>\n",
       "      <td>NaN</td>\n",
       "      <td>NaN</td>\n",
       "    </tr>\n",
       "    <tr>\n",
       "      <th>197</th>\n",
       "      <td>2020년 06월</td>\n",
       "      <td>미국</td>\n",
       "      <td>NaN</td>\n",
       "      <td>NaN</td>\n",
       "      <td>NaN</td>\n",
       "      <td>NaN</td>\n",
       "      <td>NaN</td>\n",
       "    </tr>\n",
       "    <tr>\n",
       "      <th>198</th>\n",
       "      <td>2020년 06월</td>\n",
       "      <td>일본</td>\n",
       "      <td>NaN</td>\n",
       "      <td>NaN</td>\n",
       "      <td>NaN</td>\n",
       "      <td>NaN</td>\n",
       "      <td>NaN</td>\n",
       "    </tr>\n",
       "  </tbody>\n",
       "</table>\n",
       "</div>"
      ],
      "text/plain": [
       "            기간 국가명      수출건수  수출금액       수입건수       수입금액  무역수지\n",
       "191  2020년 04월  미국  105360.0   NaN  1141118.0  5038739.0   NaN\n",
       "196  2020년 06월  중국       NaN   NaN        NaN        NaN   NaN\n",
       "197  2020년 06월  미국       NaN   NaN        NaN        NaN   NaN\n",
       "198  2020년 06월  일본       NaN   NaN        NaN        NaN   NaN"
      ]
     },
     "execution_count": 9,
     "metadata": {},
     "output_type": "execute_result"
    }
   ],
   "source": [
    "trade[trade.isnull().any(axis=1)]"
   ]
  },
  {
   "cell_type": "markdown",
   "id": "fa0f4d42",
   "metadata": {},
   "source": [
    "- trade.isnull().any(axis=1)을 다시 DataFrame에 넣어주면 값이 True인 데이터만 추출한다.\n",
    "- index 191 데이터는 수출금액과 무역수지 컬럼이 빠져있고, index 196, 197, 198은 기간, 국가명을 제외하고 모두 결측치이다. 이 경우 index 191 데이터는 삭제하기보다 특정 값으로 대체하는 것이 좋다. 반면 index 196, 197, 198은 제거하는 것이 좋다."
   ]
  },
  {
   "cell_type": "code",
   "execution_count": 10,
   "id": "84c221ee",
   "metadata": {},
   "outputs": [
    {
     "name": "stdout",
     "output_type": "stream",
     "text": [
      "👽 It's okay, no biggie.\n"
     ]
    }
   ],
   "source": [
    "# 결측치 열 삭제\n",
    "trade.dropna(how='all', subset=['수출건수', '수출금액', '수입건수', '수입금액', '무역수지'], inplace=True)\n",
    "print(\"👽 It's okay, no biggie.\")"
   ]
  },
  {
   "cell_type": "markdown",
   "id": "497b7dc2",
   "metadata": {},
   "source": [
    "- '수출건수', '수출금액', '수입건수', '수입금액', '무역수지' 열이 모두 결측치인 index 196, 197, 198을 삭제한다.\n",
    "- DataFrame의 dropna는 결측치를 삭제해 주는 메서드이다. subset 옵션으로 특정 컬럼들을 선택한다. how 옵션으로 선택한 컬럼 전부가 결측치인 행을 삭제하겠다는 의미로 'all'을 선택한다(cf.'any': 하나라도 결측치인 경우). inplace 옵션으로 해당 DataFrame 내부에 바로 적용시킨다."
   ]
  },
  {
   "cell_type": "code",
   "execution_count": 11,
   "id": "c0969f82",
   "metadata": {},
   "outputs": [
    {
     "data": {
      "text/html": [
       "<div>\n",
       "<style scoped>\n",
       "    .dataframe tbody tr th:only-of-type {\n",
       "        vertical-align: middle;\n",
       "    }\n",
       "\n",
       "    .dataframe tbody tr th {\n",
       "        vertical-align: top;\n",
       "    }\n",
       "\n",
       "    .dataframe thead th {\n",
       "        text-align: right;\n",
       "    }\n",
       "</style>\n",
       "<table border=\"1\" class=\"dataframe\">\n",
       "  <thead>\n",
       "    <tr style=\"text-align: right;\">\n",
       "      <th></th>\n",
       "      <th>기간</th>\n",
       "      <th>국가명</th>\n",
       "      <th>수출건수</th>\n",
       "      <th>수출금액</th>\n",
       "      <th>수입건수</th>\n",
       "      <th>수입금액</th>\n",
       "      <th>무역수지</th>\n",
       "    </tr>\n",
       "  </thead>\n",
       "  <tbody>\n",
       "    <tr>\n",
       "      <th>191</th>\n",
       "      <td>2020년 04월</td>\n",
       "      <td>미국</td>\n",
       "      <td>105360.0</td>\n",
       "      <td>NaN</td>\n",
       "      <td>1141118.0</td>\n",
       "      <td>5038739.0</td>\n",
       "      <td>NaN</td>\n",
       "    </tr>\n",
       "  </tbody>\n",
       "</table>\n",
       "</div>"
      ],
      "text/plain": [
       "            기간 국가명      수출건수  수출금액       수입건수       수입금액  무역수지\n",
       "191  2020년 04월  미국  105360.0   NaN  1141118.0  5038739.0   NaN"
      ]
     },
     "execution_count": 11,
     "metadata": {},
     "output_type": "execute_result"
    }
   ],
   "source": [
    "# 확인\n",
    "trade[trade.isnull().any(axis=1)]"
   ]
  },
  {
   "cell_type": "markdown",
   "id": "aa585b29",
   "metadata": {},
   "source": [
    "- aixs=0 → 행을 기준으로, axis=1 → 열을 기준으로"
   ]
  },
  {
   "cell_type": "markdown",
   "id": "b7364e92",
   "metadata": {},
   "source": [
    "index 191과 같이 수치형 데이터를 보완하는 방법\n",
    "1. 특정 값을 지정해 줄 수 있다. 그러나 결측치가 많은 경우, 모두 같은 값으로 대체한다면 데이터의 분산이 실제보다 작아지는 문제가 생길 수 있다.\n",
    "2. 평균, 중앙값 등으로 대체할 수 있다. 1번에서 특정 값으로 대체했을 때와 마찬가지로 결측치가 많은 경우 데이터의 분산이 실제보다 작아지는 문제가 발생할 수 있다.\n",
    "3. 다른 데이터를 이용해 예측값으로 대체할 수 있다. 예를 들어 머신러닝 모델로 2020년 4월 미국의 예측값을 만들고, 이 값으로 결측치를 보완할 수 있다.\n",
    "4. 시계열 특성을 가진 데이터의 경우 앞뒤 데이터를 통해 결측치를 대체할 수 있다. 예를 들어 기온을 측정하는 센서 데이터에서 결측치가 발생할 경우, 전후 데이터의 평균으로 보완할 수 있다.\n",
    "\n",
    "- index 191은 4번 방법을 통해 보완"
   ]
  },
  {
   "cell_type": "code",
   "execution_count": 12,
   "id": "bd8b939e",
   "metadata": {},
   "outputs": [
    {
     "data": {
      "text/html": [
       "<div>\n",
       "<style scoped>\n",
       "    .dataframe tbody tr th:only-of-type {\n",
       "        vertical-align: middle;\n",
       "    }\n",
       "\n",
       "    .dataframe tbody tr th {\n",
       "        vertical-align: top;\n",
       "    }\n",
       "\n",
       "    .dataframe thead th {\n",
       "        text-align: right;\n",
       "    }\n",
       "</style>\n",
       "<table border=\"1\" class=\"dataframe\">\n",
       "  <thead>\n",
       "    <tr style=\"text-align: right;\">\n",
       "      <th></th>\n",
       "      <th>기간</th>\n",
       "      <th>국가명</th>\n",
       "      <th>수출건수</th>\n",
       "      <th>수출금액</th>\n",
       "      <th>수입건수</th>\n",
       "      <th>수입금액</th>\n",
       "      <th>무역수지</th>\n",
       "    </tr>\n",
       "  </thead>\n",
       "  <tbody>\n",
       "    <tr>\n",
       "      <th>188</th>\n",
       "      <td>2020년 03월</td>\n",
       "      <td>미국</td>\n",
       "      <td>97117.0</td>\n",
       "      <td>7292838.0</td>\n",
       "      <td>1368345.0</td>\n",
       "      <td>5388338.0</td>\n",
       "      <td>1904500.0</td>\n",
       "    </tr>\n",
       "    <tr>\n",
       "      <th>194</th>\n",
       "      <td>2020년 05월</td>\n",
       "      <td>미국</td>\n",
       "      <td>126598.0</td>\n",
       "      <td>4600726.0</td>\n",
       "      <td>1157163.0</td>\n",
       "      <td>4286873.0</td>\n",
       "      <td>313853.0</td>\n",
       "    </tr>\n",
       "  </tbody>\n",
       "</table>\n",
       "</div>"
      ],
      "text/plain": [
       "            기간 국가명      수출건수       수출금액       수입건수       수입금액       무역수지\n",
       "188  2020년 03월  미국   97117.0  7292838.0  1368345.0  5388338.0  1904500.0\n",
       "194  2020년 05월  미국  126598.0  4600726.0  1157163.0  4286873.0   313853.0"
      ]
     },
     "execution_count": 12,
     "metadata": {},
     "output_type": "execute_result"
    }
   ],
   "source": [
    "trade[(trade['국가명']=='미국')&((trade['기간']=='2020년 03월')|(trade['기간'] == '2020년 05월'))]"
   ]
  },
  {
   "cell_type": "markdown",
   "id": "d5beeda0",
   "metadata": {},
   "source": [
    "- trade 데이터셋에서 국가명인 미국이며 2020년 3월과 5월 데이터셋을 출력한다. 실행 결과 각 항목의 인덱스는 188, 194이다."
   ]
  },
  {
   "cell_type": "code",
   "execution_count": 13,
   "id": "6a325efe",
   "metadata": {},
   "outputs": [
    {
     "data": {
      "text/html": [
       "<div>\n",
       "<style scoped>\n",
       "    .dataframe tbody tr th:only-of-type {\n",
       "        vertical-align: middle;\n",
       "    }\n",
       "\n",
       "    .dataframe tbody tr th {\n",
       "        vertical-align: top;\n",
       "    }\n",
       "\n",
       "    .dataframe thead th {\n",
       "        text-align: right;\n",
       "    }\n",
       "</style>\n",
       "<table border=\"1\" class=\"dataframe\">\n",
       "  <thead>\n",
       "    <tr style=\"text-align: right;\">\n",
       "      <th></th>\n",
       "      <th>기간</th>\n",
       "      <th>국가명</th>\n",
       "      <th>수출건수</th>\n",
       "      <th>수출금액</th>\n",
       "      <th>수입건수</th>\n",
       "      <th>수입금액</th>\n",
       "      <th>무역수지</th>\n",
       "    </tr>\n",
       "  </thead>\n",
       "  <tbody>\n",
       "    <tr>\n",
       "      <th>191</th>\n",
       "      <td>2020년 04월</td>\n",
       "      <td>미국</td>\n",
       "      <td>105360.0</td>\n",
       "      <td>5946782.0</td>\n",
       "      <td>1141118.0</td>\n",
       "      <td>5038739.0</td>\n",
       "      <td>NaN</td>\n",
       "    </tr>\n",
       "  </tbody>\n",
       "</table>\n",
       "</div>"
      ],
      "text/plain": [
       "            기간 국가명      수출건수       수출금액       수입건수       수입금액  무역수지\n",
       "191  2020년 04월  미국  105360.0  5946782.0  1141118.0  5038739.0   NaN"
      ]
     },
     "execution_count": 13,
     "metadata": {},
     "output_type": "execute_result"
    }
   ],
   "source": [
    "trade.loc[191, '수출금액'] = (trade.loc[188, '수출금액'] + trade.loc[194, '수출금액'] )/2\n",
    "trade.loc[[191]]"
   ]
  },
  {
   "cell_type": "markdown",
   "id": "9da3d339",
   "metadata": {},
   "source": [
    "- index 191의 수출금액 컬럼값을 이전 달과 다음 달의 평균으로 채운다."
   ]
  },
  {
   "cell_type": "code",
   "execution_count": 14,
   "id": "b32286fa",
   "metadata": {},
   "outputs": [
    {
     "data": {
      "text/html": [
       "<div>\n",
       "<style scoped>\n",
       "    .dataframe tbody tr th:only-of-type {\n",
       "        vertical-align: middle;\n",
       "    }\n",
       "\n",
       "    .dataframe tbody tr th {\n",
       "        vertical-align: top;\n",
       "    }\n",
       "\n",
       "    .dataframe thead th {\n",
       "        text-align: right;\n",
       "    }\n",
       "</style>\n",
       "<table border=\"1\" class=\"dataframe\">\n",
       "  <thead>\n",
       "    <tr style=\"text-align: right;\">\n",
       "      <th></th>\n",
       "      <th>기간</th>\n",
       "      <th>국가명</th>\n",
       "      <th>수출건수</th>\n",
       "      <th>수출금액</th>\n",
       "      <th>수입건수</th>\n",
       "      <th>수입금액</th>\n",
       "      <th>무역수지</th>\n",
       "    </tr>\n",
       "  </thead>\n",
       "  <tbody>\n",
       "    <tr>\n",
       "      <th>191</th>\n",
       "      <td>2020년 04월</td>\n",
       "      <td>미국</td>\n",
       "      <td>105360.0</td>\n",
       "      <td>5946782.0</td>\n",
       "      <td>1141118.0</td>\n",
       "      <td>5038739.0</td>\n",
       "      <td>908043.0</td>\n",
       "    </tr>\n",
       "  </tbody>\n",
       "</table>\n",
       "</div>"
      ],
      "text/plain": [
       "            기간 국가명      수출건수       수출금액       수입건수       수입금액      무역수지\n",
       "191  2020년 04월  미국  105360.0  5946782.0  1141118.0  5038739.0  908043.0"
      ]
     },
     "execution_count": 14,
     "metadata": {},
     "output_type": "execute_result"
    }
   ],
   "source": [
    "trade.loc[191, '무역수지'] = trade.loc[191, '수출금액'] - trade.loc[191, '수입금액'] \n",
    "trade.loc[[191]]"
   ]
  },
  {
   "cell_type": "markdown",
   "id": "4fe88dcf",
   "metadata": {},
   "source": [
    "- index 191의 무역수지 컬럼은 수출금액과 수입금액의 차이를 이용하여 채운다."
   ]
  },
  {
   "cell_type": "code",
   "execution_count": 15,
   "id": "1e7cf1b4",
   "metadata": {},
   "outputs": [
    {
     "data": {
      "text/html": [
       "<div>\n",
       "<style scoped>\n",
       "    .dataframe tbody tr th:only-of-type {\n",
       "        vertical-align: middle;\n",
       "    }\n",
       "\n",
       "    .dataframe tbody tr th {\n",
       "        vertical-align: top;\n",
       "    }\n",
       "\n",
       "    .dataframe thead th {\n",
       "        text-align: right;\n",
       "    }\n",
       "</style>\n",
       "<table border=\"1\" class=\"dataframe\">\n",
       "  <thead>\n",
       "    <tr style=\"text-align: right;\">\n",
       "      <th></th>\n",
       "      <th>기간</th>\n",
       "      <th>국가명</th>\n",
       "      <th>수출건수</th>\n",
       "      <th>수출금액</th>\n",
       "      <th>수입건수</th>\n",
       "      <th>수입금액</th>\n",
       "      <th>무역수지</th>\n",
       "    </tr>\n",
       "  </thead>\n",
       "  <tbody>\n",
       "    <tr>\n",
       "      <th>191</th>\n",
       "      <td>2020년 04월</td>\n",
       "      <td>미국</td>\n",
       "      <td>105360.0</td>\n",
       "      <td>5946782.0</td>\n",
       "      <td>1141118.0</td>\n",
       "      <td>5038739.0</td>\n",
       "      <td>908043.0</td>\n",
       "    </tr>\n",
       "  </tbody>\n",
       "</table>\n",
       "</div>"
      ],
      "text/plain": [
       "            기간 국가명      수출건수       수출금액       수입건수       수입금액      무역수지\n",
       "191  2020년 04월  미국  105360.0  5946782.0  1141118.0  5038739.0  908043.0"
      ]
     },
     "execution_count": 15,
     "metadata": {},
     "output_type": "execute_result"
    }
   ],
   "source": [
    "# 다른 방법으로 index 191을 채워보기\n",
    "trade.fillna(5038739.0 - 908043.0)\n",
    "trade.loc[[191]]"
   ]
  },
  {
   "cell_type": "markdown",
   "id": "a7d21ed4",
   "metadata": {},
   "source": [
    "- Pandas DataFrame 참고\n",
    " - [pandas drop()](https://wikidocs.net/154050)\n",
    " - [pandas isnull()](https://computer-science-student.tistory.com/306)\n",
    " - [pandas dropna(](https://wikidocs.net/153202)\n",
    " - [pandas loc()](https://jhryu1208.github.io/data/2020/12/25/pandas_practice_loc/)\n",
    " - [pandas fillna()](https://wikidocs.net/153209)"
   ]
  },
  {
   "cell_type": "markdown",
   "id": "e3c81f16",
   "metadata": {},
   "source": [
    "#### 데이터가 범주형인 경우(수치형일 때와 유사) \n",
    "1. 특정 값을 지정해 줄 수 있다. 예를 들어 ‘기타’, ‘결측’과 같이 새로운 범주를 만들어 결측치를 채울 수 있다.\n",
    "2. 최빈값 등으로 대체한다. 결측치가 많은 경우 최빈값이 지나치게 많아질 수 있으므로 결측치가 많을 때는 다른 방법을 사용한다.\n",
    "3. 다른 데이터를 이용해 예측값으로 대체할 수 있다.\n",
    "4. 시계열 특성을 가진 데이터의 경우 앞뒤 데이터를 통해 결측치를 대체할 수 있다. 예를 들어 특정인의 2019년 직업이 결측치이고, 2018년과 2020년 직업이 일치한다면 그 값으로 보완할 수 있다. 만약 다르다면 둘 중 하나로 보완한다."
   ]
  },
  {
   "cell_type": "markdown",
   "id": "d113dd93",
   "metadata": {},
   "source": [
    "## 10-3. 중복된 데이터\n",
    "- 데이터를 수집하는 과정에서 중복된 데이터가 생길 수 있다. 같은 값을 가진 데이터 없이 행(row)별로 값이 유일해야 한다면 중복된 데이터를 제거해야 한다."
   ]
  },
  {
   "cell_type": "code",
   "execution_count": 16,
   "id": "aa194b20",
   "metadata": {},
   "outputs": [
    {
     "data": {
      "text/plain": [
       "0      False\n",
       "1      False\n",
       "2      False\n",
       "3      False\n",
       "4      False\n",
       "       ...  \n",
       "191    False\n",
       "192    False\n",
       "193    False\n",
       "194    False\n",
       "195    False\n",
       "Length: 196, dtype: bool"
      ]
     },
     "execution_count": 16,
     "metadata": {},
     "output_type": "execute_result"
    }
   ],
   "source": [
    "# 중복된 데이터 확인\n",
    "trade.duplicated()"
   ]
  },
  {
   "cell_type": "markdown",
   "id": "64808333",
   "metadata": {},
   "source": [
    "- [DataFrame.duplicated()](https://clolee.tistory.com/19) : 중복된 데이터 여부를 불리언 값으로 반환한다."
   ]
  },
  {
   "cell_type": "code",
   "execution_count": 17,
   "id": "18efae15",
   "metadata": {},
   "outputs": [
    {
     "data": {
      "text/html": [
       "<div>\n",
       "<style scoped>\n",
       "    .dataframe tbody tr th:only-of-type {\n",
       "        vertical-align: middle;\n",
       "    }\n",
       "\n",
       "    .dataframe tbody tr th {\n",
       "        vertical-align: top;\n",
       "    }\n",
       "\n",
       "    .dataframe thead th {\n",
       "        text-align: right;\n",
       "    }\n",
       "</style>\n",
       "<table border=\"1\" class=\"dataframe\">\n",
       "  <thead>\n",
       "    <tr style=\"text-align: right;\">\n",
       "      <th></th>\n",
       "      <th>기간</th>\n",
       "      <th>국가명</th>\n",
       "      <th>수출건수</th>\n",
       "      <th>수출금액</th>\n",
       "      <th>수입건수</th>\n",
       "      <th>수입금액</th>\n",
       "      <th>무역수지</th>\n",
       "    </tr>\n",
       "  </thead>\n",
       "  <tbody>\n",
       "    <tr>\n",
       "      <th>187</th>\n",
       "      <td>2020년 03월</td>\n",
       "      <td>중국</td>\n",
       "      <td>248059.0</td>\n",
       "      <td>10658599.0</td>\n",
       "      <td>358234.0</td>\n",
       "      <td>8948918.0</td>\n",
       "      <td>1709682.0</td>\n",
       "    </tr>\n",
       "  </tbody>\n",
       "</table>\n",
       "</div>"
      ],
      "text/plain": [
       "            기간 국가명      수출건수        수출금액      수입건수       수입금액       무역수지\n",
       "187  2020년 03월  중국  248059.0  10658599.0  358234.0  8948918.0  1709682.0"
      ]
     },
     "execution_count": 17,
     "metadata": {},
     "output_type": "execute_result"
    }
   ],
   "source": [
    "trade[trade.duplicated()]"
   ]
  },
  {
   "cell_type": "code",
   "execution_count": 18,
   "id": "8e055eb4",
   "metadata": {},
   "outputs": [
    {
     "data": {
      "text/html": [
       "<div>\n",
       "<style scoped>\n",
       "    .dataframe tbody tr th:only-of-type {\n",
       "        vertical-align: middle;\n",
       "    }\n",
       "\n",
       "    .dataframe tbody tr th {\n",
       "        vertical-align: top;\n",
       "    }\n",
       "\n",
       "    .dataframe thead th {\n",
       "        text-align: right;\n",
       "    }\n",
       "</style>\n",
       "<table border=\"1\" class=\"dataframe\">\n",
       "  <thead>\n",
       "    <tr style=\"text-align: right;\">\n",
       "      <th></th>\n",
       "      <th>기간</th>\n",
       "      <th>국가명</th>\n",
       "      <th>수출건수</th>\n",
       "      <th>수출금액</th>\n",
       "      <th>수입건수</th>\n",
       "      <th>수입금액</th>\n",
       "      <th>무역수지</th>\n",
       "    </tr>\n",
       "  </thead>\n",
       "  <tbody>\n",
       "    <tr>\n",
       "      <th>186</th>\n",
       "      <td>2020년 03월</td>\n",
       "      <td>중국</td>\n",
       "      <td>248059.0</td>\n",
       "      <td>10658599.0</td>\n",
       "      <td>358234.0</td>\n",
       "      <td>8948918.0</td>\n",
       "      <td>1709682.0</td>\n",
       "    </tr>\n",
       "    <tr>\n",
       "      <th>187</th>\n",
       "      <td>2020년 03월</td>\n",
       "      <td>중국</td>\n",
       "      <td>248059.0</td>\n",
       "      <td>10658599.0</td>\n",
       "      <td>358234.0</td>\n",
       "      <td>8948918.0</td>\n",
       "      <td>1709682.0</td>\n",
       "    </tr>\n",
       "  </tbody>\n",
       "</table>\n",
       "</div>"
      ],
      "text/plain": [
       "            기간 국가명      수출건수        수출금액      수입건수       수입금액       무역수지\n",
       "186  2020년 03월  중국  248059.0  10658599.0  358234.0  8948918.0  1709682.0\n",
       "187  2020년 03월  중국  248059.0  10658599.0  358234.0  8948918.0  1709682.0"
      ]
     },
     "execution_count": 18,
     "metadata": {},
     "output_type": "execute_result"
    }
   ],
   "source": [
    "trade[(trade['기간']=='2020년 03월')&(trade['국가명']=='중국')]"
   ]
  },
  {
   "cell_type": "code",
   "execution_count": 19,
   "id": "35e84aa6",
   "metadata": {},
   "outputs": [],
   "source": [
    "# 중복된 데이터 삭제\n",
    "trade.drop_duplicates(inplace=True)"
   ]
  },
  {
   "cell_type": "markdown",
   "id": "15f4d0f3",
   "metadata": {},
   "source": [
    "- [DataFrame.drop_duplicates](https://pandas.pydata.org/pandas-docs/stable/reference/api/pandas.DataFrame.drop_duplicates.html) : 중복된 데이터 삭제"
   ]
  },
  {
   "cell_type": "code",
   "execution_count": 20,
   "id": "a45e3c38",
   "metadata": {},
   "outputs": [
    {
     "data": {
      "text/html": [
       "<div>\n",
       "<style scoped>\n",
       "    .dataframe tbody tr th:only-of-type {\n",
       "        vertical-align: middle;\n",
       "    }\n",
       "\n",
       "    .dataframe tbody tr th {\n",
       "        vertical-align: top;\n",
       "    }\n",
       "\n",
       "    .dataframe thead th {\n",
       "        text-align: right;\n",
       "    }\n",
       "</style>\n",
       "<table border=\"1\" class=\"dataframe\">\n",
       "  <thead>\n",
       "    <tr style=\"text-align: right;\">\n",
       "      <th></th>\n",
       "      <th>id</th>\n",
       "      <th>name</th>\n",
       "    </tr>\n",
       "  </thead>\n",
       "  <tbody>\n",
       "    <tr>\n",
       "      <th>0</th>\n",
       "      <td>001</td>\n",
       "      <td>Park Yun</td>\n",
       "    </tr>\n",
       "    <tr>\n",
       "      <th>1</th>\n",
       "      <td>002</td>\n",
       "      <td>Kim Sung</td>\n",
       "    </tr>\n",
       "    <tr>\n",
       "      <th>2</th>\n",
       "      <td>003</td>\n",
       "      <td>Park Jin</td>\n",
       "    </tr>\n",
       "    <tr>\n",
       "      <th>3</th>\n",
       "      <td>004</td>\n",
       "      <td>Lee Han</td>\n",
       "    </tr>\n",
       "    <tr>\n",
       "      <th>4</th>\n",
       "      <td>002</td>\n",
       "      <td>Kim Min</td>\n",
       "    </tr>\n",
       "  </tbody>\n",
       "</table>\n",
       "</div>"
      ],
      "text/plain": [
       "    id      name\n",
       "0  001  Park Yun\n",
       "1  002  Kim Sung\n",
       "2  003  Park Jin\n",
       "3  004   Lee Han\n",
       "4  002   Kim Min"
      ]
     },
     "execution_count": 20,
     "metadata": {},
     "output_type": "execute_result"
    }
   ],
   "source": [
    "df = pd.DataFrame({'id':['001', '002', '003', '004', '002'], \n",
    "                   'name':['Park Yun', 'Kim Sung', 'Park Jin', 'Lee Han', 'Kim Min']})\n",
    "df"
   ]
  },
  {
   "cell_type": "code",
   "execution_count": 21,
   "id": "13d33424",
   "metadata": {},
   "outputs": [
    {
     "data": {
      "text/html": [
       "<div>\n",
       "<style scoped>\n",
       "    .dataframe tbody tr th:only-of-type {\n",
       "        vertical-align: middle;\n",
       "    }\n",
       "\n",
       "    .dataframe tbody tr th {\n",
       "        vertical-align: top;\n",
       "    }\n",
       "\n",
       "    .dataframe thead th {\n",
       "        text-align: right;\n",
       "    }\n",
       "</style>\n",
       "<table border=\"1\" class=\"dataframe\">\n",
       "  <thead>\n",
       "    <tr style=\"text-align: right;\">\n",
       "      <th></th>\n",
       "      <th>id</th>\n",
       "      <th>name</th>\n",
       "    </tr>\n",
       "  </thead>\n",
       "  <tbody>\n",
       "    <tr>\n",
       "      <th>0</th>\n",
       "      <td>001</td>\n",
       "      <td>Park Yun</td>\n",
       "    </tr>\n",
       "    <tr>\n",
       "      <th>2</th>\n",
       "      <td>003</td>\n",
       "      <td>Park Jin</td>\n",
       "    </tr>\n",
       "    <tr>\n",
       "      <th>3</th>\n",
       "      <td>004</td>\n",
       "      <td>Lee Han</td>\n",
       "    </tr>\n",
       "    <tr>\n",
       "      <th>4</th>\n",
       "      <td>002</td>\n",
       "      <td>Kim Min</td>\n",
       "    </tr>\n",
       "  </tbody>\n",
       "</table>\n",
       "</div>"
      ],
      "text/plain": [
       "    id      name\n",
       "0  001  Park Yun\n",
       "2  003  Park Jin\n",
       "3  004   Lee Han\n",
       "4  002   Kim Min"
      ]
     },
     "execution_count": 21,
     "metadata": {},
     "output_type": "execute_result"
    }
   ],
   "source": [
    "df.drop_duplicates(subset=['id'], keep='last')"
   ]
  },
  {
   "cell_type": "markdown",
   "id": "ea5f5bad",
   "metadata": {},
   "source": [
    "- id가 002인 데이터가 2개 있다. id가 사람마다 unique 하다고 할 때, 둘 중 하나는 삭제해야 한다. index가 클수록 나중에 들어온 데이터이고, 사용자가 이름을 수정했을 때 업데이트가 되지 않고 삽입이 되어 생긴 문제라고 가정한다면 id가 중복된 경우 맨 나중에 들어온 값만 남겨야 한다. 이때, DataFrame.drop_duplicates의 subset, keep 옵션을 통해 중복을 제거할 수 있다."
   ]
  },
  {
   "cell_type": "markdown",
   "id": "484ee77e",
   "metadata": {},
   "source": [
    "## 10-4. 이상치(Outlier)\n",
    "- 이상치란 대부분 값의 범위에서 벗어나 극단적으로 크거나 작은 값을 의미한다. Min-Max Scaling 해보면 대부분의 값은 0에 가깝고 이상치만 1에 가까운 값을 가질 것이다. 이렇게 몇 개의 이상치 때문에 대부분 값의 차이는 의미가 거의 없어지게 된다. 극단적인 값이 생기는 경우를 제외하고 데이터를 고려하고 싶은 경우 이상치를 제거하고 분석한다.\n",
    "- 이상치를 찾아내는 방법으로 가장 먼저 생각해 볼 수 있는 간단하고 자주 사용되는 방법은 평균과 표준편차를 이용하는 z score 방법이다. 평균을 빼주고 표준편차로 나눠 z score(X−μ / σ)를 계산한다. 그리고 z score가 특정 기준을 넘어서는 데이터에 대해 이상치라고 판단한다. 기준을 작게 하면 이상치라고 판단하는 데이터가 많아지고, 기준을 크게 하면 이상치라고 판단하는 데이터가 적어진다.\n",
    "- 이상치를 판단한 뒤에는\n",
    " 1. 가장 간단한 방법으로 이상치를 삭제할 수 있다. 이상치를 원래 데이터에서 삭제하고, 이상치끼리 따로 분석하는 방안도 있다.\n",
    " 2. 이상치를 다른 값으로 대체할 수 있다. 데이터가 적으면 이상치를 삭제하기보다 다른 값으로 대체하는 것이 나을 수 있다. 예를 들어 최댓값, 최솟값을 설정해 데이터의 범위를 제한할 수 있다.\n",
    " 3. 결측치와 마찬가지로 다른 데이터를 활용하여 예측 모델을 만들어 예측값을 활용할 수도 있다.\n",
    " 4. binning을 통해 수치형 데이터를 범주형으로 바꿀 수도 있다."
   ]
  },
  {
   "cell_type": "markdown",
   "id": "d34bb4fe",
   "metadata": {},
   "source": [
    "### z-score method\n",
    "- 이상치인 데이터의 인덱스를 리턴하는 outlier라는 함수를 만든다. 데이터프레임 df, 컬럼 col, 기준 z를 인풋으로 받는다.\n",
    " - abs(df[col] - np.mean(df[col])) : 데이터에서 평균을 빼준 것에 절대값을 취한다.\n",
    " - abs(df[col] - np.mean(df[col]))/np.std(df[col]) : 위에 한 작업에 표준편차로 나눈다.\n",
    " - df[abs(df[col] - np.mean(df[col]))/np.std(df[col])>z].index: 값이 z보다 큰 데이터의 인덱스를 추출한다."
   ]
  },
  {
   "cell_type": "code",
   "execution_count": 22,
   "id": "f081d82c",
   "metadata": {},
   "outputs": [],
   "source": [
    "# 이상치인 데이터의 인덱스를 리턴하는 함수\n",
    "def outlier(df, col, z):\n",
    "    return df[abs(df[col] - np.mean(df[col]))/np.std(df[col])>z].index"
   ]
  },
  {
   "cell_type": "code",
   "execution_count": 23,
   "id": "47251076",
   "metadata": {},
   "outputs": [
    {
     "data": {
      "text/html": [
       "<div>\n",
       "<style scoped>\n",
       "    .dataframe tbody tr th:only-of-type {\n",
       "        vertical-align: middle;\n",
       "    }\n",
       "\n",
       "    .dataframe tbody tr th {\n",
       "        vertical-align: top;\n",
       "    }\n",
       "\n",
       "    .dataframe thead th {\n",
       "        text-align: right;\n",
       "    }\n",
       "</style>\n",
       "<table border=\"1\" class=\"dataframe\">\n",
       "  <thead>\n",
       "    <tr style=\"text-align: right;\">\n",
       "      <th></th>\n",
       "      <th>기간</th>\n",
       "      <th>국가명</th>\n",
       "      <th>수출건수</th>\n",
       "      <th>수출금액</th>\n",
       "      <th>수입건수</th>\n",
       "      <th>수입금액</th>\n",
       "      <th>무역수지</th>\n",
       "    </tr>\n",
       "  </thead>\n",
       "  <tbody>\n",
       "    <tr>\n",
       "      <th>6</th>\n",
       "      <td>2015년 03월</td>\n",
       "      <td>중국</td>\n",
       "      <td>117529.0</td>\n",
       "      <td>11868032.0</td>\n",
       "      <td>234321.0</td>\n",
       "      <td>7226911.0</td>\n",
       "      <td>4641121.0</td>\n",
       "    </tr>\n",
       "    <tr>\n",
       "      <th>75</th>\n",
       "      <td>2017년 02월</td>\n",
       "      <td>중국</td>\n",
       "      <td>159062.0</td>\n",
       "      <td>11118131.0</td>\n",
       "      <td>188555.0</td>\n",
       "      <td>6600637.0</td>\n",
       "      <td>4517495.0</td>\n",
       "    </tr>\n",
       "    <tr>\n",
       "      <th>80</th>\n",
       "      <td>2017년 03월</td>\n",
       "      <td>일본</td>\n",
       "      <td>65093.0</td>\n",
       "      <td>2395932.0</td>\n",
       "      <td>165734.0</td>\n",
       "      <td>5157589.0</td>\n",
       "      <td>-2761657.0</td>\n",
       "    </tr>\n",
       "    <tr>\n",
       "      <th>96</th>\n",
       "      <td>2017년 09월</td>\n",
       "      <td>중국</td>\n",
       "      <td>183442.0</td>\n",
       "      <td>13540683.0</td>\n",
       "      <td>295443.0</td>\n",
       "      <td>8443414.0</td>\n",
       "      <td>5097269.0</td>\n",
       "    </tr>\n",
       "    <tr>\n",
       "      <th>99</th>\n",
       "      <td>2017년 10월</td>\n",
       "      <td>중국</td>\n",
       "      <td>137873.0</td>\n",
       "      <td>12580474.0</td>\n",
       "      <td>244977.0</td>\n",
       "      <td>7932403.0</td>\n",
       "      <td>4648071.0</td>\n",
       "    </tr>\n",
       "    <tr>\n",
       "      <th>101</th>\n",
       "      <td>2017년 10월</td>\n",
       "      <td>일본</td>\n",
       "      <td>63510.0</td>\n",
       "      <td>1847999.0</td>\n",
       "      <td>127696.0</td>\n",
       "      <td>4418583.0</td>\n",
       "      <td>-2570584.0</td>\n",
       "    </tr>\n",
       "    <tr>\n",
       "      <th>102</th>\n",
       "      <td>2017년 11월</td>\n",
       "      <td>중국</td>\n",
       "      <td>421194.0</td>\n",
       "      <td>14000887.0</td>\n",
       "      <td>307790.0</td>\n",
       "      <td>9253318.0</td>\n",
       "      <td>4747569.0</td>\n",
       "    </tr>\n",
       "    <tr>\n",
       "      <th>105</th>\n",
       "      <td>2017년 12월</td>\n",
       "      <td>중국</td>\n",
       "      <td>218114.0</td>\n",
       "      <td>13848364.0</td>\n",
       "      <td>290347.0</td>\n",
       "      <td>8600132.0</td>\n",
       "      <td>5248232.0</td>\n",
       "    </tr>\n",
       "    <tr>\n",
       "      <th>114</th>\n",
       "      <td>2018년 03월</td>\n",
       "      <td>중국</td>\n",
       "      <td>232396.0</td>\n",
       "      <td>13576667.0</td>\n",
       "      <td>267249.0</td>\n",
       "      <td>8412516.0</td>\n",
       "      <td>5164151.0</td>\n",
       "    </tr>\n",
       "    <tr>\n",
       "      <th>116</th>\n",
       "      <td>2018년 03월</td>\n",
       "      <td>일본</td>\n",
       "      <td>80142.0</td>\n",
       "      <td>2603450.0</td>\n",
       "      <td>159601.0</td>\n",
       "      <td>5226141.0</td>\n",
       "      <td>-2622691.0</td>\n",
       "    </tr>\n",
       "    <tr>\n",
       "      <th>120</th>\n",
       "      <td>2018년 05월</td>\n",
       "      <td>중국</td>\n",
       "      <td>214145.0</td>\n",
       "      <td>13851900.0</td>\n",
       "      <td>307183.0</td>\n",
       "      <td>9279720.0</td>\n",
       "      <td>4572180.0</td>\n",
       "    </tr>\n",
       "    <tr>\n",
       "      <th>123</th>\n",
       "      <td>2018년 06월</td>\n",
       "      <td>중국</td>\n",
       "      <td>257130.0</td>\n",
       "      <td>13814241.0</td>\n",
       "      <td>279023.0</td>\n",
       "      <td>8713018.0</td>\n",
       "      <td>5101223.0</td>\n",
       "    </tr>\n",
       "    <tr>\n",
       "      <th>126</th>\n",
       "      <td>2018년 07월</td>\n",
       "      <td>중국</td>\n",
       "      <td>181772.0</td>\n",
       "      <td>13721233.0</td>\n",
       "      <td>293164.0</td>\n",
       "      <td>8869278.0</td>\n",
       "      <td>4851955.0</td>\n",
       "    </tr>\n",
       "    <tr>\n",
       "      <th>129</th>\n",
       "      <td>2018년 08월</td>\n",
       "      <td>중국</td>\n",
       "      <td>199010.0</td>\n",
       "      <td>14401521.0</td>\n",
       "      <td>280033.0</td>\n",
       "      <td>8525532.0</td>\n",
       "      <td>5875989.0</td>\n",
       "    </tr>\n",
       "    <tr>\n",
       "      <th>132</th>\n",
       "      <td>2018년 09월</td>\n",
       "      <td>중국</td>\n",
       "      <td>171328.0</td>\n",
       "      <td>14590529.0</td>\n",
       "      <td>280337.0</td>\n",
       "      <td>7889890.0</td>\n",
       "      <td>6700639.0</td>\n",
       "    </tr>\n",
       "    <tr>\n",
       "      <th>135</th>\n",
       "      <td>2018년 10월</td>\n",
       "      <td>중국</td>\n",
       "      <td>169809.0</td>\n",
       "      <td>14767041.0</td>\n",
       "      <td>319876.0</td>\n",
       "      <td>9963108.0</td>\n",
       "      <td>4803932.0</td>\n",
       "    </tr>\n",
       "  </tbody>\n",
       "</table>\n",
       "</div>"
      ],
      "text/plain": [
       "            기간 국가명      수출건수        수출금액      수입건수       수입금액       무역수지\n",
       "6    2015년 03월  중국  117529.0  11868032.0  234321.0  7226911.0  4641121.0\n",
       "75   2017년 02월  중국  159062.0  11118131.0  188555.0  6600637.0  4517495.0\n",
       "80   2017년 03월  일본   65093.0   2395932.0  165734.0  5157589.0 -2761657.0\n",
       "96   2017년 09월  중국  183442.0  13540683.0  295443.0  8443414.0  5097269.0\n",
       "99   2017년 10월  중국  137873.0  12580474.0  244977.0  7932403.0  4648071.0\n",
       "101  2017년 10월  일본   63510.0   1847999.0  127696.0  4418583.0 -2570584.0\n",
       "102  2017년 11월  중국  421194.0  14000887.0  307790.0  9253318.0  4747569.0\n",
       "105  2017년 12월  중국  218114.0  13848364.0  290347.0  8600132.0  5248232.0\n",
       "114  2018년 03월  중국  232396.0  13576667.0  267249.0  8412516.0  5164151.0\n",
       "116  2018년 03월  일본   80142.0   2603450.0  159601.0  5226141.0 -2622691.0\n",
       "120  2018년 05월  중국  214145.0  13851900.0  307183.0  9279720.0  4572180.0\n",
       "123  2018년 06월  중국  257130.0  13814241.0  279023.0  8713018.0  5101223.0\n",
       "126  2018년 07월  중국  181772.0  13721233.0  293164.0  8869278.0  4851955.0\n",
       "129  2018년 08월  중국  199010.0  14401521.0  280033.0  8525532.0  5875989.0\n",
       "132  2018년 09월  중국  171328.0  14590529.0  280337.0  7889890.0  6700639.0\n",
       "135  2018년 10월  중국  169809.0  14767041.0  319876.0  9963108.0  4803932.0"
      ]
     },
     "execution_count": 23,
     "metadata": {},
     "output_type": "execute_result"
    }
   ],
   "source": [
    "trade.loc[outlier(trade, '무역수지', 1.5)]"
   ]
  },
  {
   "cell_type": "code",
   "execution_count": 24,
   "id": "d893e838",
   "metadata": {},
   "outputs": [
    {
     "data": {
      "text/html": [
       "<div>\n",
       "<style scoped>\n",
       "    .dataframe tbody tr th:only-of-type {\n",
       "        vertical-align: middle;\n",
       "    }\n",
       "\n",
       "    .dataframe tbody tr th {\n",
       "        vertical-align: top;\n",
       "    }\n",
       "\n",
       "    .dataframe thead th {\n",
       "        text-align: right;\n",
       "    }\n",
       "</style>\n",
       "<table border=\"1\" class=\"dataframe\">\n",
       "  <thead>\n",
       "    <tr style=\"text-align: right;\">\n",
       "      <th></th>\n",
       "      <th>기간</th>\n",
       "      <th>국가명</th>\n",
       "      <th>수출건수</th>\n",
       "      <th>수출금액</th>\n",
       "      <th>수입건수</th>\n",
       "      <th>수입금액</th>\n",
       "      <th>무역수지</th>\n",
       "    </tr>\n",
       "  </thead>\n",
       "  <tbody>\n",
       "    <tr>\n",
       "      <th>129</th>\n",
       "      <td>2018년 08월</td>\n",
       "      <td>중국</td>\n",
       "      <td>199010.0</td>\n",
       "      <td>14401521.0</td>\n",
       "      <td>280033.0</td>\n",
       "      <td>8525532.0</td>\n",
       "      <td>5875989.0</td>\n",
       "    </tr>\n",
       "    <tr>\n",
       "      <th>132</th>\n",
       "      <td>2018년 09월</td>\n",
       "      <td>중국</td>\n",
       "      <td>171328.0</td>\n",
       "      <td>14590529.0</td>\n",
       "      <td>280337.0</td>\n",
       "      <td>7889890.0</td>\n",
       "      <td>6700639.0</td>\n",
       "    </tr>\n",
       "  </tbody>\n",
       "</table>\n",
       "</div>"
      ],
      "text/plain": [
       "            기간 국가명      수출건수        수출금액      수입건수       수입금액       무역수지\n",
       "129  2018년 08월  중국  199010.0  14401521.0  280033.0  8525532.0  5875989.0\n",
       "132  2018년 09월  중국  171328.0  14590529.0  280337.0  7889890.0  6700639.0"
      ]
     },
     "execution_count": 24,
     "metadata": {},
     "output_type": "execute_result"
    }
   ],
   "source": [
    "trade.loc[outlier(trade, '무역수지', 2)]"
   ]
  },
  {
   "cell_type": "code",
   "execution_count": 25,
   "id": "424472de",
   "metadata": {},
   "outputs": [
    {
     "data": {
      "text/html": [
       "<div>\n",
       "<style scoped>\n",
       "    .dataframe tbody tr th:only-of-type {\n",
       "        vertical-align: middle;\n",
       "    }\n",
       "\n",
       "    .dataframe tbody tr th {\n",
       "        vertical-align: top;\n",
       "    }\n",
       "\n",
       "    .dataframe thead th {\n",
       "        text-align: right;\n",
       "    }\n",
       "</style>\n",
       "<table border=\"1\" class=\"dataframe\">\n",
       "  <thead>\n",
       "    <tr style=\"text-align: right;\">\n",
       "      <th></th>\n",
       "      <th>기간</th>\n",
       "      <th>국가명</th>\n",
       "      <th>수출건수</th>\n",
       "      <th>수출금액</th>\n",
       "      <th>수입건수</th>\n",
       "      <th>수입금액</th>\n",
       "      <th>무역수지</th>\n",
       "    </tr>\n",
       "  </thead>\n",
       "  <tbody>\n",
       "  </tbody>\n",
       "</table>\n",
       "</div>"
      ],
      "text/plain": [
       "Empty DataFrame\n",
       "Columns: [기간, 국가명, 수출건수, 수출금액, 수입건수, 수입금액, 무역수지]\n",
       "Index: []"
      ]
     },
     "execution_count": 25,
     "metadata": {},
     "output_type": "execute_result"
    }
   ],
   "source": [
    "trade.loc[outlier(trade, '무역수지', 3)]"
   ]
  },
  {
   "cell_type": "markdown",
   "id": "6dea46c2",
   "metadata": {},
   "source": [
    "- 무역수지의 이상치를 확인하는데 기준 되는 값이 클수록 이상치가 적어지는 것을 확인할 수 있다.\n",
    "- [DataFrame.loc()](https://bearwoong.tistory.com/entry/%ED%8C%8C%EC%9D%B4%EC%8D%AC-DataFrame-%EC%9D%B8%EB%8D%B1%EC%8B%B1-%ED%95%98%EB%8A%94-%EB%B0%A9%EB%B2%95df-dfloc-dfiloc) : 데이터프레임 인덱싱을 한다."
   ]
  },
  {
   "cell_type": "code",
   "execution_count": 26,
   "id": "baa6ca5d",
   "metadata": {},
   "outputs": [],
   "source": [
    "# 무역수지가 이상치 값이 아닌 데이터만 추출하는 함수\n",
    "def not_outlier(df, col, z):\n",
    "    return df[abs(df[col] - np.mean(df[col]))/np.std(df[col]) <= z].index"
   ]
  },
  {
   "cell_type": "code",
   "execution_count": 27,
   "id": "53026646",
   "metadata": {},
   "outputs": [
    {
     "data": {
      "text/html": [
       "<div>\n",
       "<style scoped>\n",
       "    .dataframe tbody tr th:only-of-type {\n",
       "        vertical-align: middle;\n",
       "    }\n",
       "\n",
       "    .dataframe tbody tr th {\n",
       "        vertical-align: top;\n",
       "    }\n",
       "\n",
       "    .dataframe thead th {\n",
       "        text-align: right;\n",
       "    }\n",
       "</style>\n",
       "<table border=\"1\" class=\"dataframe\">\n",
       "  <thead>\n",
       "    <tr style=\"text-align: right;\">\n",
       "      <th></th>\n",
       "      <th>기간</th>\n",
       "      <th>국가명</th>\n",
       "      <th>수출건수</th>\n",
       "      <th>수출금액</th>\n",
       "      <th>수입건수</th>\n",
       "      <th>수입금액</th>\n",
       "      <th>무역수지</th>\n",
       "    </tr>\n",
       "  </thead>\n",
       "  <tbody>\n",
       "    <tr>\n",
       "      <th>0</th>\n",
       "      <td>2015년 01월</td>\n",
       "      <td>중국</td>\n",
       "      <td>116932.0</td>\n",
       "      <td>12083947.0</td>\n",
       "      <td>334522.0</td>\n",
       "      <td>8143271.0</td>\n",
       "      <td>3940676.0</td>\n",
       "    </tr>\n",
       "    <tr>\n",
       "      <th>1</th>\n",
       "      <td>2015년 01월</td>\n",
       "      <td>미국</td>\n",
       "      <td>65888.0</td>\n",
       "      <td>5561545.0</td>\n",
       "      <td>509564.0</td>\n",
       "      <td>3625062.0</td>\n",
       "      <td>1936484.0</td>\n",
       "    </tr>\n",
       "    <tr>\n",
       "      <th>2</th>\n",
       "      <td>2015년 01월</td>\n",
       "      <td>일본</td>\n",
       "      <td>54017.0</td>\n",
       "      <td>2251307.0</td>\n",
       "      <td>82480.0</td>\n",
       "      <td>3827247.0</td>\n",
       "      <td>-1575940.0</td>\n",
       "    </tr>\n",
       "    <tr>\n",
       "      <th>3</th>\n",
       "      <td>2015년 02월</td>\n",
       "      <td>중국</td>\n",
       "      <td>86228.0</td>\n",
       "      <td>9927642.0</td>\n",
       "      <td>209100.0</td>\n",
       "      <td>6980874.0</td>\n",
       "      <td>2946768.0</td>\n",
       "    </tr>\n",
       "    <tr>\n",
       "      <th>4</th>\n",
       "      <td>2015년 02월</td>\n",
       "      <td>미국</td>\n",
       "      <td>60225.0</td>\n",
       "      <td>5021264.0</td>\n",
       "      <td>428678.0</td>\n",
       "      <td>2998216.0</td>\n",
       "      <td>2023048.0</td>\n",
       "    </tr>\n",
       "    <tr>\n",
       "      <th>...</th>\n",
       "      <td>...</td>\n",
       "      <td>...</td>\n",
       "      <td>...</td>\n",
       "      <td>...</td>\n",
       "      <td>...</td>\n",
       "      <td>...</td>\n",
       "      <td>...</td>\n",
       "    </tr>\n",
       "    <tr>\n",
       "      <th>191</th>\n",
       "      <td>2020년 04월</td>\n",
       "      <td>미국</td>\n",
       "      <td>105360.0</td>\n",
       "      <td>5946782.0</td>\n",
       "      <td>1141118.0</td>\n",
       "      <td>5038739.0</td>\n",
       "      <td>908043.0</td>\n",
       "    </tr>\n",
       "    <tr>\n",
       "      <th>192</th>\n",
       "      <td>2020년 04월</td>\n",
       "      <td>일본</td>\n",
       "      <td>134118.0</td>\n",
       "      <td>1989323.0</td>\n",
       "      <td>141207.0</td>\n",
       "      <td>3989562.0</td>\n",
       "      <td>-2000239.0</td>\n",
       "    </tr>\n",
       "    <tr>\n",
       "      <th>193</th>\n",
       "      <td>2020년 05월</td>\n",
       "      <td>중국</td>\n",
       "      <td>185320.0</td>\n",
       "      <td>10746069.0</td>\n",
       "      <td>349007.0</td>\n",
       "      <td>8989920.0</td>\n",
       "      <td>1756149.0</td>\n",
       "    </tr>\n",
       "    <tr>\n",
       "      <th>194</th>\n",
       "      <td>2020년 05월</td>\n",
       "      <td>미국</td>\n",
       "      <td>126598.0</td>\n",
       "      <td>4600726.0</td>\n",
       "      <td>1157163.0</td>\n",
       "      <td>4286873.0</td>\n",
       "      <td>313853.0</td>\n",
       "    </tr>\n",
       "    <tr>\n",
       "      <th>195</th>\n",
       "      <td>2020년 05월</td>\n",
       "      <td>일본</td>\n",
       "      <td>166568.0</td>\n",
       "      <td>1798128.0</td>\n",
       "      <td>133763.0</td>\n",
       "      <td>3102734.0</td>\n",
       "      <td>-1304606.0</td>\n",
       "    </tr>\n",
       "  </tbody>\n",
       "</table>\n",
       "<p>179 rows × 7 columns</p>\n",
       "</div>"
      ],
      "text/plain": [
       "            기간 국가명      수출건수        수출금액       수입건수       수입금액       무역수지\n",
       "0    2015년 01월  중국  116932.0  12083947.0   334522.0  8143271.0  3940676.0\n",
       "1    2015년 01월  미국   65888.0   5561545.0   509564.0  3625062.0  1936484.0\n",
       "2    2015년 01월  일본   54017.0   2251307.0    82480.0  3827247.0 -1575940.0\n",
       "3    2015년 02월  중국   86228.0   9927642.0   209100.0  6980874.0  2946768.0\n",
       "4    2015년 02월  미국   60225.0   5021264.0   428678.0  2998216.0  2023048.0\n",
       "..         ...  ..       ...         ...        ...        ...        ...\n",
       "191  2020년 04월  미국  105360.0   5946782.0  1141118.0  5038739.0   908043.0\n",
       "192  2020년 04월  일본  134118.0   1989323.0   141207.0  3989562.0 -2000239.0\n",
       "193  2020년 05월  중국  185320.0  10746069.0   349007.0  8989920.0  1756149.0\n",
       "194  2020년 05월  미국  126598.0   4600726.0  1157163.0  4286873.0   313853.0\n",
       "195  2020년 05월  일본  166568.0   1798128.0   133763.0  3102734.0 -1304606.0\n",
       "\n",
       "[179 rows x 7 columns]"
      ]
     },
     "execution_count": 27,
     "metadata": {},
     "output_type": "execute_result"
    }
   ],
   "source": [
    "trade.loc[not_outlier(trade, '무역수지', 1.5)]"
   ]
  },
  {
   "cell_type": "markdown",
   "id": "d4da393c",
   "metadata": {},
   "source": [
    "### IQR method\n",
    "- 이상치를 찾는 방법에는 z-score 방법만 있는 것은 아니며, z-score 방법은 몇 가지 뚜렷한 한계점을 가지고 있다.\n",
    "- z-score 방법의 대안으로 사분위 범위수 IQR(Interquartile range) 로 이상치를 알아내는 방법이 있다."
   ]
  },
  {
   "cell_type": "code",
   "execution_count": 28,
   "id": "6afff0fc",
   "metadata": {},
   "outputs": [
    {
     "data": {
      "text/plain": [
       "array([-1.76884571,  0.07555227, -1.1306297 , -0.65143017, -0.89311563,\n",
       "       -1.27410098, -0.06115443,  0.06451384,  0.41011295, -0.57288249,\n",
       "       -0.80133362,  1.31203519,  1.27469887, -1.2143576 ,  0.31371941,\n",
       "       -1.44482142, -0.3689613 , -0.76922658,  0.3926161 ,  0.05729383,\n",
       "        2.08997884,  0.04197131, -0.04834072, -0.51315392, -0.08458928,\n",
       "       -1.21545008, -1.41293073, -1.48691055,  0.38222486,  0.937673  ,\n",
       "        1.77267804,  0.87882801,  0.33171912, -0.30603567,  1.24026615,\n",
       "       -0.21562684,  0.15592948,  0.09805553,  0.83209585,  2.04520542,\n",
       "       -0.31681392, -1.31283291, -1.75445746,  0.10209408, -1.36150208,\n",
       "        0.48178488, -0.20832874, -0.09186351,  0.70268816,  0.10365506,\n",
       "        0.62123638,  0.95411497,  2.03781352, -0.48445122,  0.2071549 ,\n",
       "        1.64424216, -0.4882074 , -0.01782826,  0.46891556,  0.27987266,\n",
       "       -0.64664972, -0.54406002, -0.16008985,  0.03781172,  1.03383296,\n",
       "       -1.23096117, -1.24673665,  0.29572055,  2.1409624 , -0.92020227,\n",
       "       -0.06000238,  0.27978391, -1.53126966, -0.30293101, -0.14601413,\n",
       "        0.27746159, -0.13952066,  0.69515966, -0.11338746, -1.233267  ,\n",
       "       -0.79614131, -0.46739138,  0.65890607, -0.41063115,  0.17344356,\n",
       "        0.28946174,  1.03451736,  1.22661712,  1.71998252,  0.40806834,\n",
       "        0.32256894,  1.04722748, -1.8196003 , -0.42582157,  0.12454883,\n",
       "        2.31256634, -0.96557586, -0.34627486,  0.96668378, -0.92550192,\n",
       "        8.        , 10.        , -3.        , -5.        ])"
      ]
     },
     "execution_count": 28,
     "metadata": {},
     "output_type": "execute_result"
    }
   ],
   "source": [
    "# 아웃라이어가 포함된 임의의 데이터 만들기\n",
    "np.random.seed(2020)\n",
    "data = np.random.randn(100)  # 평균 0, 표준편차 1의 분포에서 100개의 숫자를 샘플링한 데이터 생성\n",
    "data = np.concatenate((data, np.array([8, 10, -3, -5])))      # [8, 10, -3, -5])를 데이터 뒤에 추가함\n",
    "data"
   ]
  },
  {
   "cell_type": "code",
   "execution_count": 29,
   "id": "1f4ed2b6",
   "metadata": {},
   "outputs": [
    {
     "data": {
      "image/png": "[encoded data removed]",
      "text/plain": [
       "<Figure size 432x288 with 1 Axes>"
      ]
     },
     "metadata": {
      "needs_background": "light"
     },
     "output_type": "display_data"
    }
   ],
   "source": [
    "fig, ax = plt.subplots()\n",
    "ax.boxplot(data)\n",
    "plt.show()"
   ]
  },
  {
   "cell_type": "markdown",
   "id": "7ac5ba26",
   "metadata": {},
   "source": [
    "- 박스 플롯에서 박스를 벗어난 점들이 있다.\n",
    "- 사분위 범위수 IQR(Interquartile range)을 이용하여 이상치를 찾아낼 수 있다. -> IQR = Q3 - Q1. 즉, IQR은 제 3사분위수에서 제 1사분위 값을 뺀 값으로 데이터의 중간 50%의 범위라고 생각하면 된다. Q1 − 1.5∗IQR 보다 왼쪽에 있거나, Q3 + 1.5∗IQR 보다 오른쪽에 있는 경우 이상치라고 판단한다.\n",
    "![IQR](https://user-images.githubusercontent.com/116326867/226112777-99d859ab-4cc5-43c6-9160-1f99de3df06a.png)"
   ]
  },
  {
   "cell_type": "code",
   "execution_count": 30,
   "id": "1a72c7cb",
   "metadata": {},
   "outputs": [
    {
     "data": {
      "text/plain": [
       "1.1644925829790964"
      ]
     },
     "execution_count": 30,
     "metadata": {},
     "output_type": "execute_result"
    }
   ],
   "source": [
    "# 제1사분위수와 제 3사분위수 구한 후 IQR 구하기\n",
    "Q3, Q1 = np.percentile(data, [75 ,25])\n",
    "IQR = Q3 - Q1\n",
    "IQR"
   ]
  },
  {
   "cell_type": "code",
   "execution_count": 31,
   "id": "1e2cb0c1",
   "metadata": {},
   "outputs": [
    {
     "data": {
      "text/plain": [
       "array([ 2.31256634,  8.        , 10.        , -3.        , -5.        ])"
      ]
     },
     "execution_count": 31,
     "metadata": {},
     "output_type": "execute_result"
    }
   ],
   "source": [
    "# 이상치 확인\n",
    "data[(Q1-1.5*IQR > data)|(Q3+1.5*IQR < data)]"
   ]
  },
  {
   "cell_type": "markdown",
   "id": "e7c228f0",
   "metadata": {},
   "source": [
    "- [Three ways to detect outliers](http://colingorrie.github.io/outlier-detection.html) -> z-score 방법이 가지는 뚜렷한 단점 2가지 : Robust하지 못하다.(평균과 표준편차가 이상치의 존재에 크게 영향을 받기 때문), 작은 데이터셋의 경우 z-score의 방법으로 이상치를 알아내기 어렵다.(특히 item이 12개 이하인 데이터셋에서는 불가능)"
   ]
  },
  {
   "cell_type": "code",
   "execution_count": 32,
   "id": "10e9a8cc",
   "metadata": {},
   "outputs": [
    {
     "data": {
      "text/html": [
       "<div>\n",
       "<style scoped>\n",
       "    .dataframe tbody tr th:only-of-type {\n",
       "        vertical-align: middle;\n",
       "    }\n",
       "\n",
       "    .dataframe tbody tr th {\n",
       "        vertical-align: top;\n",
       "    }\n",
       "\n",
       "    .dataframe thead th {\n",
       "        text-align: right;\n",
       "    }\n",
       "</style>\n",
       "<table border=\"1\" class=\"dataframe\">\n",
       "  <thead>\n",
       "    <tr style=\"text-align: right;\">\n",
       "      <th></th>\n",
       "      <th>기간</th>\n",
       "      <th>국가명</th>\n",
       "      <th>수출건수</th>\n",
       "      <th>수출금액</th>\n",
       "      <th>수입건수</th>\n",
       "      <th>수입금액</th>\n",
       "      <th>무역수지</th>\n",
       "    </tr>\n",
       "  </thead>\n",
       "  <tbody>\n",
       "  </tbody>\n",
       "</table>\n",
       "</div>"
      ],
      "text/plain": [
       "Empty DataFrame\n",
       "Columns: [기간, 국가명, 수출건수, 수출금액, 수입건수, 수입금액, 무역수지]\n",
       "Index: []"
      ]
     },
     "execution_count": 32,
     "metadata": {},
     "output_type": "execute_result"
    }
   ],
   "source": [
    "# 무역수지를 기준으로 이상치 찾기\n",
    "def outlier2(df, col):\n",
    "    q1 = df[col].quantile(0.25)\n",
    "    q3 = df[col].quantile(0.75)\n",
    "    iqr = q3 - q1\n",
    "    return df[(df[col] < q1-1.5*iqr)|(df[col] > q3+1.5*iqr)]\n",
    "\n",
    "outlier2(trade, '무역수지')"
   ]
  },
  {
   "cell_type": "markdown",
   "id": "51865c14",
   "metadata": {},
   "source": [
    "## 10-5. 정규화(Normalization)\n",
    "- trade 데이터를 보면 수입건수, 수출건수와 수입금액, 수출금액, 무역수지는 단위가 다르다. 이처럼 컬럼마다 스케일이 크게 차이가 나는 데이터를 입력하면 머신러닝 모델 학습에 문제가 발생할 수 있다. 예를 들어 데이터의 범위가 0에서 1 사이인 컬럼 A과 1000에서 10000 사이인 컬럼 B가 있을 때, 데이터를 클러스터링한다면 데이터 간의 거리를 잴 때, 범위가 큰 컬럼 B의 값에만 영향을 크게 받을 것이다. 다른 예시로 간단한 linear regression을 할 때, 모델의 파라미터를 업데이트하는 과정에서 범위가 큰 컬럼 B의 파라미터만 집중적으로 업데이트하는 문제가 생길 수 있다. 그래서 일반적으로 컬럼 간에 범위가 크게 다를 경우 전처리 과정에서 데이터를 정규화한다.\n",
    "- 정규화를 하는 방법은 다양하지만, 대표적으로 표준화(Standardization)와 Min-Max Scaling이 있다.\n",
    " - Standardization 데이터의 평균은 0, 분산은 1로 변환한다. Standardization은 보통 평균이 0이고 표준편차가 1일때 사용한다. 그렇기에 피처가 가우시안 분포인 경우 유용하다. (X − μ / σ)\n",
    " - Min-Max Scaling 데이터의 최솟값은 0, 최댓값은 1로 변환한다. Min-Max Scaling은 피처의 크기가 다를 때 사용하며 분포에 대해 모를 때 유용하다. (참고로 0~1사이로 맞추는 이유는 숫자가 방대하게 많은 경우, 범위를 줄일 수 있기 때문)"
   ]
  },
  {
   "cell_type": "code",
   "execution_count": 33,
   "id": "b7a2198f",
   "metadata": {},
   "outputs": [
    {
     "data": {
      "text/html": [
       "<div>\n",
       "<style scoped>\n",
       "    .dataframe tbody tr th:only-of-type {\n",
       "        vertical-align: middle;\n",
       "    }\n",
       "\n",
       "    .dataframe tbody tr th {\n",
       "        vertical-align: top;\n",
       "    }\n",
       "\n",
       "    .dataframe thead th {\n",
       "        text-align: right;\n",
       "    }\n",
       "</style>\n",
       "<table border=\"1\" class=\"dataframe\">\n",
       "  <thead>\n",
       "    <tr style=\"text-align: right;\">\n",
       "      <th></th>\n",
       "      <th>A</th>\n",
       "      <th>B</th>\n",
       "    </tr>\n",
       "  </thead>\n",
       "  <tbody>\n",
       "    <tr>\n",
       "      <th>0</th>\n",
       "      <td>6.205792</td>\n",
       "      <td>-1.485248</td>\n",
       "    </tr>\n",
       "    <tr>\n",
       "      <th>1</th>\n",
       "      <td>-0.604047</td>\n",
       "      <td>-0.727779</td>\n",
       "    </tr>\n",
       "    <tr>\n",
       "      <th>2</th>\n",
       "      <td>3.018785</td>\n",
       "      <td>-0.517099</td>\n",
       "    </tr>\n",
       "    <tr>\n",
       "      <th>3</th>\n",
       "      <td>3.323325</td>\n",
       "      <td>-0.414949</td>\n",
       "    </tr>\n",
       "    <tr>\n",
       "      <th>4</th>\n",
       "      <td>6.167679</td>\n",
       "      <td>-0.582630</td>\n",
       "    </tr>\n",
       "    <tr>\n",
       "      <th>...</th>\n",
       "      <td>...</td>\n",
       "      <td>...</td>\n",
       "    </tr>\n",
       "    <tr>\n",
       "      <th>95</th>\n",
       "      <td>5.062917</td>\n",
       "      <td>-1.122239</td>\n",
       "    </tr>\n",
       "    <tr>\n",
       "      <th>96</th>\n",
       "      <td>-0.166839</td>\n",
       "      <td>-2.487547</td>\n",
       "    </tr>\n",
       "    <tr>\n",
       "      <th>97</th>\n",
       "      <td>-4.230178</td>\n",
       "      <td>0.589513</td>\n",
       "    </tr>\n",
       "    <tr>\n",
       "      <th>98</th>\n",
       "      <td>-0.562115</td>\n",
       "      <td>0.779614</td>\n",
       "    </tr>\n",
       "    <tr>\n",
       "      <th>99</th>\n",
       "      <td>5.984528</td>\n",
       "      <td>-1.724450</td>\n",
       "    </tr>\n",
       "  </tbody>\n",
       "</table>\n",
       "<p>100 rows × 2 columns</p>\n",
       "</div>"
      ],
      "text/plain": [
       "           A         B\n",
       "0   6.205792 -1.485248\n",
       "1  -0.604047 -0.727779\n",
       "2   3.018785 -0.517099\n",
       "3   3.323325 -0.414949\n",
       "4   6.167679 -0.582630\n",
       "..       ...       ...\n",
       "95  5.062917 -1.122239\n",
       "96 -0.166839 -2.487547\n",
       "97 -4.230178  0.589513\n",
       "98 -0.562115  0.779614\n",
       "99  5.984528 -1.724450\n",
       "\n",
       "[100 rows x 2 columns]"
      ]
     },
     "execution_count": 33,
     "metadata": {},
     "output_type": "execute_result"
    }
   ],
   "source": [
    "# 정규분포를 따라 랜덤하게 데이터 x를 생성 \n",
    "x = pd.DataFrame({'A': np.random.randn(100)*4+4,\n",
    "                 'B': np.random.randn(100)-1})\n",
    "x"
   ]
  },
  {
   "cell_type": "code",
   "execution_count": 34,
   "id": "9671be32",
   "metadata": {},
   "outputs": [
    {
     "data": {
      "text/html": [
       "<div>\n",
       "<style scoped>\n",
       "    .dataframe tbody tr th:only-of-type {\n",
       "        vertical-align: middle;\n",
       "    }\n",
       "\n",
       "    .dataframe tbody tr th {\n",
       "        vertical-align: top;\n",
       "    }\n",
       "\n",
       "    .dataframe thead th {\n",
       "        text-align: right;\n",
       "    }\n",
       "</style>\n",
       "<table border=\"1\" class=\"dataframe\">\n",
       "  <thead>\n",
       "    <tr style=\"text-align: right;\">\n",
       "      <th></th>\n",
       "      <th>A</th>\n",
       "      <th>B</th>\n",
       "    </tr>\n",
       "  </thead>\n",
       "  <tbody>\n",
       "    <tr>\n",
       "      <th>0</th>\n",
       "      <td>0.559307</td>\n",
       "      <td>-0.314995</td>\n",
       "    </tr>\n",
       "    <tr>\n",
       "      <th>1</th>\n",
       "      <td>-1.132240</td>\n",
       "      <td>0.407499</td>\n",
       "    </tr>\n",
       "    <tr>\n",
       "      <th>2</th>\n",
       "      <td>-0.232338</td>\n",
       "      <td>0.608450</td>\n",
       "    </tr>\n",
       "    <tr>\n",
       "      <th>3</th>\n",
       "      <td>-0.156691</td>\n",
       "      <td>0.705884</td>\n",
       "    </tr>\n",
       "    <tr>\n",
       "      <th>4</th>\n",
       "      <td>0.549839</td>\n",
       "      <td>0.545945</td>\n",
       "    </tr>\n",
       "    <tr>\n",
       "      <th>...</th>\n",
       "      <td>...</td>\n",
       "      <td>...</td>\n",
       "    </tr>\n",
       "    <tr>\n",
       "      <th>95</th>\n",
       "      <td>0.275419</td>\n",
       "      <td>0.031252</td>\n",
       "    </tr>\n",
       "    <tr>\n",
       "      <th>96</th>\n",
       "      <td>-1.023639</td>\n",
       "      <td>-1.271014</td>\n",
       "    </tr>\n",
       "    <tr>\n",
       "      <th>97</th>\n",
       "      <td>-2.032961</td>\n",
       "      <td>1.663966</td>\n",
       "    </tr>\n",
       "    <tr>\n",
       "      <th>98</th>\n",
       "      <td>-1.121824</td>\n",
       "      <td>1.845290</td>\n",
       "    </tr>\n",
       "    <tr>\n",
       "      <th>99</th>\n",
       "      <td>0.504345</td>\n",
       "      <td>-0.543153</td>\n",
       "    </tr>\n",
       "  </tbody>\n",
       "</table>\n",
       "<p>100 rows × 2 columns</p>\n",
       "</div>"
      ],
      "text/plain": [
       "           A         B\n",
       "0   0.559307 -0.314995\n",
       "1  -1.132240  0.407499\n",
       "2  -0.232338  0.608450\n",
       "3  -0.156691  0.705884\n",
       "4   0.549839  0.545945\n",
       "..       ...       ...\n",
       "95  0.275419  0.031252\n",
       "96 -1.023639 -1.271014\n",
       "97 -2.032961  1.663966\n",
       "98 -1.121824  1.845290\n",
       "99  0.504345 -0.543153\n",
       "\n",
       "[100 rows x 2 columns]"
      ]
     },
     "execution_count": 34,
     "metadata": {},
     "output_type": "execute_result"
    }
   ],
   "source": [
    "# Standardization 기법으로 정규화 \n",
    "x_standardization = (x - x.mean())/x.std()\n",
    "x_standardization"
   ]
  },
  {
   "cell_type": "code",
   "execution_count": 36,
   "id": "43995410",
   "metadata": {},
   "outputs": [
    {
     "data": {
      "image/png": "[encoded data removed]",
      "text/plain": [
       "<Figure size 864x288 with 2 Axes>"
      ]
     },
     "metadata": {
      "needs_background": "light"
     },
     "output_type": "display_data"
    }
   ],
   "source": [
    "fig, axs = plt.subplots(1,2, figsize=(12, 4),\n",
    "                        gridspec_kw={'width_ratios': [2, 1]})\n",
    "\n",
    "axs[0].scatter(x['A'], x['B'])\n",
    "axs[0].set_xlim(-5, 15)\n",
    "axs[0].set_ylim(-5, 5)\n",
    "axs[0].axvline(c='grey', lw=1)\n",
    "axs[0].axhline(c='grey', lw=1)\n",
    "axs[0].set_title('Original Data')\n",
    "\n",
    "axs[1].scatter(x_standardization['A'], x_standardization['B'])\n",
    "axs[1].set_xlim(-5, 5)\n",
    "axs[1].set_ylim(-5, 5)\n",
    "axs[1].axvline(c='grey', lw=1)\n",
    "axs[1].axhline(c='grey', lw=1)\n",
    "axs[1].set_title('Data after standardization')\n",
    "\n",
    "plt.show()"
   ]
  },
  {
   "cell_type": "markdown",
   "id": "efd55187",
   "metadata": {},
   "source": [
    "- 데이터를 Standardization 기법으로 정규화를 했을 때 분포가 어떻게 바뀌는지 보여준다. 각 컬럼의 평균은 0으로, 분산은 1로 데이터를 바꿔준다."
   ]
  },
  {
   "cell_type": "code",
   "execution_count": 35,
   "id": "978f7e80",
   "metadata": {},
   "outputs": [
    {
     "data": {
      "text/html": [
       "<div>\n",
       "<style scoped>\n",
       "    .dataframe tbody tr th:only-of-type {\n",
       "        vertical-align: middle;\n",
       "    }\n",
       "\n",
       "    .dataframe tbody tr th {\n",
       "        vertical-align: top;\n",
       "    }\n",
       "\n",
       "    .dataframe thead th {\n",
       "        text-align: right;\n",
       "    }\n",
       "</style>\n",
       "<table border=\"1\" class=\"dataframe\">\n",
       "  <thead>\n",
       "    <tr style=\"text-align: right;\">\n",
       "      <th></th>\n",
       "      <th>A</th>\n",
       "      <th>B</th>\n",
       "    </tr>\n",
       "  </thead>\n",
       "  <tbody>\n",
       "    <tr>\n",
       "      <th>0</th>\n",
       "      <td>0.607216</td>\n",
       "      <td>0.426240</td>\n",
       "    </tr>\n",
       "    <tr>\n",
       "      <th>1</th>\n",
       "      <td>0.267692</td>\n",
       "      <td>0.571821</td>\n",
       "    </tr>\n",
       "    <tr>\n",
       "      <th>2</th>\n",
       "      <td>0.448318</td>\n",
       "      <td>0.612312</td>\n",
       "    </tr>\n",
       "    <tr>\n",
       "      <th>3</th>\n",
       "      <td>0.463502</td>\n",
       "      <td>0.631944</td>\n",
       "    </tr>\n",
       "    <tr>\n",
       "      <th>4</th>\n",
       "      <td>0.605316</td>\n",
       "      <td>0.599717</td>\n",
       "    </tr>\n",
       "    <tr>\n",
       "      <th>...</th>\n",
       "      <td>...</td>\n",
       "      <td>...</td>\n",
       "    </tr>\n",
       "    <tr>\n",
       "      <th>95</th>\n",
       "      <td>0.550235</td>\n",
       "      <td>0.496008</td>\n",
       "    </tr>\n",
       "    <tr>\n",
       "      <th>96</th>\n",
       "      <td>0.289490</td>\n",
       "      <td>0.233606</td>\n",
       "    </tr>\n",
       "    <tr>\n",
       "      <th>97</th>\n",
       "      <td>0.086901</td>\n",
       "      <td>0.824995</td>\n",
       "    </tr>\n",
       "    <tr>\n",
       "      <th>98</th>\n",
       "      <td>0.269782</td>\n",
       "      <td>0.861531</td>\n",
       "    </tr>\n",
       "    <tr>\n",
       "      <th>99</th>\n",
       "      <td>0.596184</td>\n",
       "      <td>0.380268</td>\n",
       "    </tr>\n",
       "  </tbody>\n",
       "</table>\n",
       "<p>100 rows × 2 columns</p>\n",
       "</div>"
      ],
      "text/plain": [
       "           A         B\n",
       "0   0.607216  0.426240\n",
       "1   0.267692  0.571821\n",
       "2   0.448318  0.612312\n",
       "3   0.463502  0.631944\n",
       "4   0.605316  0.599717\n",
       "..       ...       ...\n",
       "95  0.550235  0.496008\n",
       "96  0.289490  0.233606\n",
       "97  0.086901  0.824995\n",
       "98  0.269782  0.861531\n",
       "99  0.596184  0.380268\n",
       "\n",
       "[100 rows x 2 columns]"
      ]
     },
     "execution_count": 35,
     "metadata": {},
     "output_type": "execute_result"
    }
   ],
   "source": [
    "# min-max scaling 기법으로 정규화\n",
    "x_min_max = (x-x.min())/(x.max()-x.min())\n",
    "x_min_max"
   ]
  },
  {
   "cell_type": "code",
   "execution_count": 37,
   "id": "29a845d1",
   "metadata": {},
   "outputs": [
    {
     "data": {
      "image/png": "[encoded data removed]",
      "text/plain": [
       "<Figure size 864x288 with 2 Axes>"
      ]
     },
     "metadata": {
      "needs_background": "light"
     },
     "output_type": "display_data"
    }
   ],
   "source": [
    "fig, axs = plt.subplots(1,2, figsize=(12, 4),\n",
    "                        gridspec_kw={'width_ratios': [2, 1]})\n",
    "\n",
    "axs[0].scatter(x['A'], x['B'])\n",
    "axs[0].set_xlim(-5, 15)\n",
    "axs[0].set_ylim(-5, 5)\n",
    "axs[0].axvline(c='grey', lw=1)\n",
    "axs[0].axhline(c='grey', lw=1)\n",
    "axs[0].set_title('Original Data')\n",
    "\n",
    "axs[1].scatter(x_min_max['A'], x_min_max['B'])\n",
    "axs[1].set_xlim(-5, 5)\n",
    "axs[1].set_ylim(-5, 5)\n",
    "axs[1].axvline(c='grey', lw=1)\n",
    "axs[1].axhline(c='grey', lw=1)\n",
    "axs[1].set_title('Data after min-max scaling')\n",
    "\n",
    "plt.show()"
   ]
  },
  {
   "cell_type": "markdown",
   "id": "f74c87ff",
   "metadata": {},
   "source": [
    "- 데이터를 min-max scaling 기법으로 정규화를 했을 때 분포가 어떻게 바뀌는지 보여준다. 각 컬럼의 최솟값은 0, 최댓값은 1로 바꿔준다."
   ]
  },
  {
   "cell_type": "markdown",
   "id": "aded9e6d",
   "metadata": {},
   "source": [
    "### (trade 데이터) Standardization"
   ]
  },
  {
   "cell_type": "code",
   "execution_count": 38,
   "id": "c4ad9aa3",
   "metadata": {},
   "outputs": [
    {
     "data": {
      "text/html": [
       "<div>\n",
       "<style scoped>\n",
       "    .dataframe tbody tr th:only-of-type {\n",
       "        vertical-align: middle;\n",
       "    }\n",
       "\n",
       "    .dataframe tbody tr th {\n",
       "        vertical-align: top;\n",
       "    }\n",
       "\n",
       "    .dataframe thead th {\n",
       "        text-align: right;\n",
       "    }\n",
       "</style>\n",
       "<table border=\"1\" class=\"dataframe\">\n",
       "  <thead>\n",
       "    <tr style=\"text-align: right;\">\n",
       "      <th></th>\n",
       "      <th>수출건수</th>\n",
       "      <th>수출금액</th>\n",
       "      <th>수입건수</th>\n",
       "      <th>수입금액</th>\n",
       "      <th>무역수지</th>\n",
       "    </tr>\n",
       "  </thead>\n",
       "  <tbody>\n",
       "    <tr>\n",
       "      <th>0</th>\n",
       "      <td>-0.007488</td>\n",
       "      <td>1.398931</td>\n",
       "      <td>-0.163593</td>\n",
       "      <td>1.283660</td>\n",
       "      <td>1.256342</td>\n",
       "    </tr>\n",
       "    <tr>\n",
       "      <th>1</th>\n",
       "      <td>-0.689278</td>\n",
       "      <td>-0.252848</td>\n",
       "      <td>0.412529</td>\n",
       "      <td>-0.964444</td>\n",
       "      <td>0.401088</td>\n",
       "    </tr>\n",
       "    <tr>\n",
       "      <th>2</th>\n",
       "      <td>-0.847838</td>\n",
       "      <td>-1.091156</td>\n",
       "      <td>-0.993148</td>\n",
       "      <td>-0.863844</td>\n",
       "      <td>-1.097779</td>\n",
       "    </tr>\n",
       "    <tr>\n",
       "      <th>3</th>\n",
       "      <td>-0.417598</td>\n",
       "      <td>0.852853</td>\n",
       "      <td>-0.576399</td>\n",
       "      <td>0.705292</td>\n",
       "      <td>0.832209</td>\n",
       "    </tr>\n",
       "    <tr>\n",
       "      <th>4</th>\n",
       "      <td>-0.764918</td>\n",
       "      <td>-0.389673</td>\n",
       "      <td>0.146306</td>\n",
       "      <td>-1.276341</td>\n",
       "      <td>0.438027</td>\n",
       "    </tr>\n",
       "  </tbody>\n",
       "</table>\n",
       "</div>"
      ],
      "text/plain": [
       "       수출건수      수출금액      수입건수      수입금액      무역수지\n",
       "0 -0.007488  1.398931 -0.163593  1.283660  1.256342\n",
       "1 -0.689278 -0.252848  0.412529 -0.964444  0.401088\n",
       "2 -0.847838 -1.091156 -0.993148 -0.863844 -1.097779\n",
       "3 -0.417598  0.852853 -0.576399  0.705292  0.832209\n",
       "4 -0.764918 -0.389673  0.146306 -1.276341  0.438027"
      ]
     },
     "execution_count": 38,
     "metadata": {},
     "output_type": "execute_result"
    }
   ],
   "source": [
    "# Standardization 기법으로 정규화\n",
    "cols = ['수출건수', '수출금액', '수입건수', '수입금액', '무역수지']\n",
    "trade_Standardization= (trade[cols]-trade[cols].mean())/trade[cols].std()\n",
    "trade_Standardization.head()"
   ]
  },
  {
   "cell_type": "markdown",
   "id": "a6beacfa",
   "metadata": {},
   "source": [
    "- 우선 정규화를 시켜야 할 수치형 컬럼들을 cols 변수에 담은 후, 데이터에서 평균을 빼고, 표준편차로 나눈다."
   ]
  },
  {
   "cell_type": "code",
   "execution_count": 39,
   "id": "a08a7b26",
   "metadata": {},
   "outputs": [
    {
     "data": {
      "text/html": [
       "<div>\n",
       "<style scoped>\n",
       "    .dataframe tbody tr th:only-of-type {\n",
       "        vertical-align: middle;\n",
       "    }\n",
       "\n",
       "    .dataframe tbody tr th {\n",
       "        vertical-align: top;\n",
       "    }\n",
       "\n",
       "    .dataframe thead th {\n",
       "        text-align: right;\n",
       "    }\n",
       "</style>\n",
       "<table border=\"1\" class=\"dataframe\">\n",
       "  <thead>\n",
       "    <tr style=\"text-align: right;\">\n",
       "      <th></th>\n",
       "      <th>수출건수</th>\n",
       "      <th>수출금액</th>\n",
       "      <th>수입건수</th>\n",
       "      <th>수입금액</th>\n",
       "      <th>무역수지</th>\n",
       "    </tr>\n",
       "  </thead>\n",
       "  <tbody>\n",
       "    <tr>\n",
       "      <th>count</th>\n",
       "      <td>1.950000e+02</td>\n",
       "      <td>1.950000e+02</td>\n",
       "      <td>1.950000e+02</td>\n",
       "      <td>1.950000e+02</td>\n",
       "      <td>1.950000e+02</td>\n",
       "    </tr>\n",
       "    <tr>\n",
       "      <th>mean</th>\n",
       "      <td>-1.093143e-16</td>\n",
       "      <td>6.832142e-17</td>\n",
       "      <td>1.821904e-17</td>\n",
       "      <td>-5.465713e-17</td>\n",
       "      <td>2.277381e-17</td>\n",
       "    </tr>\n",
       "    <tr>\n",
       "      <th>std</th>\n",
       "      <td>1.000000e+00</td>\n",
       "      <td>1.000000e+00</td>\n",
       "      <td>1.000000e+00</td>\n",
       "      <td>1.000000e+00</td>\n",
       "      <td>1.000000e+00</td>\n",
       "    </tr>\n",
       "    <tr>\n",
       "      <th>min</th>\n",
       "      <td>-9.194976e-01</td>\n",
       "      <td>-1.231761e+00</td>\n",
       "      <td>-9.984408e-01</td>\n",
       "      <td>-1.276341e+00</td>\n",
       "      <td>-1.603764e+00</td>\n",
       "    </tr>\n",
       "    <tr>\n",
       "      <th>25%</th>\n",
       "      <td>-5.937426e-01</td>\n",
       "      <td>-1.041338e+00</td>\n",
       "      <td>-7.673625e-01</td>\n",
       "      <td>-7.911669e-01</td>\n",
       "      <td>-1.116765e+00</td>\n",
       "    </tr>\n",
       "    <tr>\n",
       "      <th>50%</th>\n",
       "      <td>-4.373265e-01</td>\n",
       "      <td>-1.564700e-01</td>\n",
       "      <td>-3.429346e-01</td>\n",
       "      <td>-4.137392e-01</td>\n",
       "      <td>1.426824e-01</td>\n",
       "    </tr>\n",
       "    <tr>\n",
       "      <th>75%</th>\n",
       "      <td>4.420459e-01</td>\n",
       "      <td>1.037200e+00</td>\n",
       "      <td>3.927781e-01</td>\n",
       "      <td>8.827841e-01</td>\n",
       "      <td>7.461637e-01</td>\n",
       "    </tr>\n",
       "    <tr>\n",
       "      <th>max</th>\n",
       "      <td>5.486317e+00</td>\n",
       "      <td>2.078416e+00</td>\n",
       "      <td>3.239068e+00</td>\n",
       "      <td>2.376092e+00</td>\n",
       "      <td>2.434109e+00</td>\n",
       "    </tr>\n",
       "  </tbody>\n",
       "</table>\n",
       "</div>"
      ],
      "text/plain": [
       "               수출건수          수출금액          수입건수          수입금액          무역수지\n",
       "count  1.950000e+02  1.950000e+02  1.950000e+02  1.950000e+02  1.950000e+02\n",
       "mean  -1.093143e-16  6.832142e-17  1.821904e-17 -5.465713e-17  2.277381e-17\n",
       "std    1.000000e+00  1.000000e+00  1.000000e+00  1.000000e+00  1.000000e+00\n",
       "min   -9.194976e-01 -1.231761e+00 -9.984408e-01 -1.276341e+00 -1.603764e+00\n",
       "25%   -5.937426e-01 -1.041338e+00 -7.673625e-01 -7.911669e-01 -1.116765e+00\n",
       "50%   -4.373265e-01 -1.564700e-01 -3.429346e-01 -4.137392e-01  1.426824e-01\n",
       "75%    4.420459e-01  1.037200e+00  3.927781e-01  8.827841e-01  7.461637e-01\n",
       "max    5.486317e+00  2.078416e+00  3.239068e+00  2.376092e+00  2.434109e+00"
      ]
     },
     "execution_count": 39,
     "metadata": {},
     "output_type": "execute_result"
    }
   ],
   "source": [
    "trade_Standardization.describe()"
   ]
  },
  {
   "cell_type": "markdown",
   "id": "e9629285",
   "metadata": {},
   "source": [
    "- standardization 방법으로 정규화시킨 trade_Standardization을 확인하면 각 컬럼의 평균들은 거의 0에 가깝고, 표준편차는 1에 가까운 것을 알 수 있다."
   ]
  },
  {
   "cell_type": "markdown",
   "id": "3fd19b39",
   "metadata": {},
   "source": [
    "### (trade 데이터) Min-Max Scaling"
   ]
  },
  {
   "cell_type": "code",
   "execution_count": 40,
   "id": "cc35865a",
   "metadata": {},
   "outputs": [
    {
     "data": {
      "text/html": [
       "<div>\n",
       "<style scoped>\n",
       "    .dataframe tbody tr th:only-of-type {\n",
       "        vertical-align: middle;\n",
       "    }\n",
       "\n",
       "    .dataframe tbody tr th {\n",
       "        vertical-align: top;\n",
       "    }\n",
       "\n",
       "    .dataframe thead th {\n",
       "        text-align: right;\n",
       "    }\n",
       "</style>\n",
       "<table border=\"1\" class=\"dataframe\">\n",
       "  <thead>\n",
       "    <tr style=\"text-align: right;\">\n",
       "      <th></th>\n",
       "      <th>기간</th>\n",
       "      <th>국가명</th>\n",
       "      <th>수출건수</th>\n",
       "      <th>수출금액</th>\n",
       "      <th>수입건수</th>\n",
       "      <th>수입금액</th>\n",
       "      <th>무역수지</th>\n",
       "    </tr>\n",
       "  </thead>\n",
       "  <tbody>\n",
       "    <tr>\n",
       "      <th>0</th>\n",
       "      <td>2015년 01월</td>\n",
       "      <td>중국</td>\n",
       "      <td>0.142372</td>\n",
       "      <td>0.794728</td>\n",
       "      <td>0.197014</td>\n",
       "      <td>0.700903</td>\n",
       "      <td>0.708320</td>\n",
       "    </tr>\n",
       "    <tr>\n",
       "      <th>1</th>\n",
       "      <td>2015년 01월</td>\n",
       "      <td>미국</td>\n",
       "      <td>0.035939</td>\n",
       "      <td>0.295728</td>\n",
       "      <td>0.332972</td>\n",
       "      <td>0.085394</td>\n",
       "      <td>0.496512</td>\n",
       "    </tr>\n",
       "    <tr>\n",
       "      <th>2</th>\n",
       "      <td>2015년 01월</td>\n",
       "      <td>일본</td>\n",
       "      <td>0.011187</td>\n",
       "      <td>0.042477</td>\n",
       "      <td>0.001249</td>\n",
       "      <td>0.112938</td>\n",
       "      <td>0.125310</td>\n",
       "    </tr>\n",
       "    <tr>\n",
       "      <th>3</th>\n",
       "      <td>2015년 02월</td>\n",
       "      <td>중국</td>\n",
       "      <td>0.078351</td>\n",
       "      <td>0.629759</td>\n",
       "      <td>0.099597</td>\n",
       "      <td>0.542551</td>\n",
       "      <td>0.603281</td>\n",
       "    </tr>\n",
       "    <tr>\n",
       "      <th>4</th>\n",
       "      <td>2015년 02월</td>\n",
       "      <td>미국</td>\n",
       "      <td>0.024131</td>\n",
       "      <td>0.254394</td>\n",
       "      <td>0.270146</td>\n",
       "      <td>0.000000</td>\n",
       "      <td>0.505660</td>\n",
       "    </tr>\n",
       "  </tbody>\n",
       "</table>\n",
       "</div>"
      ],
      "text/plain": [
       "          기간 국가명      수출건수      수출금액      수입건수      수입금액      무역수지\n",
       "0  2015년 01월  중국  0.142372  0.794728  0.197014  0.700903  0.708320\n",
       "1  2015년 01월  미국  0.035939  0.295728  0.332972  0.085394  0.496512\n",
       "2  2015년 01월  일본  0.011187  0.042477  0.001249  0.112938  0.125310\n",
       "3  2015년 02월  중국  0.078351  0.629759  0.099597  0.542551  0.603281\n",
       "4  2015년 02월  미국  0.024131  0.254394  0.270146  0.000000  0.505660"
      ]
     },
     "execution_count": 40,
     "metadata": {},
     "output_type": "execute_result"
    }
   ],
   "source": [
    "# min-max scaling 기법으로 정규화\n",
    "trade[cols] = (trade[cols]-trade[cols].min())/(trade[cols].max()-trade[cols].min())\n",
    "trade.head()"
   ]
  },
  {
   "cell_type": "markdown",
   "id": "f7fe007d",
   "metadata": {},
   "source": [
    "- 데이터에서 최솟값을 빼주고, '최댓값-최솟값'으로 나눈다."
   ]
  },
  {
   "cell_type": "code",
   "execution_count": 41,
   "id": "156bc9d5",
   "metadata": {},
   "outputs": [
    {
     "data": {
      "text/html": [
       "<div>\n",
       "<style scoped>\n",
       "    .dataframe tbody tr th:only-of-type {\n",
       "        vertical-align: middle;\n",
       "    }\n",
       "\n",
       "    .dataframe tbody tr th {\n",
       "        vertical-align: top;\n",
       "    }\n",
       "\n",
       "    .dataframe thead th {\n",
       "        text-align: right;\n",
       "    }\n",
       "</style>\n",
       "<table border=\"1\" class=\"dataframe\">\n",
       "  <thead>\n",
       "    <tr style=\"text-align: right;\">\n",
       "      <th></th>\n",
       "      <th>수출건수</th>\n",
       "      <th>수출금액</th>\n",
       "      <th>수입건수</th>\n",
       "      <th>수입금액</th>\n",
       "      <th>무역수지</th>\n",
       "    </tr>\n",
       "  </thead>\n",
       "  <tbody>\n",
       "    <tr>\n",
       "      <th>count</th>\n",
       "      <td>195.000000</td>\n",
       "      <td>195.000000</td>\n",
       "      <td>195.000000</td>\n",
       "      <td>195.000000</td>\n",
       "      <td>195.000000</td>\n",
       "    </tr>\n",
       "    <tr>\n",
       "      <th>mean</th>\n",
       "      <td>0.143541</td>\n",
       "      <td>0.372113</td>\n",
       "      <td>0.235620</td>\n",
       "      <td>0.349450</td>\n",
       "      <td>0.397180</td>\n",
       "    </tr>\n",
       "    <tr>\n",
       "      <th>std</th>\n",
       "      <td>0.156108</td>\n",
       "      <td>0.302099</td>\n",
       "      <td>0.235988</td>\n",
       "      <td>0.273790</td>\n",
       "      <td>0.247655</td>\n",
       "    </tr>\n",
       "    <tr>\n",
       "      <th>min</th>\n",
       "      <td>0.000000</td>\n",
       "      <td>0.000000</td>\n",
       "      <td>0.000000</td>\n",
       "      <td>0.000000</td>\n",
       "      <td>0.000000</td>\n",
       "    </tr>\n",
       "    <tr>\n",
       "      <th>25%</th>\n",
       "      <td>0.050853</td>\n",
       "      <td>0.057527</td>\n",
       "      <td>0.054532</td>\n",
       "      <td>0.132836</td>\n",
       "      <td>0.120608</td>\n",
       "    </tr>\n",
       "    <tr>\n",
       "      <th>50%</th>\n",
       "      <td>0.075271</td>\n",
       "      <td>0.324844</td>\n",
       "      <td>0.154691</td>\n",
       "      <td>0.236172</td>\n",
       "      <td>0.432516</td>\n",
       "    </tr>\n",
       "    <tr>\n",
       "      <th>75%</th>\n",
       "      <td>0.212548</td>\n",
       "      <td>0.685450</td>\n",
       "      <td>0.328311</td>\n",
       "      <td>0.591147</td>\n",
       "      <td>0.581972</td>\n",
       "    </tr>\n",
       "    <tr>\n",
       "      <th>max</th>\n",
       "      <td>1.000000</td>\n",
       "      <td>1.000000</td>\n",
       "      <td>1.000000</td>\n",
       "      <td>1.000000</td>\n",
       "      <td>1.000000</td>\n",
       "    </tr>\n",
       "  </tbody>\n",
       "</table>\n",
       "</div>"
      ],
      "text/plain": [
       "             수출건수        수출금액        수입건수        수입금액        무역수지\n",
       "count  195.000000  195.000000  195.000000  195.000000  195.000000\n",
       "mean     0.143541    0.372113    0.235620    0.349450    0.397180\n",
       "std      0.156108    0.302099    0.235988    0.273790    0.247655\n",
       "min      0.000000    0.000000    0.000000    0.000000    0.000000\n",
       "25%      0.050853    0.057527    0.054532    0.132836    0.120608\n",
       "50%      0.075271    0.324844    0.154691    0.236172    0.432516\n",
       "75%      0.212548    0.685450    0.328311    0.591147    0.581972\n",
       "max      1.000000    1.000000    1.000000    1.000000    1.000000"
      ]
     },
     "execution_count": 41,
     "metadata": {},
     "output_type": "execute_result"
    }
   ],
   "source": [
    "trade.describe()"
   ]
  },
  {
   "cell_type": "markdown",
   "id": "7695a140",
   "metadata": {},
   "source": [
    "- Min-Max Scaling 방법으로 정규화시킨 후, 각 컬럼의 최솟값(min)은 0이고, 최댓값(max)은 1임을 확인할 수 있다.\n",
    "- 실제로 해당 값에 대한 분포를 정확하게 모르기 때문에 Standardization보다 Min-Max Scaling을 사용해 정규화한다."
   ]
  },
  {
   "cell_type": "code",
   "execution_count": 42,
   "id": "9d396de5",
   "metadata": {},
   "outputs": [],
   "source": [
    "train = pd.DataFrame([[10, -10], [30, 10], [50, 0]])\n",
    "test = pd.DataFrame([[0, 1], [10, 10]])"
   ]
  },
  {
   "cell_type": "code",
   "execution_count": 43,
   "id": "a42f699c",
   "metadata": {},
   "outputs": [],
   "source": [
    "train_min = train.min()\n",
    "train_max = train.max()\n",
    "\n",
    "train_min_max = (train - train_min)/(train_max - train_min)\n",
    "test_min_max =  (test - train_min)/(train_max - train_min)    # test를 min-max scaling할 때도 train 정규화 기준으로 수행"
   ]
  },
  {
   "cell_type": "markdown",
   "id": "d9a7e7e7",
   "metadata": {},
   "source": [
    "- 주의! train 데이터와 test 데이터가 나눠져 있는 경우에는 train 데이터를 정규화시켰던 기준 그대로 test 데이터도 정규화 시켜야 한다."
   ]
  },
  {
   "cell_type": "code",
   "execution_count": 44,
   "id": "1157c748",
   "metadata": {},
   "outputs": [
    {
     "data": {
      "text/html": [
       "<div>\n",
       "<style scoped>\n",
       "    .dataframe tbody tr th:only-of-type {\n",
       "        vertical-align: middle;\n",
       "    }\n",
       "\n",
       "    .dataframe tbody tr th {\n",
       "        vertical-align: top;\n",
       "    }\n",
       "\n",
       "    .dataframe thead th {\n",
       "        text-align: right;\n",
       "    }\n",
       "</style>\n",
       "<table border=\"1\" class=\"dataframe\">\n",
       "  <thead>\n",
       "    <tr style=\"text-align: right;\">\n",
       "      <th></th>\n",
       "      <th>0</th>\n",
       "      <th>1</th>\n",
       "    </tr>\n",
       "  </thead>\n",
       "  <tbody>\n",
       "    <tr>\n",
       "      <th>0</th>\n",
       "      <td>0.0</td>\n",
       "      <td>0.0</td>\n",
       "    </tr>\n",
       "    <tr>\n",
       "      <th>1</th>\n",
       "      <td>0.5</td>\n",
       "      <td>1.0</td>\n",
       "    </tr>\n",
       "    <tr>\n",
       "      <th>2</th>\n",
       "      <td>1.0</td>\n",
       "      <td>0.5</td>\n",
       "    </tr>\n",
       "  </tbody>\n",
       "</table>\n",
       "</div>"
      ],
      "text/plain": [
       "     0    1\n",
       "0  0.0  0.0\n",
       "1  0.5  1.0\n",
       "2  1.0  0.5"
      ]
     },
     "execution_count": 44,
     "metadata": {},
     "output_type": "execute_result"
    }
   ],
   "source": [
    "train_min_max"
   ]
  },
  {
   "cell_type": "code",
   "execution_count": 45,
   "id": "eaee5401",
   "metadata": {},
   "outputs": [
    {
     "data": {
      "text/html": [
       "<div>\n",
       "<style scoped>\n",
       "    .dataframe tbody tr th:only-of-type {\n",
       "        vertical-align: middle;\n",
       "    }\n",
       "\n",
       "    .dataframe tbody tr th {\n",
       "        vertical-align: top;\n",
       "    }\n",
       "\n",
       "    .dataframe thead th {\n",
       "        text-align: right;\n",
       "    }\n",
       "</style>\n",
       "<table border=\"1\" class=\"dataframe\">\n",
       "  <thead>\n",
       "    <tr style=\"text-align: right;\">\n",
       "      <th></th>\n",
       "      <th>0</th>\n",
       "      <th>1</th>\n",
       "    </tr>\n",
       "  </thead>\n",
       "  <tbody>\n",
       "    <tr>\n",
       "      <th>0</th>\n",
       "      <td>-0.25</td>\n",
       "      <td>0.55</td>\n",
       "    </tr>\n",
       "    <tr>\n",
       "      <th>1</th>\n",
       "      <td>0.00</td>\n",
       "      <td>1.00</td>\n",
       "    </tr>\n",
       "  </tbody>\n",
       "</table>\n",
       "</div>"
      ],
      "text/plain": [
       "      0     1\n",
       "0 -0.25  0.55\n",
       "1  0.00  1.00"
      ]
     },
     "execution_count": 45,
     "metadata": {},
     "output_type": "execute_result"
    }
   ],
   "source": [
    "test_min_max"
   ]
  },
  {
   "cell_type": "code",
   "execution_count": 46,
   "id": "120e8bd8",
   "metadata": {},
   "outputs": [],
   "source": [
    "# skikit-learn\n",
    "from sklearn.preprocessing import MinMaxScaler\n",
    "train = [[10, -10], [30, 10], [50, 0]]\n",
    "test = [[0, 1]]\n",
    "scaler = MinMaxScaler()"
   ]
  },
  {
   "cell_type": "code",
   "execution_count": 47,
   "id": "fc8c9727",
   "metadata": {},
   "outputs": [
    {
     "data": {
      "text/plain": [
       "array([[0. , 0. ],\n",
       "       [0.5, 1. ],\n",
       "       [1. , 0.5]])"
      ]
     },
     "execution_count": 47,
     "metadata": {},
     "output_type": "execute_result"
    }
   ],
   "source": [
    "scaler.fit_transform(train)"
   ]
  },
  {
   "cell_type": "code",
   "execution_count": 48,
   "id": "00637d64",
   "metadata": {},
   "outputs": [
    {
     "data": {
      "text/plain": [
       "array([[-0.25,  0.55]])"
      ]
     },
     "execution_count": 48,
     "metadata": {},
     "output_type": "execute_result"
    }
   ],
   "source": [
    "scaler.transform(test)"
   ]
  },
  {
   "cell_type": "markdown",
   "id": "75f9761b",
   "metadata": {},
   "source": [
    "- scikit-learn의 StandardScaler, MinMaxScaler를 사용하는 방법도 있다.\n",
    "- 로그 변환 등의 기법도 정규화화 함께 사용하면 도움이 될 수 있다.\n",
    "- [Normalizing Inputs 설명 영상](https://www.youtube.com/watch?v=FDCfw-YqWTE&t=314s)"
   ]
  },
  {
   "cell_type": "markdown",
   "id": "5b86b082",
   "metadata": {},
   "source": [
    "## 10-6. 원-핫 인코딩(One-Hot Encoding)\n",
    "- 범주형 데이터인 국가명 컬럼을 pandas로 원-핫 인코딩한다.\n",
    "- 머신러닝이나 딥러닝 프레임워크에서 범주형을 지원하지 않는 경우 원-핫 인코딩을 해야 한다. 원-핫 인코딩이란 카테고리별 이진 특성을 만들어 해당하는 특성만 1, 나머지는 0으로 만드는 방법이다. "
   ]
  },
  {
   "cell_type": "code",
   "execution_count": 49,
   "id": "96a98f12",
   "metadata": {},
   "outputs": [
    {
     "name": "stdout",
     "output_type": "stream",
     "text": [
      "0    중국\n",
      "1    미국\n",
      "2    일본\n",
      "3    중국\n",
      "4    미국\n",
      "Name: 국가명, dtype: object\n"
     ]
    },
    {
     "data": {
      "text/html": [
       "<div>\n",
       "<style scoped>\n",
       "    .dataframe tbody tr th:only-of-type {\n",
       "        vertical-align: middle;\n",
       "    }\n",
       "\n",
       "    .dataframe tbody tr th {\n",
       "        vertical-align: top;\n",
       "    }\n",
       "\n",
       "    .dataframe thead th {\n",
       "        text-align: right;\n",
       "    }\n",
       "</style>\n",
       "<table border=\"1\" class=\"dataframe\">\n",
       "  <thead>\n",
       "    <tr style=\"text-align: right;\">\n",
       "      <th></th>\n",
       "      <th>미국</th>\n",
       "      <th>일본</th>\n",
       "      <th>중국</th>\n",
       "    </tr>\n",
       "  </thead>\n",
       "  <tbody>\n",
       "    <tr>\n",
       "      <th>0</th>\n",
       "      <td>0</td>\n",
       "      <td>0</td>\n",
       "      <td>1</td>\n",
       "    </tr>\n",
       "    <tr>\n",
       "      <th>1</th>\n",
       "      <td>1</td>\n",
       "      <td>0</td>\n",
       "      <td>0</td>\n",
       "    </tr>\n",
       "    <tr>\n",
       "      <th>2</th>\n",
       "      <td>0</td>\n",
       "      <td>1</td>\n",
       "      <td>0</td>\n",
       "    </tr>\n",
       "    <tr>\n",
       "      <th>3</th>\n",
       "      <td>0</td>\n",
       "      <td>0</td>\n",
       "      <td>1</td>\n",
       "    </tr>\n",
       "    <tr>\n",
       "      <th>4</th>\n",
       "      <td>1</td>\n",
       "      <td>0</td>\n",
       "      <td>0</td>\n",
       "    </tr>\n",
       "  </tbody>\n",
       "</table>\n",
       "</div>"
      ],
      "text/plain": [
       "   미국  일본  중국\n",
       "0   0   0   1\n",
       "1   1   0   0\n",
       "2   0   1   0\n",
       "3   0   0   1\n",
       "4   1   0   0"
      ]
     },
     "execution_count": 49,
     "metadata": {},
     "output_type": "execute_result"
    }
   ],
   "source": [
    "#trade 데이터의 국가명 컬럼 원본\n",
    "print(trade['국가명'].head())  \n",
    "\n",
    "# get_dummies를 통해 국가명 원-핫 인코딩\n",
    "country = pd.get_dummies(trade['국가명'])\n",
    "country.head()"
   ]
  },
  {
   "cell_type": "markdown",
   "id": "c174ec42",
   "metadata": {},
   "source": [
    "- pd.get_dummies() 함수 : 원-핫 인코딩을 할 수 있다."
   ]
  },
  {
   "cell_type": "code",
   "execution_count": 50,
   "id": "c97504b9",
   "metadata": {},
   "outputs": [
    {
     "data": {
      "text/html": [
       "<div>\n",
       "<style scoped>\n",
       "    .dataframe tbody tr th:only-of-type {\n",
       "        vertical-align: middle;\n",
       "    }\n",
       "\n",
       "    .dataframe tbody tr th {\n",
       "        vertical-align: top;\n",
       "    }\n",
       "\n",
       "    .dataframe thead th {\n",
       "        text-align: right;\n",
       "    }\n",
       "</style>\n",
       "<table border=\"1\" class=\"dataframe\">\n",
       "  <thead>\n",
       "    <tr style=\"text-align: right;\">\n",
       "      <th></th>\n",
       "      <th>기간</th>\n",
       "      <th>국가명</th>\n",
       "      <th>수출건수</th>\n",
       "      <th>수출금액</th>\n",
       "      <th>수입건수</th>\n",
       "      <th>수입금액</th>\n",
       "      <th>무역수지</th>\n",
       "      <th>미국</th>\n",
       "      <th>일본</th>\n",
       "      <th>중국</th>\n",
       "    </tr>\n",
       "  </thead>\n",
       "  <tbody>\n",
       "    <tr>\n",
       "      <th>0</th>\n",
       "      <td>2015년 01월</td>\n",
       "      <td>중국</td>\n",
       "      <td>0.142372</td>\n",
       "      <td>0.794728</td>\n",
       "      <td>0.197014</td>\n",
       "      <td>0.700903</td>\n",
       "      <td>0.708320</td>\n",
       "      <td>0</td>\n",
       "      <td>0</td>\n",
       "      <td>1</td>\n",
       "    </tr>\n",
       "    <tr>\n",
       "      <th>1</th>\n",
       "      <td>2015년 01월</td>\n",
       "      <td>미국</td>\n",
       "      <td>0.035939</td>\n",
       "      <td>0.295728</td>\n",
       "      <td>0.332972</td>\n",
       "      <td>0.085394</td>\n",
       "      <td>0.496512</td>\n",
       "      <td>1</td>\n",
       "      <td>0</td>\n",
       "      <td>0</td>\n",
       "    </tr>\n",
       "    <tr>\n",
       "      <th>2</th>\n",
       "      <td>2015년 01월</td>\n",
       "      <td>일본</td>\n",
       "      <td>0.011187</td>\n",
       "      <td>0.042477</td>\n",
       "      <td>0.001249</td>\n",
       "      <td>0.112938</td>\n",
       "      <td>0.125310</td>\n",
       "      <td>0</td>\n",
       "      <td>1</td>\n",
       "      <td>0</td>\n",
       "    </tr>\n",
       "    <tr>\n",
       "      <th>3</th>\n",
       "      <td>2015년 02월</td>\n",
       "      <td>중국</td>\n",
       "      <td>0.078351</td>\n",
       "      <td>0.629759</td>\n",
       "      <td>0.099597</td>\n",
       "      <td>0.542551</td>\n",
       "      <td>0.603281</td>\n",
       "      <td>0</td>\n",
       "      <td>0</td>\n",
       "      <td>1</td>\n",
       "    </tr>\n",
       "    <tr>\n",
       "      <th>4</th>\n",
       "      <td>2015년 02월</td>\n",
       "      <td>미국</td>\n",
       "      <td>0.024131</td>\n",
       "      <td>0.254394</td>\n",
       "      <td>0.270146</td>\n",
       "      <td>0.000000</td>\n",
       "      <td>0.505660</td>\n",
       "      <td>1</td>\n",
       "      <td>0</td>\n",
       "      <td>0</td>\n",
       "    </tr>\n",
       "  </tbody>\n",
       "</table>\n",
       "</div>"
      ],
      "text/plain": [
       "          기간 국가명      수출건수      수출금액      수입건수      수입금액      무역수지  미국  일본  중국\n",
       "0  2015년 01월  중국  0.142372  0.794728  0.197014  0.700903  0.708320   0   0   1\n",
       "1  2015년 01월  미국  0.035939  0.295728  0.332972  0.085394  0.496512   1   0   0\n",
       "2  2015년 01월  일본  0.011187  0.042477  0.001249  0.112938  0.125310   0   1   0\n",
       "3  2015년 02월  중국  0.078351  0.629759  0.099597  0.542551  0.603281   0   0   1\n",
       "4  2015년 02월  미국  0.024131  0.254394  0.270146  0.000000  0.505660   1   0   0"
      ]
     },
     "execution_count": 50,
     "metadata": {},
     "output_type": "execute_result"
    }
   ],
   "source": [
    "trade = pd.concat([trade, country], axis=1)\n",
    "trade.head()"
   ]
  },
  {
   "cell_type": "markdown",
   "id": "1bbea950",
   "metadata": {},
   "source": [
    "- pd.concat() 함수 : 데이터프레임 trade와 country를 합친다."
   ]
  },
  {
   "cell_type": "code",
   "execution_count": 51,
   "id": "3478b9f8",
   "metadata": {},
   "outputs": [
    {
     "data": {
      "text/html": [
       "<div>\n",
       "<style scoped>\n",
       "    .dataframe tbody tr th:only-of-type {\n",
       "        vertical-align: middle;\n",
       "    }\n",
       "\n",
       "    .dataframe tbody tr th {\n",
       "        vertical-align: top;\n",
       "    }\n",
       "\n",
       "    .dataframe thead th {\n",
       "        text-align: right;\n",
       "    }\n",
       "</style>\n",
       "<table border=\"1\" class=\"dataframe\">\n",
       "  <thead>\n",
       "    <tr style=\"text-align: right;\">\n",
       "      <th></th>\n",
       "      <th>기간</th>\n",
       "      <th>수출건수</th>\n",
       "      <th>수출금액</th>\n",
       "      <th>수입건수</th>\n",
       "      <th>수입금액</th>\n",
       "      <th>무역수지</th>\n",
       "      <th>미국</th>\n",
       "      <th>일본</th>\n",
       "      <th>중국</th>\n",
       "    </tr>\n",
       "  </thead>\n",
       "  <tbody>\n",
       "    <tr>\n",
       "      <th>0</th>\n",
       "      <td>2015년 01월</td>\n",
       "      <td>0.142372</td>\n",
       "      <td>0.794728</td>\n",
       "      <td>0.197014</td>\n",
       "      <td>0.700903</td>\n",
       "      <td>0.708320</td>\n",
       "      <td>0</td>\n",
       "      <td>0</td>\n",
       "      <td>1</td>\n",
       "    </tr>\n",
       "    <tr>\n",
       "      <th>1</th>\n",
       "      <td>2015년 01월</td>\n",
       "      <td>0.035939</td>\n",
       "      <td>0.295728</td>\n",
       "      <td>0.332972</td>\n",
       "      <td>0.085394</td>\n",
       "      <td>0.496512</td>\n",
       "      <td>1</td>\n",
       "      <td>0</td>\n",
       "      <td>0</td>\n",
       "    </tr>\n",
       "    <tr>\n",
       "      <th>2</th>\n",
       "      <td>2015년 01월</td>\n",
       "      <td>0.011187</td>\n",
       "      <td>0.042477</td>\n",
       "      <td>0.001249</td>\n",
       "      <td>0.112938</td>\n",
       "      <td>0.125310</td>\n",
       "      <td>0</td>\n",
       "      <td>1</td>\n",
       "      <td>0</td>\n",
       "    </tr>\n",
       "    <tr>\n",
       "      <th>3</th>\n",
       "      <td>2015년 02월</td>\n",
       "      <td>0.078351</td>\n",
       "      <td>0.629759</td>\n",
       "      <td>0.099597</td>\n",
       "      <td>0.542551</td>\n",
       "      <td>0.603281</td>\n",
       "      <td>0</td>\n",
       "      <td>0</td>\n",
       "      <td>1</td>\n",
       "    </tr>\n",
       "    <tr>\n",
       "      <th>4</th>\n",
       "      <td>2015년 02월</td>\n",
       "      <td>0.024131</td>\n",
       "      <td>0.254394</td>\n",
       "      <td>0.270146</td>\n",
       "      <td>0.000000</td>\n",
       "      <td>0.505660</td>\n",
       "      <td>1</td>\n",
       "      <td>0</td>\n",
       "      <td>0</td>\n",
       "    </tr>\n",
       "  </tbody>\n",
       "</table>\n",
       "</div>"
      ],
      "text/plain": [
       "          기간      수출건수      수출금액      수입건수      수입금액      무역수지  미국  일본  중국\n",
       "0  2015년 01월  0.142372  0.794728  0.197014  0.700903  0.708320   0   0   1\n",
       "1  2015년 01월  0.035939  0.295728  0.332972  0.085394  0.496512   1   0   0\n",
       "2  2015년 01월  0.011187  0.042477  0.001249  0.112938  0.125310   0   1   0\n",
       "3  2015년 02월  0.078351  0.629759  0.099597  0.542551  0.603281   0   0   1\n",
       "4  2015년 02월  0.024131  0.254394  0.270146  0.000000  0.505660   1   0   0"
      ]
     },
     "execution_count": 51,
     "metadata": {},
     "output_type": "execute_result"
    }
   ],
   "source": [
    "trade.drop(['국가명'], axis=1, inplace=True)\n",
    "trade.head()"
   ]
  },
  {
   "cell_type": "markdown",
   "id": "9026af1c",
   "metadata": {},
   "source": [
    "- 필요 없어진 국가명 컬럼을 삭제한다."
   ]
  },
  {
   "cell_type": "markdown",
   "id": "216bd333",
   "metadata": {},
   "source": [
    "## 10-7. 구간화(Binning)"
   ]
  },
  {
   "cell_type": "code",
   "execution_count": 52,
   "id": "4cd2ccc4",
   "metadata": {},
   "outputs": [],
   "source": [
    "# salary 소득 데이터\n",
    "salary = pd.Series([4300, 8370, 1750, 3830, 1840, 4220, 3020, 2290, 4740, 4600, \n",
    "                    2860, 3400, 4800, 4470, 2440, 4530, 4850, 4850, 4760, 4500, \n",
    "                    4640, 3000, 1880, 4880, 2240, 4750, 2750, 2810, 3100, 4290, \n",
    "                    1540, 2870, 1780, 4670, 4150, 2010, 3580, 1610, 2930, 4300, \n",
    "                    2740, 1680, 3490, 4350, 1680, 6420, 8740, 8980, 9080, 3990, \n",
    "                    4960, 3700, 9600, 9330, 5600, 4100, 1770, 8280, 3120, 1950, \n",
    "                    4210, 2020, 3820, 3170, 6330, 2570, 6940, 8610, 5060, 6370,\n",
    "                    9080, 3760, 8060, 2500, 4660, 1770, 9220, 3380, 2490, 3450, \n",
    "                    1960, 7210, 5810, 9450, 8910, 3470, 7350, 8410, 7520, 9610, \n",
    "                    5150, 2630, 5610, 2750, 7050, 3350, 9450, 7140, 4170, 3090])"
   ]
  },
  {
   "cell_type": "code",
   "execution_count": 53,
   "id": "289320ab",
   "metadata": {},
   "outputs": [
    {
     "data": {
      "text/plain": [
       "<AxesSubplot:>"
      ]
     },
     "execution_count": 53,
     "metadata": {},
     "output_type": "execute_result"
    },
    {
     "data": {
      "image/png": "[encoded data removed]",
      "text/plain": [
       "<Figure size 432x288 with 1 Axes>"
      ]
     },
     "metadata": {
      "needs_background": "light"
     },
     "output_type": "display_data"
    }
   ],
   "source": [
    "salary.hist()"
   ]
  },
  {
   "cell_type": "markdown",
   "id": "02cd2886",
   "metadata": {},
   "source": [
    "- 이 데이터를 구간별로 나누는데 이러한 기법을 구간화(Data binning 혹은 bucketing)이라고 부른다. 히스토그램과 같이 연속적인 데이터를 구간을 나눠 분석할 때 사용하는 방법이다."
   ]
  },
  {
   "cell_type": "markdown",
   "id": "f89925e3",
   "metadata": {},
   "source": [
    "수치형 데이터를 범주형 데이터로 변형시키기(pandas의 cut 과 qcut 이용)"
   ]
  },
  {
   "cell_type": "code",
   "execution_count": 54,
   "id": "0c5d01fe",
   "metadata": {},
   "outputs": [],
   "source": [
    "# 구간 정하기\n",
    "bins = [0, 2000, 4000, 6000, 8000, 10000]"
   ]
  },
  {
   "cell_type": "code",
   "execution_count": 55,
   "id": "037e3e11",
   "metadata": {},
   "outputs": [
    {
     "data": {
      "text/plain": [
       "0      (4000, 6000]\n",
       "1     (8000, 10000]\n",
       "2         (0, 2000]\n",
       "3      (2000, 4000]\n",
       "4         (0, 2000]\n",
       "          ...      \n",
       "95     (2000, 4000]\n",
       "96    (8000, 10000]\n",
       "97     (6000, 8000]\n",
       "98     (4000, 6000]\n",
       "99     (2000, 4000]\n",
       "Length: 100, dtype: category\n",
       "Categories (5, interval[int64, right]): [(0, 2000] < (2000, 4000] < (4000, 6000] < (6000, 8000] < (8000, 10000]]"
      ]
     },
     "execution_count": 55,
     "metadata": {},
     "output_type": "execute_result"
    }
   ],
   "source": [
    "ctg = pd.cut(salary, bins=bins)\n",
    "ctg"
   ]
  },
  {
   "cell_type": "markdown",
   "id": "3e69df45",
   "metadata": {},
   "source": [
    "- pd.cut() 함수 : 데이터와 구간을 입력하면 데이터를 구간별로 나눠준다."
   ]
  },
  {
   "cell_type": "code",
   "execution_count": 56,
   "id": "40df0e95",
   "metadata": {},
   "outputs": [
    {
     "name": "stdout",
     "output_type": "stream",
     "text": [
      "salary[0]: 4300\n",
      "salary[0]가 속한 카테고리: (4000, 6000]\n"
     ]
    }
   ],
   "source": [
    "print('salary[0]:', salary[0])\n",
    "print('salary[0]가 속한 카테고리:', ctg[0])"
   ]
  },
  {
   "cell_type": "markdown",
   "id": "067e0682",
   "metadata": {},
   "source": [
    "- salary[0]는 4300으로 4000에서 6000 사이에 포함되었다는 것을 확인할 수 있다."
   ]
  },
  {
   "cell_type": "code",
   "execution_count": 57,
   "id": "ae34f4ea",
   "metadata": {},
   "outputs": [
    {
     "data": {
      "text/plain": [
       "(0, 2000]        12\n",
       "(2000, 4000]     34\n",
       "(4000, 6000]     29\n",
       "(6000, 8000]      9\n",
       "(8000, 10000]    16\n",
       "dtype: int64"
      ]
     },
     "execution_count": 57,
     "metadata": {},
     "output_type": "execute_result"
    }
   ],
   "source": [
    "ctg.value_counts().sort_index()"
   ]
  },
  {
   "cell_type": "markdown",
   "id": "98963364",
   "metadata": {},
   "source": [
    "- value_counts() : 구간별로 값이 몇 개가 속해 있는지 확인할 수 있다."
   ]
  },
  {
   "cell_type": "code",
   "execution_count": 58,
   "id": "3a17e0cc",
   "metadata": {},
   "outputs": [
    {
     "data": {
      "text/plain": [
       "0      (4230.0, 5575.0]\n",
       "1      (8265.0, 9610.0]\n",
       "2     (1531.93, 2885.0]\n",
       "3      (2885.0, 4230.0]\n",
       "4     (1531.93, 2885.0]\n",
       "            ...        \n",
       "95     (2885.0, 4230.0]\n",
       "96     (8265.0, 9610.0]\n",
       "97     (6920.0, 8265.0]\n",
       "98     (2885.0, 4230.0]\n",
       "99     (2885.0, 4230.0]\n",
       "Length: 100, dtype: category\n",
       "Categories (6, interval[float64, right]): [(1531.93, 2885.0] < (2885.0, 4230.0] < (4230.0, 5575.0] < (5575.0, 6920.0] < (6920.0, 8265.0] < (8265.0, 9610.0]]"
      ]
     },
     "execution_count": 58,
     "metadata": {},
     "output_type": "execute_result"
    }
   ],
   "source": [
    "ctg = pd.cut(salary, bins=6)\n",
    "ctg"
   ]
  },
  {
   "cell_type": "code",
   "execution_count": 59,
   "id": "4d277596",
   "metadata": {},
   "outputs": [
    {
     "data": {
      "text/plain": [
       "(1531.93, 2885.0]    27\n",
       "(2885.0, 4230.0]     24\n",
       "(4230.0, 5575.0]     21\n",
       "(5575.0, 6920.0]      6\n",
       "(6920.0, 8265.0]      7\n",
       "(8265.0, 9610.0]     15\n",
       "dtype: int64"
      ]
     },
     "execution_count": 59,
     "metadata": {},
     "output_type": "execute_result"
    }
   ],
   "source": [
    "ctg.value_counts().sort_index()"
   ]
  },
  {
   "cell_type": "markdown",
   "id": "9233e5ec",
   "metadata": {},
   "source": [
    "- 특정 구간을 지정해 줘도 되지만, 구간의 개수를 지정해 줄 수도 있다. bins 옵션에 정수를 입력하면 데이터의 최솟값에서 최댓값을 균등하게 bins 개수만큼 나눠준다."
   ]
  },
  {
   "cell_type": "code",
   "execution_count": 60,
   "id": "4ffdb92b",
   "metadata": {},
   "outputs": [
    {
     "data": {
      "text/plain": [
       "0       (3544.0, 4648.0]\n",
       "1       (7068.0, 9610.0]\n",
       "2     (1539.999, 2618.0]\n",
       "3       (3544.0, 4648.0]\n",
       "4     (1539.999, 2618.0]\n",
       "             ...        \n",
       "95      (2618.0, 3544.0]\n",
       "96      (7068.0, 9610.0]\n",
       "97      (7068.0, 9610.0]\n",
       "98      (3544.0, 4648.0]\n",
       "99      (2618.0, 3544.0]\n",
       "Length: 100, dtype: category\n",
       "Categories (5, interval[float64, right]): [(1539.999, 2618.0] < (2618.0, 3544.0] < (3544.0, 4648.0] < (4648.0, 7068.0] < (7068.0, 9610.0]]"
      ]
     },
     "execution_count": 60,
     "metadata": {},
     "output_type": "execute_result"
    }
   ],
   "source": [
    "ctg = pd.qcut(salary, q=5)\n",
    "ctg"
   ]
  },
  {
   "cell_type": "code",
   "execution_count": 62,
   "id": "2aee60cb",
   "metadata": {},
   "outputs": [
    {
     "name": "stdout",
     "output_type": "stream",
     "text": [
      "(1539.999, 2618.0]    20\n",
      "(2618.0, 3544.0]      20\n",
      "(3544.0, 4648.0]      20\n",
      "(4648.0, 7068.0]      20\n",
      "(7068.0, 9610.0]      20\n",
      "dtype: int64\n"
     ]
    }
   ],
   "source": [
    "print(ctg.value_counts().sort_index())"
   ]
  },
  {
   "cell_type": "markdown",
   "id": "e456e91a",
   "metadata": {},
   "source": [
    "- pd.qcut() 함수 : 구간을 일정하게 나누는 것이 아니라 데이터의 분포를 비슷한 크기의 그룹으로 나눠준다."
   ]
  },
  {
   "cell_type": "markdown",
   "id": "5389b4c1",
   "metadata": {},
   "source": [
    "### 마무리와 복습 과제\n",
    "- 표 데이터 전처리 (데이터 전처리는 데이터의 특성을 파악해서 적용하여야 함)\n",
    " - 결측치(Missing Data)\n",
    " - 중복된 데이터\n",
    " - 이상치(Outlier)\n",
    " - 정규화(Normalization)\n",
    " - 원-핫 인코딩(One-Hot Encoding)\n",
    " - 구간화(Binning)\n",
    "- 캐글의 [Video Game Sales](https://www.kaggle.com/datasets/gregorut/videogamesales) 데이터셋 : [vgsales.csv](https://drive.google.com/file/d/19OTXQnnODr7RU7TSx0TgYmBFwTHjzSN0/view?usp=share_link) -> 16,500개 이상의 비디오 게임에 대한 매출 정보 등이 담겨 있다. 이 데이터셋으로 전처리해보기.\n",
    "- [공공데이터포털](https://www.data.go.kr/), [캐글](https://www.kaggle.com/)을 통해 여러 분야의 데이터를 찾을 수 있다."
   ]
  }
 ],
 "metadata": {
  "kernelspec": {
   "display_name": "Python 3 (ipykernel)",
   "language": "python",
   "name": "python3"
  },
  "language_info": {
   "codemirror_mode": {
    "name": "ipython",
    "version": 3
   },
   "file_extension": ".py",
   "mimetype": "text/x-python",
   "name": "python",
   "nbconvert_exporter": "python",
   "pygments_lexer": "ipython3",
   "version": "3.9.7"
  }
 },
 "nbformat": 4,
 "nbformat_minor": 5
}
