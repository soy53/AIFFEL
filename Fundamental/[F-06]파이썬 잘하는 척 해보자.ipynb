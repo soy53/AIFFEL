{
 "cells": [
  {
   "cell_type": "markdown",
   "id": "059eac01",
   "metadata": {},
   "source": [
    "# 6강. 파이썬 잘하는 척 해보자\n",
    "## 6-3. 파이썬을 더 잘 사용해보자! (1) for문 잘 사용하기\n",
    "### for문 잘 써보기 - enumerate()와 이중 for문"
   ]
  },
  {
   "cell_type": "code",
   "execution_count": 1,
   "id": "d97043bf",
   "metadata": {},
   "outputs": [
    {
     "name": "stdout",
     "output_type": "stream",
     "text": [
      "값 :  a\n",
      "값 :  b\n",
      "값 :  c\n",
      "값 :  d\n"
     ]
    }
   ],
   "source": [
    "# my_list에 있는 값들을 하나씩 출력하기\n",
    "my_list = ['a','b','c','d']\n",
    "\n",
    "for i in my_list:\n",
    "    print(\"값 : \", i)"
   ]
  },
  {
   "cell_type": "code",
   "execution_count": 2,
   "id": "d029a8cc",
   "metadata": {},
   "outputs": [
    {
     "name": "stdout",
     "output_type": "stream",
     "text": [
      "순번 :  0  , 값 :  a\n",
      "순번 :  1  , 값 :  b\n",
      "순번 :  2  , 값 :  c\n",
      "순번 :  3  , 값 :  d\n"
     ]
    }
   ],
   "source": [
    "my_list = ['a','b','c','d']\n",
    "\n",
    "for i, value in enumerate(my_list):\n",
    "    print(\"순번 : \", i, \" , 값 : \", value)"
   ]
  },
  {
   "cell_type": "markdown",
   "id": "03b1313c",
   "metadata": {},
   "source": [
    "- print 되는 각각의 값이 몇 번째로 출력되어 나왔는지 확인하기 위해서는 enumerate()라는 기능을 이용할 수 있다. enumerate()는 리스트, 문자열, 튜플 등이 있는 경우 순서와 리스트의 값을 함께 반환해 주는 기능을 가지고 있다.\n",
    "- for i, value in enumerate(my_list)를 이용하면 i에 순번이, value에 해당 순번의 데이터 값이 나오게 된다. 즉, enumerate()를 통해 단순 for문이 아니라 순서에 대한 결괏값도 함께 추가된다."
   ]
  },
  {
   "cell_type": "code",
   "execution_count": 3,
   "id": "38c55a05",
   "metadata": {},
   "outputs": [
    {
     "name": "stdout",
     "output_type": "stream",
     "text": [
      "[(0, 'a'), (0, 'b'), (0, 'c'), (0, 'd'), (1, 'a'), (1, 'b'), (1, 'c'), (1, 'd')]\n"
     ]
    }
   ],
   "source": [
    "my_list = ['a','b','c','d']\n",
    "result_list = []\n",
    "\n",
    "for i in range(2):\n",
    "    for j in my_list:\n",
    "        result_list.append((i, j))\n",
    "        \n",
    "print(result_list)"
   ]
  },
  {
   "cell_type": "markdown",
   "id": "b21b6bff",
   "metadata": {},
   "source": [
    "- 이중 for문 : for문의 개수에 따라서 몇 중의 for문이고 생성할 수 있다. 삼중 for문 이상이고 데이터가 많아지면 매우 느리게 동작하기 때문에 이중 for문까지만 쓰는 경우가 많다. 물론 필요한 경우는 그 이상도 사용할 수는 있지만 효율적인 코드는 아니다.\n",
    "- 결과를 보면 i에 대한 값은 0,0,0,0,1,1,1,1 이런 순서로 나오고 j에 대한 값은 a,b,c,d,a,b,c,d 순으로 나오는 것을 확인할 수 있다. 즉, i안에 j가 있기 때문에 j가 다 돌 때까지 i는 0에서 고정되고 j가 순서대로 a,b,c,d로 나오게 된다. j가 전체 다 돌면 i는 다음으로 넘어간다. 이런 방식으로 [0, 1]과 ['a','b','c','d'] 두 리스트를 조합해서 만든 새로운 리스트를 얻게 된다.\n",
    " - range(start, stop, step) : range(2)와 같이 정수가 들어가야 하며, list() 함수를 통해 값을 뽑아오면 0부터 시작해서 2개인 list ([0, 1]) 를 만든다. 즉, stop 까지 포함하지는 않는다. range(1, 10, 2) 이라면 1부터 9까지 2씩 증가하는 [1, 3, 5, 7, 9] 를 만든다. 하지만 실제로 반환하는 타입은 range이며, 리스트로 받아오고 싶다면 list(range(1, 10, 2))를 하면 된다."
   ]
  },
  {
   "cell_type": "markdown",
   "id": "9b8401a2",
   "metadata": {},
   "source": [
    "### 리스트 컴프리헨션(list Comprehension)\n",
    "- 리스트 컴프리헨션 : 리스트 등 순회형 컨테이너 객체로부터 이를 가공한 새로운 리스트를 생성하는 아주 간결하고 편리한 방법이다. 컴프리헨션 기능은 비단 리스트뿐 아니라 셋(Set), 딕셔너리(Dict)에 대해서도 적용할 수 있다."
   ]
  },
  {
   "cell_type": "code",
   "execution_count": 4,
   "id": "6921fa3b",
   "metadata": {},
   "outputs": [
    {
     "name": "stdout",
     "output_type": "stream",
     "text": [
      "[(0, 'a'), (0, 'b'), (0, 'c'), (0, 'd'), (1, 'a'), (1, 'b'), (1, 'c'), (1, 'd')]\n"
     ]
    }
   ],
   "source": [
    "# 이중 for문으로 구현했던 내용과 완전히 동일한 기능을 리스트 컴프리헨션을 이용하여 1줄로 구현\n",
    "my_list = ['a','b','c','d']\n",
    "\n",
    "result_list = [(i, j) for i in range(2) for j in my_list]\n",
    "\n",
    "print(result_list)"
   ]
  },
  {
   "cell_type": "markdown",
   "id": "bc8fcefb",
   "metadata": {},
   "source": [
    "### 제너레이터(Generator)\n",
    "- my_list에 있는 데이터셋을 하나씩 가져와서 공급해 주는 제너레이터 만들기(my_list를 총 2번 반복하여 8개의 데이터를 공급)"
   ]
  },
  {
   "cell_type": "code",
   "execution_count": 5,
   "id": "285b89ef",
   "metadata": {},
   "outputs": [
    {
     "name": "stdout",
     "output_type": "stream",
     "text": [
      ">>  8 data loaded..\n",
      "0 a\n",
      "0 b\n",
      "0 c\n",
      "0 d\n",
      "1 a\n",
      "1 b\n",
      "1 c\n",
      "1 d\n",
      "메모리사용량 : 136\n"
     ]
    }
   ],
   "source": [
    "# for문을 사용해서 데이터를 공급\n",
    "import sys\n",
    "\n",
    "my_list = ['a','b','c','d']\n",
    "\n",
    "# 인자로 받은 리스트를 가공해서 만든 데이터셋 리스트를 리턴하는 함수\n",
    "def get_dataset_list(my_list):\n",
    "    result_list = []\n",
    "    for i in range(2):\n",
    "        for j in my_list:\n",
    "            result_list.append((i, j))\n",
    "    print('>>  {} data loaded..'.format(len(result_list)))\n",
    "    return result_list\n",
    "\n",
    "for X, y in get_dataset_list(my_list):\n",
    "    print(X, y)\n",
    "print(f'메모리사용량 : {sys.getsizeof(get_dataset_list)}') # sys.getsizeof(메모리 사용량 확인하는 메소드)"
   ]
  },
  {
   "cell_type": "markdown",
   "id": "b755e22d",
   "metadata": {},
   "source": [
    "- 문제는 이중 for 문이 다 돌아가는 걸 기다린 후, 반환된 result_list 값에 대해 또 for 문을 돌려야 한다는 것이다. 중복되기도 하고 속도도 확실히 느릴 것이다. 지금은 my_list 에 데이터 4개밖에 없지만 만약 1억 개가 담겨 있다면 get_dataset_list(my_list) 를 위해 엄청난 양의 데이터를 전부 메모리에 올려놔야 한다는 문제가 있다."
   ]
  },
  {
   "cell_type": "code",
   "execution_count": 6,
   "id": "652b01ce",
   "metadata": {},
   "outputs": [
    {
     "name": "stdout",
     "output_type": "stream",
     "text": [
      "0 a\n",
      ">>  1 data loaded..\n",
      "0 b\n",
      ">>  1 data loaded..\n",
      "0 c\n",
      ">>  1 data loaded..\n",
      "0 d\n",
      ">>  1 data loaded..\n",
      "1 a\n",
      ">>  1 data loaded..\n",
      "1 b\n",
      ">>  1 data loaded..\n",
      "1 c\n",
      ">>  1 data loaded..\n",
      "1 d\n",
      ">>  1 data loaded..\n",
      "메모리 사용량 : 112\n"
     ]
    }
   ],
   "source": [
    "# Generator의 개념을 이용하여 데이터를 공급\n",
    "my_list = ['a','b','c','d']\n",
    "\n",
    "# 인자로 받은 리스트로부터 데이터를 하나씩 가져오는 제너레이터를 리턴하는 함수\n",
    "def get_dataset_generator(my_list):\n",
    "    for i in range(2):\n",
    "        for j in my_list:\n",
    "            yield (i, j)   # 위의 append 코드를 대체\n",
    "            print('>>  1 data loaded..')\n",
    "\n",
    "dataset_generator = get_dataset_generator(my_list)\n",
    "for X, y in dataset_generator:\n",
    "    print(X, y)\n",
    "\n",
    "print(f'메모리 사용량 : {sys.getsizeof(dataset_generator)}')"
   ]
  },
  {
   "cell_type": "markdown",
   "id": "d28b7d87",
   "metadata": {},
   "source": [
    "- yield를 통해 이 문제를 해결한다. 영어로 \"Yield\"라는 단어는 \"양보하다\"라는 뜻을 갖고 있다. 파이썬에서도 마찬가지로 yield는 코드 실행의 순서를 밖으로 \"양보\"한다. 즉, dataset_generator = get_dataset_generator(my_list) 을 실행해도 \"generator object\" 만 반환할 뿐, 원하는 값을 바로 반환하지는 않는다. 실질적으로 데이터를 반환하는 건 for 문에서 값을 하나씩 불러올 때이다.\n",
    "- 위 코드 블록의 실행 결과를 보면 값을 한 번 반환 후 \"1 data loaded..\" 를 출력하는 걸 반복한다. 그렇기 때문에 yield는 메모리 사용을 효율적으로 만들 수 있다. 실제 메모리 사용량을 확인해보면 yield를 사용한 반복문이 사용하지 않은 반복문보다 메모리 사용량이 적은걸 확인할 수 있다. 제너레이터를 활용할 때는 1억 개의 데이터를 전부 메모리에 올려놓을 필요가 없이 현재 처리해야 할 데이터를 1개씩 로드해서 사용할 수 있게 된다. 빅데이터를 처리해야 할 머신러닝 상황에서 요긴하다."
   ]
  },
  {
   "cell_type": "markdown",
   "id": "bd02407a",
   "metadata": {},
   "source": [
    "## 6-4. 파이썬을 더 잘 사용해보자! (2) Try - Except 예외 처리하기\n",
    "- 에러를 잡기 위한 방법 중 하나가 Try - Except으로 예외 처리를 위한 방법이라고 한다. 여기서 예외(exception)란 코드를 실행하는 중에 발생한 에러를 뜻한다. 즉, 예외 처리는 코드를 수행하다가 예외(에러)가 발생했을 때 그 예외(에러)를 무시하게 하거나 예외(에러) 대신 적절한 처리를 해주게 하는 등의 작업을 의미한다. Try - Except의 작동 구조는 아래와 같다.\n",
    "![Try-Except](https://user-images.githubusercontent.com/116326867/225011800-643ba199-55c8-422e-97d6-ba38fce3d3ce.png)\n",
    "- 그림에서 보는 것처럼 Try 이하의 코드가 먼저 실행된다. Try 안에 있는 Statements(코드)를 수행하게 되고 만약 이 코드상에서 어떠한 이유로 인해 에러가 발생하면 Except 안에 있는 코드가 바로 실행되게 된다. 반대로 Try 안에 있는 Statements에서 에러가 발생하지 않았다면 해당 코드가 정상적으로 작동되었기 때문에 따로 추가적인 작업을 할 필요가 없다(에러를 파악하여 Statements를 재작업하는 등의 행위를 할 필요가 없음)."
   ]
  },
  {
   "cell_type": "code",
   "execution_count": 7,
   "id": "ba01806f",
   "metadata": {},
   "outputs": [
    {
     "ename": "ZeroDivisionError",
     "evalue": "division by zero",
     "output_type": "error",
     "traceback": [
      "\u001b[0;31m---------------------------------------------------------------------------\u001b[0m",
      "\u001b[0;31mZeroDivisionError\u001b[0m                         Traceback (most recent call last)",
      "\u001b[0;32m/tmp/ipykernel_30/179726827.py\u001b[0m in \u001b[0;36m<module>\u001b[0;34m\u001b[0m\n\u001b[0;32m----> 1\u001b[0;31m \u001b[0mprint\u001b[0m\u001b[0;34m(\u001b[0m\u001b[0;36m10\u001b[0m\u001b[0;34m/\u001b[0m\u001b[0;36m0\u001b[0m\u001b[0;34m)\u001b[0m\u001b[0;34m\u001b[0m\u001b[0;34m\u001b[0m\u001b[0m\n\u001b[0m",
      "\u001b[0;31mZeroDivisionError\u001b[0m: division by zero"
     ]
    }
   ],
   "source": [
    "print(10/0)"
   ]
  },
  {
   "cell_type": "markdown",
   "id": "535bc29a",
   "metadata": {},
   "source": [
    "- 0으로는 어떠한 값도 나눌 수 없으므로 해당 에러문이 출력된다. 처음부터 0으로 나누는 경우를 만들지 않으면 되지만 실제 데이터 분석이나 프로그래밍을 하다 보면 자주 그런 경우가 발생한다. 모든 데이터 목록이 어떻게 생겼는지 미처 확인을 못 했을 수도 있고, 또 데이터를 내 입맛에 맞게 처리를 하다 보면 예상치 못하게 0이 생성될 수도 있다. 데이터 자체를 하나하나 확인하고 코드를 실행하기 어려울 수 있으니 예외 처리 구문을 통해 이 문제를 해결해야 한다."
   ]
  },
  {
   "cell_type": "code",
   "execution_count": 8,
   "id": "98b5b96f",
   "metadata": {},
   "outputs": [
    {
     "name": "stdout",
     "output_type": "stream",
     "text": [
      "에러가 발생했습니다.\n"
     ]
    }
   ],
   "source": [
    "# 에러가 발생하는 상황\n",
    "a = 10\n",
    "b = 0\n",
    "try:\n",
    "    #실행 코드\n",
    "    print(a/b)\n",
    "\n",
    "except:\n",
    "    # 에러가 발생했을 때 처리하는 코드 (에러 메시지 출력 대신 에러가 발생했다는 문구 출력)\n",
    "    print('에러가 발생했습니다.')"
   ]
  },
  {
   "cell_type": "code",
   "execution_count": 9,
   "id": "53d2a6c9",
   "metadata": {},
   "outputs": [
    {
     "name": "stdout",
     "output_type": "stream",
     "text": [
      "10.0\n"
     ]
    }
   ],
   "source": [
    "# 에러가 발생하지 않는 상황\n",
    "a = 10\n",
    "b = 1\n",
    "\n",
    "try:\n",
    "    #실행 코드\n",
    "    print(a/b)\n",
    "\n",
    "except:\n",
    "    #에러가 발생했을 때 처리하는 코드\n",
    "    print('에러가 발생했습니다.')"
   ]
  },
  {
   "cell_type": "markdown",
   "id": "fbfc6bcb",
   "metadata": {},
   "source": [
    "- try 내부의 코드가 정상적으로 실행이 되었으므로 except 내부는 실행되지 않고 try 내부의 결과가 출력되었다."
   ]
  },
  {
   "cell_type": "code",
   "execution_count": 10,
   "id": "e3b1a111",
   "metadata": {},
   "outputs": [
    {
     "name": "stdout",
     "output_type": "stream",
     "text": [
      "에러가 발생했습니다.\n",
      "값 수정 :  10.0\n"
     ]
    }
   ],
   "source": [
    "a = 10\n",
    "b = 0 \n",
    "\n",
    "try:\n",
    "    #실행 코드\n",
    "    print(a/b)\n",
    "\n",
    "except:\n",
    "    print('에러가 발생했습니다.')\n",
    "    #에러가 발생했을 때 처리하는 코드\n",
    "    b = b+1\n",
    "    print(\"값 수정 : \", a/b)"
   ]
  },
  {
   "cell_type": "markdown",
   "id": "a7585c50",
   "metadata": {},
   "source": [
    "- except에서 에러가 발생했다는 것만 단순히 알려주고 끝내는 것이 아니라, 에러가 발생했을 경우 알아서 '에러가 발생하지 않을 값'으로 바꿔서 결과를 출력하고 싶다면 except 내부에서 b의 값을 수정하도록 한 줄을 추가한 후에 수정된 값이 정상적으로 출력되게 만든다."
   ]
  },
  {
   "cell_type": "markdown",
   "id": "6e0fb076",
   "metadata": {},
   "source": [
    "## 6-5. 파이썬을 더 잘 사용해보자! (3) Multiprocessing\n",
    "### 실행 시간 측정"
   ]
  },
  {
   "cell_type": "code",
   "execution_count": 11,
   "id": "705c93ef",
   "metadata": {},
   "outputs": [
    {
     "name": "stdout",
     "output_type": "stream",
     "text": [
      "time : 0.000152587890625\n"
     ]
    }
   ],
   "source": [
    "import time\n",
    "start = time.time()  # 시작 시간 저장\n",
    "\n",
    "a = 1\n",
    "for i in range(100):\n",
    "    a += 1\n",
    " \n",
    "# 작업 코드\n",
    "print(\"time :\", time.time() - start) # 결과는 '초' 단위"
   ]
  },
  {
   "cell_type": "markdown",
   "id": "bb35330a",
   "metadata": {},
   "source": [
    "### Multiprocessing(멀티프로세싱)\n",
    "- Multiprocessing(멀티프로세싱) 은 컴퓨터가 작업을 처리하는 속도를 높여주는 방법 중 하나이다. 그렇다고 멀티프로세싱을 이용하면 갑자기 자전거가 자동차의 속도로 빨리 가게 되는 것은 아니고, 비유하자면 하나의 자전거를 이용해 여러 명이 한 명씩 순차적으로 목적지까지 가다가, 여러 자전거를 이용해서 여러 명이 동시에 목적지까지 가게 되는 것이다.\n",
    "- 아래의 이미지를 보면 parallel processing, serial processing이 있다. parallel processing은 병렬 처리로, serial processing은 순차 처리라고 할 수 있다. 지금까지 짠 코드는 순차 처리의 방식이었다. 이는 4개의 자전거를 가용할 수 있으나 그중 1개의 자전거만 사용하고 있는 것과 같다. 그렇다면 나머지 3개 자전거도 함께 사용할 수 있을까?\n",
    "![processing](https://user-images.githubusercontent.com/116326867/225018074-6cc139b4-be94-4051-ba80-138a559db753.png)\n",
    "- 왼쪽 그림을 보면 병렬 처리는 4개의 문자열이 동시에 처리가 되어 저장되는 것을 볼 수 있고, 순차 처리는 문자열이 하나씩 차례대로 처리되어 저장되는 것을 볼 수 있다."
   ]
  },
  {
   "cell_type": "code",
   "execution_count": 12,
   "id": "4afd1e03",
   "metadata": {},
   "outputs": [
    {
     "name": "stdout",
     "output_type": "stream",
     "text": [
      "finish:p1\n",
      "\n",
      "finish:p2\n",
      "\n",
      "finish:p3\n",
      "\n",
      "finish:p4\n",
      "\n",
      "time : 20.019843578338623\n"
     ]
    }
   ],
   "source": [
    "# 순차 처리\n",
    "import time\n",
    "\n",
    "num_list = ['p1','p2', 'p3', 'p4']\n",
    "start = time.time()\n",
    "\n",
    "def count(name):\n",
    "    time.sleep(5) # 5초를 세는(기다리는) 코드\n",
    "    print(\"finish:\"+name+\"\\n\")\n",
    "\n",
    "for num in num_list:\n",
    "    count(num)\n",
    "\n",
    "print(\"time :\", time.time() - start)"
   ]
  },
  {
   "cell_type": "markdown",
   "id": "e74bbceb",
   "metadata": {},
   "source": [
    "- finish로 나오는 문자는 p1, p2, p3, p4의 순서로, 원래의 리스트['p1', 'p2', 'p3', 'p4']의 순서가 동일하다. 그리고 총 걸린 시간은 약 20.019초 걸린다."
   ]
  },
  {
   "cell_type": "code",
   "execution_count": 13,
   "id": "c7305d2b",
   "metadata": {},
   "outputs": [
    {
     "name": "stdout",
     "output_type": "stream",
     "text": [
      "finish:p1\n",
      "finish:p2\n",
      "\n",
      "\n",
      "finish:p4\n",
      "finish:p3\n",
      "\n",
      "\n",
      "time : 10.24272346496582\n"
     ]
    }
   ],
   "source": [
    "# 병렬 처리\n",
    "import multiprocessing\n",
    "import time\n",
    "\n",
    "num_list = ['p1','p2', 'p3', 'p4']\n",
    "start = time.time()\n",
    "\n",
    "def count(name):\n",
    "    time.sleep(5)\n",
    "    print(\"finish:\"+name+\"\\n\")\n",
    "    \n",
    "\n",
    "if __name__ == '__main__':\n",
    "    pool = multiprocessing.Pool(processes = 2)\n",
    "    pool.map(count, num_list)\n",
    "    pool.close()\n",
    "    pool.join()\n",
    "\n",
    "print(\"time :\", time.time() - start)"
   ]
  },
  {
   "cell_type": "markdown",
   "id": "7acba293",
   "metadata": {},
   "source": [
    "- time이 순차 처리 보다 병렬 처리를 시행했을 때 2배 이상 빨라졌다. 그런데 병렬 처리의 경우, finish의 순서가 순차 처리의 코드와 다르다. 그 이유는 각 프로세스에 작업 코드가 거의 동시에 들어가서 각자 처리 후 결과가 나오기 때문이다. 처리되어 나오는 결과는 각 코어의 점유 상황이나 여러 이유로 인해 시간차가 생긴다."
   ]
  },
  {
   "cell_type": "code",
   "execution_count": 14,
   "id": "eb29089e",
   "metadata": {},
   "outputs": [],
   "source": [
    "# 병렬 처리를 사용하는 방법\n",
    "import multiprocessing\n",
    "\n",
    "def count(name):\n",
    "    time.sleep(5)\n",
    "    print(\"finish:\"+name+\"\\n\")"
   ]
  },
  {
   "cell_type": "code",
   "execution_count": 15,
   "id": "c41efa4e",
   "metadata": {},
   "outputs": [
    {
     "name": "stdout",
     "output_type": "stream",
     "text": [
      "finish:p2\n",
      "finish:p1\n",
      "\n",
      "\n",
      "finish:p3\n",
      "finish:p4\n",
      "\n",
      "\n"
     ]
    }
   ],
   "source": [
    "num_list = ['p1','p2', 'p3', 'p4']\n",
    "\n",
    "if __name__ == '__main__':\n",
    "    pool = multiprocessing.Pool(processes = 2)\n",
    "    pool.map(count, num_list)\n",
    "    pool.close()\n",
    "    pool.join()"
   ]
  },
  {
   "cell_type": "markdown",
   "id": "05a2c090",
   "metadata": {},
   "source": [
    "- if __ name __ == '__ main __': -> 코드 시작점을 여기로 하라는 명령어\n",
    " - pool = multiprocessing.Pool(processes = 2) : 병렬 처리 시, 2개의 프로세스를 사용하도록 한다. CPU 코어의 개수만큼 입력해 주면 최대의 효과를 볼 수 있다. 코어의 개수는 터미널에 grep -c processor /proc/cpuinfo 명령어를 입력하여 확인할 수 있다. CPU에 대한 자세한 정보를 알고 싶다면 터미널에 cat /proc/cpuinfo 명령어를 입력하여 확인해볼 수 있다.\n",
    " - pool.map(count, num_list) : 병렬화를 시키는 함수로, count 함수에 num_list의 원소들을 하나씩 넣는다. 여기서 num_list의 원소는 4개이므로 4개의 count 함수에 각각 하나씩 원소가 들어가게 된다. 즉, count('p1'), count('p2'), count('p3'), count('p4')가 만들어진다.\n",
    " - pool.close() : 일반적으로 병렬화 부분이 끝나면 나온다. 더 이상 pool을 통해서 새로운 작업을 추가하지 않을 때 사용한다.\n",
    " - pool.join() : 프로세스가 종료될 때까지 대기하도록 지시하는 구문으로써 병렬처리 작업이 끝날 때까지 기다리도록 한다."
   ]
  },
  {
   "cell_type": "markdown",
   "id": "9b338235",
   "metadata": {},
   "source": [
    "## 6-6. 같은 코드 두 번 짜지 말자! (1) 함수 사용하기\n",
    "- 같은 코드인데 여러 번 중복해서 입력해야하는 경우가 있다. 이때 ctrl+c, ctrl+v를 사용하는 방법이 있다.\n",
    "![복붙](https://user-images.githubusercontent.com/116326867/225027002-1b466928-ff23-4c75-a76b-2b394ab9b684.png)\n",
    "- 하지만 1,000줄짜리 코드를 10번 복사 붙여넣기를 한다면 무려 10,000줄짜리 코드가 나온다. 수학적으로 보면 수식을 f(x)로 치환할 수 있고 프로그래밍에서도 함수(Function)를 사용하여 해결할 수 있다.\n",
    " - x : 입력 (정의역)\n",
    " - f(x) : 수식\n",
    " - y : 결과(치역)"
   ]
  },
  {
   "cell_type": "code",
   "execution_count": 16,
   "id": "9dc1469d",
   "metadata": {},
   "outputs": [],
   "source": [
    "def function_f(input_x):\n",
    "    output_x = input_x*input_x\n",
    "    return output_x"
   ]
  },
  {
   "cell_type": "code",
   "execution_count": 17,
   "id": "e16acbe8",
   "metadata": {},
   "outputs": [
    {
     "name": "stdout",
     "output_type": "stream",
     "text": [
      "최댓값은  40\n",
      "최댓값은  50\n"
     ]
    }
   ],
   "source": [
    "# 최댓값을 구하기\n",
    "list_data = [10, 20, 30, 40]\n",
    "list_data2 = [20, 30, 40, 50]\n",
    "\n",
    "length = len(list_data)\n",
    "max_result = list_data[0]\n",
    "for i in range(length):\n",
    "    if max_result < list_data[i]:\n",
    "        max_result = list_data[i]\n",
    "        \n",
    "print(\"최댓값은 \", max_result)\n",
    "\n",
    "length = len(list_data2)\n",
    "max_result = list_data2[0]\n",
    "for i in range(length):\n",
    "    if max_result < list_data2[i]:\n",
    "        max_result = list_data2[i]\n",
    "        \n",
    "print(\"최댓값은 \", max_result)"
   ]
  },
  {
   "cell_type": "code",
   "execution_count": 18,
   "id": "f2d5b3d6",
   "metadata": {},
   "outputs": [
    {
     "name": "stdout",
     "output_type": "stream",
     "text": [
      "최댓값은  40\n",
      "최댓값은  50\n"
     ]
    }
   ],
   "source": [
    "# 함수를 사용하여 최댓값 구하기\n",
    "list_data = [10, 20, 30, 40]\n",
    "list_data2 = [20, 30, 40, 50]\n",
    "\n",
    "def max_function(x):\n",
    "    length = len(x)\n",
    "    max_result = x[0]\n",
    "    for i in range(length):\n",
    "        if max_result < x[i]:\n",
    "            max_result = x[i]\n",
    "    return max_result\n",
    "\n",
    "print(\"최댓값은 \", max_function(list_data))\n",
    "print(\"최댓값은 \", max_function(list_data2))"
   ]
  },
  {
   "cell_type": "markdown",
   "id": "82577ebf",
   "metadata": {},
   "source": [
    "- 함수를 잘 만들어 놓으면 코드의 효율성을 높여줄 뿐만 아니라 코드의 재사용성을 높여줘 개발하는 시간이 적게 걸리게 되고 무엇을 하고자 하는지 누구나 알기 쉬워 코드의 가독성도 좋아진다."
   ]
  },
  {
   "cell_type": "markdown",
   "id": "1ddb2304",
   "metadata": {},
   "source": [
    "## 6-7. 같은 코드 두 번 짜지 말자! (2) 함수 사용 팁\n",
    "### pass\n",
    "- 파이썬에서 함수를 만들기 전에 함수 이름과 입력 정도만 먼저 만들어 놓는 경우가 있다. 이런 이런 동작을 하는 함수를 만들 거지만 먼저 일단 이름만 작성해놓고 함수 내부 구현은 나중에 하려고 할 때 그렇다. 파이썬은 즉각적인 코드 실행이 가능하기 때문에 만약 함수 안을 비워 놓은 채 이름만 써 놓는다면 에러가 날 것이다."
   ]
  },
  {
   "cell_type": "code",
   "execution_count": 19,
   "id": "5001fe39",
   "metadata": {},
   "outputs": [
    {
     "ename": "IndentationError",
     "evalue": "expected an indented block (1113705288.py, line 1)",
     "output_type": "error",
     "traceback": [
      "\u001b[0;36m  File \u001b[0;32m\"/tmp/ipykernel_30/1113705288.py\"\u001b[0;36m, line \u001b[0;32m1\u001b[0m\n\u001b[0;31m    def empty_function():\u001b[0m\n\u001b[0m                         ^\u001b[0m\n\u001b[0;31mIndentationError\u001b[0m\u001b[0;31m:\u001b[0m expected an indented block\n"
     ]
    }
   ],
   "source": [
    "def empty_function():"
   ]
  },
  {
   "cell_type": "code",
   "execution_count": 20,
   "id": "44ecc8ee",
   "metadata": {},
   "outputs": [],
   "source": [
    "def empty_function():\n",
    "    pass"
   ]
  },
  {
   "cell_type": "markdown",
   "id": "ee36492a",
   "metadata": {},
   "source": [
    "- pass 문은 기타 제어 흐름 도구이다. pass는 문법적으로 해당 문장이 필요하지만, 프로그램이 특별히 할 일이 없을 때 사용할 수 있다. 사용 가능한 곳은 다양하며 대표적으로 위에서 사용한 함수 내부, if 내부, while 내부 등 다양한 곳에서 쓸 수 있다."
   ]
  },
  {
   "cell_type": "markdown",
   "id": "0e3864bb",
   "metadata": {},
   "source": [
    "### 함수 연달아 사용"
   ]
  },
  {
   "cell_type": "code",
   "execution_count": 21,
   "id": "3026896c",
   "metadata": {},
   "outputs": [
    {
     "name": "stdout",
     "output_type": "stream",
     "text": [
      "안녕!\n",
      "안녕!\n"
     ]
    }
   ],
   "source": [
    "def say_something(txt):\n",
    "    return txt\n",
    "\n",
    "def send(function, count):\n",
    "    for i in range(count):  \n",
    "        print(function)\n",
    "    \n",
    "send(say_something(\"안녕!\"), 2)"
   ]
  },
  {
   "cell_type": "markdown",
   "id": "f21f03fe",
   "metadata": {},
   "source": [
    "- 먼저 send라는 함수가 실행된다. send 함수는 function이라는 객체와, count라는 객체 두 가지를 입력으로 받는다. send 함수의 첫 번째 입력값에는 say_something(\"안녕!\")이라는 함수가 들어가고, 두 번째 입력에는 2라는 숫자가 들어간다. say_something(txt) 함수는 입력값을 그대로 반환하는 코드가 짜여 있다. say_something(\"안녕!\")이라는 함수의 반환값인 \"안녕!\"이 나온다. send 함수는 function을 count만큼 출력하는 함수이므로 \"안녕!\"이 send의 print() 안에 들어가 2번 출력된다."
   ]
  },
  {
   "cell_type": "markdown",
   "id": "6706db84",
   "metadata": {},
   "source": [
    "### 함수 안의 함수 & 2개 이상의 return\n",
    "- return값(반환값)을 여러 개 받고 싶을 때가 있다. 예를 들어, 숫자들이 있는 list의 최댓값과 최솟값을 한꺼번에 출력하고 싶은데 각각 함수로 짜기보다는 한 번에 받고 싶을 때가 있다."
   ]
  },
  {
   "cell_type": "markdown",
   "id": "8164933c",
   "metadata": {},
   "source": [
    "#### 리스트로 반환하기"
   ]
  },
  {
   "cell_type": "code",
   "execution_count": 22,
   "id": "57196635",
   "metadata": {},
   "outputs": [
    {
     "name": "stdout",
     "output_type": "stream",
     "text": [
      "최솟값, 최댓값은 :  [20, 40]\n",
      "최솟값은 :  20\n",
      "최댓값은 :  40\n"
     ]
    }
   ],
   "source": [
    "list_data = [30, 20, 30, 40]\n",
    "\n",
    "def minmax_function(x_list):\n",
    "        \n",
    "    def inner_min_function(x):\n",
    "        length = len(x)\n",
    "        min_result = x[0]\n",
    "        for i in range(length):\n",
    "            if min_result > x[i]:\n",
    "                min_result = x[i]\n",
    "        return min_result\n",
    "    \n",
    "    def inner_max_function(x):\n",
    "        length = len(x)\n",
    "        max_result = x[0]\n",
    "        for i in range(length):\n",
    "            if max_result < x[i]:\n",
    "                max_result = x[i]\n",
    "        return max_result\n",
    "        \n",
    "    x_min = inner_min_function(x_list)\n",
    "    x_max = inner_max_function(x_list)\n",
    "    \n",
    "    minmax_list = [x_min, x_max]\n",
    "\n",
    "    return minmax_list\n",
    "\n",
    "print(\"최솟값, 최댓값은 : \", minmax_function(list_data))\n",
    "print(\"최솟값은 : \", minmax_function(list_data)[0])\n",
    "print(\"최댓값은 : \", minmax_function(list_data)[1])"
   ]
  },
  {
   "cell_type": "markdown",
   "id": "50174962",
   "metadata": {},
   "source": [
    "- 함수 안에 또 함수를 만들어서 쓸 수 있다. 하지만 함수 안에서 만든 함수는 해당 함수 내부에서만 사용할 수 있다."
   ]
  },
  {
   "cell_type": "code",
   "execution_count": 23,
   "id": "dda4f01f",
   "metadata": {},
   "outputs": [
    {
     "ename": "NameError",
     "evalue": "name 'inner_min_function' is not defined",
     "output_type": "error",
     "traceback": [
      "\u001b[0;31m---------------------------------------------------------------------------\u001b[0m",
      "\u001b[0;31mNameError\u001b[0m                                 Traceback (most recent call last)",
      "\u001b[0;32m/tmp/ipykernel_30/4021866508.py\u001b[0m in \u001b[0;36m<module>\u001b[0;34m\u001b[0m\n\u001b[1;32m      1\u001b[0m \u001b[0;31m# minmax_function(list_data) 대신 inner_max_function(list_data)로 바꿔서 값을 출력\u001b[0m\u001b[0;34m\u001b[0m\u001b[0;34m\u001b[0m\u001b[0m\n\u001b[0;32m----> 2\u001b[0;31m \u001b[0mprint\u001b[0m\u001b[0;34m(\u001b[0m\u001b[0;34m\"최솟값, 최댓값은 : \"\u001b[0m\u001b[0;34m,\u001b[0m \u001b[0minner_min_function\u001b[0m\u001b[0;34m(\u001b[0m\u001b[0mlist_data\u001b[0m\u001b[0;34m)\u001b[0m\u001b[0;34m)\u001b[0m \u001b[0;31m# 변경\u001b[0m\u001b[0;34m\u001b[0m\u001b[0;34m\u001b[0m\u001b[0m\n\u001b[0m\u001b[1;32m      3\u001b[0m \u001b[0mprint\u001b[0m\u001b[0;34m(\u001b[0m\u001b[0;34m\"최솟값은 : \"\u001b[0m\u001b[0;34m,\u001b[0m \u001b[0mminmax_function\u001b[0m\u001b[0;34m(\u001b[0m\u001b[0mlist_data\u001b[0m\u001b[0;34m)\u001b[0m\u001b[0;34m[\u001b[0m\u001b[0;36m0\u001b[0m\u001b[0;34m]\u001b[0m\u001b[0;34m)\u001b[0m\u001b[0;34m\u001b[0m\u001b[0;34m\u001b[0m\u001b[0m\n\u001b[1;32m      4\u001b[0m \u001b[0mprint\u001b[0m\u001b[0;34m(\u001b[0m\u001b[0;34m\"최댓값은 : \"\u001b[0m\u001b[0;34m,\u001b[0m \u001b[0mminmax_function\u001b[0m\u001b[0;34m(\u001b[0m\u001b[0mlist_data\u001b[0m\u001b[0;34m)\u001b[0m\u001b[0;34m[\u001b[0m\u001b[0;36m1\u001b[0m\u001b[0;34m]\u001b[0m\u001b[0;34m)\u001b[0m\u001b[0;34m\u001b[0m\u001b[0;34m\u001b[0m\u001b[0m\n",
      "\u001b[0;31mNameError\u001b[0m: name 'inner_min_function' is not defined"
     ]
    }
   ],
   "source": [
    "# minmax_function(list_data) 대신 inner_max_function(list_data)로 바꿔서 값을 출력\n",
    "print(\"최솟값, 최댓값은 : \", inner_min_function(list_data)) # 변경\n",
    "print(\"최솟값은 : \", minmax_function(list_data)[0])\n",
    "print(\"최댓값은 : \", minmax_function(list_data)[1])"
   ]
  },
  {
   "cell_type": "markdown",
   "id": "8e233d3f",
   "metadata": {},
   "source": [
    "- 함수 안에 함수를 만들 수는 있지만 안에 있는 함수는 가장 밖에 있는 def가 쳐놓은 울타리 안에서만 생활할 수 있다. 그렇기 때문에 그 울타리 외부에서는 사용하지 못한다. 외부에서 사용하게 되면 에러가 발생한다.\n",
    "-  최솟값과 최댓값을 각각의 함수 안에 넣어 계산을 하고 그 결과값을 x_min, x_max라는 변수에 넣는다. 그리고 그 변수들을 minmax_list 라는 리스트 안에 넣는다. 그리고 return에 리스트를 입력한다. 즉, return 되는 것은 minmax_list 1개이지만 그 안에 2개의 값을 넣어놨기 때문에 2개 이상을 반환하는 것과 같은 효과를 본다. 최솟값 최댓값을 각각 출력하기 위해서는 minmax_function(list_data)[0]처럼 인덱싱을 활용하면 된다."
   ]
  },
  {
   "cell_type": "markdown",
   "id": "7cb39771",
   "metadata": {},
   "source": [
    "#### 여러 변수로 반환하기"
   ]
  },
  {
   "cell_type": "code",
   "execution_count": 24,
   "id": "872a61de",
   "metadata": {},
   "outputs": [
    {
     "name": "stdout",
     "output_type": "stream",
     "text": [
      "최솟값은 :  20\n",
      "최댓값은 :  40\n"
     ]
    }
   ],
   "source": [
    "list_data = [30, 20, 30, 40]\n",
    "\n",
    "def minmax_function(x_list):\n",
    "        \n",
    "    def inner_min_function(x):\n",
    "        length = len(x)\n",
    "        min_result = x[0]\n",
    "        for i in range(length):\n",
    "            if min_result > x[i]:\n",
    "                min_result = x[i]\n",
    "        return min_result\n",
    "    \n",
    "    def inner_max_function(x):\n",
    "        length = len(x)\n",
    "        max_result = x[0]\n",
    "        for i in range(length):\n",
    "            if max_result < x[i]:\n",
    "                max_result = x[i]\n",
    "        return max_result\n",
    "        \n",
    "    x_min = inner_min_function(x_list)\n",
    "    x_max = inner_max_function(x_list)\n",
    "    \n",
    "    return x_min, x_max\n",
    "\n",
    "min_value, max_value = minmax_function(list_data)\n",
    "\n",
    "print(\"최솟값은 : \", min_value)\n",
    "print(\"최댓값은 : \", max_value)"
   ]
  },
  {
   "cell_type": "markdown",
   "id": "0679780e",
   "metadata": {},
   "source": [
    "- ,(콤마)를 이용해 여러 개의 값을 반환하고, 이를 받아 각각을 활용할 수도 있다."
   ]
  },
  {
   "cell_type": "markdown",
   "id": "eab1ec9b",
   "metadata": {},
   "source": [
    "## 6-8. 같은 코드 두 번 짜지 말자! (3) 람다 표현식\n",
    "- 람다는 런타임에 생성해서 사용할 수 있는 익명 함수이다. 쉽게 말하자면, 함수 이름이 없는 함수라고 보면 된다. 람다 표현식은 식 형태로 되어 있어 람다 표현식(lambda expression)이라 부른다. 람다를 이용해서 한 줄로 된 함수를 만들 수 있다."
   ]
  },
  {
   "cell_type": "code",
   "execution_count": 25,
   "id": "9d2db616",
   "metadata": {},
   "outputs": [],
   "source": [
    "# 더하기 함수\n",
    "def add(x, y):\n",
    "    return x + y"
   ]
  },
  {
   "cell_type": "code",
   "execution_count": 26,
   "id": "c49efb29",
   "metadata": {},
   "outputs": [],
   "source": [
    "# 더하기 함수 - 한 줄로 표현\n",
    "def add(x, y): return x + y"
   ]
  },
  {
   "cell_type": "code",
   "execution_count": 27,
   "id": "8868e0db",
   "metadata": {},
   "outputs": [
    {
     "name": "stdout",
     "output_type": "stream",
     "text": [
      "30\n"
     ]
    }
   ],
   "source": [
    "# 더하기 함수 - 한 줄로 표현\n",
    "print( (lambda x,y: x + y)(10, 20) )"
   ]
  },
  {
   "cell_type": "markdown",
   "id": "891f7dc9",
   "metadata": {},
   "source": [
    "- lambda라고 적혀져 있고 그 옆에 위의 add 함수와 같은 역할을 하는 코드가 적혀져 있다.\n",
    " - 먼저 x, y 는 입력값을 의미한다. x값과 y값이 입력으로 들어온다는 의미이다.\n",
    " - 두 번째, x + y는 return 부분과 같다. add 함수에도 return x + y가 있었던 것과 같이 lambda 에도 ':' 이후에 반환값으로 나오게 된다.\n",
    " - 마지막은 (10, 20) 이다. 각각 앞에 있던 x, y 입력값이다. 만약 입력이 x, y, z 이라면 (10, 20, 30) 이렇게 세 개의 값을 넣게 된다. 보통 함수 안의 함수를 간단히 만들 때, def를 이용해 만들지 않고 람다를 이용해서 함수를 만든다.\n",
    "- 람다 표현식을 사용하는 가장 중요한 이유는 함수의 인수 부분을 간단히 하기 위함이다. 이런 방식으로 사용하는 대표적인 예가 map()이다. map() 함수는 입력받은 자료형의 각 요소가 함수에 의해 수행된 결과를 묶어서 map iterator 객체로 출력하는 역할을 한다."
   ]
  },
  {
   "cell_type": "code",
   "execution_count": 28,
   "id": "5d06f285",
   "metadata": {},
   "outputs": [
    {
     "name": "stdout",
     "output_type": "stream",
     "text": [
      "[2, 4, 6]\n"
     ]
    }
   ],
   "source": [
    "def list_mul(x):\n",
    "     return x * 2\n",
    "\n",
    "result = list(map(list_mul, [1, 2, 3]))\n",
    "print(result)"
   ]
  },
  {
   "cell_type": "code",
   "execution_count": 32,
   "id": "bbdc092a",
   "metadata": {},
   "outputs": [
    {
     "name": "stdout",
     "output_type": "stream",
     "text": [
      "<map object at 0x7f27301e2ee0>\n",
      "[2, 4, 6]\n"
     ]
    }
   ],
   "source": [
    "# 위의 함수 작동 순서\n",
    "map_res = map(list_mul, [1, 2, 3])\n",
    "print(map_res)\n",
    "list_map_res = list(map_res)\n",
    "print(list_map_res)"
   ]
  },
  {
   "cell_type": "markdown",
   "id": "2eef0ef8",
   "metadata": {},
   "source": [
    "- 함수 list_mul()은 숫자를 받은 뒤 그 두 배 값을 반환하는 함수이다.  map()에 list_mul()함수와 리스트 [1, 2, 3]을 넣는다. 주의할 점은 map()의 결과는 그냥 map 객체이므로 결과 창에서 직접 눈으로 확인할 수 있는 형태로 바꾸기 위해 list()를 사용해 리스트 형태로 변환해 준다는 것이다.\n",
    "- map(f, iterable) 는 입력으로 함수 f 와 반복 가능한 iterable 객체(리스트, 튜플 등)를 받는다. 코드에서 보면 f에는 list_mul() 함수가 들어갔고 iterable에는 [1,2,3] 리스트가 들어가 있다. 코드를 수행하면 리스트에 들어가 있는 값들에 2를 곱한 결과가 나온다. 즉, 리스트 안의 원소들을 1(0번째) 부터 시작해서 2(1번째), 3(2번째) 순서로 list_mul() 함수에 차례로 넣고 출력을 받아서 list 형태로 바꾼 것이다."
   ]
  },
  {
   "cell_type": "code",
   "execution_count": 33,
   "id": "2cb45fc1",
   "metadata": {},
   "outputs": [
    {
     "name": "stdout",
     "output_type": "stream",
     "text": [
      "[2, 4, 6]\n"
     ]
    }
   ],
   "source": [
    "# map()과 lambda 결합 -> 3줄 코드가 1줄로 줄어듦\n",
    "result = list(map(lambda i: i * 2 , [1, 2, 3]))\n",
    "print(result)"
   ]
  },
  {
   "cell_type": "markdown",
   "id": "614357e5",
   "metadata": {},
   "source": [
    "- map() 이외에도 filter(), reduce() 등 람다 표현식과 자주 쓰이는 함수가 많이 있다.\n",
    "- 참고 : [위키독스:람다](https://wikidocs.net/64)"
   ]
  },
  {
   "cell_type": "markdown",
   "id": "68d86e03",
   "metadata": {},
   "source": [
    "## 6-9. 같은 코드 두 번 짜지 말자! (4) 클래스, 모듈, 패키지"
   ]
  },
  {
   "cell_type": "markdown",
   "id": "fdf8158f",
   "metadata": {},
   "source": [
    "### 클래스(Class)\n",
    "- 클래스는 비슷한 역할을 하는 함수들의 집합이라고 볼 수 있다. 예를 들어, RPG 게임을 할 때 직업을 선택하게 되는데, 각 직업에 따라서 쓸 수 있는 스킬들이 다르다. 전사이면 칼의 공격력을 높이거나 방패의 방어력을 높이는 등의 스킬이 있고, 마법사이면 파이어볼, 아이스 볼 등 직업의 특성을 나타내는 스킬들이 있다. 비슷한 특성을 가지는 스킬(함수)들을 모아 놓은 '직업'과 유사한 개념이 클래스이다. "
   ]
  },
  {
   "cell_type": "markdown",
   "id": "b12c0297",
   "metadata": {},
   "source": [
    "### 모듈(Module)\n",
    "- 모듈은 함수, 변수, 클래스를 모아 놓은 파일을 말한다. 즉, 코드의 저장소라고 볼 수 있다. 이미 만들어져 있는 모듈을 가져와 쓸 수도 있고 아니면 직접 모듈을 만들어서 사용할 수도 있다."
   ]
  },
  {
   "cell_type": "code",
   "execution_count": 34,
   "id": "bdb9adc0",
   "metadata": {},
   "outputs": [],
   "source": [
    "# mycalculator.py 모듈(사칙연산을 수행) 만들기\n",
    "\n",
    "test = \"you can use this module.\"\n",
    "\n",
    "def add(a, b):\n",
    "    return a + b\n",
    " \n",
    "def mul(a, b):\n",
    "    return a * b\n",
    "\n",
    "def sub(a, b):\n",
    "    return a - b\n",
    "\n",
    "def div(a, b):\n",
    "    return a / b\n",
    "\n",
    "\n",
    "class all_calc():\n",
    "\n",
    "    def __init__(self, a, b):\n",
    "        self.a = a\n",
    "        self.b = b\n",
    "\n",
    "    def add(self):\n",
    "        return self.a + self.b\n",
    " \n",
    "    def mul(self):\n",
    "        return self.a * self.b\n",
    "\n",
    "    def sub(self):\n",
    "        return self.a - self.b\n",
    "\n",
    "    def div(self):\n",
    "        return self.a / self.b"
   ]
  },
  {
   "cell_type": "markdown",
   "id": "43588a88",
   "metadata": {},
   "source": [
    "- 위의 코드를 mycalculator.py 라는 파일로 저장하여 import 하기만 하면 된다.\n",
    "- 하지만 위의 코드를 텍스트로 가져와 파일로 저장해 주는 방식을 진행하도록 한다."
   ]
  },
  {
   "cell_type": "code",
   "execution_count": 35,
   "id": "22e43941",
   "metadata": {},
   "outputs": [],
   "source": [
    "code = '# mycalculator.py\\ntest = \"you can use this module.\"\\n\\ndef add(a, b):\\n    return a + b\\n \\ndef mul(a, b):\\n    return a * b\\n\\ndef sub(a, b):\\n    return a - b\\n\\ndef div(a, b):\\n    return a / b\\n\\n\\nclass all_calc():\\n\\n    def __init__(self, a, b):\\n        self.a = a\\n        self.b = b\\n\\n    def add(self):\\n        return self.a + self.b\\n \\n    def mul(self):\\n        return self.a * self.b\\n\\n    def sub(self):\\n        return self.a - self.b\\n\\n    def div(self):\\n        return self.a / self.b'\n",
    "\n",
    "f = open(\"mycalculator.py\", \"w\")\n",
    "f.write(code)\n",
    "f.close()"
   ]
  },
  {
   "cell_type": "code",
   "execution_count": 36,
   "id": "a575f8f8",
   "metadata": {},
   "outputs": [],
   "source": [
    "# mycalculator import\n",
    "import mycalculator"
   ]
  },
  {
   "cell_type": "code",
   "execution_count": 37,
   "id": "88114e2e",
   "metadata": {},
   "outputs": [
    {
     "name": "stdout",
     "output_type": "stream",
     "text": [
      "6\n"
     ]
    }
   ],
   "source": [
    "# mycalculator 안에 있는 함수 사용 -> 모듈이름.함수이름()\n",
    "print(mycalculator.add(4, 2))"
   ]
  },
  {
   "cell_type": "markdown",
   "id": "239503a1",
   "metadata": {},
   "source": [
    "- add() 함수의 내부를 짤 필요 없이 모듈만 import 하면 언제 어디서든 쉽게 사용할 수 있다."
   ]
  },
  {
   "cell_type": "code",
   "execution_count": 38,
   "id": "ecbc585e",
   "metadata": {},
   "outputs": [
    {
     "name": "stdout",
     "output_type": "stream",
     "text": [
      "6\n"
     ]
    }
   ],
   "source": [
    "import mycalculator as mc\n",
    "\n",
    "# 모듈이름.함수이름()\n",
    "print(mc.add(4, 2))"
   ]
  },
  {
   "cell_type": "markdown",
   "id": "42afdc7a",
   "metadata": {},
   "source": [
    "- 모듈 이름이 길다면 as 구문을 사용하시면 모듈의 별명을 정할 수 있다. mycalculator 모듈을 mc라고 별명을 붙였다면 그 후에는 mycalculator.add(4, 2) 대신 mc.add(4,2)만 적으면 실행된다."
   ]
  },
  {
   "cell_type": "markdown",
   "id": "d568eaf6",
   "metadata": {},
   "source": [
    "### 패키지\n",
    "- 패키지(라이브러리)는 전 세계의 파이썬 사용자들이 만든 유용한 프로그램을 모아 놓은 보물 주머니 같은 것이다. 패키지의 다른 말인 라이브러리는 말 그대로 도서관과 비슷한 역할을 한다. 도서관에는 수많은 책이 있고 거기서 원하는 책을 찾아야 한다. 파이썬에서 패키지는 여러 모듈을 하나로 모아둔 폴더라고 할 수 있다. 아래 그림을 보면 종이처럼 보이는 부분이 함수이고, 그 함수 여러 개가 모여서 모듈을 만들고, 모듈이 여러 개 모여 패키지를 이룬다.\n",
    "![패키지](https://user-images.githubusercontent.com/116326867/225060604-48982697-126e-49f3-a51f-405e24793b27.png)\n",
    "- 패키지 설치 방법 : 거의 모든 패키지는 pip 명령어를 통해서 설치할 수 있다. 직접 만들거나 아니면 공개되지 않은 패키지의 경우는 pip을 이용해서 설치하지 못하고 직접 설치를 해야하지만 대부분의 패키지는 pip을 이용해서 설치가 가능하다. -> pip install 패키지이름\n",
    " - 패키지 찾기 : [PyPI](https://pypi.org/)"
   ]
  },
  {
   "cell_type": "markdown",
   "id": "c3724073",
   "metadata": {},
   "source": [
    "## 6-10. 프로그래밍 패러다임과 함수형 프로그래밍\n",
    "- 패러다임(Paradigm) 은 어떤 한 시대의 사람들의 견해나 사고를 근본적으로 규정하고 있는 테두리를 말하며, 인식의 체계 또는 사물에 대한 이론적인 틀이나 체계를 의미하는 개념이다. 과거에 우주를 받아들이는 방법 중에 천동설과 지동설이 있었다. 천동설은 지구가 중심에 있고 태양을 비롯한 태양계를 이루는 천체들이 지구를 돌고 있다고 믿는 패러다임이다. 지동설은 반대로 태양이 중심에 있고 지구가 그 주위를 돌고 있다고 믿는 패러다임이다. 둘의 사고방식은 완전 다르기 때문에 각 학설마다 우주에 관해 설명하는 방법이 달라진다.\n",
    "- 프로그래밍 패러다임은 위에서 설명한 천동설, 지동설처럼 프로그래머에게 프로그래밍의 관점을 갖게 해 주고, 결정하는 역할을 한다. 프로그래밍 언어들은 각자 언어 저마다의 프로그래밍 패러다임을 갖고 있다. 어떤 언어(Smalltalk, HASKELL)들은 하나의 패러다임만을 지원하기도 하고, 또 어떤 언어(Python, Lisp, Java)들은 여러 개의 패러다임을 지원하기도 한다.\n",
    "- 데이터 사이언스를 공부하는 입장에서 적합한 패러다임으로 함수형 프로그래밍이 있다."
   ]
  },
  {
   "cell_type": "markdown",
   "id": "e610821a",
   "metadata": {},
   "source": [
    "### 절차 지향 프로그래밍과 객체 지향 프로그래밍\n",
    "- 절차 지향 프로그래밍 : 일이 진행되는 순서대로 프로그래밍하는 방법\n",
    " - 장점 : 코드가 순차적으로 작성되어 있어 순서대로 읽기만 하면 이해가 가능하다.\n",
    " - 단점 : 순차적으로 작성되어 있기 때문에 위에서 하나가 잘못되면 아래도 연쇄적으로 문제가 생겨서 유지 보수가 어렵다. 일반적으로 코드 길이가 길어서 코드를 분석하기 어렵다.\n",
    "- 객체 지향 프로그래밍 : 개발자가 프로그램을 상호작용하는 객체들의 집합으로 볼 수 있게 한다. 객체를 먼저 작성하고 함수를 작성한다. 이렇게 작성된 객체는 객체 간의 상호작용이 있다.\n",
    " - 장점 : 코드를 재사용하기 쉽다. 코드 분석이 쉬우며 아키텍처를 바꾸기 쉽다.\n",
    " - 단점 : 객체 간의 상호작용이 있기 때문에 설계에서 많은 시간이 소요되며 설계를 잘못하면 전체적으로 바꿔야 할 수도 있다.\n",
    "- 파이썬은 객체지향 프로그래밍(OOP, Object Oriented Programming) 패러다임을 기본적으로 지원하고 있다. \n",
    " - [파이썬 – OOP Part 1. 객체 지향 프로그래밍(OOP)은 무엇인가? 왜 사용하는가?](https://schoolofweb.net/blog/posts/%ed%8c%8c%ec%9d%b4%ec%8d%ac-oop-part-1-%ea%b0%9d%ec%b2%b4-%ec%a7%80%ed%96%a5-%ed%94%84%eb%a1%9c%ea%b7%b8%eb%9e%98%eb%b0%8doop%ec%9d%80-%eb%ac%b4%ec%97%87%ec%9d%b8%ea%b0%80-%ec%99%9c-%ec%82%ac%ec%9a%a9%ed%95%98%eb%8a%94%ea%b0%80/)"
   ]
  },
  {
   "cell_type": "markdown",
   "id": "3298cc69",
   "metadata": {},
   "source": [
    "### 함수형 프로그래밍\n",
    "- 함수형 프로그래밍은 데이터 사이언티스트에게 적합한 프로그래밍 패러다임이다. 함수형 프로그래밍은 효율성, 버그 없는 코드, 병렬 프로그래밍과 같은 장점이 있다. 함수형 프로그래밍은 함수로 문제를 분해한다. 이 함수들은 입력을 받아서 출력을 만들어 내기만 하며, 주어진 입력이 함수를 통과하고 값이 생성되면 이 출력값은 함수 외부의 다른 변수나 함수에 의해 변하지 않는다.\n",
    "- 함수형 프로그래밍이 데이터 사이언티스트에게 적합한 프로그래밍 패러다임인 이유는, 함수형 프로그래밍이 기본적으로 가지고 있는 특징 때문이다. 특징을 보기 전에 먼저 함수형 프로그래밍은 병렬 프로그래밍 측면에서 장점이 있다. AI 연구가 갑자기 붐처럼 일어나게 된 이유는 알고리즘의 고도화, 알파고 등 이유는 많지만 GPU를 이용한 병렬 처리가 굉장히 큰 역할을 했다. 기본적으로 병렬 처리를 코딩하기도 어려울뿐더러 제약 조건 또한 많기 때문에 병렬 처리는 어려운 프로그래밍 방법의 하나로 유명하다. 제약 조건 중에 하나만 얘기하자면, 하나의 데이터에 동시에 여러 함수가 접근한다고 가정을 했을 때 이들 함수 중에 하나라도 기존 데이터를 수정하는 함수가 있으면, 기존 데이터로 출력을 예상할 수가 없게 된다. 만약, 반대로 순차 처리를 한다면 여러 개의 함수가 순서대로 처리되기 때문에 기존 데이터를 바꾼 함수 이후로의 데이터 출력은 예측이 가능하다는 것이다.\n",
    "- [함수형 프로그래밍 HOWTO](https://docs.python.org/ko/3/howto/functional.html)"
   ]
  },
  {
   "cell_type": "markdown",
   "id": "ce51ddbd",
   "metadata": {},
   "source": [
    "### 함수형 프로그래밍의 특징\n",
    "#### 1. 순수성\n",
    "- 함수형 프로그램에서 각 함수는 입력으로부터 동작을 시작해 출력을 만들어 낸다. 함수형 방식은 내부 상태를 수정하거나 함수의 반환값에서 보이지 않는 다른 변경사항들을 만드는 부작용이 있는 함수를 사용하지 않는다. 부작용이 전혀 없는 함수를 순수 함수 라고 한다. 부작용을 피한다는 것은 프로그램이 실행될 때 해당 프로그램이 수정될 수 있는 상황을 엄격히 제한한다는 의미이며, 모든 함수의 출력은 입력에만 의존해야 한다."
   ]
  },
  {
   "cell_type": "code",
   "execution_count": 39,
   "id": "a38ae274",
   "metadata": {},
   "outputs": [
    {
     "name": "stdout",
     "output_type": "stream",
     "text": [
      "30\n"
     ]
    }
   ],
   "source": [
    "A = 5\n",
    "\n",
    "def impure_mul(b):\n",
    "    return b * A\n",
    "\n",
    "print(impure_mul(6))"
   ]
  },
  {
   "cell_type": "markdown",
   "id": "f4a42c8a",
   "metadata": {},
   "source": [
    "- 위의 함수는 입력으로 들어오는 변수 이외에도 함수 밖에 있는 변수인 A도 함수 내에서 사용하기 때문에 순수성이 없다."
   ]
  },
  {
   "cell_type": "code",
   "execution_count": 40,
   "id": "b5540895",
   "metadata": {},
   "outputs": [
    {
     "name": "stdout",
     "output_type": "stream",
     "text": [
      "24\n"
     ]
    }
   ],
   "source": [
    "def pure_mul(a, b):\n",
    "    return a * b\n",
    "\n",
    "print(pure_mul(4, 6))"
   ]
  },
  {
   "cell_type": "markdown",
   "id": "7102da5a",
   "metadata": {},
   "source": [
    "- 위의 함수는 함수 안에 함수 밖에서 바로 가져오는 함수나 아니면 밖에 있는 변수를 변경시키는 코드가 없다. 순수하게 함수 input 2개만을 이용해서 결과를 내보내므로 순수성이 있다."
   ]
  },
  {
   "cell_type": "markdown",
   "id": "d6fbe060",
   "metadata": {},
   "source": [
    "#### 2. 모듈성\n",
    "- 함수형 프로그래밍은 문제를 작은 조각으로 분해하도록 강제한다. 복잡한 변환을 한 함수 안에서 수행하는 거대한 함수보다, 한 가지 작업을 수행하는 작은 함수들로 쪼개어 만드는 것이 코딩하기에 더 쉽다. 작은 함수는 가독성도 좋고 오류를 확인하기도 더 쉽다. 결과적으로 프로그램은 더욱 모듈화가 된다."
   ]
  },
  {
   "cell_type": "markdown",
   "id": "c0037812",
   "metadata": {},
   "source": [
    "#### 3. 디버깅과 테스트 용이성\n",
    "- 함수형 프로그래밍으로 개발된 프로그램은 각각의 함수가 작고 명확하게 명시되기 때문에 디버깅을 쉽게 할 수 있다. 프로그램이 동작하지 않는다면, 각 함수는 데이터가 올바른지 확인할 수 있는 포인트들이 된다. 각 함수의 입력과 출력을 확인하면서 예상되는 것과 다른 출력이 나오면 해당 부분이 문제이기 때문에 디버깅이 쉽다. 또한, 각 함수는 잠재적으로 단위 테스트의 대상이기 때문에 테스트가 더 쉽다. 올바른 입력을 함수에 입력하고 결과가 예상과 일치하는지 확인만 하면 되기 때문이다."
   ]
  },
  {
   "cell_type": "markdown",
   "id": "a9d20126",
   "metadata": {},
   "source": [
    "## 6-11. 파이써닉하게 코드를 짜보자\n",
    "- 파이썬의 가장 큰 장점 중 하나는 가독성이 좋다는 것이다. 코드 작성은 한 번이지만, 그 코드를 다시 읽거나 고치는 일은 훨씬 더 많기 때문에 코드 가독성은 중요하다. 파이썬 코드가 쉽게 읽히고 잘 이해되는 이유는 비교적 완벽한 코드 스타일 가이드라인과 “파이썬스러운” 이디엄(코드 작성법) 때문이다. 파이썬은 pep8이라는 코드 스타일 가이드가 있다. 대부분의 개발자가 이 코드 스타일에 따라서 개발을 하고 있다. 유지 보수 측면에서 빠른 코드 이해로 개발 기간이 줄고 가독성 측면에서도 도움이 된다.\n",
    "- 참고 자료\n",
    " - [코드 스타일](https://python-guide-kr.readthedocs.io/ko/latest/writing/style.html)\n",
    " - [[PEP8]Code lay-out](https://pep8.org/#code-lay-out)"
   ]
  },
  {
   "cell_type": "markdown",
   "id": "489ed628",
   "metadata": {},
   "source": [
    "### Whitespace\n",
    "- 한 줄의 코드 길이가 79자 이하이어야 한다.\n",
    "- 함수와 클래스는 다른 코드와 빈 줄 두 개로 구분한다.\n",
    "![이미지](https://user-images.githubusercontent.com/116326867/225070519-63ff228c-737d-4506-9eab-48f62f24647e.png)\n",
    "- 클래스에서 함수는 빈 줄 하나로 구분한다.\n",
    "![이미지](https://user-images.githubusercontent.com/116326867/225070541-bf56ab44-c5d3-4fc0-8612-637c99b35408.png)\n",
    "- 변수 할당 앞뒤에 스페이스를 하나만 사용한다.\n",
    "![이미지](https://user-images.githubusercontent.com/116326867/225070559-87fcbd78-76d8-4bd4-b939-8c9ef2d7d26b.png)\n",
    "- 리스트 인덱스, 함수 호출에는 스페이스를 사용하지 않는다.\n",
    "![이미지](https://user-images.githubusercontent.com/116326867/225070579-fb513c9f-2f01-47cf-b31e-a81ad374e1d5.png)\n",
    "- 쉼표(,), 쌍점(:), 쌍반점(;) 앞에서는 스페이스를 사용하지 않는다.\n",
    "![이미지](https://user-images.githubusercontent.com/116326867/225070606-0dd6d6bd-68af-4b2f-9c3d-9055d6b36910.png)"
   ]
  },
  {
   "cell_type": "markdown",
   "id": "5de1259a",
   "metadata": {},
   "source": [
    "### 주석"
   ]
  },
  {
   "cell_type": "markdown",
   "id": "0f10dd01",
   "metadata": {},
   "source": [
    "### 이름 규칙\n",
    "- 변수명 앞에 _(밑줄)이 붙으면 함수 등의 내부에서만 사용되는 변수를 일컫는다.\n",
    "![이미지](https://user-images.githubusercontent.com/116326867/225072512-028dc632-a2bb-4afe-97de-4ccee938db1e.png)\n",
    "- 변수명 뒤에 _(밑줄)이 붙으면 라이브러리 혹은 파이썬 기본 키워드와의 충돌을 피하고 싶을 때 사용한다.\n",
    "![이미지](https://user-images.githubusercontent.com/116326867/225072527-e2f78141-9f4d-48f5-8c27-87c3db747643.png)\n",
    "- 소문자 L, 대문자 O, 대문자 I를 가능하면 사용하지 않는다. 특정 폰트에서는 가독성이 굉장히 안 좋기 때문이다.\n",
    "- 모듈(Module) 명은 짧은 소문자로 구성되며, 필요하다면 밑줄로 나눈다.\n",
    "![이미지](https://user-images.githubusercontent.com/116326867/225072549-1d2ab023-09fa-412f-a4ea-03aba59ea372.png)\n",
    "- 클래스 명은 파스칼 케이스(PascalCase) 컨벤션으로 작성한다.\n",
    "![이미지](https://user-images.githubusercontent.com/116326867/225072554-02c3910b-eb71-4c39-b304-92ffa3db0d5b.png)\n",
    "- 함수명은 소문자로 구성하되 필요하면 밑줄로 나눈다.\n",
    "![이미지](https://user-images.githubusercontent.com/116326867/225072557-32d93774-064e-4ee0-8004-ffee15b69fa2.png)\n",
    "- 상수(Constant)는 모듈 단위에서만 정의하고 모든 단어는 대문자이며, 필요하다면 밑줄로 나눈다.\n",
    "![이미지](https://user-images.githubusercontent.com/116326867/225072559-7e8dc46f-3956-4b69-bbf1-d35f14a55e9d.png)"
   ]
  },
  {
   "cell_type": "markdown",
   "id": "2ac83ed7",
   "metadata": {},
   "source": [
    "### 네이밍 컨벤션(Naming convention)\n",
    "- 실무에선 다른 사람들과 같이 코드를 짜야 하는 경우가 많다. 사람들마다 변수명을 적는 방식이 다르면 코드가 깔끔해 보이지 않기 때문에 가독성이 안좋기 때문에 통일성을 가져야한다. 통일성을 갖기 위해선 사람들이 공유하는 코딩 스타일 가이드가 필요하다. 그래서 파이썬에서는 pep8 이라는 코딩 스타일 가이드를 가지고 있다. 스타일 중 이름을 작성할 때 사용하는 네이밍 컨벤션에 대해서 알아보도록 한다. 대표적인 네이밍 컨벤션은 snake_case, PascalCase, camelCase 이다. 각 네이밍 컨벤션의 기준에 맞춰 코드를 작성하시면 가독성이 높은 코드가 된다.\n",
    "- snake_case\n",
    " - 모든 공백을 \"_\"로 바꾸고 모든 단어는 소문자이다.\n",
    " - 파이썬에서는 함수, 변수 등을 명명할 때 사용한다.\n",
    " - ex) this_snake_case\n",
    "- PascalCase\n",
    " - 모든 단어가 대문자로 시작한다.\n",
    " - UpperCamelCase, CapWords라고 불리기도 한다.\n",
    " - 파이썬에서는 클래스를 명명할 때 사용한다.\n",
    " - ex) ThisPascalCase\n",
    "- camelCase\n",
    " - 처음은 소문자로 시작하고 이후의 모든 단어의 첫 글자는 대문자로 한다.\n",
    " - lowerCamelCase라고 불리기도 한다.\n",
    " - 파이썬에서는 거의 사용하지 않는다. (Java 등에서 사용)\n",
    " - ex) thisCamelCase"
   ]
  }
 ],
 "metadata": {
  "kernelspec": {
   "display_name": "Python 3 (ipykernel)",
   "language": "python",
   "name": "python3"
  },
  "language_info": {
   "codemirror_mode": {
    "name": "ipython",
    "version": 3
   },
   "file_extension": ".py",
   "mimetype": "text/x-python",
   "name": "python",
   "nbconvert_exporter": "python",
   "pygments_lexer": "ipython3",
   "version": "3.9.7"
  }
 },
 "nbformat": 4,
 "nbformat_minor": 5
}
