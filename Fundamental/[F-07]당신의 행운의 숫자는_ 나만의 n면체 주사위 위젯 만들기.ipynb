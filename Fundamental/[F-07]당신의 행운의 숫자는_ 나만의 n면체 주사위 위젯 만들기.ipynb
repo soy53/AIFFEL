{
 "cells": [
  {
   "cell_type": "markdown",
   "id": "80865d62",
   "metadata": {},
   "source": [
    "# 7강. 당신의 행운의 숫자는? 나만의 n면체 주사위 위젯 만들기\n",
    "## 7-4. 클래스 기본 문법 (1) 클래스 선언 및 인스턴스화\n",
    " - 파이썬에서 개발자가 객체를 직접 설계하기 위해서는 class 키워드를 이용한다."
   ]
  },
  {
   "cell_type": "markdown",
   "id": "796c7b28",
   "metadata": {},
   "source": [
    "### 클래스 선언\n",
    "![클래스](https://user-images.githubusercontent.com/116326867/225510880-f6a53829-3090-4cfa-90e4-e6a156b36b2f.png)"
   ]
  },
  {
   "cell_type": "code",
   "execution_count": 1,
   "id": "4a54b109",
   "metadata": {},
   "outputs": [
    {
     "name": "stdout",
     "output_type": "stream",
     "text": [
      "94807578956224\n",
      "94807578956224\n",
      "139867830354512\n",
      "139867830355280\n",
      "<class 'type'>\n",
      "<class '__main__.Car'>\n"
     ]
    }
   ],
   "source": [
    "class Car:\n",
    "    pass\n",
    "\n",
    "class Car():\n",
    "    pass\n",
    "\n",
    "#id(Car)는 여러번 호출해도 같은 값이 얻어진다. \n",
    "print(id(Car))\n",
    "print(id(Car))\n",
    "\n",
    "#id(Car())는 Car()가 호출될 때마다 다른 값이 얻어진다. \n",
    "print(id(Car()))\n",
    "print(id(Car()))\n",
    "\n",
    "# 두 객체의 type을 살펴보기\n",
    "print(type(Car))\n",
    "print(type(Car()))"
   ]
  },
  {
   "cell_type": "markdown",
   "id": "b35c5959",
   "metadata": {},
   "source": [
    "- 클래스 선언은 class 키워드를 이용한다. class 키워드를 쓰고 클래스 이름을 쓴 다음 :(콜론)을 쓴다. 클래스 이름 다음에 소괄호를 적어 주어도 되지만 보통은 생략한다.\n",
    "- 위 코드에서 보면, Car라는 클래스 자체도 객체이고, Car()를 호출할 때마다 새로운 Car 타입의 객체가 생성된다. 둘 다 id가 존재하기 때문이다. 그러나, id(Car)의 값은 몇 번 호출되더라도 동일하지만 id(Car())는 호출될 때마다 다른 id 값을 가진다. Car라는 클래스는 type 유형의 객체이다. Car()가 호출될 때 Car 타입의 객체가 생성된다."
   ]
  },
  {
   "cell_type": "markdown",
   "id": "9f2c1fa6",
   "metadata": {},
   "source": [
    "### 클래스 사용 - 객체 인스턴스화\n",
    "- 클래스를 이용하려면 클래스로 객체를 만들어 주어야 하는데, 이를 인스턴스화라고 한다. 인스턴스화는 선언한 클래스 이름에 괄호를 적어 준다. 그리고 생성된 인스턴스를 적당한 변수에 할당해서 사용한다."
   ]
  },
  {
   "cell_type": "code",
   "execution_count": 2,
   "id": "b3c30b58",
   "metadata": {},
   "outputs": [
    {
     "name": "stdout",
     "output_type": "stream",
     "text": [
      "139867830356576\n",
      "139867830356912\n"
     ]
    }
   ],
   "source": [
    "mycar = Car()\n",
    "mycar2 = Car()\n",
    "print(id(mycar))\n",
    "print(id(mycar2))"
   ]
  },
  {
   "cell_type": "markdown",
   "id": "b35b2020",
   "metadata": {},
   "source": [
    "- 클래스명에 괄호를 추가해 객체를 만든 후, mycar와 mycar2란 변수에 이 객체를 할당했한다. mycar 변수에 Car 클래스의 인스턴스를 할당한 것이다. 종종 \"클래스를 호출(call) 했다\"라는 표현을 쓰기도 한다. 위 코드에서는 인스턴스가 생성될 때마다 객체를 할당받은 변수들에게 다른 id가 부여된다.\n",
    "- 표기법\n",
    " - 함수를 호출하는 것과 클래스로 객체를 만드는 것은 문법이 비슷하다. 클래스에서도 상속을 사용할 때는 클래스를 선언 시 소괄호를 붙이기도 하고, 초깃값을 설정할 때 인스턴스화 시 인자를 전달하기도 한다. \n",
    " - 함수와 비슷하므로 파이썬에서는 클래스명과 함수명을 다르게 표기하는 방법을 사용한다. PEP는 Python Enhancement Proposals의 약자로 파이썬 개선사항을 위한 공식 문서이다. 그중에서도 [PEP8](https://peps.python.org/pep-0008/)은 파이썬 코딩 스타일(변수명, 코드 표기법 등등)을 개정한 문서인데, 여기에서 클래스명은 카멜 케이스(각 단어의 앞 글자를 대문자로), 함수명 표기법은 스네이크 케이스(단어는 소문자로 쓰고 각 단어의 연결은 언더바(_)를 사용)로 쓰는 것을 권고하고 있다. 추가로 클래스명은 주로 명사로, 함수명은 주로 동사로 명명한다. type() 함수를 이용해서 확인하는 방법도 있다."
   ]
  },
  {
   "cell_type": "markdown",
   "id": "1e888bb7",
   "metadata": {},
   "source": [
    "## 7-5. 클래스 기본 문법 (2) 클래스 속성과 메서드\n",
    "### 클래스의 속성과 메서드\n",
    "- 클래스는 개발자가 객체를 설계하기 위한 것이고, 객체에는 속성과 메서드가 있다. 클래스의 속성은 상태(state)를 표현한다. 속성은 변수로 나타낸다. 한편, 클래스의 메서드는 동작(behavior)을 표현한다. 메서드는 def 키워드로 나타낸다."
   ]
  },
  {
   "cell_type": "code",
   "execution_count": 3,
   "id": "6318e6e8",
   "metadata": {},
   "outputs": [],
   "source": [
    "class Car:\n",
    "    '''\n",
    "    속성은 클래스의 상태를 나타내며, 변수로 나타낸다.\n",
    "    색상: 빨강\n",
    "    종류: 스포츠 카\n",
    "    '''\n",
    "    color = 'red'\n",
    "    category = 'sports car'\n",
    "    \n",
    "    '''\n",
    "    동작은 메서드로 나타내며, def 키워드를 사용한다.\n",
    "    '''\n",
    "    def drive(self):\n",
    "        '''\n",
    "        주행 메서드\n",
    "        '''\n",
    "        print(\"I'm driving\")\n",
    "\n",
    "    def accel(self, speed_up, current_speed=10):\n",
    "        '''\n",
    "        가속 메서드\n",
    "        :param speed_up: 가속\n",
    "        :param current_speed: 현재 속도\n",
    "        :type speed_up: string\n",
    "        :type current_speed: string\n",
    "        '''\n",
    "        self.speed_up = speed_up\n",
    "        self.current_speed = current_speed + speed_up\n",
    "        print(\"speed up\", self.speed_up, \"driving at\", self.current_speed)"
   ]
  },
  {
   "cell_type": "markdown",
   "id": "049eb846",
   "metadata": {},
   "source": [
    "- 속성\n",
    " - 클래스의 상태는 속성이라고 부르며, 변수로 선언한다.\n",
    " - color에는 'red'를 category에는 'sports car'를 할당한다.\n",
    "- 메서드\n",
    " - 동작은 메서드로 나타내고 메서드 선언은 함수와 똑같이 def 키워드를 이용한다.\n",
    " - 클래스의 메서드는 첫 번째 인자는 self 값을 적어 주어야 한다.\n",
    " - 주행은 drive() 라는 메서드명으로 정의하고 self외에 인자는 없다.\n",
    " - 가속은 accel() 라는 메서드명으로 정의하고 현재 속도와 가속할 값을 인자로 받는다.  \n",
    "   - 현재속도 인자명 = current_speed, 가속 인자명 = speed_up\n",
    "   - accel 메서드에 self.speed_up, self.current_speed 를 인자로 준다."
   ]
  },
  {
   "cell_type": "markdown",
   "id": "4e2aefb2",
   "metadata": {},
   "source": [
    "### 클래스의 속성과 메서드 사용\n",
    "#### 속성\n",
    "- 속성에 접근하기 위해서는 인스턴스 객체에 . 을 쓰고 그 뒤에 속성명을 적는다."
   ]
  },
  {
   "cell_type": "code",
   "execution_count": 4,
   "id": "34fa69f4",
   "metadata": {},
   "outputs": [],
   "source": [
    "mycar = Car()"
   ]
  },
  {
   "cell_type": "code",
   "execution_count": 5,
   "id": "cfed54b7",
   "metadata": {},
   "outputs": [
    {
     "name": "stdout",
     "output_type": "stream",
     "text": [
      "red\n"
     ]
    }
   ],
   "source": [
    "print(mycar.color)"
   ]
  },
  {
   "cell_type": "code",
   "execution_count": 6,
   "id": "10549218",
   "metadata": {},
   "outputs": [
    {
     "ename": "AttributeError",
     "evalue": "'Car' object has no attribute 'price'",
     "output_type": "error",
     "traceback": [
      "\u001b[0;31m---------------------------------------------------------------------------\u001b[0m",
      "\u001b[0;31mAttributeError\u001b[0m                            Traceback (most recent call last)",
      "\u001b[0;32m/tmp/ipykernel_35/4236691067.py\u001b[0m in \u001b[0;36m<module>\u001b[0;34m\u001b[0m\n\u001b[0;32m----> 1\u001b[0;31m \u001b[0mmycar\u001b[0m\u001b[0;34m.\u001b[0m\u001b[0mprice\u001b[0m\u001b[0;34m\u001b[0m\u001b[0;34m\u001b[0m\u001b[0m\n\u001b[0m",
      "\u001b[0;31mAttributeError\u001b[0m: 'Car' object has no attribute 'price'"
     ]
    }
   ],
   "source": [
    "# 없는 속성값에 접근 -> 에러 발생\n",
    "mycar.price"
   ]
  },
  {
   "cell_type": "markdown",
   "id": "31734964",
   "metadata": {},
   "source": [
    "#### 메서드\n",
    "- 메서드를 호출하는 방법은 속성 접근과 유사하다. 인스턴스 객체에 .을 쓰고 그 뒤에 메서드 명을 적어준다. 메서드는 def 키워드로 구현하는데 다시 말하면 클래스의 메서드는 클래스 내에 정의된 함수라고 말할 수 있다. 따라서, 함수를 호출하는 것과 동일하게 함수 이름을 쓰고 소괄호 \"()\"를 적어 준다.\n",
    "- 메서드 호출 (feat. 인터프리터에서 벌어지는 일) : 메서드를 정의할 때 self 라는 인자를 전달해 주지만, 메서드를 호출할 때는 self 인자를 명시적으로 전달해 주지 않아도 된다."
   ]
  },
  {
   "cell_type": "code",
   "execution_count": 7,
   "id": "eec6a06c",
   "metadata": {},
   "outputs": [
    {
     "name": "stdout",
     "output_type": "stream",
     "text": [
      "I'm driving\n"
     ]
    }
   ],
   "source": [
    "mycar.drive()"
   ]
  },
  {
   "cell_type": "code",
   "execution_count": 8,
   "id": "2f60afdc",
   "metadata": {},
   "outputs": [
    {
     "name": "stdout",
     "output_type": "stream",
     "text": [
      "speed up 5 driving at 15\n"
     ]
    }
   ],
   "source": [
    "mycar.accel(5)"
   ]
  },
  {
   "cell_type": "code",
   "execution_count": 9,
   "id": "ccbc0061",
   "metadata": {},
   "outputs": [
    {
     "name": "stdout",
     "output_type": "stream",
     "text": [
      "I'm driving\n"
     ]
    }
   ],
   "source": [
    "mycar.drive()"
   ]
  },
  {
   "cell_type": "code",
   "execution_count": 10,
   "id": "d0b71c8c",
   "metadata": {},
   "outputs": [
    {
     "name": "stdout",
     "output_type": "stream",
     "text": [
      "I'm driving\n"
     ]
    }
   ],
   "source": [
    "Car.drive(mycar)"
   ]
  },
  {
   "cell_type": "markdown",
   "id": "aaeb444a",
   "metadata": {},
   "source": [
    "- mycar.drive() 코드는 인터프리터 내부에서는 Car.drive(mycar)로 동작한다. self라는 단어는 클래스를 인스턴스화 한 인스턴스 객체를 가리킨다. 메서드를 호출할 때, 우리가 명시적으로 인자를 넣지는 않지만 파이썬 내부적으로는 (=파이썬 인터프리터에서는) 인자 한 개를 사용하고 있고, 그 인자는 파이썬 클래스에 의해 선언된 객체 자신(self)이다. 그렇기 때문에 위의 두 코드는 동일하게 동작한다.\n",
    "- 코드 구현을 도식적으로 표현한 그림은 다음과 같다.\n",
    "![도식화](https://user-images.githubusercontent.com/116326867/225523841-d9779d2d-6a72-45de-963d-43311dcdf0e4.png)\n",
    "- 그리고 이런 구현이 가능하게 하는 것이 바로 self 인자이다.\n",
    "![self인자](https://user-images.githubusercontent.com/116326867/225523852-34df6248-e791-43d3-9e13-cf10000bce9f.png)"
   ]
  },
  {
   "cell_type": "markdown",
   "id": "da48675a",
   "metadata": {},
   "source": [
    "- 다만 Car.drive(mycar)라고 사용하지 않는다. 파이썬 인터프리터가 처리해 주는 일을 너무 어렵게 구현하는 것이기 때문이다."
   ]
  },
  {
   "cell_type": "code",
   "execution_count": 11,
   "id": "001510ab",
   "metadata": {},
   "outputs": [],
   "source": [
    "class Test:\n",
    "    def run1(self):\n",
    "        print(\"run1\")\n",
    "\n",
    "    def run2():\n",
    "        print(\"run2\")\n",
    "\n",
    "t = Test()"
   ]
  },
  {
   "cell_type": "code",
   "execution_count": 12,
   "id": "a60afeb5",
   "metadata": {},
   "outputs": [
    {
     "name": "stdout",
     "output_type": "stream",
     "text": [
      "run1\n"
     ]
    }
   ],
   "source": [
    "t.run1()"
   ]
  },
  {
   "cell_type": "code",
   "execution_count": 13,
   "id": "6861e391",
   "metadata": {},
   "outputs": [
    {
     "ename": "TypeError",
     "evalue": "run2() takes 0 positional arguments but 1 was given",
     "output_type": "error",
     "traceback": [
      "\u001b[0;31m---------------------------------------------------------------------------\u001b[0m",
      "\u001b[0;31mTypeError\u001b[0m                                 Traceback (most recent call last)",
      "\u001b[0;32m/tmp/ipykernel_35/2830249385.py\u001b[0m in \u001b[0;36m<module>\u001b[0;34m\u001b[0m\n\u001b[0;32m----> 1\u001b[0;31m \u001b[0mt\u001b[0m\u001b[0;34m.\u001b[0m\u001b[0mrun2\u001b[0m\u001b[0;34m(\u001b[0m\u001b[0;34m)\u001b[0m\u001b[0;34m\u001b[0m\u001b[0;34m\u001b[0m\u001b[0m\n\u001b[0m",
      "\u001b[0;31mTypeError\u001b[0m: run2() takes 0 positional arguments but 1 was given"
     ]
    }
   ],
   "source": [
    "t.run2()"
   ]
  },
  {
   "cell_type": "markdown",
   "id": "cd872099",
   "metadata": {},
   "source": [
    "- 참고로, 클래스 메서드를 정의할 때 self 인자를 사용하지 않으면 에러가 발생한다. run2() 메서드를 보면 알 수 있다."
   ]
  },
  {
   "cell_type": "markdown",
   "id": "070789bc",
   "metadata": {},
   "source": [
    "#### 접두사 self.\n",
    "- 같은 이유로 인스턴스의 속성으로 사용하고 싶은 변수는 self.을 써준다. self 인자를 통해 선언된 객체의 값이란 의미이다. 객체 안에서 self를 사용하면 인스턴스 객체의 고유한 속성을 나타낼 수 있다. 클래스가 아닌 self, 즉 인스턴스화된 객체 자신의 속성이라는 뜻이다.\n",
    "- 참고로 클래스의 메서드 내부에서 self. 접두사가 없이 일반 변수와 같게 선언된 변수는 메서드 내부에서만 사용되므로, self.를 사용해 참조할 수 없다."
   ]
  },
  {
   "cell_type": "code",
   "execution_count": 14,
   "id": "7ea77392",
   "metadata": {},
   "outputs": [],
   "source": [
    "class Test2:\n",
    "    def run1(self, a):\n",
    "        self.a = float(a) * 10\n",
    "        print(self.a)\n",
    "\n",
    "    def run2(self, b):\n",
    "        b = float(b) + 10\n",
    "        print(self.b)\n",
    "        \n",
    "t = Test2()"
   ]
  },
  {
   "cell_type": "code",
   "execution_count": 15,
   "id": "a69a9711",
   "metadata": {},
   "outputs": [
    {
     "name": "stdout",
     "output_type": "stream",
     "text": [
      "10.0\n"
     ]
    }
   ],
   "source": [
    "t.run1(1)"
   ]
  },
  {
   "cell_type": "code",
   "execution_count": 16,
   "id": "e0e66795",
   "metadata": {},
   "outputs": [
    {
     "ename": "AttributeError",
     "evalue": "'Test2' object has no attribute 'b'",
     "output_type": "error",
     "traceback": [
      "\u001b[0;31m---------------------------------------------------------------------------\u001b[0m",
      "\u001b[0;31mAttributeError\u001b[0m                            Traceback (most recent call last)",
      "\u001b[0;32m/tmp/ipykernel_35/25985708.py\u001b[0m in \u001b[0;36m<module>\u001b[0;34m\u001b[0m\n\u001b[0;32m----> 1\u001b[0;31m \u001b[0mt\u001b[0m\u001b[0;34m.\u001b[0m\u001b[0mrun2\u001b[0m\u001b[0;34m(\u001b[0m\u001b[0;36m1\u001b[0m\u001b[0;34m)\u001b[0m\u001b[0;34m\u001b[0m\u001b[0;34m\u001b[0m\u001b[0m\n\u001b[0m",
      "\u001b[0;32m/tmp/ipykernel_35/3234681881.py\u001b[0m in \u001b[0;36mrun2\u001b[0;34m(self, b)\u001b[0m\n\u001b[1;32m      6\u001b[0m     \u001b[0;32mdef\u001b[0m \u001b[0mrun2\u001b[0m\u001b[0;34m(\u001b[0m\u001b[0mself\u001b[0m\u001b[0;34m,\u001b[0m \u001b[0mb\u001b[0m\u001b[0;34m)\u001b[0m\u001b[0;34m:\u001b[0m\u001b[0;34m\u001b[0m\u001b[0;34m\u001b[0m\u001b[0m\n\u001b[1;32m      7\u001b[0m         \u001b[0mb\u001b[0m \u001b[0;34m=\u001b[0m \u001b[0mfloat\u001b[0m\u001b[0;34m(\u001b[0m\u001b[0mb\u001b[0m\u001b[0;34m)\u001b[0m \u001b[0;34m+\u001b[0m \u001b[0;36m10\u001b[0m\u001b[0;34m\u001b[0m\u001b[0;34m\u001b[0m\u001b[0m\n\u001b[0;32m----> 8\u001b[0;31m         \u001b[0mprint\u001b[0m\u001b[0;34m(\u001b[0m\u001b[0mself\u001b[0m\u001b[0;34m.\u001b[0m\u001b[0mb\u001b[0m\u001b[0;34m)\u001b[0m\u001b[0;34m\u001b[0m\u001b[0;34m\u001b[0m\u001b[0m\n\u001b[0m\u001b[1;32m      9\u001b[0m \u001b[0;34m\u001b[0m\u001b[0m\n\u001b[1;32m     10\u001b[0m \u001b[0mt\u001b[0m \u001b[0;34m=\u001b[0m \u001b[0mTest2\u001b[0m\u001b[0;34m(\u001b[0m\u001b[0;34m)\u001b[0m\u001b[0;34m\u001b[0m\u001b[0;34m\u001b[0m\u001b[0m\n",
      "\u001b[0;31mAttributeError\u001b[0m: 'Test2' object has no attribute 'b'"
     ]
    }
   ],
   "source": [
    "t.run2(1)"
   ]
  },
  {
   "cell_type": "markdown",
   "id": "ea5bdfef",
   "metadata": {},
   "source": [
    "#### self 요약\n",
    "- self는 자기 자신이다.\n",
    "- 클래스에 의해 생성된 객체(인스턴스)를 가리킨다.\n",
    "- 클래스의 메서드는 인자로 해당 인스턴스(self)를 받아야 한다.\n",
    "- 메서드를 호출할 때는 self 인자를 전달하지 않는다. self의 값은 인터프리터가 제공한다.\n",
    "- 인스턴스 변수를 정의할 때에는 접두사 self.을 붙여준다."
   ]
  },
  {
   "cell_type": "markdown",
   "id": "8cb1768a",
   "metadata": {},
   "source": [
    "## 7-6. 클래스 기본 문법 (3) 생성자\n",
    "### 생성자 __init__\n",
    "- 클래스에 의해 만든 인스턴스 객체의 속성값을 사용자가 초기화하기 위해서는 __ init __ 을 사용한다. Car 클래스를 만들 때부터 색깔과 카테고리를 지정해 주기 위해 그 값을 전달할 때 사용한다.\n",
    " - [파이썬 문서:클래스](https://docs.python.org/3.8/tutorial/classes.html)"
   ]
  },
  {
   "cell_type": "code",
   "execution_count": 17,
   "id": "e9015ab9",
   "metadata": {},
   "outputs": [],
   "source": [
    "class Car:\n",
    "    color = 'red'\n",
    "    category = 'sports car'\n",
    "\n",
    "    def drive(self):\n",
    "        print(\"I'm driving\")\n",
    "\n",
    "    def accel(self, speed_up, current_speed=10):\n",
    "        self.speed_up = speed_up\n",
    "        self.current_speed = current_speed + self.speed_up\n",
    "        print(\"speed up\", self.speed_up, \"driving at\", self.current_speed)"
   ]
  },
  {
   "cell_type": "code",
   "execution_count": 18,
   "id": "79c248b3",
   "metadata": {},
   "outputs": [],
   "source": [
    "# Car 클래스 인스턴스의 color와 category를 초기화\n",
    "class Car2:\n",
    "    def __init__(self, color, category):\n",
    "        self.color = color\n",
    "        self.category = category\n",
    "\n",
    "    def drive(self):\n",
    "        print(\"I'm driving\")\n",
    "\n",
    "    def accel(self, speed_up, current_speed=10):\n",
    "        self.speed_up = speed_up\n",
    "        self.current_speed = current_speed + self.speed_up\n",
    "        print(\"speed up\", self.speed_up, \"driving at\", self.current_speed)"
   ]
  },
  {
   "cell_type": "markdown",
   "id": "88e95138",
   "metadata": {},
   "source": [
    "- __ init __ 메서드 안에 인자를 전달함으로써 인스턴스 객체의 속성을 초기화할 수 있다.\n",
    "- 즉, __ init __ 메서드 안에 정의된 속성(변수) color와 category는 클래스를 인스턴스화할 때 값을 설정할 수 있다.\n",
    "- 이를 인스턴스 객체의 초기화 (initializing instance) 라고 히고, __ init __ 함수는 생성자(constructor)라고 한다.\n",
    "- __ init __ 역시 def 키워드로 정의한다. 즉, 클래스 안의 메서드이므로 self 문법을 사용해야 한다."
   ]
  },
  {
   "cell_type": "code",
   "execution_count": 19,
   "id": "737d7401",
   "metadata": {},
   "outputs": [],
   "source": [
    "# 인스턴스 객체 선언\n",
    "car1 = Car()\n",
    "car2 = Car2('yellow', 'sedan')"
   ]
  },
  {
   "cell_type": "markdown",
   "id": "29dbf75c",
   "metadata": {},
   "source": [
    "- Car2 클래스를 인스턴스 객체로 만든 car2 와 같이 인스턴스 객체를 선언할 때 인자를 전달해 주는 형식으로 객체를 초기화 시킬 수 있다."
   ]
  },
  {
   "cell_type": "code",
   "execution_count": 21,
   "id": "5a3802a8",
   "metadata": {},
   "outputs": [
    {
     "name": "stdout",
     "output_type": "stream",
     "text": [
      "red\n",
      "yellow\n"
     ]
    }
   ],
   "source": [
    "print(car1.color)\n",
    "print(car2.color)"
   ]
  },
  {
   "cell_type": "code",
   "execution_count": 22,
   "id": "a9345b5d",
   "metadata": {},
   "outputs": [
    {
     "name": "stdout",
     "output_type": "stream",
     "text": [
      "sports car\n",
      "sedan\n"
     ]
    }
   ],
   "source": [
    "print(car1.category)\n",
    "print(car2.category)"
   ]
  },
  {
   "cell_type": "code",
   "execution_count": 23,
   "id": "37d90d7b",
   "metadata": {},
   "outputs": [],
   "source": [
    "class Car2:\n",
    "    def __init__(self, color='red', category='sprots car'):\n",
    "        self.color = color\n",
    "        self.category = category"
   ]
  },
  {
   "cell_type": "markdown",
   "id": "943689b0",
   "metadata": {},
   "source": [
    "- 일반 함수와 문법은 비슷하다다. 위의 코드처럼 키워드 인자를 지정할 수도 있다."
   ]
  },
  {
   "cell_type": "markdown",
   "id": "e68a3971",
   "metadata": {},
   "source": [
    "#### 생성자 요약\n",
    "- __ init __ 이라고 쓰고, \"던더(Double Under) 이닛\"이라고 발음한다.\n",
    "- 다른 객체 지향 언어를 알고 있는 독자라면 생성자라는 말을 들으면 객체 인스턴스화와 초기화 2가지 작업을 생각할 수 있다. 그러나 파이썬의 생성자는 초기화만 수행한다. 객체 인스턴스화는 클래스 사용 시 변수 할당을 통해 이루어진다.\n",
    "- 그리고 __ init __ 처럼 앞뒤에 언더바(_)가 두 개씩 있는 메서드를 매직 메서드 라고 한다.\n",
    "- 매직 메서드 [참고 링크](https://rszalski.github.io/magicmethods/)"
   ]
  },
  {
   "cell_type": "markdown",
   "id": "cef40397",
   "metadata": {},
   "source": [
    "## 7-7. 클래스 기본 문법 (4) 클래스 변수와 인스턴스 변수\n",
    "- 클래스에서 변수를 선언하는 방법은 2가지가 있다. 하나는 보통 변수와 동일하게 변수명을 쓰고 값을 할당하는 방법이고, 두 번째는 __ init __ 메서드 안에 self.와 함께 설정하는 방법이다."
   ]
  },
  {
   "cell_type": "code",
   "execution_count": 24,
   "id": "aa5eab3b",
   "metadata": {},
   "outputs": [],
   "source": [
    "class Car:\n",
    "    Manufacture = \"India\"\n",
    "\n",
    "    def __init__(self, color, category='sedan'):\n",
    "        self.color = color\n",
    "        self.category = category"
   ]
  },
  {
   "cell_type": "markdown",
   "id": "59670cb4",
   "metadata": {},
   "source": [
    "- Manufacture 같은 변수를 클래스 변수라고 한다. self.color와 같은 변수를 인스턴스 변수라고 한다."
   ]
  },
  {
   "cell_type": "code",
   "execution_count": 25,
   "id": "4dbd6d1d",
   "metadata": {},
   "outputs": [
    {
     "name": "stdout",
     "output_type": "stream",
     "text": [
      "India red sports car\n",
      "India white sedan\n"
     ]
    }
   ],
   "source": [
    "car1 = Car('red','sports car')\n",
    "car2 = Car('white')\n",
    "print(car1.Manufacture, car1.color, car1.category)\n",
    "print(car2.Manufacture, car2.color, car2.category)"
   ]
  },
  {
   "cell_type": "markdown",
   "id": "5cc642b0",
   "metadata": {},
   "source": [
    "- 클래스 변수\n",
    " - 클래스에 바로 선언된 속성을 클래스 변수라고 하며 클래스에 의해 생성된 모든 객체에서 같은 값을 조회할 때 가능하다.\n",
    " - Manufacture는 클래스 변수이므로 Manufacture 속성은 car1과 car2가 공유한다.\n",
    "- 인스턴스 변수\n",
    " - __ init __ () 안에서 self를 사용해 선언된 변수를 인스턴스 변수라고 한다. 객체가 인스턴스화될 때마다 새로운 값이 할당되며 서로 다른 객체 간에는 값을 공유할 수 없다.\n",
    " - color와 category는 인스턴스 변수이므로 color와 category 속성은 car1과 car2가 공유하지 않는다.\n",
    "- Car 클래스에 만들어진 car 객체의 제조사는 항상 같은 곳인데 색상과 종류가 각각 다를 수 있다면, 제조사는 클래스 변수로 선언하고 색상과 종류 속성은 인스턴스 변수로 선언하여 초기화가 가능하게 구현한다. 즉, 객체 단위로 변경되는 변수는 인스턴스 변수로 선언하여야 한다는 것이다."
   ]
  },
  {
   "cell_type": "markdown",
   "id": "4ee59551",
   "metadata": {},
   "source": [
    "## 7-8. 클래스, 조금 더 알아보기 - 상속\n",
    "### 상속\n",
    "- 기존의 클래스와 거의 같은 클래스인데, 메서드 기능 몇 개만 추가하고 싶을 때 사용한다."
   ]
  },
  {
   "cell_type": "code",
   "execution_count": 26,
   "id": "d0179b1e",
   "metadata": {},
   "outputs": [],
   "source": [
    "class Car:\n",
    "    Manufacture = \"India\"\n",
    "\n",
    "    def __init__(self, color='red', category='sedan'):\n",
    "        self.color = color\n",
    "        self.category = category\n",
    "\n",
    "    def drive(self):\n",
    "        print(\"I'm driving\")\n",
    "\n",
    "    def accel(self, speed_up, current_speed=10):\n",
    "        self.speed_up = speed_up\n",
    "        self.current_speed = current_speed + self.speed_up\n",
    "        print(\"speed up\", self.speed_up, \"driving at\", self.current_speed)"
   ]
  },
  {
   "cell_type": "code",
   "execution_count": 27,
   "id": "9133a826",
   "metadata": {},
   "outputs": [
    {
     "name": "stdout",
     "output_type": "stream",
     "text": [
      "I'm driving\n",
      "speed up 10 driving at 20\n"
     ]
    }
   ],
   "source": [
    "class NewCar(Car):\n",
    "    pass\n",
    "\n",
    "car = NewCar()\n",
    "car.drive()\n",
    "car.accel(10)"
   ]
  },
  {
   "cell_type": "markdown",
   "id": "18d9c3f1",
   "metadata": {},
   "source": [
    "- 여기에 Car 클래스의 기능은 유지한 채 maker 속성만 추가된 새로운 클래스 NewCar를 선언하고 싶다면, 클래스의 상속 기능을 이용하면 된다. 상속은 소괄호 안에 상속받을 클래스 이름을 적어주면 된요."
   ]
  },
  {
   "cell_type": "code",
   "execution_count": 28,
   "id": "cee8684a",
   "metadata": {},
   "outputs": [
    {
     "data": {
      "text/plain": [
       "'Porsche'"
      ]
     },
     "execution_count": 28,
     "metadata": {},
     "output_type": "execute_result"
    }
   ],
   "source": [
    "class NewCar(Car):\n",
    "    maker = 'Porsche'\n",
    "\n",
    "car = NewCar()\n",
    "car.maker"
   ]
  },
  {
   "cell_type": "markdown",
   "id": "d8894f62",
   "metadata": {},
   "source": [
    "- Car 클래스와 비슷한 기능과 속성을 유지한 채 maker 속성만 추가해 조금 다른 클래스를 만들고 싶다면, Car 클래스를 상속받은 뒤 maker 속성만 추가해 주면 된다."
   ]
  },
  {
   "cell_type": "markdown",
   "id": "6474f26f",
   "metadata": {},
   "source": [
    "- 자식 클래스, 부모 클래스\n",
    " - 상속받은 클래스를 \"자식 클래스\", \"서브 클래스(sub class)\", \"파생된 클래스(derived class)\"라고 한다.\n",
    " - 기존 클래스를 \"부모 클래스\", \"슈퍼 클래스(super class)\", \"베이스 클래스(base class)\"라고 한다."
   ]
  },
  {
   "cell_type": "markdown",
   "id": "71bc1f5f",
   "metadata": {},
   "source": [
    "### 상속 사용하기\n",
    "#### 메서드 추가하기(add)\n",
    "- 자식 클래스에 새로운 메서드를 추가할 수 있다. 아래와 같이 정의하면 기존 Car 클래스의 메서드들과 함께 새로운 메서드 fly() 도 사용할 수 있다."
   ]
  },
  {
   "cell_type": "code",
   "execution_count": 29,
   "id": "dbb3a3a6",
   "metadata": {},
   "outputs": [],
   "source": [
    "class NewCar(Car):\n",
    "    def fly(self):\n",
    "        print(\"I'm flying!! This is the new car!!\")"
   ]
  },
  {
   "cell_type": "markdown",
   "id": "8ab1e6c6",
   "metadata": {},
   "source": [
    "#### 메서드 재정의하기(override)\n",
    "- 자식 클래스의 drive() 메서드에 \"I'm driving and can fly\"라는 문구가 출력되는 메서드를 정의하려고 할 때, 이렇게 기존에 있는 메서드를 변경하는 것을 메서드 오버라이드(재정의, override) 라고 한다."
   ]
  },
  {
   "cell_type": "code",
   "execution_count": 30,
   "id": "90a3bbf5",
   "metadata": {},
   "outputs": [],
   "source": [
    "class NewCar(Car):\n",
    "    def fly(self): # 메서드 추가(상속받은 클래스에서 없는 메소드를 정의)\n",
    "        print(\"I'm flying!! This is the new car!!\")\n",
    "\n",
    "    def drive(self): # 메서드 재정의(상속받은 클래스에서 있는 메소드를 다시 정의)\n",
    "        print(\"I'm driving and can fly\")"
   ]
  },
  {
   "cell_type": "markdown",
   "id": "f8fcd799",
   "metadata": {},
   "source": [
    "#### 부모 메서드 호출하기 super()\n",
    "- 부모 메서드 호출은 super() 라는 함수를 이용한다. super()는 파이썬 내장함수이다. 자식 클래스에서 부모 클래스의 메서드를 호출하고 싶을 때 사용한다.\n",
    "- [super()](https://docs.python.org/3/library/functions.html#super) 함수 문법\n",
    " - def (부모클래스의)메서드이름():  \n",
    "\tsuper().메서드이름()"
   ]
  },
  {
   "cell_type": "code",
   "execution_count": 32,
   "id": "f330c1a3",
   "metadata": {},
   "outputs": [],
   "source": [
    "# 1번\n",
    "class NewCar(Car):\n",
    "    def __init__(self, color, category, maker):\n",
    "        self.color = color\n",
    "        self.category = category\n",
    "        self.maker = maker\n",
    "        \n",
    "    def fly(self):\n",
    "        print(\"I'm flying!! This is the new car!!\")\n",
    "\n",
    "    def accel(self, speed_up, level=1, current_speed=10):\n",
    "        self.boost[level] = {1 : 0, 2 : 30, 3 : 50}\n",
    "        self.speed_up = speed_up + self.boost[level]\n",
    "        self.current_speed = current_speed + self.speed_up\n",
    "        print(\"speed up\", self.speed_up, \"driving at\", self.current_speed)"
   ]
  },
  {
   "cell_type": "code",
   "execution_count": 33,
   "id": "d9a7ee53",
   "metadata": {},
   "outputs": [],
   "source": [
    "# 2번\n",
    "class NewCar(Car):\n",
    "    def __init__(self, color, category, maker):\n",
    "        super().__init__(color, category)\n",
    "        self.maker = maker\n",
    "\n",
    "    def fly(self):\n",
    "        print(\"I'm flying!! This is the new car!!\")\n",
    "\n",
    "    def accel(self, speed_up, level=1, current_speed=10):\n",
    "        self.boost[level] = {1 : 0, 2 : 30, 3 : 50}\n",
    "        self.speed_up = speed_up + self.boost[level]\n",
    "        self.current_speed = current_speed + self.speed_up\n",
    "        print(\"speed up\", self.speed_up, \"driving at\", self.current_speed)"
   ]
  },
  {
   "cell_type": "markdown",
   "id": "d95b2d66",
   "metadata": {},
   "source": [
    "- 자식 클래스는 부모 클래스의 메서드를 그대로 이어받을 수 있고, 기능을 추가하고 싶다면 메서드 오버라이드라는 기능을 사용하면 되는데 메서드를 또 호출해야 하는 이유는 무엇일까? super()가 언제 필요한 것인가? -> 만약 메서드를 오버라이드 했다면 상속받은 클래스 하나하나의 초기화 코드를 변경해 주어야 한다. 하지만 super() 를 사용해 변수를 초기화하면 부모 클래스만 변경하면 된다. 즉, 부모 클래스의 변경사항이 그대로 자식 클래스에 반영된다. (그래서 1번 코드가 아닌 2번 코드를 사용한다.)\n",
    "- NewCar 클래스 : Car 클래스를 상속받은 NewCar 클래스의 초기화 함수(생성자) __ init __ () 메서드에 color, category 속성은 동일하게 유지한 채 maker 속성을 추가"
   ]
  },
  {
   "cell_type": "code",
   "execution_count": 34,
   "id": "2f745fa1",
   "metadata": {},
   "outputs": [
    {
     "name": "stdout",
     "output_type": "stream",
     "text": [
      "2020Y sports car\n"
     ]
    }
   ],
   "source": [
    "class Car:\n",
    "    Manufacture = \"India\"\n",
    "\n",
    "    def __init__(self, color='red', category='sedan'):\n",
    "        self.color = color \n",
    "        self.category = '2020Y '+ category\n",
    "\n",
    "\n",
    "class NewCar(Car):\n",
    "    def __init__(self, color, category, maker):\n",
    "        super().__init__(color, category)\n",
    "        self.maker = maker\n",
    "\n",
    "newcar = NewCar('red','sports car', 'Kia')\n",
    "print(newcar.category)"
   ]
  },
  {
   "cell_type": "markdown",
   "id": "4fb38137",
   "metadata": {},
   "source": [
    "### class 전체 요약\n",
    "1.클래스 선언\n",
    "\n",
    "2.클래스 사용\n",
    " - \"객체의 인스턴스\" \n",
    " \n",
    "3.클래스는 동작과 상태를 갖는다.\n",
    " - 상태(State): 속성(Attribute)로 표현, 일명 변수\n",
    " - 동작(Behavior): Methode로 표현, 일명 함수\n",
    " - 객체는 동작은 공유하지만 상태는 공유하지 않는다. \n",
    " \n",
    "4.생성자 __ init __\n",
    "\n",
    "5.클래스 변수와 인스턴스 변수\n",
    " - 클래스에 선언된 속성은 클래스 변수라고 하며 이 클래스에 의해 생성된 모든 객체에 대해 같은 속성(값)을 갖는다.\n",
    " - 객체가 인스턴스화될 때마다 새로운 값이 할당되며 서로 다른 객체 간에는 속성(값)을 공유할 수 없다. \n",
    " \n",
    "6.상속\n",
    " - 메서드 추가, 메서드 오버라이드, 부모 메서드 호출하기"
   ]
  },
  {
   "cell_type": "markdown",
   "id": "d32db11f",
   "metadata": {},
   "source": [
    "## 7-9. n면체 주사위 만들기 (1) 기획\n",
    "#### 기능\n",
    "- 주사위의 면의 개수 n을 입력할 수 있다.\n",
    "- 주사위를 던지면 1~n 눈의 수 중에서 랜덤으로 값을 출력한다."
   ]
  },
  {
   "cell_type": "markdown",
   "id": "665735c7",
   "metadata": {},
   "source": [
    "#### class FunnyDice\n",
    "- n면체 주사위 클래스 이름은 FunnyDice 라고 한다.\n",
    "- 주사위 면의 개수 n을 인스턴스 변수로 선언해 주사위 면의 개수 n을 입력할 수 있게 한다.\n",
    "- throw 란 메소드로 던져서 1 ~ n 중 하나의 값이 나오게 한다.\n",
    "- 주사위의 값을 특정한 값으로 세팅하기 : setval 이란 기능을 통해 특정 값을 user가 선택할 수 있는 치팅 기능을 넣smsek\n",
    "- 현재 주사위 값 얻기 : 주사위를 던졌든, 주사위 값을 세팅했던지 주사위의 값을 user한테 알려줘야 한다. getval 이란 기능을 추가해서 user가 현재 주사위의 값을 읽을 수 있게 해준다."
   ]
  },
  {
   "cell_type": "markdown",
   "id": "69010c40",
   "metadata": {},
   "source": [
    "## 7-10. n면체 주사위 만들기 (2) 주 프로그램 - main 함수\n",
    "1.입력받기\n",
    " - n이란 변수명에 주사위 면의 수를 입력받는다.\n",
    " - 이 변수는 get_inputs() 함수를 호출해서 받는다.\n",
    " - 코드로 표현하면: n = get_inputs()\n",
    "\n",
    "2.주사위 객체를 만들기\n",
    " - 주사위 객체는 FunnyDice란 클래스에서 만들어진 인스턴스. (인스턴스 객체명은 mydice)\n",
    " - mydice를 FunnyDice의 클래스로부터 인스턴스 객체로 만든다.\n",
    " - 이 mydice 객체는 위의 변수 n를 인자로 받으며 이 값은 객체의 속성으로 초기화 시킬 수 있게 한다.\n",
    " - 코드로 표현: mydice = FunnyDice(n)\n",
    "\n",
    "3.아직 함수 안의 get_inputs() 함수와 FunnyDice 클래스는 설계하지 않았지만, 위 내용들이 대략적으로 들어가 있다. mydice.throw()나 mydice.getval()은 FunnyDice 클래스의 메서드로 구현할 것이다."
   ]
  },
  {
   "cell_type": "code",
   "execution_count": 35,
   "id": "4c190bb4",
   "metadata": {},
   "outputs": [],
   "source": [
    "def main():\n",
    "    n = get_inputs()\n",
    "    mydice = FunnyDice(n)\n",
    "    mydice.throw()\n",
    "    print(\"행운의 숫자는? {}\".format(mydice.getval()))"
   ]
  },
  {
   "cell_type": "markdown",
   "id": "470d814b",
   "metadata": {},
   "source": [
    "## 7-11. n면체 주사위 만들기 (3) FunnyDice 클래스"
   ]
  },
  {
   "cell_type": "code",
   "execution_count": 36,
   "id": "046973b7",
   "metadata": {},
   "outputs": [],
   "source": [
    "# baseline\n",
    "class FunnyDice:\n",
    "    def __init__(self, n):\n",
    "            self.n = n\n",
    "    \n",
    "    def throw(self):\n",
    "        pass\n",
    "    \n",
    "    def getval(self):\n",
    "        pass\n",
    "\n",
    "    def setval(self, val):\n",
    "        pass"
   ]
  },
  {
   "cell_type": "code",
   "execution_count": 37,
   "id": "24d03b4a",
   "metadata": {},
   "outputs": [],
   "source": [
    "# 생성자 __init__ 구현\n",
    "from random import randrange\n",
    "\n",
    "class FunnyDice:\n",
    "    def __init__(self, n=6):\n",
    "        self.n = int(n)\n",
    "        self.numbers = list(range(1, n+1))\n",
    "        self.index = randrange(0, self.n)\n",
    "        self.val = self.numbers[self.index]"
   ]
  },
  {
   "cell_type": "markdown",
   "id": "f5040772",
   "metadata": {},
   "source": [
    "1.파라미터 n\n",
    " - n의 디폴트 값으로 6을 지정. 인스턴스 객체를 만들 때 인자를 주지 않으면 6면체 주사위가 만들어진다.\n",
    " - n을 정수로 형변환\n",
    " \n",
    "2.인스턴스 변수\n",
    " - 인스턴스 변수에 numbers, index, val을 추가\n",
    " - self.numbers는 주사위 눈들. range() 함수를 이용해서 1부터 n+1까지의 리스트를 만들기\n",
    " - self.index 는 number 리스트의 인덱스. 주사위를 던지기 전 눈의 수를 위해 인덱스 변수도 추가. 인덱스는 파이썬 random 모듈의 randrange()함수를 이용해서 랜덤으로 나오게 한다.\n",
    " - self.val은 주사위의 눈.\n",
    "\n",
    "3.self (파이썬 클래스 기본 문법)"
   ]
  },
  {
   "cell_type": "code",
   "execution_count": 38,
   "id": "420aa132",
   "metadata": {},
   "outputs": [],
   "source": [
    "# throw 와 getval 메서드\n",
    "from random import randrange\n",
    "\n",
    "class FunnyDice:\n",
    "    def throw(self):\n",
    "        self.index = randrange(0, self.n)\n",
    "        self.val = self.numbers[self.index]\n",
    "    \n",
    "    def getval(self):\n",
    "        return self.val"
   ]
  },
  {
   "cell_type": "markdown",
   "id": "b2fe589c",
   "metadata": {},
   "source": [
    "1.throw\n",
    " - 랜덤으로 주사위 눈이 나오게 한다. \n",
    "\n",
    "2.getval\n",
    " - 주사위 눈 변수 val을 반환한다. getval 메서드를 호출하면 주사위 눈의 값을 얻을 수 있다. (주사위 눈 속성에 바로 접근할 수도 있지만 일반적으로 이렇게 속성에 접근하는 메서드를 구현하여 제공한다. 파이썬 클린 코드, Design Pattern 참고.)\n"
   ]
  },
  {
   "cell_type": "code",
   "execution_count": 39,
   "id": "acc8ae7d",
   "metadata": {},
   "outputs": [],
   "source": [
    "# setval 메소드\n",
    "from random import randrange\n",
    "\n",
    "class FunnyDice:    \n",
    "    def setval(self, val:int):\n",
    "        if val <= self.n:\n",
    "            self.val = val\n",
    "        else:\n",
    "            msg = \"주사위에 없는 숫자입니다. 주사위는 1 ~ {0}까지 있습니다. \".format(self.n)\n",
    "            raise ValueError(msg)"
   ]
  },
  {
   "cell_type": "markdown",
   "id": "74f2b9a4",
   "metadata": {},
   "source": [
    "- 사용자가 주사위 눈을 세팅할 수 있게끔 하는 메서드이다. 만약 범위 밖의 숫자를 세팅하려고 하면 에러를 발생시키는 로직을 조건문을 이용해 구현한다."
   ]
  },
  {
   "cell_type": "code",
   "execution_count": 40,
   "id": "fa3bd964",
   "metadata": {},
   "outputs": [],
   "source": [
    "# 전체 코드\n",
    "class FunnyDice:\n",
    "    def __init__(self, n=6):\n",
    "        self.n = int(n)\n",
    "        self.numbers = list(range(1, n+1))\n",
    "        self.index = randrange(0, self.n)\n",
    "        self.val = self.numbers[self.index]\n",
    "\n",
    "    def throw(self):\n",
    "        self.index = randrange(0, self.n)\n",
    "        self.val = self.numbers[self.index]\n",
    "\n",
    "    def getval(self):\n",
    "        return self.val\n",
    "\n",
    "    def setval(self, val):\n",
    "        if val <= self.n:\n",
    "            self.val = val\n",
    "        else:\n",
    "            msg = \"주사위에 없는 숫자입니다. 주사위는 1 ~ {0}까지 있습니다. \".format(self.n)\n",
    "            raise ValueError(msg)"
   ]
  },
  {
   "cell_type": "markdown",
   "id": "80d4a637",
   "metadata": {},
   "source": [
    "## 7-12. n면체 주사위 만들기 (4) FunnyDice 클래스 테스트, get_input 함수"
   ]
  },
  {
   "cell_type": "code",
   "execution_count": 41,
   "id": "c7a99afb",
   "metadata": {},
   "outputs": [
    {
     "name": "stdout",
     "output_type": "stream",
     "text": [
      "6\n"
     ]
    },
    {
     "ename": "ValueError",
     "evalue": "주사위에 없는 숫자입니다. 주사위는 1 ~ 6까지 있습니다. ",
     "output_type": "error",
     "traceback": [
      "\u001b[0;31m---------------------------------------------------------------------------\u001b[0m",
      "\u001b[0;31mValueError\u001b[0m                                Traceback (most recent call last)",
      "\u001b[0;32m/tmp/ipykernel_35/2911006985.py\u001b[0m in \u001b[0;36m<module>\u001b[0;34m\u001b[0m\n\u001b[1;32m      2\u001b[0m \u001b[0mlucknum\u001b[0m\u001b[0;34m.\u001b[0m\u001b[0mthrow\u001b[0m\u001b[0;34m(\u001b[0m\u001b[0;34m)\u001b[0m\u001b[0;34m\u001b[0m\u001b[0;34m\u001b[0m\u001b[0m\n\u001b[1;32m      3\u001b[0m \u001b[0mprint\u001b[0m\u001b[0;34m(\u001b[0m\u001b[0mlucknum\u001b[0m\u001b[0;34m.\u001b[0m\u001b[0mgetval\u001b[0m\u001b[0;34m(\u001b[0m\u001b[0;34m)\u001b[0m\u001b[0;34m)\u001b[0m\u001b[0;34m\u001b[0m\u001b[0;34m\u001b[0m\u001b[0m\n\u001b[0;32m----> 4\u001b[0;31m \u001b[0mlucknum\u001b[0m\u001b[0;34m.\u001b[0m\u001b[0msetval\u001b[0m\u001b[0;34m(\u001b[0m\u001b[0;36m7\u001b[0m\u001b[0;34m)\u001b[0m\u001b[0;34m\u001b[0m\u001b[0;34m\u001b[0m\u001b[0m\n\u001b[0m",
      "\u001b[0;32m/tmp/ipykernel_35/2377483956.py\u001b[0m in \u001b[0;36msetval\u001b[0;34m(self, val)\u001b[0m\n\u001b[1;32m     19\u001b[0m         \u001b[0;32melse\u001b[0m\u001b[0;34m:\u001b[0m\u001b[0;34m\u001b[0m\u001b[0;34m\u001b[0m\u001b[0m\n\u001b[1;32m     20\u001b[0m             \u001b[0mmsg\u001b[0m \u001b[0;34m=\u001b[0m \u001b[0;34m\"주사위에 없는 숫자입니다. 주사위는 1 ~ {0}까지 있습니다. \"\u001b[0m\u001b[0;34m.\u001b[0m\u001b[0mformat\u001b[0m\u001b[0;34m(\u001b[0m\u001b[0mself\u001b[0m\u001b[0;34m.\u001b[0m\u001b[0mn\u001b[0m\u001b[0;34m)\u001b[0m\u001b[0;34m\u001b[0m\u001b[0;34m\u001b[0m\u001b[0m\n\u001b[0;32m---> 21\u001b[0;31m             \u001b[0;32mraise\u001b[0m \u001b[0mValueError\u001b[0m\u001b[0;34m(\u001b[0m\u001b[0mmsg\u001b[0m\u001b[0;34m)\u001b[0m\u001b[0;34m\u001b[0m\u001b[0;34m\u001b[0m\u001b[0m\n\u001b[0m",
      "\u001b[0;31mValueError\u001b[0m: 주사위에 없는 숫자입니다. 주사위는 1 ~ 6까지 있습니다. "
     ]
    }
   ],
   "source": [
    "# FunnyDice 클래스를 인스턴스 객체로 만들고 throw(), getval(), setval() 메서드를 각각 동작시켜 보기\n",
    "lucknum = FunnyDice()\n",
    "lucknum.throw()\n",
    "print(lucknum.getval())\n",
    "lucknum.setval(7)"
   ]
  },
  {
   "cell_type": "code",
   "execution_count": 42,
   "id": "461e611c",
   "metadata": {},
   "outputs": [],
   "source": [
    "# get_inputs()함수 만들기\n",
    "def get_inputs():\n",
    "    n = int(input(\"주사위 면의 개수를 입력하세요: \"))\n",
    "    return n"
   ]
  },
  {
   "cell_type": "markdown",
   "id": "7f59b402",
   "metadata": {},
   "source": [
    "- main() 함수를 설계할 때, get_inputs()에서 사용자로부터 n면체 숫자 n값을 받게 한다다. 파이썬 내장함수인 input 함수를 이용한다."
   ]
  },
  {
   "cell_type": "markdown",
   "id": "a0570f42",
   "metadata": {},
   "source": [
    "## 7-13. n면체 주사위 만들기 (5) 완성 코드"
   ]
  },
  {
   "cell_type": "code",
   "execution_count": 43,
   "id": "08ab5887",
   "metadata": {},
   "outputs": [
    {
     "name": "stdout",
     "output_type": "stream",
     "text": [
      "주사위 면의 개수를 입력하세요: 77\n",
      "행운의 숫자는? 5\n"
     ]
    }
   ],
   "source": [
    "# funnydice\n",
    "\n",
    "from random import randrange\n",
    "\n",
    "class FunnyDice:\n",
    "    def __init__(self, n=6):\n",
    "        self.n = n\n",
    "        self.options = list(range(1, n+1))\n",
    "        self.index = randrange(0, self.n)\n",
    "        self.val = self.options[self.index]\n",
    "    \n",
    "    def throw(self):\n",
    "        self.index = randrange(0, self.n)\n",
    "        self.val = self.options[self.index]\n",
    "    \n",
    "    def getval(self):\n",
    "        return self.val\n",
    "    \n",
    "    def setval(self, val):\n",
    "        if val <= self.n:\n",
    "            self.val = val\n",
    "        else:\n",
    "            msg = \"주사위에 없는 숫자입니다. 주사위는 1 ~ {0}까지 있습니다. \".format(self.n)\n",
    "            raise ValueError(msg)\n",
    "\n",
    "def get_inputs():\n",
    "    n = int(input(\"주사위 면의 개수를 입력하세요: \"))\n",
    "    return n\n",
    "\n",
    "def main():\n",
    "    n = get_inputs()\n",
    "    mydice = FunnyDice(n)\n",
    "    mydice.throw()\n",
    "    print(\"행운의 숫자는? {0}\".format(mydice.getval()))\n",
    "\n",
    "if __name__ == '__main__':\n",
    "    main()"
   ]
  }
 ],
 "metadata": {
  "kernelspec": {
   "display_name": "Python 3 (ipykernel)",
   "language": "python",
   "name": "python3"
  },
  "language_info": {
   "codemirror_mode": {
    "name": "ipython",
    "version": 3
   },
   "file_extension": ".py",
   "mimetype": "text/x-python",
   "name": "python",
   "nbconvert_exporter": "python",
   "pygments_lexer": "ipython3",
   "version": "3.9.7"
  }
 },
 "nbformat": 4,
 "nbformat_minor": 5
}
