{
 "cells": [
  {
   "cell_type": "markdown",
   "id": "df99af0e",
   "metadata": {},
   "source": [
    "# 19강. 딥러닝 레이어의 이해(2) Embedding, Recurrent"
   ]
  },
  {
   "cell_type": "code",
   "execution_count": 1,
   "id": "95c29771",
   "metadata": {},
   "outputs": [
    {
     "name": "stdout",
     "output_type": "stream",
     "text": [
      "[[1. 0. 0. 0. 0. 0. 0. 0.]\n",
      " [1. 0. 0. 0. 0. 0. 0. 0.]\n",
      " [1. 0. 0. 0. 0. 0. 0. 0.]\n",
      " [1. 0. 0. 0. 0. 0. 0. 0.]\n",
      " [0. 1. 0. 0. 0. 0. 0. 0.]\n",
      " [0. 0. 1. 0. 0. 0. 0. 0.]\n",
      " [0. 0. 0. 1. 0. 0. 0. 0.]\n",
      " [0. 0. 0. 0. 1. 0. 0. 0.]\n",
      " [0. 0. 0. 0. 1. 0. 0. 0.]\n",
      " [0. 0. 0. 0. 1. 0. 0. 0.]]\n"
     ]
    }
   ],
   "source": [
    "import tensorflow as tf\n",
    "\n",
    "vocab = {      # 사용할 단어 사전 정의\n",
    "    \"i\": 0,\n",
    "    \"need\": 1,\n",
    "    \"some\": 2,\n",
    "    \"more\": 3,\n",
    "    \"coffee\": 4,\n",
    "    \"cake\": 5,\n",
    "    \"cat\": 6,\n",
    "    \"dog\": 7\n",
    "}\n",
    "\n",
    "sentence = \"i i i i need some more coffee coffee coffee\"\n",
    "# 위 sentence\n",
    "_input = [vocab[w] for w in sentence.split()]  # [0, 0, 0, 0, 1, 2, 3, 4, 4, 4]\n",
    "\n",
    "vocab_size = len(vocab)   # 8\n",
    "\n",
    "one_hot = tf.one_hot(_input, vocab_size)\n",
    "print(one_hot.numpy())    # 원-핫 인코딩 벡터를 출력"
   ]
  },
  {
   "cell_type": "code",
   "execution_count": 2,
   "id": "6c028316",
   "metadata": {},
   "outputs": [
    {
     "name": "stdout",
     "output_type": "stream",
     "text": [
      "Linear Weight\n",
      "[[ 0.1095081   0.04754949]\n",
      " [-0.00087059 -0.4585561 ]\n",
      " [ 0.47489047 -0.21553373]\n",
      " [-0.4481258   0.05675715]\n",
      " [-0.29208452 -0.51049817]\n",
      " [-0.407333   -0.54923016]\n",
      " [-0.09801555 -0.2199983 ]\n",
      " [-0.7615632   0.05789697]]\n",
      "\n",
      "One-Hot Linear Result\n",
      "[[ 0.1095081   0.04754949]\n",
      " [ 0.1095081   0.04754949]\n",
      " [ 0.1095081   0.04754949]\n",
      " [ 0.1095081   0.04754949]\n",
      " [-0.00087059 -0.4585561 ]\n",
      " [ 0.47489047 -0.21553373]\n",
      " [-0.4481258   0.05675715]\n",
      " [-0.29208452 -0.51049817]\n",
      " [-0.29208452 -0.51049817]\n",
      " [-0.29208452 -0.51049817]]\n"
     ]
    }
   ],
   "source": [
    "# 문자 -> 원핫벡터 -> 리니어 -> 가중치\n",
    "distribution_size = 2   # 2차원으로 분산 표현(보기에 더 좋음)\n",
    "linear = tf.keras.layers.Dense(units=distribution_size, use_bias=False)\n",
    "one_hot_linear = linear(one_hot)\n",
    "\n",
    "print(\"Linear Weight\")\n",
    "print(linear.weights[0].numpy()) # Dense로 넣을 때 가중치(임의로 설정됨)\n",
    "\n",
    "print(\"\\nOne-Hot Linear Result\")\n",
    "print(one_hot_linear.numpy())"
   ]
  },
  {
   "cell_type": "markdown",
   "id": "956abcdd",
   "metadata": {},
   "source": [
    "원핫벡터에 linear layer 적용 -> Linear Layer의 Weight에서 단어 인덱스 배열 [ 0, 0, 0, 0, 1, 2, 3, 4, 4, 4 ]에 해당하는 행만 읽어오는 효과  "
   ]
  },
  {
   "cell_type": "code",
   "execution_count": 3,
   "id": "d468b0c9",
   "metadata": {},
   "outputs": [
    {
     "name": "stdout",
     "output_type": "stream",
     "text": [
      "Embedding을 진행할 문장: (1, 3)\n",
      "Embedding된 문장: (1, 3, 100)\n",
      "Embedding Layer의 Weight 형태: (64, 100)\n"
     ]
    }
   ],
   "source": [
    "# 지금까지의 복잡한 과정을 임베딩으로 한번에 가능\n",
    "some_words = tf.constant([[3, 57, 35]])\n",
    "# 3번 단어 / 57번 단어 / 35번 단어로 이루어진 한 문장입니다.\n",
    "\n",
    "# 원핫인코딩 후 임베딩\n",
    "print(\"Embedding을 진행할 문장:\", some_words.shape)\n",
    "embedding_layer = tf.keras.layers.Embedding(input_dim=64, output_dim=100)\n",
    "# 총 64개의 단어를 포함한 Embedding 레이어를 선언할 것이고(64차원으로 학습),\n",
    "# 각 단어는 100차원으로 분산 표현 할 것입니다(100차원으로 표현).\n",
    "# 64, 100은 학습 등의 숫자이므로 크게 신경쓰지 말기\n",
    "\n",
    "print(\"Embedding된 문장:\", embedding_layer(some_words).shape)\n",
    "print(\"Embedding Layer의 Weight 형태:\", embedding_layer.weights[0].shape)"
   ]
  },
  {
   "cell_type": "code",
   "execution_count": null,
   "id": "8825bbb5",
   "metadata": {},
   "outputs": [],
   "source": []
  },
  {
   "cell_type": "code",
   "execution_count": null,
   "id": "c719a6b3",
   "metadata": {},
   "outputs": [],
   "source": []
  }
 ],
 "metadata": {
  "kernelspec": {
   "display_name": "Python 3 (ipykernel)",
   "language": "python",
   "name": "python3"
  },
  "language_info": {
   "codemirror_mode": {
    "name": "ipython",
    "version": 3
   },
   "file_extension": ".py",
   "mimetype": "text/x-python",
   "name": "python",
   "nbconvert_exporter": "python",
   "pygments_lexer": "ipython3",
   "version": "3.9.7"
  }
 },
 "nbformat": 4,
 "nbformat_minor": 5
}
