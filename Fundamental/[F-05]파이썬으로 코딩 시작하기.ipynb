{
 "cells": [
  {
   "cell_type": "markdown",
   "id": "5e1e833d",
   "metadata": {},
   "source": [
    "# 5강. 파이썬으로 코딩 시작하기\n",
    "## 5-2. 함수와 변수 (1) 함수 불러보기\n",
    "### 함수 호출하기\n",
    "- 수학에서의 함수란 (아주 단순화하면) 입력값(input)에 대해 출력값(output)을 가지는 관계를 가리킨다. f:x→y 또는 f(x)=y로 표기하는데, 여기서 f는 함수, x는 입력값, y는 출력값을 가리킨다.\n",
    "- 프로그래밍에서의 함수의 의미는 조금 달라진다. 함수는 불려진 시점에 특정한 작업을 수행하며, 입력값과 출력값은 있을 수도 없을 수도 있다."
   ]
  },
  {
   "cell_type": "code",
   "execution_count": 1,
   "id": "3fe9287e",
   "metadata": {},
   "outputs": [
    {
     "name": "stdout",
     "output_type": "stream",
     "text": [
      "\n"
     ]
    }
   ],
   "source": [
    "print()"
   ]
  },
  {
   "cell_type": "markdown",
   "id": "e9f418a4",
   "metadata": {},
   "source": [
    "- print()라는 함수는 파이썬에 의해 기본적으로 제공되는 함수로, 화면에 문자열을 표시해 주는 역할을 한다.\n",
    "- 아무런 입력값이 없기 때문에 [Output]을 확인해 보면 아무것도 없다. 어떤 함수들은 입력값이 필수라서 입력값이 없을 때 오류를 뱉기도 한다."
   ]
  },
  {
   "cell_type": "code",
   "execution_count": 2,
   "id": "8c62b255",
   "metadata": {},
   "outputs": [
    {
     "name": "stdout",
     "output_type": "stream",
     "text": [
      "1\n"
     ]
    }
   ],
   "source": [
    "print(1)"
   ]
  },
  {
   "cell_type": "markdown",
   "id": "1dca2889",
   "metadata": {},
   "source": [
    "- 수학에서 함수를 y=f(x)로 표기하는데, 이 함수에서 f와 x가 각각 함수의 이름과 입력값을 의미하듯이, print와 괄호 속 1도 동일한 의미를 지닌다. 프로그래밍 분야에서는 입력값을 주로 인자(argument) 라고 부른다."
   ]
  },
  {
   "cell_type": "code",
   "execution_count": 3,
   "id": "e1afbfb3",
   "metadata": {},
   "outputs": [
    {
     "name": "stdout",
     "output_type": "stream",
     "text": [
      "2\n"
     ]
    }
   ],
   "source": [
    "print(1 + 1)"
   ]
  },
  {
   "cell_type": "markdown",
   "id": "a645d285",
   "metadata": {},
   "source": [
    "- 수학의 계산식과 같이 괄호 안의 내용이 먼저 계산된다. \n",
    "- 숫자 대신 글자를 표시하고 싶다면, 프로그램의 코드와 구분해 주기 위해 따옴표 ' 또는 쌍따옴표 \"로 내용을 감싸줘야 한다. 이렇게 감싼 글자들의 한 묶음을 하나의 문자열(string) 이라고 한다."
   ]
  },
  {
   "cell_type": "code",
   "execution_count": 4,
   "id": "35b08157",
   "metadata": {},
   "outputs": [
    {
     "name": "stdout",
     "output_type": "stream",
     "text": [
      "Hello\n"
     ]
    }
   ],
   "source": [
    "print('Hello')"
   ]
  },
  {
   "cell_type": "code",
   "execution_count": 5,
   "id": "4b71eae5",
   "metadata": {},
   "outputs": [
    {
     "data": {
      "text/plain": [
       "str"
      ]
     },
     "execution_count": 5,
     "metadata": {},
     "output_type": "execute_result"
    }
   ],
   "source": [
    "type('Hello') # 타입 : str(문자열)"
   ]
  },
  {
   "cell_type": "code",
   "execution_count": 6,
   "id": "9cf60821",
   "metadata": {},
   "outputs": [
    {
     "name": "stdout",
     "output_type": "stream",
     "text": [
      "Hello world!\n"
     ]
    }
   ],
   "source": [
    "print('Hello ' + 'world!')"
   ]
  },
  {
   "cell_type": "code",
   "execution_count": 7,
   "id": "56274ef9",
   "metadata": {},
   "outputs": [
    {
     "ename": "TypeError",
     "evalue": "unsupported operand type(s) for -: 'str' and 'str'",
     "output_type": "error",
     "traceback": [
      "\u001b[0;31m---------------------------------------------------------------------------\u001b[0m",
      "\u001b[0;31mTypeError\u001b[0m                                 Traceback (most recent call last)",
      "\u001b[0;32m/tmp/ipykernel_31/3909732372.py\u001b[0m in \u001b[0;36m<module>\u001b[0;34m\u001b[0m\n\u001b[0;32m----> 1\u001b[0;31m \u001b[0mprint\u001b[0m\u001b[0;34m(\u001b[0m\u001b[0;34m'Hello'\u001b[0m \u001b[0;34m-\u001b[0m \u001b[0;34m'o'\u001b[0m\u001b[0;34m)\u001b[0m\u001b[0;34m\u001b[0m\u001b[0;34m\u001b[0m\u001b[0m\n\u001b[0m",
      "\u001b[0;31mTypeError\u001b[0m: unsupported operand type(s) for -: 'str' and 'str'"
     ]
    }
   ],
   "source": [
    "print('Hello' - 'o')"
   ]
  },
  {
   "cell_type": "markdown",
   "id": "e8a03321",
   "metadata": {},
   "source": [
    "- 파이썬에서는 문자열끼리 더하면 각각의 내용(문자열)을 이어준다.\n",
    "- 반면, 문자열끼리 빼면 오류가 난다. 발생된 오류의 유형은 TypeError이고, str 타입과 str 타입 간에 - 연산은 지원하지 않음을 알 수 있다."
   ]
  },
  {
   "cell_type": "markdown",
   "id": "5eb7f7f4",
   "metadata": {},
   "source": [
    "## 5-3. 함수와 변수 (2) 변수 사용하기\n",
    "- f(x)=y에서 f()가 '함수'라면, 입력값과 출력값인 x와 y는 '변수'에 해당된다."
   ]
  },
  {
   "cell_type": "code",
   "execution_count": 8,
   "id": "87fe4b92",
   "metadata": {},
   "outputs": [
    {
     "name": "stdout",
     "output_type": "stream",
     "text": [
      "안녕하세요?\n"
     ]
    }
   ],
   "source": [
    "greeting = '안녕하세요?' \n",
    "#- greeting이라는 변수에 '안녕하세요?'라는 문자열을 저장\n",
    "print(greeting) \n",
    "#- greeting을 출력"
   ]
  },
  {
   "cell_type": "markdown",
   "id": "c10bad37",
   "metadata": {},
   "source": [
    "- 사전에서 '변수'를 검색해 보면, 어떤 관계나 범위 안에서 여러 가지 값으로 변할 수 있는 수 라고 정의되어 있다. 이처럼 변수는 스스로 값을 갖기보단 다른 값을 가리키는 존재이다.\n",
    "- 위 코드의 첫 번째 줄에서 greeting이라는 변수가 안녕하세요?라는 문자열을 가리키도록 정의했고, 세 번째 줄에서는 print() 함수에 greeting 변수를 입력으로 주어 greeting 변수가 가리키는 값을 화면에 표시하도록 했다. 즉, 변수를 정의하기 위해서는 [변수명] = [변숫값]과 같은 형식을 취하면 되며, 이후에는 변수명으로 해당 변수값을 참조할 수 있다."
   ]
  },
  {
   "cell_type": "code",
   "execution_count": 9,
   "id": "43929cc3",
   "metadata": {},
   "outputs": [
    {
     "ename": "NameError",
     "evalue": "name 'something' is not defined",
     "output_type": "error",
     "traceback": [
      "\u001b[0;31m---------------------------------------------------------------------------\u001b[0m",
      "\u001b[0;31mNameError\u001b[0m                                 Traceback (most recent call last)",
      "\u001b[0;32m/tmp/ipykernel_31/1274272253.py\u001b[0m in \u001b[0;36m<module>\u001b[0;34m\u001b[0m\n\u001b[0;32m----> 1\u001b[0;31m \u001b[0mprint\u001b[0m\u001b[0;34m(\u001b[0m\u001b[0msomething\u001b[0m\u001b[0;34m)\u001b[0m\u001b[0;34m\u001b[0m\u001b[0;34m\u001b[0m\u001b[0m\n\u001b[0m",
      "\u001b[0;31mNameError\u001b[0m: name 'something' is not defined"
     ]
    }
   ],
   "source": [
    "print(something)"
   ]
  },
  {
   "cell_type": "markdown",
   "id": "6d810f32",
   "metadata": {},
   "source": [
    "- 변수를 정의(define)하기 전에 먼저 사용하려고 하면 오류가 난다. something이라는 변수명이 정의되지 않아서(not defined) 발생된 오류임을 확인할 수 있다."
   ]
  },
  {
   "cell_type": "code",
   "execution_count": 10,
   "id": "b703c854",
   "metadata": {},
   "outputs": [
    {
     "name": "stdout",
     "output_type": "stream",
     "text": [
      "안녕!\n"
     ]
    }
   ],
   "source": [
    "greeting = '안녕하세요?'\n",
    "greeting = '안녕!'\n",
    "print(greeting)"
   ]
  },
  {
   "cell_type": "markdown",
   "id": "1d3a3c77",
   "metadata": {},
   "source": [
    "- 같은 변수명을 재사용하게 될 경우에는 print() 함수가 불리는 시점의 greeting 변수의 값인 안녕!이 출력된다."
   ]
  },
  {
   "cell_type": "code",
   "execution_count": 11,
   "id": "9d66a795",
   "metadata": {},
   "outputs": [
    {
     "name": "stdout",
     "output_type": "stream",
     "text": [
      "안녕하세요?\n"
     ]
    }
   ],
   "source": [
    "greeting = '안녕하세요?'\n",
    "print(greeting)\n",
    "greeting = '안녕!'"
   ]
  },
  {
   "cell_type": "markdown",
   "id": "83356478",
   "metadata": {},
   "source": [
    "- 순서를 바꾸면 print() 함수가 불리는 시점의 greeting 변수의 값인 안녕하세요?가 출력된다."
   ]
  },
  {
   "cell_type": "markdown",
   "id": "0d35ffb7",
   "metadata": {},
   "source": [
    "## 5-4. 함수와 변수 (3) 새로운 함수를 정의하기\n",
    "- 이미 만들어진 함수를 부르는 것 외에 직접 함수를 만들 수도 있다.\n",
    "- 부르면 안녕!이라고 표시하는 함수를 정의해 본다. 함수는 내부에서 다른 함수를 부르거나 변수를 정의하는 등 다양한 작업을 할 수 있다. 따라서 함수를 정의하는 방법이 이전의 변수와는 조금 다릅니다. (참고 : 아래 코드는 함수를 정의할 뿐 함수 자체를 실행시키지는 않기 때문에 [Output]에 아무것도 뜨지 않는다.)"
   ]
  },
  {
   "cell_type": "code",
   "execution_count": 12,
   "id": "0bf1e061",
   "metadata": {},
   "outputs": [],
   "source": [
    "# say_hi() 함수 정의\n",
    "def say_hi():\n",
    "    print('안녕!')"
   ]
  },
  {
   "cell_type": "markdown",
   "id": "777e095c",
   "metadata": {},
   "source": [
    "- def는 함수를 정의(define) 할 때 사용하는 일종의 예약어이며, 함수명은 임의로 만들 수 있다. 함수명 뒤에 붙은 괄호는 이 함수에 입력으로 전달되는 값을 받는 자리이며, 입력값이 필요 없는 경우에는 위 코드처럼 함수명 뒤에 ()를 붙여주면 된다.\n",
    "- def 함수명() 뒤에 :를 붙여주고, 이어서 이 함수가 불릴 때 실행할 작업들을 한 줄씩 나열해 준다. 단, 해당 함수에 포함된 작업이라는 것을 나타내기 위해, def 줄부터 함수가 끝날 때까지 띄어쓰기 4칸으로 들여쓰기를 해주어야 합니다.\n",
    " - 4칸 들여쓰기 : Tab 버튼을 한 번만 누르시면 자동으로 인덴트가 주어진다. 다만, 코드 스타일에 따라 다를 수 있으며 구글 파이썬 스타일 가이드에 나와있듯이 탭과 스페이스를 혼용해서 사용하면 안 된다. 혼용한다면 IndentationError: unindent does not match any outer indentation level 같은 에러가 뜨니 주의! 협업할 때 주의!"
   ]
  },
  {
   "cell_type": "code",
   "execution_count": 13,
   "id": "71fc217d",
   "metadata": {},
   "outputs": [
    {
     "name": "stdout",
     "output_type": "stream",
     "text": [
      "안녕!\n"
     ]
    }
   ],
   "source": [
    "# say_hi() 함수 실행\n",
    "say_hi()"
   ]
  },
  {
   "cell_type": "code",
   "execution_count": 14,
   "id": "2849c011",
   "metadata": {},
   "outputs": [
    {
     "ename": "IndentationError",
     "evalue": "expected an indented block (1432544452.py, line 3)",
     "output_type": "error",
     "traceback": [
      "\u001b[0;36m  File \u001b[0;32m\"/tmp/ipykernel_31/1432544452.py\"\u001b[0;36m, line \u001b[0;32m3\u001b[0m\n\u001b[0;31m    print('안녕!')\u001b[0m\n\u001b[0m    ^\u001b[0m\n\u001b[0;31mIndentationError\u001b[0m\u001b[0;31m:\u001b[0m expected an indented block\n"
     ]
    }
   ],
   "source": [
    "# 4칸 들여쓰기를 안 한 경우\n",
    "def say_hi_no_indent():\n",
    "print('안녕!')"
   ]
  },
  {
   "cell_type": "markdown",
   "id": "b0b30d4e",
   "metadata": {},
   "source": [
    "- IndentationError가 발생한다. 들여쓰기 된 코드 블럭, 즉 indented block을 기대했는데 없다는 의미이다. def 줄의 다음 줄부터 함수 정의가 끝날 때까지는 들여쓰기를 유지해야 하며, 이 들여쓰기가 유지되는 구간을 블럭(block)이라고 한다. 즉, 파이썬에서 들여쓰기는 이 줄의 코드가 위 단계의 코드에 속한다는 것을 표시한다."
   ]
  },
  {
   "cell_type": "code",
   "execution_count": 15,
   "id": "cf12de18",
   "metadata": {},
   "outputs": [],
   "source": [
    "# say_hi_nice() 함수 정의\n",
    "def say_hi_nice():\n",
    "    print('안녕!')\n",
    "    print('반가워.')"
   ]
  },
  {
   "cell_type": "code",
   "execution_count": 16,
   "id": "654dfb0c",
   "metadata": {},
   "outputs": [
    {
     "name": "stdout",
     "output_type": "stream",
     "text": [
      "안녕!\n",
      "반가워.\n"
     ]
    }
   ],
   "source": [
    "# say_hi_nice() 함수 실헹\n",
    "say_hi_nice()"
   ]
  },
  {
   "cell_type": "markdown",
   "id": "ea9063db",
   "metadata": {},
   "source": [
    "## 5-5. 함수와 변수 (4) 스코프: 변수의 유효 범위\n",
    "- 함수 내에서도 변수를 정의할 수 있다. 하지만 이것은 함수 안에서만 일어난 일이라는 것을 명심해야 한다. 함수가 끝나면 해당 변수는 사라지고, 함수 밖에서 해당 변수를 들여다볼 수 없다."
   ]
  },
  {
   "cell_type": "code",
   "execution_count": 17,
   "id": "ed04d39b",
   "metadata": {},
   "outputs": [
    {
     "ename": "NameError",
     "evalue": "name 'goodbye' is not defined",
     "output_type": "error",
     "traceback": [
      "\u001b[0;31m---------------------------------------------------------------------------\u001b[0m",
      "\u001b[0;31mNameError\u001b[0m                                 Traceback (most recent call last)",
      "\u001b[0;32m/tmp/ipykernel_31/483019403.py\u001b[0m in \u001b[0;36m<module>\u001b[0;34m\u001b[0m\n\u001b[1;32m      2\u001b[0m     \u001b[0mgoodbye\u001b[0m \u001b[0;34m=\u001b[0m \u001b[0;34m'잘 가!'\u001b[0m\u001b[0;34m\u001b[0m\u001b[0;34m\u001b[0m\u001b[0m\n\u001b[1;32m      3\u001b[0m \u001b[0;34m\u001b[0m\u001b[0m\n\u001b[0;32m----> 4\u001b[0;31m \u001b[0mprint\u001b[0m\u001b[0;34m(\u001b[0m\u001b[0mgoodbye\u001b[0m\u001b[0;34m)\u001b[0m\u001b[0;34m\u001b[0m\u001b[0;34m\u001b[0m\u001b[0m\n\u001b[0m",
      "\u001b[0;31mNameError\u001b[0m: name 'goodbye' is not defined"
     ]
    }
   ],
   "source": [
    "# 함수 내에서 변수 정의 후 함수 밖에서 불러오기 -> 에러\n",
    "def say_goodbye():\n",
    "    goodbye = '잘 가!'\n",
    "\n",
    "print(goodbye)"
   ]
  },
  {
   "cell_type": "code",
   "execution_count": 18,
   "id": "d69884d3",
   "metadata": {},
   "outputs": [
    {
     "name": "stdout",
     "output_type": "stream",
     "text": [
      "하루\n",
      "시우\n"
     ]
    }
   ],
   "source": [
    "# 함수 밖에서 변수 정의 후 함수 내에서 불러오기\n",
    "name = '하루'\n",
    "\n",
    "def say_name():\n",
    "    print(name)\n",
    "\n",
    "say_name()\n",
    "\n",
    "name = '시우'\n",
    "\n",
    "say_name()"
   ]
  },
  {
   "cell_type": "code",
   "execution_count": 19,
   "id": "7bf0d1fc",
   "metadata": {},
   "outputs": [
    {
     "name": "stdout",
     "output_type": "stream",
     "text": [
      "하루\n"
     ]
    }
   ],
   "source": [
    "# 함수 내에서 변수 변경 후 함수 밖에서 불러오기 -> 변수 변경 x\n",
    "name = '하루'\n",
    "\n",
    "def change_name():\n",
    "    name = '시우'\n",
    "\n",
    "change_name() # 함수를 호출해도 아무 일도 일어나지 않는다.\n",
    "\n",
    "print(name)"
   ]
  },
  {
   "cell_type": "markdown",
   "id": "3227aec7",
   "metadata": {},
   "source": [
    "- 이처럼 특정 위치에서 어떤 변수에 접근할 수 있는지, 또 한 곳에서 정의된 변수가 어디까지 유효한지 정의된 범위를 변수의 스코프(scope) 라고 한다.\n",
    "- 즉, 위의 코드에서 name = '하루'는 함수 내부를 포함해 코드 어디에서든 참조할 수 있으므로, 전역 스코프(global scope) 를 갖는 변수라고 할 수 있다. 반대로 name = '시우'는 change_name() 내부에서 정의되어 밖에서 볼 수 없으므로, 지역 스코프(local scope) 를 갖는 변수이다."
   ]
  },
  {
   "cell_type": "markdown",
   "id": "f1257879",
   "metadata": {},
   "source": [
    "## 5-6. 함수와 변수 (5) 함수에 인자 전달하기\n",
    "- 원하는 이름을 주고 [이름], 안녕!을 표시하기 위해서는 명시적으로 함수에 입력값을 전달해 주어야 한다."
   ]
  },
  {
   "cell_type": "code",
   "execution_count": 20,
   "id": "c3c7c0af",
   "metadata": {},
   "outputs": [],
   "source": [
    "def say_hi_somebody(name):\n",
    "    print(name + ', 안녕!')"
   ]
  },
  {
   "cell_type": "code",
   "execution_count": 21,
   "id": "07a23bb8",
   "metadata": {},
   "outputs": [
    {
     "name": "stdout",
     "output_type": "stream",
     "text": [
      "준이, 안녕!\n"
     ]
    }
   ],
   "source": [
    "say_hi_somebody('준이')"
   ]
  },
  {
   "cell_type": "markdown",
   "id": "8a2b1c4e",
   "metadata": {},
   "source": [
    "- 함수를 정의하는 라인을 주목해 보면, 괄호 () 안에 name이라는 입력값이 정의된 것을 확인할 수 있다. 이 입력값의 자리에 들어오는 값은 해당 함수 내에서 name이라는 변수로 불러서 사용할 수 있다. 이처럼 입력값으로 주어진 인자(argument)를 받는 변수를 매개변수(parameter) 라고 한다. 즉, 위 예제에서 함수 내부의 name은 매개변수이고, 외부에서 함수를 부를 때 넣어준 '준이'는 그 매개변수에 들어가는 인자이다."
   ]
  },
  {
   "cell_type": "code",
   "execution_count": 22,
   "id": "8f70dcac",
   "metadata": {},
   "outputs": [
    {
     "ename": "TypeError",
     "evalue": "say_hi_somebody() missing 1 required positional argument: 'name'",
     "output_type": "error",
     "traceback": [
      "\u001b[0;31m---------------------------------------------------------------------------\u001b[0m",
      "\u001b[0;31mTypeError\u001b[0m                                 Traceback (most recent call last)",
      "\u001b[0;32m/tmp/ipykernel_31/2053129381.py\u001b[0m in \u001b[0;36m<module>\u001b[0;34m\u001b[0m\n\u001b[1;32m      1\u001b[0m \u001b[0;31m# 매개변수를 입력하지 않고 함수 호출 -> 오류\u001b[0m\u001b[0;34m\u001b[0m\u001b[0;34m\u001b[0m\u001b[0m\n\u001b[0;32m----> 2\u001b[0;31m \u001b[0msay_hi_somebody\u001b[0m\u001b[0;34m(\u001b[0m\u001b[0;34m)\u001b[0m\u001b[0;34m\u001b[0m\u001b[0;34m\u001b[0m\u001b[0m\n\u001b[0m",
      "\u001b[0;31mTypeError\u001b[0m: say_hi_somebody() missing 1 required positional argument: 'name'"
     ]
    }
   ],
   "source": [
    "# 매개변수를 입력하지 않고 함수 호출 -> 에러\n",
    "say_hi_somebody()"
   ]
  },
  {
   "cell_type": "markdown",
   "id": "5bff0096",
   "metadata": {},
   "source": [
    "- 오류 메시지는 say_hi_somebody()라는 함수가 name이라는 매개변수에 들어갈 필수 위치 기반 인자 하나를 누락했다고 한다. say_hi_somebody() 함수를 정의할 때 name이라는 매개변수를 정의했으니, 여기에 들어갈 인자를 빼고 부르면 안 된다는 말이다."
   ]
  },
  {
   "cell_type": "code",
   "execution_count": 24,
   "id": "ddc491a6",
   "metadata": {},
   "outputs": [
    {
     "ename": "TypeError",
     "evalue": "say_hi_nice() takes 0 positional arguments but 1 was given",
     "output_type": "error",
     "traceback": [
      "\u001b[0;31m---------------------------------------------------------------------------\u001b[0m",
      "\u001b[0;31mTypeError\u001b[0m                                 Traceback (most recent call last)",
      "\u001b[0;32m/tmp/ipykernel_31/2842177960.py\u001b[0m in \u001b[0;36m<module>\u001b[0;34m\u001b[0m\n\u001b[1;32m      1\u001b[0m \u001b[0;31m# 입력값 없이 정의했던 함수에 입력값을 넣어주기 -> 에러\u001b[0m\u001b[0;34m\u001b[0m\u001b[0;34m\u001b[0m\u001b[0m\n\u001b[0;32m----> 2\u001b[0;31m \u001b[0msay_hi_nice\u001b[0m\u001b[0;34m(\u001b[0m\u001b[0;34m'준이'\u001b[0m\u001b[0;34m)\u001b[0m\u001b[0;34m\u001b[0m\u001b[0;34m\u001b[0m\u001b[0m\n\u001b[0m",
      "\u001b[0;31mTypeError\u001b[0m: say_hi_nice() takes 0 positional arguments but 1 was given"
     ]
    }
   ],
   "source": [
    "# 입력값 없이 정의했던 함수에 입력값을 넣어주기 -> 에러\n",
    "say_hi_nice('준이')"
   ]
  },
  {
   "cell_type": "markdown",
   "id": "8934a982",
   "metadata": {},
   "source": [
    "- 오류 메시지는 say_hi_nice() 함수는 위치 기반 인자를 받지 않는데 한 개(준이)가 주어졌다고 한다. 따라서 함수를 호출할 때는 미리 정의된 입력값을 넣어야 한다."
   ]
  },
  {
   "cell_type": "code",
   "execution_count": 25,
   "id": "dcfd2432",
   "metadata": {},
   "outputs": [],
   "source": [
    "# print() 함수처럼 입력값이 있든 없든 상관없는 함수 정의하기\n",
    "def say_hi_default(name='somebody'):\n",
    "    print('안녕, ' + name + '!')"
   ]
  },
  {
   "cell_type": "code",
   "execution_count": 26,
   "id": "e12f1620",
   "metadata": {},
   "outputs": [
    {
     "name": "stdout",
     "output_type": "stream",
     "text": [
      "안녕, 준이!\n"
     ]
    }
   ],
   "source": [
    "say_hi_default('준이')"
   ]
  },
  {
   "cell_type": "code",
   "execution_count": 27,
   "id": "af9f1269",
   "metadata": {},
   "outputs": [
    {
     "name": "stdout",
     "output_type": "stream",
     "text": [
      "안녕, somebody!\n"
     ]
    }
   ],
   "source": [
    "say_hi_default()"
   ]
  },
  {
   "cell_type": "markdown",
   "id": "db636504",
   "metadata": {},
   "source": [
    "- 입력값이 주어지면 그 입력값을 그대로 표시하고, 없으면 somebody라는 값이 있는 것처럼 동작한다. 즉, 함수가 받을 매개변수의 기본값을 지정해 주면, 입력값이 없을 경우 해당 기본값을 사용하게 된다."
   ]
  },
  {
   "cell_type": "markdown",
   "id": "001a938b",
   "metadata": {},
   "source": [
    "## 5-7. 함수와 변수 (6) 함수에 인자 여러 개 한꺼번에 전달하기"
   ]
  },
  {
   "cell_type": "code",
   "execution_count": 28,
   "id": "74520daa",
   "metadata": {},
   "outputs": [],
   "source": [
    "# 인자가 여러 개인 함수\n",
    "def say_hi_couple(name1, name2):\n",
    "    print(name1 + ', ' + name2 + ' 안녕!')"
   ]
  },
  {
   "cell_type": "code",
   "execution_count": 29,
   "id": "74dfc48f",
   "metadata": {},
   "outputs": [
    {
     "name": "stdout",
     "output_type": "stream",
     "text": [
      "그리, 단테 안녕!\n"
     ]
    }
   ],
   "source": [
    "say_hi_couple('그리', '단테')"
   ]
  },
  {
   "cell_type": "code",
   "execution_count": 30,
   "id": "daea2296",
   "metadata": {},
   "outputs": [
    {
     "ename": "TypeError",
     "evalue": "say_hi_couple() missing 1 required positional argument: 'name2'",
     "output_type": "error",
     "traceback": [
      "\u001b[0;31m---------------------------------------------------------------------------\u001b[0m",
      "\u001b[0;31mTypeError\u001b[0m                                 Traceback (most recent call last)",
      "\u001b[0;32m/tmp/ipykernel_31/2355306791.py\u001b[0m in \u001b[0;36m<module>\u001b[0;34m\u001b[0m\n\u001b[1;32m      1\u001b[0m \u001b[0;31m# 이름을 하나만 넣기\u001b[0m\u001b[0;34m\u001b[0m\u001b[0;34m\u001b[0m\u001b[0m\n\u001b[0;32m----> 2\u001b[0;31m \u001b[0msay_hi_couple\u001b[0m\u001b[0;34m(\u001b[0m\u001b[0;34m'그리'\u001b[0m\u001b[0;34m)\u001b[0m\u001b[0;34m\u001b[0m\u001b[0;34m\u001b[0m\u001b[0m\n\u001b[0m",
      "\u001b[0;31mTypeError\u001b[0m: say_hi_couple() missing 1 required positional argument: 'name2'"
     ]
    }
   ],
   "source": [
    "say_hi_couple('그리')"
   ]
  },
  {
   "cell_type": "markdown",
   "id": "4cb7a244",
   "metadata": {},
   "source": [
    "- 이름을 하나만 넣어주면 에러가 발생한다."
   ]
  },
  {
   "cell_type": "code",
   "execution_count": 31,
   "id": "123ef8f9",
   "metadata": {},
   "outputs": [
    {
     "name": "stdout",
     "output_type": "stream",
     "text": [
      "그리, 단테 안녕!\n",
      "단테, 그리 안녕!\n"
     ]
    }
   ],
   "source": [
    "say_hi_couple(name1='그리', name2='단테')\n",
    "say_hi_couple(name2='그리', name1='단테')"
   ]
  },
  {
   "cell_type": "markdown",
   "id": "67c72235",
   "metadata": {},
   "source": [
    "- 함수를 정의할 때 쓰인 인자의 이름을 알고 있다면, 함수를 호출할 때 직접 붙여줄 수도 있다.\n",
    "- 이름으로 인자를 전달할 때는 순서가 상관없기 때문에, 거꾸로 뒤집을 수도 있다."
   ]
  },
  {
   "cell_type": "code",
   "execution_count": 32,
   "id": "f3022fd6",
   "metadata": {},
   "outputs": [
    {
     "ename": "TypeError",
     "evalue": "say_hi_couple() got an unexpected keyword argument 'name'",
     "output_type": "error",
     "traceback": [
      "\u001b[0;31m---------------------------------------------------------------------------\u001b[0m",
      "\u001b[0;31mTypeError\u001b[0m                                 Traceback (most recent call last)",
      "\u001b[0;32m/tmp/ipykernel_31/2553633904.py\u001b[0m in \u001b[0;36m<module>\u001b[0;34m\u001b[0m\n\u001b[1;32m      1\u001b[0m \u001b[0;31m# 함수를 정의할 때 약속한 이름이 아닌 다른 이름 -> 에러\u001b[0m\u001b[0;34m\u001b[0m\u001b[0;34m\u001b[0m\u001b[0m\n\u001b[0;32m----> 2\u001b[0;31m \u001b[0msay_hi_couple\u001b[0m\u001b[0;34m(\u001b[0m\u001b[0mname\u001b[0m\u001b[0;34m=\u001b[0m\u001b[0;34m'그리'\u001b[0m\u001b[0;34m,\u001b[0m \u001b[0mname2\u001b[0m\u001b[0;34m=\u001b[0m\u001b[0;34m'단테'\u001b[0m\u001b[0;34m)\u001b[0m\u001b[0;34m\u001b[0m\u001b[0;34m\u001b[0m\u001b[0m\n\u001b[0m",
      "\u001b[0;31mTypeError\u001b[0m: say_hi_couple() got an unexpected keyword argument 'name'"
     ]
    }
   ],
   "source": [
    "say_hi_couple(name='그리', name2='단테')"
   ]
  },
  {
   "cell_type": "markdown",
   "id": "79b9331a",
   "metadata": {},
   "source": [
    "- 함수를 정의할 때 약속한 이름이 아닌 다른 이름을 넣어주면 에러가 발생한다."
   ]
  },
  {
   "cell_type": "code",
   "execution_count": 33,
   "id": "8d42c4b6",
   "metadata": {},
   "outputs": [],
   "source": [
    "def say_hi_couple_default(name1, name2='nobody'):\n",
    "    print(name1 + ', ' + name2 + ' 안녕!')"
   ]
  },
  {
   "cell_type": "code",
   "execution_count": 34,
   "id": "8ce59ae4",
   "metadata": {},
   "outputs": [
    {
     "ename": "SyntaxError",
     "evalue": "non-default argument follows default argument (165208513.py, line 1)",
     "output_type": "error",
     "traceback": [
      "\u001b[0;36m  File \u001b[0;32m\"/tmp/ipykernel_31/165208513.py\"\u001b[0;36m, line \u001b[0;32m1\u001b[0m\n\u001b[0;31m    def say_hi_couple_default_wrong(name1='nobody', name2):\u001b[0m\n\u001b[0m                                                         ^\u001b[0m\n\u001b[0;31mSyntaxError\u001b[0m\u001b[0;31m:\u001b[0m non-default argument follows default argument\n"
     ]
    }
   ],
   "source": [
    "def say_hi_couple_default_wrong(name1='nobody', name2):\n",
    "    print(name1 + ', ' + name2 + ' 안녕!')"
   ]
  },
  {
   "cell_type": "markdown",
   "id": "d7c901f2",
   "metadata": {},
   "source": [
    "- 입력값이 여러 개일 때도 각 입력값마다 기본값을 지정해 줄 수 있다. 단, 이 경우 기본값이 있는 인자들이 기본값이 없는 필수 인자들의 뒤에 와야 한다. \n",
    "- 그 규칙을 지키지 않으면 에러가 발생한다. 오류를 살펴보면 기본값(default)이 없는 인자가 기본값이 있는 인자 뒤에 오면 SyntaxError에 해당한다고 한다. 위처럼 정의해놓고 say_hi_couple_default_wrong('단테')와 같이 인자를 하나만 주고 함수를 호출하면, 과연 생략된 하나의 인자를 name1으로 봐야 할지, name2로 봐야 할지 불분명하기 때문이다."
   ]
  },
  {
   "cell_type": "markdown",
   "id": "cecebd0e",
   "metadata": {},
   "source": [
    "## 5-8. 함수와 변수 (7) 함수의 결과로 값을 반환하기"
   ]
  },
  {
   "cell_type": "code",
   "execution_count": 35,
   "id": "49c2f3ac",
   "metadata": {},
   "outputs": [],
   "source": [
    "def add(number1, number2):\n",
    "    print(number1 + number2)"
   ]
  },
  {
   "cell_type": "code",
   "execution_count": 36,
   "id": "a66890c9",
   "metadata": {},
   "outputs": [
    {
     "name": "stdout",
     "output_type": "stream",
     "text": [
      "3\n"
     ]
    }
   ],
   "source": [
    "add(1, 2)"
   ]
  },
  {
   "cell_type": "code",
   "execution_count": 37,
   "id": "9c7a270d",
   "metadata": {},
   "outputs": [
    {
     "name": "stdout",
     "output_type": "stream",
     "text": [
      "3\n"
     ]
    },
    {
     "ename": "TypeError",
     "evalue": "unsupported operand type(s) for +: 'NoneType' and 'int'",
     "output_type": "error",
     "traceback": [
      "\u001b[0;31m---------------------------------------------------------------------------\u001b[0m",
      "\u001b[0;31mTypeError\u001b[0m                                 Traceback (most recent call last)",
      "\u001b[0;32m/tmp/ipykernel_31/1255685806.py\u001b[0m in \u001b[0;36m<module>\u001b[0;34m\u001b[0m\n\u001b[0;32m----> 1\u001b[0;31m \u001b[0mprint\u001b[0m\u001b[0;34m(\u001b[0m\u001b[0madd\u001b[0m\u001b[0;34m(\u001b[0m\u001b[0;36m1\u001b[0m\u001b[0;34m,\u001b[0m \u001b[0;36m2\u001b[0m\u001b[0;34m)\u001b[0m \u001b[0;34m+\u001b[0m \u001b[0;36m3\u001b[0m\u001b[0;34m)\u001b[0m\u001b[0;34m\u001b[0m\u001b[0;34m\u001b[0m\u001b[0m\n\u001b[0m",
      "\u001b[0;31mTypeError\u001b[0m: unsupported operand type(s) for +: 'NoneType' and 'int'"
     ]
    }
   ],
   "source": [
    "print(add(1, 2) + 3)"
   ]
  },
  {
   "cell_type": "markdown",
   "id": "f3a00b13",
   "metadata": {},
   "source": [
    "- 수학식처럼, 가장 안쪽의 괄호를 가진 add(1, 2)가 먼저 실행되고, 그 이후 옆의 + 3을 더한 뒤, 가장 바깥쪽의 괄호인 print()가 실행될 것이기 때문에 add()로 인해 입력값인 1과 2의 합인 3이 나오고, 거기에 3을 다시 더해서 print()를 했으니 6이 표시될 것으로 예측되지만 그렇지 않다.\n",
    "- 오류 메시지를 보면 NoneType과 int(정수, integer) 사이에 + 연산은 금지이다. 순서상 우리가 + 뒤에 쓴 3이 정수(int)이고, NoneType은 add(1, 2)를 가리킨다. add()에서 print() 함수를 부르긴 했지만, 이 함수의 결과가 무엇인지 명시하지 않아서 그렇다. 함수가 실행된 뒤 그 결과를 가지고 무언가를 하기 위해서는, return으로 이 값을 출력값(output)으로서 반환(return)하라고 명시적으로 표시해 주어야 한다."
   ]
  },
  {
   "cell_type": "code",
   "execution_count": 38,
   "id": "03d0e807",
   "metadata": {},
   "outputs": [],
   "source": [
    "def add_and_return(number1, number2):\n",
    "    print(number1 + number2)\n",
    "    return number1 + number2"
   ]
  },
  {
   "cell_type": "code",
   "execution_count": 39,
   "id": "f5779da8",
   "metadata": {},
   "outputs": [
    {
     "name": "stdout",
     "output_type": "stream",
     "text": [
      "3\n",
      "6\n"
     ]
    }
   ],
   "source": [
    "print(add_and_return(1, 2) + 3)"
   ]
  },
  {
   "cell_type": "markdown",
   "id": "e9255dc8",
   "metadata": {},
   "source": [
    "- print() 안의 add_and_return(1, 2)가 먼저 실행되면서, add_and_return() 함수 안 첫 번째 줄인 print(number1 + number2)가 실행되어 화면에 3이 표시되고, 이후에 return number1 + number2로 3이 add_and_return() 함수의 출력값으로서 반환된다. 그럼 print(add_and_return(1, 2) + 3)은 print(3 + 3)과 같게 되고, 최종적으로 print(6)이 되어 화면에 6이 출력된다."
   ]
  },
  {
   "cell_type": "code",
   "execution_count": 40,
   "id": "43dc8b57",
   "metadata": {},
   "outputs": [],
   "source": [
    "def print_two(word1, word2):\n",
    "    print(word1)\n",
    "    print(word2)\n",
    "\n",
    "def print_and_return(word1, word2, word3):\n",
    "    print_two(word3, word2)\n",
    "    return word1"
   ]
  },
  {
   "cell_type": "code",
   "execution_count": 41,
   "id": "06caad62",
   "metadata": {},
   "outputs": [
    {
     "name": "stdout",
     "output_type": "stream",
     "text": [
      "D\n",
      "C\n",
      "A\n",
      "B\n"
     ]
    }
   ],
   "source": [
    "print_two('A', print_and_return('B', 'C', 'D'))"
   ]
  },
  {
   "cell_type": "markdown",
   "id": "17e05438",
   "metadata": {},
   "source": [
    "- 위의 코드는 먼저 print_and_return('B', 'C', 'D')이 호출된다. print_and_return('B', 'C', 'D')이 호출되면서 이 함수 안에 있는 함수 print_two(word3, word2)이 호출되어 D와 C가 출력된다. 그 후 print_two('A', print_and_return('B', 'C', 'D'))이 호출되면서 print('A')과 print(print_and_return('B', 'C', 'D'))이 실행된. print('A')에서는 A가, print(print_and_return('B', 'C', 'D'))에서는 return 값인 B가 출력된다. 따라서 출력 결과가 D C A B로 나온다."
   ]
  },
  {
   "cell_type": "markdown",
   "id": "d097ebe8",
   "metadata": {},
   "source": [
    "## 5-10. 제어문 (1) `if`: 진실 혹은 거짓\n",
    "- 제어문 : 특정 조건에 따라 알아서 필요한 횟수만큼 반복해서 실행하는 등 프로그램의 \"흐름을 제어(control)\"하는 방법\n",
    "- if : 어떤 명제가 참인지 거짓인지에 따라 코드의 실행 여부를 결정할 수 있다."
   ]
  },
  {
   "cell_type": "code",
   "execution_count": 42,
   "id": "02a7d6ba",
   "metadata": {},
   "outputs": [
    {
     "name": "stdout",
     "output_type": "stream",
     "text": [
      "1\n"
     ]
    }
   ],
   "source": [
    "# 입력값으로 주어진 숫자가 0 이상일 경우에만 화면에 숫자를 표시하는 함수\n",
    "def print_if_positive(number):\n",
    "    if number >= 0:\n",
    "        print(number)\n",
    "        \n",
    "print_if_positive(1)\n",
    "print_if_positive(-1)"
   ]
  },
  {
   "cell_type": "markdown",
   "id": "010236a5",
   "metadata": {},
   "source": [
    "- if 명제:의 형식으로 표시하며, 이후에 들여쓰기 된 코드 블록의 내용은 if 키워드 다음의 명제가 참일 때에만 실행된다. 명제를 구성할 때 사용할 수 있는 비교 연산자(conditional operator) 에는 초과 또는 미만(>, <), 이상 또는 이하(>=, <=), 값이 같음 또는 다름(==, !=) 등이 있다.\n",
    "- 반대되는 경우를 나타내기 위해서 if로 추가할 수도 있지만, 그 이외의 경우(else)를 나타내는 else:를 사용해서 앞의 명제가 거짓인 경우에 실행할 코드를 손쉽게 명시할 수 있다."
   ]
  },
  {
   "cell_type": "code",
   "execution_count": 43,
   "id": "112bf357",
   "metadata": {},
   "outputs": [
    {
     "name": "stdout",
     "output_type": "stream",
     "text": [
      "+\n",
      "-\n"
     ]
    }
   ],
   "source": [
    "# 숫자가 0보다 크거나 같으면 +를, 작으면 -를 출력하는 함수\n",
    "def print_whether_positive_or_negative(number):\n",
    "    if number >= 0:\n",
    "        print('+')\n",
    "    else:\n",
    "        print('-')\n",
    "\n",
    "print_whether_positive_or_negative(1)\n",
    "print_whether_positive_or_negative(-1)"
   ]
  },
  {
   "cell_type": "code",
   "execution_count": 44,
   "id": "d95e9d9e",
   "metadata": {},
   "outputs": [
    {
     "name": "stdout",
     "output_type": "stream",
     "text": [
      "+\n",
      "0\n",
      "-\n"
     ]
    }
   ],
   "source": [
    "# 숫자가 양수이면 +를, 음수이면 -를, 양수도 음수도 아닌 0일 경우 그대로 0을 출력하는 함수\n",
    "def print_whether_positive_or_negative_or_zero(number):\n",
    "    if number > 0:\n",
    "        print('+')\n",
    "    elif number == 0:\n",
    "        print('0')\n",
    "    else:\n",
    "        print('-')\n",
    "\n",
    "print_whether_positive_or_negative_or_zero(1)\n",
    "print_whether_positive_or_negative_or_zero(0)\n",
    "print_whether_positive_or_negative_or_zero(-1)"
   ]
  },
  {
   "cell_type": "code",
   "execution_count": 45,
   "id": "595b896a",
   "metadata": {},
   "outputs": [
    {
     "name": "stdout",
     "output_type": "stream",
     "text": [
      "2\n"
     ]
    }
   ],
   "source": [
    "# 숫자가 양수이고(and) 짝수일 때 해당 숫자를 출력하는 함수\n",
    "def print_if_positive_and_even(number):\n",
    "    if (number > 0) and (number % 2 == 0):\n",
    "        print(number)\n",
    "\n",
    "print_if_positive_and_even(1)\n",
    "print_if_positive_and_even(-1)\n",
    "print_if_positive_and_even(2)\n",
    "print_if_positive_and_even(-2)"
   ]
  },
  {
   "cell_type": "markdown",
   "id": "af27e9ee",
   "metadata": {},
   "source": [
    "- 두 개의 명제(양수인가 짝수인가)를 and(그리고)라는 논리 연산자(logical operator) 로 묶었다. 그 결과로 양쪽 명제가 모두 참일 때만 if 조건문에 속한 코드 블록이 실행된다."
   ]
  },
  {
   "cell_type": "code",
   "execution_count": 46,
   "id": "cafdd6a3",
   "metadata": {},
   "outputs": [
    {
     "name": "stdout",
     "output_type": "stream",
     "text": [
      "1\n",
      "-1\n",
      "-2\n"
     ]
    }
   ],
   "source": [
    "# 숫자가 음수이거나(or) 홀수일 때 해당 숫자를 출력하는 함수\n",
    "def print_if_negative_or_odd(number):\n",
    "    if (number < 0) or (number % 2 != 0):\n",
    "        print(number)\n",
    "\n",
    "print_if_negative_or_odd(1)\n",
    "print_if_negative_or_odd(-1)\n",
    "print_if_negative_or_odd(2)\n",
    "print_if_negative_or_odd(-2)"
   ]
  },
  {
   "cell_type": "markdown",
   "id": "7a24d304",
   "metadata": {},
   "source": [
    "- or(또는)이라는 논리 연산자는 양쪽의 명제 중 한 쪽이라도 참일 경우에 작동한다."
   ]
  },
  {
   "cell_type": "markdown",
   "id": "4db3b159",
   "metadata": {},
   "source": [
    "## 5-11. 제어문 (2) `while`: 조건이 참인 동안 반복\n",
    "- while 반복문을 사용하면 컴퓨터가 자동으로 하나씩 계산하도록 할 수 있다."
   ]
  },
  {
   "cell_type": "code",
   "execution_count": 47,
   "id": "750b942f",
   "metadata": {},
   "outputs": [
    {
     "name": "stdout",
     "output_type": "stream",
     "text": [
      "1\n",
      "1\n",
      "2\n",
      "3\n",
      "5\n",
      "8\n",
      "13\n",
      "21\n",
      "34\n",
      "55\n",
      "89\n",
      "144\n",
      "233\n",
      "377\n",
      "610\n",
      "987\n",
      "1597\n",
      "2584\n",
      "4181\n",
      "6765\n",
      "끝!\n"
     ]
    }
   ],
   "source": [
    "# n번째 피보나치 수를 반환하는 함수\n",
    "def fibonacci(n):\n",
    "    if n <= 2:\n",
    "        return 1\n",
    "    else:\n",
    "        return fibonacci(n-2) + fibonacci(n-1)\n",
    "\n",
    "n = 1\n",
    "while n <= 20:\n",
    "    print(fibonacci(n))\n",
    "    n = n + 1\n",
    "print('끝!')"
   ]
  },
  {
   "cell_type": "markdown",
   "id": "6d82f030",
   "metadata": {},
   "source": [
    "- 피보나치 함수는 스스로를 호출해내는 재귀함수로 return을 보면 fibonacci(n-2) + fibonacci(n-1)를 반환한다.\n",
    "![피보나치](https://user-images.githubusercontent.com/116326867/224910047-5ac69526-ecb5-4351-b41f-4b53225c80d3.png)"
   ]
  },
  {
   "cell_type": "markdown",
   "id": "538bbf2e",
   "metadata": {},
   "source": [
    "- while 문은 코드 블록을 실행하기 전 가장 먼저 조건문을 검사해서, 조건문이 참이면 코드 블록을 실행한다. 즉, 처음 실행 시 마지막 줄(4행)에서 n은 2가 되고, n <= 20이 참이니 다시 3행으로 돌아가 print(fibonacci(2))를 실행한다. 그리고 다시 그다음 줄에서 n은 3이 되고, 다시 3행으로 돌아가고.. n이 21이 되면 그제서야 while에 속하는 들여쓰기 코드 블록을 빠져나와 print('끝!')을 실행한다.\n",
    "- 이러한 반복문들을 루프(loop, 고리)라고 부른다. 그리고 반복문이 끝없이 계속 실행되는 경우를 무한 루프(infinite loop)라고 부른다."
   ]
  },
  {
   "cell_type": "code",
   "execution_count": 48,
   "id": "13099da4",
   "metadata": {},
   "outputs": [],
   "source": [
    "# 무한 루프(infinite loop) -> 실행했다면 코드 실행 정지 버튼을 눌러 종료하세요.(터미널 창에서는 ctrl+c)\n",
    "\n",
    "#while 1 == 1:\n",
    "#    print('Infinite loop!')"
   ]
  },
  {
   "cell_type": "markdown",
   "id": "05eb91f5",
   "metadata": {},
   "source": [
    "## 5-12. 제어문 (3) `for`: 하나씩 반복\n",
    "- while 뒤에는 참과 거짓이 갈릴 수 있는 명제가 온다면, for 뒤에는 a in A의 형태로, 값이 여러 개 들어있는 목록 A에서 값을 하나씩 꺼내서 a 변수에 담아 반복문을 실행한다.\n",
    "- 하나씩 순서대로 넘길(iterate) 수 있는 값들을 반복 가능한(iterable, 이터러블) 객체 라고 한다. for 루프를 써서 순서대로 엮인 값들을 하나씩 처리할 수 있다."
   ]
  },
  {
   "cell_type": "code",
   "execution_count": 49,
   "id": "1f9b06ea",
   "metadata": {},
   "outputs": [
    {
     "name": "stdout",
     "output_type": "stream",
     "text": [
      "H\n",
      "e\n",
      "l\n",
      "l\n",
      "o\n"
     ]
    }
   ],
   "source": [
    "for character in 'Hello':\n",
    "    print(character)"
   ]
  },
  {
   "cell_type": "markdown",
   "id": "27777a8d",
   "metadata": {},
   "source": [
    "## 5-13. 자료형\n",
    "- 파이썬에는 숫자와 문자열 외에도 다양한 종류의 '값'들이 있으며, 이러한 종류 하나하나를 자료형(data type)이라고 한다. 문자열은 반복이 가능(iterable) 하지만 숫자는 그렇지 않은 것처럼, 각 자료형마다 특징이 있다. 값의 자료형이 무엇인지는 type() 함수를 통해 확인할 수 있다."
   ]
  },
  {
   "cell_type": "code",
   "execution_count": 50,
   "id": "2896cb9c",
   "metadata": {},
   "outputs": [
    {
     "name": "stdout",
     "output_type": "stream",
     "text": [
      "<class 'int'>\n"
     ]
    }
   ],
   "source": [
    "print(type(1))"
   ]
  },
  {
   "cell_type": "markdown",
   "id": "c5f2212f",
   "metadata": {},
   "source": [
    "## 5-14. 자료형 (1) 정수_integer, `int`\n",
    "- 정수인 int는 양의 정수와 음의 정수를 모두 포함한다.\n",
    "- 정수는 무한하지만 우리 컴퓨터의 메모리는 유한하다는 점에서 문제가 생긴다. 64비트 컴퓨터의 경우 기본적으로 64비트의 공간에 하나의 숫자를 저장할 수 있다. 이렇게 되면 2의 64승(=18,446,744,073,709,551,616)개의 숫자만 인식할 수 있다. 즉, 음과 양을 모두 생각하면 -9,223,372,036,854,775,808부터 9,223,372,036,854,775,807까지의 숫자만을 표현할 수 있다는 뜻이다.\n",
    "- 큰 숫자를 표현할 때는 64비트 이상의 공간을 사용하여 문제를 해결할 수 있다. 이렇게 숫자를 담을 메모리 크기를 수동으로 설정해 주어야 하는 프로그래밍 언어들이 있는 반면, 파이썬은 숫자가 커지면 알아서 메모리를 더 사용한다."
   ]
  },
  {
   "cell_type": "code",
   "execution_count": 51,
   "id": "af2d15e4",
   "metadata": {},
   "outputs": [
    {
     "name": "stdout",
     "output_type": "stream",
     "text": [
      "1000000000000000000000000000000\n"
     ]
    }
   ],
   "source": [
    "number = 1000 ** 10 # ** : 제곱\n",
    "print(number)"
   ]
  },
  {
   "cell_type": "markdown",
   "id": "57a1f60b",
   "metadata": {},
   "source": [
    "## 5-15. 자료형 (2) 부동소수점 수_floating-point number, `float`\n",
    "- 정수를 제외한 실수를 부동소수점 수 또는 떠돌이 소수점 수인 float라고 한다. 여기서 소수는 1과 자신으로밖에 나누어지지 않는 수가 아니라 소수점 아래에 값이 있는 수를 나타낸다."
   ]
  },
  {
   "cell_type": "code",
   "execution_count": 52,
   "id": "71b6129a",
   "metadata": {},
   "outputs": [
    {
     "name": "stdout",
     "output_type": "stream",
     "text": [
      "<class 'float'>\n"
     ]
    }
   ],
   "source": [
    "print(type(1.1))"
   ]
  },
  {
   "cell_type": "code",
   "execution_count": 53,
   "id": "18d3d384",
   "metadata": {},
   "outputs": [
    {
     "name": "stdout",
     "output_type": "stream",
     "text": [
      "<class 'float'>\n"
     ]
    }
   ],
   "source": [
    "print(type(1.0)) # 1은 int / 1.0은 float"
   ]
  },
  {
   "cell_type": "code",
   "execution_count": 54,
   "id": "912c147f",
   "metadata": {},
   "outputs": [
    {
     "name": "stdout",
     "output_type": "stream",
     "text": [
      "True\n",
      "2.0\n"
     ]
    }
   ],
   "source": [
    "print(1 == 1.0)\n",
    "print(1 + 1.0)"
   ]
  },
  {
   "cell_type": "markdown",
   "id": "d044c018",
   "metadata": {},
   "source": [
    "- 1과 1.0을 구분하기는 하지만 파이썬은 값을 비교할 때나 함께 연산할 때는 알아서 자료형을 변환한다. 다만 1 + 1.0의 결과와 같이, 정수와 소수를 더하면 그 결과가 정수로 표현될 수 있다고 하더라도 소수 자료형을 가지게 된다.\n",
    "- 만일 자료형에서 정수를 소수로, 소수를 정수로 변환하고 싶다면 다음과 같이 각각 자료형 이름을 함수처럼 써주면 된다."
   ]
  },
  {
   "cell_type": "code",
   "execution_count": 55,
   "id": "d95e961d",
   "metadata": {},
   "outputs": [
    {
     "name": "stdout",
     "output_type": "stream",
     "text": [
      "1.0\n",
      "<class 'float'>\n",
      "1\n",
      "<class 'int'>\n"
     ]
    }
   ],
   "source": [
    "print(float(1))\n",
    "print(type(float(1)))\n",
    "print(int(1.0))\n",
    "print(type(int(1.0)))"
   ]
  },
  {
   "cell_type": "markdown",
   "id": "93824599",
   "metadata": {},
   "source": [
    "- 파이썬은 소수를 표현하는 방식으로 부동소수점 방식을 채택했다. [부동소수점](https://velog.io/@thms200/%EB%B6%80%EB%8F%99%EC%86%8C%EC%88%98%EC%A0%90-0.1-0.1-02-jbk5jrde3a), [고정소수점 vs. 부동소수점](https://gsmesie692.tistory.com/94)을 통하여 고정소수점과 부동소수점 두 방식의 차이와, 왜 부동소수점 방식으로 소수를 표현하는 것이 더 유리한지 알 수 있다.\n",
    "- 1.0을 32bit의 고정소수점 수와 부동소수점 수로 각각 표현하면 다음과 같다.  \n",
    "고정소수점의 경우 1bit(부호) + 16bit(정수) + 15bit(소수) -> 0 0000000000000001 000000000000000  \n",
    "부동소수점의 경우 1bit(부호) + 8bit(지수) + 23bit(가수) -> 0 01111111 00000000000000000000000"
   ]
  },
  {
   "cell_type": "markdown",
   "id": "80dcdc32",
   "metadata": {},
   "source": [
    "## 5-16. 자료형 (3) `NoneType`"
   ]
  },
  {
   "cell_type": "code",
   "execution_count": 56,
   "id": "29f9a66f",
   "metadata": {},
   "outputs": [
    {
     "name": "stdout",
     "output_type": "stream",
     "text": [
      "<class 'NoneType'>\n"
     ]
    }
   ],
   "source": [
    "print(type(None))"
   ]
  },
  {
   "cell_type": "markdown",
   "id": "6a35980b",
   "metadata": {},
   "source": [
    "- NoneType 자료형에 속하는 값은 유한하며, 아무것도 없음을 뜻하는 None값 딱 하나가 있다. (cf. 0은 None과 다르다.) None은 그냥 아무것도 없음을 표시하기 위해 만들어놓은 값이다. 이전 예시들 중 함수의 반환값으로 아무것도 정의하지 않았을 경우 NoneType과 관련된 오류가 나왔던 것이 바로 이런 상황이다. 이런 상황에서는 0과 같은 숫자도, 그 무엇도 반환하지 않았다는 것을 알려주기 위해 None이 반환된 것으로 표현한다. 다른 프로그래밍 언어에서는 같은 개념을 null이라고 부르기도 한다.\n",
    "- 필요한 이유 : 그 어떤 것으로도 정의되지 않는 상태라는 개념은 프로그래밍 시점에 필요한 것이 아니다. 디자인 타임(Design Time)이라고 부르는 설계 타이밍에는 모든 개념을 다 정의할 수 있는 시점이므로 이런 개념이 필요하지 않다. 하지만, 프로그램이 수행하는 도중에 입력값에 따라 전혀 의도하지 않았던 유형의 출력이 발생했을 때, 런타임(Runtime)이라고 부르는 프로그램 실행 타이밍에 정의되지 않은 어떤 것이 발생했다고 할 때, 그 어떤 것으로도 정의되지 않는 유형을 정의하기 위해 NoneType이라는 것이 필요하게 된다."
   ]
  },
  {
   "cell_type": "code",
   "execution_count": null,
   "id": "fc0621a3",
   "metadata": {},
   "outputs": [],
   "source": [
    "# 예시\n",
    "def get_mobile_phonenum(value):\n",
    "    if len(value) >= 11:     # 010XXXXYYYY 의 길이는 11 이상\n",
    "        return new PhoneNumber(value)"
   ]
  },
  {
   "cell_type": "markdown",
   "id": "d55b8c72",
   "metadata": {},
   "source": [
    "- 어떤 스트링 value로부터 모바일 전화번호 유형의 객체를 구하는 메서드를 위와 같이 짰는데 저 코드를 돌리는 도중에 value에 10자리 숫자가 입력되었다. 그 순간 에러를 내면서 프로그램이 죽는 것보다는 NoneType 객체라도 리턴하는 게 좋을 것이다.\n",
    "- 이것은 인터프리터 언어인 파이썬의 설계 사상과 관련이 있다. 컴파일 타임에 모든 유형이 다 정의되어야 하는 C 같은 언어는 정의될 수 없는 어떤 것이 나온다면 컴파일 오류를 내면 되므로 NoneType을 필요로 하지 않는다. 하지만 어떤 것의 유형이 런타임에 정의되어도 무방하다거나, 심지어 늦게 정의될수록 좋다고 생각하는 파이썬 같은 언어는 NoneType 유형을 필요로 한다."
   ]
  },
  {
   "cell_type": "markdown",
   "id": "56f36049",
   "metadata": {},
   "source": [
    "## 5-17. 자료형 (4) 불리언_boolean, `bool`\n",
    "-  불리언 자료형에는 참(True)과 거짓(False) 두 가지 값만 존재한다."
   ]
  },
  {
   "cell_type": "code",
   "execution_count": 57,
   "id": "6500f866",
   "metadata": {},
   "outputs": [
    {
     "name": "stdout",
     "output_type": "stream",
     "text": [
      "<class 'bool'>\n",
      "<class 'bool'>\n"
     ]
    }
   ],
   "source": [
    "print(type(True))\n",
    "print(type(False))"
   ]
  },
  {
   "cell_type": "markdown",
   "id": "6ca28574",
   "metadata": {},
   "source": [
    "- 불리언 값들은 주로 if 비교문에서처럼 명제의 참/거짓 여부를 나타낼 때 사용된다. 즉, a == b라는 표현은 입력값 a와 b가 같다면 True를, 아니면 False를 반환하는 함수로 볼 수도 있다."
   ]
  },
  {
   "cell_type": "code",
   "execution_count": 58,
   "id": "bf0718f2",
   "metadata": {},
   "outputs": [
    {
     "name": "stdout",
     "output_type": "stream",
     "text": [
      "False\n",
      "True\n"
     ]
    }
   ],
   "source": [
    "print(not True)\n",
    "print(not not True)"
   ]
  },
  {
   "cell_type": "markdown",
   "id": "4de8aece",
   "metadata": {},
   "source": [
    "- 불리언 값 앞에 not을 붙이면 참과 거짓을 뒤집을 수도 있다."
   ]
  },
  {
   "cell_type": "code",
   "execution_count": 59,
   "id": "bbda95db",
   "metadata": {},
   "outputs": [
    {
     "name": "stdout",
     "output_type": "stream",
     "text": [
      "False\n",
      "False\n",
      "True\n"
     ]
    }
   ],
   "source": [
    "print(bool(None))\n",
    "print(bool(0))\n",
    "print(bool(1.1))"
   ]
  },
  {
   "cell_type": "markdown",
   "id": "e65c1b3a",
   "metadata": {},
   "source": [
    "- int()나 float()처럼 bool()을 통해 다른 값을 참과 거짓으로 변환할 수도 있다.\n",
    "- None이거나 0 일 때는 False로 변환되며, 그 외 나머지 경우에는 True가 된다."
   ]
  },
  {
   "cell_type": "markdown",
   "id": "dd009000",
   "metadata": {},
   "source": [
    "## 5-18. 자료형 (5) 문자열_string, `str`\n",
    "- 내부에 여러 값을 포함할 수 있는 자료형 -> 문자열(string). 문자열은 따옴표 또는 쌍따옴표로 감싸야 한다."
   ]
  },
  {
   "cell_type": "code",
   "execution_count": 60,
   "id": "b55eca8b",
   "metadata": {},
   "outputs": [
    {
     "name": "stdout",
     "output_type": "stream",
     "text": [
      "He said, \"spam.\"\n"
     ]
    }
   ],
   "source": [
    "print('He said, \"spam.\"')"
   ]
  },
  {
   "cell_type": "markdown",
   "id": "92aecdad",
   "metadata": {},
   "source": [
    "- 문자열 안에 쌍따옴표를 그대로 쓰고 싶다면, 따옴표로 감싸면 된다."
   ]
  },
  {
   "cell_type": "code",
   "execution_count": 61,
   "id": "06fea79a",
   "metadata": {},
   "outputs": [
    {
     "name": "stdout",
     "output_type": "stream",
     "text": [
      "Quote(') and double quote(\")\n"
     ]
    }
   ],
   "source": [
    "print('Quote(\\') and double quote(\\\")')"
   ]
  },
  {
   "cell_type": "markdown",
   "id": "e1d58f03",
   "metadata": {},
   "source": [
    "- 문자열 안에서 따옴표 앞에 \\를 붙여서 이건 코드 상의 기호가 아닌, 문자 그대로로 해석하라고 표시(escape) 할 수 있다."
   ]
  },
  {
   "cell_type": "code",
   "execution_count": 62,
   "id": "d91d6dbb",
   "metadata": {},
   "outputs": [
    {
     "name": "stdout",
     "output_type": "stream",
     "text": [
      "Hello June\n"
     ]
    }
   ],
   "source": [
    "print('Hello ' 'June') # 괄호 안의 문자열 여러 개는 파이썬이 알아서 합친다."
   ]
  },
  {
   "cell_type": "code",
   "execution_count": 63,
   "id": "24990664",
   "metadata": {},
   "outputs": [
    {
     "name": "stdout",
     "output_type": "stream",
     "text": [
      "Line 1\n",
      "Line2\n"
     ]
    }
   ],
   "source": [
    "print(\"\"\"Line 1\n",
    "Line2\"\"\")"
   ]
  },
  {
   "cell_type": "markdown",
   "id": "f4d67763",
   "metadata": {},
   "source": [
    "- 여러 줄을 쓰고 싶다면 따옴표나 쌍따옴표 대신, 따옴표나 쌍따옴표를 세 개씩 연달아 써서 열고 닫아주면 된다."
   ]
  },
  {
   "cell_type": "code",
   "execution_count": 64,
   "id": "9abb7391",
   "metadata": {},
   "outputs": [
    {
     "name": "stdout",
     "output_type": "stream",
     "text": [
      "H\n",
      "e\n",
      "l\n",
      "l\n",
      "o\n"
     ]
    }
   ],
   "source": [
    "for character in 'Hello':\n",
    "    print(character)"
   ]
  },
  {
   "cell_type": "markdown",
   "id": "b05e69c9",
   "metadata": {},
   "source": [
    "- 문자열도 글자가 여러 개 연이어 있기에, for 루프를 사용할 수 있는 반복 가능한 객체이다."
   ]
  },
  {
   "cell_type": "code",
   "execution_count": 65,
   "id": "7f67288b",
   "metadata": {},
   "outputs": [
    {
     "name": "stdout",
     "output_type": "stream",
     "text": [
      "e\n"
     ]
    }
   ],
   "source": [
    "message = 'Hello'\n",
    "print(message[1])"
   ]
  },
  {
   "cell_type": "code",
   "execution_count": 66,
   "id": "e91bd481",
   "metadata": {},
   "outputs": [
    {
     "name": "stdout",
     "output_type": "stream",
     "text": [
      "o\n"
     ]
    }
   ],
   "source": [
    "message = 'Hello'\n",
    "print(message[-1])"
   ]
  },
  {
   "cell_type": "markdown",
   "id": "9ba00b8e",
   "metadata": {},
   "source": [
    "- 값들이 순서대로 들어있는 반복 가능한 객체 중에서도 유한한 길이를 갖는 자료형들을 파이썬에서는 컨테이너(container) 자료형이라고 부른다. 이런 컨테이너 자료형들은 뒤에 [숫자]를 붙여서 해당 순서 인덱스(index) 에 해당하는 값만 뽑아올 수 있다. (주의! 순서가 0부터 시작)\n",
    "- 뒤에서의 순서로 뽑고 싶다면 음수를 쓰면 된다. (주의! -1부터 시작)"
   ]
  },
  {
   "cell_type": "code",
   "execution_count": 67,
   "id": "fad4f81c",
   "metadata": {},
   "outputs": [
    {
     "name": "stdout",
     "output_type": "stream",
     "text": [
      "Hell\n"
     ]
    }
   ],
   "source": [
    "message = 'Hello'\n",
    "print(message[0:4]) # 0번째부터 4번 직전까지"
   ]
  },
  {
   "cell_type": "code",
   "execution_count": 68,
   "id": "952dc630",
   "metadata": {},
   "outputs": [
    {
     "name": "stdout",
     "output_type": "stream",
     "text": [
      "llo\n"
     ]
    }
   ],
   "source": [
    "message = 'Hello'\n",
    "print(message[2:]) # 2번째부터 끝까지"
   ]
  },
  {
   "cell_type": "code",
   "execution_count": 69,
   "id": "6f653632",
   "metadata": {},
   "outputs": [
    {
     "name": "stdout",
     "output_type": "stream",
     "text": [
      "Hello\n",
      "Hell\n",
      "Hlo\n"
     ]
    }
   ],
   "source": [
    "message = 'Hello'\n",
    "print(message[::1])  # 기본 (한 칸 씩)\n",
    "print(message[:-1:1])  # 기본 (한 칸 씩)\n",
    "print(message[::2])  # 두 칸 씩"
   ]
  },
  {
   "cell_type": "code",
   "execution_count": 70,
   "id": "1208b3fc",
   "metadata": {},
   "outputs": [
    {
     "name": "stdout",
     "output_type": "stream",
     "text": [
      "olleH\n"
     ]
    }
   ],
   "source": [
    "message = 'Hello'\n",
    "print(message[::-1])  # 거꾸로 출력"
   ]
  },
  {
   "cell_type": "markdown",
   "id": "8f7f4f47",
   "metadata": {},
   "source": [
    "- 슬라이스(slice) : start:end-1:step 의 형식"
   ]
  },
  {
   "cell_type": "markdown",
   "id": "6b524dca",
   "metadata": {},
   "source": [
    "## 5-19. 자료형 (6) 튜플과 리스트_`tuple`, `list`\n",
    "### 튜플\n",
    "- 튜플의 경우에는 괄호() 안에 원하는 값들을 쉼표(,)로 구분해서 써주면 된다."
   ]
  },
  {
   "cell_type": "code",
   "execution_count": 71,
   "id": "d87c3cb5",
   "metadata": {},
   "outputs": [
    {
     "name": "stdout",
     "output_type": "stream",
     "text": [
      "1\n",
      "2\n",
      "3\n"
     ]
    }
   ],
   "source": [
    "numbers = (1, 2, 3)\n",
    "for number in numbers:\n",
    "    print(number)"
   ]
  },
  {
   "cell_type": "code",
   "execution_count": 72,
   "id": "4c37a490",
   "metadata": {},
   "outputs": [],
   "source": [
    "mixed_tuple = ('Hello', 0, True)"
   ]
  },
  {
   "cell_type": "code",
   "execution_count": 73,
   "id": "3b7c006c",
   "metadata": {},
   "outputs": [
    {
     "name": "stdout",
     "output_type": "stream",
     "text": [
      "1\n"
     ]
    }
   ],
   "source": [
    "tuple_123 = (1, 2, 3)\n",
    "print(tuple_123[0]) "
   ]
  },
  {
   "cell_type": "markdown",
   "id": "e8dea28b",
   "metadata": {},
   "source": [
    "- 튜플도 색인[n] 사용해서 값을 가져올 수 있다."
   ]
  },
  {
   "cell_type": "code",
   "execution_count": 74,
   "id": "5a0e2541",
   "metadata": {},
   "outputs": [
    {
     "ename": "TypeError",
     "evalue": "'tuple' object does not support item assignment",
     "output_type": "error",
     "traceback": [
      "\u001b[0;31m---------------------------------------------------------------------------\u001b[0m",
      "\u001b[0;31mTypeError\u001b[0m                                 Traceback (most recent call last)",
      "\u001b[0;32m/tmp/ipykernel_31/2439240534.py\u001b[0m in \u001b[0;36m<module>\u001b[0;34m\u001b[0m\n\u001b[1;32m      1\u001b[0m \u001b[0mtuple_123\u001b[0m \u001b[0;34m=\u001b[0m \u001b[0;34m(\u001b[0m\u001b[0;36m1\u001b[0m\u001b[0;34m,\u001b[0m \u001b[0;36m2\u001b[0m\u001b[0;34m,\u001b[0m \u001b[0;36m3\u001b[0m\u001b[0;34m)\u001b[0m\u001b[0;34m\u001b[0m\u001b[0;34m\u001b[0m\u001b[0m\n\u001b[0;32m----> 2\u001b[0;31m \u001b[0mtuple_123\u001b[0m\u001b[0;34m[\u001b[0m\u001b[0;36m0\u001b[0m\u001b[0;34m]\u001b[0m \u001b[0;34m=\u001b[0m \u001b[0;36m0\u001b[0m\u001b[0;34m\u001b[0m\u001b[0;34m\u001b[0m\u001b[0m\n\u001b[0m",
      "\u001b[0;31mTypeError\u001b[0m: 'tuple' object does not support item assignment"
     ]
    }
   ],
   "source": [
    "tuple_123 = (1, 2, 3)\n",
    "tuple_123[0] = 0"
   ]
  },
  {
   "cell_type": "markdown",
   "id": "3f551ca0",
   "metadata": {},
   "source": [
    "- 튜플은 값을 변경할 수 없다."
   ]
  },
  {
   "cell_type": "code",
   "execution_count": 75,
   "id": "a3ef1754",
   "metadata": {},
   "outputs": [
    {
     "name": "stdout",
     "output_type": "stream",
     "text": [
      "3\n"
     ]
    }
   ],
   "source": [
    "nested_tuple = ((1, 2), (3, 4))\n",
    "print(nested_tuple[1][0])"
   ]
  },
  {
   "cell_type": "markdown",
   "id": "1840952b",
   "metadata": {},
   "source": [
    "- 튜플 안에 튜플을 넣을 수도 있다. [n] 문법을 연이어 써서 튜플 안의 값을 가져올 수 있다."
   ]
  },
  {
   "cell_type": "code",
   "execution_count": 76,
   "id": "0a64f9bd",
   "metadata": {},
   "outputs": [
    {
     "name": "stdout",
     "output_type": "stream",
     "text": [
      "(1, 2, 3, 4)\n"
     ]
    }
   ],
   "source": [
    "# 덧셈 연산자를 통해 합치기\n",
    "tuple_a = (1, 2)\n",
    "tuple_b = (3, 4)\n",
    "print(tuple_a + tuple_b)"
   ]
  },
  {
   "cell_type": "code",
   "execution_count": 78,
   "id": "01bbdac3",
   "metadata": {},
   "outputs": [
    {
     "name": "stdout",
     "output_type": "stream",
     "text": [
      "True\n",
      "False\n"
     ]
    }
   ],
   "source": [
    "# in 연산자를 써서 특정한 값이 튜플 안에 있는지 없는지도 확인하기\n",
    "tuple_abc = ('a', 'b', 'c')\n",
    "print('a' in tuple_abc)\n",
    "print('d' in tuple_abc)"
   ]
  },
  {
   "cell_type": "markdown",
   "id": "0e00a060",
   "metadata": {},
   "source": [
    "### 리스트\n",
    "- 튜플과 거의 같다. 괄호만 대괄호([, ])로 바꿔주면 된다."
   ]
  },
  {
   "cell_type": "code",
   "execution_count": 79,
   "id": "c293721e",
   "metadata": {},
   "outputs": [
    {
     "name": "stdout",
     "output_type": "stream",
     "text": [
      "[1, 2] ['3', '4']\n"
     ]
    }
   ],
   "source": [
    "list_a = [1, 2]\n",
    "list_b = ['3', '4']\n",
    "print(list_a, list_b)"
   ]
  },
  {
   "cell_type": "code",
   "execution_count": 80,
   "id": "ea4373a9",
   "metadata": {},
   "outputs": [
    {
     "name": "stdout",
     "output_type": "stream",
     "text": [
      "[0, 2, 3]\n"
     ]
    }
   ],
   "source": [
    "list_123 = [1, 2, 3]\n",
    "list_123[0] = 0\n",
    "print(list_123)"
   ]
  },
  {
   "cell_type": "markdown",
   "id": "564e15c3",
   "metadata": {},
   "source": [
    "- 리스트의 경우 튜플과 달리 값을 바꿀 수 있다."
   ]
  },
  {
   "cell_type": "code",
   "execution_count": 81,
   "id": "79274514",
   "metadata": {},
   "outputs": [
    {
     "name": "stdout",
     "output_type": "stream",
     "text": [
      "[1, 2, 3, 4]\n",
      "[1, 2, 3]\n",
      "[2, 3]\n"
     ]
    }
   ],
   "source": [
    "list_123 = [1, 2, 3]\n",
    "list_123.append(4)\n",
    "print(list_123)\n",
    "\n",
    "list_123.remove(4)\n",
    "print(list_123)\n",
    "\n",
    "list_123.pop(0)\n",
    "print(list_123)"
   ]
  },
  {
   "cell_type": "markdown",
   "id": "39178d66",
   "metadata": {},
   "source": [
    "- 리스트와 튜플의 또 다른 점은 리스트는 변수를 한 번 정의해놓고 변수명 뒤에 .append()라는 특별한 함수를 뒤에 붙여서 값을 하나씩 추가하거나, .remove()를 통해 특정 값을 빼거나, .pop()을 통해 특정 순서의 값을 뺄 수 있다는 것이다."
   ]
  },
  {
   "cell_type": "markdown",
   "id": "9b0dc899",
   "metadata": {},
   "source": [
    "## 5-20. 자료형 (7) 딕셔너리_dictionary, `dict`\n",
    "- 딕셔너리(dictionary)도 값을 여러 개 포함하는 컨테이너 자료형의 일종이다. 리스트와 차이점은 숫자로 된 인덱스를 쓰는 대신, 직접 인덱스를 원하는 대로 지정할 수 있다는 점이다."
   ]
  },
  {
   "cell_type": "code",
   "execution_count": 82,
   "id": "0a51a764",
   "metadata": {},
   "outputs": [
    {
     "name": "stdout",
     "output_type": "stream",
     "text": [
      "단테\n"
     ]
    }
   ],
   "source": [
    "conductor = {'first_name': '단테', 'last_name': '안'}\n",
    "print(conductor['first_name'])"
   ]
  },
  {
   "cell_type": "markdown",
   "id": "2e44d153",
   "metadata": {},
   "source": [
    "- 'first_name'와 'last_name'은 각각 인덱스 또는 딕셔너리의 키(key)들이고, '단테'와 '안'은 각각 해당 키의 값(value)이다. 문법적으로는 중괄호({, }) 안에서 쉼표(,)로 각 항목(item)을 나누고, 항목 별로 쌍점(:)을 써서 키와 값을 나눈다."
   ]
  },
  {
   "cell_type": "code",
   "execution_count": 83,
   "id": "8ec17f93",
   "metadata": {},
   "outputs": [
    {
     "name": "stdout",
     "output_type": "stream",
     "text": [
      "{'first_name': '단테', 'last_name': '안', 'gender': 'male'}\n"
     ]
    }
   ],
   "source": [
    "# 새로운 값을 추가 -> 새로운 키 넣기\n",
    "conductor = {'first_name': '단테', 'last_name': '안'}\n",
    "conductor['gender'] = 'male'\n",
    "print(conductor)"
   ]
  },
  {
   "cell_type": "code",
   "execution_count": 84,
   "id": "afdac6ad",
   "metadata": {},
   "outputs": [
    {
     "name": "stdout",
     "output_type": "stream",
     "text": [
      "{'first_name': '단테'}\n"
     ]
    }
   ],
   "source": [
    "# 제거 -> .pop()\n",
    "conductor = {'first_name': '단테', 'last_name': '안'}\n",
    "conductor.pop('last_name')\n",
    "print(conductor)"
   ]
  },
  {
   "cell_type": "code",
   "execution_count": 85,
   "id": "ed04db82",
   "metadata": {},
   "outputs": [
    {
     "name": "stdout",
     "output_type": "stream",
     "text": [
      "first_name\n",
      "last_name\n"
     ]
    }
   ],
   "source": [
    "# for문 -> 기본적으로 키값만\n",
    "conductor = {'first_name': '단테', 'last_name': '안'}\n",
    "for key in conductor:\n",
    "    print(key)"
   ]
  },
  {
   "cell_type": "code",
   "execution_count": 86,
   "id": "04a3134b",
   "metadata": {},
   "outputs": [
    {
     "name": "stdout",
     "output_type": "stream",
     "text": [
      "first_name : 단테\n",
      "last_name : 안\n"
     ]
    }
   ],
   "source": [
    "# # for문 + .items() -> key값 + value값\n",
    "conductor = {'first_name': '단테', 'last_name': '안'}\n",
    "for key, value in conductor.items():\n",
    "    print(key + ' : ' + value)"
   ]
  },
  {
   "cell_type": "markdown",
   "id": "36d85231",
   "metadata": {},
   "source": [
    "## 5-21. 마무리하기\n",
    "#### 함수(function): 불려진 시점에 특정한 작업을 수행하며, 입력값과 출력값(반환값)을 가질 수 있다.\n",
    "- 인자(argument): 함수를 호출할 때 전달하는 입력값\n",
    "- 매개변수(parameter): 함수가 실행될 때 입력값이 들어올 변수\n",
    "- 반환값(return value): 함수가 종료될 때 호출 지점으로 전달할 출력값\n",
    "  \n",
    "#### 변수(variable): 값을 가리키는 이름이다.\n",
    "- 스코프(scope): 변수가 유효한 범위\n",
    "  \n",
    "#### 연산자(operator): 주어진 값들에 대해 정해진 연산을 수행한다.\n",
    "- 수리 연산자(mathematical operator): +, -, *, /, //, **\n",
    "- 비교 연산자(comparison operator): ==, !=, <, >, <=, >=, is\n",
    "- 논리 연산자(logical operator): and, or\n",
    "- 소속 연산자(membership operator): in\n",
    "  \n",
    "#### 제어문(control statements): 코드 블록의 흐름(실행 여부, 반복)을 제어한다.\n",
    "- if: 명제가 참이면 실행\n",
    "- else: if 명제 이외의 경우에 실행\n",
    "- elif: if 명제 이외의 경우에 또 다른 명제가 참일 경우에 실행\n",
    "- while: 명제가 참일 동안 반복\n",
    "- for: 주어진 값들 하나씩 반복\n",
    "  \n",
    "#### 자료형(data types): 값들의 종류를 나타낸다.\n",
    "- 정수(int), 부동소수점 수(float), 불리언(bool), 문자열(str), 튜플(tuple), 리스트(list), 딕셔너리(dict)"
   ]
  },
  {
   "cell_type": "markdown",
   "id": "47978746",
   "metadata": {},
   "source": [
    "## 5-22. 재귀함수와 치킨(심화)\n",
    "- 재귀 함수란, 함수 내에서 그 함수 스스로를 사용하는 함수 종류이다. 즉, def f(): 안의 코드 블럭에서 f()를 호출한다면, 그 함수는 재귀 함수이다. 대표적으로 피보나치 수열의 n번째 숫자를 찾아낼 때 사용된다.\n",
    "- 피보나치 수열은 사람 수에 따른 최적의 치킨 수를 구할 때에도 사용될 수 있다. 피보나치 수열의 n번째 숫자만큼의 사람이 있다면, n-1번째 피보나치 숫자만큼 주문하면 된다. 즉, 1명일 때는 1마리, 2명일 때는 1마리, 3명일 때는 2마리, 5명일 때는 3마리 ... 를 주문하면 된다. 이를 바탕으로 FibonaChicken()함수를 만들어본다."
   ]
  },
  {
   "cell_type": "code",
   "execution_count": 87,
   "id": "8010b98e",
   "metadata": {},
   "outputs": [],
   "source": [
    "def FibonaChicken(n):\n",
    "    if n<=2:\n",
    "        return 1\n",
    "    else:\n",
    "        return FibonaChicken(n-2) + FibonaChicken(n-1)\n",
    "    n = n + 1\n",
    "    print(n)"
   ]
  },
  {
   "cell_type": "markdown",
   "id": "628aa275",
   "metadata": {},
   "source": [
    "## 5-23. fibonacci (심화)"
   ]
  },
  {
   "cell_type": "code",
   "execution_count": 88,
   "id": "a54649cf",
   "metadata": {},
   "outputs": [],
   "source": [
    "def fibonacci(n):\n",
    "    if n <= 2:\n",
    "        number = 1\n",
    "    else:\n",
    "       number = fibonacci(n-1) + fibonacci(n-2)\n",
    "    return number"
   ]
  },
  {
   "cell_type": "markdown",
   "id": "843c9dc4",
   "metadata": {},
   "source": [
    "## 5-24. 더 빠르게! (심화)\n",
    "- 피보나치 함수는 최초의 n이 커질수록 속도는 기하급수적으로 느려진다는 단점이 있다. 계속해서 fibonacci함수를 불러와 계산해야하므로 계산 횟수가 굉장히 많아지는 것도 있지만, 한 번 불린 함수/입력값 조합이 반복적으로 불리기 때문에 이미 계산한 값을 다시 계산해야 한다는 비효율성도 있다.\n",
    "- 변수의 스코프를 활용하여 함수 밖에서 딕셔너리를 만들어서 한 번 계산된 값들을 기억하도록 만들 수 있다. 딕셔너리의 이름은 memory라고 했을 때, 피보나치 순서 n이 키, 그 순서에 해당하는 피보나치 숫자가 값이 되도록 한다. 여기에 1번째 피보나치 수 1, 2번째 피보나치 수 1을 알려준다.\n",
    "- <span style='background-color: #fff5b1'>메모이제이션(memoization)</span> : 프로그래밍에서 이렇게 중간 계산 값을 기억해놓고, 다시 계산하는 대신 값을 바로 읽어 쓰는 방식으로 계산 시간을 줄이는 기법"
   ]
  },
  {
   "cell_type": "code",
   "execution_count": 91,
   "id": "46aee4c5",
   "metadata": {},
   "outputs": [],
   "source": [
    "memory = {1: 1, 2: 1}\n",
    "\n",
    "def fibonacci(n):\n",
    "    if n in memory:\n",
    "        number = memory[n]\n",
    "    else:\n",
    "       number = fibonacci(n-1) + fibonacci(n-2)\n",
    "       memory[n] = number\n",
    "    return number"
   ]
  },
  {
   "cell_type": "markdown",
   "id": "9540356b",
   "metadata": {},
   "source": [
    "- memory = {1: 1, 2: 1}는 함수 밖에서 정의한 변수이므로 함수 안에서 가져다 쓸 수 있고, 함수 실행이 종료되어도 계속 기억된다. 이러한 성질을 이용해서, 이미 기억에 있는 숫자 n이 들어올 경우 계산하지 말고 기억된대로 출력할 수 있다.\n",
    "- if문에 딸린 조건문과 코드 블록이 변경되었다. if n in memory를 통해 입력값 n이라는 키가 memory 딕셔너리에 이미 있는 경우, 그 값 memory[n]을 바로 number로써 반환하라는 뜻이다.\n",
    "- fibonacci(n-1) + fibonacci(n-2)를 통해 구한 값은 memory에 저장된다. memory 변수를 새로 정의하는 것이 아니라 이미 있는 딕셔너리에 새로운 값을 추가하는 것이니, 함수 내부에서 똑같은 이름의 변수가 새로 만들어지는 문제도 피할 수 있다."
   ]
  },
  {
   "cell_type": "code",
   "execution_count": 92,
   "id": "fb4a5382",
   "metadata": {},
   "outputs": [
    {
     "name": "stdout",
     "output_type": "stream",
     "text": [
      "354224848179261915075\n"
     ]
    }
   ],
   "source": [
    "print(fibonacci(100))"
   ]
  },
  {
   "cell_type": "code",
   "execution_count": 93,
   "id": "fb85cced",
   "metadata": {},
   "outputs": [
    {
     "name": "stdout",
     "output_type": "stream",
     "text": [
      "{1: 1, 2: 1, 3: 2, 4: 3, 5: 5, 6: 8, 7: 13, 8: 21, 9: 34, 10: 55, 11: 89, 12: 144, 13: 233, 14: 377, 15: 610, 16: 987, 17: 1597, 18: 2584, 19: 4181, 20: 6765, 21: 10946, 22: 17711, 23: 28657, 24: 46368, 25: 75025, 26: 121393, 27: 196418, 28: 317811, 29: 514229, 30: 832040, 31: 1346269, 32: 2178309, 33: 3524578, 34: 5702887, 35: 9227465, 36: 14930352, 37: 24157817, 38: 39088169, 39: 63245986, 40: 102334155, 41: 165580141, 42: 267914296, 43: 433494437, 44: 701408733, 45: 1134903170, 46: 1836311903, 47: 2971215073, 48: 4807526976, 49: 7778742049, 50: 12586269025, 51: 20365011074, 52: 32951280099, 53: 53316291173, 54: 86267571272, 55: 139583862445, 56: 225851433717, 57: 365435296162, 58: 591286729879, 59: 956722026041, 60: 1548008755920, 61: 2504730781961, 62: 4052739537881, 63: 6557470319842, 64: 10610209857723, 65: 17167680177565, 66: 27777890035288, 67: 44945570212853, 68: 72723460248141, 69: 117669030460994, 70: 190392490709135, 71: 308061521170129, 72: 498454011879264, 73: 806515533049393, 74: 1304969544928657, 75: 2111485077978050, 76: 3416454622906707, 77: 5527939700884757, 78: 8944394323791464, 79: 14472334024676221, 80: 23416728348467685, 81: 37889062373143906, 82: 61305790721611591, 83: 99194853094755497, 84: 160500643816367088, 85: 259695496911122585, 86: 420196140727489673, 87: 679891637638612258, 88: 1100087778366101931, 89: 1779979416004714189, 90: 2880067194370816120, 91: 4660046610375530309, 92: 7540113804746346429, 93: 12200160415121876738, 94: 19740274219868223167, 95: 31940434634990099905, 96: 51680708854858323072, 97: 83621143489848422977, 98: 135301852344706746049, 99: 218922995834555169026, 100: 354224848179261915075}\n"
     ]
    }
   ],
   "source": [
    "print(memory)"
   ]
  }
 ],
 "metadata": {
  "kernelspec": {
   "display_name": "Python 3 (ipykernel)",
   "language": "python",
   "name": "python3"
  },
  "language_info": {
   "codemirror_mode": {
    "name": "ipython",
    "version": 3
   },
   "file_extension": ".py",
   "mimetype": "text/x-python",
   "name": "python",
   "nbconvert_exporter": "python",
   "pygments_lexer": "ipython3",
   "version": "3.9.7"
  }
 },
 "nbformat": 4,
 "nbformat_minor": 5
}
