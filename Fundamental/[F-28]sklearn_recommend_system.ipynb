{
 "cells": [
  {
   "cell_type": "markdown",
   "id": "f3d5c65d",
   "metadata": {},
   "source": [
    "# 28강. 사이킷런을 활용한 추천 시스템 입문"
   ]
  },
  {
   "cell_type": "markdown",
   "id": "25ef570e",
   "metadata": {},
   "source": [
    "## 28-3. 코사인 유사도\n",
    "### Numpy 활용"
   ]
  },
  {
   "cell_type": "code",
   "execution_count": 1,
   "id": "053f376b",
   "metadata": {},
   "outputs": [],
   "source": [
    "import numpy as np\n",
    "\n",
    "t1 = np.array([1, 1, 1])\n",
    "t2 = np.array([2, 0, 1])"
   ]
  },
  {
   "cell_type": "code",
   "execution_count": 2,
   "id": "28c764d4",
   "metadata": {},
   "outputs": [],
   "source": [
    "from numpy import dot\n",
    "from numpy.linalg import norm\n",
    "def cos_sim(A, B):\n",
    "    return dot(A, B)/(norm(A)*norm(B))"
   ]
  },
  {
   "cell_type": "markdown",
   "id": "9a02b0e6",
   "metadata": {},
   "source": [
    "- [numpy norm](https://www.delftstack.com/ko/howto/numpy/normalize-vector-in-python/) : 벡터 정규화"
   ]
  },
  {
   "cell_type": "code",
   "execution_count": 3,
   "id": "c0e93f4b",
   "metadata": {},
   "outputs": [
    {
     "data": {
      "text/plain": [
       "0.7745966692414834"
      ]
     },
     "execution_count": 3,
     "metadata": {},
     "output_type": "execute_result"
    }
   ],
   "source": [
    "cos_sim(t1, t2)"
   ]
  },
  {
   "cell_type": "markdown",
   "id": "a9f62d78",
   "metadata": {},
   "source": [
    "### 사이킷런 활용"
   ]
  },
  {
   "cell_type": "code",
   "execution_count": 4,
   "id": "492bf6b3",
   "metadata": {},
   "outputs": [],
   "source": [
    "from sklearn.metrics.pairwise import cosine_similarity"
   ]
  },
  {
   "cell_type": "code",
   "execution_count": 5,
   "id": "ae88cb2d",
   "metadata": {},
   "outputs": [
    {
     "data": {
      "text/plain": [
       "array([[0.77459667]])"
      ]
     },
     "execution_count": 5,
     "metadata": {},
     "output_type": "execute_result"
    }
   ],
   "source": [
    "t1 = np.array([[1, 1, 1]])\n",
    "t2 = np.array([[2, 0, 1]])\n",
    "cosine_similarity(t1,t2)"
   ]
  },
  {
   "cell_type": "markdown",
   "id": "ad999821",
   "metadata": {},
   "source": [
    "## 28-5. 콘텐츠 기반 필터링"
   ]
  },
  {
   "cell_type": "code",
   "execution_count": 6,
   "id": "545bfa03",
   "metadata": {},
   "outputs": [],
   "source": [
    "# 필요한 모듈 import\n",
    "import pandas as pd\n",
    "import numpy as np\n",
    "from sklearn.feature_extraction.text import CountVectorizer\n",
    "from sklearn.metrics.pairwise import cosine_similarity"
   ]
  },
  {
   "cell_type": "code",
   "execution_count": 7,
   "id": "0aa1ce18",
   "metadata": {},
   "outputs": [
    {
     "name": "stdout",
     "output_type": "stream",
     "text": [
      "--2022-12-19 02:48:50--  https://aiffelstaticprd.blob.core.windows.net/media/documents/movie_dataset.csv\n",
      "Resolving aiffelstaticprd.blob.core.windows.net (aiffelstaticprd.blob.core.windows.net)... 52.239.148.4\n",
      "Connecting to aiffelstaticprd.blob.core.windows.net (aiffelstaticprd.blob.core.windows.net)|52.239.148.4|:443... connected.\n",
      "HTTP request sent, awaiting response... 200 OK\n",
      "Length: 23432179 (22M) [text/csv]\n",
      "Saving to: ‘movie_dataset.csv’\n",
      "\n",
      "movie_dataset.csv   100%[===================>]  22.35M  5.71MB/s    in 3.9s    \n",
      "\n",
      "2022-12-19 02:48:55 (5.71 MB/s) - ‘movie_dataset.csv’ saved [23432179/23432179]\n",
      "\n"
     ]
    },
    {
     "data": {
      "text/html": [
       "<div>\n",
       "<style scoped>\n",
       "    .dataframe tbody tr th:only-of-type {\n",
       "        vertical-align: middle;\n",
       "    }\n",
       "\n",
       "    .dataframe tbody tr th {\n",
       "        vertical-align: top;\n",
       "    }\n",
       "\n",
       "    .dataframe thead th {\n",
       "        text-align: right;\n",
       "    }\n",
       "</style>\n",
       "<table border=\"1\" class=\"dataframe\">\n",
       "  <thead>\n",
       "    <tr style=\"text-align: right;\">\n",
       "      <th></th>\n",
       "      <th>index</th>\n",
       "      <th>budget</th>\n",
       "      <th>genres</th>\n",
       "      <th>homepage</th>\n",
       "      <th>id</th>\n",
       "      <th>keywords</th>\n",
       "      <th>original_language</th>\n",
       "      <th>original_title</th>\n",
       "      <th>overview</th>\n",
       "      <th>popularity</th>\n",
       "      <th>...</th>\n",
       "      <th>runtime</th>\n",
       "      <th>spoken_languages</th>\n",
       "      <th>status</th>\n",
       "      <th>tagline</th>\n",
       "      <th>title</th>\n",
       "      <th>vote_average</th>\n",
       "      <th>vote_count</th>\n",
       "      <th>cast</th>\n",
       "      <th>crew</th>\n",
       "      <th>director</th>\n",
       "    </tr>\n",
       "  </thead>\n",
       "  <tbody>\n",
       "    <tr>\n",
       "      <th>0</th>\n",
       "      <td>0</td>\n",
       "      <td>237000000</td>\n",
       "      <td>Action Adventure Fantasy Science Fiction</td>\n",
       "      <td>http://www.avatarmovie.com/</td>\n",
       "      <td>19995</td>\n",
       "      <td>culture clash future space war space colony so...</td>\n",
       "      <td>en</td>\n",
       "      <td>Avatar</td>\n",
       "      <td>In the 22nd century, a paraplegic Marine is di...</td>\n",
       "      <td>150.437577</td>\n",
       "      <td>...</td>\n",
       "      <td>162.0</td>\n",
       "      <td>[{\"iso_639_1\": \"en\", \"name\": \"English\"}, {\"iso...</td>\n",
       "      <td>Released</td>\n",
       "      <td>Enter the World of Pandora.</td>\n",
       "      <td>Avatar</td>\n",
       "      <td>7.2</td>\n",
       "      <td>11800</td>\n",
       "      <td>Sam Worthington Zoe Saldana Sigourney Weaver S...</td>\n",
       "      <td>[{'name': 'Stephen E. Rivkin', 'gender': 0, 'd...</td>\n",
       "      <td>James Cameron</td>\n",
       "    </tr>\n",
       "    <tr>\n",
       "      <th>1</th>\n",
       "      <td>1</td>\n",
       "      <td>300000000</td>\n",
       "      <td>Adventure Fantasy Action</td>\n",
       "      <td>http://disney.go.com/disneypictures/pirates/</td>\n",
       "      <td>285</td>\n",
       "      <td>ocean drug abuse exotic island east india trad...</td>\n",
       "      <td>en</td>\n",
       "      <td>Pirates of the Caribbean: At World's End</td>\n",
       "      <td>Captain Barbossa, long believed to be dead, ha...</td>\n",
       "      <td>139.082615</td>\n",
       "      <td>...</td>\n",
       "      <td>169.0</td>\n",
       "      <td>[{\"iso_639_1\": \"en\", \"name\": \"English\"}]</td>\n",
       "      <td>Released</td>\n",
       "      <td>At the end of the world, the adventure begins.</td>\n",
       "      <td>Pirates of the Caribbean: At World's End</td>\n",
       "      <td>6.9</td>\n",
       "      <td>4500</td>\n",
       "      <td>Johnny Depp Orlando Bloom Keira Knightley Stel...</td>\n",
       "      <td>[{'name': 'Dariusz Wolski', 'gender': 2, 'depa...</td>\n",
       "      <td>Gore Verbinski</td>\n",
       "    </tr>\n",
       "    <tr>\n",
       "      <th>2</th>\n",
       "      <td>2</td>\n",
       "      <td>245000000</td>\n",
       "      <td>Action Adventure Crime</td>\n",
       "      <td>http://www.sonypictures.com/movies/spectre/</td>\n",
       "      <td>206647</td>\n",
       "      <td>spy based on novel secret agent sequel mi6</td>\n",
       "      <td>en</td>\n",
       "      <td>Spectre</td>\n",
       "      <td>A cryptic message from Bond’s past sends him o...</td>\n",
       "      <td>107.376788</td>\n",
       "      <td>...</td>\n",
       "      <td>148.0</td>\n",
       "      <td>[{\"iso_639_1\": \"fr\", \"name\": \"Fran\\u00e7ais\"},...</td>\n",
       "      <td>Released</td>\n",
       "      <td>A Plan No One Escapes</td>\n",
       "      <td>Spectre</td>\n",
       "      <td>6.3</td>\n",
       "      <td>4466</td>\n",
       "      <td>Daniel Craig Christoph Waltz L\\u00e9a Seydoux ...</td>\n",
       "      <td>[{'name': 'Thomas Newman', 'gender': 2, 'depar...</td>\n",
       "      <td>Sam Mendes</td>\n",
       "    </tr>\n",
       "    <tr>\n",
       "      <th>3</th>\n",
       "      <td>3</td>\n",
       "      <td>250000000</td>\n",
       "      <td>Action Crime Drama Thriller</td>\n",
       "      <td>http://www.thedarkknightrises.com/</td>\n",
       "      <td>49026</td>\n",
       "      <td>dc comics crime fighter terrorist secret ident...</td>\n",
       "      <td>en</td>\n",
       "      <td>The Dark Knight Rises</td>\n",
       "      <td>Following the death of District Attorney Harve...</td>\n",
       "      <td>112.312950</td>\n",
       "      <td>...</td>\n",
       "      <td>165.0</td>\n",
       "      <td>[{\"iso_639_1\": \"en\", \"name\": \"English\"}]</td>\n",
       "      <td>Released</td>\n",
       "      <td>The Legend Ends</td>\n",
       "      <td>The Dark Knight Rises</td>\n",
       "      <td>7.6</td>\n",
       "      <td>9106</td>\n",
       "      <td>Christian Bale Michael Caine Gary Oldman Anne ...</td>\n",
       "      <td>[{'name': 'Hans Zimmer', 'gender': 2, 'departm...</td>\n",
       "      <td>Christopher Nolan</td>\n",
       "    </tr>\n",
       "    <tr>\n",
       "      <th>4</th>\n",
       "      <td>4</td>\n",
       "      <td>260000000</td>\n",
       "      <td>Action Adventure Science Fiction</td>\n",
       "      <td>http://movies.disney.com/john-carter</td>\n",
       "      <td>49529</td>\n",
       "      <td>based on novel mars medallion space travel pri...</td>\n",
       "      <td>en</td>\n",
       "      <td>John Carter</td>\n",
       "      <td>John Carter is a war-weary, former military ca...</td>\n",
       "      <td>43.926995</td>\n",
       "      <td>...</td>\n",
       "      <td>132.0</td>\n",
       "      <td>[{\"iso_639_1\": \"en\", \"name\": \"English\"}]</td>\n",
       "      <td>Released</td>\n",
       "      <td>Lost in our world, found in another.</td>\n",
       "      <td>John Carter</td>\n",
       "      <td>6.1</td>\n",
       "      <td>2124</td>\n",
       "      <td>Taylor Kitsch Lynn Collins Samantha Morton Wil...</td>\n",
       "      <td>[{'name': 'Andrew Stanton', 'gender': 2, 'depa...</td>\n",
       "      <td>Andrew Stanton</td>\n",
       "    </tr>\n",
       "  </tbody>\n",
       "</table>\n",
       "<p>5 rows × 24 columns</p>\n",
       "</div>"
      ],
      "text/plain": [
       "   index     budget                                    genres  \\\n",
       "0      0  237000000  Action Adventure Fantasy Science Fiction   \n",
       "1      1  300000000                  Adventure Fantasy Action   \n",
       "2      2  245000000                    Action Adventure Crime   \n",
       "3      3  250000000               Action Crime Drama Thriller   \n",
       "4      4  260000000          Action Adventure Science Fiction   \n",
       "\n",
       "                                       homepage      id  \\\n",
       "0                   http://www.avatarmovie.com/   19995   \n",
       "1  http://disney.go.com/disneypictures/pirates/     285   \n",
       "2   http://www.sonypictures.com/movies/spectre/  206647   \n",
       "3            http://www.thedarkknightrises.com/   49026   \n",
       "4          http://movies.disney.com/john-carter   49529   \n",
       "\n",
       "                                            keywords original_language  \\\n",
       "0  culture clash future space war space colony so...                en   \n",
       "1  ocean drug abuse exotic island east india trad...                en   \n",
       "2         spy based on novel secret agent sequel mi6                en   \n",
       "3  dc comics crime fighter terrorist secret ident...                en   \n",
       "4  based on novel mars medallion space travel pri...                en   \n",
       "\n",
       "                             original_title  \\\n",
       "0                                    Avatar   \n",
       "1  Pirates of the Caribbean: At World's End   \n",
       "2                                   Spectre   \n",
       "3                     The Dark Knight Rises   \n",
       "4                               John Carter   \n",
       "\n",
       "                                            overview  popularity  ... runtime  \\\n",
       "0  In the 22nd century, a paraplegic Marine is di...  150.437577  ...   162.0   \n",
       "1  Captain Barbossa, long believed to be dead, ha...  139.082615  ...   169.0   \n",
       "2  A cryptic message from Bond’s past sends him o...  107.376788  ...   148.0   \n",
       "3  Following the death of District Attorney Harve...  112.312950  ...   165.0   \n",
       "4  John Carter is a war-weary, former military ca...   43.926995  ...   132.0   \n",
       "\n",
       "                                    spoken_languages    status  \\\n",
       "0  [{\"iso_639_1\": \"en\", \"name\": \"English\"}, {\"iso...  Released   \n",
       "1           [{\"iso_639_1\": \"en\", \"name\": \"English\"}]  Released   \n",
       "2  [{\"iso_639_1\": \"fr\", \"name\": \"Fran\\u00e7ais\"},...  Released   \n",
       "3           [{\"iso_639_1\": \"en\", \"name\": \"English\"}]  Released   \n",
       "4           [{\"iso_639_1\": \"en\", \"name\": \"English\"}]  Released   \n",
       "\n",
       "                                          tagline  \\\n",
       "0                     Enter the World of Pandora.   \n",
       "1  At the end of the world, the adventure begins.   \n",
       "2                           A Plan No One Escapes   \n",
       "3                                 The Legend Ends   \n",
       "4            Lost in our world, found in another.   \n",
       "\n",
       "                                      title vote_average vote_count  \\\n",
       "0                                    Avatar          7.2      11800   \n",
       "1  Pirates of the Caribbean: At World's End          6.9       4500   \n",
       "2                                   Spectre          6.3       4466   \n",
       "3                     The Dark Knight Rises          7.6       9106   \n",
       "4                               John Carter          6.1       2124   \n",
       "\n",
       "                                                cast  \\\n",
       "0  Sam Worthington Zoe Saldana Sigourney Weaver S...   \n",
       "1  Johnny Depp Orlando Bloom Keira Knightley Stel...   \n",
       "2  Daniel Craig Christoph Waltz L\\u00e9a Seydoux ...   \n",
       "3  Christian Bale Michael Caine Gary Oldman Anne ...   \n",
       "4  Taylor Kitsch Lynn Collins Samantha Morton Wil...   \n",
       "\n",
       "                                                crew           director  \n",
       "0  [{'name': 'Stephen E. Rivkin', 'gender': 0, 'd...      James Cameron  \n",
       "1  [{'name': 'Dariusz Wolski', 'gender': 2, 'depa...     Gore Verbinski  \n",
       "2  [{'name': 'Thomas Newman', 'gender': 2, 'depar...         Sam Mendes  \n",
       "3  [{'name': 'Hans Zimmer', 'gender': 2, 'departm...  Christopher Nolan  \n",
       "4  [{'name': 'Andrew Stanton', 'gender': 2, 'depa...     Andrew Stanton  \n",
       "\n",
       "[5 rows x 24 columns]"
      ]
     },
     "execution_count": 7,
     "metadata": {},
     "output_type": "execute_result"
    }
   ],
   "source": [
    "# 데이터 로드\n",
    "import os\n",
    "\n",
    "!wget https://aiffelstaticprd.blob.core.windows.net/media/documents/movie_dataset.csv\n",
    "!mv movie_dataset.csv  ~/aiffel/movie_recommendation\n",
    "\n",
    "csv_path = os.getenv('HOME')+'/aiffel/movie_recommendation/movie_dataset.csv'\n",
    "df = pd.read_csv(csv_path)\n",
    "df.head()"
   ]
  },
  {
   "cell_type": "code",
   "execution_count": 8,
   "id": "4dca7c7c",
   "metadata": {},
   "outputs": [
    {
     "data": {
      "text/plain": [
       "Index(['index', 'budget', 'genres', 'homepage', 'id', 'keywords',\n",
       "       'original_language', 'original_title', 'overview', 'popularity',\n",
       "       'production_companies', 'production_countries', 'release_date',\n",
       "       'revenue', 'runtime', 'spoken_languages', 'status', 'tagline', 'title',\n",
       "       'vote_average', 'vote_count', 'cast', 'crew', 'director'],\n",
       "      dtype='object')"
      ]
     },
     "execution_count": 8,
     "metadata": {},
     "output_type": "execute_result"
    }
   ],
   "source": [
    "# 특성 선택\n",
    "df.columns"
   ]
  },
  {
   "cell_type": "code",
   "execution_count": 9,
   "id": "490815e3",
   "metadata": {},
   "outputs": [
    {
     "data": {
      "text/plain": [
       "['keywords', 'cast', 'genres', 'director']"
      ]
     },
     "execution_count": 9,
     "metadata": {},
     "output_type": "execute_result"
    }
   ],
   "source": [
    "features = ['keywords','cast','genres','director']\n",
    "features"
   ]
  },
  {
   "cell_type": "code",
   "execution_count": 10,
   "id": "22ac8344",
   "metadata": {},
   "outputs": [
    {
     "data": {
      "text/plain": [
       "0    culture clash future space war space colony so...\n",
       "1    ocean drug abuse exotic island east india trad...\n",
       "2    spy based on novel secret agent sequel mi6 Dan...\n",
       "3    dc comics crime fighter terrorist secret ident...\n",
       "4    based on novel mars medallion space travel pri...\n",
       "dtype: object"
      ]
     },
     "execution_count": 10,
     "metadata": {},
     "output_type": "execute_result"
    }
   ],
   "source": [
    "def combine_features(row):\n",
    "    return row['keywords']+\" \"+row['cast']+\" \"+row['genres']+\" \"+row['director']\n",
    "\n",
    "combine_features(df[:5])"
   ]
  },
  {
   "cell_type": "code",
   "execution_count": 11,
   "id": "6f8644bb",
   "metadata": {},
   "outputs": [
    {
     "data": {
      "text/plain": [
       "0       culture clash future space war space colony so...\n",
       "1       ocean drug abuse exotic island east india trad...\n",
       "2       spy based on novel secret agent sequel mi6 Dan...\n",
       "3       dc comics crime fighter terrorist secret ident...\n",
       "4       based on novel mars medallion space travel pri...\n",
       "                              ...                        \n",
       "4798    united states\\u2013mexico barrier legs arms pa...\n",
       "4799     Edward Burns Kerry Bish\\u00e9 Marsha Dietlein...\n",
       "4800    date love at first sight narration investigati...\n",
       "4801     Daniel Henney Eliza Coupe Bill Paxton Alan Ru...\n",
       "4802    obsession camcorder crush dream girl Drew Barr...\n",
       "Name: combined_features, Length: 4803, dtype: object"
      ]
     },
     "execution_count": 11,
     "metadata": {},
     "output_type": "execute_result"
    }
   ],
   "source": [
    "for feature in features:\n",
    "    df[feature] = df[feature].fillna('')\n",
    "\n",
    "df[\"combined_features\"] = df.apply(combine_features,axis=1)\n",
    "df[\"combined_features\"]"
   ]
  },
  {
   "cell_type": "code",
   "execution_count": 12,
   "id": "1a434fda",
   "metadata": {},
   "outputs": [
    {
     "name": "stdout",
     "output_type": "stream",
     "text": [
      "<class 'scipy.sparse.csr.csr_matrix'>\n",
      "(4803, 14845)\n",
      "  (0, 3115)\t1\n",
      "  (0, 2616)\t1\n",
      "  (0, 4886)\t1\n",
      "  (0, 12386)\t2\n",
      "  (0, 14235)\t1\n",
      "  (0, 2755)\t1\n",
      "  (0, 12299)\t1\n",
      "  (0, 11517)\t1\n",
      "  (0, 14561)\t1\n",
      "  (0, 14820)\t1\n",
      "  (0, 11490)\t1\n",
      "  (0, 12134)\t1\n",
      "  (0, 14291)\t1\n",
      "  (0, 12567)\t1\n",
      "  (0, 7496)\t1\n",
      "  (0, 8831)\t1\n",
      "  (0, 11217)\t1\n",
      "  (0, 86)\t1\n",
      "  (0, 144)\t1\n",
      "  (0, 4435)\t1\n",
      "  (0, 11745)\t1\n",
      "  (0, 4566)\t1\n",
      "  (0, 6542)\t1\n",
      "  (0, 2061)\t1\n",
      "  (1, 86)\t1\n",
      "  :\t:\n",
      "  (4801, 10069)\t1\n",
      "  (4801, 5844)\t1\n",
      "  (4801, 252)\t1\n",
      "  (4801, 4098)\t1\n",
      "  (4801, 14796)\t1\n",
      "  (4801, 11361)\t1\n",
      "  (4801, 2978)\t1\n",
      "  (4801, 12036)\t1\n",
      "  (4801, 6138)\t1\n",
      "  (4802, 9659)\t1\n",
      "  (4802, 3812)\t1\n",
      "  (4802, 1788)\t2\n",
      "  (4802, 4210)\t1\n",
      "  (4802, 5181)\t1\n",
      "  (4802, 2912)\t1\n",
      "  (4802, 3821)\t1\n",
      "  (4802, 1069)\t1\n",
      "  (4802, 11185)\t1\n",
      "  (4802, 3681)\t1\n",
      "  (4802, 5399)\t1\n",
      "  (4802, 3894)\t1\n",
      "  (4802, 2056)\t1\n",
      "  (4802, 3093)\t1\n",
      "  (4802, 4502)\t1\n",
      "  (4802, 5900)\t2\n"
     ]
    }
   ],
   "source": [
    "# 벡터화 후 코사인 유사도를 계산\n",
    "cv = CountVectorizer()\n",
    "count_matrix = cv.fit_transform(df[\"combined_features\"])\n",
    "print(type(count_matrix))\n",
    "print(count_matrix.shape)\n",
    "print(count_matrix)"
   ]
  },
  {
   "cell_type": "markdown",
   "id": "fa510805",
   "metadata": {},
   "source": [
    "- 장르, 배우명, 감독명의 텍스트 데이터를 범주형 데이터로 보기 때문에 단순하게 등장횟수를 세어 숫자 벡터로 만든다.\n",
    "- CSR Matrix : Sparse한 matrix에서 0이 아닌 유효한 데이터로 채워지는 데이터의 값과 좌표 정보로만으로 구성하여 메모리 사용량을 최소화하면서도 Sparse한 matrix와 동일한 행렬을 표현할 수 있도록 하는 데이터 구조.  \n",
    "(0, 3115) 1 = 1번째 row는 3116번째 단어가 1번 출현한다."
   ]
  },
  {
   "cell_type": "code",
   "execution_count": 13,
   "id": "d10855ea",
   "metadata": {},
   "outputs": [
    {
     "name": "stdout",
     "output_type": "stream",
     "text": [
      "[[1.         0.10540926 0.12038585 ... 0.         0.         0.        ]\n",
      " [0.10540926 1.         0.0761387  ... 0.03651484 0.         0.        ]\n",
      " [0.12038585 0.0761387  1.         ... 0.         0.11145564 0.        ]\n",
      " ...\n",
      " [0.         0.03651484 0.         ... 1.         0.         0.04264014]\n",
      " [0.         0.         0.11145564 ... 0.         1.         0.        ]\n",
      " [0.         0.         0.         ... 0.04264014 0.         1.        ]]\n",
      "(4803, 4803)\n"
     ]
    }
   ],
   "source": [
    "# 코사인 유사도 계산\n",
    "cosine_sim = cosine_similarity(count_matrix)\n",
    "print(cosine_sim)\n",
    "print(cosine_sim.shape)"
   ]
  },
  {
   "cell_type": "code",
   "execution_count": 14,
   "id": "3f07ef37",
   "metadata": {},
   "outputs": [
    {
     "name": "stdout",
     "output_type": "stream",
     "text": [
      "Avatar와 비슷한 영화 3편은 \n",
      "\n",
      "Guardians of the Galaxy\n",
      "Aliens\n",
      "Star Wars: Clone Wars: Volume 1\n"
     ]
    }
   ],
   "source": [
    "# 코사인 유사도로 계산된 가장 비슷한 영화 3편 추천\n",
    "def get_title_from_index(index):\n",
    "    return df[df.index == index][\"title\"].values[0]\n",
    "def get_index_from_title(title):\n",
    "    return df[df.title == title][\"index\"].values[0]\n",
    "\n",
    "movie_user_likes = \"Avatar\"\n",
    "movie_index = get_index_from_title(movie_user_likes)\n",
    "similar_movies = list(enumerate(cosine_sim[movie_index]))\n",
    "\n",
    "sorted_similar_movies = sorted(similar_movies,key=lambda x:x[1],reverse=True)[1:]\n",
    "\n",
    "i=0\n",
    "print(movie_user_likes+\"와 비슷한 영화 3편은 \"+\"\\n\")\n",
    "for item in sorted_similar_movies:\n",
    "    print(get_title_from_index(item[0]))\n",
    "    i=i+1\n",
    "    if i==3:\n",
    "        break"
   ]
  },
  {
   "cell_type": "markdown",
   "id": "4db00aed",
   "metadata": {},
   "source": [
    "## 28-7. 협업 필터링 (2) 행렬 인수분해"
   ]
  },
  {
   "cell_type": "code",
   "execution_count": 15,
   "id": "bda8799a",
   "metadata": {},
   "outputs": [],
   "source": [
    "import numpy as np\n",
    "from numpy.linalg import svd"
   ]
  },
  {
   "cell_type": "code",
   "execution_count": 16,
   "id": "6d0b4f0d",
   "metadata": {},
   "outputs": [
    {
     "data": {
      "text/plain": [
       "array([[37, 37, 45, 45],\n",
       "       [12, 23,  2, 53],\n",
       "       [17, 46,  3, 41],\n",
       "       [ 7, 65, 49, 45]])"
      ]
     },
     "execution_count": 16,
     "metadata": {},
     "output_type": "execute_result"
    }
   ],
   "source": [
    "np.random.seed(30)\n",
    "A = np.random.randint(0, 100, size=(4, 4))\n",
    "A # 4x4행렬"
   ]
  },
  {
   "cell_type": "code",
   "execution_count": 17,
   "id": "38985e33",
   "metadata": {},
   "outputs": [
    {
     "data": {
      "text/plain": [
       "(array([[-0.54937068, -0.2803037 , -0.76767503, -0.1740596 ],\n",
       "        [-0.3581157 ,  0.69569442, -0.13554741,  0.60777407],\n",
       "        [-0.41727183,  0.47142296,  0.28991733, -0.72082768],\n",
       "        [-0.6291496 , -0.46389601,  0.55520257,  0.28411509]]),\n",
       " array([142.88131188,  39.87683209,  28.97701433,  14.97002405]),\n",
       " array([[-0.25280963, -0.62046326, -0.4025583 , -0.6237463 ],\n",
       "        [ 0.06881225, -0.07117038, -0.8159854 ,  0.56953268],\n",
       "        [-0.73215039,  0.61782756, -0.23266002, -0.16767299],\n",
       "        [-0.62873522, -0.47775436,  0.34348792,  0.50838848]]))"
      ]
     },
     "execution_count": 17,
     "metadata": {},
     "output_type": "execute_result"
    }
   ],
   "source": [
    "svd(A)"
   ]
  },
  {
   "cell_type": "markdown",
   "id": "1e194aba",
   "metadata": {},
   "source": [
    "- 위에서 부터 각각 행렬 U와 행렬 Σ, 행렬 V의 전치행렬"
   ]
  },
  {
   "cell_type": "code",
   "execution_count": 18,
   "id": "efb0fb03",
   "metadata": {},
   "outputs": [
    {
     "name": "stdout",
     "output_type": "stream",
     "text": [
      "U matrix: (4, 4)\n",
      " [[-0.54937068 -0.2803037  -0.76767503 -0.1740596 ]\n",
      " [-0.3581157   0.69569442 -0.13554741  0.60777407]\n",
      " [-0.41727183  0.47142296  0.28991733 -0.72082768]\n",
      " [-0.6291496  -0.46389601  0.55520257  0.28411509]]\n",
      "Sigma: (4,)\n",
      " [142.88131188  39.87683209  28.97701433  14.97002405]\n",
      "V Transpose matrix: (4, 4)\n",
      " [[-0.25280963 -0.62046326 -0.4025583  -0.6237463 ]\n",
      " [ 0.06881225 -0.07117038 -0.8159854   0.56953268]\n",
      " [-0.73215039  0.61782756 -0.23266002 -0.16767299]\n",
      " [-0.62873522 -0.47775436  0.34348792  0.50838848]]\n"
     ]
    }
   ],
   "source": [
    "# unpacking해서 각각 변수명에 할당\n",
    "U, Sigma, VT = svd(A)\n",
    "\n",
    "print('U matrix: {}\\n'.format(U.shape),U)\n",
    "print('Sigma: {}\\n'.format(Sigma.shape),Sigma)\n",
    "print('V Transpose matrix: {}\\n'.format(VT.shape),VT)"
   ]
  },
  {
   "cell_type": "code",
   "execution_count": 19,
   "id": "8dfb1994",
   "metadata": {},
   "outputs": [
    {
     "data": {
      "text/plain": [
       "array([[37., 37., 45., 45.],\n",
       "       [12., 23.,  2., 53.],\n",
       "       [17., 46.,  3., 41.],\n",
       "       [ 7., 65., 49., 45.]])"
      ]
     },
     "execution_count": 19,
     "metadata": {},
     "output_type": "execute_result"
    }
   ],
   "source": [
    "# 복원하기\n",
    "Sigma_mat = np.diag(Sigma)\n",
    "\n",
    "A_ = np.dot(np.dot(U, Sigma_mat), VT)\n",
    "A_"
   ]
  },
  {
   "cell_type": "markdown",
   "id": "fa35b86d",
   "metadata": {},
   "source": [
    "- 복원할 때에는 Σ는 1차원 이므로 0을 포함한 대각 행렬로 변환한 뒤 U, Σ, VT를 내적해야 한다."
   ]
  }
 ],
 "metadata": {
  "kernelspec": {
   "display_name": "Python 3 (ipykernel)",
   "language": "python",
   "name": "python3"
  },
  "language_info": {
   "codemirror_mode": {
    "name": "ipython",
    "version": 3
   },
   "file_extension": ".py",
   "mimetype": "text/x-python",
   "name": "python",
   "nbconvert_exporter": "python",
   "pygments_lexer": "ipython3",
   "version": "3.9.7"
  }
 },
 "nbformat": 4,
 "nbformat_minor": 5
}
