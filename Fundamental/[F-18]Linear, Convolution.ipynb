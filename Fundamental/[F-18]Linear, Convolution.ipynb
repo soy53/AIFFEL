{
 "cells": [
  {
   "cell_type": "markdown",
   "id": "f5e6f167",
   "metadata": {},
   "source": [
    "# 18강. 딥러닝 레이어의 이해(1) Linear, Convolution"
   ]
  },
  {
   "cell_type": "markdown",
   "id": "a524d8b5",
   "metadata": {},
   "source": [
    "## Linear Layer"
   ]
  },
  {
   "cell_type": "code",
   "execution_count": 1,
   "id": "c08658c1",
   "metadata": {},
   "outputs": [
    {
     "name": "stdout",
     "output_type": "stream",
     "text": [
      "1단계 연산 준비: (64, 4, 2)\n",
      "1단계 연산 결과: (64, 4)\n",
      "1단계 Linear Layer의 Weight 형태: (2, 1)\n",
      "\n",
      "2단계 연산 준비: (64, 4)\n",
      "2단계 연산 결과: (64,)\n",
      "2단계 Linear Layer의 Weight 형태: (4, 1)\n"
     ]
    }
   ],
   "source": [
    "import tensorflow as tf\n",
    "\n",
    "batch_size = 64\n",
    "boxes = tf.zeros((batch_size, 4, 2)) # 사각형 2개 세트를 batch_size개만큼 만든 후 처리\n",
    "\n",
    "print(\"1단계 연산 준비:\", boxes.shape)\n",
    "\n",
    "first_linear = tf.keras.layers.Dense(units=1, use_bias=False)\n",
    "# units은 출력 차원 수\n",
    "# Weight 행렬 속 실수를 인간의 뇌 속 하나의 뉴런 유닛 취급\n",
    "\n",
    "first_out = first_linear(boxes)\n",
    "first_out = tf.squeeze(first_out, axis=-1) # (4, 1)을 (4,)로 변환\n",
    "\n",
    "print(\"1단계 연산 결과:\", first_out.shape)\n",
    "print(\"1단계 Linear Layer의 Weight 형태:\", first_linear.weights[0].shape)\n",
    "\n",
    "print(\"\\n2단계 연산 준비:\", first_out.shape)\n",
    "\n",
    "second_linear = tf.keras.layers.Dense(units=1, use_bias=False)\n",
    "second_out = second_linear(first_out)\n",
    "second_out = tf.squeeze(second_out, axis=-1)\n",
    "\n",
    "print('2단계 연산 결과:', second_out.shape)\n",
    "print('2단계 Linear Layer의 Weight 형태:', second_linear.weights[0].shape)"
   ]
  },
  {
   "cell_type": "code",
   "execution_count": 2,
   "id": "4d93b73a",
   "metadata": {},
   "outputs": [
    {
     "name": "stdout",
     "output_type": "stream",
     "text": [
      "1단계 연산 준비: (64, 4, 2)\n",
      "1단계 연산 결과: (64, 4, 3)\n",
      "1단계 Linear Layer의 Weight 형태: (2, 3)\n",
      "\n",
      "2단계 연산 준비: (64, 4, 3)\n",
      "2단계 연산 결과: (64, 4)\n",
      "2단계 Linear Layer의 Weight 형태: (3, 1)\n",
      "\n",
      "3단계 연산 준비: (64, 4)\n",
      "3단계 연산 결과: (64,)\n",
      "3단계 Linear Layer의 Weight 형태: (4, 1)\n",
      "총 Parameters: 13\n"
     ]
    }
   ],
   "source": [
    "batch_size = 64\n",
    "boxes = tf.zeros((batch_size, 4, 2)) # (4,2)차원\n",
    "\n",
    "print('1단계 연산 준비:', boxes.shape)\n",
    "\n",
    "# (4,3)차원으로 확장\n",
    "first_linear = tf.keras.layers.Dense(units=3, use_bias=False)\n",
    "first_out = first_linear(boxes)\n",
    "\n",
    "print('1단계 연산 결과:', first_out.shape)\n",
    "print('1단계 Linear Layer의 Weight 형태:', first_linear.weights[0].shape)\n",
    "\n",
    "print('\\n2단계 연산 준비:', first_out.shape)\n",
    "\n",
    "# Dense = Linear\n",
    "second_linear = tf.keras.layers.Dense(units=1, use_bias=False)\n",
    "second_out = second_linear(first_out)\n",
    "second_out = tf.squeeze(second_out, axis=-1)\n",
    "\n",
    "print('2단계 연산 결과:', second_out.shape)\n",
    "print('2단계 Linear Layer의 Weight 형태:', second_linear.weights[0].shape)\n",
    "\n",
    "print('\\n3단계 연산 준비:', second_out.shape)\n",
    "\n",
    "# 4차원을 하나의 실수로 집약\n",
    "third_linear = tf.keras.layers.Dense(units=1, use_bias=False)\n",
    "third_out = third_linear(second_out)\n",
    "third_out = tf.squeeze(third_out, axis=-1)\n",
    "\n",
    "print('3단계 연산 결과:', third_out.shape)\n",
    "print('3단계 Linear Layer의 Weight 형태:', third_linear.weights[0].shape)\n",
    "\n",
    "# 모든 params를 더하여 total_params 구하기\n",
    "total_params = \\\n",
    "first_linear.count_params() + \\\n",
    "second_linear.count_params() + \\\n",
    "third_linear.count_params()\n",
    "\n",
    "print('총 Parameters:', total_params)"
   ]
  },
  {
   "cell_type": "markdown",
   "id": "5bbfbe18",
   "metadata": {},
   "source": [
    "![그림설명](https://user-images.githubusercontent.com/116326867/203595589-8e036605-72fb-4205-a0e6-7901d88bb4e7.png)"
   ]
  },
  {
   "cell_type": "markdown",
   "id": "953036ba",
   "metadata": {},
   "source": [
    "## Convolution Layer"
   ]
  },
  {
   "cell_type": "code",
   "execution_count": 3,
   "id": "0281968a",
   "metadata": {},
   "outputs": [
    {
     "name": "stdout",
     "output_type": "stream",
     "text": [
      "입력 이미지 데이터: (64, 1920, 1080, 3)\n",
      "\n",
      "Convolution 결과: (64, 384, 216, 16)\n",
      "Convolution Layer의 Parameter 수: 1200\n",
      "\n",
      "1차원으로 펼친 데이터: (64, 1327104)\n",
      "\n",
      "Linear 결과: (64, 1)\n",
      "Linear Layer의 Parameter 수: 1327104\n"
     ]
    }
   ],
   "source": [
    "batch_size = 64\n",
    "pic = tf.zeros((batch_size, 1920, 1080, 3)) # 폭 1920, 높이 1080, 채널 3(컬러)\n",
    "\n",
    "print('입력 이미지 데이터:', pic.shape)\n",
    "conv_layer = tf.keras.layers.Conv2D(filters=16,\n",
    "                                   kernel_size=(5, 5),\n",
    "                                   strides=5,\n",
    "                                   use_bias=False)\n",
    "conv_out = conv_layer(pic)\n",
    "\n",
    "print(\"\\nConvolution 결과:\", conv_out.shape)\n",
    "print(\"Convolution Layer의 Parameter 수:\", conv_layer.count_params())\n",
    "\n",
    "flatten_out = tf.keras.layers.Flatten()(conv_out)\n",
    "print(\"\\n1차원으로 펼친 데이터:\", flatten_out.shape)\n",
    "\n",
    "linear_layer = tf.keras.layers.Dense(units=1, use_bias=False)\n",
    "linear_out = linear_layer(flatten_out)\n",
    "\n",
    "print('\\nLinear 결과:', linear_out.shape)\n",
    "print('Linear Layer의 Parameter 수:', linear_layer.count_params())"
   ]
  },
  {
   "cell_type": "markdown",
   "id": "4236345d",
   "metadata": {},
   "source": [
    "입력이미지데이터(배치사이즈, 폭, 높이, 채널수)  \n",
    "→ Convolution(배치사이즈, 폭/stride, 높이/stride, 필터수)  \n",
    "→ Convolution Layer의 파라미터(채널수 x 필터수 x 커널사이즈(a x b))  \n",
    "→ 1차원으로 바꿔주기  \n",
    "→ Linear 변환  \n",
    "→ Linear Layer의 파라미터(폭/stride x 높이/stride x 필터수)"
   ]
  },
  {
   "cell_type": "code",
   "execution_count": null,
   "id": "fd318531",
   "metadata": {},
   "outputs": [],
   "source": []
  },
  {
   "cell_type": "code",
   "execution_count": null,
   "id": "779eaa2d",
   "metadata": {},
   "outputs": [],
   "source": []
  },
  {
   "cell_type": "code",
   "execution_count": null,
   "id": "48c01e4e",
   "metadata": {},
   "outputs": [],
   "source": []
  }
 ],
 "metadata": {
  "kernelspec": {
   "display_name": "Python 3 (ipykernel)",
   "language": "python",
   "name": "python3"
  },
  "language_info": {
   "codemirror_mode": {
    "name": "ipython",
    "version": 3
   },
   "file_extension": ".py",
   "mimetype": "text/x-python",
   "name": "python",
   "nbconvert_exporter": "python",
   "pygments_lexer": "ipython3",
   "version": "3.9.7"
  }
 },
 "nbformat": 4,
 "nbformat_minor": 5
}
