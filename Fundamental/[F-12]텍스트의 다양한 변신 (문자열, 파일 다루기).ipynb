{
 "cells": [
  {
   "cell_type": "markdown",
   "id": "919ecd36",
   "metadata": {},
   "source": [
    "# 12강. 텍스트의 다양한 변신 (문자열, 파일 다루기)\n",
    "## 12-2. 텍스트 데이터를 문자열로 저장한다는 것 (1) 인코딩과 디코딩\n",
    "### 텍스트 데이터를 문자열로 저장한다는 것\n",
    "- 텍스트 데이터는 문자열(string)로 표현한다. 파이썬에서 문자열 리터럴(literal)은 작은따옴표(') 혹은 큰따옴표(\")로 묶인 일련의 문자라고 볼 수 있다."
   ]
  },
  {
   "cell_type": "code",
   "execution_count": 1,
   "id": "e88f32cb",
   "metadata": {},
   "outputs": [
    {
     "name": "stdout",
     "output_type": "stream",
     "text": [
      "Welcome!\n",
      "You're welcome.\n",
      "<class 'str'>\n",
      "<class 'str'>\n"
     ]
    }
   ],
   "source": [
    "# 텍스트 데이터를 변수에 저장\n",
    "my_str = 'Welcome!'\n",
    "ur_str = \"You're welcome.\"\n",
    "\n",
    "print(my_str)\n",
    "print(ur_str)\n",
    "\n",
    "# 각 변수의 자료형\n",
    "print(type(my_str))\n",
    "print(type(ur_str))"
   ]
  },
  {
   "cell_type": "markdown",
   "id": "63c61925",
   "metadata": {},
   "source": [
    "- 데이터를 변수에 저장했다. 리스트를 사용해 배열로 저장하기도 하고, 따옴표를 이용해 문자열 형태로 저장해 보기도 했다. 이렇게 변수에 데이터를 할당하면 이 데이터들은 컴퓨터의 주기억장치인 메모리(RAM)에 저장된다."
   ]
  },
  {
   "cell_type": "markdown",
   "id": "3ccd1910",
   "metadata": {},
   "source": [
    "### 인코딩과 디코딩\n",
    "- 이 문자열 데이터가 메모리에 저장될 때 컴퓨터는 숫자 0과 1 즉, 이진 데이터(binary data)로 표현되기 때문에 데이터도 마찬가지로 0과 1로 변환돼 다뤄지게 된다. 이진 데이터의 최소 단위는 비트(bit)이고, 비트가 8개 모이면 바이트(byte)가 되는데, 메모리에는 바이트로 저장이 된다.\n",
    "![바이트](https://user-images.githubusercontent.com/116326867/226162239-cd3760d2-3418-42a8-94f5-03d0bba2c768.png)\n",
    "- 정리\n",
    " - 바이트(byte) : 컴퓨터의 기본 저장 단위\n",
    "   - 1바이트(1byte)는 8비트(8bit)이다.\n",
    "   - 1바이트에는 2의 8승 즉, 256개의 고유한 값을 저장할 수 있다.\n",
    " - 인코딩 (encoding): 문자열을 바이트로 변환하는 과정\n",
    " - 디코딩 (decoding) : 바이트를 문자열로 변환하는 과정"
   ]
  },
  {
   "cell_type": "markdown",
   "id": "edfae98e",
   "metadata": {},
   "source": [
    "텍스트 데이터의 처리 과정\n",
    "![과정](https://user-images.githubusercontent.com/116326867/226162306-4f5f72ca-b33b-4b93-8cc0-22bef824a284.png)\n",
    "- 사람이 이해할 수 있는 데이터는 텍스트 데이터, 엄밀히 말해 문자열 데이터를 의미한다. 문자열을 이진수로 변환(인코딩)해야 하는데 숫자를 이진수로 표현하기 위해서 문자 각각을 숫자에 대응시키고 이 숫자를 이진수로 변환하면 된다. 예를 들어 숫자 5를 이진수로 나타내면 101이 된다.\n",
    "- 그 과정에서 같은 알파벳 a를 미국은 숫자 65로, 한국은 숫자 80으로 표현하는 경우가 발생할 수도 있고, 한자를 인코딩하는 규약이 명시되지 않았다면 한자로 쓰인 파일은 다 깨져버릴 것이다. 문자를 숫자로 대응시키는 방법이 이렇게 제각각이면 텍스트로 정보를 주고받는 과정에서 혼란이 발생할 것이다. 따라서 전 세계가 통일시켜 텍스트 데이터를 오류 없이 깔끔하게 처리하기 위해 국제표준 기구인 ISO(International Standards Organization)는 전 세계 문자를 모두 표시할 수 있는 표준 코드를 제정하였다. 이것이 바로 유니코드(Unicode)이다. 그리고 유니코드는 오직 한 가지 버전만 존재한다. 그리고 UTF-8, UTF-16 등은 유니코드로 정의된 텍스트를 메모리에 인코딩하는 방식들을 말한다.\n",
    " - [유니코드 영역](https://ko.wikipedia.org/wiki/%EC%9C%A0%EB%8B%88%EC%BD%94%EB%93%9C_%EC%98%81%EC%97%AD)\n",
    " - [Unicode와 UTF-8](https://jeongdowon.medium.com/unicode%EC%99%80-utf-8-%EA%B0%84%EB%8B%A8%ED%9E%88-%EC%9D%B4%ED%95%B4%ED%95%98%EA%B8%B0-b6aa3f7edf96)\n",
    " - [UTF-8, UTF-16](https://pickykang.tistory.com/13)\n",
    " - [유니코드 테이블](http://titus.uni-frankfurt.de/unicode/unitestx.htm) -> 유니코드 테이블에서 한글 '가'에 해당하는 코드값 : U+AC00"
   ]
  },
  {
   "cell_type": "markdown",
   "id": "93309877",
   "metadata": {},
   "source": [
    "파이썬 내장함수 ord()와 chr()\n",
    "- ord() : 해당 문자에 대응하는 유니코드 숫자를 반환한다.\n",
    "- chr() : 해당 유니코드 숫자에 대응하는 문자를 반환한다."
   ]
  },
  {
   "cell_type": "code",
   "execution_count": 1,
   "id": "da5eadf6",
   "metadata": {},
   "outputs": [
    {
     "name": "stdout",
     "output_type": "stream",
     "text": [
      "97\n",
      "65\n",
      "a\n",
      "44032\n",
      "가\n"
     ]
    }
   ],
   "source": [
    "print(ord('a'))    \n",
    "print(ord('A'))\n",
    "print(chr(97))\n",
    "print(ord('가'))\n",
    "print(chr(0xAC00))   \n",
    "#- 0xAC00은 44032의 16진수 표현"
   ]
  },
  {
   "cell_type": "markdown",
   "id": "50363df5",
   "metadata": {},
   "source": [
    "파이썬에서 모든 문자열은 유니코드로 표현된다!\n",
    "- 문자열이 데이터로 변환되는 과정 중에 정해진 한 단계의 문자열만 사용해야 하는 것은 아니며, 파이썬에서는 사용자에게 선택권을 주기 위해서 다른 방법도 제공한다. 제공하는 방법은 파이썬 버전마다 다르다. 문자열은 내부적으로 -엄밀히 말하면 파이썬 3부터- 유니코드 규약에 따른다. 이는 외부 데이터 및 데이터베이스로부터 데이터를 읽거나 보낼 때는 인코딩 혹은 디코딩 작업을 거쳐야 하며, 인코딩 규약은 내부적으로 유니코드(UTF-8)임을 의미한다. 파이썬 2에서 문자열은 인코딩 및 디코딩 여부와 상관없이 (regular) string과 unicode string으로 구분해서 사용할 수 있고, 파이썬 3부터는 인코딩 혹은 디코딩이 되어 있는지로 구분해서 사용할 수 있다. 물론 일반적인 '어떤 문자열'로 표현한다면 파이썬2와 파이썬3 모두 string(str)으로 다룬다."
   ]
  },
  {
   "cell_type": "code",
   "execution_count": null,
   "id": "526823f2",
   "metadata": {},
   "outputs": [],
   "source": [
    "# 파이썬 2\n",
    "# string과 unicode string으로 구분된다.\n",
    "\n",
    "#str1 = b'hello'\n",
    "#str2 = 'hello'\n",
    "#str3 = u'hello'\n",
    "#print(type(str1), type(str2), type(str3))\n",
    "#결과 : <type 'str'>, <type 'str'>, <type 'unicode'>"
   ]
  },
  {
   "cell_type": "code",
   "execution_count": 2,
   "id": "9ceafd1d",
   "metadata": {},
   "outputs": [
    {
     "name": "stdout",
     "output_type": "stream",
     "text": [
      "<class 'bytes'> <class 'str'> <class 'str'>\n"
     ]
    }
   ],
   "source": [
    "# 파이썬 3\n",
    "# bytes와 string으로 구분된다.\n",
    "\n",
    "str1 = b'hello'\n",
    "str2 = 'hello'\n",
    "str3 = u'hello'\n",
    "print(type(str1), type(str2), type(str3))"
   ]
  },
  {
   "cell_type": "markdown",
   "id": "4186c2ce",
   "metadata": {},
   "source": [
    "- 간단히 정리해 보자면, 파이썬 2에서는 인코딩한 후에도 아스키(ascii) → 유니코드(unicode) 변환 등의 작업을 거쳐야 했던 반면에, 파이썬 3부터는 문자열이 무조건 유니코드로 인코딩되므로 해당 텍스트가 인코딩되어 있는지 혹은 디코딩되어 있는지만 고려하면 된다."
   ]
  },
  {
   "cell_type": "markdown",
   "id": "26d7a8fd",
   "metadata": {},
   "source": [
    "## 12-3. 텍스트 데이터를 문자열로 저장한다는 것 (2) 문자열 다루기\n",
    "### 이스케이프 문자"
   ]
  },
  {
   "cell_type": "code",
   "execution_count": 3,
   "id": "64282289",
   "metadata": {},
   "outputs": [
    {
     "ename": "SyntaxError",
     "evalue": "invalid syntax (4145611764.py, line 1)",
     "output_type": "error",
     "traceback": [
      "\u001b[0;36m  File \u001b[0;32m\"/tmp/ipykernel_32/4145611764.py\"\u001b[0;36m, line \u001b[0;32m1\u001b[0m\n\u001b[0;31m    s = 'I don't like Python!'\u001b[0m\n\u001b[0m               ^\u001b[0m\n\u001b[0;31mSyntaxError\u001b[0m\u001b[0;31m:\u001b[0m invalid syntax\n"
     ]
    }
   ],
   "source": [
    "s = 'I don't like Python!'"
   ]
  },
  {
   "cell_type": "markdown",
   "id": "e70efd56",
   "metadata": {},
   "source": [
    "- 코드를 보면 첫 두 개의 ' 끼리만 서로 짝을 이뤄 I don을 감싸줬는데, 그 뒤에 바로 문자열이 나와서 SyntaxError: invalid syntax 에러가 발생했다. 위와 같은 상황에서 텍스트를 파이썬 문자열로 만들기 위해서 큰따옴표로 둘러싼 문자열로 만들어도 되지만 되지만, 작은따옴표로 둘러싸고 싶을 때 이스케이프 문자를 사용면 된다. 문자열에 작은따옴표(')나 큰따옴표(\"), 줄 바꿈 등의 특수문자를 포함하고 싶은데, 그 문자가 특수문자가 아닌 것처럼 처리하고 싶을 때 이스케이프 문자를 사용할 수 있다. 이스케이프 문자는 \\[특정 문자] 형태로, 직접 입력할 수 없는 일부 문자를 문자열에 포함시킬 수 있는 특수 문자이다.\n",
    "![이스케이프 문자](https://user-images.githubusercontent.com/116326867/226240389-77446b86-87d3-4fae-bef2-a0169dfd40e7.png)"
   ]
  },
  {
   "cell_type": "code",
   "execution_count": 4,
   "id": "b3ac7d79",
   "metadata": {},
   "outputs": [
    {
     "name": "stdout",
     "output_type": "stream",
     "text": [
      "사회적\n",
      "거리두기\n",
      "--------------------------\n",
      "사회적\t거리두기\n",
      "--------------------------\n",
      "오늘부터 '사회적 거리두기'\n"
     ]
    }
   ],
   "source": [
    "# 줄 바꿈\n",
    "print(\"사회적\\n거리두기\")\n",
    "print('--------------------------')\n",
    "\n",
    "# 탭(tab)\n",
    "print(\"사회적\\t거리두기\")\n",
    "print('--------------------------')\n",
    "\n",
    "# 작은따옴표 포함\n",
    "print('오늘부터 \\'사회적 거리두기\\'')"
   ]
  },
  {
   "cell_type": "markdown",
   "id": "46b8781b",
   "metadata": {},
   "source": [
    "### 원시 문자열\n",
    "- 이스케이프 문자를 무시하고 싶을 때는 원시 문자열(raw string)을 사용한다. 문자열을 시작하는 따옴표 앞에 r을 붙이면 이스케이프 문자가 적용되지 않은 있는 그대로의 원시 문자열을 나타낼 수 있다."
   ]
  },
  {
   "cell_type": "code",
   "execution_count": 5,
   "id": "9e89c947",
   "metadata": {},
   "outputs": [
    {
     "name": "stdout",
     "output_type": "stream",
     "text": [
      "Please don't touch it\n",
      "Please don\\'t touch it\n"
     ]
    }
   ],
   "source": [
    "print('Please don\\'t touch it')\n",
    "print(r'Please don\\'t touch it')"
   ]
  },
  {
   "cell_type": "markdown",
   "id": "8b147c9c",
   "metadata": {},
   "source": [
    "### startswith, endswith\n",
    "startswith\n",
    "- 생산직은 OB로, 사무직은 OW로 시작되는 직원 ID가 저장된 데이터베이스가 있다면 생산직에 속한 직원 ID만을 추려보고 싶을 때 startswith를 사용하면 된다."
   ]
  },
  {
   "cell_type": "code",
   "execution_count": 6,
   "id": "12b60674",
   "metadata": {},
   "outputs": [
    {
     "data": {
      "text/plain": [
       "['OB94382', 'OB32308', 'OB83461', 'OB74830', 'OB82345']"
      ]
     },
     "execution_count": 6,
     "metadata": {},
     "output_type": "execute_result"
    }
   ],
   "source": [
    "EmployeeID = ['OB94382', 'OW34723', 'OB32308', 'OB83461', \n",
    "                                  'OB74830', 'OW37402', 'OW11235', 'OB82345'] \n",
    "Production_Employee = [P for P in EmployeeID if P.startswith('OB')]   # 'OB'로 시작하는 직원 ID를 다 찾아봅니다\n",
    "Production_Employee"
   ]
  },
  {
   "cell_type": "markdown",
   "id": "f065d584",
   "metadata": {},
   "source": [
    "endswith\n",
    "- 여러 사진 파일이 있다면 끝이 .png로 끝나는 파일만 추릴 때 사용한다."
   ]
  },
  {
   "cell_type": "code",
   "execution_count": 7,
   "id": "e48ca8f1",
   "metadata": {},
   "outputs": [
    {
     "name": "stdout",
     "output_type": "stream",
     "text": [
      "['image9.png', 'image14.png', 'image3.png', 'image2.png', 'image13.png', 'image8.png', 'image1.png', 'image6.png', 'image4.png', 'image10.png', 'image12.png', 'image7.png', 'image11.png', 'image5.png']\n"
     ]
    }
   ],
   "source": [
    "import os\n",
    "image_dir_path = os.getenv(\"HOME\") + \"/data/pictures\"  # 사진이 보관된 디렉토리 \n",
    "photo = os.listdir(image_dir_path )\n",
    "png = [png for png in photo if png.endswith('.png')]\n",
    "print(png)"
   ]
  },
  {
   "cell_type": "markdown",
   "id": "7b953877",
   "metadata": {},
   "source": [
    "### 공백 문자 처리 : trimming\n",
    "- 공백 문자는 이 띄어쓰기로 표기되는 항목이다. 문자열 작업에서는 다듬기 즉, trimming이라고 불린다. 프로그래밍에서 인식하는 공백 문자는 다음과 같다.\n",
    "\n",
    "#### 공백 문자\n",
    " - 스페이스(space) : 한 칸 띄어쓰기\n",
    " - 탭(tab) \\t : 네 칸 띄어쓰기. 때에 따라 두 칸 띄어쓰기로 표기되기도 한다.\n",
    " - 줄 바꿈(new line) : 줄 바꿈\n",
    " - 라인 피드 (line feed, 개행) \\n : 줄 바꿈을 엄밀히 말하면 라인 피드라고 한다.\n",
    " - 캐리지 리턴 (carriage return, 복귀) \\r : 커서를 맨 앞으로 이동시키는 것, 즉 커서를 원위치로 복귀(return)한다는 뜻이다. 커서를 맨 앞으로 보내고,\\r 뒤에 문자가 있으면 그 문자를 출력한다."
   ]
  },
  {
   "cell_type": "code",
   "execution_count": 8,
   "id": "987704c4",
   "metadata": {},
   "outputs": [
    {
     "name": "stdout",
     "output_type": "stream",
     "text": [
      "사회적 거리두기\n",
      "--------------------------\n",
      "사회적\t거리두기\n",
      "--------------------------\n",
      "사회적\n",
      "거리두기\n",
      "--------------------------\n",
      "사회적\r",
      "거리두기\n"
     ]
    }
   ],
   "source": [
    "print(\"사회적 거리두기\")\n",
    "print('--------------------------')\n",
    "print(\"사회적\\t거리두기\")\n",
    "print('--------------------------')\n",
    "print(\"사회적\\n거리두기\")\n",
    "print('--------------------------')\n",
    "print(\"사회적\\r거리두기\")"
   ]
  },
  {
   "cell_type": "markdown",
   "id": "95eaa0bc",
   "metadata": {},
   "source": [
    "#### 공백 문자 제거하기(trimming)\n",
    "- 파이썬에서는 strip() 메서드를 사용해 공백 문자를 처리한다."
   ]
  },
  {
   "cell_type": "code",
   "execution_count": 9,
   "id": "65229211",
   "metadata": {},
   "outputs": [
    {
     "name": "stdout",
     "output_type": "stream",
     "text": [
      "[      Strip white spaces.      ]\n",
      "--------------------------\n",
      "[Strip white spaces.]\n",
      "--------------------------\n",
      "[Strip white spaces.      ]\n",
      "--------------------------\n",
      "[      Strip white spaces.]\n"
     ]
    }
   ],
   "source": [
    "txt = \"      Strip white spaces.      \"\n",
    "print('[{}]'.format(txt))\n",
    "print('--------------------------')\n",
    "\n",
    "#- 양쪽 공백 제거 : strip()\n",
    "print('[{}]'.format(txt.strip()))\n",
    "print('--------------------------')\n",
    "\n",
    "#- 왼쪽 공백 제거 : lstrip()\n",
    "print('[{}]'.format(txt.lstrip()))\n",
    "print('--------------------------')\n",
    "\n",
    "#- 오른쪽 공백 제거 : rstrip()\n",
    "print('[{}]'.format(txt.rstrip()))"
   ]
  },
  {
   "cell_type": "markdown",
   "id": "fcf2686a",
   "metadata": {},
   "source": [
    "### 대소문자 관련\n",
    "- upper() : 모든 문자를 대문자로 변환\n",
    "- lower() : 모든 문자를 소문자로 변환\n",
    "- capitalize() : 첫 글자만 대문자로 변환"
   ]
  },
  {
   "cell_type": "code",
   "execution_count": 10,
   "id": "ac4386a0",
   "metadata": {},
   "outputs": [
    {
     "data": {
      "text/plain": [
       "'I FELL INTO AIFFEL'"
      ]
     },
     "execution_count": 10,
     "metadata": {},
     "output_type": "execute_result"
    }
   ],
   "source": [
    "# 모든 문자를 대문자로 변환 : upper()\n",
    "txt = \"I fell into AIFFEL\"\n",
    "txt.upper()"
   ]
  },
  {
   "cell_type": "code",
   "execution_count": 11,
   "id": "e41810e8",
   "metadata": {},
   "outputs": [
    {
     "data": {
      "text/plain": [
       "'i fell into aiffel'"
      ]
     },
     "execution_count": 11,
     "metadata": {},
     "output_type": "execute_result"
    }
   ],
   "source": [
    "# 모든 문자를 소문자로 변환 : lower()\n",
    "txt.lower()"
   ]
  },
  {
   "cell_type": "code",
   "execution_count": 12,
   "id": "474fdce0",
   "metadata": {},
   "outputs": [
    {
     "data": {
      "text/plain": [
       "'I fell into aiffel'"
      ]
     },
     "execution_count": 12,
     "metadata": {},
     "output_type": "execute_result"
    }
   ],
   "source": [
    "# 첫 글자만 대문자로 변환 : capitalize()\n",
    "txt.capitalize()"
   ]
  },
  {
   "cell_type": "markdown",
   "id": "18a795df",
   "metadata": {},
   "source": [
    "### isX\n",
    "- isX 형태의 메서드 : 문자열의 구성에 따라 불린(boolean)의 값을 반환(return)해준다.\n",
    " - isupper() : 문자열이 모두 대문자로만 되어 있으면 True, 그렇지 않으면 False를 반환\n",
    " - islower() : 문자열이 모두 소문자로만 되어 있으면 True, 그렇지 않으면 False를 반환\n",
    " - istitle(): 문자열의 첫 글자만 대문자로 되어 있으면 True, 그렇지 않으면 False를 반환\n",
    " - isalpha(): 문자열이 모두 알파벳 문자로만 되어 있으면 True, 그렇지 않으면 False를 반환\n",
    " - isalnum(): 문자열이 모두 알파벳 문자와 숫자로만 되어 있으면 True, 그렇지 않으면 False를 반환\n",
    " - isdecimal(): 문자열이 모두 숫자로만 되어 있으면 True, 그렇지 않으면 False를 반환"
   ]
  },
  {
   "cell_type": "code",
   "execution_count": 13,
   "id": "2e5615ae",
   "metadata": {},
   "outputs": [
    {
     "name": "stdout",
     "output_type": "stream",
     "text": [
      "False\n",
      "True\n",
      "False\n",
      "False\n",
      "True\n",
      "True\n"
     ]
    }
   ],
   "source": [
    "print(\"aiffel\".isupper())\n",
    "print(\"aiffel\".islower())\n",
    "print(\"PYTHON\".istitle())\n",
    "print(\"python101\".isalpha())\n",
    "print(\"python101\".isalnum())\n",
    "print(\"101\".isdecimal())"
   ]
  },
  {
   "cell_type": "markdown",
   "id": "9bd40c7b",
   "metadata": {},
   "source": [
    "### join()과 split()\n",
    "#### join()\n",
    "- join()은 인자로 tuple, list, string 등 반복 가능한(iterable) 객체를 받는 메서드이다. 이 join()은 각각의 원소를 모아 하나의 문자열로 합쳐 준다."
   ]
  },
  {
   "cell_type": "code",
   "execution_count": 14,
   "id": "00eebd8e",
   "metadata": {},
   "outputs": [
    {
     "data": {
      "text/plain": [
       "'fundamentals,exploration,goingdeeper'"
      ]
     },
     "execution_count": 14,
     "metadata": {},
     "output_type": "execute_result"
    }
   ],
   "source": [
    "# join()\n",
    "stages = ['fundamentals', 'exploration', 'goingdeeper']\n",
    "\",\".join(stages)"
   ]
  },
  {
   "cell_type": "markdown",
   "id": "297856fe",
   "metadata": {},
   "source": [
    "- \",\".join(stages)를 실행시켰을 때, 단어 사이에 쉼표(')가 들어가 있는 것을 볼 수 있다. 큰따옴표 사이에는 구분자를 넣을 수 있고, 구분자로는 쉼표('), 언더바(_), 빈칸 등을 사용할 수 있다. \"구분자\".join(stages)를 사용하면 리스트의 원소들 사이에 구분자를 넣어서 하나의 문자열로 합쳐준다."
   ]
  },
  {
   "cell_type": "code",
   "execution_count": 15,
   "id": "4f1c76d5",
   "metadata": {},
   "outputs": [
    {
     "data": {
      "text/plain": [
       "'fundamentals exploration goingdeeper'"
      ]
     },
     "execution_count": 15,
     "metadata": {},
     "output_type": "execute_result"
    }
   ],
   "source": [
    "\" \".join(stages)"
   ]
  },
  {
   "cell_type": "code",
   "execution_count": 16,
   "id": "462fa4d7",
   "metadata": {},
   "outputs": [
    {
     "data": {
      "text/plain": [
       "'fundamentals_exploration_goingdeeper'"
      ]
     },
     "execution_count": 16,
     "metadata": {},
     "output_type": "execute_result"
    }
   ],
   "source": [
    "\"_\".join(stages)"
   ]
  },
  {
   "cell_type": "code",
   "execution_count": 17,
   "id": "ac35d94c",
   "metadata": {},
   "outputs": [
    {
     "data": {
      "text/plain": [
       "'fundamentals.exploration.goingdeeper'"
      ]
     },
     "execution_count": 17,
     "metadata": {},
     "output_type": "execute_result"
    }
   ],
   "source": [
    "\".\".join(stages)"
   ]
  },
  {
   "cell_type": "markdown",
   "id": "b9194092",
   "metadata": {},
   "source": [
    "#### split()\n",
    "- split()은 하나의 문자열을 구분자를 기준으로 나누어 준다. 명시적으로 구분자를 지정하지 않으면 쉼표(,)를 기준으로 나누어 준다.\n",
    "- split()은 리스트를 반환하고 join()은 문자열을 반환한다는 차이가 있다."
   ]
  },
  {
   "cell_type": "code",
   "execution_count": 18,
   "id": "9d5c1c77",
   "metadata": {},
   "outputs": [
    {
     "data": {
      "text/plain": [
       "['fundamentals', 'exploration', 'goingdeeper']"
      ]
     },
     "execution_count": 18,
     "metadata": {},
     "output_type": "execute_result"
    }
   ],
   "source": [
    "# split()\n",
    "'fundamentals,exploration,goingdeeper'.split(',')"
   ]
  },
  {
   "cell_type": "markdown",
   "id": "4a2927c9",
   "metadata": {},
   "source": [
    "### replace()\n",
    "- replace() : replace(s1, s2) 형태로 문자열 내 문자열 s1을 s2로 바꾼다."
   ]
  },
  {
   "cell_type": "code",
   "execution_count": 19,
   "id": "6a29b2ee",
   "metadata": {},
   "outputs": [
    {
     "data": {
      "text/plain": [
       "'You can do it!'"
      ]
     },
     "execution_count": 19,
     "metadata": {},
     "output_type": "execute_result"
    }
   ],
   "source": [
    "sent = 'I can do it!'\n",
    "sent.replace('I', 'You')"
   ]
  },
  {
   "cell_type": "markdown",
   "id": "f77c8f33",
   "metadata": {},
   "source": [
    "### 불변(immutable)의 문자열\n",
    "- 가변 객체(mutable object)\n",
    " - 객체를 생성한 후 객체의 값을 수정할 수 있다.\n",
    " - 변수는 값이 수정된 같은 객체를 가리키게 된다.\n",
    " - e.g. list, set, dict\n",
    "- 불변 객체(immutable object)\n",
    " - 객체를 생성한 후 객체의 값을 수정할 수 없다.\n",
    " - 변수는 해당 값을 가진 다른 객체를 가리키게 된다.\n",
    " - e.g. int, float, complex, bool, string, tuple, frozen set\n",
    "- 참고 자료\n",
    " - [Python 개념 정리 - 객체란 ( mutable vs immutable )](https://webnautes.tistory.com/1181)\n",
    " - [Python 변수 - mutable과 immutable의 차이](http://ledgku.tistory.com/54)"
   ]
  },
  {
   "cell_type": "markdown",
   "id": "9a7cef30",
   "metadata": {},
   "source": [
    "### 비교하기\n",
    "- 'I fell into AIFFEL'이라는 문장 속 알파벳을 전부 대문자로 바꿀 때, 아래 두 코드의 결과를 비교해본다."
   ]
  },
  {
   "cell_type": "code",
   "execution_count": 20,
   "id": "a04c762a",
   "metadata": {},
   "outputs": [
    {
     "name": "stdout",
     "output_type": "stream",
     "text": [
      "I fell into AIFFEL\n",
      "140142978945392\n",
      "I fell into AIFFEL\n",
      "140142978945392\n"
     ]
    }
   ],
   "source": [
    "# 1번\n",
    "sent = 'I fell into AIFFEL'\n",
    "print(sent)\n",
    "print(id(sent))\n",
    "sent.upper()\n",
    "print(sent)\n",
    "print(id(sent))"
   ]
  },
  {
   "cell_type": "code",
   "execution_count": 21,
   "id": "df6abf6b",
   "metadata": {},
   "outputs": [
    {
     "name": "stdout",
     "output_type": "stream",
     "text": [
      "I fell into AIFFEL\n",
      "140142978834064\n",
      "I FELL INTO AIFFEL\n",
      "140142978832544\n"
     ]
    }
   ],
   "source": [
    "# 2번\n",
    "sent = 'I fell into AIFFEL'\n",
    "print(sent)\n",
    "print(id(sent))\n",
    "sent = sent.upper()\n",
    "print(sent)\n",
    "print(id(sent))"
   ]
  },
  {
   "cell_type": "markdown",
   "id": "f95934f2",
   "metadata": {},
   "source": [
    "- 객체의 고유한 id를 확인했을 때, 1번 코드는 두 개의 id(sent) 값이 동일한 반면, 2번 코드는 두 개의 id(sent) 값이 다르다. 2번 코드에서 두 개의 id(sent) 값이 다른 이유는 변수 sent에 sent.upper()라는 새로운 객체를 대입해 객체의 값을 변경했기 때문이다."
   ]
  },
  {
   "cell_type": "markdown",
   "id": "1c22075e",
   "metadata": {},
   "source": [
    "## 12-4. 텍스트 데이터를 문자열로 저장한다는 것 (3) 정규 표현식\n",
    "- 거의 모든 운영 체제가 어떤 특정한 단어를 검색할 때 자주 사용하는 단어 검색 기능 Ctrl+F을 지원한다. 이러한 기능은 정규 표현식 (regular expression, regex)에 근거해 만들어진 기능이다. 정규표현식은 이처럼 대부분의 운영 체제, 다양한 프로그래밍 언어, 그리고 텍스트 편집기와 같은 프로그램들이 지원하고 있다."
   ]
  },
  {
   "cell_type": "markdown",
   "id": "f785a795",
   "metadata": {},
   "source": [
    "### 문자열 vs 정규 표현식"
   ]
  },
  {
   "cell_type": "code",
   "execution_count": 22,
   "id": "6f68b214",
   "metadata": {},
   "outputs": [
    {
     "data": {
      "text/plain": [
       "'You can do it!'"
      ]
     },
     "execution_count": 22,
     "metadata": {},
     "output_type": "execute_result"
    }
   ],
   "source": [
    "# replace() 메서드 이용\n",
    "sent = 'I can do it!'\n",
    "rep = sent.replace(\"I\", \"You\")\n",
    "rep"
   ]
  },
  {
   "cell_type": "code",
   "execution_count": 23,
   "id": "e0b53bb8",
   "metadata": {},
   "outputs": [
    {
     "data": {
      "text/plain": [
       "'You can do it!'"
      ]
     },
     "execution_count": 23,
     "metadata": {},
     "output_type": "execute_result"
    }
   ],
   "source": [
    "# 정규 표현식 이용\n",
    "import re\n",
    "sent = 'I can do it!'\n",
    "pattern = re.sub(\"I\", \"You\", sent)\n",
    "pattern"
   ]
  },
  {
   "cell_type": "markdown",
   "id": "51e7d9bb",
   "metadata": {},
   "source": [
    "- 정규 표현식은 특정 규칙을 가진 문자열의 집합을 표현하는 형식 언어로, 찾고자 하는 문자열 패턴을 정의하고 기존 문자열과 일치하는지를 비교하여 문자열을 검색하거나 다른 문자열로 치환하는 데 사용된다.\n",
    "- 세상에는 패턴화된 문자열이 매우 많다. 이메일, 주민등록번호, 전화번호, 우편번호, URL 등등... 다양하다. 패턴화된 문자열이 나타날 때마다 startswith(), endswith(),replace() 등과 같은 문자열 메서드를 매번 사용하면 번거로울 것이다. 이는 정규 표현식을 사용하면 간단하게 문자열 검색과 치환을 할 수 있다.\n",
    "![정규표현식](https://user-images.githubusercontent.com/116326867/226257639-0c9413e5-a1af-4a3e-a4f0-1979a7a2b232.png)"
   ]
  },
  {
   "cell_type": "markdown",
   "id": "766952e8",
   "metadata": {},
   "source": [
    "## 정규 표현식 시작하기\n",
    "#### import re\n",
    "- 파이썬에서는 표준 라이브러리인 re 모듈을 import 해서 정규 표현식을 사용할 수 있다."
   ]
  },
  {
   "cell_type": "markdown",
   "id": "431c10ae",
   "metadata": {},
   "source": [
    "#### Compile()\n",
    "- 정규 표현식의 사용법은 크게 1)찾고자 하는 문자열의 패턴을 정의하고 2)정의된 패턴과 매칭되는 경우를 찾아 다양한 처리를 하는 2단계로 나누어진다. 이 중 1)에 해당하는 과정을 컴파일(compile)이라고 한다."
   ]
  },
  {
   "cell_type": "code",
   "execution_count": 24,
   "id": "c0b0c526",
   "metadata": {},
   "outputs": [
    {
     "data": {
      "text/plain": [
       "['the', 'the', 'the']"
      ]
     },
     "execution_count": 24,
     "metadata": {},
     "output_type": "execute_result"
    }
   ],
   "source": [
    "#1단계 :  \"the\"라는 패턴을 컴파일한 후 패턴 객체를 리턴한다. \n",
    "pattern = re.compile(\"the\")    \n",
    "\n",
    "# 2단계 : 컴파일된 패턴 객체를 활용하여 다른 텍스트에서 검색을 수행한다.\n",
    "pattern.findall('of the people, for the people, by the people')"
   ]
  },
  {
   "cell_type": "code",
   "execution_count": 25,
   "id": "8ef78c03",
   "metadata": {},
   "outputs": [
    {
     "data": {
      "text/plain": [
       "['the', 'the', 'the']"
      ]
     },
     "execution_count": 25,
     "metadata": {},
     "output_type": "execute_result"
    }
   ],
   "source": [
    "re.findall('the', 'of the people, for the people, by the people')"
   ]
  },
  {
   "cell_type": "markdown",
   "id": "abcbba8d",
   "metadata": {},
   "source": [
    "- 하지만, 정규 표현식을 활용하기 위해 꼭 명시적으로 re.compile()을 호출해야 하는 것은 아니다. 2단계로 수행했던 내역을 명시적 컴파일 과정 없이 한 줄로 처리할 수 있다. 이 경우 간결하다는 장점이 있지만, 명시적으로 패턴 객체를 생성한 경우에는 해당 객체를 반복 사용 가능하다는 점이 장점이 될 때가 있다."
   ]
  },
  {
   "cell_type": "markdown",
   "id": "92370370",
   "metadata": {},
   "source": [
    "### 메서드\n",
    "- 정규 표현식의 객체를 컴파일한 뒤 2단계에서 패턴 객체를 활용해서 호출 가능한 주요 메서드와 속성은 다음과 같다.\n",
    " - search() : 일치하는 패턴 찾기 (일치 패턴이 있으면 MatchObject를 반환)\n",
    " - match() : search()와 비슷하지만, 처음부터 패턴이 검색 대상과 일치해야 한다.\n",
    " - findall() : 일치하는 모든 패턴 찾기 (모든 일치 패턴을 리스트에 담아서 반환)\n",
    " - split() : 패턴으로 나누기\n",
    " - sub() : 일치하는 패턴으로 대체하기"
   ]
  },
  {
   "cell_type": "markdown",
   "id": "892458d4",
   "metadata": {},
   "source": [
    "- 다음은 search(), match() 등이 리턴하는 MatchObject가 가진 메서드이다.\n",
    " - group() : 실제 결과에 해당하는 문자열을 반환"
   ]
  },
  {
   "cell_type": "code",
   "execution_count": 26,
   "id": "14b29081",
   "metadata": {},
   "outputs": [
    {
     "name": "stdout",
     "output_type": "stream",
     "text": [
      "<re.Match object; span=(0, 2), match='My'>\n",
      "My\n"
     ]
    }
   ],
   "source": [
    "src = \"My name is...\"\n",
    "regex = re.match(\"My\", src)\n",
    "print(regex)\n",
    "if regex:\n",
    "    print(regex.group())\n",
    "else:\n",
    "    print(\"No!\")"
   ]
  },
  {
   "cell_type": "markdown",
   "id": "1f452c79",
   "metadata": {},
   "source": [
    "### 패턴 : 특수문자, 메타 문자\n",
    "- 패턴은 정규 표현식을 강력하게 해주는 도구이다. 특수문자 혹은 메타 문자라 불리는 []. -. . ? * + {} / 등을 이용해 특수한 패턴을 만들 수 있다.\n",
    " - [ ] : 문자\n",
    " - \"-\" : 범위\n",
    " - \".\" : 하나의 문자\n",
    " - \"?\": 0회 또는 1회 반복\n",
    " - \"*\" : 0회 이상 반복\n",
    " - \"+\" : 1회 이상 반복\n",
    " - {m, n} : m ~ n\n",
    " - \\d : 숫자, [0-9]와 동일\n",
    " - \\D : 비 숫자, [^0-9]와 동일\n",
    " - \\w : 알파벳 문자 + 숫자 + _, [a-zA-Z0-9_]와 동일\n",
    " - \\W : 비 알파벳 문자 + 비숫자, [^a-zA-Z0-9_]와 동일\n",
    " - \\s : 공백 문자, [ \\t\\n\\r\\f\\v]와 동일\n",
    " - \\S : 비 공백 문자, [^ \\t\\n\\r\\f\\v]와 동일\n",
    " - \\b : 단어 경계\n",
    " - \\B : 비 단어 경계\n",
    " - \\t : 가로 탭(tab)\n",
    " - \\v : 세로 탭(vertical tab)\n",
    " - \\f : 폼 피드\n",
    " - \\n : 라인 피드(개행문자)\n",
    " - \\r : 캐리지 리턴(원시 문자열)"
   ]
  },
  {
   "cell_type": "markdown",
   "id": "fe42115b",
   "metadata": {},
   "source": [
    "### 예제\n",
    "- 패턴을 사용해야 할 때는 문자를 딱 정할 수는 없지만 규칙이 있을 때이다."
   ]
  },
  {
   "cell_type": "code",
   "execution_count": 27,
   "id": "86a631a5",
   "metadata": {},
   "outputs": [
    {
     "data": {
      "text/plain": [
       "['1993', '1995', '2019', '2000', '2002', '2013', '2015', '2017']"
      ]
     },
     "execution_count": 27,
     "metadata": {},
     "output_type": "execute_result"
    }
   ],
   "source": [
    "# 연도(숫자)\n",
    "text = \"\"\"\n",
    "The first season of America Premiere League  was played in 1993. \n",
    "The second season was played in 1995 in South Africa. \n",
    "Last season was played in 2019 and won by Chennai Super Kings (CSK).\n",
    "CSK won the title in 2000 and 2002 as well.\n",
    "Mumbai Indians (MI) has also won the title 3 times in 2013, 2015 and 2017.\n",
    "\"\"\"\n",
    "pattern = re.compile(\"[1-2]\\d\\d\\d\")\n",
    "pattern.findall(text)"
   ]
  },
  {
   "cell_type": "markdown",
   "id": "dc1c44ce",
   "metadata": {},
   "source": [
    "- '2020'이나 '2021'처럼 특정 연도를 찾을 때는 re.compile(\"2020\")처럼 쓰면 되며, 1000년 이후의 연도를 모두 찾고 싶다면 숫자는 \\d에 해당하기 때문에 \\d\\d\\d\\d를 사용하면 숫자 4개가 연달아 있는 부분을 찾을 수 있다. 그리고 1000년 이후이니까 맨 앞자리가 1이나 2가 될 것이므로 1~2를 뜻하는 [1-2]를 사용하고 뒤에 숫자 3개가 연달아 있도록 [1-2]\\d\\d\\d처럼 쓸 수 있다."
   ]
  },
  {
   "cell_type": "code",
   "execution_count": 28,
   "id": "9da6a3e5",
   "metadata": {},
   "outputs": [
    {
     "name": "stdout",
     "output_type": "stream",
     "text": [
      "010-111-1111\n",
      "------\n"
     ]
    }
   ],
   "source": [
    "# 전화번호(숫자, 기호)\n",
    "phonenumber = re.compile(r'\\d\\d\\d-\\d\\d\\d-\\d\\d\\d\\d')\n",
    "phone = phonenumber.search('This is my phone number 010-111-1111')\n",
    "if phone:\n",
    "  print(phone.group())\n",
    "print('------')\n",
    "phone = phonenumber.match ('This is my phone number 010-111-1111')\n",
    "if phone:\n",
    "  print(phone.group())"
   ]
  },
  {
   "cell_type": "markdown",
   "id": "90bd7357",
   "metadata": {},
   "source": [
    "- 전화번호를 찾을 때도 비슷하다. 전화번호가 숫자 3자리 - 숫자 3자리 - 숫자 4자리로 이루어져 있다면 \\d\\d\\d와 \\d\\d\\d\\d를 적절히 이용하면 되고, 중간에 -가 들어가면 된다.\n",
    "- 그런데 search()와 달리 match()를 사용한 경우, 패턴과 검색 대상이 처음부터 일치하지 않으므로 아무것도 출력되지 않는다."
   ]
  },
  {
   "cell_type": "code",
   "execution_count": 29,
   "id": "2650e905",
   "metadata": {},
   "outputs": [
    {
     "name": "stdout",
     "output_type": "stream",
     "text": [
      "010-111-1111\n",
      "------\n"
     ]
    }
   ],
   "source": [
    "# 전화번호(숫자, 기호)\n",
    "phonenumber = re.compile(r'\\d{3}-\\d{3}-\\d{4}')\n",
    "phone = phonenumber.search('This is my phone number 010-111-1111')\n",
    "if phone:\n",
    "  print(phone.group())\n",
    "print('------')\n",
    "phone = phonenumber.match ('This is my phone number 010-111-1111')\n",
    "if phone:\n",
    "  print(phone.group())"
   ]
  },
  {
   "cell_type": "markdown",
   "id": "70129c50",
   "metadata": {},
   "source": [
    "- 위에서 사용한 정규 표현식을 위와 같이 써도 된다. \\d\\d\\d를 \\d{3}으로 바꿔서 숫자가 세 번 등장하는 것을 표현할 수 있다."
   ]
  },
  {
   "cell_type": "code",
   "execution_count": 30,
   "id": "c0954eaa",
   "metadata": {},
   "outputs": [
    {
     "name": "stdout",
     "output_type": "stream",
     "text": [
      "010-111-1111\n",
      "------\n"
     ]
    }
   ],
   "source": [
    "# 전화번호(숫자, 기호)\n",
    "phonenumber = re.compile(r'(\\d{3}-){2}\\d{4}')\n",
    "phone = phonenumber.search('This is my phone number 010-111-1111')\n",
    "if phone:\n",
    "  print(phone.group())\n",
    "print('------')\n",
    "phone = phonenumber.match ('This is my phone number 010-111-1111')\n",
    "if phone:\n",
    "  print(phone.group())"
   ]
  },
  {
   "cell_type": "markdown",
   "id": "7c726c96",
   "metadata": {},
   "source": [
    "- \\d{3}-이 두 번 반복되는 반복성이 보이므로 (\\d{3}-){2}로 바꿀 수 있다."
   ]
  },
  {
   "cell_type": "code",
   "execution_count": 31,
   "id": "77abdd12",
   "metadata": {},
   "outputs": [
    {
     "data": {
      "text/plain": [
       "['doingharu@aiffel.com', 'tomorrow@aiffel.com']"
      ]
     },
     "execution_count": 31,
     "metadata": {},
     "output_type": "execute_result"
    }
   ],
   "source": [
    "# 이메일(알파벳, 숫자, 기호)\n",
    "text = \"My e-mail adress is doingharu@aiffel.com, and tomorrow@aiffel.com\"\n",
    "pattern = re.compile(\"[0-9a-zA-Z]+@[0-9a-z]+\\.[0-9a-z]+\")\n",
    "pattern.findall(text)"
   ]
  },
  {
   "cell_type": "markdown",
   "id": "72c56769",
   "metadata": {},
   "source": [
    "- @기호를 중심으로 앞부분과 뒷부분으로 나눈다. @ 앞에는 [0-9a-zA-Z]+이 나오고 뒤에는 [0-9a-z]+\\.[0-9a-z]+가 나온다. 앞부분 [0-9a-zA-Z]+를 보면 숫자 0 ~ 9, 알파벳 대소문자([0-9a-zA-Z])가 여러 번(+) 등장한다는 뜻인데, 이 경우 modu.lab@aiffel.com 형식의 메일 주소는 검출이 안 될 것이다. 뒷부분 [0-9a-z]+\\.[0-9a-z]+은 다시 가운데 \\.을 중심으로 앞부분과 뒷부분으로 나눠볼 수 있다. [0-9a-z]+은 숫자 0 ~ 9, 알파벳 소문자가 여러 번 나타난다는 의미이다. 이메일 사이트 주소에 해당하는 부분이다. 다만 123.4567 처럼 .com외에 다양한 도메인이 허용이 되는 허점이 있을 수 있다."
   ]
  },
  {
   "cell_type": "markdown",
   "id": "a2dbfc3b",
   "metadata": {},
   "source": [
    "### 구현 순서\n",
    "- 정규 표현식을 구현한 순서를 그림으로 표현하면 다음과 같다. \n",
    " - import re 를 통해 정규식 모듈을 가져온다.\n",
    " - re.compile() 함수로 Regex 객체를 만든다.\n",
    " - 검색할 문자열을 Regex 객체의 search() , findall() 메소드로 전달한다.\n",
    "![정규표현식 구현](https://user-images.githubusercontent.com/116326867/226264754-4a09c3b0-1957-4298-b70a-1995e56af90f.png)"
   ]
  },
  {
   "cell_type": "markdown",
   "id": "ea4fcc8e",
   "metadata": {},
   "source": [
    "## 12-5. 파일과 디렉터리 (1) 파일\n",
    "- 텍스트 데이터를 문자열로 나타낸 후 변수에 저장했다. 변수에 저장되는 데이터는 컴퓨터 메모리에 저장된다. 메모리에 저장되는 데이터는 로드 및 액세스 속도가 빠르다는 장점이 있지만, 일정 전원이 공급되어야만 데이터가 보존된다. 즉, 프로그램이 실행되는 동안에만 데이터가 저장된다는 것이다. 이러한 데이터를 영구적으로 보존할 필요가 있기 때문에 우리는 보조기억장치에 데이터를 저장한다. 이것을 파일이라고 한다."
   ]
  },
  {
   "cell_type": "markdown",
   "id": "3263b5ab",
   "metadata": {},
   "source": [
    "### 파일\n",
    "#### write\n",
    "- 디스크 상에 저장된 파일을 읽거나, 수정하거나, 혹은 데이터를 파일로 저장하려면 우선 파일을 열어야한다. 파일을 열고 객체로 만들어 주는 작업을 한다."
   ]
  },
  {
   "cell_type": "code",
   "execution_count": 32,
   "id": "4fda90bc",
   "metadata": {},
   "outputs": [],
   "source": [
    "f = open(\"hello.txt\",\"w\") \n",
    "# open(파일명, 파일모드)\n",
    "# 파일을 열고 파일 객체를 반환한다.\n",
    "for i in range(10):\n",
    "    f.write(\"안녕\")\n",
    "    # write() 메서드로 '안녕' 10번 쓰기\n",
    "f.close()\n",
    "# 작업이 끝나면 close() 메서드로 닫아주기 - 필수!"
   ]
  },
  {
   "cell_type": "markdown",
   "id": "36287c43",
   "metadata": {},
   "source": [
    "#### read\n",
    "- hello.txt 파일이 정상적으로 만들어졌다면 주피터 커널을 실행했던 경로에 생성되어 있을 것이다. 파일 탐색기를 이용해 실제로 만들어진 것을 확인할 수 있다. 그 다음에는 파일을 읽어 본다."
   ]
  },
  {
   "cell_type": "code",
   "execution_count": 33,
   "id": "05e17efc",
   "metadata": {},
   "outputs": [
    {
     "name": "stdout",
     "output_type": "stream",
     "text": [
      "안녕안녕안녕안녕안녕안녕안녕안녕안녕안녕\n"
     ]
    }
   ],
   "source": [
    "with open(\"hello.txt\", \"r\") as f:\n",
    "  print(f.read())"
   ]
  },
  {
   "cell_type": "markdown",
   "id": "32e95513",
   "metadata": {},
   "source": [
    "- hello.txt 파일에 저장된 내용이 읽힌 것을 확인할 수 있다. 여기서 with 구문을 사용해서 파일을 열어서 파일 객체를 f로 받아서 f.read()를 통해 내용을 읽었는데, f.close()를 명시적으로 호출하지 않는다. with를 통해 open된 객체는 with 문이 종료될 때 자동으로 close 되는 것이 보장되기 때문이다. 시스템 리소스의 안정적 사용을 위해 with 문을 활용하는 것이 좋다."
   ]
  },
  {
   "cell_type": "markdown",
   "id": "c03eb37a",
   "metadata": {},
   "source": [
    "파일 관련 메서드\n",
    "- f.read() : 파일을 읽는다.\n",
    "- f.readline() : 파일을 한 줄씩 읽는다.\n",
    "- f.readlines() : 파일 안의 모든 줄을 읽어 그 값을 리스트로 반환한다.\n",
    "- f.write(str) : 파일에 쓴다. 문자열 타입을 인자로 받는다.\n",
    "- f.writelines(str) : 파일에 인자를 한 줄씩 쓴다.\n",
    "- f.close() : 파일을 닫는다.\n",
    "- f.seek(offset) : 해당 파일의 위치(offset)를 찾아 파일의 커서를 옮긴다. 파일의 처음 위치는 0이다.\n",
    "- f.tell(): 현재 커서의 위치를 반환한다."
   ]
  },
  {
   "cell_type": "markdown",
   "id": "281d2701",
   "metadata": {},
   "source": [
    "예제"
   ]
  },
  {
   "cell_type": "code",
   "execution_count": 34,
   "id": "6fa00221",
   "metadata": {},
   "outputs": [],
   "source": [
    "quotes = [\"\\n안녕하세요.\\n\", \"반갑습니다.\\n\", \"오랜만입니다.\\n\"]\n",
    "\n",
    "with open(\"hello.txt\", \"a\") as f:              # 위에서 만든 파일에 이어서 쓰기 \n",
    "    f.writelines(quotes)"
   ]
  },
  {
   "cell_type": "code",
   "execution_count": 35,
   "id": "3882761a",
   "metadata": {},
   "outputs": [
    {
     "name": "stdout",
     "output_type": "stream",
     "text": [
      "위치 : 115\n",
      "['안녕안녕안녕안녕안녕안녕안녕안녕안녕안녕\\n', '안녕하세요.\\n', '반갑습니다.\\n', '오랜만입니다.\\n']\n",
      "----------------------------------------------------\n",
      "위치 : 10\n"
     ]
    }
   ],
   "source": [
    "with open('hello.txt', 'r') as f:\n",
    "    hello = f.readlines()\n",
    "    print(f'위치 : {f.tell()}')\n",
    "    print(hello)\n",
    "    print(\"----------------------------------------------------\")\n",
    "    f.seek(10)\n",
    "    print(f'위치 : {f.tell()}')"
   ]
  },
  {
   "cell_type": "markdown",
   "id": "f99931bf",
   "metadata": {},
   "source": [
    "## 12-6. 파일과 디렉터리 (2) 디렉터리\n",
    "### 디렉터리\n",
    "- 파일을 다룰 때 중요한 것 중 하나가 파일이 저장된 위치이다. 파일이 어느 폴더(디렉터리)에 저장되어 있는가가 매우 중요하다. 저장한 파일명이 project.txt이고 그 경로가 C:\\Users\\person\\Documents라고 할 때, C 드라이브에 있는 Users 폴더에 속한 person 폴더에 있는 Documents 폴더에 project.txt라는 파일이 저장되어 있다는 뜻이다. 이러한 경로의 최상위 폴더를 루트 디렉터리(root directory)라고 부른다.\n",
    " - Window 운영 체제 : C:\\\n",
    " - Linux 계열 운영 체제 : /\n",
    "- 리눅스 파일 시스템 관련 영상 : [Linux(Unix) 파일 시스템 구조](https://www.youtube.com/watch?v=hZ6j_g_O3Ts)\n",
    " - 리눅스에서 실행 파일을 보관하는 폴더 : /bin (단, 시스템 실행파일의 경우 /sbin)\n",
    " - 리눅스 명령어 : pwd, cd, ls, cp, mv 등 / [리눅스 명령어](https://itholic.github.io/linux-basic-command/)"
   ]
  },
  {
   "cell_type": "markdown",
   "id": "79914c1f",
   "metadata": {},
   "source": [
    "## 12-7. 파일과 디렉터리 (3) 모듈과 패키지\n",
    "### 파이썬 파일은 어디에 저장될까?\n",
    "- 파이썬에서는 지원하는 디렉터리 관련 표준 라이브러리는 다음과 같다. 아래 모듈들을 import 해서 디렉터리 관련 작업을 하는 것이다.\n",
    " - sys\n",
    " - os\n",
    " - glob"
   ]
  },
  {
   "cell_type": "code",
   "execution_count": 36,
   "id": "047d9b33",
   "metadata": {},
   "outputs": [
    {
     "data": {
      "text/plain": [
       "'/opt/conda/bin/python'"
      ]
     },
     "execution_count": 36,
     "metadata": {},
     "output_type": "execute_result"
    }
   ],
   "source": [
    "# 현재 실행되고 있는 파이썬 실행 파일의 디렉터리를 반환\n",
    "import sys\n",
    "sys.executable"
   ]
  },
  {
   "cell_type": "markdown",
   "id": "a6ef0a69",
   "metadata": {},
   "source": [
    "- 실행 파일은 파이썬이 실행될 때 참조하는 것으로 운영 체제 및 파이썬 인터프리터가 참조하는 경로이다. 따라서 실제로 프로그래밍할 때 이런 항목을 확인하지는 않는다. pip이나 conda 명령어를 통해 설치한 라이브러리 관련 파일의 위치를 확인하는 것이 필요하다."
   ]
  },
  {
   "cell_type": "code",
   "execution_count": 37,
   "id": "0b972fbc",
   "metadata": {},
   "outputs": [
    {
     "data": {
      "text/plain": [
       "['/aiffel/aiffel',\n",
       " '/aiffel/storage/package',\n",
       " '/opt/conda/lib/python39.zip',\n",
       " '/opt/conda/lib/python3.9',\n",
       " '/opt/conda/lib/python3.9/lib-dynload',\n",
       " '',\n",
       " '/opt/conda/lib/python3.9/site-packages',\n",
       " '/opt/conda/lib/python3.9/site-packages/IPython/extensions',\n",
       " '/aiffel/.ipython']"
      ]
     },
     "execution_count": 37,
     "metadata": {},
     "output_type": "execute_result"
    }
   ],
   "source": [
    "# 임포트할 때 불러 오는 모듈들이 위치한 경로\n",
    "sys.path"
   ]
  },
  {
   "cell_type": "markdown",
   "id": "9d1bb550",
   "metadata": {},
   "source": [
    "### 파이썬 모듈 및 패키지 개념 정리\n",
    "![모듈 및 패키지](https://user-images.githubusercontent.com/116326867/226270540-3f293cdc-3828-402b-931c-1b7938ad5693.png)"
   ]
  },
  {
   "cell_type": "markdown",
   "id": "858b4b8f",
   "metadata": {},
   "source": [
    "#### 개념\n",
    "- 모듈(module) : 파이썬으로 만든 코드가 들어간 파일 .py\n",
    "- 패키지(package) : 기능적으로 동일하거나 동일한 결과를 만드는 모듈들의 집합 또는 폴더. 종종 라이브러리라고도 불린다.\n",
    "- 라이브러리(library) : 모듈과 패키지의 집합. 패키지보다 포괄적인 개념이나 패키지와 혼용되어 사용되기도 한다.\n",
    "- PIP(Package Installer for Python) : 패키지 관리자로 파이썬을 설치하면 기본으로 설치된다.\n",
    "- PyPA(Python Packaging Authority) : 파이선 패키지를 관리하고 유지하는 그룹\n",
    "- PyPI(The Python Package Index) : 파이썬 패키지들의 저장소"
   ]
  },
  {
   "cell_type": "markdown",
   "id": "7e8100b5",
   "metadata": {},
   "source": [
    "#### 함수\n",
    "- sys.path : 현재 폴더와 파이썬 모듈들이 저장되는 위치를 리스트 형태로 반환\n",
    "- sys.path.append() : 자신이 만든 모듈의 경로를 append 함수를 이용해서 추가함. 그 후 추가한 디렉터리에 있는 파이썬 모듈을 불러와 사용할 수 있다.\n",
    "- os.chdir() : 디렉터리 위치 변경\n",
    "- os.getcwd() : 현재 자신의 디렉터리 위치를 반환\n",
    "- os.mkdir() : 디렉터리 생성\n",
    "- os.rmdir() : 디렉터리 삭제 (단, 디렉터리가 비어 있을 경우)\n",
    "- glob.glob() : 해당 경로 안의 디렉터리나 파일들을 리스트 형태로 반환\n",
    "- os.path.join() : 경로(path)를 병합하여 새 경로 생성\n",
    "- os.listdir() : 디렉터리 안의 파일 및 서브 디렉터리를 리스트 형태로 반환\n",
    "- os.path.exists() : 파일 혹은 디렉터리의 경로 존재 여부 확인\n",
    "- os.path.isfile() : 파일 경로의 존재 여부 확인\n",
    "- os.path.isdir() : 디렉터리 경로의 존재 여부 확인\n",
    "- os.path.getsize() : 파일의 크기 확인"
   ]
  },
  {
   "cell_type": "markdown",
   "id": "941b8dd3",
   "metadata": {},
   "source": [
    "## 12-8. 여러가지 파일 포맷 다루기 (1) CSV 파일\n",
    "### CSV\n",
    "- CSV는 Comma Seperated Value의 약자로, 쉼표로 구분된 파일을 말한다. 각각의 칼럼(column)을 쉼표(,)로 구분한다. "
   ]
  },
  {
   "cell_type": "code",
   "execution_count": 38,
   "id": "14685615",
   "metadata": {},
   "outputs": [],
   "source": [
    "# csv 파일을 만들어 보기\n",
    "billboardchart = {\n",
    "                 1 : [\"Tho Box\",\"Roddy Ricch\",\"2019-12-19\"],\n",
    "                 2 : [\"Don't Start Now\", \"Dua Lipa\", \"2019-11-01\"],\n",
    "                 3 : [\"Life Is Good\", \"Future Featuring Drake\", \"2020-02-10\"],\n",
    "                 4 : [\"Blinding\", \"The Weeknd\", \"2019-11-29\"],\n",
    "                 5 : [\"Circles\", \"Post Malone\",\"2019-08-30\"]}\n",
    "\n",
    "with open(\"billboardchart.csv\",\"w\") as f:\n",
    "    for i in billboardchart.values():\n",
    "        data = \",\".join(i)\n",
    "        f.write(data+\"\\n\")"
   ]
  },
  {
   "cell_type": "markdown",
   "id": "9d09df92",
   "metadata": {},
   "source": [
    "- 위의 데이터는 빌보드 차트 1위~5위까지의 곡들이다. 각 키(key)는 순위를, 값(value)은 곡명, 가수, 그리고 발매일에 대한 정보를 가지고 있다. 코드 실행을 통해 billboardchart.csv 파일을 생성한다."
   ]
  },
  {
   "cell_type": "code",
   "execution_count": 39,
   "id": "4e7c7bda",
   "metadata": {},
   "outputs": [],
   "source": [
    "import csv\n",
    "\n",
    "header = [\"title\", \"singer\", \"released date\"]\n",
    "\n",
    "with open(\"billboardchart.csv\",\"r\") as inputfile:\n",
    "    with open(\"billboardchart_out.csv\",\"w\", newline='\\n') as outputfile:\n",
    "        fi = csv.reader(inputfile, delimiter=',')\n",
    "        fo = csv.writer(outputfile, delimiter=',')\n",
    "        fo.writerow(header)\n",
    "        for row in fi:\n",
    "            fo.writerow(row)"
   ]
  },
  {
   "cell_type": "markdown",
   "id": "df3d1b5b",
   "metadata": {},
   "source": [
    "- csv 파일은 주피터 실행 경로에 저장되어 있다. 각 칼럼이 무엇을 의미하는지 추가하기 위해 첫 번째 줄에 title, singer, released date를 헤더로 추가한다."
   ]
  },
  {
   "cell_type": "markdown",
   "id": "031a90b8",
   "metadata": {},
   "source": [
    "### CSV 파일과 Pandas\n",
    "- 판다스(pandas)의 DataFrame은 to_csv 메서드를 지원한다. 이 메서드를 이용하면 csv 파일로 쉽게 저장할 수 있다. 데이터를 준비한 뒤 판다스를 활용해 csv 파일로 저장해 본다."
   ]
  },
  {
   "cell_type": "code",
   "execution_count": 40,
   "id": "2b765979",
   "metadata": {},
   "outputs": [],
   "source": [
    "# 1. 데이터 준비하기\n",
    "fields = [\"title\", \"singer\", \"released date\"]\n",
    "rows = [ [\"Tho Box\",\"Roddy Ricch\",\"2019-12-19\"],\n",
    "               [\"Don't Start Now\", \"Dua Lipa\", \"2019-11-01\"],\n",
    "               [\"Life Is Good\", \"Future Featuring Drake\", \"2020-02-10\"],\n",
    "               [\"Blinding\", \"The Weeknd\", \"2019-11-29\"],\n",
    "               [\"Circles\", \"Post Malone\",\"2019-08-30\"]]"
   ]
  },
  {
   "cell_type": "code",
   "execution_count": 41,
   "id": "fce625e2",
   "metadata": {},
   "outputs": [],
   "source": [
    "# 2. 판다스를 이용해 데이터를 csv 파일로 저장하기\n",
    "import pandas as pd\n",
    "\n",
    "df=pd.DataFrame(rows, columns=fields)\n",
    "df.to_csv('pandas.csv',index=False)"
   ]
  },
  {
   "cell_type": "code",
   "execution_count": 42,
   "id": "b0cbd9ae",
   "metadata": {},
   "outputs": [],
   "source": [
    "# 3. 동일한 내용을 csv.writer를 이용해 수행하기\n",
    "import csv \n",
    "\n",
    "filename = \"test.csv\"\n",
    "with open(filename, 'w+', newline='\\n') as csv_file: \n",
    "    csv_writer = csv.writer(csv_file) \n",
    "    csv_writer.writerow(fields) \n",
    "    csv_writer.writerows(rows)\n",
    " # test.csv 파일을 직접 열어서 확인해보기"
   ]
  },
  {
   "cell_type": "code",
   "execution_count": 43,
   "id": "3dfbcce7",
   "metadata": {},
   "outputs": [
    {
     "data": {
      "text/html": [
       "<div>\n",
       "<style scoped>\n",
       "    .dataframe tbody tr th:only-of-type {\n",
       "        vertical-align: middle;\n",
       "    }\n",
       "\n",
       "    .dataframe tbody tr th {\n",
       "        vertical-align: top;\n",
       "    }\n",
       "\n",
       "    .dataframe thead th {\n",
       "        text-align: right;\n",
       "    }\n",
       "</style>\n",
       "<table border=\"1\" class=\"dataframe\">\n",
       "  <thead>\n",
       "    <tr style=\"text-align: right;\">\n",
       "      <th></th>\n",
       "      <th>title</th>\n",
       "      <th>singer</th>\n",
       "      <th>released date</th>\n",
       "    </tr>\n",
       "  </thead>\n",
       "  <tbody>\n",
       "    <tr>\n",
       "      <th>0</th>\n",
       "      <td>Tho Box</td>\n",
       "      <td>Roddy Ricch</td>\n",
       "      <td>2019-12-19</td>\n",
       "    </tr>\n",
       "    <tr>\n",
       "      <th>1</th>\n",
       "      <td>Don't Start Now</td>\n",
       "      <td>Dua Lipa</td>\n",
       "      <td>2019-11-01</td>\n",
       "    </tr>\n",
       "    <tr>\n",
       "      <th>2</th>\n",
       "      <td>Life Is Good</td>\n",
       "      <td>Future Featuring Drake</td>\n",
       "      <td>2020-02-10</td>\n",
       "    </tr>\n",
       "    <tr>\n",
       "      <th>3</th>\n",
       "      <td>Blinding</td>\n",
       "      <td>The Weeknd</td>\n",
       "      <td>2019-11-29</td>\n",
       "    </tr>\n",
       "    <tr>\n",
       "      <th>4</th>\n",
       "      <td>Circles</td>\n",
       "      <td>Post Malone</td>\n",
       "      <td>2019-08-30</td>\n",
       "    </tr>\n",
       "  </tbody>\n",
       "</table>\n",
       "</div>"
      ],
      "text/plain": [
       "             title                  singer released date\n",
       "0          Tho Box             Roddy Ricch    2019-12-19\n",
       "1  Don't Start Now                Dua Lipa    2019-11-01\n",
       "2     Life Is Good  Future Featuring Drake    2020-02-10\n",
       "3         Blinding              The Weeknd    2019-11-29\n",
       "4          Circles             Post Malone    2019-08-30"
      ]
     },
     "execution_count": 43,
     "metadata": {},
     "output_type": "execute_result"
    }
   ],
   "source": [
    "# csv 파일을 DataFrame으로 변환하기\n",
    "df = pd.read_csv('pandas.csv')\n",
    "df.head()"
   ]
  },
  {
   "cell_type": "markdown",
   "id": "9300b099",
   "metadata": {},
   "source": [
    "![csv파일](https://user-images.githubusercontent.com/116326867/226273317-639216d5-d05f-4c7b-a904-954557de15c2.png)"
   ]
  },
  {
   "cell_type": "markdown",
   "id": "836ac05c",
   "metadata": {},
   "source": [
    "## 12-9. 여러가지 파일 포맷 다루기 (2) XML 파일\n",
    "### XML\n",
    "- XML은 Extensible Markup Language의 약자로, 다목적 마크업 언어이다. 기존에 HTML을 접한 적이 있다면 마크업 언어가 익숙할 것인데, 인터넷 웹상에서 문서 즉, 내용을 교환할 때 이러한 마크업 언어를 이용한다. 마크업 언어를 아주 간단하게 말한다면, 태그라고 불리는 꺾쇠 모양의 괄호(< >)로 구분된 언어라고 할 수 있다. API에서 데이터를 요청하고 저장할 때 XML이나 JSON 형식을 이용해 데이터를 교환한다."
   ]
  },
  {
   "cell_type": "markdown",
   "id": "66ad115a",
   "metadata": {},
   "source": [
    "XML 파일 예시\n",
    "![예시](https://user-images.githubusercontent.com/116326867/226274111-1826aeb7-2198-4305-b062-cfa796a7c641.png)"
   ]
  },
  {
   "cell_type": "markdown",
   "id": "598d3fdd",
   "metadata": {},
   "source": [
    "#### WHO athena API GHO\n",
    "- 아래 예시는 세계보건기구(WHO)에서 제공하는 데이터 API 정보의 XML 파일 일부를 추출한 것이다. XML 파일이 어떤 식으로 구성이 되어 있는지 살펴볼 수 있다. \n",
    " - 참고 : [전체 파일](https://apps.who.int/gho/athena/api/GHO) -> 주의! 웹사이트에서 다운로드할 경우 데이터의 내용이 업데이트될 수 있다.\n",
    "![예시](https://user-images.githubusercontent.com/116326867/226274846-cab59831-f4e8-4eb6-9e92-50c595563150.png)"
   ]
  },
  {
   "cell_type": "markdown",
   "id": "561afce0",
   "metadata": {},
   "source": [
    "- XML 파일을 훑어보면 꺾쇠(<글자>)가 정말 많이 보인다. 이 부분을 태그(tag)라고 부르는데, 위 파일에는 < Workbook >, < Data > 등의 태그들로 구성되어 있음을 확인할 수 있다. 태그는 기본적으로 <태그> 내용 </태그> 형태로 구성되어 있지만, 태그에 속성(attribute)값이 포함될 수도 있다.\n",
    "![태그](https://user-images.githubusercontent.com/116326867/226275270-75973661-7eb3-468f-9fe2-b984df587903.png)"
   ]
  },
  {
   "cell_type": "markdown",
   "id": "49aae39f",
   "metadata": {},
   "source": [
    "- 상위 태그 안에 하위 태그가 속해 있을 수 있는데, 이런 관계를 부모-자식 관계라고 한다. 아래를 보면 < Table > 태그는 < Row >, < Cell >, 그리고 < Data > 태그를 자식 태그로 가지고 있다는 것을 알 수 있다.\n",
    "![태그](https://user-images.githubusercontent.com/116326867/226275724-0e47bb44-f630-40c9-8ab1-359e118daa8c.png)"
   ]
  },
  {
   "cell_type": "markdown",
   "id": "8f434256",
   "metadata": {},
   "source": [
    "#### 정리\n",
    "- XML은 다목적 마크업 언어(Extensible Markup Language)이다.\n",
    "- 마크업 언어는 태그(tag)로 이루어진 언어를 말하며, 상위(부모) 태그 - 하위(자식) 태그의 계층적 구조로 되어 있다.\n",
    "- XML은 요소(element)들로 이루어져 있다.\n",
    "- 요소는 <열린 태그> 내용 </닫힌 태그>가 기본적인 구조이며, 속성(attribute) 값을 가질 수도 있다."
   ]
  },
  {
   "cell_type": "markdown",
   "id": "2abe05e1",
   "metadata": {},
   "source": [
    "### XML 파일 만들기\n",
    "#### ElementTree\n",
    "- 파이썬 표준 라이브러리인 ElementTree는 XML 관련 기능을 다음과 같이 제공한다.\n",
    " - Element() : 태그 생성\n",
    " - SubElement() : 자식 태그 생성\n",
    " - tag : 태그 이름\n",
    " - text : 텍스트 내용 생성\n",
    " - attrib : 속성 생성\n",
    "\n",
    "#### dump()\n",
    "- 생성된 XML 요소 구조를 시스템(sys.stdout)에 사용한다. 출력 형식은 일반 XML 파일로 기록된다.\n",
    " - write() : XML 파일로 저장\n",
    " - 리스트(list)와 유사한 메서드를 제공 : append(), insert(), remove(), pop()"
   ]
  },
  {
   "cell_type": "code",
   "execution_count": 44,
   "id": "a79a063e",
   "metadata": {},
   "outputs": [
    {
     "name": "stdout",
     "output_type": "stream",
     "text": [
      "<Person><name>이펠</name><age>28</age><place>강남</place></Person>\n"
     ]
    }
   ],
   "source": [
    "# person XML을 만드는 코드\n",
    "import xml.etree.ElementTree as ET\n",
    "\n",
    "person = ET.Element(\"Person\")\n",
    "name = ET.Element(\"name\")\n",
    "name.text = \"이펠\"\n",
    "person.append(name)\n",
    "\n",
    "age = ET.Element(\"age\")\n",
    "age.text = \"28\"\n",
    "person.append(age)\n",
    "\n",
    "ET.SubElement(person, 'place').text = '강남'\n",
    "\n",
    "ET.dump(person)"
   ]
  },
  {
   "cell_type": "markdown",
   "id": "c91d5dc5",
   "metadata": {},
   "source": [
    "- 다음과 같은 XML 파일이 만들어진다.\n",
    "![XML파일](https://user-images.githubusercontent.com/116326867/226276757-75514137-fd59-4134-b4ce-de41249bfa4e.png)"
   ]
  },
  {
   "cell_type": "code",
   "execution_count": 45,
   "id": "88d2ebd0",
   "metadata": {},
   "outputs": [
    {
     "name": "stdout",
     "output_type": "stream",
     "text": [
      "<Person id=\"0x0001\"><firstname>이펠</firstname><age>28</age><place>강남</place></Person>\n"
     ]
    }
   ],
   "source": [
    "# 속성값과 name 태그명 변경하기\n",
    "person.attrib[\"id\"] = \"0x0001\"\n",
    "name.tag = \"firstname\"\n",
    "ET.dump(person)"
   ]
  },
  {
   "cell_type": "markdown",
   "id": "af926aa3",
   "metadata": {},
   "source": [
    "- 속성값은 attrib 란 메서드를, name 태그명은 tag 메서드를 이용해 변경한다.\n",
    "![변경](https://user-images.githubusercontent.com/116326867/226277130-350d4c47-7011-41fe-85b3-3c5b93bbd34d.png)"
   ]
  },
  {
   "cell_type": "code",
   "execution_count": 46,
   "id": "146bb46c",
   "metadata": {},
   "outputs": [
    {
     "name": "stdout",
     "output_type": "stream",
     "text": [
      "<Person id=\"0x0001\"><firstname>이펠</firstname><lastname date=\"2020-03-20\">아</lastname><age>28</age><place>강남</place></Person>\n"
     ]
    }
   ],
   "source": [
    "# lastname이라는 태그를 firstname 태그 다음으로 삽입하고 속성에 date 넣어보기\n",
    "lastname = ET.Element('lastname', date='2020-03-20')\n",
    "lastname.text = '아'\n",
    "person.insert(1,lastname)\n",
    "ET.dump(person)"
   ]
  },
  {
   "cell_type": "markdown",
   "id": "f15bd476",
   "metadata": {},
   "source": [
    "- 속성은 태그를 생성하는 함수인 Element 의 인자로 넣어 주어도 된다. firstname 태그의 다음이니까 인덱스 번호는 1번이 된다. insert() 를 이용해 인덱스 번호와 태그 이름을 삽입한다. 리스트의 insert() 와 형태가 동일하다.\n",
    "![추가](https://user-images.githubusercontent.com/116326867/226277637-506fe6a2-1b8c-47a9-8242-4d754ad9530e.png)"
   ]
  },
  {
   "cell_type": "code",
   "execution_count": 47,
   "id": "ce852c6e",
   "metadata": {},
   "outputs": [],
   "source": [
    "# 삭제\n",
    "person.remove(age)"
   ]
  },
  {
   "cell_type": "markdown",
   "id": "f5167ff8",
   "metadata": {},
   "source": [
    "- remove() 혹은 pop() 을 이용하여 삭제할 수 있다. 이를 이용하여 age 태그를 지운다."
   ]
  },
  {
   "cell_type": "code",
   "execution_count": 48,
   "id": "4f2ad9c9",
   "metadata": {},
   "outputs": [],
   "source": [
    "# XML 파일로 저장하기\n",
    "ET.ElementTree(person).write('person.xml')"
   ]
  },
  {
   "cell_type": "code",
   "execution_count": 49,
   "id": "b1847b0e",
   "metadata": {},
   "outputs": [
    {
     "name": "stdout",
     "output_type": "stream",
     "text": [
      "'(11.01)iris 분류.ipynb'\r\n",
      "'(11.02)랜덤 조짜기.ipynb'\r\n",
      "'(11.07) 밑시딥.ipynb'\r\n",
      "'(11.12)밑시딥 3.ipynb'\r\n",
      "'데이터분석 ABC_5,6.ipynb'\r\n",
      " activation\r\n",
      " aiffel\r\n",
      " aiffelthon\r\n",
      " barplot.png\r\n",
      " bike_regression\r\n",
      " billboardchart.csv\r\n",
      " billboardchart_out.csv\r\n",
      " camera_sticker\r\n",
      " cifar-100-python\r\n",
      " class_\r\n",
      " class_activation_map\r\n",
      " conda\r\n",
      " conditional_generation\r\n",
      " data\r\n",
      " data_analysis_basic\r\n",
      " data_augmentation\r\n",
      " dcgan_newimage\r\n",
      " envs\r\n",
      "'[F-12]텍스트의 다양한 변신 (문자열, 파일 다루기).ipynb'\r\n",
      "'[F-14]포켓몬.ipynb'\r\n",
      "'[F-15]확률분포.ipynb'\r\n",
      "'[F-16]Likelihood(MLE&MAP).ipynb'\r\n",
      "'[F-18]Linear, Convolution.ipynb'\r\n",
      "'[F-19]Embedding, Recurrent.ipynb'\r\n",
      "'[F-20]Evaluation Matric.ipynb'\r\n",
      "'[F-21]Deep Learning.ipynb'\r\n",
      "'[F-22]Deep_Network.ipynb'\r\n",
      "'[F-23]활성화 함수의 이해.ipynb'\r\n",
      "'[F-25]비지도학습.ipynb'\r\n",
      "'[F-25]선형 회귀와 로지스틱 회귀.ipynb'\r\n",
      "'[F-26]Regularization.ipynb'\r\n",
      "'[F-28]sklearn_recommend_system.ipynb'\r\n",
      "'[F-29]information_theory.ipynb'\r\n",
      "'[F-30]Crawling.ipynb'\r\n",
      " face_detector\r\n",
      "'[GD-16]Pose_basic.ipynb'\r\n",
      " hello.txt\r\n",
      " human_segmentation\r\n",
      " image\r\n",
      " information_theory\r\n",
      "'파이토치 딥러닝 마스터.ipynb'\r\n",
      " kaggle_kakr_housing\r\n",
      " lost+found\r\n",
      " lyricist\r\n",
      " model.png\r\n",
      " model.pth\r\n",
      " movie_recommendation\r\n",
      " mycalculator.py\r\n",
      " news_crawler\r\n",
      " news_summarization\r\n",
      " news_summary_more.csv\r\n",
      " object_detection\r\n",
      " ocr\r\n",
      " ocr_python\r\n",
      " pandas.csv\r\n",
      " person.xml\r\n",
      " pokemon_eda\r\n",
      " __pycache__\r\n",
      " python_image_proc\r\n",
      " recommendata_iu\r\n",
      " rock_scissor_paper\r\n",
      " semantic_segmentation\r\n",
      " sentiment_classification\r\n",
      " stock_prediction\r\n",
      "'[Study]알고리즘 5회.ipynb'\r\n",
      "'[Study]알고리즘 6회.ipynb'\r\n",
      "'[Study]알고리즘 7회.ipynb'\r\n",
      " test.csv\r\n",
      "'titanic tutorial_2.ipynb'\r\n",
      " transformer_chatbot\r\n",
      " translator_seq2seq\r\n",
      " unsupervised\r\n",
      " Untitled1.ipynb\r\n",
      " Untitled.ipynb\r\n"
     ]
    }
   ],
   "source": [
    "# 저장되었는지 확인\n",
    "!ls"
   ]
  },
  {
   "cell_type": "markdown",
   "id": "6aca81fe",
   "metadata": {},
   "source": [
    "### XML 파싱하기\n",
    "- XML 파일을 파싱해 본다. 파싱(parsing, 구문 분석)이란 어떤 문자열을 의미 있는 토큰(token)으로 분해해, 문법적 의미와 구조를 반영한 파스 트리(parse tree)를 만드는 과정이다. XML 문서를 파싱하게 되면 특정 태그명이나 속성값 등을 불러올 수 있다.\n",
    "![파싱트리](https://user-images.githubusercontent.com/116326867/226278328-edb97548-826b-4612-bcad-29253e856196.png)\n",
    "- 파이썬에서는 그 방법으로 크게 2가지를 제공한다. 위에서 본 ElementTree가 첫 번째이고, 다른 하나가 바로 BeautifulSoup 라이브러리를 사용하는 것이다."
   ]
  },
  {
   "cell_type": "markdown",
   "id": "f1ae42c1",
   "metadata": {},
   "source": [
    "#### BeautifulSoup\n",
    "(1) 설치 및 확인\n",
    " - [BeautifulSoup](https://pypi.org/project/beautifulsoup4/)\n",
    " - [lxml](https://pypi.org/project/lxml/)"
   ]
  },
  {
   "cell_type": "code",
   "execution_count": 50,
   "id": "bcbc266f",
   "metadata": {},
   "outputs": [
    {
     "name": "stdout",
     "output_type": "stream",
     "text": [
      "Requirement already satisfied: beautifulsoup4 in /opt/conda/lib/python3.9/site-packages (4.6.0)\n",
      "\u001b[33mWARNING: Running pip as the 'root' user can result in broken permissions and conflicting behaviour with the system package manager. It is recommended to use a virtual environment instead: https://pip.pypa.io/warnings/venv\u001b[0m\u001b[33m\n",
      "\u001b[0mRequirement already satisfied: lxml in /opt/conda/lib/python3.9/site-packages (4.6.3)\n",
      "\u001b[33mWARNING: Running pip as the 'root' user can result in broken permissions and conflicting behaviour with the system package manager. It is recommended to use a virtual environment instead: https://pip.pypa.io/warnings/venv\u001b[0m\u001b[33m\n",
      "\u001b[0m"
     ]
    }
   ],
   "source": [
    "!pip install beautifulsoup4\n",
    "!pip install lxml"
   ]
  },
  {
   "cell_type": "code",
   "execution_count": 51,
   "id": "7f74cbdd",
   "metadata": {},
   "outputs": [
    {
     "name": "stdout",
     "output_type": "stream",
     "text": [
      "beautifulsoup4                4.6.0\n",
      "lxml                          4.6.3\n"
     ]
    }
   ],
   "source": [
    "!pip list | grep beautifulsoup4\n",
    "!pip list | grep lxml"
   ]
  },
  {
   "cell_type": "markdown",
   "id": "74d7734f",
   "metadata": {},
   "source": [
    "(2) books.xml 파일의 \"title\" 태그의 내용만 가져오기\n",
    "- 예제 파일\n",
    " - [books.xml](https://drive.google.com/file/d/14r-uaRigICAqKQrsz8VLswQ2lwnH6WZk/view?usp=share_link)\n",
    " - [출처](https://learn.microsoft.com/en-us/previous-versions/windows/desktop/ms762271(v%3Dvs.85))"
   ]
  },
  {
   "cell_type": "code",
   "execution_count": 52,
   "id": "ba0b95c1",
   "metadata": {},
   "outputs": [],
   "source": [
    "!mkdir -p ~/aiffel/ftext/data/\n",
    "!ln -s ~/data/books.xml ~/aiffel/ftext/data"
   ]
  },
  {
   "cell_type": "code",
   "execution_count": 53,
   "id": "6707f481",
   "metadata": {},
   "outputs": [
    {
     "name": "stdout",
     "output_type": "stream",
     "text": [
      "XML Developer's Guide\n",
      "Midnight Rain\n",
      "Maeve Ascendant\n",
      "Oberon's Legacy\n",
      "The Sundered Grail\n",
      "Lover Birds\n",
      "Splish Splash\n",
      "Creepy Crawlies\n",
      "Paradox Lost\n",
      "Microsoft .NET: The Programming Bible\n",
      "MSXML3: A Comprehensive Guide\n",
      "Visual Studio 7: A Comprehensive Guide\n"
     ]
    }
   ],
   "source": [
    "from bs4 import BeautifulSoup\n",
    "import os\n",
    "\n",
    "path = os.getenv(\"HOME\") + \"/aiffel/ftext/data/books.xml\"  \n",
    "with open(path, \"r\", encoding='utf8') as f:\n",
    "    booksxml = f.read() \n",
    "    # 파일을 문자열로 읽기\n",
    " \n",
    "soup = BeautifulSoup(booksxml,'lxml') \n",
    "# BeautifulSoup 객체 생성 : lxml parser를 이용해 데이터 분석\n",
    "\n",
    "for title in soup.find_all('title'): \n",
    "#  태그를 찾는 find_all 함수 이용\n",
    "    print(title.get_text())"
   ]
  },
  {
   "cell_type": "markdown",
   "id": "d79dddd5",
   "metadata": {},
   "source": [
    "- BeautifulSoup 다양한 메서드 : [BeautifulSoup](https://www.crummy.com/software/BeautifulSoup/bs4/doc/#parsing-xml)"
   ]
  },
  {
   "cell_type": "markdown",
   "id": "bc99b260",
   "metadata": {},
   "source": [
    "## 12-10. 여러가지 파일 포맷 다루기 (3) JSON 파일\n",
    "### JSON\n",
    "- JSON은 JavaScript Object Notation의 약자로, 웹 언어인 JavaScript의 데이터 객체 표현 방식이다. 웹 브라우저와 다른 애플리케이션 사이에서 HTTP 요청으로 데이터를 보낼 때 널리 사용하는 표준 파일 포맷 중 하나로, XML과 더불어 웹 API나 config 데이터를 전송할 때 많이 쓰인다.\n",
    "- 대표적인 예로 트위터는 [개발자용 사이트](https://developer.twitter.com/en)를 통해 여러 가지 API를 JSON 형태로 제공한다.\n",
    "- JSON 데이터의 예시\n",
    "![예시](https://user-images.githubusercontent.com/116326867/226281658-888fce46-2509-43b3-9ca4-b37fc7bfa41a.png)\n",
    " - 파이썬의 dictionary 타입과 매우 유사한 구조를 가지고 있다. CSV 파일에 비해 좀 더 유연하게 데이터를 표현할 수 있고 XML 파일보다 파일을 쉽게 읽고 쓸 수 있다는 장점이 있다. 뿐만 아니라 Javascript로 작성된 프로그램에서 쉽게 다룰 수 있다. 웹에서 JavaScript나 JavaScript 기반의 Framework가 많이 사용되고 있는 점을 미루어 봤을 때 이는 큰 강점이 될 수 있다."
   ]
  },
  {
   "cell_type": "markdown",
   "id": "382ff700",
   "metadata": {},
   "source": [
    "### JSON 파싱\n",
    "(1) JSON 파일 저장\n",
    "- 파이썬 dictionary 타입은 JSON으로 저장할 수 있다. person이라는 dict 객체를 JSON 파일로 저장해본다."
   ]
  },
  {
   "cell_type": "code",
   "execution_count": 54,
   "id": "72e1b5d1",
   "metadata": {},
   "outputs": [],
   "source": [
    "import json\n",
    "\n",
    "person = {\n",
    "      \"first name\" : \"Yuna\",\n",
    "      \"last name\" : \"Jung\",\n",
    "      \"age\" : 33,\n",
    "      \"nationality\" : \"South Korea\",\n",
    "      \"education\" : [{\"degree\":\"B.S degree\", \"university\":\"Daehan university\", \"major\": \"mechanical engineering\", \"graduated year\":2010}]\n",
    "       } \n",
    "\n",
    "with open(\"person.json\", \"w\") as f:\n",
    "    json.dump(person , f)"
   ]
  },
  {
   "cell_type": "markdown",
   "id": "d637fad4",
   "metadata": {},
   "source": [
    "(2) JSON 파일 읽기\n",
    "- 반대로, JSON 파일의 내용을 파이썬 dict 객체로 쉽게 읽어들일 수 있다."
   ]
  },
  {
   "cell_type": "code",
   "execution_count": 55,
   "id": "e41ca791",
   "metadata": {},
   "outputs": [
    {
     "name": "stdout",
     "output_type": "stream",
     "text": [
      "Yuna\n",
      "[{'degree': 'B.S degree', 'university': 'Daehan university', 'major': 'mechanical engineering', 'graduated year': 2010}]\n"
     ]
    }
   ],
   "source": [
    "import json\n",
    "\n",
    "with open(\"person.json\", \"r\", encoding=\"utf-8\") as f:\n",
    "    contents = json.load(f)\n",
    "    print(contents[\"first name\"])\n",
    "    print(contents[\"education\"])"
   ]
  }
 ],
 "metadata": {
  "kernelspec": {
   "display_name": "Python 3 (ipykernel)",
   "language": "python",
   "name": "python3"
  },
  "language_info": {
   "codemirror_mode": {
    "name": "ipython",
    "version": 3
   },
   "file_extension": ".py",
   "mimetype": "text/x-python",
   "name": "python",
   "nbconvert_exporter": "python",
   "pygments_lexer": "ipython3",
   "version": "3.9.7"
  }
 },
 "nbformat": 4,
 "nbformat_minor": 5
}
